{
 "cells": [
  {
   "cell_type": "code",
   "execution_count": 17,
   "metadata": {},
   "outputs": [
    {
     "name": "stderr",
     "output_type": "stream",
     "text": [
      "Warning in <TCanvas::Constructor>: Deleting canvas with same name: c\n"
     ]
    }
   ],
   "source": [
    "import ROOT as rt\n",
    "rt.gStyle.SetOptStat(0)\n",
    "\n",
    "c = rt.TCanvas('c','', 800, 600)\n",
    "c.SetLeftMargin(0.15)\n",
    "c.SetRightMargin(0.05)\n",
    "c.SetBottomMargin(0.13)\n",
    "c.SetTopMargin(0.05)"
   ]
  },
  {
   "cell_type": "code",
   "execution_count": 18,
   "metadata": {},
   "outputs": [],
   "source": [
    "dpmjet_infile = rt.TFile(\"root_out/old.root\")\n",
    "# dpmjet_infile = rt.TFile(\"output/epos_17f2a_fast.root\")\n",
    "phsd_infile = rt.TFile(\"root_out/out1.root\")\n",
    "\n",
    "dpmjet_indist = dpmjet_infile.Get(\"fTriggerDist_MC_no_eta_cut\")\n",
    "phsd_indist = phsd_infile.Get(\"fTriggerDist_MC_no_eta_cut\")\n",
    "# dpmjet_indist = dpmjet_inlist.FindObject(\"fTriggerDist_MC_no_eta_cut\")\n",
    "# phsd_indist = phsd_infile.Get(\"fTriggerDist_MC_no_eta_cut\")"
   ]
  },
  {
   "cell_type": "code",
   "execution_count": 19,
   "metadata": {},
   "outputs": [
    {
     "name": "stderr",
     "output_type": "stream",
     "text": [
      "Warning in <TFile::Append>: Replacing existing TH1: fTriggerDist_MC_no_eta_cut_proj_2 (Potential memory leak).\n"
     ]
    }
   ],
   "source": [
    "# dpmjet_indist.GetAxis(0).SetRangeUser(1.5, 4 - 0.0001)\n",
    "dpmjet_eta_dist = dpmjet_indist.Projection(2).Clone(\"dpmjet_eta_dist\")\n",
    "# dpmjet_eta_dist.GetXaxis().SetRangeUser(-2.0, 2.0 - 0.0001)\n",
    "dpmjet_eta_dist.Scale(1.0 / dpmjet_eta_dist.Integral())\n",
    "\n",
    "# phsd_indist.GetAxis(0).SetRangeUser(1.5, 4 - 0.0001)\n",
    "phsd_eta_dist = phsd_indist.Projection(2).Clone(\"phsd_eta_dist\")\n",
    "# phsd_eta_dist.GetXaxis().SetRangeUser(-2.0, 2.0 - 0.0001)\n",
    "phsd_eta_dist.Scale(1.0 / phsd_eta_dist.Integral())\n",
    "\n",
    "# phsd_indist.GetAxis(0).SetRangeUser(1.5, 4 - 0.0001)\n",
    "# phsd_eta_dist = phsd_indist.Projection(2).Clone(\"phsd_eta_dist\")\n",
    "# phsd_eta_dist.GetXaxis().SetRangeUser(-2.0, 2.0 - 0.0001)\n",
    "# phsd_eta_dist.Scale(1.0 / phsd_eta_dist.Integral())\n"
   ]
  },
  {
   "cell_type": "code",
   "execution_count": 20,
   "metadata": {},
   "outputs": [
    {
     "name": "stderr",
     "output_type": "stream",
     "text": [
      "Info in <TCanvas::Print>: pdf file eta_comp_lambda_zoomed.pdf has been created\n"
     ]
    },
    {
     "data": {
      "image/png": "[encoded data removed]",
      "text/plain": [
       "<IPython.core.display.Image object>"
      ]
     },
     "metadata": {},
     "output_type": "display_data"
    }
   ],
   "source": [
    "dpmjet_eta_dist.SetLineColor(rt.kBlue)\n",
    "dpmjet_eta_dist.SetLineWidth(2)\n",
    "\n",
    "phsd_eta_dist.SetLineColor(rt.kRed)\n",
    "phsd_eta_dist.SetLineWidth(2)\n",
    "\n",
    "dpmjet_eta_dist.SetTitle(\"\")\n",
    "dpmjet_eta_dist.GetXaxis().SetTitle(\"#eta\")\n",
    "dpmjet_eta_dist.GetYaxis().SetTitle(\"dN/d#eta\")\n",
    "\n",
    "phsd_eta_dist.SetTitle(\"\")\n",
    "phsd_eta_dist.GetXaxis().SetTitle(\"#eta\")\n",
    "phsd_eta_dist.GetYaxis().SetTitle(\"dN/d#eta\")\n",
    "\n",
    "phsd_eta_dist.Draw(\"hist\")\n",
    "# phsd_eta_dist2.Draw(\"hist same\")\n",
    "dpmjet_eta_dist.Draw(\"hist same\")\n",
    "\n",
    "\n",
    "legend = rt.TLegend(0.2, 0.7, 0.4, 0.9)\n",
    "legend.SetBorderSize(0)\n",
    "legend.SetFillStyle(0)\n",
    "legend.AddEntry(dpmjet_eta_dist, \"DPMJet\", \"l\")\n",
    "legend.AddEntry(phsd_eta_dist, \"PHSD\", \"l\")\n",
    "legend.Draw()\n",
    "c.Draw()\n",
    "c.SaveAs(\"eta_comp_lambda_zoomed.pdf\")"
   ]
  },
  {
   "cell_type": "code",
   "execution_count": null,
   "metadata": {},
   "outputs": [],
   "source": []
  }
 ],
 "metadata": {
  "kernelspec": {
   "display_name": "Python 3",
   "language": "python",
   "name": "python3"
  },
  "language_info": {
   "codemirror_mode": {
    "name": "ipython",
    "version": 3
   },
   "file_extension": ".py",
   "mimetype": "text/x-python",
   "name": "python",
   "nbconvert_exporter": "python",
   "pygments_lexer": "ipython3",
   "version": "3.9.2"
  },
  "orig_nbformat": 4
 },
 "nbformat": 4,
 "nbformat_minor": 2
}
