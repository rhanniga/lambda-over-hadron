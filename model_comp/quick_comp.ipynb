{
 "cells": [
  {
   "cell_type": "code",
   "execution_count": 1,
   "metadata": {},
   "outputs": [
    {
     "name": "stdout",
     "output_type": "stream",
     "text": [
      "Welcome to JupyROOT 6.28/02\n"
     ]
    }
   ],
   "source": [
    "import ROOT as rt\n",
    "\n",
    "rt.gStyle.SetOptStat(0)"
   ]
  },
  {
   "cell_type": "code",
   "execution_count": null,
   "metadata": {},
   "outputs": [],
   "source": [
    "c = rt.TCanvas('c', 'c', 800, 600)\n",
    "c.SetLeftMargin(0.15)\n",
    "c.SetBottomMargin(0.15)"
   ]
  },
  {
   "cell_type": "code",
   "execution_count": 2,
   "metadata": {},
   "outputs": [],
   "source": [
    "dpmjet_infile = rt.TFile.Open(\"dpmjet_0_80_2d_dists.root\")\n",
    "epos_infile = rt.TFile.Open(\"epos_0_80_2d_dists.root\")"
   ]
  },
  {
   "cell_type": "code",
   "execution_count": 3,
   "metadata": {},
   "outputs": [],
   "source": [
    "h_h_2d_dpmjet = dpmjet_infile.Get(\"h_h_2d\")\n",
    "h_h_2d_epos = epos_infile.Get(\"h_h_2d\")\n",
    "\n",
    "h_lambda_2d_dpmjet = dpmjet_infile.Get(\"h_lambda_2d\")\n",
    "h_lambda_2d_epos = epos_infile.Get(\"h_lambda_2d\")"
   ]
  },
  {
   "cell_type": "code",
   "execution_count": 4,
   "metadata": {},
   "outputs": [],
   "source": [
    "h_h_2d_dpmjet.SetTitle(\"\")\n",
    "h_h_2d_epos.SetTitle(\"\")\n",
    "h_lambda_2d_dpmjet.SetTitle(\"\")\n",
    "h_lambda_2d_epos.SetTitle(\"\")\n",
    "\n",
    "h_h_2d_dpmjet.GetXaxis().SetTitle(\"\\Delta\\eta\")\n",
    "h_h_2d_dpmjet.GetYaxis().SetTitle(\"\\Delta\\varphi\")\n",
    "h_h_2d_epos.GetXaxis().SetTitle(\"\\Delta\\eta\")\n",
    "h_h_2d_epos.GetYaxis().SetTitle(\"\\Delta\\varphi\")\n",
    "h_lambda_2d_dpmjet.GetXaxis().SetTitle(\"\\Delta\\eta\")\n",
    "h_lambda_2d_dpmjet.GetYaxis().SetTitle(\"\\Delta\\varphi\")\n",
    "h_lambda_2d_epos.GetXaxis().SetTitle(\"\\Delta\\eta\")\n",
    "h_lambda_2d_epos.GetYaxis().SetTitle(\"\\Delta\\varphi\")"
   ]
  },
  {
   "cell_type": "code",
   "execution_count": null,
   "metadata": {},
   "outputs": [],
   "source": [
    "h_h_2d_dpmjet.Draw(\"SURF1\")"
   ]
  }
 ],
 "metadata": {
  "kernelspec": {
   "display_name": "Python 3",
   "language": "python",
   "name": "python3"
  },
  "language_info": {
   "codemirror_mode": {
    "name": "ipython",
    "version": 3
   },
   "file_extension": ".py",
   "mimetype": "text/x-python",
   "name": "python",
   "nbconvert_exporter": "python",
   "pygments_lexer": "ipython3",
   "version": "3.9.2"
  },
  "orig_nbformat": 4
 },
 "nbformat": 4,
 "nbformat_minor": 2
}
