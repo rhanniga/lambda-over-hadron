{
 "cells": [
  {
   "cell_type": "code",
   "execution_count": 18,
   "metadata": {},
   "outputs": [],
   "source": [
    "import ROOT as rt\n",
    "\n",
    "import math\n",
    "import os\n",
    "import array as arr\n",
    "\n",
    "rt.gStyle.SetOptStat(0)"
   ]
  },
  {
   "cell_type": "code",
   "execution_count": 19,
   "metadata": {},
   "outputs": [
    {
     "name": "stderr",
     "output_type": "stream",
     "text": [
      "Warning in <TCanvas::Constructor>: Deleting canvas with same name: c\n"
     ]
    }
   ],
   "source": [
    "c = rt.TCanvas(\"c\",\"c\",800,600)\n",
    "c.SetLeftMargin(0.10)\n",
    "c.SetRightMargin(0.05)\n",
    "c.SetTopMargin(0.05)"
   ]
  },
  {
   "cell_type": "code",
   "execution_count": 20,
   "metadata": {},
   "outputs": [],
   "source": [
    "colors = [rt.kGreen - 2, rt.kRed, rt.kBlue, rt.kOrange, rt.kMagenta, rt.kCyan, rt.kYellow, rt.kGray, rt.kViolet, rt.kTeal, rt.kSpring, rt.kAzure, rt.kPink, rt.kCopper, rt.kOrange+7, rt.kSpring+9, rt.kTeal-7, rt.kAzure+2, rt.kPink+10, rt.kCopper+3, rt.kOrange-3, rt.kSpring-5, rt.kTeal+3, rt.kAzure-6, rt.kPink-7, rt.kCopper-9]"
   ]
  },
  {
   "cell_type": "code",
   "execution_count": 33,
   "metadata": {},
   "outputs": [],
   "source": [
    "def do_barlow(dphi_dict, name):\n",
    "\n",
    "    color_index = 0\n",
    "    central_dphi = dphi_dict[\"central value\"]\n",
    "    barlow_c = rt.TCanvas(\"test_c\",\"test_c\",800,600)\n",
    "    barlow_c.SetLeftMargin(0.10)\n",
    "    barlow_c.SetRightMargin(0.05)\n",
    "    barlow_c.SetTopMargin(0.05)\n",
    "    barlow_legend = rt.TLegend(0.15, 0.15, 0.32, 0.32)\n",
    "    barlow_legend.SetBorderSize(0)\n",
    "    for key in dphi_dict:\n",
    "        if key == \"central value\":\n",
    "            base_hist = rt.TH1D(\"barlow_base\",\"\", 16, -rt.TMath.Pi()/2, 3*rt.TMath.Pi()/2)\n",
    "            base_hist.GetXaxis().SetTitle(\"#Delta#varphi_{h-#Lambda}\")\n",
    "            base_hist.GetYaxis().SetTitle(\"(y_{var}-y_{central})/#sqrt{|#sigma_{var}^{2} - #sigma_{central}^{2}|}\")\n",
    "            base_hist.GetYaxis().SetTitleOffset(1.3)\n",
    "            base_hist.GetYaxis().SetRangeUser(-10, 10)\n",
    "            base_hist.SetLineColor(rt.kBlack)\n",
    "            base_hist.SetLineStyle(0)\n",
    "            base_hist.SetLineWidth(0)\n",
    "            base_hist.Draw()\n",
    "        else:\n",
    "            cur_dphi_dist = dphi_dict[key]\n",
    "            barlow_hist = rt.TH1D(\"barlow_\"+key,\"\", 16, -rt.TMath.Pi()/2, 3*rt.TMath.Pi()/2).Clone(\"barlow_hist_\" + key)\n",
    "            for i in range(16):\n",
    "                barlow_hist.SetBinContent(i+1, (cur_dphi_dist.GetBinContent(i+1)-central_dphi.GetBinContent(i+1))/math.sqrt(abs(cur_dphi_dist.GetBinError(i+1)**2-central_dphi.GetBinError(i+1)**2)))\n",
    "            barlow_legend.AddEntry(barlow_hist.Clone(), key, \"P\")\n",
    "            barlow_hist.SetLineColor(colors[color_index])\n",
    "            barlow_hist.SetMarkerColor(colors[color_index])\n",
    "            barlow_hist.SetMarkerStyle(20)\n",
    "            barlow_hist.SetMarkerSize(1)\n",
    "            barlow_hist.DrawCopy(\"SAME P\")\n",
    "        color_index += 1\n",
    "\n",
    "    barlow_min = rt.TLine(-rt.TMath.Pi()/2, -1, 3*rt.TMath.Pi()/2, -1)\n",
    "    barlow_max = rt.TLine(-rt.TMath.Pi()/2, 1, 3*rt.TMath.Pi()/2, 1)\n",
    "    barlow_min.SetLineColor(rt.kRed)\n",
    "    barlow_max.SetLineColor(rt.kRed)\n",
    "    barlow_min.SetLineStyle(rt.kDashed)\n",
    "    barlow_max.SetLineStyle(rt.kDashed)\n",
    "    barlow_min.SetLineWidth(2)\n",
    "    barlow_max.SetLineWidth(2)\n",
    "    barlow_min.Draw(\"SAME\")\n",
    "    barlow_max.Draw(\"SAME\")\n",
    "    barlow_legend.Draw(\"SAME\")\n",
    "    barlow_c.SaveAs(name)\n",
    "\n"
   ]
  },
  {
   "cell_type": "code",
   "execution_count": 34,
   "metadata": {},
   "outputs": [
    {
     "name": "stderr",
     "output_type": "stream",
     "text": [
      "Info in <TCanvas::Print>: pdf file figures/signal_barlow_0_20.pdf has been created\n",
      "Info in <TCanvas::Print>: pdf file figures/signal_barlow_20_50.pdf has been created\n",
      "Info in <TCanvas::Print>: pdf file figures/signal_barlow_50_80.pdf has been created\n"
     ]
    }
   ],
   "source": [
    "signal_central_file = rt.TFile.Open(\"output/central_value/v0_avg6_sideband_subtraction_rsb_1135_115_sig_1102_113_trig_40_80_assoc_20_40_delta_eta_12_normal.root\")\n",
    "signal_narrow_file = rt.TFile.Open(\"output/signal_variation/v0_avg6_sideband_subtraction_rsb_1135_115_sig_1108_1124_trig_40_80_assoc_20_40_delta_eta_12_normal.root\")\n",
    "signal_narrower_file = rt.TFile.Open(\"output/signal_variation/v0_avg6_sideband_subtraction_rsb_1135_115_sig_1112_112_trig_40_80_assoc_20_40_delta_eta_12_normal.root\")\n",
    "signal_wide_file = rt.TFile.Open(\"output/signal_variation/v0_avg6_sideband_subtraction_rsb_1135_115_sig_11_1132_trig_40_80_assoc_20_40_delta_eta_12_normal.root\")\n",
    "signal_wider_file = rt.TFile.Open(\"output/signal_variation/v0_avg6_sideband_subtraction_rsb_1135_115_sig_1096_1136_trig_40_80_assoc_20_40_delta_eta_12_normal.root\")\n",
    "signal_file_dict = {\n",
    "    \"central value\": signal_central_file,\n",
    "    \"narrow\": signal_narrow_file,\n",
    "    \"wide\": signal_wide_file,\n",
    "    \"narrower\": signal_narrower_file,\n",
    "    \"wider\": signal_wider_file\n",
    "}\n",
    "signal_dphi_dict_0_20 = {}\n",
    "signal_dphi_dict_20_50 = {}\n",
    "signal_dphi_dict_50_80 = {}\n",
    "for key, file in signal_file_dict.items():\n",
    "    signal_dphi_dict_0_20[key] = file.Get(\"h_lambda_dphi_subtracted_0_20\")\n",
    "    signal_dphi_dict_20_50[key] = file.Get(\"h_lambda_dphi_subtracted_20_50\")\n",
    "    signal_dphi_dict_50_80[key] = file.Get(\"h_lambda_dphi_subtracted_50_80\")\n",
    "do_barlow(signal_dphi_dict_0_20, \"figures/signal_barlow_0_20.pdf\")\n",
    "do_barlow(signal_dphi_dict_20_50, \"figures/signal_barlow_20_50.pdf\")\n",
    "do_barlow(signal_dphi_dict_50_80, \"figures/signal_barlow_50_80.pdf\")"
   ]
  },
  {
   "cell_type": "code",
   "execution_count": 35,
   "metadata": {},
   "outputs": [
    {
     "name": "stderr",
     "output_type": "stream",
     "text": [
      "Info in <TCanvas::Print>: pdf file figures/sideband_barlow_0_20.pdf has been created\n",
      "Info in <TCanvas::Print>: pdf file figures/sideband_barlow_20_50.pdf has been created\n",
      "Info in <TCanvas::Print>: pdf file figures/sideband_barlow_50_80.pdf has been created\n"
     ]
    }
   ],
   "source": [
    "sideband_central_file = rt.TFile.Open(\"output/central_value/v0_avg6_sideband_subtraction_rsb_1135_115_sig_1102_113_trig_40_80_assoc_20_40_delta_eta_12_normal.root\")\n",
    "sideband_shifted_right_file = rt.TFile.Open(\"output/sideband_variation/v0_avg6_sideband_subtraction_rsb_114_1155_sig_1102_113_trig_40_80_assoc_20_40_delta_eta_12_normal.root\")\n",
    "sideband_shifted_left_file = rt.TFile.Open(\"output/sideband_variation/v0_avg6_sideband_subtraction_rsb_1084_1096_sig_1102_113_trig_40_80_assoc_20_40_delta_eta_12_normal.root\")\n",
    "sideband_wide_file = rt.TFile.Open(\"output/sideband_variation/v0_avg6_sideband_subtraction_rsb_1135_116_sig_1102_113_trig_40_80_assoc_20_40_delta_eta_12_normal.root\")\n",
    "sideband_narrow_file = rt.TFile.Open(\"output/sideband_variation/v0_avg6_sideband_subtraction_rsb_1135_1145_sig_1102_113_trig_40_80_assoc_20_40_delta_eta_12_normal.root\")\n",
    "sideband_file_dict = {\n",
    "    \"central value\": sideband_central_file,\n",
    "    \"narrow\": sideband_narrow_file,\n",
    "    \"wide\": sideband_wide_file,\n",
    "    \"shifted right\": sideband_shifted_right_file,\n",
    "    \"shifted left\": sideband_shifted_left_file\n",
    "}\n",
    "sideband_dphi_dict_0_20 = {}\n",
    "sideband_dphi_dict_20_50 = {}\n",
    "sideband_dphi_dict_50_80 = {}\n",
    "for key, file in sideband_file_dict.items():\n",
    "    sideband_dphi_dict_0_20[key] = file.Get(\"h_lambda_dphi_subtracted_0_20\")\n",
    "    sideband_dphi_dict_20_50[key] = file.Get(\"h_lambda_dphi_subtracted_20_50\")\n",
    "    sideband_dphi_dict_50_80[key] = file.Get(\"h_lambda_dphi_subtracted_50_80\")\n",
    "do_barlow(sideband_dphi_dict_0_20, \"figures/sideband_barlow_0_20.pdf\")\n",
    "do_barlow(sideband_dphi_dict_20_50, \"figures/sideband_barlow_20_50.pdf\")\n",
    "do_barlow(sideband_dphi_dict_50_80, \"figures/sideband_barlow_50_80.pdf\")"
   ]
  },
  {
   "cell_type": "code",
   "execution_count": null,
   "metadata": {},
   "outputs": [],
   "source": []
  }
 ],
 "metadata": {
  "kernelspec": {
   "display_name": "Python 3",
   "language": "python",
   "name": "python3"
  },
  "language_info": {
   "codemirror_mode": {
    "name": "ipython",
    "version": 3
   },
   "file_extension": ".py",
   "mimetype": "text/x-python",
   "name": "python",
   "nbconvert_exporter": "python",
   "pygments_lexer": "ipython3",
   "version": "3.9.2"
  },
  "orig_nbformat": 4,
  "vscode": {
   "interpreter": {
    "hash": "31f2aee4e71d21fbe5cf8b01ff0e069b9275f58929596ceb00d14d90e3e16cd6"
   }
  }
 },
 "nbformat": 4,
 "nbformat_minor": 2
}
