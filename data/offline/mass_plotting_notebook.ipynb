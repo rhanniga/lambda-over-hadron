{
 "cells": [
  {
   "cell_type": "code",
   "execution_count": 1,
   "metadata": {},
   "outputs": [
    {
     "name": "stdout",
     "output_type": "stream",
     "text": [
      "Welcome to JupyROOT 6.26/10\n"
     ]
    }
   ],
   "source": [
    "import ROOT as rt\n",
    "\n",
    "rt.gStyle.SetOptStat(0)"
   ]
  },
  {
   "cell_type": "code",
   "execution_count": 2,
   "metadata": {},
   "outputs": [],
   "source": [
    "c = rt.TCanvas(\"c\", \"c\", 800, 600)\n",
    "c.SetRightMargin(0.05)\n",
    "c.SetLeftMargin(0.10)\n",
    "c.SetTopMargin(0.05)"
   ]
  },
  {
   "cell_type": "code",
   "execution_count": 27,
   "metadata": {},
   "outputs": [
    {
     "name": "stderr",
     "output_type": "stream",
     "text": [
      "Info in <TCanvas::Print>: pdf file figures/lambda_mass_dist_0_20.pdf has been created\n",
      "Info in <TCanvas::Print>: pdf file figures/lambda_mass_dist_20_50.pdf has been created\n",
      "Info in <TCanvas::Print>: pdf file figures/lambda_mass_dist_50_80.pdf has been created\n",
      "Info in <TCanvas::Print>: pdf file figures/lambda_mass_dist_0_20_lowpt.pdf has been created\n",
      "Info in <TCanvas::Print>: pdf file figures/lambda_mass_dist_20_50_lowpt.pdf has been created\n",
      "Info in <TCanvas::Print>: pdf file figures/lambda_mass_dist_50_80_lowpt.pdf has been created\n",
      "Info in <TCanvas::Print>: pdf file figures/lambda_mass_dist_0_20_highpt.pdf has been created\n",
      "Info in <TCanvas::Print>: pdf file figures/lambda_mass_dist_20_50_highpt.pdf has been created\n",
      "Info in <TCanvas::Print>: pdf file figures/lambda_mass_dist_50_80_highpt.pdf has been created\n"
     ]
    },
    {
     "data": {
      "image/png": "[encoded data removed]",
      "text/plain": [
       "<IPython.core.display.Image object>"
      ]
     },
     "metadata": {},
     "output_type": "display_data"
    }
   ],
   "source": [
    "for pt_bin in [\"central\", \"low\", \"high\"]:\n",
    "    for cent_bin in [0, 20, 50]:\n",
    "\n",
    "        if pt_bin == \"central\":\n",
    "            v0_input_file = rt.TFile(\"tmp.root\")\n",
    "        elif pt_bin == \"low\":\n",
    "            v0_input_file = rt.TFile(\"tmp_low.root\")\n",
    "        elif pt_bin == \"high\":\n",
    "            v0_input_file = rt.TFile(\"tmp_high.root\")\n",
    "\n",
    "        if cent_bin == 0:\n",
    "            lambda_mass_dist = v0_input_file.Get(\"lambda_mass_dist_0_20\").Clone(\"tmp\")\n",
    "            lambda_mass_fit = v0_input_file.Get(\"lambda_mass_fit_0_20\")\n",
    "            lambda_mass_bg_fit = v0_input_file.Get(\"bg_fit_0_20\")\n",
    "        elif cent_bin == 20:\n",
    "            lambda_mass_dist = v0_input_file.Get(\"lambda_mass_dist_20_50\").Clone(\"tmp\")\n",
    "            lambda_mass_fit = v0_input_file.Get(\"lambda_mass_fit_20_50\")\n",
    "            lambda_mass_bg_fit = v0_input_file.Get(\"bg_fit_20_50\")\n",
    "        elif cent_bin == 50:\n",
    "            lambda_mass_dist = v0_input_file.Get(\"lambda_mass_dist_50_80\").Clone(\"tmp\")\n",
    "            lambda_mass_fit = v0_input_file.Get(\"lambda_mass_fit_50_80\")\n",
    "            lambda_mass_bg_fit = v0_input_file.Get(\"bg_fit_50_80\")\n",
    "        else:\n",
    "            print(\"Invalid centrality bin\")\n",
    "\n",
    "        lambda_mass_dist.SetTitle(\"\")\n",
    "        lambda_mass_dist.GetYaxis().SetMaxDigits(3)\n",
    "        lambda_mass_dist.GetXaxis().SetTitle(\"M_{p#pi} (GeV/#it{c}^{2})\")\n",
    "        lambda_mass_dist.GetYaxis().SetTitle(\"Counts per 0.001 GeV/#it{c}^{2}\")\n",
    "        lambda_mass_dist.GetYaxis().SetRangeUser(0, 1.2*lambda_mass_dist.GetMaximum())\n",
    "\n",
    "        lambda_mass_dist.SetLineColor(rt.kBlack)\n",
    "        lambda_mass_dist.SetLineWidth(2)\n",
    "        lambda_mass_dist.SetMarkerStyle(20)\n",
    "        lambda_mass_dist.SetMarkerSize(0.5)\n",
    "\n",
    "        lambda_mass_fit.SetLineColor(rt.kBlue + 2)\n",
    "        lambda_mass_fit.SetLineWidth(2)\n",
    "        lambda_mass_fit.SetLineStyle(rt.kDashed)\n",
    "\n",
    "        lambda_mass_bg_fit.SetLineColor(rt.kMagenta + 2)\n",
    "        lambda_mass_bg_fit.SetLineWidth(2)\n",
    "        lambda_mass_bg_fit.SetLineStyle(rt.kDashed)\n",
    "\n",
    "        lambda_mass_dist.Draw()\n",
    "        lambda_mass_fit.Draw(\"SAME\")\n",
    "        lambda_mass_bg_fit.Draw(\"SAME\")\n",
    "\n",
    "        legend_y_start = 0.5\n",
    "        legend_x_start = 0.68\n",
    "        legend_x_width = 0.2\n",
    "        legend_y_width = 0.2\n",
    "        legend_y_finish = legend_y_start + legend_y_width\n",
    "        legend_x_finish = legend_x_start + legend_x_width\n",
    "\n",
    "        mass_legend = rt.TLegend(legend_x_start, legend_y_start, legend_x_finish, legend_y_finish)\n",
    "        mass_legend.SetTextSize(0.03)\n",
    "        mass_legend.SetBorderSize(0)\n",
    "        mass_legend.SetFillStyle(0)\n",
    "        mass_legend.AddEntry(lambda_mass_dist, \"Data\", \"lep\")\n",
    "        mass_legend.AddEntry(lambda_mass_fit, \"Total fit (Voigt + pol1)\", \"l\")\n",
    "        mass_legend.AddEntry(lambda_mass_bg_fit, \"BG fit (pol1)\", \"l\")\n",
    "        mass_legend.Draw(\"SAME\")\n",
    "            \n",
    "        label_y_start = 0.9\n",
    "        label_x_start = 0.18\n",
    "        label_text_space = 0.05\n",
    "        alice_data_label = rt.TLatex()\n",
    "        alice_data_label.SetNDC()\n",
    "        alice_data_label.SetTextSize(0.04)\n",
    "        alice_data_label.SetTextAlign(13)\n",
    "        alice_data_label.DrawLatex(label_x_start, label_y_start, \"ALICE Performance\")\n",
    "        alice_data_label.DrawLatex(label_x_start, label_y_start - label_text_space, \"#bf{p-Pb #sqrt{s_{NN}} = 5.02 TeV}\")\n",
    "        if cent_bin == 0:\n",
    "            alice_data_label.DrawLatex(label_x_start, label_y_start - 2*label_text_space, \"#bf{0-20% V0A centrality}\")\n",
    "        elif cent_bin == 20:\n",
    "            alice_data_label.DrawLatex(label_x_start, label_y_start - 2*label_text_space, \"#bf{20-50% V0A centrality}\")\n",
    "        elif cent_bin == 50:\n",
    "            alice_data_label.DrawLatex(label_x_start, label_y_start - 2*label_text_space, \"#bf{50-80% V0A centrality}\")\n",
    "        alice_data_label.DrawLatex(label_x_start, label_y_start - 3*label_text_space + 0.01, \"#bf{#Lambda #rightarrow p#pi^{-} (#bar{#Lambda} #rightarrow #bar{p}#pi^{+})}\")\n",
    "        if pt_bin == \"central\":\n",
    "            alice_data_label.DrawLatex(label_x_start, label_y_start - 4*label_text_space, \"#bf{2.0 < #it{p}_{T} < 4.0 GeV/c}\")\n",
    "        elif pt_bin == \"low\":\n",
    "            alice_data_label.DrawLatex(label_x_start, label_y_start - 4*label_text_space, \"#bf{1.5 < #it{p}_{T} < 2.5 GeV/c}\")\n",
    "        elif pt_bin == \"high\":\n",
    "            alice_data_label.DrawLatex(label_x_start, label_y_start - 4*label_text_space, \"#bf{2.5 < #it{p}_{T} < 4.0 GeV/c}\")\n",
    "\n",
    "        c.Draw()\n",
    "        if pt_bin == \"central\":\n",
    "            if cent_bin == 0:\n",
    "                c.SaveAs(\"figures/lambda_mass_dist_0_20.pdf\")\n",
    "            elif cent_bin == 20:\n",
    "                c.SaveAs(\"figures/lambda_mass_dist_20_50.pdf\")\n",
    "            elif cent_bin == 50:\n",
    "                c.SaveAs(\"figures/lambda_mass_dist_50_80.pdf\")\n",
    "        elif pt_bin == \"low\":\n",
    "            if cent_bin == 0:\n",
    "                c.SaveAs(\"figures/lambda_mass_dist_0_20_lowpt.pdf\")\n",
    "            elif cent_bin == 20:\n",
    "                c.SaveAs(\"figures/lambda_mass_dist_20_50_lowpt.pdf\")\n",
    "            elif cent_bin == 50:\n",
    "                c.SaveAs(\"figures/lambda_mass_dist_50_80_lowpt.pdf\")\n",
    "        elif pt_bin == \"high\":\n",
    "            if cent_bin == 0:\n",
    "                c.SaveAs(\"figures/lambda_mass_dist_0_20_highpt.pdf\")\n",
    "            elif cent_bin == 20:\n",
    "                c.SaveAs(\"figures/lambda_mass_dist_20_50_highpt.pdf\")\n",
    "            elif cent_bin == 50:\n",
    "                c.SaveAs(\"figures/lambda_mass_dist_50_80_highpt.pdf\")"
   ]
  },
  {
   "cell_type": "code",
   "execution_count": 7,
   "metadata": {},
   "outputs": [
    {
     "name": "stdout",
     "output_type": "stream",
     "text": [
      "0.0009999999999999987\n"
     ]
    }
   ],
   "source": [
    "print((1.16 - 1.06)/lambda_mass_dist.GetNbinsX())"
   ]
  },
  {
   "cell_type": "code",
   "execution_count": null,
   "metadata": {},
   "outputs": [],
   "source": []
  }
 ],
 "metadata": {
  "kernelspec": {
   "display_name": "Python 3",
   "language": "python",
   "name": "python3"
  },
  "language_info": {
   "codemirror_mode": {
    "name": "ipython",
    "version": 3
   },
   "file_extension": ".py",
   "mimetype": "text/x-python",
   "name": "python",
   "nbconvert_exporter": "python",
   "pygments_lexer": "ipython3",
   "version": "3.9.2"
  },
  "orig_nbformat": 4,
  "vscode": {
   "interpreter": {
    "hash": "31f2aee4e71d21fbe5cf8b01ff0e069b9275f58929596ceb00d14d90e3e16cd6"
   }
  }
 },
 "nbformat": 4,
 "nbformat_minor": 2
}
