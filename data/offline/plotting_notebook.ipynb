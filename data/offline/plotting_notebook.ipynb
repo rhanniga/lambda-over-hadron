{
 "cells": [
  {
   "cell_type": "code",
   "execution_count": null,
   "metadata": {},
   "outputs": [
    {
     "ename": "",
     "evalue": "",
     "output_type": "error",
     "traceback": [
      "\u001b[1;31mJupyter cannot be started. Error attempting to locate Jupyter: Running cells requires jupyter and notebook package.\n",
      "\u001b[1;31mRun the following command to install 'jupyter and notebook' into the Python environment. \n",
      "\u001b[1;31mCommand: 'python -m pip install jupyter notebook -U\n",
      "\u001b[1;31mor\n",
      "\u001b[1;31mconda install jupyter notebook -U'\n",
      "\u001b[1;31mClick <a href='https://aka.ms/installJupyterForVSCode'>here</a> for more info."
     ]
    }
   ],
   "source": [
    "import ROOT as rt\n",
    "\n",
    "from strangehelper import get_parabola"
   ]
  },
  {
   "cell_type": "code",
   "execution_count": null,
   "metadata": {},
   "outputs": [
    {
     "ename": "",
     "evalue": "",
     "output_type": "error",
     "traceback": [
      "\u001b[1;31mJupyter cannot be started. Error attempting to locate Jupyter: Running cells requires jupyter and notebook package.\n",
      "\u001b[1;31mRun the following command to install 'jupyter and notebook' into the Python environment. \n",
      "\u001b[1;31mCommand: 'python -m pip install jupyter notebook -U\n",
      "\u001b[1;31mor\n",
      "\u001b[1;31mconda install jupyter notebook -U'\n",
      "\u001b[1;31mClick <a href='https://aka.ms/installJupyterForVSCode'>here</a> for more info."
     ]
    }
   ],
   "source": [
    "rt.gStyle.SetOptStat(0)"
   ]
  },
  {
   "cell_type": "code",
   "execution_count": null,
   "metadata": {},
   "outputs": [
    {
     "ename": "",
     "evalue": "",
     "output_type": "error",
     "traceback": [
      "\u001b[1;31mJupyter cannot be started. Error attempting to locate Jupyter: Running cells requires notebook and jupyter package.\n",
      "\u001b[1;31mRun the following command to install 'jupyter and notebook' into the Python environment. \n",
      "\u001b[1;31mCommand: 'python -m pip install jupyter notebook -U\n",
      "\u001b[1;31mor\n",
      "\u001b[1;31mconda install jupyter notebook -U'\n",
      "\u001b[1;31mClick <a href='https://aka.ms/installJupyterForVSCode'>here</a> for more info."
     ]
    }
   ],
   "source": [
    "c = rt.TCanvas(\"c\", \"c\", 800, 600)\n",
    "c.SetRightMargin(0.05)\n",
    "c.SetLeftMargin(0.15)\n",
    "c.SetTopMargin(0.05)"
   ]
  },
  {
   "cell_type": "code",
   "execution_count": null,
   "metadata": {},
   "outputs": [
    {
     "ename": "",
     "evalue": "",
     "output_type": "error",
     "traceback": [
      "\u001b[1;31mJupyter cannot be started. Error attempting to locate Jupyter: Running cells requires jupyter and notebook package.\n",
      "\u001b[1;31mRun the following command to install 'jupyter and notebook' into the Python environment. \n",
      "\u001b[1;31mCommand: 'python -m pip install jupyter notebook -U\n",
      "\u001b[1;31mor\n",
      "\u001b[1;31mconda install jupyter notebook -U'\n",
      "\u001b[1;31mClick <a href='https://aka.ms/installJupyterForVSCode'>here</a> for more info."
     ]
    }
   ],
   "source": [
    "res_input_file = rt.TFile(\"output/res_avg6_sideband_subtraction_rsb_116_118_sig_11_114_trig_40_80_assoc_20_40_delta_eta_14.root\")\n",
    "v0_input_file = rt.TFile(\"output/v0_avg6_rsb_116_118_sig_11_1134_trig_40_80_assoc_20_40_delta_eta_14.root\")"
   ]
  },
  {
   "cell_type": "code",
   "execution_count": null,
   "metadata": {},
   "outputs": [],
   "source": [
    "lambda_mass_dist_0_20 = res_input_file.Get(\"lambda_mass_dist_0_20\")\n",
    "lambda_mass_ls_dist_0_20 = res_input_file.Get(\"lambda_mass_ls_dist_0_20\")\n",
    "RSB_region_0_20 = res_input_file.Get(\"RSB_region_0_20\")\n",
    "RSB_min_line_0_20 = res_input_file.Get(\"RSB_min_line_0_20\")\n",
    "RSB_max_line_0_20 = res_input_file.Get(\"RSB_max_line_0_20\")"
   ]
  },
  {
   "cell_type": "code",
   "execution_count": null,
   "metadata": {},
   "outputs": [],
   "source": [
    "lambda_mass_dist_0_20.SetTitle(\"\")\n",
    "lambda_mass_dist_0_20.SetLineWidth(2)\n",
    "lambda_mass_dist_0_20.SetLineColor(rt.kBlack)\n",
    "lambda_mass_dist_0_20.SetMarkerStyle(20)\n",
    "lambda_mass_dist_0_20.SetMarkerSize(0.5)\n",
    "lambda_mass_dist_0_20.SetMarkerColor(rt.kBlack)\n",
    "lambda_mass_dist_0_20.GetXaxis().SetTitle(\"M_{p#pi} (GeV/c^{2})\")\n",
    "lambda_mass_dist_0_20.GetYaxis().SetTitle(\"Counts/[10 MeV/c^{2}]\")"
   ]
  },
  {
   "cell_type": "code",
   "execution_count": null,
   "metadata": {},
   "outputs": [],
   "source": [
    "lambda_mass_ls_dist_0_20.SetLineWidth(2)\n",
    "lambda_mass_ls_dist_0_20.SetLineColor(rt.kViolet - 6)\n",
    "lambda_mass_ls_dist_0_20.SetMarkerStyle(20)\n",
    "lambda_mass_ls_dist_0_20.SetMarkerSize(0.5)\n",
    "lambda_mass_ls_dist_0_20.SetMarkerColor(rt.kViolet - 6)"
   ]
  },
  {
   "cell_type": "code",
   "execution_count": null,
   "metadata": {},
   "outputs": [],
   "source": [
    "mass_legend_0_20 = rt.TLegend(0.65, 0.2, 0.8, 0.4)\n",
    "mass_legend_0_20.SetTextSize(0.025)\n",
    "mass_legend_0_20.SetBorderSize(0)\n",
    "mass_legend_0_20.SetFillStyle(0)\n",
    "mass_legend_0_20.AddEntry(lambda_mass_dist_0_20, \"Total (sig. + comb. BG)\", \"lp\")\n",
    "mass_legend_0_20.AddEntry(lambda_mass_ls_dist_0_20, \"Like-sign p-#pi BG scaled to Total in RSB\", \"lp\")\n",
    "mass_legend_0_20.AddEntry(RSB_region_0_20, \"RSB region: 1.16 < M_{p#pi} < 1.18\", \"f\")"
   ]
  },
  {
   "cell_type": "code",
   "execution_count": null,
   "metadata": {},
   "outputs": [],
   "source": [
    "lambda_mass_dist_0_20.Draw()\n",
    "lambda_mass_ls_dist_0_20.Draw(\"SAME\")\n",
    "mass_legend_0_20.Draw(\"SAME\")\n",
    "RSB_region_0_20.Draw(\"SAME\")\n",
    "RSB_max_line_0_20.Draw(\"SAME\")\n",
    "RSB_min_line_0_20.Draw(\"SAME\")\n",
    "\n",
    "label_y_start = 0.91\n",
    "label_x_start = 0.67\n",
    "label_text_space = 0.04\n",
    "\n",
    "alice_data_label = rt.TLatex()\n",
    "alice_data_label.SetNDC()\n",
    "alice_data_label.SetTextSize(0.03)\n",
    "alice_data_label.SetTextAlign(13)\n",
    "alice_data_label.DrawLatex(label_x_start, label_y_start, \"ALICE Performance\")\n",
    "alice_data_label.DrawLatex(label_x_start, label_y_start - label_text_space, \"#bf{p-Pb #sqrt{s_{NN}} = 5.02 TeV}\")\n",
    "alice_data_label.DrawLatex(label_x_start, label_y_start - 2*label_text_space, \"#bf{20-50% centrality}\")\n",
    "alice_data_label.DrawLatex(label_x_start, label_y_start - 3*label_text_space + 0.01, \"#bf{#Lambda^{0} #rightarrow p#pi^{+} (#bar{#Lambda}^{0} #rightarrow #bar{p}#pi^{-})}\")\n",
    "alice_data_label.DrawLatex(label_x_start, label_y_start - 4*label_text_space, \"#bf{2.0 < #it{p}_{T} < 4.0 GeV/c}\")"
   ]
  },
  {
   "cell_type": "code",
   "execution_count": null,
   "metadata": {},
   "outputs": [],
   "source": [
    "lambda_mass_dist_20_50 = res_input_file.Get(\"lambda_mass_dist_20_50\")\n",
    "lambda_mass_ls_dist_20_50 = res_input_file.Get(\"lambda_mass_ls_dist_20_50\")\n",
    "RSB_region_20_50 = res_input_file.Get(\"RSB_region_20_50\")\n",
    "RSB_min_line_20_50 = res_input_file.Get(\"RSB_min_line_20_50\")\n",
    "RSB_max_line_20_50 = res_input_file.Get(\"RSB_max_line_20_50\")"
   ]
  },
  {
   "cell_type": "code",
   "execution_count": null,
   "metadata": {},
   "outputs": [],
   "source": [
    "lambda_mass_dist_20_50.SetTitle(\"\")\n",
    "lambda_mass_dist_20_50.SetLineWidth(2)\n",
    "lambda_mass_dist_20_50.SetLineColor(rt.kBlack)\n",
    "lambda_mass_dist_20_50.SetMarkerStyle(20)\n",
    "lambda_mass_dist_20_50.SetMarkerSize(0.5)\n",
    "lambda_mass_dist_20_50.SetMarkerColor(rt.kBlack)\n",
    "lambda_mass_dist_20_50.GetXaxis().SetTitle(\"M_{p#pi} (GeV/c^{2})\")\n",
    "lambda_mass_dist_20_50.GetYaxis().SetTitle(\"Counts/[10 MeV/c^{2}]\")"
   ]
  },
  {
   "cell_type": "code",
   "execution_count": null,
   "metadata": {},
   "outputs": [],
   "source": [
    "lambda_mass_ls_dist_20_50.SetLineWidth(2)\n",
    "lambda_mass_ls_dist_20_50.SetLineColor(rt.kViolet - 6)\n",
    "lambda_mass_ls_dist_20_50.SetMarkerStyle(20)\n",
    "lambda_mass_ls_dist_20_50.SetMarkerSize(0.5)\n",
    "lambda_mass_ls_dist_20_50.SetMarkerColor(rt.kViolet - 6)"
   ]
  },
  {
   "cell_type": "code",
   "execution_count": null,
   "metadata": {},
   "outputs": [],
   "source": [
    "mass_legend_20_50 = rt.TLegend(0.65, 0.2, 0.8, 0.4)\n",
    "mass_legend_20_50.SetTextSize(0.025)\n",
    "mass_legend_20_50.SetBorderSize(0)\n",
    "mass_legend_20_50.SetFillStyle(0)\n",
    "mass_legend_20_50.AddEntry(lambda_mass_dist_20_50, \"Total (sig. + comb. BG)\", \"lep\")\n",
    "mass_legend_20_50.AddEntry(lambda_mass_ls_dist_20_50, \"Like-sign p-#pi BG\", \"lep\")\n",
    "mass_legend_20_50.AddEntry(RSB_region_20_50, \"RSB region: 1.20 < M_{p#pi} < 1.22\", \"f\")"
   ]
  },
  {
   "cell_type": "code",
   "execution_count": null,
   "metadata": {},
   "outputs": [],
   "source": [
    "lambda_mass_dist_20_50.Draw()\n",
    "lambda_mass_ls_dist_20_50.Draw(\"SAME\")\n",
    "mass_legend_20_50.Draw(\"SAME\")\n",
    "RSB_region_20_50.Draw(\"SAME\")\n",
    "RSB_max_line_20_50.Draw(\"SAME\")\n",
    "RSB_min_line_20_50.Draw(\"SAME\")\n",
    "\n",
    "\n",
    "label_y_start = 0.91\n",
    "label_x_start = 0.67\n",
    "label_text_space = 0.04\n",
    "\n",
    "alice_data_label = rt.TLatex()\n",
    "alice_data_label.SetNDC()\n",
    "alice_data_label.SetTextSize(0.03)\n",
    "alice_data_label.SetTextAlign(13)\n",
    "alice_data_label.DrawLatex(label_x_start, label_y_start, \"ALICE Performance\")\n",
    "alice_data_label.DrawLatex(label_x_start, label_y_start - label_text_space, \"#bf{p-Pb #sqrt{s_{NN}} = 5.02 TeV}\")\n",
    "alice_data_label.DrawLatex(label_x_start, label_y_start - 2*label_text_space, \"#bf{20-50% centrality}\")\n",
    "alice_data_label.DrawLatex(label_x_start, label_y_start - 3*label_text_space + 0.01, \"#bf{#Lambda^{0} #rightarrow p#pi^{+} (#bar{#Lambda}^{0} #rightarrow #bar{p}#pi^{-})}\")\n",
    "alice_data_label.DrawLatex(label_x_start, label_y_start - 4*label_text_space, \"#bf{2.0 < #it{p}_{T} < 4.0 GeV/c}\")\n",
    "\n",
    "c.Draw()\n",
    "c.SaveAs(\"figures/res_lambda_mass_dist_20_50_with_ls_with_rsb.pdf\")"
   ]
  },
  {
   "cell_type": "code",
   "execution_count": null,
   "metadata": {},
   "outputs": [],
   "source": [
    "lambda_mass_dist_50_80 = res_input_file.Get(\"lambda_mass_dist_50_80\")\n",
    "lambda_mass_ls_dist_50_80 = res_input_file.Get(\"lambda_mass_ls_dist_50_80\")\n",
    "RSB_region_50_80 = res_input_file.Get(\"RSB_region_50_80\")\n",
    "RSB_min_line_50_80 = res_input_file.Get(\"RSB_min_line_50_80\")\n",
    "RSB_max_line_50_80 = res_input_file.Get(\"RSB_max_line_50_80\")"
   ]
  },
  {
   "cell_type": "code",
   "execution_count": null,
   "metadata": {},
   "outputs": [],
   "source": [
    "lambda_mass_dist_50_80.SetTitle(\"\")\n",
    "lambda_mass_dist_50_80.SetLineWidth(2)\n",
    "lambda_mass_dist_50_80.SetLineColor(rt.kBlack)\n",
    "lambda_mass_dist_50_80.SetMarkerStyle(20)\n",
    "lambda_mass_dist_50_80.SetMarkerSize(0.5)\n",
    "lambda_mass_dist_50_80.SetMarkerColor(rt.kBlack)\n",
    "lambda_mass_dist_50_80.GetXaxis().SetTitle(\"M_{p#pi} (GeV/c^{2})\")\n",
    "lambda_mass_dist_50_80.GetYaxis().SetTitle(\"Counts/[10 MeV/c^{2}]\")"
   ]
  },
  {
   "cell_type": "code",
   "execution_count": null,
   "metadata": {},
   "outputs": [],
   "source": [
    "lambda_mass_ls_dist_50_80.SetLineWidth(2)\n",
    "lambda_mass_ls_dist_50_80.SetLineColor(rt.kViolet - 6)\n",
    "lambda_mass_ls_dist_50_80.SetMarkerStyle(20)\n",
    "lambda_mass_ls_dist_50_80.SetMarkerSize(0.5)\n",
    "lambda_mass_ls_dist_50_80.SetMarkerColor(rt.kViolet - 6)"
   ]
  },
  {
   "cell_type": "code",
   "execution_count": null,
   "metadata": {},
   "outputs": [],
   "source": [
    "mass_legend_50_80 = rt.TLegend(0.65, 0.2, 0.8, 0.4)\n",
    "mass_legend_50_80.SetTextSize(0.02)\n",
    "mass_legend_50_80.SetBorderSize(0)\n",
    "mass_legend_50_80.SetFillStyle(0)\n",
    "mass_legend_50_80.AddEntry(lambda_mass_dist_50_80, \"Total (sig. + comb. BG)\", \"lp\")\n",
    "mass_legend_50_80.AddEntry(lambda_mass_ls_dist_50_80, \"Like-sign p-#pi BG scaled to Total in RSB\", \"lp\")\n",
    "mass_legend_50_80.AddEntry(RSB_region_50_80, \"RSB region: 1.16 < M_{p#pi} < 1.18\", \"f\")"
   ]
  },
  {
   "cell_type": "code",
   "execution_count": null,
   "metadata": {},
   "outputs": [],
   "source": [
    "lambda_mass_dist_50_80.Draw()\n",
    "lambda_mass_ls_dist_50_80.Draw(\"SAME\")\n",
    "mass_legend_50_80.Draw(\"SAME\")\n",
    "RSB_region_50_80.Draw(\"SAME\")\n",
    "RSB_max_line_50_80.Draw(\"SAME\")\n",
    "RSB_min_line_50_80.Draw(\"SAME\")\n",
    "\n",
    "\n",
    "label_y_start = 0.91\n",
    "label_x_start = 0.67\n",
    "label_text_space = 0.04\n",
    "\n",
    "alice_data_label = rt.TLatex()\n",
    "alice_data_label.SetNDC()\n",
    "alice_data_label.SetTextSize(0.03)\n",
    "alice_data_label.SetTextAlign(13)\n",
    "alice_data_label.DrawLatex(label_x_start, label_y_start, \"ALICE Performance\")\n",
    "alice_data_label.DrawLatex(label_x_start, label_y_start - label_text_space, \"#bf{p-Pb #sqrt{s_{NN}} = 5.02 TeV}\")\n",
    "alice_data_label.DrawLatex(label_x_start, label_y_start - 2*label_text_space, \"#bf{20-50% centrality}\")\n",
    "alice_data_label.DrawLatex(label_x_start, label_y_start - 3*label_text_space + 0.01, \"#bf{#Lambda^{0} #rightarrow p#pi^{+} (#bar{#Lambda}^{0} #rightarrow #bar{p}#pi^{-})}\")\n",
    "alice_data_label.DrawLatex(label_x_start, label_y_start - 4*label_text_space, \"#bf{2.0 < #it{p}_{T} < 4.0 GeV/c}\")\n",
    "\n",
    "\n",
    "c.Draw()"
   ]
  },
  {
   "cell_type": "code",
   "execution_count": null,
   "metadata": {},
   "outputs": [],
   "source": [
    "v0_dphi_dist_0_20 = v0_input_file.Get(\"h_lambda_dphi_subtracted_0_20\")\n",
    "v0_dphi_dist_20_50 = v0_input_file.Get(\"h_lambda_dphi_subtracted_20_50\")\n",
    "v0_dphi_dist_50_80 = v0_input_file.Get(\"h_lambda_dphi_subtracted_50_80\")\n",
    "\n",
    "res_dphi_dist_0_20 = res_input_file.Get(\"h_lambda_dphi_subtracted_0_20\")\n",
    "res_dphi_dist_20_50 = res_input_file.Get(\"h_lambda_dphi_subtracted_20_50\")\n",
    "res_dphi_dist_50_80 = res_input_file.Get(\"h_lambda_dphi_subtracted_50_80\")"
   ]
  },
  {
   "cell_type": "code",
   "execution_count": null,
   "metadata": {},
   "outputs": [],
   "source": [
    "v0_dphi_dist_0_20.SetLineColor(rt.kPink - 1)\n",
    "v0_dphi_dist_20_50.SetLineColor(rt.kOrange - 3)\n",
    "v0_dphi_dist_50_80.SetLineColor(rt.kBlue - 3)\n",
    "\n",
    "v0_dphi_dist_0_20.SetMarkerStyle(20)\n",
    "v0_dphi_dist_20_50.SetMarkerStyle(21)\n",
    "v0_dphi_dist_50_80.SetMarkerStyle(22)\n",
    "\n",
    "v0_dphi_dist_0_20.SetMarkerColor(rt.kPink - 1)\n",
    "v0_dphi_dist_20_50.SetMarkerColor(rt.kOrange - 3)\n",
    "v0_dphi_dist_50_80.SetMarkerColor(rt.kBlue - 3)\n",
    "\n",
    "v0_dphi_dist_0_20.SetMarkerSize(1)\n",
    "v0_dphi_dist_20_50.SetMarkerSize(1)\n",
    "v0_dphi_dist_50_80.SetMarkerSize(1)\n",
    "\n",
    "v0_dphi_dist_0_20.SetTitle(\"\")\n",
    "v0_dphi_dist_0_20.GetXaxis().SetTitle(\"#Delta#varphi_{p#pi}\")\n",
    "v0_dphi_dist_0_20.GetYaxis().SetTitle(\"Counts/[0.1 rad]\")\n",
    "v0_dphi_dist_0_20.GetYaxis().SetRangeUser(0, 1.1 * v0_dphi_dist_0_20.GetMaximum())\n",
    "\n",
    "v0_dphi_dist_20_50.SetTitle(\"\")\n",
    "v0_dphi_dist_20_50.GetXaxis().SetTitle(\"#Delta#varphi_{p#pi}\")\n",
    "v0_dphi_dist_20_50.GetYaxis().SetTitle(\"Counts/[0.1 rad]\")\n",
    "v0_dphi_dist_20_50.GetYaxis().SetRangeUser(0, 1.1 * v0_dphi_dist_0_20.GetMaximum())\n",
    "\n",
    "v0_dphi_dist_50_80.SetTitle(\"\")\n",
    "v0_dphi_dist_50_80.GetXaxis().SetTitle(\"#Delta#varphi_{p#pi}\")\n",
    "v0_dphi_dist_50_80.GetYaxis().SetTitle(\"Counts/[0.1 rad]\")\n",
    "v0_dphi_dist_50_80.GetYaxis().SetRangeUser(0, 1.1 * v0_dphi_dist_0_20.GetMaximum())"
   ]
  },
  {
   "cell_type": "code",
   "execution_count": null,
   "metadata": {},
   "outputs": [],
   "source": [
    "dphi_canvas = rt.TCanvas(\"dphi_canvas\", \"dphi_canvas\", 800, 400)\n",
    "dphi_canvas.Divide(3, 1)\n",
    "dphi_canvas.cd(1)\n",
    "# this removes the padding so the y-axis intersects for all three plots\n",
    "dphi_canvas.GetPad(1).SetPad(0.1, 0.01, 0.35, 0.99)\n",
    "v0_dphi_dist_0_20.GetYaxis().SetLabelSize(0.03)\n",
    "v0_dphi_dist_0_20.GetYaxis().SetTitle(\"Counts/[0.1 rad]\")\n",
    "v0_dphi_dist_0_20.Draw()\n",
    "dphi_canvas.cd(2)\n",
    "# this removes the y axis labels for the middle plot\n",
    "dphi_canvas.GetPad(2).SetPad(0.4, 0.01, 0.6, 0.99)\n",
    "v0_dphi_dist_20_50.GetYaxis().SetLabelSize(0)\n",
    "v0_dphi_dist_20_50.GetYaxis().SetTitle(\"\")\n",
    "v0_dphi_dist_20_50.Draw()\n",
    "dphi_canvas.cd(3)\n",
    "# this removes the y axis labels for the right plot\n",
    "dphi_canvas.GetPad(3).SetPad(0.6, 0.01, 0.99, 0.99)\n",
    "v0_dphi_dist_50_80.GetYaxis().SetLabelSize(0)\n",
    "v0_dphi_dist_50_80.GetYaxis().SetTitle(\"\")\n",
    "v0_dphi_dist_50_80.Draw()\n",
    "\n",
    "dphi_canvas.Draw()"
   ]
  },
  {
   "cell_type": "code",
   "execution_count": null,
   "metadata": {},
   "outputs": [],
   "source": [
    "v0_dphi_dist_0_20.Draw()\n",
    "# res_dphi_dist_0_20.Draw(\"SAME\")\n",
    "dphi_canvas.cd(2)\n",
    "v0_dphi_dist_20_50.Draw()\n",
    "# res_dphi_dist_20_50.Draw(\"SAME\")\n",
    "dphi_canvas.cd(3)\n",
    "v0_dphi_dist_50_80.Draw()\n",
    "# res_dphi_dist_50_80.Draw(\"SAME\")\n",
    "dphi_canvas.Draw()"
   ]
  },
  {
   "cell_type": "code",
   "execution_count": null,
   "metadata": {},
   "outputs": [],
   "source": [
    "lambda_mass_dist_0_20 = v0_input_file.Get(\"lambda_mass_dist_0_20\")"
   ]
  },
  {
   "cell_type": "code",
   "execution_count": null,
   "metadata": {},
   "outputs": [],
   "source": [
    "lambda_mass_dist_0_20.SetTitle(\"\")\n",
    "lambda_mass_dist_0_20.SetLineWidth(2)\n",
    "lambda_mass_dist_0_20.SetLineColor(rt.kBlack)\n",
    "lambda_mass_dist_0_20.SetMarkerStyle(20)\n",
    "lambda_mass_dist_0_20.SetMarkerSize(0.5)\n",
    "lambda_mass_dist_0_20.SetMarkerColor(rt.kBlack)\n",
    "lambda_mass_dist_0_20.GetXaxis().SetTitle(\"M_{p#pi} (GeV/c^{2})\")\n",
    "lambda_mass_dist_0_20.GetYaxis().SetTitle(\"Counts/[10 MeV/c^{2}]\")"
   ]
  },
  {
   "cell_type": "code",
   "execution_count": null,
   "metadata": {},
   "outputs": [],
   "source": [
    "bin_1 = lambda_mass_dist_0_20.FindBin(1.09)\n",
    "bin_2 = lambda_mass_dist_0_20.FindBin(1.15)\n",
    "bin_3 = lambda_mass_dist_0_20.FindBin(1.16 - 0.00001)\n",
    "point_one = [1.09, lambda_mass_dist_0_20.GetBinContent(bin_1)]\n",
    "point_two = [1.15, lambda_mass_dist_0_20.GetBinContent(bin_2)]\n",
    "point_three = [1.16, lambda_mass_dist_0_20.GetBinContent(bin_3)]\n",
    "bg_starting_params_0_20 = get_parabola(point_one, point_two, point_three)"
   ]
  },
  {
   "cell_type": "code",
   "execution_count": null,
   "metadata": {},
   "outputs": [],
   "source": [
    "lambda_mass_fit_0_20 = rt.TF1(\"lambda_mass_fit_0_20\", \"[0]*TMath::Voigt(x - [1], [2], [3], 4) + pol2(4)\", 1.09, 1.155)\n",
    "lambda_mass_fit_0_20.SetNpx(1000)\n",
    "lambda_mass_fit_0_20.SetParameter(0, 1.36753e01)\n",
    "lambda_mass_fit_0_20.FixParameter(1, 1.1162)\n",
    "lambda_mass_fit_0_20.SetParameter(2, 1.00576e-05 )\n",
    "lambda_mass_fit_0_20.SetParameter(3, 6.04166e-03)\n",
    "lambda_mass_fit_0_20.SetParameter(4, bg_starting_params_0_20[0])\n",
    "lambda_mass_fit_0_20.SetParameter(5, bg_starting_params_0_20[1])\n",
    "lambda_mass_fit_0_20.SetParameter(6, bg_starting_params_0_20[2])\n",
    "lambda_mass_fit_0_20.SetLineStyle(2)\n",
    "lambda_mass_fit_0_20.SetLineColor(rt.kRed - 7)\n",
    "lambda_mass_dist_0_20.Fit(lambda_mass_fit_0_20, \"RS\")"
   ]
  },
  {
   "cell_type": "code",
   "execution_count": null,
   "metadata": {},
   "outputs": [],
   "source": [
    "bg_fit_0_20 = rt.TF1(\"bg_fit_0_20\", \"pol2\", 1.09, 1.15)\n",
    "bg_fit_0_20.SetNpx(1000)\n",
    "bg_fit_0_20.SetParameter(0, lambda_mass_fit_0_20.GetParameter(4))\n",
    "bg_fit_0_20.SetParameter(1, lambda_mass_fit_0_20.GetParameter(5))\n",
    "bg_fit_0_20.SetParameter(2, lambda_mass_fit_0_20.GetParameter(6))\n",
    "bg_fit_0_20.SetLineStyle(2)\n",
    "bg_fit_0_20.SetLineColor(rt.kGreen - 2)"
   ]
  },
  {
   "cell_type": "code",
   "execution_count": null,
   "metadata": {},
   "outputs": [],
   "source": [
    "lambda_mass_dist_0_20.Draw()\n",
    "bg_fit_0_20.Draw(\"SAME\")\n",
    "\n",
    "\n",
    "legend_y_start = 0.5\n",
    "legend_x_start = 0.72\n",
    "legend_x_width = 0.2\n",
    "legend_y_width = 0.2\n",
    "legend_y_finish = legend_y_start + legend_y_width\n",
    "legend_x_finish = legend_x_start + legend_x_width\n",
    "\n",
    "mass_legend_0_20 = rt.TLegend(legend_x_start, legend_y_start, legend_x_finish, legend_y_finish)\n",
    "mass_legend_0_20.SetTextSize(0.03)\n",
    "mass_legend_0_20.SetBorderSize(0)\n",
    "mass_legend_0_20.SetFillStyle(0)\n",
    "mass_legend_0_20.AddEntry(lambda_mass_dist_0_20, \"Data\", \"lep\")\n",
    "mass_legend_0_20.AddEntry(lambda_mass_fit_0_20, \"Total fit\", \"lp\")\n",
    "mass_legend_0_20.AddEntry(bg_fit_0_20, \"Background fit\", \"lp\")\n",
    "\n",
    "mass_legend_0_20.Draw(\"SAME\")\n",
    "\n",
    "label_y_start = 0.9\n",
    "label_x_start = 0.2\n",
    "label_text_space = 0.04\n",
    "\n",
    "alice_data_label = rt.TLatex()\n",
    "alice_data_label.SetNDC()\n",
    "alice_data_label.SetTextSize(0.03)\n",
    "alice_data_label.SetTextAlign(13)\n",
    "alice_data_label.DrawLatex(label_x_start, label_y_start, \"ALICE Performance\")\n",
    "alice_data_label.DrawLatex(label_x_start, label_y_start - label_text_space, \"#bf{p-Pb #sqrt{s_{NN}} = 5.02 TeV}\")\n",
    "alice_data_label.DrawLatex(label_x_start, label_y_start - 2*label_text_space, \"#bf{0-20% centrality}\")\n",
    "alice_data_label.DrawLatex(label_x_start, label_y_start - 3*label_text_space + 0.01, \"#bf{#Lambda^{0} #rightarrow p#pi^{+} (#bar{#Lambda}^{0} #rightarrow #bar{p}#pi^{-})}\")\n",
    "alice_data_label.DrawLatex(label_x_start, label_y_start - 4*label_text_space, \"#bf{2.0 < #it{p}_{T} < 4.0 GeV/c}\")\n",
    "\n",
    "c.Draw()\n",
    "c.SaveAs(\"figures/v0_lambda_mass_0_20_with_fit.pdf\")"
   ]
  }
 ],
 "metadata": {
  "kernelspec": {
   "display_name": "Python 3",
   "language": "python",
   "name": "python3"
  },
  "language_info": {
   "name": "python",
   "version": "3.10.8 (main, Oct 13 2022, 09:48:40) [Clang 14.0.0 (clang-1400.0.29.102)]"
  },
  "orig_nbformat": 4,
  "vscode": {
   "interpreter": {
    "hash": "b0fa6594d8f4cbf19f97940f81e996739fb7646882a419484c72d19e05852a7e"
   }
  }
 },
 "nbformat": 4,
 "nbformat_minor": 2
}
