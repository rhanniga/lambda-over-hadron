{
 "cells": [
  {
   "cell_type": "code",
   "execution_count": 26,
   "metadata": {},
   "outputs": [],
   "source": [
    "import ROOT as rt\n",
    "\n",
    "from strangehelper import get_parabola"
   ]
  },
  {
   "cell_type": "code",
   "execution_count": 27,
   "metadata": {},
   "outputs": [],
   "source": [
    "rt.gStyle.SetOptStat(0)"
   ]
  },
  {
   "cell_type": "code",
   "execution_count": 71,
   "metadata": {},
   "outputs": [
    {
     "name": "stderr",
     "output_type": "stream",
     "text": [
      "Warning in <TCanvas::Constructor>: Deleting canvas with same name: c\n"
     ]
    }
   ],
   "source": [
    "c = rt.TCanvas(\"c\", \"c\", 800, 600)\n",
    "c.SetRightMargin(0.05)\n",
    "c.SetLeftMargin(0.15)\n",
    "c.SetTopMargin(0.05)"
   ]
  },
  {
   "cell_type": "code",
   "execution_count": 105,
   "metadata": {},
   "outputs": [],
   "source": [
    "res_input_file = rt.TFile(\"output/res_avg6_sideband_subtraction_rsb_116_118_sig_11_114_trig_40_80_assoc_20_40_delta_eta_14.root\")\n",
    "v0_input_file = rt.TFile(\"output/v0_avg6_rsb_116_118_sig_11_1134_trig_40_80_assoc_20_40_delta_eta_14.root\")"
   ]
  },
  {
   "cell_type": "code",
   "execution_count": 73,
   "metadata": {},
   "outputs": [],
   "source": [
    "lambda_mass_dist_0_20 = res_input_file.Get(\"lambda_mass_dist_0_20\")\n",
    "lambda_mass_ls_dist_0_20 = res_input_file.Get(\"lambda_mass_ls_dist_0_20\")\n",
    "RSB_region_0_20 = res_input_file.Get(\"RSB_region_0_20\")\n",
    "RSB_min_line_0_20 = res_input_file.Get(\"RSB_min_line_0_20\")\n",
    "RSB_max_line_0_20 = res_input_file.Get(\"RSB_max_line_0_20\")"
   ]
  },
  {
   "cell_type": "code",
   "execution_count": 74,
   "metadata": {},
   "outputs": [],
   "source": [
    "lambda_mass_dist_0_20.SetTitle(\"\")\n",
    "lambda_mass_dist_0_20.SetLineWidth(2)\n",
    "lambda_mass_dist_0_20.SetLineColor(rt.kBlack)\n",
    "lambda_mass_dist_0_20.SetMarkerStyle(20)\n",
    "lambda_mass_dist_0_20.SetMarkerSize(0.5)\n",
    "lambda_mass_dist_0_20.SetMarkerColor(rt.kBlack)\n",
    "lambda_mass_dist_0_20.GetXaxis().SetTitle(\"M_{p#pi} (GeV/c^{2})\")\n",
    "lambda_mass_dist_0_20.GetYaxis().SetTitle(\"Counts/[10 MeV/c^{2}]\")"
   ]
  },
  {
   "cell_type": "code",
   "execution_count": 75,
   "metadata": {},
   "outputs": [],
   "source": [
    "lambda_mass_ls_dist_0_20.SetLineWidth(2)\n",
    "lambda_mass_ls_dist_0_20.SetLineColor(rt.kViolet - 6)\n",
    "lambda_mass_ls_dist_0_20.SetMarkerStyle(20)\n",
    "lambda_mass_ls_dist_0_20.SetMarkerSize(0.5)\n",
    "lambda_mass_ls_dist_0_20.SetMarkerColor(rt.kViolet - 6)"
   ]
  },
  {
   "cell_type": "code",
   "execution_count": 76,
   "metadata": {},
   "outputs": [
    {
     "data": {
      "text/plain": [
       "<cppyy.gbl.TLegendEntry object at 0x564680c02270>"
      ]
     },
     "execution_count": 76,
     "metadata": {},
     "output_type": "execute_result"
    }
   ],
   "source": [
    "mass_legend_0_20 = rt.TLegend(0.65, 0.2, 0.8, 0.4)\n",
    "mass_legend_0_20.SetTextSize(0.025)\n",
    "mass_legend_0_20.SetBorderSize(0)\n",
    "mass_legend_0_20.SetFillStyle(0)\n",
    "mass_legend_0_20.AddEntry(lambda_mass_dist_0_20, \"Total (sig. + comb. BG)\", \"lp\")\n",
    "mass_legend_0_20.AddEntry(lambda_mass_ls_dist_0_20, \"Like-sign p-#pi BG scaled to Total in RSB\", \"lp\")\n",
    "mass_legend_0_20.AddEntry(RSB_region_0_20, \"RSB region: 1.16 < M_{p#pi} < 1.18\", \"f\")"
   ]
  },
  {
   "cell_type": "code",
   "execution_count": 77,
   "metadata": {},
   "outputs": [
    {
     "data": {
      "text/plain": [
       "<cppyy.gbl.TLatex object at 0x564680335ec0>"
      ]
     },
     "execution_count": 77,
     "metadata": {},
     "output_type": "execute_result"
    }
   ],
   "source": [
    "lambda_mass_dist_0_20.Draw()\n",
    "lambda_mass_ls_dist_0_20.Draw(\"SAME\")\n",
    "mass_legend_0_20.Draw(\"SAME\")\n",
    "RSB_region_0_20.Draw(\"SAME\")\n",
    "RSB_max_line_0_20.Draw(\"SAME\")\n",
    "RSB_min_line_0_20.Draw(\"SAME\")\n",
    "\n",
    "label_y_start = 0.91\n",
    "label_x_start = 0.67\n",
    "label_text_space = 0.04\n",
    "\n",
    "alice_data_label = rt.TLatex()\n",
    "alice_data_label.SetNDC()\n",
    "alice_data_label.SetTextSize(0.03)\n",
    "alice_data_label.SetTextAlign(13)\n",
    "alice_data_label.DrawLatex(label_x_start, label_y_start, \"ALICE Performance\")\n",
    "alice_data_label.DrawLatex(label_x_start, label_y_start - label_text_space, \"#bf{p-Pb #sqrt{s_{NN}} = 5.02 TeV}\")\n",
    "alice_data_label.DrawLatex(label_x_start, label_y_start - 2*label_text_space, \"#bf{20-50% centrality}\")\n",
    "alice_data_label.DrawLatex(label_x_start, label_y_start - 3*label_text_space + 0.01, \"#bf{#Lambda^{0} #rightarrow p#pi^{+} (#bar{#Lambda}^{0} #rightarrow #bar{p}#pi^{-})}\")\n",
    "alice_data_label.DrawLatex(label_x_start, label_y_start - 4*label_text_space, \"#bf{2.0 < #it{p}_{T} < 4.0 GeV/c}\")"
   ]
  },
  {
   "cell_type": "code",
   "execution_count": 78,
   "metadata": {},
   "outputs": [],
   "source": [
    "lambda_mass_dist_20_50 = res_input_file.Get(\"lambda_mass_dist_20_50\")\n",
    "lambda_mass_ls_dist_20_50 = res_input_file.Get(\"lambda_mass_ls_dist_20_50\")\n",
    "RSB_region_20_50 = res_input_file.Get(\"RSB_region_20_50\")\n",
    "RSB_min_line_20_50 = res_input_file.Get(\"RSB_min_line_20_50\")\n",
    "RSB_max_line_20_50 = res_input_file.Get(\"RSB_max_line_20_50\")"
   ]
  },
  {
   "cell_type": "code",
   "execution_count": 79,
   "metadata": {},
   "outputs": [],
   "source": [
    "lambda_mass_dist_20_50.SetTitle(\"\")\n",
    "lambda_mass_dist_20_50.SetLineWidth(2)\n",
    "lambda_mass_dist_20_50.SetLineColor(rt.kBlack)\n",
    "lambda_mass_dist_20_50.SetMarkerStyle(20)\n",
    "lambda_mass_dist_20_50.SetMarkerSize(0.5)\n",
    "lambda_mass_dist_20_50.SetMarkerColor(rt.kBlack)\n",
    "lambda_mass_dist_20_50.GetXaxis().SetTitle(\"M_{p#pi} (GeV/c^{2})\")\n",
    "lambda_mass_dist_20_50.GetYaxis().SetTitle(\"Counts/[10 MeV/c^{2}]\")"
   ]
  },
  {
   "cell_type": "code",
   "execution_count": 80,
   "metadata": {},
   "outputs": [],
   "source": [
    "lambda_mass_ls_dist_20_50.SetLineWidth(2)\n",
    "lambda_mass_ls_dist_20_50.SetLineColor(rt.kViolet - 6)\n",
    "lambda_mass_ls_dist_20_50.SetMarkerStyle(20)\n",
    "lambda_mass_ls_dist_20_50.SetMarkerSize(0.5)\n",
    "lambda_mass_ls_dist_20_50.SetMarkerColor(rt.kViolet - 6)"
   ]
  },
  {
   "cell_type": "code",
   "execution_count": 81,
   "metadata": {},
   "outputs": [
    {
     "data": {
      "text/plain": [
       "<cppyy.gbl.TLegendEntry object at 0x564681201c80>"
      ]
     },
     "execution_count": 81,
     "metadata": {},
     "output_type": "execute_result"
    }
   ],
   "source": [
    "mass_legend_20_50 = rt.TLegend(0.65, 0.2, 0.8, 0.4)\n",
    "mass_legend_20_50.SetTextSize(0.025)\n",
    "mass_legend_20_50.SetBorderSize(0)\n",
    "mass_legend_20_50.SetFillStyle(0)\n",
    "mass_legend_20_50.AddEntry(lambda_mass_dist_20_50, \"Total (sig. + comb. BG)\", \"lep\")\n",
    "mass_legend_20_50.AddEntry(lambda_mass_ls_dist_20_50, \"Like-sign p-#pi BG\", \"lep\")\n",
    "mass_legend_20_50.AddEntry(RSB_region_20_50, \"RSB region: 1.20 < M_{p#pi} < 1.22\", \"f\")"
   ]
  },
  {
   "cell_type": "code",
   "execution_count": 82,
   "metadata": {},
   "outputs": [
    {
     "name": "stderr",
     "output_type": "stream",
     "text": [
      "Info in <TCanvas::Print>: pdf file figures/res_lambda_mass_dist_20_50_with_ls_with_rsb.pdf has been created\n"
     ]
    },
    {
     "data": {
      "image/png": "[encoded data removed]",
      "text/plain": [
       "<IPython.core.display.Image object>"
      ]
     },
     "metadata": {},
     "output_type": "display_data"
    }
   ],
   "source": [
    "lambda_mass_dist_20_50.Draw()\n",
    "lambda_mass_ls_dist_20_50.Draw(\"SAME\")\n",
    "mass_legend_20_50.Draw(\"SAME\")\n",
    "RSB_region_20_50.Draw(\"SAME\")\n",
    "RSB_max_line_20_50.Draw(\"SAME\")\n",
    "RSB_min_line_20_50.Draw(\"SAME\")\n",
    "\n",
    "\n",
    "label_y_start = 0.91\n",
    "label_x_start = 0.67\n",
    "label_text_space = 0.04\n",
    "\n",
    "alice_data_label = rt.TLatex()\n",
    "alice_data_label.SetNDC()\n",
    "alice_data_label.SetTextSize(0.03)\n",
    "alice_data_label.SetTextAlign(13)\n",
    "alice_data_label.DrawLatex(label_x_start, label_y_start, \"ALICE Performance\")\n",
    "alice_data_label.DrawLatex(label_x_start, label_y_start - label_text_space, \"#bf{p-Pb #sqrt{s_{NN}} = 5.02 TeV}\")\n",
    "alice_data_label.DrawLatex(label_x_start, label_y_start - 2*label_text_space, \"#bf{20-50% centrality}\")\n",
    "alice_data_label.DrawLatex(label_x_start, label_y_start - 3*label_text_space + 0.01, \"#bf{#Lambda^{0} #rightarrow p#pi^{+} (#bar{#Lambda}^{0} #rightarrow #bar{p}#pi^{-})}\")\n",
    "alice_data_label.DrawLatex(label_x_start, label_y_start - 4*label_text_space, \"#bf{2.0 < #it{p}_{T} < 4.0 GeV/c}\")\n",
    "\n",
    "c.Draw()\n",
    "c.SaveAs(\"figures/res_lambda_mass_dist_20_50_with_ls_with_rsb.pdf\")"
   ]
  },
  {
   "cell_type": "code",
   "execution_count": 83,
   "metadata": {},
   "outputs": [],
   "source": [
    "lambda_mass_dist_50_80 = res_input_file.Get(\"lambda_mass_dist_50_80\")\n",
    "lambda_mass_ls_dist_50_80 = res_input_file.Get(\"lambda_mass_ls_dist_50_80\")\n",
    "RSB_region_50_80 = res_input_file.Get(\"RSB_region_50_80\")\n",
    "RSB_min_line_50_80 = res_input_file.Get(\"RSB_min_line_50_80\")\n",
    "RSB_max_line_50_80 = res_input_file.Get(\"RSB_max_line_50_80\")"
   ]
  },
  {
   "cell_type": "code",
   "execution_count": 84,
   "metadata": {},
   "outputs": [],
   "source": [
    "lambda_mass_dist_50_80.SetTitle(\"\")\n",
    "lambda_mass_dist_50_80.SetLineWidth(2)\n",
    "lambda_mass_dist_50_80.SetLineColor(rt.kBlack)\n",
    "lambda_mass_dist_50_80.SetMarkerStyle(20)\n",
    "lambda_mass_dist_50_80.SetMarkerSize(0.5)\n",
    "lambda_mass_dist_50_80.SetMarkerColor(rt.kBlack)\n",
    "lambda_mass_dist_50_80.GetXaxis().SetTitle(\"M_{p#pi} (GeV/c^{2})\")\n",
    "lambda_mass_dist_50_80.GetYaxis().SetTitle(\"Counts/[10 MeV/c^{2}]\")"
   ]
  },
  {
   "cell_type": "code",
   "execution_count": 85,
   "metadata": {},
   "outputs": [],
   "source": [
    "lambda_mass_ls_dist_50_80.SetLineWidth(2)\n",
    "lambda_mass_ls_dist_50_80.SetLineColor(rt.kViolet - 6)\n",
    "lambda_mass_ls_dist_50_80.SetMarkerStyle(20)\n",
    "lambda_mass_ls_dist_50_80.SetMarkerSize(0.5)\n",
    "lambda_mass_ls_dist_50_80.SetMarkerColor(rt.kViolet - 6)"
   ]
  },
  {
   "cell_type": "code",
   "execution_count": 86,
   "metadata": {},
   "outputs": [
    {
     "data": {
      "text/plain": [
       "<cppyy.gbl.TLegendEntry object at 0x56467f9503a0>"
      ]
     },
     "execution_count": 86,
     "metadata": {},
     "output_type": "execute_result"
    }
   ],
   "source": [
    "mass_legend_50_80 = rt.TLegend(0.65, 0.2, 0.8, 0.4)\n",
    "mass_legend_50_80.SetTextSize(0.02)\n",
    "mass_legend_50_80.SetBorderSize(0)\n",
    "mass_legend_50_80.SetFillStyle(0)\n",
    "mass_legend_50_80.AddEntry(lambda_mass_dist_50_80, \"Total (sig. + comb. BG)\", \"lp\")\n",
    "mass_legend_50_80.AddEntry(lambda_mass_ls_dist_50_80, \"Like-sign p-#pi BG scaled to Total in RSB\", \"lp\")\n",
    "mass_legend_50_80.AddEntry(RSB_region_50_80, \"RSB region: 1.16 < M_{p#pi} < 1.18\", \"f\")"
   ]
  },
  {
   "cell_type": "code",
   "execution_count": 87,
   "metadata": {},
   "outputs": [
    {
     "data": {
      "image/png": "[encoded data removed]",
      "text/plain": [
       "<IPython.core.display.Image object>"
      ]
     },
     "metadata": {},
     "output_type": "display_data"
    }
   ],
   "source": [
    "lambda_mass_dist_50_80.Draw()\n",
    "lambda_mass_ls_dist_50_80.Draw(\"SAME\")\n",
    "mass_legend_50_80.Draw(\"SAME\")\n",
    "RSB_region_50_80.Draw(\"SAME\")\n",
    "RSB_max_line_50_80.Draw(\"SAME\")\n",
    "RSB_min_line_50_80.Draw(\"SAME\")\n",
    "\n",
    "\n",
    "label_y_start = 0.91\n",
    "label_x_start = 0.67\n",
    "label_text_space = 0.04\n",
    "\n",
    "alice_data_label = rt.TLatex()\n",
    "alice_data_label.SetNDC()\n",
    "alice_data_label.SetTextSize(0.03)\n",
    "alice_data_label.SetTextAlign(13)\n",
    "alice_data_label.DrawLatex(label_x_start, label_y_start, \"ALICE Performance\")\n",
    "alice_data_label.DrawLatex(label_x_start, label_y_start - label_text_space, \"#bf{p-Pb #sqrt{s_{NN}} = 5.02 TeV}\")\n",
    "alice_data_label.DrawLatex(label_x_start, label_y_start - 2*label_text_space, \"#bf{20-50% centrality}\")\n",
    "alice_data_label.DrawLatex(label_x_start, label_y_start - 3*label_text_space + 0.01, \"#bf{#Lambda^{0} #rightarrow p#pi^{+} (#bar{#Lambda}^{0} #rightarrow #bar{p}#pi^{-})}\")\n",
    "alice_data_label.DrawLatex(label_x_start, label_y_start - 4*label_text_space, \"#bf{2.0 < #it{p}_{T} < 4.0 GeV/c}\")\n",
    "\n",
    "\n",
    "c.Draw()"
   ]
  },
  {
   "cell_type": "code",
   "execution_count": 88,
   "metadata": {},
   "outputs": [
    {
     "ename": "AttributeError",
     "evalue": "'CPyCppyy_NoneType' object has no attribute 'GetYaxis'",
     "output_type": "error",
     "traceback": [
      "\u001b[0;31m---------------------------------------------------------------------------\u001b[0m",
      "\u001b[0;31mAttributeError\u001b[0m                            Traceback (most recent call last)",
      "\u001b[0;32m<ipython-input-88-effa95db5897>\u001b[0m in \u001b[0;36m<module>\u001b[0;34m\u001b[0m\n\u001b[1;32m      4\u001b[0m \u001b[0;31m# this removes the padding so the y-axis intersects for all three plots\u001b[0m\u001b[0;34m\u001b[0m\u001b[0;34m\u001b[0m\u001b[0;34m\u001b[0m\u001b[0m\n\u001b[1;32m      5\u001b[0m \u001b[0mdphi_canvas\u001b[0m\u001b[0;34m.\u001b[0m\u001b[0mGetPad\u001b[0m\u001b[0;34m(\u001b[0m\u001b[0;36m1\u001b[0m\u001b[0;34m)\u001b[0m\u001b[0;34m.\u001b[0m\u001b[0mSetPad\u001b[0m\u001b[0;34m(\u001b[0m\u001b[0;36m0.1\u001b[0m\u001b[0;34m,\u001b[0m \u001b[0;36m0.01\u001b[0m\u001b[0;34m,\u001b[0m \u001b[0;36m0.35\u001b[0m\u001b[0;34m,\u001b[0m \u001b[0;36m0.99\u001b[0m\u001b[0;34m)\u001b[0m\u001b[0;34m\u001b[0m\u001b[0;34m\u001b[0m\u001b[0m\n\u001b[0;32m----> 6\u001b[0;31m \u001b[0mv0_dphi_dist_0_20\u001b[0m\u001b[0;34m.\u001b[0m\u001b[0mGetYaxis\u001b[0m\u001b[0;34m(\u001b[0m\u001b[0;34m)\u001b[0m\u001b[0;34m.\u001b[0m\u001b[0mSetLabelSize\u001b[0m\u001b[0;34m(\u001b[0m\u001b[0;36m0.03\u001b[0m\u001b[0;34m)\u001b[0m\u001b[0;34m\u001b[0m\u001b[0;34m\u001b[0m\u001b[0m\n\u001b[0m\u001b[1;32m      7\u001b[0m \u001b[0mv0_dphi_dist_0_20\u001b[0m\u001b[0;34m.\u001b[0m\u001b[0mGetYaxis\u001b[0m\u001b[0;34m(\u001b[0m\u001b[0;34m)\u001b[0m\u001b[0;34m.\u001b[0m\u001b[0mSetTitle\u001b[0m\u001b[0;34m(\u001b[0m\u001b[0;34m\"Counts/[0.1 rad]\"\u001b[0m\u001b[0;34m)\u001b[0m\u001b[0;34m\u001b[0m\u001b[0;34m\u001b[0m\u001b[0m\n\u001b[1;32m      8\u001b[0m \u001b[0mv0_dphi_dist_0_20\u001b[0m\u001b[0;34m.\u001b[0m\u001b[0mDraw\u001b[0m\u001b[0;34m(\u001b[0m\u001b[0;34m)\u001b[0m\u001b[0;34m\u001b[0m\u001b[0;34m\u001b[0m\u001b[0m\n",
      "\u001b[0;31mAttributeError\u001b[0m: 'CPyCppyy_NoneType' object has no attribute 'GetYaxis'"
     ]
    }
   ],
   "source": [
    "dphi_canvas = rt.TCanvas(\"dphi_canvas\", \"dphi_canvas\", 800, 400)\n",
    "dphi_canvas.Divide(3, 1)\n",
    "dphi_canvas.cd(1)\n",
    "# this removes the padding so the y-axis intersects for all three plots\n",
    "dphi_canvas.GetPad(1).SetPad(0.1, 0.01, 0.35, 0.99)\n",
    "v0_dphi_dist_0_20.GetYaxis().SetLabelSize(0.03)\n",
    "v0_dphi_dist_0_20.GetYaxis().SetTitle(\"Counts/[0.1 rad]\")\n",
    "v0_dphi_dist_0_20.Draw()\n",
    "dphi_canvas.cd(2)\n",
    "# this removes the y axis labels for the middle plot\n",
    "dphi_canvas.GetPad(2).SetPad(0.4, 0.01, 0.6, 0.99)\n",
    "v0_dphi_dist_20_50.GetYaxis().SetLabelSize(0)\n",
    "v0_dphi_dist_20_50.GetYaxis().SetTitle(\"\")\n",
    "v0_dphi_dist_20_50.Draw()\n",
    "dphi_canvas.cd(3)\n",
    "# this removes the y axis labels for the right plot\n",
    "dphi_canvas.GetPad(3).SetPad(0.6, 0.01, 0.99, 0.99)\n",
    "v0_dphi_dist_50_80.GetYaxis().SetLabelSize(0)\n",
    "v0_dphi_dist_50_80.GetYaxis().SetTitle(\"\")\n",
    "v0_dphi_dist_50_80.Draw()\n",
    "\n",
    "dphi_canvas.Draw()"
   ]
  },
  {
   "cell_type": "code",
   "execution_count": 324,
   "metadata": {},
   "outputs": [
    {
     "ename": "AttributeError",
     "evalue": "'CPyCppyy_NoneType' object has no attribute 'Draw'",
     "output_type": "error",
     "traceback": [
      "\u001b[0;31m---------------------------------------------------------------------------\u001b[0m",
      "\u001b[0;31mAttributeError\u001b[0m                            Traceback (most recent call last)",
      "\u001b[0;32m<ipython-input-324-cfe16f1f9293>\u001b[0m in \u001b[0;36m<module>\u001b[0;34m\u001b[0m\n\u001b[0;32m----> 1\u001b[0;31m \u001b[0mv0_dphi_dist_0_20\u001b[0m\u001b[0;34m.\u001b[0m\u001b[0mDraw\u001b[0m\u001b[0;34m(\u001b[0m\u001b[0;34m)\u001b[0m\u001b[0;34m\u001b[0m\u001b[0;34m\u001b[0m\u001b[0m\n\u001b[0m\u001b[1;32m      2\u001b[0m \u001b[0;31m# res_dphi_dist_0_20.Draw(\"SAME\")\u001b[0m\u001b[0;34m\u001b[0m\u001b[0;34m\u001b[0m\u001b[0;34m\u001b[0m\u001b[0m\n\u001b[1;32m      3\u001b[0m \u001b[0mdphi_canvas\u001b[0m\u001b[0;34m.\u001b[0m\u001b[0mcd\u001b[0m\u001b[0;34m(\u001b[0m\u001b[0;36m2\u001b[0m\u001b[0;34m)\u001b[0m\u001b[0;34m\u001b[0m\u001b[0;34m\u001b[0m\u001b[0m\n\u001b[1;32m      4\u001b[0m \u001b[0mv0_dphi_dist_20_50\u001b[0m\u001b[0;34m.\u001b[0m\u001b[0mDraw\u001b[0m\u001b[0;34m(\u001b[0m\u001b[0;34m)\u001b[0m\u001b[0;34m\u001b[0m\u001b[0;34m\u001b[0m\u001b[0m\n\u001b[1;32m      5\u001b[0m \u001b[0;31m# res_dphi_dist_20_50.Draw(\"SAME\")\u001b[0m\u001b[0;34m\u001b[0m\u001b[0;34m\u001b[0m\u001b[0;34m\u001b[0m\u001b[0m\n",
      "\u001b[0;31mAttributeError\u001b[0m: 'CPyCppyy_NoneType' object has no attribute 'Draw'"
     ]
    }
   ],
   "source": [
    "v0_dphi_dist_0_20.Draw()\n",
    "# res_dphi_dist_0_20.Draw(\"SAME\")\n",
    "dphi_canvas.cd(2)\n",
    "v0_dphi_dist_20_50.Draw()\n",
    "# res_dphi_dist_20_50.Draw(\"SAME\")\n",
    "dphi_canvas.cd(3)\n",
    "v0_dphi_dist_50_80.Draw()\n",
    "# res_dphi_dist_50_80.Draw(\"SAME\")\n",
    "dphi_canvas.Draw()"
   ]
  },
  {
   "cell_type": "code",
   "execution_count": 325,
   "metadata": {},
   "outputs": [],
   "source": [
    "lambda_mass_dist_0_20 = v0_input_file.Get(\"lambda_mass_dist_0_20\")"
   ]
  },
  {
   "cell_type": "code",
   "execution_count": 326,
   "metadata": {},
   "outputs": [],
   "source": [
    "lambda_mass_dist_0_20.SetTitle(\"\")\n",
    "lambda_mass_dist_0_20.SetLineWidth(2)\n",
    "lambda_mass_dist_0_20.SetLineColor(rt.kBlack)\n",
    "lambda_mass_dist_0_20.SetMarkerStyle(20)\n",
    "lambda_mass_dist_0_20.SetMarkerSize(0.5)\n",
    "lambda_mass_dist_0_20.SetMarkerColor(rt.kBlack)\n",
    "lambda_mass_dist_0_20.GetXaxis().SetTitle(\"M_{p#pi} (GeV/c^{2})\")\n",
    "lambda_mass_dist_0_20.GetYaxis().SetTitle(\"Counts/[10 MeV/c^{2}]\")"
   ]
  },
  {
   "cell_type": "code",
   "execution_count": 327,
   "metadata": {},
   "outputs": [],
   "source": [
    "bin_1 = lambda_mass_dist_0_20.FindBin(1.09)\n",
    "bin_2 = lambda_mass_dist_0_20.FindBin(1.15)\n",
    "bin_3 = lambda_mass_dist_0_20.FindBin(1.16 - 0.00001)\n",
    "point_one = [1.09, lambda_mass_dist_0_20.GetBinContent(bin_1)]\n",
    "point_two = [1.15, lambda_mass_dist_0_20.GetBinContent(bin_2)]\n",
    "point_three = [1.16, lambda_mass_dist_0_20.GetBinContent(bin_3)]\n",
    "bg_starting_params_0_20 = get_parabola(point_one, point_two, point_three)"
   ]
  },
  {
   "cell_type": "code",
   "execution_count": 328,
   "metadata": {},
   "outputs": [
    {
     "data": {
      "text/plain": [
       "<cppyy.gbl.TFitResultPtr object at 0x561b2e8e8490>"
      ]
     },
     "execution_count": 328,
     "metadata": {},
     "output_type": "execute_result"
    },
    {
     "name": "stdout",
     "output_type": "stream",
     "text": [
      " FCN=2384.91 FROM MIGRAD    STATUS=CONVERGED     531 CALLS         532 TOTAL\n",
      "                     EDM=1.74431e-07    STRATEGY= 1  ERROR MATRIX UNCERTAINTY   1.6 per cent\n",
      "  EXT PARAMETER                                   STEP         FIRST   \n",
      "  NO.   NAME      VALUE            ERROR          SIZE      DERIVATIVE \n",
      "   1  p0           1.81638e+02   5.31939e-01  -4.68665e-03   1.53775e-03\n",
      "   2  p1           1.11620e+00     fixed    \n",
      "   3  p2           1.23817e-03   9.45958e-06   2.29114e-08   1.07801e+01\n",
      "   4  p3           1.11485e-03   1.92801e-05  -4.69567e-08   5.06919e-01\n",
      "   5  p4           2.41687e+05   1.52216e+04  -3.50829e+01   3.45425e-05\n",
      "   6  p5          -4.43054e+05   2.72072e+04   6.27606e+01   3.85874e-05\n",
      "   7  p6           2.03118e+05   1.21519e+04  -2.80435e+01   4.31373e-05\n"
     ]
    }
   ],
   "source": [
    "lambda_mass_fit_0_20 = rt.TF1(\"lambda_mass_fit_0_20\", \"[0]*TMath::Voigt(x - [1], [2], [3], 4) + pol2(4)\", 1.09, 1.155)\n",
    "lambda_mass_fit_0_20.SetNpx(1000)\n",
    "lambda_mass_fit_0_20.SetParameter(0, 1.36753e01)\n",
    "lambda_mass_fit_0_20.FixParameter(1, 1.1162)\n",
    "lambda_mass_fit_0_20.SetParameter(2, 1.00576e-05 )\n",
    "lambda_mass_fit_0_20.SetParameter(3, 6.04166e-03)\n",
    "lambda_mass_fit_0_20.SetParameter(4, bg_starting_params_0_20[0])\n",
    "lambda_mass_fit_0_20.SetParameter(5, bg_starting_params_0_20[1])\n",
    "lambda_mass_fit_0_20.SetParameter(6, bg_starting_params_0_20[2])\n",
    "lambda_mass_fit_0_20.SetLineStyle(2)\n",
    "lambda_mass_fit_0_20.SetLineColor(rt.kRed - 7)\n",
    "lambda_mass_dist_0_20.Fit(lambda_mass_fit_0_20, \"RS\")"
   ]
  },
  {
   "cell_type": "code",
   "execution_count": 329,
   "metadata": {},
   "outputs": [],
   "source": [
    "bg_fit_0_20 = rt.TF1(\"bg_fit_0_20\", \"pol2\", 1.09, 1.15)\n",
    "bg_fit_0_20.SetNpx(1000)\n",
    "bg_fit_0_20.SetParameter(0, lambda_mass_fit_0_20.GetParameter(4))\n",
    "bg_fit_0_20.SetParameter(1, lambda_mass_fit_0_20.GetParameter(5))\n",
    "bg_fit_0_20.SetParameter(2, lambda_mass_fit_0_20.GetParameter(6))\n",
    "bg_fit_0_20.SetLineStyle(2)\n",
    "bg_fit_0_20.SetLineColor(rt.kGreen - 2)"
   ]
  },
  {
   "cell_type": "code",
   "execution_count": 330,
   "metadata": {},
   "outputs": [
    {
     "name": "stderr",
     "output_type": "stream",
     "text": [
      "Info in <TCanvas::Print>: pdf file figures/v0_lambda_mass_0_20_with_fit.pdf has been created\n"
     ]
    },
    {
     "data": {
      "image/png": "[encoded data removed]",
      "text/plain": [
       "<IPython.core.display.Image object>"
      ]
     },
     "metadata": {},
     "output_type": "display_data"
    }
   ],
   "source": [
    "lambda_mass_dist_0_20.Draw()\n",
    "bg_fit_0_20.Draw(\"SAME\")\n",
    "\n",
    "\n",
    "legend_y_start = 0.5\n",
    "legend_x_start = 0.72\n",
    "legend_x_width = 0.2\n",
    "legend_y_width = 0.2\n",
    "legend_y_finish = legend_y_start + legend_y_width\n",
    "legend_x_finish = legend_x_start + legend_x_width\n",
    "\n",
    "mass_legend_0_20 = rt.TLegend(legend_x_start, legend_y_start, legend_x_finish, legend_y_finish)\n",
    "mass_legend_0_20.SetTextSize(0.03)\n",
    "mass_legend_0_20.SetBorderSize(0)\n",
    "mass_legend_0_20.SetFillStyle(0)\n",
    "mass_legend_0_20.AddEntry(lambda_mass_dist_0_20, \"Data\", \"lep\")\n",
    "mass_legend_0_20.AddEntry(lambda_mass_fit_0_20, \"Total fit\", \"lp\")\n",
    "mass_legend_0_20.AddEntry(bg_fit_0_20, \"Background fit\", \"lp\")\n",
    "\n",
    "mass_legend_0_20.Draw(\"SAME\")\n",
    "\n",
    "label_y_start = 0.9\n",
    "label_x_start = 0.2\n",
    "label_text_space = 0.04\n",
    "\n",
    "alice_data_label = rt.TLatex()\n",
    "alice_data_label.SetNDC()\n",
    "alice_data_label.SetTextSize(0.03)\n",
    "alice_data_label.SetTextAlign(13)\n",
    "alice_data_label.DrawLatex(label_x_start, label_y_start, \"ALICE Performance\")\n",
    "alice_data_label.DrawLatex(label_x_start, label_y_start - label_text_space, \"#bf{p-Pb #sqrt{s_{NN}} = 5.02 TeV}\")\n",
    "alice_data_label.DrawLatex(label_x_start, label_y_start - 2*label_text_space, \"#bf{0-20% centrality}\")\n",
    "alice_data_label.DrawLatex(label_x_start, label_y_start - 3*label_text_space + 0.01, \"#bf{#Lambda^{0} #rightarrow p#pi^{+} (#bar{#Lambda}^{0} #rightarrow #bar{p}#pi^{-})}\")\n",
    "alice_data_label.DrawLatex(label_x_start, label_y_start - 4*label_text_space, \"#bf{2.0 < #it{p}_{T} < 4.0 GeV/c}\")\n",
    "\n",
    "c.Draw()\n",
    "c.SaveAs(\"figures/v0_lambda_mass_0_20_with_fit.pdf\")"
   ]
  },
  {
   "cell_type": "code",
   "execution_count": 331,
   "metadata": {},
   "outputs": [],
   "source": [
    "### LAMBDA DPHI SECTION"
   ]
  },
  {
   "cell_type": "code",
   "execution_count": 106,
   "metadata": {},
   "outputs": [],
   "source": [
    "v0_dphi_dist_0_20 = v0_input_file.Get(\"h_lambda_dphi_subtracted_0_20\")\n",
    "v0_dphi_dist_20_50 = v0_input_file.Get(\"h_lambda_dphi_subtracted_20_50\")\n",
    "v0_dphi_dist_50_80 = v0_input_file.Get(\"h_lambda_dphi_subtracted_50_80\")\n",
    "\n",
    "v0_dphi_dist_0_20_zeroed = v0_input_file.Get(\"h_lambda_dphi_subtracted_0_20_zeroed\")\n",
    "v0_dphi_dist_20_50_zeroed = v0_input_file.Get(\"h_lambda_dphi_subtracted_20_50_zeroed\")\n",
    "v0_dphi_dist_50_80_zeroed = v0_input_file.Get(\"h_lambda_dphi_subtracted_50_80_zeroed\")\n",
    "\n",
    "res_dphi_dist_0_20 = res_input_file.Get(\"h_lambda_dphi_subtracted_0_20\")\n",
    "res_dphi_dist_20_50 = res_input_file.Get(\"h_lambda_dphi_subtracted_20_50\")\n",
    "res_dphi_dist_50_80 = res_input_file.Get(\"h_lambda_dphi_subtracted_50_80\")\n",
    "\n",
    "res_dphi_dist_0_20_zeroed = res_input_file.Get(\"h_lambda_dphi_subtracted_0_20_zeroed\")\n",
    "res_dphi_dist_20_50_zeroed = res_input_file.Get(\"h_lambda_dphi_subtracted_20_50_zeroed\")\n",
    "res_dphi_dist_50_80_zeroed = res_input_file.Get(\"h_lambda_dphi_subtracted_50_80_zeroed\")"
   ]
  },
  {
   "cell_type": "code",
   "execution_count": 107,
   "metadata": {},
   "outputs": [],
   "source": [
    "v0_ue_line_0_20 = v0_input_file.Get(\"ue_line_0_20\")\n",
    "v0_ue_line_20_50 = v0_input_file.Get(\"ue_line_20_50\")\n",
    "v0_ue_line_50_80 = v0_input_file.Get(\"ue_line_50_80\")\n",
    "\n",
    "v0_ue_upper_line_0_20 = v0_input_file.Get(\"ue_upper_line_0_20\")\n",
    "v0_ue_upper_line_20_50 = v0_input_file.Get(\"ue_upper_line_20_50\")\n",
    "v0_ue_upper_line_50_80 = v0_input_file.Get(\"ue_upper_line_50_80\")\n",
    "\n",
    "v0_ue_lower_line_0_20 = v0_input_file.Get(\"ue_lower_line_0_20\")\n",
    "v0_ue_lower_line_20_50 = v0_input_file.Get(\"ue_lower_line_20_50\")\n",
    "v0_ue_lower_line_50_80 = v0_input_file.Get(\"ue_lower_line_50_80\")\n",
    "\n",
    "v0_zero_line_0_20 = v0_input_file.Get(\"zero_line_0_20\")\n",
    "v0_zero_line_20_50 = v0_input_file.Get(\"zero_line_20_50\")\n",
    "v0_zero_line_50_80 = v0_input_file.Get(\"zero_line_50_80\")\n",
    "\n",
    "v0_zero_upper_line_0_20 = v0_input_file.Get(\"zero_upper_line_0_20\")\n",
    "v0_zero_upper_line_20_50 = v0_input_file.Get(\"zero_upper_line_20_50\")\n",
    "v0_zero_upper_line_50_80 = v0_input_file.Get(\"zero_upper_line_50_80\")\n",
    "\n",
    "v0_zero_lower_line_0_20 = v0_input_file.Get(\"zero_lower_line_0_20\")\n",
    "v0_zero_lower_line_20_50 = v0_input_file.Get(\"zero_lower_line_20_50\")\n",
    "v0_zero_lower_line_50_80 = v0_input_file.Get(\"zero_lower_line_50_80\")\n",
    "\n",
    "\n",
    "\n",
    "res_ue_line_0_20 = res_input_file.Get(\"ue_line_0_20\")\n",
    "res_ue_line_20_50 = res_input_file.Get(\"ue_line_20_50\")\n",
    "res_ue_line_20_50 = res_input_file.Get(\"ue_line_50_80\")\n",
    "\n",
    "res_ue_upper_line_0_20 = res_input_file.Get(\"ue_upper_line_0_20\")\n",
    "res_ue_upper_line_20_50 = res_input_file.Get(\"ue_upper_line_20_50\")\n",
    "res_ue_upper_line_50_80 = res_input_file.Get(\"ue_upper_line_50_80\")\n",
    "\n",
    "res_ue_lower_line_0_20 = res_input_file.Get(\"ue_lower_line_0_20\")\n",
    "res_ue_lower_line_20_50 = res_input_file.Get(\"ue_lower_line_20_50\")\n",
    "res_ue_lower_line_50_80 = res_input_file.Get(\"ue_lower_line_50_80\")\n",
    "\n",
    "res_zero_line_0_20 = res_input_file.Get(\"zero_line_0_20\")\n",
    "res_zero_line_20_50 = res_input_file.Get(\"zero_line_20_50\")\n",
    "res_zero_line_50_80 = res_input_file.Get(\"zero_line_50_80\")\n",
    "\n",
    "res_zero_upper_line_0_20 = res_input_file.Get(\"zero_upper_line_0_20\")\n",
    "res_zero_upper_line_20_50 = res_input_file.Get(\"zero_upper_line_20_50\")\n",
    "res_zero_upper_line_50_80 = res_input_file.Get(\"zero_upper_line_50_80\")\n",
    "\n",
    "res_zero_lower_line_0_20 = res_input_file.Get(\"zero_lower_line_0_20\")\n",
    "res_zero_lower_line_20_50 = res_input_file.Get(\"zero_lower_line_20_50\")\n",
    "res_zero_lower_line_50_80 = res_input_file.Get(\"zero_lower_line_50_80\")"
   ]
  },
  {
   "cell_type": "code",
   "execution_count": 108,
   "metadata": {},
   "outputs": [],
   "source": [
    "v0_ue_line_0_20.SetLineColor(rt.kPink - 2)\n",
    "v0_ue_line_20_50.SetLineColor(rt.kOrange - 4)\n",
    "v0_ue_line_50_80.SetLineColor(rt.kBlue - 4)\n",
    "\n",
    "v0_ue_line_0_20.SetLineStyle(3)\n",
    "v0_ue_line_20_50.SetLineStyle(3)\n",
    "v0_ue_line_50_80.SetLineStyle(3)\n",
    "\n",
    "v0_ue_line_0_20.SetLineWidth(1)\n",
    "v0_ue_line_20_50.SetLineWidth(1)\n",
    "v0_ue_line_50_80.SetLineWidth(1)\n"
   ]
  },
  {
   "cell_type": "code",
   "execution_count": 109,
   "metadata": {},
   "outputs": [],
   "source": [
    "v0_dphi_dist_0_20.SetLineColor(rt.kPink - 1)\n",
    "v0_dphi_dist_20_50.SetLineColor(rt.kOrange - 3)\n",
    "v0_dphi_dist_50_80.SetLineColor(rt.kBlue - 3)\n",
    "\n",
    "v0_dphi_dist_0_20_zeroed.SetLineColor(rt.kPink - 1)\n",
    "v0_dphi_dist_20_50_zeroed.SetLineColor(rt.kPink - 1)\n",
    "v0_dphi_dist_50_80_zeroed.SetLineColor(rt.kPink - 1)\n",
    "\n",
    "res_dphi_dist_0_20_zeroed.SetLineColor(rt.kBlue - 3)\n",
    "res_dphi_dist_20_50_zeroed.SetLineColor(rt.kBlue - 3)\n",
    "res_dphi_dist_50_80_zeroed.SetLineColor(rt.kBlue - 3)\n",
    "\n",
    "v0_dphi_dist_0_20.SetMarkerStyle(20)\n",
    "v0_dphi_dist_20_50.SetMarkerStyle(20)\n",
    "v0_dphi_dist_50_80.SetMarkerStyle(20)\n",
    "\n",
    "v0_dphi_dist_0_20_zeroed.SetMarkerStyle(20)\n",
    "v0_dphi_dist_20_50_zeroed.SetMarkerStyle(20)\n",
    "v0_dphi_dist_50_80_zeroed.SetMarkerStyle(20)\n",
    "\n",
    "res_dphi_dist_0_20_zeroed.SetMarkerStyle(21)\n",
    "res_dphi_dist_20_50_zeroed.SetMarkerStyle(21)\n",
    "res_dphi_dist_50_80_zeroed.SetMarkerStyle(21)\n",
    "\n",
    "v0_dphi_dist_0_20.SetMarkerColor(rt.kPink - 1)\n",
    "v0_dphi_dist_20_50.SetMarkerColor(rt.kOrange - 3)\n",
    "v0_dphi_dist_50_80.SetMarkerColor(rt.kBlue - 3)\n",
    "\n",
    "\n",
    "res_dphi_dist_0_20.SetMarkerColor(rt.kBlue - 3)\n",
    "res_dphi_dist_20_50.SetMarkerColor(rt.kOrange - 3)\n",
    "res_dphi_dist_50_80.SetMarkerColor(rt.kBlue - 3)\n",
    "\n",
    "v0_dphi_dist_0_20_zeroed.SetMarkerColor(rt.kPink - 1)\n",
    "v0_dphi_dist_20_50_zeroed.SetMarkerColor(rt.kPink - 1)\n",
    "v0_dphi_dist_50_80_zeroed.SetMarkerColor(rt.kPink - 1)\n",
    "\n",
    "res_dphi_dist_0_20_zeroed.SetMarkerColor(rt.kBlue - 3)\n",
    "res_dphi_dist_20_50_zeroed.SetMarkerColor(rt.kBlue - 3)\n",
    "res_dphi_dist_50_80_zeroed.SetMarkerColor(rt.kBlue - 3)\n",
    "\n",
    "v0_dphi_dist_0_20.SetMarkerSize(1)\n",
    "v0_dphi_dist_20_50.SetMarkerSize(1)\n",
    "v0_dphi_dist_50_80.SetMarkerSize(1)\n",
    "\n",
    "res_dphi_dist_0_20.SetMarkerSize(1)\n",
    "res_dphi_dist_20_50.SetMarkerSize(1)\n",
    "res_dphi_dist_50_80.SetMarkerSize(1)\n",
    "\n",
    "v0_dphi_dist_0_20_zeroed.SetMarkerSize(1)\n",
    "v0_dphi_dist_20_50_zeroed.SetMarkerSize(1)\n",
    "v0_dphi_dist_50_80_zeroed.SetMarkerSize(1)\n",
    "\n",
    "res_dphi_dist_0_20_zeroed.SetMarkerSize(1)\n",
    "res_dphi_dist_20_50_zeroed.SetMarkerSize(1)\n",
    "res_dphi_dist_50_80_zeroed.SetMarkerSize(1)\n",
    "\n",
    "v0_dphi_dist_0_20.SetTitle(\"\")\n",
    "v0_dphi_dist_0_20.GetXaxis().SetTitle(\"#Delta#varphi_{h-#Lambda^{0}}\")\n",
    "v0_dphi_dist_0_20.GetYaxis().SetTitle(\"Per-trigger dN/d#Delta#varphi for constant #Delta#eta (rad^{-1})\")\n",
    "v0_dphi_dist_0_20.GetYaxis().SetRangeUser(0, 1.1 * v0_dphi_dist_0_20.GetMaximum())\n",
    "\n",
    "v0_dphi_dist_20_50.SetTitle(\"\")\n",
    "v0_dphi_dist_20_50.GetXaxis().SetTitle(\"#Delta#varphi_{h-#Lambda^{0}}\")\n",
    "v0_dphi_dist_20_50.GetYaxis().SetRangeUser(0, 1.1 * v0_dphi_dist_0_20.GetMaximum())\n",
    "\n",
    "v0_dphi_dist_50_80.SetTitle(\"\")\n",
    "v0_dphi_dist_50_80.GetXaxis().SetTitle(\"#Delta#varphi_{h-#Lambda^{0}}\")\n",
    "v0_dphi_dist_50_80.GetYaxis().SetRangeUser(0, 1.1 * v0_dphi_dist_0_20.GetMaximum())"
   ]
  },
  {
   "cell_type": "code",
   "execution_count": 110,
   "metadata": {},
   "outputs": [],
   "source": [
    "MAX_DPHI_0_20 = v0_dphi_dist_0_20_zeroed.GetMaximum()"
   ]
  },
  {
   "cell_type": "code",
   "execution_count": 111,
   "metadata": {},
   "outputs": [
    {
     "name": "stderr",
     "output_type": "stream",
     "text": [
      "Warning in <TCanvas::Constructor>: Deleting canvas with same name: test_c\n",
      "Info in <TCanvas::Print>: pdf file figures/h_lambda_dphi_0_20_zeroed_nores.pdf has been created\n"
     ]
    },
    {
     "data": {
      "image/png": "[encoded data removed]",
      "text/plain": [
       "<IPython.core.display.Image object>"
      ]
     },
     "metadata": {},
     "output_type": "display_data"
    }
   ],
   "source": [
    "PI = 3.14159265359\n",
    "\n",
    "v0_dphi_dist_0_20_zeroed.SetTitle(\"\")\n",
    "v0_dphi_dist_0_20_zeroed.GetXaxis().SetTitle(\"#Delta#varphi_{h-#Lambda^{0}}\")\n",
    "v0_dphi_dist_0_20_zeroed.GetYaxis().SetTitle(\"Per-trigger dN/d#Delta#varphi for constant #Delta#eta (rad^{-1})\")\n",
    "v0_dphi_dist_0_20_zeroed.GetYaxis().SetRangeUser(-0.0006,  1.9 * MAX_DPHI_0_20)\n",
    "# v0_dphi_dist_0_20_zeroed.GetYaxis().SetRangeUser(0, 0)\n",
    "v0_dphi_dist_0_20_zeroed.GetYaxis().SetMaxDigits(3)\n",
    "\n",
    "v0_zero_line_0_20.SetLineColor(rt.kBlack)\n",
    "v0_zero_line_20_50.SetLineColor(rt.kBlack)\n",
    "v0_zero_line_50_80.SetLineColor(rt.kBlack)\n",
    "\n",
    "v0_zero_upper_line_0_20.SetLineColor(rt.kPink - 2)\n",
    "v0_zero_upper_line_20_50.SetLineColor(rt.kOrange - 4)\n",
    "v0_zero_upper_line_50_80.SetLineColor(rt.kBlue - 4)\n",
    "\n",
    "v0_zero_lower_line_0_20.SetLineColor(rt.kPink - 2)\n",
    "v0_zero_lower_line_20_50.SetLineColor(rt.kOrange - 4)\n",
    "v0_zero_lower_line_50_80.SetLineColor(rt.kBlue - 4)\n",
    "\n",
    "v0_zero_line_0_20.SetLineStyle(9)\n",
    "v0_zero_line_20_50.SetLineStyle(9)\n",
    "v0_zero_line_50_80.SetLineStyle(9)\n",
    "\n",
    "v0_zero_upper_line_0_20.SetLineStyle(2)\n",
    "v0_zero_upper_line_20_50.SetLineStyle(2)\n",
    "v0_zero_upper_line_50_80.SetLineStyle(2)\n",
    "\n",
    "v0_zero_lower_line_0_20.SetLineStyle(2)\n",
    "v0_zero_lower_line_20_50.SetLineStyle(2)\n",
    "v0_zero_lower_line_50_80.SetLineStyle(2)\n",
    "\n",
    "\n",
    "test_c = rt.TCanvas(\"test_c\", \"test_c\", 800, 600)\n",
    "test_c.SetLeftMargin(0.1)\n",
    "test_c.SetRightMargin(0.05)\n",
    "test_c.SetBottomMargin(0.1)\n",
    "v0_dphi_dist_0_20_zeroed.GetYaxis().SetTitleOffset(1.1)\n",
    "v0_dphi_dist_0_20_zeroed.GetXaxis().SetTitleOffset(0.8)\n",
    "\n",
    "v0_dphi_dist_0_20_zeroed.Draw(\"E\")\n",
    "v0_zero_line_0_20.Draw(\"same\")\n",
    "res_dphi_dist_0_20_zeroed.Draw(\"same\")\n",
    "# v0_ue_upper_line_0_20.Draw(\"same\")\n",
    "# v0_ue_lower_line_0_20.Draw(\"same\")\n",
    "\n",
    "\n",
    "label_x_start = 0.15\n",
    "label_y_start = 0.88\n",
    "label_text_space = 0.049\n",
    "\n",
    "alice_data_label = rt.TLatex()\n",
    "alice_data_label.SetNDC()\n",
    "alice_data_label.SetTextSize(0.03)\n",
    "alice_data_label.SetTextAlign(13)\n",
    "alice_data_label.DrawLatex(label_x_start, label_y_start, \"ALICE Preliminary\")\n",
    "alice_data_label.DrawLatex(label_x_start, label_y_start - label_text_space, \"#bf{p-Pb #sqrt{s_{NN}} = 5.02 TeV}\")\n",
    "alice_data_label.DrawLatex(label_x_start, label_y_start - 2*label_text_space - 0.005, \"#bf{0-20% V0A centrality}\")\n",
    "\n",
    "label_x_start = 0.43\n",
    "label_y_start = 0.88\n",
    "label_text_space = 0.049\n",
    "\n",
    "alice_data_label = rt.TLatex()\n",
    "alice_data_label.SetNDC()\n",
    "alice_data_label.SetTextSize(0.03)\n",
    "alice_data_label.SetTextAlign(13)\n",
    "alice_data_label.DrawLatex(label_x_start, label_y_start, \"#bf{ 4.0 <   #it{p}^{h}_{T,trig}    < 8.0 GeV/#it{c}}\")\n",
    "alice_data_label.DrawLatex(label_x_start, label_y_start - label_text_space, \"#bf{ 2.0 <   #it{p}^{#Lambda^{0}}_{T,assoc} < 4.0 GeV/#it{c}}\")\n",
    "alice_data_label.DrawLatex(label_x_start, label_y_start - 2*label_text_space - 0.005, \"#bf{-1.4 <   #Delta#eta_{h-#Lambda^{0}}   < 1.4}\")\n",
    "\n",
    "legend = rt.TLegend(0.75, 0.735, 0.95, 0.9)\n",
    "legend.SetBorderSize(0)\n",
    "legend.SetFillStyle(0)\n",
    "legend.SetTextSize(0.03)\n",
    "legend.AddEntry(v0_dphi_dist_0_20_zeroed, \"h-#Lambda^{0}_{V0} data\", \"lep\")\n",
    "legend.AddEntry(res_dphi_dist_0_20_zeroed, \"h-#Lambda^{0}_{res.} data\", \"lep\")\n",
    "legend.AddEntry(v0_zero_line_0_20, \"Zero line\", \"l\")\n",
    "legend.Draw()\n",
    "\n",
    "test_c.Draw()\n",
    "test_c.SaveAs(\"figures/h_lambda_dphi_0_20_zeroed_nores.pdf\")\n"
   ]
  },
  {
   "cell_type": "code",
   "execution_count": 112,
   "metadata": {},
   "outputs": [],
   "source": [
    "MAX_DPHI_20_50 = v0_dphi_dist_20_50_zeroed.GetMaximum()"
   ]
  },
  {
   "cell_type": "code",
   "execution_count": 113,
   "metadata": {},
   "outputs": [
    {
     "name": "stderr",
     "output_type": "stream",
     "text": [
      "Warning in <TCanvas::Constructor>: Deleting canvas with same name: test_c\n",
      "Info in <TCanvas::Print>: pdf file figures/h_lambda_dphi_20_50_zeroed_nores.pdf has been created\n"
     ]
    },
    {
     "data": {
      "image/png": "[encoded data removed]",
      "text/plain": [
       "<IPython.core.display.Image object>"
      ]
     },
     "metadata": {},
     "output_type": "display_data"
    }
   ],
   "source": [
    "PI = 3.14159265359\n",
    "\n",
    "v0_dphi_dist_20_50_zeroed.SetTitle(\"\")\n",
    "v0_dphi_dist_20_50_zeroed.GetXaxis().SetTitle(\"#Delta#varphi_{h-#Lambda^{0}}\")\n",
    "v0_dphi_dist_20_50_zeroed.GetYaxis().SetTitle(\"Per-trigger dN/d#Delta#varphi for constant #Delta#eta (rad^{-1})\")\n",
    "v0_dphi_dist_20_50_zeroed.GetYaxis().SetRangeUser(-0.0006,  1.9 * MAX_DPHI_20_50)\n",
    "# v0_dphi_dist_20_50_zeroed.GetYaxis().SetRangeUser(0, 0)\n",
    "v0_dphi_dist_20_50_zeroed.GetYaxis().SetMaxDigits(3)\n",
    "\n",
    "v0_zero_line_0_20.SetLineColor(rt.kBlack)\n",
    "v0_zero_line_20_50.SetLineColor(rt.kBlack)\n",
    "v0_zero_line_50_80.SetLineColor(rt.kBlack)\n",
    "\n",
    "v0_zero_upper_line_0_20.SetLineColor(rt.kPink - 2)\n",
    "v0_zero_upper_line_20_50.SetLineColor(rt.kOrange - 4)\n",
    "v0_zero_upper_line_50_80.SetLineColor(rt.kBlue - 4)\n",
    "\n",
    "v0_zero_lower_line_0_20.SetLineColor(rt.kPink - 2)\n",
    "v0_zero_lower_line_20_50.SetLineColor(rt.kOrange - 4)\n",
    "v0_zero_lower_line_50_80.SetLineColor(rt.kBlue - 4)\n",
    "\n",
    "v0_zero_line_0_20.SetLineStyle(9)\n",
    "v0_zero_line_20_50.SetLineStyle(9)\n",
    "v0_zero_line_50_80.SetLineStyle(9)\n",
    "\n",
    "v0_zero_upper_line_0_20.SetLineStyle(2)\n",
    "v0_zero_upper_line_20_50.SetLineStyle(2)\n",
    "v0_zero_upper_line_50_80.SetLineStyle(2)\n",
    "\n",
    "v0_zero_lower_line_0_20.SetLineStyle(2)\n",
    "v0_zero_lower_line_20_50.SetLineStyle(2)\n",
    "v0_zero_lower_line_50_80.SetLineStyle(2)\n",
    "\n",
    "\n",
    "test_c = rt.TCanvas(\"test_c\", \"test_c\", 800, 600)\n",
    "test_c.SetLeftMargin(0.1)\n",
    "test_c.SetRightMargin(0.05)\n",
    "test_c.SetBottomMargin(0.1)\n",
    "v0_dphi_dist_20_50_zeroed.GetYaxis().SetTitleOffset(1.1)\n",
    "v0_dphi_dist_20_50_zeroed.GetXaxis().SetTitleOffset(0.8)\n",
    "\n",
    "v0_dphi_dist_20_50_zeroed.Draw(\"E\")\n",
    "v0_zero_line_20_50.Draw(\"same\")\n",
    "res_dphi_dist_20_50_zeroed.Draw(\"same\")\n",
    "# v0_ue_upper_line_20_50.Draw(\"same\")\n",
    "# v0_ue_lower_line_20_50.Draw(\"same\")\n",
    "\n",
    "\n",
    "label_x_start = 0.15\n",
    "label_y_start = 0.88\n",
    "label_text_space = 0.049\n",
    "\n",
    "alice_data_label = rt.TLatex()\n",
    "alice_data_label.SetNDC()\n",
    "alice_data_label.SetTextSize(0.03)\n",
    "alice_data_label.SetTextAlign(13)\n",
    "alice_data_label.DrawLatex(label_x_start, label_y_start, \"ALICE Preliminary\")\n",
    "alice_data_label.DrawLatex(label_x_start, label_y_start - label_text_space, \"#bf{p-Pb #sqrt{s_{NN}} = 5.02 TeV}\")\n",
    "alice_data_label.DrawLatex(label_x_start, label_y_start - 2*label_text_space - 0.005, \"#bf{20-50% V0A centrality}\")\n",
    "\n",
    "label_x_start = 0.43\n",
    "label_y_start = 0.88\n",
    "label_text_space = 0.049\n",
    "\n",
    "alice_data_label = rt.TLatex()\n",
    "alice_data_label.SetNDC()\n",
    "alice_data_label.SetTextSize(0.03)\n",
    "alice_data_label.SetTextAlign(13)\n",
    "alice_data_label.DrawLatex(label_x_start, label_y_start, \"#bf{ 4.0 <   #it{p}^{h}_{T,trig}    < 8.0 GeV/#it{c}}\")\n",
    "alice_data_label.DrawLatex(label_x_start, label_y_start - label_text_space, \"#bf{ 2.0 <   #it{p}^{#Lambda^{0}}_{T,assoc} < 4.0 GeV/#it{c}}\")\n",
    "alice_data_label.DrawLatex(label_x_start, label_y_start - 2*label_text_space - 0.005, \"#bf{-1.4 <   #Delta#eta_{h-#Lambda^{0}}   < 1.4}\")\n",
    "\n",
    "legend = rt.TLegend(0.75, 0.735, 0.95, 0.9)\n",
    "legend.SetBorderSize(0)\n",
    "legend.SetFillStyle(0)\n",
    "legend.SetTextSize(0.03)\n",
    "legend.AddEntry(v0_dphi_dist_0_20_zeroed, \"h-#Lambda^{0}_{V0} data\", \"lep\")\n",
    "legend.AddEntry(res_dphi_dist_0_20_zeroed, \"h-#Lambda^{0}_{res.} data\", \"lep\")\n",
    "legend.AddEntry(v0_zero_line_0_20, \"Zero line\", \"l\")\n",
    "legend.Draw()\n",
    "\n",
    "test_c.Draw()\n",
    "test_c.SaveAs(\"figures/h_lambda_dphi_20_50_zeroed_nores.pdf\")"
   ]
  },
  {
   "cell_type": "code",
   "execution_count": 115,
   "metadata": {},
   "outputs": [],
   "source": [
    "MAX_DPHI_50_80 = v0_dphi_dist_50_80_zeroed.GetMaximum()"
   ]
  },
  {
   "cell_type": "code",
   "execution_count": 116,
   "metadata": {},
   "outputs": [
    {
     "name": "stderr",
     "output_type": "stream",
     "text": [
      "Warning in <TCanvas::Constructor>: Deleting canvas with same name: test_c\n",
      "Info in <TCanvas::Print>: pdf file figures/h_lambda_dphi_50_80_zeroed_nores.pdf has been created\n"
     ]
    },
    {
     "data": {
      "image/png": "[encoded data removed]",
      "text/plain": [
       "<IPython.core.display.Image object>"
      ]
     },
     "metadata": {},
     "output_type": "display_data"
    }
   ],
   "source": [
    "PI = 3.14159265359\n",
    "\n",
    "v0_dphi_dist_50_80_zeroed.SetTitle(\"\")\n",
    "v0_dphi_dist_50_80_zeroed.GetXaxis().SetTitle(\"#Delta#varphi_{h-#Lambda^{0}}\")\n",
    "v0_dphi_dist_50_80_zeroed.GetYaxis().SetTitle(\"Per-trigger dN/d#Delta#varphi for constant #Delta#eta (rad^{-1})\")\n",
    "v0_dphi_dist_50_80_zeroed.GetYaxis().SetRangeUser(-0.0006,  1.9 * MAX_DPHI_50_80)\n",
    "# v0_dphi_dist_50_80_zeroed.GetYaxis().SetRangeUser(0, 0)\n",
    "v0_dphi_dist_50_80_zeroed.GetYaxis().SetMaxDigits(3)\n",
    "\n",
    "v0_zero_line_0_20.SetLineColor(rt.kBlack)\n",
    "v0_zero_line_20_50.SetLineColor(rt.kBlack)\n",
    "v0_zero_line_50_80.SetLineColor(rt.kBlack)\n",
    "\n",
    "v0_zero_upper_line_0_20.SetLineColor(rt.kPink - 2)\n",
    "v0_zero_upper_line_20_50.SetLineColor(rt.kOrange - 4)\n",
    "v0_zero_upper_line_50_80.SetLineColor(rt.kBlue - 4)\n",
    "\n",
    "v0_zero_lower_line_0_20.SetLineColor(rt.kPink - 2)\n",
    "v0_zero_lower_line_20_50.SetLineColor(rt.kOrange - 4)\n",
    "v0_zero_lower_line_50_80.SetLineColor(rt.kBlue - 4)\n",
    "\n",
    "v0_zero_line_0_20.SetLineStyle(9)\n",
    "v0_zero_line_20_50.SetLineStyle(9)\n",
    "v0_zero_line_50_80.SetLineStyle(9)\n",
    "\n",
    "v0_zero_upper_line_0_20.SetLineStyle(2)\n",
    "v0_zero_upper_line_20_50.SetLineStyle(2)\n",
    "v0_zero_upper_line_50_80.SetLineStyle(2)\n",
    "\n",
    "v0_zero_lower_line_0_20.SetLineStyle(2)\n",
    "v0_zero_lower_line_20_50.SetLineStyle(2)\n",
    "v0_zero_lower_line_50_80.SetLineStyle(2)\n",
    "\n",
    "\n",
    "test_c = rt.TCanvas(\"test_c\", \"test_c\", 800, 600)\n",
    "test_c.SetLeftMargin(0.1)\n",
    "test_c.SetRightMargin(0.05)\n",
    "test_c.SetBottomMargin(0.1)\n",
    "v0_dphi_dist_50_80_zeroed.GetYaxis().SetTitleOffset(1.1)\n",
    "v0_dphi_dist_50_80_zeroed.GetXaxis().SetTitleOffset(0.8)\n",
    "\n",
    "v0_dphi_dist_50_80_zeroed.Draw(\"E\")\n",
    "v0_zero_line_50_80.Draw(\"same\")\n",
    "res_dphi_dist_50_80_zeroed.Draw(\"same\")\n",
    "# v0_ue_upper_line_50_80.Draw(\"same\")\n",
    "# v0_ue_lower_line_50_80.Draw(\"same\")\n",
    "\n",
    "\n",
    "label_x_start = 0.15\n",
    "label_y_start = 0.88\n",
    "label_text_space = 0.049\n",
    "\n",
    "alice_data_label = rt.TLatex()\n",
    "alice_data_label.SetNDC()\n",
    "alice_data_label.SetTextSize(0.03)\n",
    "alice_data_label.SetTextAlign(13)\n",
    "alice_data_label.DrawLatex(label_x_start, label_y_start, \"ALICE Preliminary\")\n",
    "alice_data_label.DrawLatex(label_x_start, label_y_start - label_text_space, \"#bf{p-Pb #sqrt{s_{NN}} = 5.02 TeV}\")\n",
    "alice_data_label.DrawLatex(label_x_start, label_y_start - 2*label_text_space - 0.005, \"#bf{50-80% V0A centrality}\")\n",
    "\n",
    "label_x_start = 0.43\n",
    "label_y_start = 0.88\n",
    "label_text_space = 0.049\n",
    "\n",
    "alice_data_label = rt.TLatex()\n",
    "alice_data_label.SetNDC()\n",
    "alice_data_label.SetTextSize(0.03)\n",
    "alice_data_label.SetTextAlign(13)\n",
    "alice_data_label.DrawLatex(label_x_start, label_y_start, \"#bf{ 4.0 <   #it{p}^{h}_{T,trig}    < 8.0 GeV/#it{c}}\")\n",
    "alice_data_label.DrawLatex(label_x_start, label_y_start - label_text_space, \"#bf{ 2.0 <   #it{p}^{#Lambda^{0}}_{T,assoc} < 4.0 GeV/#it{c}}\")\n",
    "alice_data_label.DrawLatex(label_x_start, label_y_start - 2*label_text_space - 0.005, \"#bf{-1.4 <   #Delta#eta_{h-#Lambda^{0}}   < 1.4}\")\n",
    "\n",
    "legend = rt.TLegend(0.75, 0.735, 0.95, 0.9)\n",
    "legend.SetBorderSize(0)\n",
    "legend.SetFillStyle(0)\n",
    "legend.SetTextSize(0.03)\n",
    "legend.AddEntry(v0_dphi_dist_0_20_zeroed, \"h-#Lambda^{0}_{V0} data\", \"lep\")\n",
    "legend.AddEntry(res_dphi_dist_0_20_zeroed, \"h-#Lambda^{0}_{res.} data\", \"lep\")\n",
    "legend.AddEntry(v0_zero_line_0_20, \"Zero line\", \"l\")\n",
    "legend.Draw()\n",
    "\n",
    "test_c.Draw()\n",
    "test_c.SaveAs(\"figures/h_lambda_dphi_50_80_zeroed_nores.pdf\")"
   ]
  },
  {
   "cell_type": "code",
   "execution_count": 342,
   "metadata": {},
   "outputs": [
    {
     "name": "stderr",
     "output_type": "stream",
     "text": [
      "Warning in <TCanvas::Constructor>: Deleting canvas with same name: dphi_all\n",
      "Info in <TCanvas::Print>: pdf file figures/h_lambda_dphi_all.pdf has been created\n"
     ]
    },
    {
     "data": {
      "image/png": "[encoded data removed]",
      "text/plain": [
       "<IPython.core.display.Image object>"
      ]
     },
     "metadata": {},
     "output_type": "display_data"
    }
   ],
   "source": [
    "TOP_MARGIN = 0.1\n",
    "BOTTOM_MARGIN = 0.1\n",
    "LEFT_MARGIN = 0.15\n",
    "PAD_WIDTH = 0.3\n",
    "BUFFER = 0.05\n",
    "SCALE = PAD_WIDTH/(PAD_WIDTH + BUFFER)\n",
    "\n",
    "X_LABEL_SIZE = 0.05\n",
    "Y_LABEL_SIZE = 0.05\n",
    "X_TITLE_SIZE = 0.05\n",
    "Y_TITLE_SIZE = 0.05\n",
    "\n",
    "dphi_all = rt.TCanvas(\"dphi_all\", \"dphi_all\", 50, 50, 1200, 525)\n",
    "dphi_all.SetMargin(0, 0, 0, 0)\n",
    "hl020pad = rt.TPad(\"hl020pad\", \"\", 0, 0, PAD_WIDTH + BUFFER, 1.0)\n",
    "hl020pad.SetMargin(LEFT_MARGIN, 0.0, BOTTOM_MARGIN, TOP_MARGIN)\n",
    "hl020pad.Draw()\n",
    "hl020pad.cd()\n",
    "\n",
    "v0_dphi_dist_0_20.GetYaxis().SetMaxDigits(3)\n",
    "v0_dphi_dist_0_20.GetYaxis().SetTitleSize(SCALE*Y_TITLE_SIZE)\n",
    "v0_dphi_dist_0_20.GetYaxis().SetLabelSize(SCALE*Y_LABEL_SIZE)\n",
    "v0_dphi_dist_0_20.GetYaxis().SetTitleOffset(1.2)\n",
    "\n",
    "v0_dphi_dist_0_20.GetYaxis().SetRangeUser(0, 9.3E-3)\n",
    "\n",
    "v0_dphi_dist_0_20.GetXaxis().SetLabelSize(SCALE*X_LABEL_SIZE)\n",
    "v0_dphi_dist_0_20.GetXaxis().SetTitleSize(SCALE*X_TITLE_SIZE)\n",
    "\n",
    "v0_dphi_dist_0_20.Draw()\n",
    "v0_ue_line_0_20.Draw(\"SAME\")\n",
    "\n",
    "label_x_start = 0.26\n",
    "label_y_start = 0.38\n",
    "label_text_space = 0.06\n",
    "\n",
    "alice_data_label = rt.TLatex()\n",
    "alice_data_label.SetNDC()\n",
    "alice_data_label.SetTextSize(0.05)\n",
    "alice_data_label.SetTextAlign(13)\n",
    "alice_data_label.DrawLatex(label_x_start, label_y_start, \"ALICE Preliminary\")\n",
    "alice_data_label.DrawLatex(label_x_start, label_y_start - label_text_space, \"#bf{p-Pb #sqrt{s_{NN}} = 5.02 TeV}\")\n",
    "alice_data_label.DrawLatex(label_x_start, label_y_start - 2*label_text_space, \"#bf{|#Delta#eta_{h-#Lambda^{0}}| < 1.4}\")\n",
    "\n",
    "\n",
    "\n",
    "dphi_all.cd()\n",
    "\n",
    "hl2050pad = rt.TPad(\"hl2050pad\", \"\", PAD_WIDTH + BUFFER, 0, 2*PAD_WIDTH + BUFFER, 1.0)\n",
    "hl2050pad.SetMargin(0.0, 0.0, BOTTOM_MARGIN, TOP_MARGIN)\n",
    "hl2050pad.Draw()\n",
    "hl2050pad.cd()\n",
    "\n",
    "\n",
    "v0_dphi_dist_20_50.GetXaxis().SetLabelOffset(-0.002)\n",
    "v0_dphi_dist_20_50.GetXaxis().SetTitleOffset(0.83)\n",
    "v0_dphi_dist_20_50.GetXaxis().SetLabelSize(X_LABEL_SIZE)\n",
    "v0_dphi_dist_20_50.GetXaxis().SetTitleSize(X_TITLE_SIZE)\n",
    "\n",
    "v0_dphi_dist_20_50.GetYaxis().SetLabelSize(0.0)\n",
    "v0_dphi_dist_20_50.GetYaxis().SetRangeUser(0, 9.3E-3)\n",
    "\n",
    "v0_dphi_dist_20_50.Draw()\n",
    "v0_ue_line_20_50.Draw(\"SAME\")\n",
    "\n",
    "pt_label_x_start = 0.31\n",
    "pt_label_y_start = 0.87\n",
    "pt_label_text_space = 0.07\n",
    "\n",
    "pt_data_label = rt.TLatex()\n",
    "pt_data_label.SetNDC()\n",
    "pt_data_label.SetTextSize(0.05/SCALE)\n",
    "pt_data_label.SetTextAlign(13)\n",
    "pt_data_label.DrawLatex(pt_label_x_start, pt_label_y_start, \"#bf{4.0 <   #it{p}^{h}_{T,trig}    < 8.0 GeV/#it{c}}\")\n",
    "pt_data_label.DrawLatex(pt_label_x_start, pt_label_y_start - pt_label_text_space, \"#bf{2.0 <   #it{p}^{#Lambda^{0}}_{T,assoc} < 4.0 GeV/#it{c}}\")\n",
    "\n",
    "\n",
    "\n",
    "dphi_all.cd()\n",
    "\n",
    "hl5080pad = rt.TPad(\"hl5080pad\", \"\", 2*PAD_WIDTH + BUFFER, 0, 3*PAD_WIDTH + BUFFER, 1.0)\n",
    "hl5080pad.SetMargin(0.0, 0.0, BOTTOM_MARGIN, TOP_MARGIN)\n",
    "hl5080pad.Draw()\n",
    "hl5080pad.cd()\n",
    "\n",
    "\n",
    "v0_dphi_dist_50_80.GetXaxis().SetLabelOffset(-0.002)\n",
    "v0_dphi_dist_50_80.GetXaxis().SetTitleOffset(0.83)\n",
    "v0_dphi_dist_50_80.GetXaxis().SetLabelSize(X_LABEL_SIZE)\n",
    "v0_dphi_dist_50_80.GetXaxis().SetTitleSize(X_TITLE_SIZE)\n",
    "\n",
    "v0_dphi_dist_50_80.GetYaxis().SetLabelSize(0.0)\n",
    "v0_dphi_dist_50_80.GetYaxis().SetRangeUser(0, 9.3E-3)\n",
    "\n",
    "v0_dphi_dist_50_80.Draw()\n",
    "v0_ue_line_50_80.Draw(\"SAME\")\n",
    "\n",
    "color_legend = rt.TLegend(0.15, 0.65, 0.47, 0.86)\n",
    "color_legend.SetTextSize(0.05/SCALE)\n",
    "color_legend.SetBorderSize(0)\n",
    "color_legend.SetFillStyle(0)\n",
    "\n",
    "legend_box_0_20 = rt.TBox(0.55, 0.65, 0.85, 0.86)\n",
    "legend_box_0_20.SetFillStyle(1001)\n",
    "legend_box_0_20.SetFillColor(rt.kPink - 1)\n",
    "legend_box_0_20.SetLineWidth(0)\n",
    "\n",
    "legend_box_20_50 = rt.TBox(0.55, 0.65, 0.85, 0.86)\n",
    "legend_box_20_50.SetFillStyle(1001)\n",
    "legend_box_20_50.SetFillColor(rt.kOrange - 3)\n",
    "legend_box_20_50.SetLineWidth(0)\n",
    "\n",
    "legend_box_50_80 = rt.TBox(0.55, 0.65, 0.85, 0.86)\n",
    "legend_box_50_80.SetFillStyle(1001)\n",
    "legend_box_50_80.SetFillColor(rt.kBlue - 3)\n",
    "legend_box_50_80.SetLineWidth(0)\n",
    "\n",
    "color_legend.AddEntry(legend_box_0_20, \"V0A 0-20%\", \"f\")\n",
    "color_legend.AddEntry(legend_box_20_50, \"V0A 20-50%\", \"f\")\n",
    "color_legend.AddEntry(legend_box_50_80, \"V0A 50-80%\", \"f\")\n",
    "\n",
    "color_legend.Draw()\n",
    "\n",
    "marker_legend = rt.TLegend(0.6, 0.68, 0.93, 0.81)\n",
    "marker_legend.SetTextSize(0.05/SCALE)\n",
    "marker_legend.SetBorderSize(0)\n",
    "marker_legend.SetFillStyle(0)\n",
    "\n",
    "legend_marker = rt.TMarker(0.55, 0.65, 20)\n",
    "legend_marker.SetMarkerColor(rt.kBlack)\n",
    "legend_marker.SetMarkerStyle(20)\n",
    "legend_marker.SetMarkerSize(1)\n",
    "\n",
    "legend_line = rt.TLine(0.7, 0.65, 0.95, 0.65)\n",
    "legend_line.SetLineColor(rt.kBlack)\n",
    "legend_line.SetLineWidth(2)\n",
    "legend_line.SetLineStyle(3)\n",
    "\n",
    "marker_legend.AddEntry(legend_marker, \" h-#Lambda^{0} data\", \"lep\")\n",
    "marker_legend.AddEntry(legend_line, \" UE fit\", \"l\")\n",
    "\n",
    "marker_legend.Draw()\n",
    "\n",
    "\n",
    "\n",
    "dphi_all.Draw()\n",
    "dphi_all.SaveAs(\"figures/h_lambda_dphi_all.pdf\")"
   ]
  },
  {
   "cell_type": "code",
   "execution_count": 220,
   "metadata": {},
   "outputs": [],
   "source": [
    "### H DPHI SECTION"
   ]
  },
  {
   "cell_type": "code",
   "execution_count": 245,
   "metadata": {},
   "outputs": [],
   "source": [
    "v0_dphi_dist_0_20 = res_input_file.Get(\"h_h_dphi_0_20\")\n",
    "v0_dphi_dist_20_50 = res_input_file.Get(\"h_h_dphi_20_50\")\n",
    "v0_dphi_dist_50_80 = res_input_file.Get(\"h_h_dphi_50_80\")"
   ]
  },
  {
   "cell_type": "code",
   "execution_count": 246,
   "metadata": {},
   "outputs": [],
   "source": [
    "v0_ue_line_0_20 = res_input_file.Get(\"hh_ue_line_0_20\")\n",
    "v0_ue_line_20_50 = res_input_file.Get(\"hh_ue_line_20_50\")\n",
    "v0_ue_line_50_80 = res_input_file.Get(\"hh_ue_line_50_80\")"
   ]
  },
  {
   "cell_type": "code",
   "execution_count": 247,
   "metadata": {},
   "outputs": [],
   "source": [
    "v0_ue_line_0_20.SetLineColor(rt.kPink - 6)\n",
    "v0_ue_line_20_50.SetLineColor(rt.kOrange - 6)\n",
    "v0_ue_line_50_80.SetLineColor(rt.kBlue - 6)\n",
    "\n",
    "v0_ue_line_0_20.SetLineStyle(3)\n",
    "v0_ue_line_20_50.SetLineStyle(3)\n",
    "v0_ue_line_50_80.SetLineStyle(3)\n",
    "\n",
    "v0_ue_line_0_20.SetLineWidth(1)\n",
    "v0_ue_line_20_50.SetLineWidth(1)\n",
    "v0_ue_line_50_80.SetLineWidth(1)\n"
   ]
  },
  {
   "cell_type": "code",
   "execution_count": 248,
   "metadata": {},
   "outputs": [],
   "source": [
    "v0_dphi_dist_0_20.SetLineColor(rt.kPink - 6)\n",
    "v0_dphi_dist_20_50.SetLineColor(rt.kOrange - 6)\n",
    "v0_dphi_dist_50_80.SetLineColor(rt.kBlue - 6)\n",
    "\n",
    "v0_dphi_dist_0_20.SetMarkerStyle(21)\n",
    "v0_dphi_dist_20_50.SetMarkerStyle(21)\n",
    "v0_dphi_dist_50_80.SetMarkerStyle(21)\n",
    "\n",
    "v0_dphi_dist_0_20.SetMarkerColor(rt.kPink - 6)\n",
    "v0_dphi_dist_20_50.SetMarkerColor(rt.kOrange - 6)\n",
    "v0_dphi_dist_50_80.SetMarkerColor(rt.kBlue - 6)\n",
    "\n",
    "v0_dphi_dist_0_20.SetMarkerSize(1)\n",
    "v0_dphi_dist_20_50.SetMarkerSize(1)\n",
    "v0_dphi_dist_50_80.SetMarkerSize(1)\n",
    "\n",
    "v0_dphi_dist_0_20.SetTitle(\"\")\n",
    "v0_dphi_dist_0_20.GetXaxis().SetTitle(\"#Delta#varphi_{h-h}\")\n",
    "v0_dphi_dist_0_20.GetYaxis().SetTitle(\"Per-trigger dN/d#Delta#varphi for constant #Delta#eta (rad^{-1})\")\n",
    "v0_dphi_dist_0_20.GetYaxis().SetRangeUser(0, 1.1 * v0_dphi_dist_0_20.GetMaximum())\n",
    "\n",
    "v0_dphi_dist_20_50.SetTitle(\"\")\n",
    "v0_dphi_dist_20_50.GetXaxis().SetTitle(\"#Delta#varphi_{h-h}\")\n",
    "v0_dphi_dist_20_50.GetYaxis().SetRangeUser(0, 1.1 * v0_dphi_dist_0_20.GetMaximum())\n",
    "\n",
    "v0_dphi_dist_50_80.SetTitle(\"\")\n",
    "v0_dphi_dist_50_80.GetXaxis().SetTitle(\"#Delta#varphi_{h-h}\")\n",
    "v0_dphi_dist_50_80.GetYaxis().SetRangeUser(0, 1.1 * v0_dphi_dist_0_20.GetMaximum())"
   ]
  },
  {
   "cell_type": "code",
   "execution_count": 249,
   "metadata": {},
   "outputs": [
    {
     "name": "stderr",
     "output_type": "stream",
     "text": [
      "Warning in <TCanvas::Constructor>: Deleting canvas with same name: dphi_all\n",
      "Info in <TCanvas::Print>: pdf file figures/h_h_dphi_all.pdf has been created\n"
     ]
    },
    {
     "data": {
      "image/png": "[encoded data removed]",
      "text/plain": [
       "<IPython.core.display.Image object>"
      ]
     },
     "metadata": {},
     "output_type": "display_data"
    }
   ],
   "source": [
    "TOP_MARGIN = 0.1\n",
    "BOTTOM_MARGIN = 0.1\n",
    "LEFT_MARGIN = 0.15\n",
    "PAD_WIDTH = 0.3\n",
    "BUFFER = 0.05\n",
    "SCALE = PAD_WIDTH/(PAD_WIDTH + BUFFER)\n",
    "\n",
    "X_LABEL_SIZE = 0.05\n",
    "Y_LABEL_SIZE = 0.05\n",
    "X_TITLE_SIZE = 0.05\n",
    "Y_TITLE_SIZE = 0.05\n",
    "\n",
    "dphi_all = rt.TCanvas(\"dphi_all\", \"dphi_all\", 50, 50, 1200, 525)\n",
    "dphi_all.SetMargin(0, 0, 0, 0)\n",
    "hl020pad = rt.TPad(\"hl020pad\", \"\", 0, 0, PAD_WIDTH + BUFFER, 1.0)\n",
    "hl020pad.SetMargin(LEFT_MARGIN, 0.0, BOTTOM_MARGIN, TOP_MARGIN)\n",
    "hl020pad.Draw()\n",
    "hl020pad.cd()\n",
    "\n",
    "v0_dphi_dist_0_20.GetYaxis().SetMaxDigits(3)\n",
    "v0_dphi_dist_0_20.GetYaxis().SetTitleSize(SCALE*Y_TITLE_SIZE)\n",
    "v0_dphi_dist_0_20.GetYaxis().SetLabelSize(SCALE*Y_LABEL_SIZE)\n",
    "v0_dphi_dist_0_20.GetYaxis().SetTitleOffset(1.6)\n",
    "\n",
    "v0_dphi_dist_0_20.GetYaxis().SetRangeUser(0, 0.5)\n",
    "\n",
    "v0_dphi_dist_0_20.GetXaxis().SetLabelSize(SCALE*X_LABEL_SIZE)\n",
    "v0_dphi_dist_0_20.GetXaxis().SetTitleSize(SCALE*X_TITLE_SIZE)\n",
    "\n",
    "v0_dphi_dist_0_20.Draw()\n",
    "v0_ue_line_0_20.Draw(\"SAME\")\n",
    "\n",
    "label_x_start = 0.26\n",
    "label_y_start = 0.38\n",
    "label_text_space = 0.06\n",
    "\n",
    "alice_data_label = rt.TLatex()\n",
    "alice_data_label.SetNDC()\n",
    "alice_data_label.SetTextSize(0.05)\n",
    "alice_data_label.SetTextAlign(13)\n",
    "alice_data_label.DrawLatex(label_x_start, label_y_start, \"ALICE Preliminary\")\n",
    "alice_data_label.DrawLatex(label_x_start, label_y_start - label_text_space, \"#bf{p-Pb #sqrt{s_{NN}} = 5.02 TeV}\")\n",
    "alice_data_label.DrawLatex(label_x_start, label_y_start - 2*label_text_space, \"#bf{|#Delta#eta_{h-h}| < 0.8}\")\n",
    "\n",
    "\n",
    "\n",
    "dphi_all.cd()\n",
    "\n",
    "hl2050pad = rt.TPad(\"hl2050pad\", \"\", PAD_WIDTH + BUFFER, 0, 2*PAD_WIDTH + BUFFER, 1.0)\n",
    "hl2050pad.SetMargin(0.0, 0.0, BOTTOM_MARGIN, TOP_MARGIN)\n",
    "hl2050pad.Draw()\n",
    "hl2050pad.cd()\n",
    "\n",
    "\n",
    "v0_dphi_dist_20_50.GetXaxis().SetLabelOffset(-0.002)\n",
    "v0_dphi_dist_20_50.GetXaxis().SetTitleOffset(0.83)\n",
    "v0_dphi_dist_20_50.GetXaxis().SetLabelSize(X_LABEL_SIZE)\n",
    "v0_dphi_dist_20_50.GetXaxis().SetTitleSize(X_TITLE_SIZE)\n",
    "\n",
    "v0_dphi_dist_20_50.GetYaxis().SetLabelSize(0.0)\n",
    "v0_dphi_dist_20_50.GetYaxis().SetRangeUser(0, 0.5)\n",
    "\n",
    "v0_dphi_dist_20_50.Draw()\n",
    "v0_ue_line_20_50.Draw(\"SAME\")\n",
    "\n",
    "pt_label_x_start = 0.31\n",
    "pt_label_y_start = 0.87\n",
    "pt_label_text_space = 0.07\n",
    "\n",
    "pt_data_label = rt.TLatex()\n",
    "pt_data_label.SetNDC()\n",
    "pt_data_label.SetTextSize(0.05/SCALE)\n",
    "pt_data_label.SetTextAlign(13)\n",
    "pt_data_label.DrawLatex(pt_label_x_start, pt_label_y_start, \"#bf{4.0 <   #it{p}^{h}_{T,trig}    < 8.0 GeV/#it{c}}\")\n",
    "pt_data_label.DrawLatex(pt_label_x_start, pt_label_y_start - pt_label_text_space, \"#bf{2.0 <   #it{p}^{h}_{T,assoc} < 4.0 GeV/#it{c}}\")\n",
    "\n",
    "\n",
    "\n",
    "dphi_all.cd()\n",
    "\n",
    "hl5080pad = rt.TPad(\"hl5080pad\", \"\", 2*PAD_WIDTH + BUFFER, 0, 3*PAD_WIDTH + BUFFER, 1.0)\n",
    "hl5080pad.SetMargin(0.0, 0.0, BOTTOM_MARGIN, TOP_MARGIN)\n",
    "hl5080pad.Draw()\n",
    "hl5080pad.cd()\n",
    "\n",
    "\n",
    "v0_dphi_dist_50_80.GetXaxis().SetLabelOffset(-0.002)\n",
    "v0_dphi_dist_50_80.GetXaxis().SetTitleOffset(0.83)\n",
    "v0_dphi_dist_50_80.GetXaxis().SetLabelSize(X_LABEL_SIZE)\n",
    "v0_dphi_dist_50_80.GetXaxis().SetTitleSize(X_TITLE_SIZE)\n",
    "\n",
    "v0_dphi_dist_50_80.GetYaxis().SetLabelSize(0.0)\n",
    "v0_dphi_dist_50_80.GetYaxis().SetRangeUser(0, 0.5)\n",
    "\n",
    "v0_dphi_dist_50_80.Draw()\n",
    "v0_ue_line_50_80.Draw(\"SAME\")\n",
    "\n",
    "color_legend = rt.TLegend(0.15, 0.65, 0.47, 0.86)\n",
    "color_legend.SetTextSize(0.05/SCALE)\n",
    "color_legend.SetBorderSize(0)\n",
    "color_legend.SetFillStyle(0)\n",
    "\n",
    "legend_box_0_20 = rt.TBox(0.55, 0.65, 0.85, 0.86)\n",
    "legend_box_0_20.SetFillStyle(1001)\n",
    "legend_box_0_20.SetFillColor(rt.kPink - 6)\n",
    "legend_box_0_20.SetLineWidth(0)\n",
    "\n",
    "legend_box_20_50 = rt.TBox(0.55, 0.65, 0.85, 0.86)\n",
    "legend_box_20_50.SetFillStyle(1001)\n",
    "legend_box_20_50.SetFillColor(rt.kOrange - 6)\n",
    "legend_box_20_50.SetLineWidth(0)\n",
    "\n",
    "legend_box_50_80 = rt.TBox(0.55, 0.65, 0.85, 0.86)\n",
    "legend_box_50_80.SetFillStyle(1001)\n",
    "legend_box_50_80.SetFillColor(rt.kBlue - 6)\n",
    "legend_box_50_80.SetLineWidth(0)\n",
    "\n",
    "color_legend.AddEntry(legend_box_0_20, \"V0A 0-20%\", \"f\")\n",
    "color_legend.AddEntry(legend_box_20_50, \"V0A 20-50%\", \"f\")\n",
    "color_legend.AddEntry(legend_box_50_80, \"V0A 50-80%\", \"f\")\n",
    "\n",
    "color_legend.Draw()\n",
    "\n",
    "marker_legend = rt.TLegend(0.6, 0.68, 0.93, 0.81)\n",
    "marker_legend.SetTextSize(0.05/SCALE)\n",
    "marker_legend.SetBorderSize(0)\n",
    "marker_legend.SetFillStyle(0)\n",
    "\n",
    "legend_marker = rt.TMarker(0.55, 0.65, 20)\n",
    "legend_marker.SetMarkerColor(rt.kBlack)\n",
    "legend_marker.SetMarkerStyle(21)\n",
    "legend_marker.SetMarkerSize(1)\n",
    "\n",
    "legend_line = rt.TLine(0.7, 0.65, 0.95, 0.65)\n",
    "legend_line.SetLineColor(rt.kBlack)\n",
    "legend_line.SetLineWidth(2)\n",
    "legend_line.SetLineStyle(3)\n",
    "\n",
    "marker_legend.AddEntry(legend_marker, \" h-h data\", \"lep\")\n",
    "marker_legend.AddEntry(legend_line, \" UE fit\", \"l\")\n",
    "\n",
    "marker_legend.Draw()\n",
    "\n",
    "\n",
    "\n",
    "dphi_all.Draw()\n",
    "dphi_all.SaveAs(\"figures/h_h_dphi_all.pdf\")"
   ]
  },
  {
   "cell_type": "code",
   "execution_count": null,
   "metadata": {},
   "outputs": [],
   "source": []
  },
  {
   "cell_type": "code",
   "execution_count": null,
   "metadata": {},
   "outputs": [],
   "source": []
  }
 ],
 "metadata": {
  "kernelspec": {
   "display_name": "Python 3.6.10 ('python-modules')",
   "language": "python",
   "name": "python3"
  },
  "language_info": {
   "codemirror_mode": {
    "name": "ipython",
    "version": 3
   },
   "file_extension": ".py",
   "mimetype": "text/x-python",
   "name": "python",
   "nbconvert_exporter": "python",
   "pygments_lexer": "ipython3",
   "version": "3.6.10"
  },
  "orig_nbformat": 4,
  "vscode": {
   "interpreter": {
    "hash": "dc3bd6f5b32e4f93a64df3e5a2860866c10127abb21699bbbf8f13d24d4fcd18"
   }
  }
 },
 "nbformat": 4,
 "nbformat_minor": 2
}
