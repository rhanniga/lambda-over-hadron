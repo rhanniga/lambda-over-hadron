{
 "cells": [
  {
   "cell_type": "code",
   "execution_count": 1,
   "metadata": {},
   "outputs": [
    {
     "name": "stdout",
     "output_type": "stream",
     "text": [
      "Welcome to JupyROOT 6.26/10\n"
     ]
    }
   ],
   "source": [
    "import ROOT as rt\n",
    "rt.gStyle.SetOptStat(0)"
   ]
  },
  {
   "cell_type": "code",
   "execution_count": 10,
   "metadata": {},
   "outputs": [],
   "source": [
    "PT_MODE = 0"
   ]
  },
  {
   "cell_type": "code",
   "execution_count": 11,
   "metadata": {},
   "outputs": [],
   "source": [
    "if PT_MODE == 0:\n",
    "    infile = rt.TFile(\"twotrack_template.root\")\n",
    "elif PT_MODE == 1:\n",
    "    infile = rt.TFile(\"twotrack_template_lowpt.root\")\n",
    "elif PT_MODE == 2:\n",
    "    infile = rt.TFile(\"twotrack_template_highpt.root\")\n",
    "template = infile.Get(\"twotrack_template\")"
   ]
  },
  {
   "cell_type": "code",
   "execution_count": 12,
   "metadata": {},
   "outputs": [
    {
     "name": "stderr",
     "output_type": "stream",
     "text": [
      "Warning in <TCanvas::Constructor>: Deleting canvas with same name: c\n"
     ]
    }
   ],
   "source": [
    "c = rt.TCanvas(\"c\",\"c\",800,600)\n",
    "c.SetLeftMargin(0.15)\n",
    "c.SetRightMargin(0.15)\n",
    "c.SetBottomMargin(0.10)\n",
    "c.SetTopMargin(0.05)"
   ]
  },
  {
   "cell_type": "code",
   "execution_count": 13,
   "metadata": {},
   "outputs": [
    {
     "name": "stderr",
     "output_type": "stream",
     "text": [
      "Info in <TCanvas::Print>: pdf file ../figures/twotrack_template.pdf has been created\n"
     ]
    },
    {
     "data": {
      "image/png": "[encoded data removed]",
      "text/plain": [
       "<IPython.core.display.Image object>"
      ]
     },
     "metadata": {},
     "output_type": "display_data"
    }
   ],
   "source": [
    "template.SetTitle(\"\")\n",
    "template.GetXaxis().SetTitle(\"#Delta#eta_{h-#Lambda}\")\n",
    "template.GetYaxis().SetTitle(\"#Delta#varphi_{h-#Lambda}\")\n",
    "template.GetXaxis().SetRangeUser(-1.2, 1.2 - 0.01)\n",
    "template.Draw(\"COLZ\")\n",
    "c.Draw()\n",
    "if PT_MODE == 0:\n",
    "    c.SaveAs(\"../figures/twotrack_template.pdf\")\n",
    "elif PT_MODE == 1:\n",
    "    c.SaveAs(\"../figures/twotrack_template_lowpt.pdf\")\n",
    "elif PT_MODE == 2:\n",
    "    c.SaveAs(\"../figures/twotrack_template_highpt.pdf\")"
   ]
  },
  {
   "cell_type": "code",
   "execution_count": null,
   "metadata": {},
   "outputs": [],
   "source": []
  }
 ],
 "metadata": {
  "kernelspec": {
   "display_name": "Python 3",
   "language": "python",
   "name": "python3"
  },
  "language_info": {
   "codemirror_mode": {
    "name": "ipython",
    "version": 3
   },
   "file_extension": ".py",
   "mimetype": "text/x-python",
   "name": "python",
   "nbconvert_exporter": "python",
   "pygments_lexer": "ipython3",
   "version": "3.9.2"
  },
  "orig_nbformat": 4,
  "vscode": {
   "interpreter": {
    "hash": "31f2aee4e71d21fbe5cf8b01ff0e069b9275f58929596ceb00d14d90e3e16cd6"
   }
  }
 },
 "nbformat": 4,
 "nbformat_minor": 2
}
