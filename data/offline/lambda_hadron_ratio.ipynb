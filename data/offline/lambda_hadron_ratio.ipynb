{
 "cells": [
  {
   "cell_type": "code",
   "execution_count": 9,
   "metadata": {},
   "outputs": [],
   "source": [
    "import ROOT as rt\n",
    "from random import randint"
   ]
  },
  {
   "cell_type": "markdown",
   "metadata": {},
   "source": [
    "# Lambda/hadron analysis as a function of centrality"
   ]
  },
  {
   "cell_type": "code",
   "execution_count": 10,
   "metadata": {},
   "outputs": [],
   "source": [
    "def reset_ranges(hist, dim):\n",
    "    # can we just talk about how stupid it is that TH1,2,3D's don't have a GetAxis attr\n",
    "    if dim == 1:\n",
    "        hist.GetXaxis().SetRangeUser(0, 0)\n",
    "\n",
    "    elif dim == 2:\n",
    "        hist.GetYaxis().SetRangeUser(0, 0)\n",
    "        hist.GetXaxis().SetRangeUser(0, 0)\n",
    "\n",
    "    elif dim == 3:\n",
    "        hist.GetXaxis().SetRangeUser(0, 0)\n",
    "        hist.GetYaxis().SetRangeUser(0, 0)\n",
    "        hist.GetZaxis().SetRangeUser(0, 0)\n",
    "\n",
    "    else:\n",
    "        for axis in range(dim):\n",
    "            hist.GetAxis(axis).SetRangeUser(0, 0)"
   ]
  },
  {
   "cell_type": "code",
   "execution_count": 11,
   "metadata": {},
   "outputs": [],
   "source": [
    "def make_mixed_corrections(same, mixed, lowmass=1.11, highmass=1.12, is_hh=False):\n",
    "\n",
    "    if not is_hh:\n",
    "        same.GetAxis(2).SetRangeUser(lowmass, highmass)\n",
    "        mixed.GetAxis(2).SetRangeUser(lowmass, highmass)\n",
    "        same3D = same.Projection(0, 1, 3)\n",
    "        same3D.Sumw2()\n",
    "        mixed3D = mixed.Projection(0, 1, 3)\n",
    "        mixed3D.Sumw2()\n",
    "    else:\n",
    "        same3D = same\n",
    "        same3D.Sumw2()\n",
    "        mixed3D = mixed\n",
    "        mixed3D.Sumw2()\n",
    "\n",
    "    for zbin in range(10):\n",
    "\n",
    "        same3D.GetZaxis().SetRange(zbin+1, zbin+1)\n",
    "        same2D = same3D.Project3D(\"xye\")\n",
    "        same2D.SetName(f\"mix2dproj_zbin_{zbin}\")\n",
    "\n",
    "        mixed3D.GetZaxis().SetRange(zbin+1, zbin+1)\n",
    "        mixed2D = mixed3D.Project3D(\"xye\")\n",
    "        mixed2D.SetName(f\"mix2dproj_zbin_{zbin}\")\n",
    "\n",
    "        #scaling by average of bins adjacent to 0\n",
    "        scale = 0.5*(mixed2D.GetBinContent(mixed2D.GetXaxis().FindBin(0.01), mixed2D.GetYaxis().FindBin(0.0)) + mixed2D.GetBinContent(mixed2D.GetXaxis().FindBin(-0.01), mixed2D.GetYaxis().FindBin(0.0)))\n",
    "        same2D.Divide(mixed2D)\n",
    "        same2D.Scale(scale)\n",
    "        if zbin == 0:\n",
    "            same2D_total = same2D.Clone(\"2dproj_total\")\n",
    "        else:\n",
    "            same2D_total.Add(same2D)\n",
    "\n",
    "    return same2D_total"
   ]
  },
  {
   "cell_type": "code",
   "execution_count": 12,
   "metadata": {},
   "outputs": [],
   "source": [
    "def set_sparse_pt_ranges():\n",
    "\n",
    "    #setting pt range on trigger distribution\n",
    "    object_list.FindObject(\"fTriggerDist\").GetAxis(0).SetRangeUser(trig_pt_low, trig_pt_high)\n",
    "\n",
    "    #setting trigger pt range on relevant dphi distributions\n",
    "    object_list.FindObject(\"fDphiHStrangePart\").GetAxis(0).SetRangeUser(trig_pt_low, trig_pt_high)\n",
    "    object_list.FindObject(\"fDphiHStrangePartMixed\").GetAxis(0).SetRangeUser(trig_pt_low, trig_pt_high)\n",
    "    object_list.FindObject(\"fDphiHStrangePartLS\").GetAxis(0).SetRangeUser(trig_pt_low, trig_pt_high)\n",
    "    object_list.FindObject(\"fDphiHStrangePartLSMixed\").GetAxis(0).SetRangeUser(trig_pt_low, trig_pt_high)\n",
    "\n",
    "    #setting associated pt range on relevant dphi distributions\n",
    "    object_list.FindObject(\"fDphiHStrangePart\").GetAxis(1).SetRangeUser(assoc_pt_low, assoc_pt_high)\n",
    "    object_list.FindObject(\"fDphiHStrangePartMixed\").GetAxis(1).SetRangeUser(assoc_pt_low, assoc_pt_high)\n",
    "    object_list.FindObject(\"fDphiHStrangePartLS\").GetAxis(1).SetRangeUser(assoc_pt_low, assoc_pt_high)\n",
    "    object_list.FindObject(\"fDphiHStrangePartLSMixed\").GetAxis(1).SetRangeUser(assoc_pt_low, assoc_pt_high)"
   ]
  },
  {
   "cell_type": "code",
   "execution_count": 13,
   "metadata": {},
   "outputs": [],
   "source": [
    "def setup():\n",
    "\n",
    "    set_sparse_pt_ranges()\n",
    "\n",
    "    hist_dict = {}\n",
    "\n",
    "    hist_dict[\"trig_dist\"] = object_list.FindObject(\"fTriggerDist\").Projection(0, 3)\n",
    "\n",
    "    #need to pass an actual array to projection (not a list)\n",
    "    axes = arr.array('i', [2, 3, 4, 5])\n",
    "    hist_dict[\"dphi_h_strange\"] = object_list.FindObject(\"fDphiHStrangePart\").Projection(4, axes)\n",
    "    hist_dict[\"dphi_h_strange_mixed\"] = object_list.FindObject(\"fDphiHStrangePartMixed\").Projection(4, axes)\n",
    "    hist_dict[\"dphi_h_strange_LS\"] = object_list.FindObject(\"fDphiHStrangePartLS\").Projection(4, axes)\n",
    "    hist_dict[\"dphi_h_strange_LS_mixed\"] = object_list.FindObject(\"fDphiHStrangePartLSMixed\").Projection(4, axes)\n",
    "    hist_dict[\"dphi_h_h\"] = object_list.FindObject(\"fDphiHH\").Projection(2, 3, 4)\n",
    "    hist_dict[\"dphi_h_h\"].Sumw2()\n",
    "    hist_dict[\"dphi_h_h_mixed\"] = object_list.FindObject(\"fDphiHHMixed\").Projection(2, 3, 4)\n",
    "    hist_dict[\"dphi_h_h_mixed\"].Sumw2()\n",
    "\n",
    "    return hist_dict"
   ]
  },
  {
   "cell_type": "code",
   "execution_count": 7,
   "metadata": {},
   "outputs": [],
   "source": [
    "def generate_output_string():\n",
    "    #didn't want to have this in one line\n",
    "    out = \"trig_\"\n",
    "    out += str(int(trig_pt_low)) + \"_\"\n",
    "    out += str(int(trig_pt_high)) + \"_\"\n",
    "    out += \"assoc_\"\n",
    "    out += str(int(assoc_pt_low)) + \"_\"\n",
    "    out += str(int(assoc_pt_high)) + \"_\"\n",
    "    out += \"cent_\"\n",
    "    out += str(int(cent_low)) + \"_\"\n",
    "    out += str(int(cent_high)) + \"_\"\n",
    "    out += \"mixcorr_\"\n",
    "    out += \"h\" + particle_name + \".root\"\n",
    "    return out"
   ]
  },
  {
   "cell_type": "code",
   "execution_count": 8,
   "metadata": {},
   "outputs": [],
   "source": [
    "def output_to_file(output_file_string, output_list):\n",
    "    output_file = TFile(output_file_string, \"RECREATE\")\n",
    "    output_file.cd()\n",
    "    for thing in output_list:\n",
    "        thing.Write()\n",
    "    output_file.Close()"
   ]
  },
  {
   "cell_type": "code",
   "execution_count": null,
   "metadata": {},
   "outputs": [],
   "source": [
    "hist_dict = setup()\n",
    "\n",
    "#making the corrections, appending corrected stuff to dictionary\n",
    "hist_dict[\"hStrangePart2Dpeak\"] = make_mixed_corrections(hist_dict[\"dphi_h_strange\"], hist_dict[\"dphi_h_strange_mixed\"], peak_low, peak_high)\n",
    "hist_dict[\"hStrangePartLS2Dpeak\"] = make_mixed_corrections(hist_dict[\"dphi_h_strange_LS\"], hist_dict[\"dphi_h_strange_LS_mixed\"], peak_low, peak_high)\n",
    "hist_dict[\"hStrangePart2DLside\"] = make_mixed_corrections(hist_dict[\"dphi_h_strange\"], hist_dict[\"dphi_h_strange_mixed\"], lsb_low, lsb_high)\n",
    "hist_dict[\"hStrangePartLS2DLside\"] = make_mixed_corrections(hist_dict[\"dphi_h_strange_LS\"], hist_dict[\"dphi_h_strange_LS_mixed\"], lsb_low, lsb_high)\n",
    "hist_dict[\"hStrangePart2DRside\"] = make_mixed_corrections(hist_dict[\"dphi_h_strange\"], hist_dict[\"dphi_h_strange_mixed\"], rsb_low, rsb_high)\n",
    "hist_dict[\"hStrangePartLS2DRside\"] = make_mixed_corrections(hist_dict[\"dphi_h_strange_LS\"], hist_dict[\"dphi_h_strange_LS_mixed\"], rsb_low, rsb_high)\n",
    "hist_dict[\"hh2D\"] = make_mixed_corrections(hist_dict[\"dphi_h_h\"], hist_dict[\"dphi_h_h_mixed\"], is_hh=True) \n",
    "\n",
    "#list containing stuff to be written to output file\n",
    "output_list = []\n",
    "\n",
    "for hist in hist_dict:\n",
    "    hist_dict[hist].SetName(hist)\n",
    "    output_list.append(hist_dict[hist])\n",
    "\n",
    "output_string = generate_output_string()\n",
    "output_to_file(output_string, output_list)"
   ]
  }
 ],
 "metadata": {
  "kernelspec": {
   "display_name": "Python 3",
   "language": "python",
   "name": "python3"
  },
  "language_info": {
   "codemirror_mode": {
    "name": "ipython",
    "version": 3
   },
   "file_extension": ".py",
   "mimetype": "text/x-python",
   "name": "python",
   "nbconvert_exporter": "python",
   "pygments_lexer": "ipython3",
   "version": "3.7.6"
  }
 },
 "nbformat": 4,
 "nbformat_minor": 4
}
