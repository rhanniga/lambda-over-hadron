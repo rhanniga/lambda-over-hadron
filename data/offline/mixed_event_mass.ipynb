{
 "cells": [
  {
   "cell_type": "code",
   "execution_count": 2,
   "metadata": {},
   "outputs": [
    {
     "name": "stdout",
     "output_type": "stream",
     "text": [
      "Welcome to JupyROOT 6.18/04\n"
     ]
    }
   ],
   "source": [
    "import ROOT as rt"
   ]
  },
  {
   "cell_type": "code",
   "execution_count": 8,
   "metadata": {},
   "outputs": [
    {
     "name": "stderr",
     "output_type": "stream",
     "text": [
      "Warning in <TFile::Init>: file trig_4_8_assoc_2_4_cent_0_20_mixcorr_hLambda.root probably not closed, trying to recover\n",
      "Info in <TFile::Recover>: trig_4_8_assoc_2_4_cent_0_20_mixcorr_hLambda.root, recovered key TH2D:hLambda2Dpeak at address 294\n",
      "Info in <TFile::Recover>: trig_4_8_assoc_2_4_cent_0_20_mixcorr_hLambda.root, recovered key TH2D:hLambda2DRside at address 5382\n",
      "Info in <TFile::Recover>: trig_4_8_assoc_2_4_cent_0_20_mixcorr_hLambda.root, recovered key TH2D:hLambda2DLside at address 10499\n",
      "Info in <TFile::Recover>: trig_4_8_assoc_2_4_cent_0_20_mixcorr_hLambda.root, recovered key TH2D:hLambdaLS2Dpeak at address 15553\n",
      "Info in <TFile::Recover>: trig_4_8_assoc_2_4_cent_0_20_mixcorr_hLambda.root, recovered key TH2D:hLambdaLS2DRside at address 20674\n",
      "Info in <TFile::Recover>: trig_4_8_assoc_2_4_cent_0_20_mixcorr_hLambda.root, recovered key TH2D:hLambdaLS2DLside at address 25766\n",
      "Info in <TFile::Recover>: trig_4_8_assoc_2_4_cent_0_20_mixcorr_hLambda.root, recovered key TH2D:uncorrhLambda2Dpeak at address 30831\n",
      "Info in <TFile::Recover>: trig_4_8_assoc_2_4_cent_0_20_mixcorr_hLambda.root, recovered key TH2D:uncorrhLambdaMixed2Dpeak at address 32203\n",
      "Info in <TFile::Recover>: trig_4_8_assoc_2_4_cent_0_20_mixcorr_hLambda.root, recovered key TH2D:uncorrhLambda2DRside at address 34076\n",
      "Info in <TFile::Recover>: trig_4_8_assoc_2_4_cent_0_20_mixcorr_hLambda.root, recovered key TH2D:uncorrhLambdaMixed2DRside at address 35454\n",
      "Info in <TFile::Recover>: trig_4_8_assoc_2_4_cent_0_20_mixcorr_hLambda.root, recovered key TH2D:uncorrhLambda2DLside at address 37317\n",
      "Info in <TFile::Recover>: trig_4_8_assoc_2_4_cent_0_20_mixcorr_hLambda.root, recovered key TH2D:fDphiHLambdaMixed_proj_2_3_4_5_proj_1_0 at address 38659\n",
      "Info in <TFile::Recover>: trig_4_8_assoc_2_4_cent_0_20_mixcorr_hLambda.root, recovered key TH2D:fDphiHLambdaMixed_proj_2_3_4_5_proj_1_0 at address 40459\n",
      "Info in <TFile::Recover>: trig_4_8_assoc_2_4_cent_0_20_mixcorr_hLambda.root, recovered key TH1D:mixedratioPeakZ2deta at address 43361\n",
      "Info in <TFile::Recover>: trig_4_8_assoc_2_4_cent_0_20_mixcorr_hLambda.root, recovered key TH1D:mixedUSzvtx at address 43935\n",
      "Info in <TFile::Recover>: trig_4_8_assoc_2_4_cent_0_20_mixcorr_hLambda.root, recovered key TH1D:mixedLSzvtx at address 44374\n",
      "Info in <TFile::Recover>: trig_4_8_assoc_2_4_cent_0_20_mixcorr_hLambda.root, recovered key TH1D:sameUSPeakEta_zvtx_0 at address 44809\n",
      "Info in <TFile::Recover>: trig_4_8_assoc_2_4_cent_0_20_mixcorr_hLambda.root, recovered key TH1D:mixedUSPeakEta_zvtx_0 at address 45321\n",
      "Info in <TFile::Recover>: trig_4_8_assoc_2_4_cent_0_20_mixcorr_hLambda.root, recovered key TH1D:sameLSPeakEta_zvtx_0 at address 45917\n",
      "Info in <TFile::Recover>: trig_4_8_assoc_2_4_cent_0_20_mixcorr_hLambda.root, recovered key TH1D:mixedLSPeakEta_zvtx_0 at address 46445\n",
      "Info in <TFile::Recover>: trig_4_8_assoc_2_4_cent_0_20_mixcorr_hLambda.root, recovered key TH1D:sameUSRsideEta_zvtx_0 at address 47042\n",
      "Info in <TFile::Recover>: trig_4_8_assoc_2_4_cent_0_20_mixcorr_hLambda.root, recovered key TH1D:mixedUSRsideEta_zvtx_0 at address 47569\n",
      "Info in <TFile::Recover>: trig_4_8_assoc_2_4_cent_0_20_mixcorr_hLambda.root, recovered key TH1D:sameLSRsideEta_zvtx_0 at address 48151\n",
      "Info in <TFile::Recover>: trig_4_8_assoc_2_4_cent_0_20_mixcorr_hLambda.root, recovered key TH1D:mixedLSRsideEta_zvtx_0 at address 48678\n",
      "Info in <TFile::Recover>: trig_4_8_assoc_2_4_cent_0_20_mixcorr_hLambda.root, recovered key TH1D:sameUSLsideEta_zvtx_0 at address 49259\n",
      "Info in <TFile::Recover>: trig_4_8_assoc_2_4_cent_0_20_mixcorr_hLambda.root, recovered key TH1D:mixedUSLsideEta_zvtx_0 at address 49778\n",
      "Info in <TFile::Recover>: trig_4_8_assoc_2_4_cent_0_20_mixcorr_hLambda.root, recovered key TH1D:sameLSLsideEta_zvtx_0 at address 50360\n",
      "Info in <TFile::Recover>: trig_4_8_assoc_2_4_cent_0_20_mixcorr_hLambda.root, recovered key TH1D:mixedLSLsideEta_zvtx_0 at address 50870\n",
      "Info in <TFile::Recover>: trig_4_8_assoc_2_4_cent_0_20_mixcorr_hLambda.root, recovered key TH1D:sameUSPeakEta_zvtx_1 at address 51453\n",
      "Info in <TFile::Recover>: trig_4_8_assoc_2_4_cent_0_20_mixcorr_hLambda.root, recovered key TH1D:mixedUSPeakEta_zvtx_1 at address 51980\n",
      "Info in <TFile::Recover>: trig_4_8_assoc_2_4_cent_0_20_mixcorr_hLambda.root, recovered key TH1D:sameLSPeakEta_zvtx_1 at address 52569\n",
      "Info in <TFile::Recover>: trig_4_8_assoc_2_4_cent_0_20_mixcorr_hLambda.root, recovered key TH1D:mixedLSPeakEta_zvtx_1 at address 53098\n",
      "Info in <TFile::Recover>: trig_4_8_assoc_2_4_cent_0_20_mixcorr_hLambda.root, recovered key TH1D:sameUSRsideEta_zvtx_1 at address 53687\n",
      "Info in <TFile::Recover>: trig_4_8_assoc_2_4_cent_0_20_mixcorr_hLambda.root, recovered key TH1D:mixedUSRsideEta_zvtx_1 at address 54219\n",
      "Info in <TFile::Recover>: trig_4_8_assoc_2_4_cent_0_20_mixcorr_hLambda.root, recovered key TH1D:sameLSRsideEta_zvtx_1 at address 54816\n",
      "Info in <TFile::Recover>: trig_4_8_assoc_2_4_cent_0_20_mixcorr_hLambda.root, recovered key TH1D:mixedLSRsideEta_zvtx_1 at address 55326\n",
      "Info in <TFile::Recover>: trig_4_8_assoc_2_4_cent_0_20_mixcorr_hLambda.root, recovered key TH1D:sameUSLsideEta_zvtx_1 at address 55923\n",
      "Info in <TFile::Recover>: trig_4_8_assoc_2_4_cent_0_20_mixcorr_hLambda.root, recovered key TH1D:mixedUSLsideEta_zvtx_1 at address 56439\n",
      "Info in <TFile::Recover>: trig_4_8_assoc_2_4_cent_0_20_mixcorr_hLambda.root, recovered key TH1D:sameLSLsideEta_zvtx_1 at address 57005\n",
      "Info in <TFile::Recover>: trig_4_8_assoc_2_4_cent_0_20_mixcorr_hLambda.root, recovered key TH1D:mixedLSLsideEta_zvtx_1 at address 57528\n",
      "Info in <TFile::Recover>: trig_4_8_assoc_2_4_cent_0_20_mixcorr_hLambda.root, recovered key TH1D:sameUSPeakEta_zvtx_2 at address 58095\n",
      "Info in <TFile::Recover>: trig_4_8_assoc_2_4_cent_0_20_mixcorr_hLambda.root, recovered key TH1D:mixedUSPeakEta_zvtx_2 at address 58624\n",
      "Info in <TFile::Recover>: trig_4_8_assoc_2_4_cent_0_20_mixcorr_hLambda.root, recovered key TH1D:sameLSPeakEta_zvtx_2 at address 59214\n",
      "Info in <TFile::Recover>: trig_4_8_assoc_2_4_cent_0_20_mixcorr_hLambda.root, recovered key TH1D:mixedLSPeakEta_zvtx_2 at address 59731\n",
      "Info in <TFile::Recover>: trig_4_8_assoc_2_4_cent_0_20_mixcorr_hLambda.root, recovered key TH1D:sameUSRsideEta_zvtx_2 at address 60322\n",
      "Info in <TFile::Recover>: trig_4_8_assoc_2_4_cent_0_20_mixcorr_hLambda.root, recovered key TH1D:mixedUSRsideEta_zvtx_2 at address 60853\n",
      "Info in <TFile::Recover>: trig_4_8_assoc_2_4_cent_0_20_mixcorr_hLambda.root, recovered key TH1D:sameLSRsideEta_zvtx_2 at address 61440\n",
      "Info in <TFile::Recover>: trig_4_8_assoc_2_4_cent_0_20_mixcorr_hLambda.root, recovered key TH1D:mixedLSRsideEta_zvtx_2 at address 61991\n",
      "Info in <TFile::Recover>: trig_4_8_assoc_2_4_cent_0_20_mixcorr_hLambda.root, recovered key TH1D:sameUSLsideEta_zvtx_2 at address 62578\n",
      "Info in <TFile::Recover>: trig_4_8_assoc_2_4_cent_0_20_mixcorr_hLambda.root, recovered key TH1D:mixedUSLsideEta_zvtx_2 at address 63110\n",
      "Info in <TFile::Recover>: trig_4_8_assoc_2_4_cent_0_20_mixcorr_hLambda.root, recovered key TH1D:sameLSLsideEta_zvtx_2 at address 63675\n",
      "Info in <TFile::Recover>: trig_4_8_assoc_2_4_cent_0_20_mixcorr_hLambda.root, recovered key TH1D:mixedLSLsideEta_zvtx_2 at address 64207\n",
      "Info in <TFile::Recover>: trig_4_8_assoc_2_4_cent_0_20_mixcorr_hLambda.root, recovered key TH1D:sameUSPeakEta_zvtx_3 at address 64771\n",
      "Info in <TFile::Recover>: trig_4_8_assoc_2_4_cent_0_20_mixcorr_hLambda.root, recovered key TH1D:mixedUSPeakEta_zvtx_3 at address 65304\n",
      "Info in <TFile::Recover>: trig_4_8_assoc_2_4_cent_0_20_mixcorr_hLambda.root, recovered key TH1D:sameLSPeakEta_zvtx_3 at address 65900\n",
      "Info in <TFile::Recover>: trig_4_8_assoc_2_4_cent_0_20_mixcorr_hLambda.root, recovered key TH1D:mixedLSPeakEta_zvtx_3 at address 66441\n",
      "Info in <TFile::Recover>: trig_4_8_assoc_2_4_cent_0_20_mixcorr_hLambda.root, recovered key TH1D:sameUSRsideEta_zvtx_3 at address 67036\n",
      "Info in <TFile::Recover>: trig_4_8_assoc_2_4_cent_0_20_mixcorr_hLambda.root, recovered key TH1D:mixedUSRsideEta_zvtx_3 at address 67556\n",
      "Info in <TFile::Recover>: trig_4_8_assoc_2_4_cent_0_20_mixcorr_hLambda.root, recovered key TH1D:sameLSRsideEta_zvtx_3 at address 68141\n",
      "Info in <TFile::Recover>: trig_4_8_assoc_2_4_cent_0_20_mixcorr_hLambda.root, recovered key TH1D:mixedLSRsideEta_zvtx_3 at address 68664\n",
      "Info in <TFile::Recover>: trig_4_8_assoc_2_4_cent_0_20_mixcorr_hLambda.root, recovered key TH1D:sameUSLsideEta_zvtx_3 at address 69249\n",
      "Info in <TFile::Recover>: trig_4_8_assoc_2_4_cent_0_20_mixcorr_hLambda.root, recovered key TH1D:mixedUSLsideEta_zvtx_3 at address 69775\n",
      "Info in <TFile::Recover>: trig_4_8_assoc_2_4_cent_0_20_mixcorr_hLambda.root, recovered key TH1D:sameLSLsideEta_zvtx_3 at address 70363\n",
      "Info in <TFile::Recover>: trig_4_8_assoc_2_4_cent_0_20_mixcorr_hLambda.root, recovered key TH1D:mixedLSLsideEta_zvtx_3 at address 70889\n",
      "Info in <TFile::Recover>: trig_4_8_assoc_2_4_cent_0_20_mixcorr_hLambda.root, recovered key TH1D:sameUSPeakEta_zvtx_4 at address 71477\n",
      "Info in <TFile::Recover>: trig_4_8_assoc_2_4_cent_0_20_mixcorr_hLambda.root, recovered key TH1D:mixedUSPeakEta_zvtx_4 at address 72004\n",
      "Info in <TFile::Recover>: trig_4_8_assoc_2_4_cent_0_20_mixcorr_hLambda.root, recovered key TH1D:sameLSPeakEta_zvtx_4 at address 72571\n",
      "Info in <TFile::Recover>: trig_4_8_assoc_2_4_cent_0_20_mixcorr_hLambda.root, recovered key TH1D:mixedLSPeakEta_zvtx_4 at address 73086\n",
      "Info in <TFile::Recover>: trig_4_8_assoc_2_4_cent_0_20_mixcorr_hLambda.root, recovered key TH1D:sameUSRsideEta_zvtx_4 at address 73653\n",
      "Info in <TFile::Recover>: trig_4_8_assoc_2_4_cent_0_20_mixcorr_hLambda.root, recovered key TH1D:mixedUSRsideEta_zvtx_4 at address 74179\n",
      "Info in <TFile::Recover>: trig_4_8_assoc_2_4_cent_0_20_mixcorr_hLambda.root, recovered key TH1D:sameLSRsideEta_zvtx_4 at address 74756\n",
      "Info in <TFile::Recover>: trig_4_8_assoc_2_4_cent_0_20_mixcorr_hLambda.root, recovered key TH1D:mixedLSRsideEta_zvtx_4 at address 75282\n",
      "Info in <TFile::Recover>: trig_4_8_assoc_2_4_cent_0_20_mixcorr_hLambda.root, recovered key TH1D:sameUSLsideEta_zvtx_4 at address 75859\n",
      "Info in <TFile::Recover>: trig_4_8_assoc_2_4_cent_0_20_mixcorr_hLambda.root, recovered key TH1D:mixedUSLsideEta_zvtx_4 at address 76362\n",
      "Info in <TFile::Recover>: trig_4_8_assoc_2_4_cent_0_20_mixcorr_hLambda.root, recovered key TH1D:sameLSLsideEta_zvtx_4 at address 76953\n",
      "Info in <TFile::Recover>: trig_4_8_assoc_2_4_cent_0_20_mixcorr_hLambda.root, recovered key TH1D:mixedLSLsideEta_zvtx_4 at address 77487\n",
      "Info in <TFile::Recover>: trig_4_8_assoc_2_4_cent_0_20_mixcorr_hLambda.root, recovered key TH1D:sameUSPeakEta_zvtx_5 at address 78078\n",
      "Info in <TFile::Recover>: trig_4_8_assoc_2_4_cent_0_20_mixcorr_hLambda.root, recovered key TH1D:mixedUSPeakEta_zvtx_5 at address 78617\n",
      "Info in <TFile::Recover>: trig_4_8_assoc_2_4_cent_0_20_mixcorr_hLambda.root, recovered key TH1D:sameLSPeakEta_zvtx_5 at address 79209\n",
      "Info in <TFile::Recover>: trig_4_8_assoc_2_4_cent_0_20_mixcorr_hLambda.root, recovered key TH1D:mixedLSPeakEta_zvtx_5 at address 79745\n",
      "Info in <TFile::Recover>: trig_4_8_assoc_2_4_cent_0_20_mixcorr_hLambda.root, recovered key TH1D:sameUSRsideEta_zvtx_5 at address 80337\n",
      "Info in <TFile::Recover>: trig_4_8_assoc_2_4_cent_0_20_mixcorr_hLambda.root, recovered key TH1D:mixedUSRsideEta_zvtx_5 at address 80874\n",
      "Info in <TFile::Recover>: trig_4_8_assoc_2_4_cent_0_20_mixcorr_hLambda.root, recovered key TH1D:sameLSRsideEta_zvtx_5 at address 81455\n",
      "Info in <TFile::Recover>: trig_4_8_assoc_2_4_cent_0_20_mixcorr_hLambda.root, recovered key TH1D:mixedLSRsideEta_zvtx_5 at address 82003\n",
      "Info in <TFile::Recover>: trig_4_8_assoc_2_4_cent_0_20_mixcorr_hLambda.root, recovered key TH1D:sameUSLsideEta_zvtx_5 at address 82584\n",
      "Info in <TFile::Recover>: trig_4_8_assoc_2_4_cent_0_20_mixcorr_hLambda.root, recovered key TH1D:mixedUSLsideEta_zvtx_5 at address 83103\n",
      "Info in <TFile::Recover>: trig_4_8_assoc_2_4_cent_0_20_mixcorr_hLambda.root, recovered key TH1D:sameLSLsideEta_zvtx_5 at address 83680\n",
      "Info in <TFile::Recover>: trig_4_8_assoc_2_4_cent_0_20_mixcorr_hLambda.root, recovered key TH1D:mixedLSLsideEta_zvtx_5 at address 84206\n",
      "Info in <TFile::Recover>: trig_4_8_assoc_2_4_cent_0_20_mixcorr_hLambda.root, recovered key TH1D:sameUSPeakEta_zvtx_6 at address 84783\n",
      "Info in <TFile::Recover>: trig_4_8_assoc_2_4_cent_0_20_mixcorr_hLambda.root, recovered key TH1D:mixedUSPeakEta_zvtx_6 at address 85320\n",
      "Info in <TFile::Recover>: trig_4_8_assoc_2_4_cent_0_20_mixcorr_hLambda.root, recovered key TH1D:sameLSPeakEta_zvtx_6 at address 85911\n",
      "Info in <TFile::Recover>: trig_4_8_assoc_2_4_cent_0_20_mixcorr_hLambda.root, recovered key TH1D:mixedLSPeakEta_zvtx_6 at address 86430\n",
      "Info in <TFile::Recover>: trig_4_8_assoc_2_4_cent_0_20_mixcorr_hLambda.root, recovered key TH1D:sameUSRsideEta_zvtx_6 at address 87021\n",
      "Info in <TFile::Recover>: trig_4_8_assoc_2_4_cent_0_20_mixcorr_hLambda.root, recovered key TH1D:mixedUSRsideEta_zvtx_6 at address 87554\n",
      "Info in <TFile::Recover>: trig_4_8_assoc_2_4_cent_0_20_mixcorr_hLambda.root, recovered key TH1D:sameLSRsideEta_zvtx_6 at address 88129\n",
      "Info in <TFile::Recover>: trig_4_8_assoc_2_4_cent_0_20_mixcorr_hLambda.root, recovered key TH1D:mixedLSRsideEta_zvtx_6 at address 88663\n",
      "Info in <TFile::Recover>: trig_4_8_assoc_2_4_cent_0_20_mixcorr_hLambda.root, recovered key TH1D:sameUSLsideEta_zvtx_6 at address 89238\n",
      "Info in <TFile::Recover>: trig_4_8_assoc_2_4_cent_0_20_mixcorr_hLambda.root, recovered key TH1D:mixedUSLsideEta_zvtx_6 at address 89754\n",
      "Info in <TFile::Recover>: trig_4_8_assoc_2_4_cent_0_20_mixcorr_hLambda.root, recovered key TH1D:sameLSLsideEta_zvtx_6 at address 90345\n",
      "Info in <TFile::Recover>: trig_4_8_assoc_2_4_cent_0_20_mixcorr_hLambda.root, recovered key TH1D:mixedLSLsideEta_zvtx_6 at address 90874\n",
      "Info in <TFile::Recover>: trig_4_8_assoc_2_4_cent_0_20_mixcorr_hLambda.root, recovered key TH1D:sameUSPeakEta_zvtx_7 at address 91465\n",
      "Info in <TFile::Recover>: trig_4_8_assoc_2_4_cent_0_20_mixcorr_hLambda.root, recovered key TH1D:mixedUSPeakEta_zvtx_7 at address 92010\n",
      "Info in <TFile::Recover>: trig_4_8_assoc_2_4_cent_0_20_mixcorr_hLambda.root, recovered key TH1D:sameLSPeakEta_zvtx_7 at address 92603\n",
      "Info in <TFile::Recover>: trig_4_8_assoc_2_4_cent_0_20_mixcorr_hLambda.root, recovered key TH1D:mixedLSPeakEta_zvtx_7 at address 93143\n",
      "Info in <TFile::Recover>: trig_4_8_assoc_2_4_cent_0_20_mixcorr_hLambda.root, recovered key TH1D:sameUSRsideEta_zvtx_7 at address 93736\n",
      "Info in <TFile::Recover>: trig_4_8_assoc_2_4_cent_0_20_mixcorr_hLambda.root, recovered key TH1D:mixedUSRsideEta_zvtx_7 at address 94274\n",
      "Info in <TFile::Recover>: trig_4_8_assoc_2_4_cent_0_20_mixcorr_hLambda.root, recovered key TH1D:sameLSRsideEta_zvtx_7 at address 94868\n",
      "Info in <TFile::Recover>: trig_4_8_assoc_2_4_cent_0_20_mixcorr_hLambda.root, recovered key TH1D:mixedLSRsideEta_zvtx_7 at address 95403\n",
      "Info in <TFile::Recover>: trig_4_8_assoc_2_4_cent_0_20_mixcorr_hLambda.root, recovered key TH1D:sameUSLsideEta_zvtx_7 at address 95998\n",
      "Info in <TFile::Recover>: trig_4_8_assoc_2_4_cent_0_20_mixcorr_hLambda.root, recovered key TH1D:mixedUSLsideEta_zvtx_7 at address 96518\n",
      "Info in <TFile::Recover>: trig_4_8_assoc_2_4_cent_0_20_mixcorr_hLambda.root, recovered key TH1D:sameLSLsideEta_zvtx_7 at address 97103\n",
      "Info in <TFile::Recover>: trig_4_8_assoc_2_4_cent_0_20_mixcorr_hLambda.root, recovered key TH1D:mixedLSLsideEta_zvtx_7 at address 97623\n",
      "Info in <TFile::Recover>: trig_4_8_assoc_2_4_cent_0_20_mixcorr_hLambda.root, recovered key TH1D:sameUSPeakEta_zvtx_8 at address 98208\n",
      "Info in <TFile::Recover>: trig_4_8_assoc_2_4_cent_0_20_mixcorr_hLambda.root, recovered key TH1D:mixedUSPeakEta_zvtx_8 at address 98733\n",
      "Info in <TFile::Recover>: trig_4_8_assoc_2_4_cent_0_20_mixcorr_hLambda.root, recovered key TH1D:sameLSPeakEta_zvtx_8 at address 99317\n",
      "Info in <TFile::Recover>: trig_4_8_assoc_2_4_cent_0_20_mixcorr_hLambda.root, recovered key TH1D:mixedLSPeakEta_zvtx_8 at address 99856\n",
      "Info in <TFile::Recover>: trig_4_8_assoc_2_4_cent_0_20_mixcorr_hLambda.root, recovered key TH1D:sameUSRsideEta_zvtx_8 at address 100440\n",
      "Info in <TFile::Recover>: trig_4_8_assoc_2_4_cent_0_20_mixcorr_hLambda.root, recovered key TH1D:mixedUSRsideEta_zvtx_8 at address 100964\n",
      "Info in <TFile::Recover>: trig_4_8_assoc_2_4_cent_0_20_mixcorr_hLambda.root, recovered key TH1D:sameLSRsideEta_zvtx_8 at address 101543\n",
      "Info in <TFile::Recover>: trig_4_8_assoc_2_4_cent_0_20_mixcorr_hLambda.root, recovered key TH1D:mixedLSRsideEta_zvtx_8 at address 102090\n",
      "Info in <TFile::Recover>: trig_4_8_assoc_2_4_cent_0_20_mixcorr_hLambda.root, recovered key TH1D:sameUSLsideEta_zvtx_8 at address 102669\n",
      "Info in <TFile::Recover>: trig_4_8_assoc_2_4_cent_0_20_mixcorr_hLambda.root, recovered key TH1D:mixedUSLsideEta_zvtx_8 at address 103197\n",
      "Info in <TFile::Recover>: trig_4_8_assoc_2_4_cent_0_20_mixcorr_hLambda.root, recovered key TH1D:sameLSLsideEta_zvtx_8 at address 103764\n",
      "Info in <TFile::Recover>: trig_4_8_assoc_2_4_cent_0_20_mixcorr_hLambda.root, recovered key TH1D:mixedLSLsideEta_zvtx_8 at address 104296\n",
      "Info in <TFile::Recover>: trig_4_8_assoc_2_4_cent_0_20_mixcorr_hLambda.root, recovered key TH1D:sameUSPeakEta_zvtx_9 at address 104863\n",
      "Info in <TFile::Recover>: trig_4_8_assoc_2_4_cent_0_20_mixcorr_hLambda.root, recovered key TH1D:mixedUSPeakEta_zvtx_9 at address 105386\n",
      "Info in <TFile::Recover>: trig_4_8_assoc_2_4_cent_0_20_mixcorr_hLambda.root, recovered key TH1D:sameLSPeakEta_zvtx_9 at address 105955\n",
      "Info in <TFile::Recover>: trig_4_8_assoc_2_4_cent_0_20_mixcorr_hLambda.root, recovered key TH1D:mixedLSPeakEta_zvtx_9 at address 106481\n",
      "Info in <TFile::Recover>: trig_4_8_assoc_2_4_cent_0_20_mixcorr_hLambda.root, recovered key TH1D:sameUSRsideEta_zvtx_9 at address 107050\n",
      "Info in <TFile::Recover>: trig_4_8_assoc_2_4_cent_0_20_mixcorr_hLambda.root, recovered key TH1D:mixedUSRsideEta_zvtx_9 at address 107576\n",
      "Info in <TFile::Recover>: trig_4_8_assoc_2_4_cent_0_20_mixcorr_hLambda.root, recovered key TH1D:sameLSRsideEta_zvtx_9 at address 108154\n",
      "Info in <TFile::Recover>: trig_4_8_assoc_2_4_cent_0_20_mixcorr_hLambda.root, recovered key TH1D:mixedLSRsideEta_zvtx_9 at address 108687\n",
      "Info in <TFile::Recover>: trig_4_8_assoc_2_4_cent_0_20_mixcorr_hLambda.root, recovered key TH1D:sameUSLsideEta_zvtx_9 at address 109265\n",
      "Info in <TFile::Recover>: trig_4_8_assoc_2_4_cent_0_20_mixcorr_hLambda.root, recovered key TH1D:mixedUSLsideEta_zvtx_9 at address 109773\n",
      "Info in <TFile::Recover>: trig_4_8_assoc_2_4_cent_0_20_mixcorr_hLambda.root, recovered key TH1D:sameLSLsideEta_zvtx_9 at address 110344\n",
      "Info in <TFile::Recover>: trig_4_8_assoc_2_4_cent_0_20_mixcorr_hLambda.root, recovered key TH1D:mixedLSLsideEta_zvtx_9 at address 110864\n",
      "Info in <TFile::Recover>: trig_4_8_assoc_2_4_cent_0_20_mixcorr_hLambda.root, recovered key TH2D:fTriggerDist_proj_3_0 at address 111434\n",
      "Info in <TFile::Recover>: trig_4_8_assoc_2_4_cent_0_20_mixcorr_hLambda.root, recovered key TH2D:fTriggerDist_proj_3_0 at address 112275\n",
      "Info in <TFile::Recover>: trig_4_8_assoc_2_4_cent_0_20_mixcorr_hLambda.root, recovered key TH2D:hh2D at address 113116\n",
      "Info in <TFile::Recover>: trig_4_8_assoc_2_4_cent_0_20_mixcorr_hLambda.root, recovered key TH1D:hhdphi at address 118568\n",
      "Info in <TFile::Recover>: trig_4_8_assoc_2_4_cent_0_20_mixcorr_hLambda.root, recovered key TH2D:uncorrhh2D at address 119219\n",
      "Warning in <TFile::Init>: successfully recovered 141 keys\n"
     ]
    }
   ],
   "source": [
    "canvas = rt.TCanvas()\n",
    "file = rt.TFile(\"trig_4_8_assoc_2_4_cent_0_20_mixcorr_hLambda.root\")\n",
    "new = file.Get(\"hLambdaLS2Dpeak\")"
   ]
  },
  {
   "cell_type": "code",
   "execution_count": 9,
   "metadata": {},
   "outputs": [],
   "source": [
    "new.GetXaxis().SetRangeUser(-1.2, 1.2)\n",
    "new_dphi = new.ProjectionY()\n",
    "new_dphi.SetTitle(\"h-#Lambda^{0} LS #Delta#varphi (peak region, acceptance corrected)\")\n",
    "new_dphi.SetLineColor(rt.kGreen + 2)"
   ]
  },
  {
   "cell_type": "code",
   "execution_count": 10,
   "metadata": {},
   "outputs": [
    {
     "data": {
      "image/png": "[encoded data removed]",
      "text/plain": [
       "<IPython.core.display.Image object>"
      ]
     },
     "metadata": {},
     "output_type": "display_data"
    }
   ],
   "source": [
    "new_dphi.Draw()\n",
    "canvas.Draw()"
   ]
  },
  {
   "cell_type": "code",
   "execution_count": null,
   "metadata": {},
   "outputs": [],
   "source": []
  }
 ],
 "metadata": {
  "kernelspec": {
   "display_name": "Python 3 (ipykernel)",
   "language": "python",
   "name": "python3"
  },
  "language_info": {
   "codemirror_mode": {
    "name": "ipython",
    "version": 3
   },
   "file_extension": ".py",
   "mimetype": "text/x-python",
   "name": "python",
   "nbconvert_exporter": "python",
   "pygments_lexer": "ipython3",
   "version": "3.6.9"
  }
 },
 "nbformat": 4,
 "nbformat_minor": 4
}
