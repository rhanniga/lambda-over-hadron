{
 "cells": [
  {
   "cell_type": "code",
   "execution_count": 13,
   "metadata": {},
   "outputs": [],
   "source": [
    "import math\n",
    "\n",
    "import array as arr\n",
    "import ROOT as rt\n",
    "\n",
    "rt.gStyle.SetOptStat(0)"
   ]
  },
  {
   "cell_type": "code",
   "execution_count": 25,
   "metadata": {},
   "outputs": [],
   "source": [
    "# divide two tgrapherrors and store result in a new tgrapherrors\n",
    "def divide_graphs(x, y):\n",
    "\n",
    "    # create a new tgrapherrors\n",
    "    gr = rt.TGraphErrors()\n",
    "\n",
    "    # loop over all points in the tgrapherrors\n",
    "    for i in range(0, x.GetN()):\n",
    "        # get the x and y values\n",
    "        x1 = x.GetX()[i]\n",
    "        y1 = x.GetY()[i]\n",
    "        x2 = y.GetX()[i]\n",
    "        y2 = y.GetY()[i]\n",
    "\n",
    "        # calculate the error\n",
    "        ex1 = x.GetErrorX(i)\n",
    "        ey1 = x.GetErrorY(i)\n",
    "        ex2 = y.GetErrorX(i)\n",
    "        ey2 = y.GetErrorY(i)\n",
    "\n",
    "        # calculate the result\n",
    "        if y2 != 0:\n",
    "            result = y1 / y2\n",
    "            err = result * math.sqrt((ey1 / y1)**2 + (ey2 / y2)**2)\n",
    "        else:\n",
    "            result = 0\n",
    "            err = 0\n",
    "\n",
    "        # add the result to the tgrapherrors\n",
    "        gr.SetPoint(i, x1, result)\n",
    "        gr.SetPointError(i, ex1, err)\n",
    "\n",
    "    return gr"
   ]
  },
  {
   "cell_type": "code",
   "execution_count": 26,
   "metadata": {},
   "outputs": [],
   "source": [
    "# adds all of the points on the graph together with errors\n",
    "def add_graphs(graph_list):\n",
    "    n_points = graph_list[0].GetN()\n",
    "\n",
    "    x = arr.array('d', [0.]*n_points)\n",
    "    y = arr.array('d', [0.]*n_points)\n",
    "    x_error = arr.array('d', [0.]*n_points)\n",
    "    y_error = arr.array('d', [0.]*n_points)\n",
    "\n",
    "    for graph in graph_list:\n",
    "        for i in range(n_points):\n",
    "            x[i] = graph.GetX()[i]\n",
    "            y[i] += graph.GetY()[i]\n",
    "            x_error[i] = graph.GetErrorX(i)\n",
    "            y_error[i] += graph.GetErrorY(i)**2\n",
    "    \n",
    "    for i in range(n_points):\n",
    "        y_error[i] = math.sqrt(y_error[i])\n",
    "    \n",
    "    return rt.TGraphErrors(n_points, x, y, x_error, y_error)"
   ]
  },
  {
   "cell_type": "code",
   "execution_count": 39,
   "metadata": {},
   "outputs": [],
   "source": [
    "# scales a TGraphErrors by a constant\n",
    "def scale_graph(graph, scale):\n",
    "    n_points = graph.GetN()\n",
    "    x = arr.array('d', [0.]*n_points)\n",
    "    y = arr.array('d', [0.]*n_points)\n",
    "    x_error = arr.array('d', [0.]*n_points)\n",
    "    y_error = arr.array('d', [0.]*n_points)\n",
    "\n",
    "    for i in range(n_points):\n",
    "        x[i] = graph.GetX()[i]\n",
    "        y[i] = graph.GetY()[i] * scale\n",
    "        x_error[i] = graph.GetErrorX(i)\n",
    "        y_error[i] = graph.GetErrorY(i) * scale\n",
    "\n",
    "    return rt.TGraphErrors(n_points, x, y, x_error, y_error)"
   ]
  },
  {
   "cell_type": "code",
   "execution_count": 67,
   "metadata": {},
   "outputs": [
    {
     "name": "stdout",
     "output_type": "stream",
     "text": [
      "approximate lambda/phi ratio 2-4:  3.0892386230291327  +/-  0.10531065643266128\n"
     ]
    }
   ],
   "source": [
    "# get lambda pt input file\n",
    "lambda_file = rt.TFile(\"published_data/lambda_pt_cent_0_40.root\")\n",
    "\n",
    "phi_file_0_5 = rt.TFile(\"published_data/phi_pt_cent_0_5.root\")\n",
    "phi_file_5_10 = rt.TFile(\"published_data/phi_pt_cent_5_10.root\")\n",
    "phi_file_10_20 = rt.TFile(\"published_data/phi_pt_cent_10_20.root\")\n",
    "\n",
    "lambda_cent_file = rt.TFile(\"published_data/lambda_pt_integrated.root\")\n",
    "phi_cent_file = rt.TFile(\"published_data/phi_pt_integrated.root\")\n",
    "\n",
    "bin_widths = []\n",
    "tmp_hist = lambda_file.Get(\"Table 9\").Get(\"Hist1D_y1\") \n",
    "n_bins = tmp_hist.GetNbinsX()\n",
    "for i in range(n_bins):\n",
    "    bin_widths.append(tmp_hist.GetBinLowEdge(i+1))\n",
    "bin_widths.append(tmp_hist.GetBinLowEdge(tmp_hist.GetNbinsX())+tmp_hist.GetBinWidth(tmp_hist.GetNbinsX()))\n",
    "bin_widths = arr.array('d', bin_widths)\n",
    "\n",
    "cent_bin_widths = []\n",
    "tmp_hist = lambda_cent_file.Get(\"Table 27\").Get(\"Hist1D_y1\") \n",
    "n_bins_cent = tmp_hist.GetNbinsX()\n",
    "for i in range(n_bins_cent):\n",
    "    cent_bin_widths.append(tmp_hist.GetBinLowEdge(i+1))\n",
    "cent_bin_widths.append(tmp_hist.GetBinLowEdge(tmp_hist.GetNbinsX())+tmp_hist.GetBinWidth(tmp_hist.GetNbinsX()))\n",
    "cent_bin_widths = arr.array('d', cent_bin_widths)\n",
    "\n",
    "\n",
    "\n",
    "\n",
    "# make a histogram with the same binning as tmp_hist\n",
    "\n",
    "lambda_pt_graph_cent_0_5 = lambda_file.Get(\"Table 9\").Get(\"Graph1D_y1\")\n",
    "lambda_pt_graph_cent_5_10 = lambda_file.Get(\"Table 9\").Get(\"Graph1D_y2\")\n",
    "lambda_pt_graph_cent_10_20 = lambda_file.Get(\"Table 9\").Get(\"Graph1D_y3\")\n",
    "lambda_pt_integrated = lambda_cent_file.Get(\"Table 27\").Get(\"Graph1D_y1\")\n",
    "\n",
    "phi_pt_graph_cent_0_5 = phi_file_0_5.Get(\"Table 9\").Get(\"Graph1D_y1\")\n",
    "phi_pt_graph_cent_5_10 = phi_file_5_10.Get(\"Table 10\").Get(\"Graph1D_y1\")\n",
    "phi_pt_graph_cent_10_20 = phi_file_10_20.Get(\"Table 11\").Get(\"Graph1D_y1\")\n",
    "phi_pt_integrated = phi_cent_file.Get(\"Table 18\").Get(\"Graph1D_y1\")\n",
    "\n",
    "lambda_pt_graph_cent_0_20 = add_graphs([lambda_pt_graph_cent_0_5, lambda_pt_graph_cent_5_10, lambda_pt_graph_cent_10_20])\n",
    "phi_pt_graph_cent_0_20 = add_graphs([phi_pt_graph_cent_0_5, phi_pt_graph_cent_5_10, phi_pt_graph_cent_10_20])\n",
    "\n",
    "# scale lambda results by 2pi\n",
    "lambda_pt_graph_cent_0_20 = scale_graph(lambda_pt_graph_cent_0_20, 2*rt.TMath.Pi())\n",
    "\n",
    "lambda_approximate_2_4_yield = 0\n",
    "phi_approximate_2_4_yield = 0\n",
    "\n",
    "lambda_approximate_2_4_yield_error = 0\n",
    "phi_approximate_2_4_yield_error = 0\n",
    "\n",
    "for i in range(lambda_pt_graph_cent_0_20.GetN()):\n",
    "    if 1.89 < lambda_pt_graph_cent_0_20.GetX()[i] < 3.96:\n",
    "        lambda_approximate_2_4_yield += lambda_pt_graph_cent_0_20.GetY()[i]\n",
    "        lambda_approximate_2_4_yield_error += lambda_pt_graph_cent_0_20.GetErrorY(i)**2\n",
    "    if 1.89 < phi_pt_graph_cent_0_20.GetX()[i] < 3.96:\n",
    "        phi_approximate_2_4_yield += phi_pt_graph_cent_0_20.GetY()[i]\n",
    "        phi_approximate_2_4_yield_error += phi_pt_graph_cent_0_20.GetErrorY(i)**2\n",
    "\n",
    "lambda_approximate_2_4_yield_error = rt.TMath.Sqrt(lambda_approximate_2_4_yield_error)\n",
    "phi_approximate_2_4_yield_error = rt.TMath.Sqrt(phi_approximate_2_4_yield_error)\n",
    "\n",
    "approximate_lambda_phi_ratio_2_4 = lambda_approximate_2_4_yield / phi_approximate_2_4_yield\n",
    "\n",
    "approximate_lambda_phi_ratio_2_4_error = approximate_lambda_phi_ratio_2_4 * rt.TMath.Sqrt((lambda_approximate_2_4_yield_error/lambda_approximate_2_4_yield)**2 + (phi_approximate_2_4_yield_error/phi_approximate_2_4_yield)**2)\n",
    "print(\"approximate lambda/phi ratio 2-4: \", approximate_lambda_phi_ratio_2_4, \" +/- \", approximate_lambda_phi_ratio_2_4_error)\n",
    "\n",
    "\n",
    "# lambda_over_phi_graph_cent_0_20 = divide_graphs(lambda_pt_graph_cent_0_20, phi_pt_graph_cent_0_20)\n",
    "# lambda_over_phi_pt_integrated = divide_graphs(lambda_pt_integrated, phi_pt_integrated)"
   ]
  },
  {
   "cell_type": "code",
   "execution_count": 83,
   "metadata": {},
   "outputs": [
    {
     "name": "stderr",
     "output_type": "stream",
     "text": [
      "Warning in <TCanvas::Constructor>: Deleting canvas with same name: c\n",
      "Warning in <TFile::Append>: Replacing existing TH1: plotting_hist (Potential memory leak).\n",
      "Info in <TCanvas::Print>: pdf file figures/lambda_phi_pt_cent_0_20.pdf has been created\n"
     ]
    },
    {
     "data": {
      "image/png": "[encoded data removed]",
      "text/plain": [
       "<IPython.core.display.Image object>"
      ]
     },
     "metadata": {},
     "output_type": "display_data"
    }
   ],
   "source": [
    "c = rt.TCanvas(\"c\", \"c\", 800, 600)\n",
    "c.SetLeftMargin(0.12)\n",
    "c.SetBottomMargin(0.10)\n",
    "c.SetRightMargin(0.05)\n",
    "c.SetTopMargin(0.05)\n",
    "\n",
    "plotting_hist = rt.TH1D(\"plotting_hist\", \"\", n_bins, bin_widths)\n",
    "\n",
    "plotting_hist.GetYaxis().SetTitle(\"#frac{d^{2}N}{d#it{p}_{T}d#it{#eta}} (GeV/#it{c})^{-1}\")\n",
    "plotting_hist.GetYaxis().SetTitleOffset(1.4)\n",
    "plotting_hist.GetXaxis().SetTitle(\"#it{p}_{T} (GeV/#it{c})\")\n",
    "plotting_hist.GetXaxis().SetRangeUser(1.5, 4.2)\n",
    "\n",
    "lambda_pt_graph_cent_0_20.SetMarkerStyle(43)\n",
    "lambda_pt_graph_cent_0_20.SetMarkerSize(2)\n",
    "lambda_pt_graph_cent_0_20.SetMarkerColor(rt.kPink - 6)\n",
    "lambda_pt_graph_cent_0_20.SetLineColor(rt.kPink - 6)\n",
    "lambda_pt_graph_cent_0_20.SetLineWidth(2)\n",
    "\n",
    "phi_pt_graph_cent_0_20.SetMarkerStyle(43)\n",
    "phi_pt_graph_cent_0_20.SetMarkerSize(2)\n",
    "phi_pt_graph_cent_0_20.SetMarkerColor(rt.kAzure - 6)\n",
    "phi_pt_graph_cent_0_20.SetLineColor(rt.kAzure - 6)\n",
    "phi_pt_graph_cent_0_20.SetLineWidth(2)\n",
    "\n",
    "leg = rt.TLegend(0.63, 0.63, 0.83, 0.83)\n",
    "leg.AddEntry(lambda_pt_graph_cent_0_20, \"#Lambda + #bar{#Lambda}\", \"LPE\")\n",
    "leg.AddEntry(phi_pt_graph_cent_0_20, \"#phi(1020)\", \"LPE\")\n",
    "leg.SetBorderSize(0)\n",
    "\n",
    "\n",
    "plotting_hist.GetYaxis().SetRangeUser(0, 1.3)\n",
    "plotting_hist.Draw()\n",
    "lambda_pt_graph_cent_0_20.Draw(\"LP SAME\")\n",
    "phi_pt_graph_cent_0_20.Draw(\"LP SAME\")\n",
    "leg.Draw(\"same\")\n",
    "c.Draw()\n",
    "c.SaveAs(\"figures/lambda_phi_pt_cent_0_20.pdf\")\n"
   ]
  },
  {
   "cell_type": "code",
   "execution_count": 57,
   "metadata": {},
   "outputs": [
    {
     "name": "stderr",
     "output_type": "stream",
     "text": [
      "Warning in <TCanvas::Constructor>: Deleting canvas with same name: c2\n",
      "Warning in <TFile::Append>: Replacing existing TH1: plotting_hist2 (Potential memory leak).\n"
     ]
    },
    {
     "data": {
      "image/png": "[encoded data removed]",
      "text/plain": [
       "<IPython.core.display.Image object>"
      ]
     },
     "metadata": {},
     "output_type": "display_data"
    }
   ],
   "source": [
    "c2 = rt.TCanvas(\"c2\", \"c2\", 800, 600)\n",
    "plotting_hist2 = rt.TH1D(\"plotting_hist2\", \"\", n_bins_cent, cent_bin_widths)\n",
    "\n",
    "plotting_hist2.GetXaxis().SetTitle(\"Multiplicity Percentile\")\n",
    "plotting_hist2.GetYaxis().SetTitleSize(0.03)\n",
    "plotting_hist2.GetYaxis().SetTitle(\"#frac{#Lambda + #bar{#Lambda}}{#phi(1020)}\")\n",
    "\n",
    "lambda_over_phi_pt_integrated.SetMarkerStyle(43)\n",
    "lambda_over_phi_pt_integrated.SetMarkerSize(2)\n",
    "lambda_over_phi_pt_integrated.SetMarkerColor(rt.kMagenta - 6)\n",
    "lambda_over_phi_pt_integrated.SetLineColor(rt.kMagenta - 6)\n",
    "lambda_over_phi_pt_integrated.SetLineWidth(2)\n",
    "\n",
    "leg = rt.TLegend(0.6, 0.6, 0.85, 0.85)\n",
    "leg.AddEntry(lambda_over_phi_pt_integrated, \"Calc. from pub.\", \"LPE\")\n",
    "leg.SetBorderSize(0)\n",
    "\n",
    "\n",
    "plotting_hist2.GetYaxis().SetRangeUser(0.6, 10)\n",
    "plotting_hist2.Draw()\n",
    "lambda_over_phi_pt_integrated.Draw(\"PE\")\n",
    "leg.Draw(\"same\")\n",
    "c2.Draw()"
   ]
  },
  {
   "cell_type": "code",
   "execution_count": null,
   "metadata": {},
   "outputs": [],
   "source": []
  }
 ],
 "metadata": {
  "kernelspec": {
   "display_name": "Python 3",
   "language": "python",
   "name": "python3"
  },
  "language_info": {
   "codemirror_mode": {
    "name": "ipython",
    "version": 3
   },
   "file_extension": ".py",
   "mimetype": "text/x-python",
   "name": "python",
   "nbconvert_exporter": "python",
   "pygments_lexer": "ipython3",
   "version": "3.9.2"
  },
  "orig_nbformat": 4,
  "vscode": {
   "interpreter": {
    "hash": "31f2aee4e71d21fbe5cf8b01ff0e069b9275f58929596ceb00d14d90e3e16cd6"
   }
  }
 },
 "nbformat": 4,
 "nbformat_minor": 2
}
