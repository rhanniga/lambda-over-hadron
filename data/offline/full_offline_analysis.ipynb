{
 "cells": [
  {
   "cell_type": "code",
   "execution_count": 1,
   "id": "f478ea54",
   "metadata": {},
   "outputs": [
    {
     "name": "stdout",
     "output_type": "stream",
     "text": [
      "Welcome to JupyROOT 6.24/06\n"
     ]
    }
   ],
   "source": [
    "import ROOT as rt\n",
    "\n",
    "import array as arr\n",
    "import math\n",
    "\n",
    "from strangehelper import get_parabola, make_mixed_corrections"
   ]
  },
  {
   "cell_type": "code",
   "execution_count": 2,
   "id": "3746e896",
   "metadata": {},
   "outputs": [],
   "source": [
    "rt.gStyle.SetOptStat(0)"
   ]
  },
  {
   "cell_type": "code",
   "execution_count": 3,
   "id": "1f067d30",
   "metadata": {},
   "outputs": [],
   "source": [
    "# epsilon used to avoid bin edge nightmares (if you pick a value that lies on bin edge, it defaults to right bin)\n",
    "EPSILON = 0.00001"
   ]
  },
  {
   "cell_type": "code",
   "execution_count": 4,
   "id": "14e083eb",
   "metadata": {},
   "outputs": [],
   "source": [
    "# decide whether to do sideband subtraction or not\n",
    "DO_SIDEBAND_SUBTRACTION = True"
   ]
  },
  {
   "cell_type": "code",
   "execution_count": 5,
   "id": "5d567387",
   "metadata": {},
   "outputs": [],
   "source": [
    "# UE line method\n",
    "USE_AVG = 1\n",
    "USE_ZYAM = 0\n",
    "USE_NONEG = 0\n",
    "assert sum([USE_AVG, USE_ZYAM, USE_NONEG]) == 1, \"Only select 1 method for UE line please\""
   ]
  },
  {
   "cell_type": "code",
   "execution_count": 6,
   "id": "df4c3ce8",
   "metadata": {},
   "outputs": [],
   "source": [
    "# ETA CUTS \n",
    "ETA_MIN = -0.8\n",
    "ETA_MAX = 0.8 - EPSILON\n",
    "DELTA_ETA_MIN = -1.4\n",
    "DELTA_ETA_MAX = 1.4 - EPSILON"
   ]
  },
  {
   "cell_type": "code",
   "execution_count": 7,
   "id": "cacd7605",
   "metadata": {},
   "outputs": [],
   "source": [
    "# PT CUTS\n",
    "TRIG_PT_LOW = 4\n",
    "TRIG_PT_HIGH = 8 - EPSILON\n",
    "ASSOC_PT_LOW = 2 \n",
    "ASSOC_PT_HIGH = 4 - EPSILON"
   ]
  },
  {
   "cell_type": "code",
   "execution_count": 137,
   "id": "8c428e80",
   "metadata": {},
   "outputs": [],
   "source": [
    "# SIGNAL AND SIDEBAND REGION CUTS\n",
    "SIG_MIN = 1.10 \n",
    "SIG_MAX = 1.14 - EPSILON\n",
    "RSB_MIN = 1.18\n",
    "RSB_MAX = 1.22 - EPSILON"
   ]
  },
  {
   "cell_type": "code",
   "execution_count": 138,
   "id": "bb249123",
   "metadata": {},
   "outputs": [
    {
     "name": "stderr",
     "output_type": "stream",
     "text": [
      "Warning in <TCanvas::Constructor>: Deleting canvas with same name: main_canvas\n"
     ]
    }
   ],
   "source": [
    "c = rt.TCanvas(\"main_canvas\", \"Main Canvas\", 55, 55, 800, 600)\n",
    "c.SetRightMargin(0.05)\n",
    "c.SetLeftMargin(0.15)\n",
    "c.SetTopMargin(0.05)"
   ]
  },
  {
   "cell_type": "markdown",
   "id": "b65cc846",
   "metadata": {},
   "source": [
    "# 0-20 setup"
   ]
  },
  {
   "cell_type": "code",
   "execution_count": 139,
   "id": "7e7bd0a3",
   "metadata": {},
   "outputs": [],
   "source": [
    "input_file_0_20 = rt.TFile(\"../online/res/res_correct_eff_cent_0_20.root\")\n",
    "input_list_0_20 = input_file_0_20.Get(\"h-lambda\")\n",
    "input_file_0_20.Close()"
   ]
  },
  {
   "cell_type": "code",
   "execution_count": 140,
   "id": "2a3f31a9",
   "metadata": {},
   "outputs": [],
   "source": [
    "trig_dist_0_20 = input_list_0_20.FindObject(\"fTriggerDist\")\n",
    "lambda_dist_0_20 = input_list_0_20.FindObject(\"fTriggeredLambdaDist\")\n",
    "lambda_ls_dist_0_20 = input_list_0_20.FindObject(\"fTriggeredLambdaLSDist\")"
   ]
  },
  {
   "cell_type": "code",
   "execution_count": 141,
   "id": "78f0d658",
   "metadata": {},
   "outputs": [],
   "source": [
    "trig_dist_0_20_highest_pt = input_list_0_20.FindObject(\"fTriggerDist_highestPt\")"
   ]
  },
  {
   "cell_type": "code",
   "execution_count": 142,
   "id": "353c3dfb",
   "metadata": {},
   "outputs": [],
   "source": [
    "h_h_0_20 = input_list_0_20.FindObject(\"fDphiHH\")\n",
    "h_h_mixed_0_20 = input_list_0_20.FindObject(\"fDphiHHMixed\")"
   ]
  },
  {
   "cell_type": "code",
   "execution_count": 143,
   "id": "612352e0",
   "metadata": {},
   "outputs": [],
   "source": [
    "h_h_0_20_highest_pt = input_list_0_20.FindObject(\"fDphiHH_highestPt\")\n",
    "h_h_mixed_0_20_highest_pt = input_list_0_20.FindObject(\"fDphiHHMixed_highestPt\")"
   ]
  },
  {
   "cell_type": "code",
   "execution_count": 144,
   "id": "d22dccdc",
   "metadata": {},
   "outputs": [],
   "source": [
    "h_lambda_0_20 = input_list_0_20.FindObject(\"fDphiHLambda\")\n",
    "h_lambda_mixed_0_20 = input_list_0_20.FindObject(\"fDphiHLambdaMixed\")"
   ]
  },
  {
   "cell_type": "code",
   "execution_count": 145,
   "id": "04faba35",
   "metadata": {},
   "outputs": [],
   "source": [
    "h_lambda_mixed_0_20_highest_pt = input_list_0_20.FindObject(\"fDphiHLambdaMixed_highestPt\")\n",
    "h_lambda_0_20_highest_pt = input_list_0_20.FindObject(\"fDphiHLambda_highestPt\")"
   ]
  },
  {
   "cell_type": "code",
   "execution_count": 146,
   "id": "70a13902",
   "metadata": {},
   "outputs": [],
   "source": [
    "# Setting the trigger Pt (this is never changed again)\n",
    "trig_dist_0_20.GetAxis(0).SetRangeUser(TRIG_PT_LOW, TRIG_PT_HIGH)\n",
    "trig_dist_0_20_highest_pt.GetAxis(0).SetRangeUser(TRIG_PT_LOW, TRIG_PT_HIGH)\n",
    "h_h_0_20.GetAxis(0).SetRangeUser(TRIG_PT_LOW, TRIG_PT_HIGH)\n",
    "h_h_0_20_highest_pt.GetAxis(0).SetRangeUser(TRIG_PT_LOW, TRIG_PT_HIGH)\n",
    "h_h_mixed_0_20.GetAxis(0).SetRangeUser(TRIG_PT_LOW, TRIG_PT_HIGH)\n",
    "h_h_mixed_0_20_highest_pt.GetAxis(0).SetRangeUser(TRIG_PT_LOW, TRIG_PT_HIGH)\n",
    "h_lambda_0_20.GetAxis(0).SetRangeUser(TRIG_PT_LOW, TRIG_PT_HIGH)\n",
    "h_lambda_0_20_highest_pt.GetAxis(0).SetRangeUser(TRIG_PT_LOW, TRIG_PT_HIGH)\n",
    "h_lambda_mixed_0_20.GetAxis(0).SetRangeUser(TRIG_PT_LOW, TRIG_PT_HIGH)\n",
    "h_lambda_mixed_0_20_highest_pt.GetAxis(0).SetRangeUser(TRIG_PT_LOW, TRIG_PT_HIGH)"
   ]
  },
  {
   "cell_type": "code",
   "execution_count": 147,
   "id": "c58f0866",
   "metadata": {},
   "outputs": [],
   "source": [
    "# Setting the associated Pt (this is never changed again)\n",
    "lambda_dist_0_20.GetAxis(0).SetRangeUser(ASSOC_PT_LOW, ASSOC_PT_HIGH)\n",
    "lambda_ls_dist_0_20.GetAxis(0).SetRangeUser(ASSOC_PT_LOW, ASSOC_PT_HIGH)\n",
    "h_h_0_20.GetAxis(1).SetRangeUser(ASSOC_PT_LOW, ASSOC_PT_HIGH)\n",
    "h_h_0_20_highest_pt.GetAxis(1).SetRangeUser(ASSOC_PT_LOW, ASSOC_PT_HIGH)\n",
    "h_h_mixed_0_20_highest_pt.GetAxis(1).SetRangeUser(ASSOC_PT_LOW, ASSOC_PT_HIGH)\n",
    "h_lambda_0_20.GetAxis(1).SetRangeUser(ASSOC_PT_LOW, ASSOC_PT_HIGH)\n",
    "h_lambda_0_20_highest_pt.GetAxis(1).SetRangeUser(ASSOC_PT_LOW, ASSOC_PT_HIGH)\n",
    "h_lambda_mixed_0_20.GetAxis(1).SetRangeUser(ASSOC_PT_LOW, ASSOC_PT_HIGH)\n",
    "h_lambda_mixed_0_20_highest_pt.GetAxis(1).SetRangeUser(ASSOC_PT_LOW, ASSOC_PT_HIGH)"
   ]
  },
  {
   "cell_type": "code",
   "execution_count": 148,
   "id": "eac13c71",
   "metadata": {},
   "outputs": [],
   "source": [
    "# Setting the eta cuts for single particle dists\n",
    "trig_dist_0_20.GetAxis(2).SetRangeUser(ETA_MIN, ETA_MAX)\n",
    "trig_dist_0_20_highest_pt.GetAxis(2).SetRangeUser(ETA_MIN, ETA_MAX)\n",
    "lambda_dist_0_20.GetAxis(2).SetRangeUser(ETA_MIN, ETA_MAX)\n",
    "lambda_ls_dist_0_20.GetAxis(2).SetRangeUser(ETA_MIN, ETA_MAX)"
   ]
  },
  {
   "cell_type": "code",
   "execution_count": 149,
   "id": "c0512b57",
   "metadata": {},
   "outputs": [
    {
     "name": "stderr",
     "output_type": "stream",
     "text": [
      "Warning in <TROOT::Append>: Replacing existing TH1: fTriggerDist_proj_0 (Potential memory leak).\n",
      "Warning in <TROOT::Append>: Replacing existing TH1: fTriggerDist_proj_1 (Potential memory leak).\n",
      "Warning in <TROOT::Append>: Replacing existing TH1: fTriggerDist_proj_2 (Potential memory leak).\n",
      "Warning in <TROOT::Append>: Replacing existing TH1: fTriggerDist_proj_3_0 (Potential memory leak).\n",
      "Warning in <TH1D::Sumw2>: Sum of squares of weights structure already created\n",
      "Warning in <TH1D::Sumw2>: Sum of squares of weights structure already created\n",
      "Warning in <TH1D::Sumw2>: Sum of squares of weights structure already created\n"
     ]
    }
   ],
   "source": [
    "trig_pt_dist_0_20 = trig_dist_0_20.Projection(0).Clone(\"trig_pt_dist_0_20\")\n",
    "trig_phi_dist_0_20 = trig_dist_0_20.Projection(1).Clone(\"trig_phi_dist_0_20\")\n",
    "trig_eta_dist_0_20 = trig_dist_0_20.Projection(2).Clone(\"trig_eta_dist_0_20\")\n",
    "trig_2d_dist_0_20 = trig_dist_0_20.Projection(0, 3).Clone(\"trig_2d_dist_0_20\")\n",
    "\n",
    "trig_pt_dist_0_20.SetTitle(\"Trigger #font[12]{p}_{T} Distribution (red: all, blue: highest)\")\n",
    "trig_pt_dist_0_20.Sumw2()\n",
    "trig_pt_dist_0_20.SetLineColor(rt.kRed)\n",
    "\n",
    "trig_phi_dist_0_20.SetTitle(\"Trigger #varphi Distribution (Hybrid GCG)\")\n",
    "trig_phi_dist_0_20.Sumw2()\n",
    "trig_phi_dist_0_20.SetLineColor(rt.kRed)\n",
    "\n",
    "trig_eta_dist_0_20.SetTitle(\"Trigger #eta Distribution (Hybrid GCG)\")\n",
    "trig_eta_dist_0_20.Sumw2()\n",
    "trig_eta_dist_0_20.SetLineColor(rt.kRed)"
   ]
  },
  {
   "cell_type": "code",
   "execution_count": 150,
   "id": "42f1de32",
   "metadata": {},
   "outputs": [
    {
     "name": "stderr",
     "output_type": "stream",
     "text": [
      "Warning in <TROOT::Append>: Replacing existing TH1: fTriggerDist_highestPt_proj_0 (Potential memory leak).\n",
      "Warning in <TROOT::Append>: Replacing existing TH1: fTriggerDist_highestPt_proj_1 (Potential memory leak).\n",
      "Warning in <TROOT::Append>: Replacing existing TH1: fTriggerDist_highestPt_proj_2 (Potential memory leak).\n",
      "Warning in <TROOT::Append>: Replacing existing TH1: fTriggerDist_highestPt_proj_3_0 (Potential memory leak).\n",
      "Warning in <TH1D::Sumw2>: Sum of squares of weights structure already created\n",
      "Warning in <TH1D::Sumw2>: Sum of squares of weights structure already created\n",
      "Warning in <TH1D::Sumw2>: Sum of squares of weights structure already created\n"
     ]
    }
   ],
   "source": [
    "trig_pt_dist_0_20_highest_pt = trig_dist_0_20_highest_pt.Projection(0).Clone(\"trig_pt_dist_0_20_highest_pt\")\n",
    "trig_phi_dist_0_20_highest_pt = trig_dist_0_20_highest_pt.Projection(1).Clone(\"trig_phi_dist_0_20_highest_pt\")\n",
    "trig_eta_dist_0_20_highest_pt = trig_dist_0_20_highest_pt.Projection(2).Clone(\"trig_eta_dist_0_20_highest_pt\")\n",
    "trig_2d_dist_0_20_highest_pt = trig_dist_0_20_highest_pt.Projection(0, 3).Clone(\"trig_2d_dist_0_20_highest_pt\")\n",
    "\n",
    "trig_pt_dist_0_20_highest_pt.SetTitle(\"Trigger #font[12]{p}_{T} Distribution (red: all, blue: highest)\")\n",
    "trig_pt_dist_0_20_highest_pt.Sumw2()\n",
    "trig_pt_dist_0_20_highest_pt.SetLineColor(rt.kRed)\n",
    "\n",
    "trig_phi_dist_0_20_highest_pt.SetTitle(\"Trigger #varphi Distribution (Hybrid GCG)\")\n",
    "trig_phi_dist_0_20_highest_pt.Sumw2()\n",
    "trig_phi_dist_0_20_highest_pt.SetLineColor(rt.kRed)\n",
    "\n",
    "trig_eta_dist_0_20_highest_pt.SetTitle(\"Trigger #eta Distribution (Hybrid GCG)\")\n",
    "trig_eta_dist_0_20_highest_pt.Sumw2()\n",
    "trig_eta_dist_0_20_highest_pt.SetLineColor(rt.kRed)"
   ]
  },
  {
   "cell_type": "code",
   "execution_count": 151,
   "id": "8cf83d2e",
   "metadata": {},
   "outputs": [],
   "source": [
    "num_trigs_0_20 = trig_2d_dist_0_20.Integral()\n",
    "num_trigs_0_20_highest_pt = trig_2d_dist_0_20_highest_pt.Integral()"
   ]
  },
  {
   "cell_type": "code",
   "execution_count": 152,
   "id": "669342b8",
   "metadata": {},
   "outputs": [
    {
     "data": {
      "image/png": "[encoded data removed]",
      "text/plain": [
       "<IPython.core.display.Image object>"
      ]
     },
     "metadata": {},
     "output_type": "display_data"
    }
   ],
   "source": [
    "trig_pt_dist_0_20.Draw()\n",
    "trig_pt_dist_0_20_highest_pt.SetLineColor(rt.kBlue)\n",
    "trig_pt_dist_0_20_highest_pt.Draw(\"SAME\")\n",
    "c.Draw()"
   ]
  },
  {
   "cell_type": "code",
   "execution_count": 153,
   "id": "2620b0a0",
   "metadata": {},
   "outputs": [],
   "source": [
    "trig_pt_dist_0_20.Scale(1/num_trigs_0_20)\n",
    "trig_pt_dist_0_20_highest_pt.Scale(1/num_trigs_0_20_highest_pt)"
   ]
  },
  {
   "cell_type": "code",
   "execution_count": 154,
   "id": "ba466ce2",
   "metadata": {},
   "outputs": [
    {
     "data": {
      "image/png": "[encoded data removed]",
      "text/plain": [
       "<IPython.core.display.Image object>"
      ]
     },
     "metadata": {},
     "output_type": "display_data"
    }
   ],
   "source": [
    "trig_pt_dist_0_20.SetTitle(\"Trigger p_{T} distribution (red: all, blue:highest, normalized)\")\n",
    "trig_pt_dist_0_20.Draw()\n",
    "trig_pt_dist_0_20_highest_pt.SetLineColor(rt.kBlue)\n",
    "trig_pt_dist_0_20_highest_pt.Draw(\"SAME\")\n",
    "c.Draw()"
   ]
  },
  {
   "cell_type": "code",
   "execution_count": 155,
   "id": "99695098",
   "metadata": {},
   "outputs": [
    {
     "data": {
      "image/png": "[encoded data removed]",
      "text/plain": [
       "<IPython.core.display.Image object>"
      ]
     },
     "metadata": {},
     "output_type": "display_data"
    }
   ],
   "source": [
    "trig_eta_dist_0_20.Draw()\n",
    "c.Draw()"
   ]
  },
  {
   "cell_type": "code",
   "execution_count": 156,
   "id": "0c1f5c26",
   "metadata": {},
   "outputs": [
    {
     "data": {
      "image/png": "[encoded data removed]",
      "text/plain": [
       "<IPython.core.display.Image object>"
      ]
     },
     "metadata": {},
     "output_type": "display_data"
    }
   ],
   "source": [
    "trig_phi_dist_0_20.Draw()\n",
    "c.Draw()"
   ]
  },
  {
   "cell_type": "markdown",
   "id": "21f48125",
   "metadata": {},
   "source": [
    "### Signal analysis section"
   ]
  },
  {
   "cell_type": "code",
   "execution_count": 157,
   "id": "342393a3",
   "metadata": {},
   "outputs": [
    {
     "name": "stderr",
     "output_type": "stream",
     "text": [
      "Warning in <TROOT::Append>: Replacing existing TH1: fTriggeredLambdaDist_proj_3 (Potential memory leak).\n",
      "Warning in <TROOT::Append>: Replacing existing TH1: fTriggeredLambdaLSDist_proj_3 (Potential memory leak).\n"
     ]
    }
   ],
   "source": [
    "lambda_mass_dist_0_20 = lambda_dist_0_20.Projection(3).Clone(\"lambda_mass_dist_0_20\")\n",
    "lambda_mass_ls_dist_0_20 = lambda_ls_dist_0_20.Projection(3).Clone(\"lambda_mass_ls_dist_0_20\")"
   ]
  },
  {
   "cell_type": "code",
   "execution_count": 158,
   "id": "8b1031fd",
   "metadata": {},
   "outputs": [],
   "source": [
    "# scale LS to match lambda dist in RSB\n",
    "left_bin = lambda_mass_dist_0_20.FindBin(RSB_MIN)\n",
    "right_bin = lambda_mass_dist_0_20.FindBin(RSB_MAX)\n",
    "lambda_mass_ls_dist_0_20.Scale(lambda_mass_dist_0_20.Integral(left_bin, right_bin)/lambda_mass_ls_dist_0_20.Integral(left_bin, right_bin))"
   ]
  },
  {
   "cell_type": "code",
   "execution_count": 159,
   "id": "576987ed",
   "metadata": {},
   "outputs": [
    {
     "name": "stderr",
     "output_type": "stream",
     "text": [
      "Warning in <TH1D::Sumw2>: Sum of squares of weights structure already created\n"
     ]
    }
   ],
   "source": [
    "lambda_mass_dist_0_20.SetTitle(\"\")\n",
    "lambda_mass_dist_0_20.Sumw2()\n",
    "lambda_mass_dist_0_20.SetLineWidth(2)\n",
    "lambda_mass_dist_0_20.SetLineColor(rt.kBlack)\n",
    "lambda_mass_dist_0_20.SetMarkerStyle(20)\n",
    "lambda_mass_dist_0_20.SetMarkerSize(0.5)\n",
    "lambda_mass_dist_0_20.SetMarkerColor(rt.kBlack)\n",
    "lambda_mass_dist_0_20.GetXaxis().SetTitle(\"M_{p#pi} (GeV/c^{2})\")\n",
    "lambda_mass_dist_0_20.GetYaxis().SetTitle(\"Counts/[10 MeV/c^{2}]\")"
   ]
  },
  {
   "cell_type": "code",
   "execution_count": 160,
   "id": "9125d5f8",
   "metadata": {},
   "outputs": [],
   "source": [
    "lambda_mass_ls_dist_0_20.SetLineWidth(2)\n",
    "lambda_mass_ls_dist_0_20.SetLineColor(rt.kViolet - 6)\n",
    "lambda_mass_ls_dist_0_20.SetMarkerStyle(20)\n",
    "lambda_mass_ls_dist_0_20.SetMarkerSize(0.5)\n",
    "lambda_mass_ls_dist_0_20.SetMarkerColor(rt.kViolet - 6)"
   ]
  },
  {
   "cell_type": "code",
   "execution_count": 161,
   "id": "f8d8efd7",
   "metadata": {},
   "outputs": [],
   "source": [
    "residual_0_20 = lambda_mass_dist_0_20.Clone(\"residual_0_20\")\n",
    "residual_0_20.Add(lambda_mass_ls_dist_0_20, -1)\n",
    "\n",
    "residual_0_20.SetLineWidth(2)\n",
    "residual_0_20.SetLineColor(rt.kGreen + 2)\n",
    "residual_0_20.SetMarkerStyle(20)\n",
    "residual_0_20.SetMarkerSize(0.5)\n",
    "residual_0_20.SetMarkerColor(rt.kGreen + 2)"
   ]
  },
  {
   "cell_type": "code",
   "execution_count": 162,
   "id": "77d08a80",
   "metadata": {},
   "outputs": [
    {
     "name": "stderr",
     "output_type": "stream",
     "text": [
      "Warning in <TROOT::Append>: Replacing existing TH1: RSB_region_test (Potential memory leak).\n"
     ]
    }
   ],
   "source": [
    "RSB_region_test = rt.TH1D(\"RSB_region_test\", \"\", 100, RSB_MIN, RSB_MAX)\n",
    "RSB_region_test.SetMarkerStyle(21)\n",
    "RSB_region_test.SetMarkerSize(3)\n",
    "RSB_region_test.SetMarkerColor(rt.kRed)\n",
    "RSB_region_test.SetLineColor(rt.kRed)\n",
    "RSB_region_test.SetFillColor(rt.kRed)\n",
    "RSB_region_test.SetFillStyle(3001)\n",
    "\n",
    "\n",
    "RSB_region = rt.TBox(RSB_MIN, 0, RSB_MAX, lambda_mass_dist_0_20.GetMaximum()*1.055)\n",
    "RSB_region.SetLineColor(rt.kRed)\n",
    "RSB_region.SetFillColor(rt.kRed)\n",
    "RSB_region.SetFillStyle(3003)"
   ]
  },
  {
   "cell_type": "code",
   "execution_count": 163,
   "id": "f9b2bfaa",
   "metadata": {},
   "outputs": [
    {
     "data": {
      "text/plain": [
       "<cppyy.gbl.TLegendEntry object at 0x53ceeb20>"
      ]
     },
     "execution_count": 163,
     "metadata": {},
     "output_type": "execute_result"
    }
   ],
   "source": [
    "mass_legend_0_20 = rt.TLegend(0.4, 0.2, 0.6, 0.4)\n",
    "mass_legend_0_20.SetTextSize(0.02)\n",
    "mass_legend_0_20.SetBorderSize(0)\n",
    "mass_legend_0_20.SetFillStyle(0)\n",
    "mass_legend_0_20.AddEntry(lambda_mass_dist_0_20, \"Total (sig. + comb. BG)\", \"lp\")\n",
    "# mass_legend_0_20.AddEntry(lambda_mass_ls_dist_0_20, \"Like-sign p-#pi BG scaled to Total in RSB\", \"lp\")\n",
    "# mass_legend_0_20.AddEntry(RSB_region, \"RSB region: 1.20 < M_{p#pi} < 1.22\", \"f\")"
   ]
  },
  {
   "cell_type": "code",
   "execution_count": 164,
   "id": "cb197a41",
   "metadata": {},
   "outputs": [
    {
     "name": "stderr",
     "output_type": "stream",
     "text": [
      "Info in <TCanvas::Print>: pdf file lambda_mass_0_20_resonance.pdf has been created\n"
     ]
    },
    {
     "data": {
      "image/png": "[encoded data removed]",
      "text/plain": [
       "<IPython.core.display.Image object>"
      ]
     },
     "metadata": {},
     "output_type": "display_data"
    }
   ],
   "source": [
    "lambda_mass_dist_0_20.Draw()\n",
    "# lambda_mass_ls_dist_0_20.Draw(\"SAME\")\n",
    "mass_legend_0_20.Draw(\"SAME\")\n",
    "\n",
    "\n",
    "alice_data_label = rt.TLatex()\n",
    "alice_data_label.SetNDC()\n",
    "alice_data_label.SetTextSize(0.03)\n",
    "alice_data_label.SetTextAlign(13)\n",
    "alice_data_label.DrawLatex(0.45, 0.94, \"ALICE Performance\")\n",
    "alice_data_label.DrawLatex(0.45, 0.9, \"#bf{p-Pb #sqrt{s_{NN}} = 5.02 TeV}\")\n",
    "alice_data_label.DrawLatex(0.45, 0.86, \"#bf{0-20% centrality}\")\n",
    "alice_data_label.DrawLatex(0.45, 0.83, \"#bf{#Lambda^{0} #rightarrow p#pi^{+} (#bar{#Lambda}^{0} #rightarrow #bar{p}#pi^{-})}\")\n",
    "alice_data_label.DrawLatex(0.45, 0.78, \"#bf{2.0 < #it{p}_{T} < 4.0 GeV/c}\")\n",
    "\n",
    "\n",
    "# RSB_min_line = rt.TLine(RSB_MIN, 0, RSB_MIN, lambda_mass_dist_0_20.GetMaximum()*1.05)\n",
    "# RSB_min_line.SetLineColor(rt.kRed)\n",
    "# RSB_min_line.SetLineWidth(2)\n",
    "# RSB_min_line.SetLineStyle(2)\n",
    "# RSB_min_line.Draw(\"SAME\")\n",
    "\n",
    "\n",
    "# RSB_max_line = rt.TLine(RSB_MAX, 0, RSB_MAX, lambda_mass_dist_0_20.GetMaximum()*1.05)\n",
    "# RSB_max_line.SetLineColor(rt.kRed)\n",
    "# RSB_max_line.SetLineWidth(2)\n",
    "# RSB_max_line.SetLineStyle(2)\n",
    "# RSB_max_line.Draw(\"SAME\")\n",
    "\n",
    "\n",
    "# RSB_region.Draw()\n",
    "\n",
    "\n",
    "c.Draw()\n",
    "c.SaveAs(\"lambda_mass_0_20_resonance.pdf\")"
   ]
  },
  {
   "cell_type": "code",
   "execution_count": 165,
   "id": "dff53a19",
   "metadata": {},
   "outputs": [
    {
     "name": "stdout",
     "output_type": "stream",
     "text": [
      "The 0-20 lambda signal is: 282452.00373634405\n",
      "The 0-20 lambda background is: 429098.7925069659\n",
      "The 0-20 lambda S/B is: 0.6582446948548772\n",
      "The 0-20 lambda S/T is: 0.39695269154018553\n",
      "The 0-20 lambda significance is: 334.8433710170478\n"
     ]
    }
   ],
   "source": [
    "left_signal_bin_0_20 = lambda_mass_dist_0_20.FindBin(SIG_MIN)\n",
    "right_signal_bin_0_20 = lambda_mass_dist_0_20.FindBin(SIG_MAX)\n",
    "\n",
    "lambda_bg_0_20 = 0\n",
    "lambda_total_0_20 = 0\n",
    "for bin_num in range(left_signal_bin_0_20, right_signal_bin_0_20 + 1):\n",
    "    lambda_total_0_20 += lambda_mass_dist_0_20.GetBinContent(bin_num)\n",
    "    lambda_bg_0_20 += lambda_mass_ls_dist_0_20.GetBinContent(bin_num)\n",
    "\n",
    "lambda_signal_0_20 = lambda_total_0_20 - lambda_bg_0_20\n",
    "lambda_signal_total_ratio_0_20 = lambda_signal_0_20/lambda_total_0_20\n",
    "lambda_signal_bg_ratio_0_20 = lambda_signal_0_20/lambda_bg_0_20\n",
    "print(f\"The 0-20 lambda signal is: {lambda_signal_0_20}\")\n",
    "print(f\"The 0-20 lambda background is: {lambda_bg_0_20}\")\n",
    "print(f\"The 0-20 lambda S/B is: {lambda_signal_bg_ratio_0_20}\")\n",
    "print(f\"The 0-20 lambda S/T is: {lambda_signal_total_ratio_0_20}\")\n",
    "print(f\"The 0-20 lambda significance is: {lambda_signal_0_20/math.sqrt(lambda_signal_0_20 + lambda_bg_0_20)}\")"
   ]
  },
  {
   "cell_type": "code",
   "execution_count": 167,
   "id": "542986b7",
   "metadata": {},
   "outputs": [
    {
     "name": "stdout",
     "output_type": "stream",
     "text": [
      "Extracted signal: 443692.16807209345\n",
      "Scale_factor: 1.5160486593539264\n"
     ]
    },
    {
     "name": "stderr",
     "output_type": "stream",
     "text": [
      "Warning in <TFile::Init>: file mc_templates.root probably not closed, trying to recover\n",
      "Info in <TFile::Recover>: mc_templates.root, recovered key TH1D:lambda_mass_dist at address 230\n",
      "Info in <TFile::Recover>: mc_templates.root, recovered key TH1D:lambda_mass_dist_nobg at address 3094\n",
      "Warning in <TFile::Init>: successfully recovered 2 keys\n"
     ]
    },
    {
     "data": {
      "image/png": "[encoded data removed]",
      "text/plain": [
       "<IPython.core.display.Image object>"
      ]
     },
     "metadata": {},
     "output_type": "display_data"
    }
   ],
   "source": [
    "\n",
    "left_bin = residual_0_20.FindBin(SIG_MIN)\n",
    "right_bin = residual_0_20.FindBin(SIG_MAX)\n",
    "\n",
    "# scale_factor_0_20 = residual_0_20.Integral(1, residual_0_20.FindBin(1.16))/residual_0_20.Integral(left_bin, right_bin)\n",
    "\n",
    "print(f\"Extracted signal: {residual_0_20.Integral()}\")\n",
    "print(f\"Scale_factor: {scale_factor_0_20}\")\n",
    "templates_file = rt.TFile(\"mc_templates.root\", \"READ\")\n",
    "\n",
    "lambda_mass_template = templates_file.Get(\"lambda_mass_dist_nobg\")\n",
    "lambda_mass_template.Rebin(2)\n",
    "scale_factor_0_20 = lambda_mass_template.Integral(1, residual_0_20.FindBin(1.16))/lambda_mass_template.Integral(left_bin, right_bin)\n",
    "\n",
    "residual_0_20.GetXaxis().SetRangeUser(1.06, 1.18)\n",
    "lambda_mass_template.GetXaxis().SetRangeUser(1.06, 1.18)\n",
    "\n",
    "lambda_mass_template.Scale(residual_0_20.Integral(left_bin, right_bin)/lambda_mass_template.Integral(left_bin, right_bin))\n",
    "\n",
    "residual_0_20.Draw()\n",
    "lambda_mass_template.Draw(\"SAME\")\n",
    "c.Draw()"
   ]
  },
  {
   "cell_type": "markdown",
   "id": "8b7a0da4",
   "metadata": {},
   "source": [
    "### Mixed event correction section"
   ]
  },
  {
   "cell_type": "code",
   "execution_count": 103,
   "id": "857cf95a",
   "metadata": {},
   "outputs": [],
   "source": [
    "axes = arr.array('i', [2, 3, 4, 5])\n",
    "h_lambda_0_20 = h_lambda_0_20.Projection(4, axes)\n",
    "h_lambda_0_20_highest_pt = h_lambda_0_20_highest_pt.Projection(4, axes)\n",
    "h_lambda_mixed_0_20 = h_lambda_mixed_0_20.Projection(4, axes)\n",
    "h_lambda_mixed_0_20_highest_pt = h_lambda_mixed_0_20_highest_pt.Projection(4, axes)"
   ]
  },
  {
   "cell_type": "code",
   "execution_count": 104,
   "id": "eb145904",
   "metadata": {},
   "outputs": [],
   "source": [
    "h_h_0_20 = h_h_0_20.Projection(2, 3, 4)\n",
    "h_h_0_20_highest_pt = h_h_0_20_highest_pt.Projection(2, 3, 4)\n",
    "h_h_mixed_0_20 = h_h_mixed_0_20.Projection(2, 3, 4)\n",
    "h_h_mixed_0_20_highest_pt = h_h_mixed_0_20_highest_pt.Projection(2, 3, 4)"
   ]
  },
  {
   "cell_type": "code",
   "execution_count": 105,
   "id": "92a7cb5c",
   "metadata": {},
   "outputs": [],
   "source": [
    "# Setting up 2-d correlation plots before the mixed event correction\n",
    "h_lambda_2d_nomixcor_0_20 = h_lambda_0_20.Projection(0, 1).Clone(\"h_lambda_2d_nomixcor_0_20\")\n",
    "h_lambda_2d_nomixcor_0_20_highest_pt = h_lambda_0_20_highest_pt.Projection(0, 1).Clone(\"h_lambda_2d_nomixcor_0_20_highest_pt\")\n",
    "h_lambda_mixed_2d_0_20 = h_lambda_mixed_0_20.Projection(0, 1).Clone(\"h_lambda_mixed_2d_0_20\")\n",
    "h_lambda_mixed_2d_0_20_highest_pt = h_lambda_mixed_0_20_highest_pt.Projection(0, 1).Clone(\"h_lambda_mixed_2d_0_20_highest_pt\")"
   ]
  },
  {
   "cell_type": "code",
   "execution_count": 106,
   "id": "cef04ccc",
   "metadata": {},
   "outputs": [],
   "source": [
    "h_h_2d_nomixcor_0_20 = h_h_0_20_highest_pt.Project3D(\"xye\").Clone(\"h_h_2d_nomixcor_0_20\")\n",
    "h_h_2d_nomixcor_0_20_highest_pt = h_h_0_20_highest_pt.Project3D(\"xye\").Clone(\"h_h_2d_nomixcor_0_20_highest_pt\")\n",
    "h_h_mixed_2d_0_20 = h_h_mixed_0_20.Project3D(\"xye\").Clone(\"h_h_mixed_2d_0_20\")\n",
    "h_h_mixed_2d_0_20_highest_pt = h_h_mixed_0_20_highest_pt.Project3D(\"xye\").Clone(\"h_h_mixed_2d_0_20_highest_pt\")"
   ]
  },
  {
   "cell_type": "code",
   "execution_count": 107,
   "id": "9d4af50f",
   "metadata": {},
   "outputs": [],
   "source": [
    "h_lambda_2d_nomixcor_0_20.SetTitle(\"h-#Lambda^{0} #Delta#varphi#Delta#eta (no acceptance correction)\")\n",
    "h_lambda_2d_nomixcor_0_20.GetYaxis().SetTitle(\"#Delta#varphi_{h-#Lambda^{0}}\")\n",
    "h_lambda_2d_nomixcor_0_20.GetXaxis().SetTitle(\"#Delta#eta_{h-#Lambda^{0}}\")\n",
    "h_lambda_2d_nomixcor_0_20.GetXaxis().SetTitleSize(0.05)\n",
    "h_lambda_2d_nomixcor_0_20.GetXaxis().SetTitleOffset(1.3)\n",
    "h_lambda_2d_nomixcor_0_20.GetYaxis().SetTitleSize(0.05)\n",
    "h_lambda_2d_nomixcor_0_20.GetYaxis().SetTitleOffset(1.3)\n",
    "\n",
    "h_lambda_mixed_2d_0_20.SetTitle(\"Mixed-event h-#Lambda^{0} #Delta#varphi#Delta#eta\")\n",
    "h_lambda_mixed_2d_0_20.GetYaxis().SetTitle(\"#Delta#varphi_{h-#Lambda^{0}}\")\n",
    "h_lambda_mixed_2d_0_20.GetXaxis().SetTitle(\"#Delta#eta_{h-#Lambda^{0}}\")\n",
    "h_lambda_mixed_2d_0_20.GetXaxis().SetTitleSize(0.05)\n",
    "h_lambda_mixed_2d_0_20.GetXaxis().SetTitleOffset(1.3)\n",
    "h_lambda_mixed_2d_0_20.GetYaxis().SetTitleSize(0.05)\n",
    "h_lambda_mixed_2d_0_20.GetYaxis().SetTitleOffset(1.3)\n",
    "\n",
    "h_lambda_2d_nomixcor_0_20_highest_pt.SetTitle(\"h-#Lambda^{0} #Delta#varphi#Delta#eta (no acceptance correction, highest p_{t} trigger)\")\n",
    "h_lambda_2d_nomixcor_0_20_highest_pt.GetYaxis().SetTitle(\"#Delta#varphi_{h-#Lambda^{0}}\")\n",
    "h_lambda_2d_nomixcor_0_20_highest_pt.GetXaxis().SetTitle(\"#Delta#eta_{h-#Lambda^{0}}\")\n",
    "h_lambda_2d_nomixcor_0_20_highest_pt.GetXaxis().SetTitleSize(0.05)\n",
    "h_lambda_2d_nomixcor_0_20_highest_pt.GetXaxis().SetTitleOffset(1.3)\n",
    "h_lambda_2d_nomixcor_0_20_highest_pt.GetYaxis().SetTitleSize(0.05)\n",
    "h_lambda_2d_nomixcor_0_20_highest_pt.GetYaxis().SetTitleOffset(1.3)\n",
    "\n",
    "h_lambda_mixed_2d_0_20_highest_pt.SetTitle(\"Mixed-event h-#Lambda^{0} #Delta#varphi#Delta#eta (highest p_{T} trigger)\")\n",
    "h_lambda_mixed_2d_0_20_highest_pt.GetYaxis().SetTitle(\"#Delta#varphi_{h-#Lambda^{0}}\")\n",
    "h_lambda_mixed_2d_0_20_highest_pt.GetXaxis().SetTitle(\"#Delta#eta_{h-#Lambda^{0}}\")\n",
    "h_lambda_mixed_2d_0_20_highest_pt.GetXaxis().SetTitleSize(0.05)\n",
    "h_lambda_mixed_2d_0_20_highest_pt.GetXaxis().SetTitleOffset(1.3)\n",
    "h_lambda_mixed_2d_0_20_highest_pt.GetYaxis().SetTitleSize(0.05)\n",
    "h_lambda_mixed_2d_0_20_highest_pt.GetYaxis().SetTitleOffset(1.3)"
   ]
  },
  {
   "cell_type": "code",
   "execution_count": 108,
   "id": "b8018f67",
   "metadata": {},
   "outputs": [],
   "source": [
    "h_h_2d_nomixcor_0_20.SetTitle(\"h-h #Delta#varphi#Delta#eta (no acceptance correction)\")\n",
    "h_h_2d_nomixcor_0_20.GetYaxis().SetTitle(\"#Delta#varphi_{h-#Lambda^{0}}\")\n",
    "h_h_2d_nomixcor_0_20.GetXaxis().SetTitle(\"#Delta#eta_{h-#Lambda^{0}}\")\n",
    "h_h_2d_nomixcor_0_20.GetXaxis().SetTitleSize(0.05)\n",
    "h_h_2d_nomixcor_0_20.GetXaxis().SetTitleOffset(1.3)\n",
    "h_h_2d_nomixcor_0_20.GetYaxis().SetTitleSize(0.05)\n",
    "h_h_2d_nomixcor_0_20.GetYaxis().SetTitleOffset(1.3)\n",
    "\n",
    "h_h_mixed_2d_0_20.SetTitle(\"Mixed-event h-h #Delta#varphi#Delta#eta\")\n",
    "h_h_mixed_2d_0_20.GetYaxis().SetTitle(\"#Delta#varphi_{h-#Lambda^{0}}\")\n",
    "h_h_mixed_2d_0_20.GetXaxis().SetTitle(\"#Delta#eta_{h-#Lambda^{0}}\")\n",
    "h_h_mixed_2d_0_20.GetXaxis().SetTitleSize(0.05)\n",
    "h_h_mixed_2d_0_20.GetXaxis().SetTitleOffset(1.3)\n",
    "h_h_mixed_2d_0_20.GetYaxis().SetTitleSize(0.05)\n",
    "h_h_mixed_2d_0_20.GetYaxis().SetTitleOffset(1.3)\n",
    "\n",
    "h_h_2d_nomixcor_0_20_highest_pt.SetTitle(\"h-h #Delta#varphi#Delta#eta (no acceptance correction, highest p_{T} trigger)\")\n",
    "h_h_2d_nomixcor_0_20_highest_pt.GetYaxis().SetTitle(\"#Delta#varphi_{h-#Lambda^{0}}\")\n",
    "h_h_2d_nomixcor_0_20_highest_pt.GetXaxis().SetTitle(\"#Delta#eta_{h-#Lambda^{0}}\")\n",
    "h_h_2d_nomixcor_0_20_highest_pt.GetXaxis().SetTitleSize(0.05)\n",
    "h_h_2d_nomixcor_0_20_highest_pt.GetXaxis().SetTitleOffset(1.3)\n",
    "h_h_2d_nomixcor_0_20_highest_pt.GetYaxis().SetTitleSize(0.05)\n",
    "h_h_2d_nomixcor_0_20_highest_pt.GetYaxis().SetTitleOffset(1.3)\n",
    "\n",
    "h_h_mixed_2d_0_20_highest_pt.SetTitle(\"Mixed-event h-h #Delta#varphi#Delta#eta\")\n",
    "h_h_mixed_2d_0_20_highest_pt.GetYaxis().SetTitle(\"#Delta#varphi_{h-#Lambda^{0}}\")\n",
    "h_h_mixed_2d_0_20_highest_pt.GetXaxis().SetTitle(\"#Delta#eta_{h-#Lambda^{0}}\")\n",
    "h_h_mixed_2d_0_20_highest_pt.GetXaxis().SetTitleSize(0.05)\n",
    "h_h_mixed_2d_0_20_highest_pt.GetXaxis().SetTitleOffset(1.3)\n",
    "h_h_mixed_2d_0_20_highest_pt.GetYaxis().SetTitleSize(0.05)\n",
    "h_h_mixed_2d_0_20_highest_pt.GetYaxis().SetTitleOffset(1.3)"
   ]
  },
  {
   "cell_type": "code",
   "execution_count": 109,
   "id": "edb0e3b0",
   "metadata": {},
   "outputs": [
    {
     "data": {
      "image/png": "[encoded data removed]",
      "text/plain": [
       "<IPython.core.display.Image object>"
      ]
     },
     "metadata": {},
     "output_type": "display_data"
    }
   ],
   "source": [
    "c.SetTheta(50)\n",
    "c.SetPhi(50)\n",
    "h_lambda_2d_nomixcor_0_20.GetXaxis().SetRangeUser(-DELTA_ETA_MAX, DELTA_ETA_MAX)\n",
    "h_lambda_2d_nomixcor_0_20.Draw(\"SURF1\")\n",
    "c.Draw()"
   ]
  },
  {
   "cell_type": "code",
   "execution_count": 110,
   "id": "2c6a818c",
   "metadata": {},
   "outputs": [
    {
     "data": {
      "image/png": "[encoded data removed]",
      "text/plain": [
       "<IPython.core.display.Image object>"
      ]
     },
     "metadata": {},
     "output_type": "display_data"
    }
   ],
   "source": [
    "c.SetTheta(50)\n",
    "c.SetPhi(50)\n",
    "h_lambda_2d_nomixcor_0_20_highest_pt.GetXaxis().SetRangeUser(-DELTA_ETA_MAX, DELTA_ETA_MAX)\n",
    "h_lambda_2d_nomixcor_0_20_highest_pt.Draw(\"SURF1\")\n",
    "c.Draw()"
   ]
  },
  {
   "cell_type": "code",
   "execution_count": 111,
   "id": "b1c09e99",
   "metadata": {},
   "outputs": [
    {
     "data": {
      "image/png": "[encoded data removed]",
      "text/plain": [
       "<IPython.core.display.Image object>"
      ]
     },
     "metadata": {},
     "output_type": "display_data"
    }
   ],
   "source": [
    "c.SetTheta(50)\n",
    "c.SetPhi(50)\n",
    "h_lambda_mixed_2d_0_20.GetXaxis().SetRangeUser(-DELTA_ETA_MAX, DELTA_ETA_MAX)\n",
    "h_lambda_mixed_2d_0_20.Draw(\"SURF1\")\n",
    "c.Draw()"
   ]
  },
  {
   "cell_type": "code",
   "execution_count": 112,
   "id": "d435ca36",
   "metadata": {},
   "outputs": [
    {
     "data": {
      "image/png": "[encoded data removed]",
      "text/plain": [
       "<IPython.core.display.Image object>"
      ]
     },
     "metadata": {},
     "output_type": "display_data"
    }
   ],
   "source": [
    "c.SetTheta(50)\n",
    "c.SetPhi(50)\n",
    "h_h_2d_nomixcor_0_20.GetXaxis().SetRangeUser(-DELTA_ETA_MAX, DELTA_ETA_MAX)\n",
    "h_h_2d_nomixcor_0_20.Draw(\"SURF1\")\n",
    "c.Draw()"
   ]
  },
  {
   "cell_type": "code",
   "execution_count": 113,
   "id": "e8d85c14",
   "metadata": {},
   "outputs": [
    {
     "data": {
      "image/png": "[encoded data removed]",
      "text/plain": [
       "<IPython.core.display.Image object>"
      ]
     },
     "metadata": {},
     "output_type": "display_data"
    }
   ],
   "source": [
    "c.SetTheta(50)\n",
    "c.SetPhi(50)\n",
    "h_h_mixed_2d_0_20.GetXaxis().SetRangeUser(-DELTA_ETA_MAX, DELTA_ETA_MAX)\n",
    "h_h_mixed_2d_0_20.Draw(\"SURF1\")\n",
    "c.Draw()"
   ]
  },
  {
   "cell_type": "code",
   "execution_count": 114,
   "id": "63999ee2",
   "metadata": {},
   "outputs": [
    {
     "name": "stderr",
     "output_type": "stream",
     "text": [
      "Warning in <TH3D::Sumw2>: Sum of squares of weights structure already created\n",
      "Warning in <TH3D::Sumw2>: Sum of squares of weights structure already created\n",
      "Warning in <TFile::Append>: Replacing existing TH1: fDphiHLambda_proj_2_3_4_5_proj_0_1_3 (Potential memory leak).\n",
      "Warning in <TH3D::Sumw2>: Sum of squares of weights structure already created\n",
      "Warning in <TFile::Append>: Replacing existing TH1: fDphiHLambdaMixed_proj_2_3_4_5_proj_0_1_3 (Potential memory leak).\n",
      "Warning in <TH3D::Sumw2>: Sum of squares of weights structure already created\n"
     ]
    }
   ],
   "source": [
    "h_lambda_2d_mixcor_sig_0_20 = make_mixed_corrections(h_lambda_0_20, h_lambda_mixed_0_20, SIG_MIN, SIG_MAX)\n",
    "h_lambda_2d_mixcor_rsb_0_20 = make_mixed_corrections(h_lambda_0_20, h_lambda_mixed_0_20, RSB_MIN, RSB_MAX)"
   ]
  },
  {
   "cell_type": "code",
   "execution_count": 115,
   "id": "59a4cb8f",
   "metadata": {},
   "outputs": [
    {
     "name": "stderr",
     "output_type": "stream",
     "text": [
      "Warning in <TH3D::Sumw2>: Sum of squares of weights structure already created\n",
      "Warning in <TH3D::Sumw2>: Sum of squares of weights structure already created\n",
      "Warning in <TFile::Append>: Replacing existing TH1: fDphiHLambda_highestPt_proj_2_3_4_5_proj_0_1_3 (Potential memory leak).\n",
      "Warning in <TH3D::Sumw2>: Sum of squares of weights structure already created\n",
      "Warning in <TFile::Append>: Replacing existing TH1: fDphiHLambdaMixed_highestPt_proj_2_3_4_5_proj_0_1_3 (Potential memory leak).\n",
      "Warning in <TH3D::Sumw2>: Sum of squares of weights structure already created\n"
     ]
    }
   ],
   "source": [
    "h_lambda_2d_mixcor_sig_0_20_highest_pt = make_mixed_corrections(h_lambda_0_20_highest_pt, h_lambda_mixed_0_20_highest_pt, SIG_MIN, SIG_MAX)\n",
    "h_lambda_2d_mixcor_rsb_0_20_highest_pt = make_mixed_corrections(h_lambda_0_20_highest_pt, h_lambda_mixed_0_20_highest_pt, RSB_MIN, RSB_MAX)"
   ]
  },
  {
   "cell_type": "code",
   "execution_count": 116,
   "id": "a2a7cf8a",
   "metadata": {},
   "outputs": [
    {
     "name": "stderr",
     "output_type": "stream",
     "text": [
      "Warning in <TH3D::Sumw2>: Sum of squares of weights structure already created\n",
      "Warning in <TH3D::Sumw2>: Sum of squares of weights structure already created\n",
      "Warning in <TH3D::Sumw2>: Sum of squares of weights structure already created\n",
      "Warning in <TH3D::Sumw2>: Sum of squares of weights structure already created\n"
     ]
    }
   ],
   "source": [
    "h_h_2d_mixcor_0_20 = make_mixed_corrections(h_h_0_20, h_h_mixed_0_20, SIG_MIN, SIG_MAX, is_hh=True)\n",
    "h_h_2d_mixcor_0_20_highest_pt = make_mixed_corrections(h_h_0_20_highest_pt, h_h_mixed_0_20_highest_pt, SIG_MIN, SIG_MAX, is_hh=True)"
   ]
  },
  {
   "cell_type": "code",
   "execution_count": 117,
   "id": "4038291d",
   "metadata": {},
   "outputs": [],
   "source": [
    "h_lambda_2d_mixcor_sig_0_20.SetTitle(\"h-#Lambda^{0} #Delta#varphi#Delta#eta correlation (SIG, acceptance corrected)\")\n",
    "h_lambda_2d_mixcor_sig_0_20.GetYaxis().SetTitle(\"#Delta#varphi_{h-#Lambda^{0}}\")\n",
    "h_lambda_2d_mixcor_sig_0_20.GetXaxis().SetTitle(\"#Delta#eta_{h-#Lambda^{0}}\")\n",
    "h_lambda_2d_mixcor_sig_0_20.GetXaxis().SetTitleSize(0.05)\n",
    "h_lambda_2d_mixcor_sig_0_20.GetXaxis().SetTitleOffset(1.3)\n",
    "h_lambda_2d_mixcor_sig_0_20.GetYaxis().SetTitleSize(0.05)\n",
    "h_lambda_2d_mixcor_sig_0_20.GetYaxis().SetTitleOffset(1.3)\n",
    "\n",
    "h_lambda_2d_mixcor_rsb_0_20.SetTitle(\"h-#Lambda^{0} #Delta#varphi#Delta#eta correlation (RSB, acceptance corrected)\")\n",
    "h_lambda_2d_mixcor_rsb_0_20.GetYaxis().SetTitle(\"#Delta#varphi_{h-#Lambda^{0}}\")\n",
    "h_lambda_2d_mixcor_rsb_0_20.GetXaxis().SetTitle(\"#Delta#eta_{h-#Lambda^{0}}\")\n",
    "h_lambda_2d_mixcor_rsb_0_20.GetXaxis().SetTitleSize(0.05)\n",
    "h_lambda_2d_mixcor_rsb_0_20.GetXaxis().SetTitleOffset(1.3)\n",
    "h_lambda_2d_mixcor_rsb_0_20.GetYaxis().SetTitleSize(0.05)\n",
    "h_lambda_2d_mixcor_rsb_0_20.GetYaxis().SetTitleOffset(1.3)"
   ]
  },
  {
   "cell_type": "code",
   "execution_count": 118,
   "id": "4b1c4bcf",
   "metadata": {},
   "outputs": [],
   "source": [
    "h_h_2d_mixcor_0_20.SetTitle(\"h-h #Delta#varphi#Delta#eta correlation (acceptance corrected)\")\n",
    "h_h_2d_mixcor_0_20.GetYaxis().SetTitle(\"#Delta#varphi_{h-h}\")\n",
    "h_h_2d_mixcor_0_20.GetXaxis().SetTitle(\"#Delta#eta_{h-h}\")\n",
    "h_h_2d_mixcor_0_20.GetXaxis().SetTitleSize(0.05)\n",
    "h_h_2d_mixcor_0_20.GetXaxis().SetTitleOffset(1.3)\n",
    "h_h_2d_mixcor_0_20.GetYaxis().SetTitleSize(0.05)\n",
    "h_h_2d_mixcor_0_20.GetYaxis().SetTitleOffset(1.3)"
   ]
  },
  {
   "cell_type": "code",
   "execution_count": 119,
   "id": "d06fc490",
   "metadata": {},
   "outputs": [
    {
     "data": {
      "image/png": "[encoded data removed]",
      "text/plain": [
       "<IPython.core.display.Image object>"
      ]
     },
     "metadata": {},
     "output_type": "display_data"
    }
   ],
   "source": [
    "c.SetTheta(50)\n",
    "c.SetPhi(50)\n",
    "h_lambda_2d_mixcor_sig_0_20.GetXaxis().SetRangeUser(-DELTA_ETA_MAX, DELTA_ETA_MAX)\n",
    "h_lambda_2d_mixcor_sig_0_20.Draw(\"SURF1\")\n",
    "c.Draw()"
   ]
  },
  {
   "cell_type": "code",
   "execution_count": 120,
   "id": "e2c72eb3",
   "metadata": {},
   "outputs": [
    {
     "data": {
      "image/png": "[encoded data removed]",
      "text/plain": [
       "<IPython.core.display.Image object>"
      ]
     },
     "metadata": {},
     "output_type": "display_data"
    }
   ],
   "source": [
    "c.SetTheta(50)\n",
    "c.SetPhi(50)\n",
    "h_lambda_2d_mixcor_rsb_0_20.GetXaxis().SetRangeUser(-DELTA_ETA_MAX, DELTA_ETA_MAX)\n",
    "h_lambda_2d_mixcor_rsb_0_20.Draw(\"SURF1\")\n",
    "c.Draw()"
   ]
  },
  {
   "cell_type": "code",
   "execution_count": 121,
   "id": "edafda00",
   "metadata": {
    "scrolled": true
   },
   "outputs": [
    {
     "data": {
      "image/png": "[encoded data removed]",
      "text/plain": [
       "<IPython.core.display.Image object>"
      ]
     },
     "metadata": {},
     "output_type": "display_data"
    }
   ],
   "source": [
    "c.SetTheta(50)\n",
    "c.SetPhi(50)\n",
    "h_h_2d_mixcor_0_20.GetXaxis().SetRangeUser(-DELTA_ETA_MAX, DELTA_ETA_MAX)\n",
    "h_h_2d_mixcor_0_20.Draw(\"SURF1\")\n",
    "c.Draw()"
   ]
  },
  {
   "cell_type": "code",
   "execution_count": 122,
   "id": "5078bf5e",
   "metadata": {},
   "outputs": [],
   "source": [
    "h_lambda_2d_mixcor_sig_0_20_highest_pt.GetXaxis().SetRangeUser(-DELTA_ETA_MAX, DELTA_ETA_MAX)\n",
    "h_lambda_2d_mixcor_rsb_0_20_highest_pt.GetXaxis().SetRangeUser(-DELTA_ETA_MAX, DELTA_ETA_MAX)\n",
    "h_h_2d_mixcor_0_20_highest_pt.GetXaxis().SetRangeUser(-DELTA_ETA_MAX, DELTA_ETA_MAX)"
   ]
  },
  {
   "cell_type": "code",
   "execution_count": 123,
   "id": "0d1d8ba3",
   "metadata": {},
   "outputs": [],
   "source": [
    "# per-trigger normalization done here\n",
    "h_lambda_2d_mixcor_sig_0_20.Scale(1.0/num_trigs_0_20)\n",
    "h_lambda_2d_mixcor_rsb_0_20.Scale(1.0/num_trigs_0_20)\n",
    "h_lambda_2d_mixcor_sig_0_20_highest_pt.Scale(1.0/num_trigs_0_20_highest_pt)\n",
    "h_lambda_2d_mixcor_rsb_0_20_highest_pt.Scale(1.0/num_trigs_0_20_highest_pt)\n",
    "h_h_2d_mixcor_0_20.Scale(1.0/num_trigs_0_20)\n",
    "h_h_2d_mixcor_0_20_highest_pt.Scale(1.0/num_trigs_0_20_highest_pt)"
   ]
  },
  {
   "cell_type": "code",
   "execution_count": 124,
   "id": "ce9ccdd7",
   "metadata": {},
   "outputs": [],
   "source": [
    "# scaling by total signal/signal region done here\n",
    "h_lambda_2d_mixcor_sig_0_20.Scale(scale_factor_0_20)\n",
    "h_lambda_2d_mixcor_rsb_0_20.Scale(scale_factor_0_20)"
   ]
  },
  {
   "cell_type": "markdown",
   "id": "3a6d5218",
   "metadata": {},
   "source": [
    "### Sideband subtraction section"
   ]
  },
  {
   "cell_type": "code",
   "execution_count": 125,
   "id": "c0a87197",
   "metadata": {},
   "outputs": [],
   "source": [
    "# Normalize side bands to 1\n",
    "h_lambda_2d_mixcor_rsb_0_20.Scale(1/h_lambda_2d_mixcor_rsb_0_20.Integral())"
   ]
  },
  {
   "cell_type": "code",
   "execution_count": 126,
   "id": "f7528906",
   "metadata": {},
   "outputs": [
    {
     "data": {
      "image/png": "[encoded data removed]",
      "text/plain": [
       "<IPython.core.display.Image object>"
      ]
     },
     "metadata": {},
     "output_type": "display_data"
    }
   ],
   "source": [
    "h_lambda_dphi_rsb_0_20 = h_lambda_2d_mixcor_rsb_0_20.ProjectionY(\"h_lambda_dphi_rsb_0_20\")\n",
    "h_lambda_dphi_rsb_0_20.SetTitle(\"h-#Lambda^{0} #Delta#varphi correlation (RSB, acceptance corrected)\")\n",
    "h_lambda_dphi_rsb_0_20.SetLineColor(rt.kMagenta)\n",
    "h_lambda_dphi_rsb_0_20.Draw()\n",
    "c.Draw()"
   ]
  },
  {
   "cell_type": "code",
   "execution_count": 127,
   "id": "f970f8ad",
   "metadata": {},
   "outputs": [
    {
     "data": {
      "text/plain": [
       "True"
      ]
     },
     "execution_count": 127,
     "metadata": {},
     "output_type": "execute_result"
    }
   ],
   "source": [
    "# using RSB for sideband subtraction\n",
    "h_lambda_2d_subtracted_0_20 = h_lambda_2d_mixcor_sig_0_20.Clone(\"h_lambda_2d_subtracted_0_20\")\n",
    "bg_integral_0_20 = (1 - lambda_signal_total_ratio_0_20)*h_lambda_2d_subtracted_0_20.Integral()\n",
    "h_lambda_2d_subtracted_0_20.Add(h_lambda_2d_mixcor_rsb_0_20, -bg_integral_0_20)"
   ]
  },
  {
   "cell_type": "code",
   "execution_count": 128,
   "id": "16ee82f7",
   "metadata": {},
   "outputs": [
    {
     "data": {
      "image/png": "[encoded data removed]",
      "text/plain": [
       "<IPython.core.display.Image object>"
      ]
     },
     "metadata": {},
     "output_type": "display_data"
    }
   ],
   "source": [
    "h_lambda_2d_subtracted_0_20.SetTitle(\"h-#Lambda^{0} #Delta#varphi#Delta#eta correlation (acceptance corrected, right sideband subtracted)\")\n",
    "h_lambda_2d_subtracted_0_20.Draw(\"SURF1\")\n",
    "c.Draw()"
   ]
  },
  {
   "cell_type": "code",
   "execution_count": 129,
   "id": "08914b69",
   "metadata": {},
   "outputs": [
    {
     "data": {
      "text/plain": [
       "True"
      ]
     },
     "execution_count": 129,
     "metadata": {},
     "output_type": "execute_result"
    }
   ],
   "source": [
    "# using RSB for sideband subtraction\n",
    "h_lambda_2d_subtracted_0_20_highest_pt = h_lambda_2d_mixcor_sig_0_20_highest_pt.Clone(\"h_lambda_2d_subtracted_0_20_highest_pt\")\n",
    "bg_integral_0_20_highest_pt = (1 - lambda_signal_total_ratio_0_20)*h_lambda_2d_subtracted_0_20_highest_pt.Integral()\n",
    "h_lambda_2d_subtracted_0_20_highest_pt.Add(h_lambda_2d_mixcor_rsb_0_20_highest_pt, -bg_integral_0_20_highest_pt)"
   ]
  },
  {
   "cell_type": "code",
   "execution_count": 130,
   "id": "37e8ddf2",
   "metadata": {},
   "outputs": [
    {
     "data": {
      "image/png": "[encoded data removed]",
      "text/plain": [
       "<IPython.core.display.Image object>"
      ]
     },
     "metadata": {},
     "output_type": "display_data"
    }
   ],
   "source": [
    "h_lambda_2d_subtracted_0_20_highest_pt.SetTitle(\"h-#Lambda^{0} #Delta#varphi#Delta#eta correlation (acceptance corrected, right sideband subtracted)\")\n",
    "h_lambda_2d_subtracted_0_20_highest_pt.Draw(\"SURF1\")\n",
    "c.Draw()"
   ]
  },
  {
   "cell_type": "markdown",
   "id": "3d7af60f",
   "metadata": {},
   "source": [
    "### Integral and ratio section"
   ]
  },
  {
   "cell_type": "code",
   "execution_count": 131,
   "id": "c620f87c",
   "metadata": {},
   "outputs": [],
   "source": [
    "h_lambda_dphi_subtracted_0_20 = h_lambda_2d_subtracted_0_20.ProjectionY(\"h_lambda_dphi_subtracted_0_20\")\n",
    "h_lambda_dphi_subtracted_0_20.SetTitle(\"h-#Lambda^{0} #Delta#varphi distribution (0 - 20 multiplicty bin)\")\n",
    "h_lambda_dphi_subtracted_0_20.SetLineColor(rt.kViolet - 6)\n",
    "h_lambda_dphi_subtracted_0_20.SetLineWidth(3)\n",
    "h_lambda_dphi_subtracted_0_20.GetYaxis().SetTitle(\"#frac{dN_{h-#Lambda^{0}}}{d#Delta#varphi}\")\n",
    "h_lambda_dphi_subtracted_0_20.GetXaxis().SetTitleSize(0.05)\n",
    "h_lambda_dphi_subtracted_0_20.GetXaxis().SetTitleOffset(0.5)"
   ]
  },
  {
   "cell_type": "code",
   "execution_count": 132,
   "id": "c0bfd217",
   "metadata": {},
   "outputs": [],
   "source": [
    "h_lambda_dphi_subtracted_0_20_highest_pt = h_lambda_2d_subtracted_0_20_highest_pt.ProjectionY(\"h_lambda_dphi_subtracted_0_20_highest_pt\")\n",
    "h_lambda_dphi_subtracted_0_20_highest_pt.SetTitle(\"h-#Lambda^{0} #Delta#varphi distribution (0 - 20 multiplicty bin)\")\n",
    "h_lambda_dphi_subtracted_0_20_highest_pt.SetLineColor(rt.kViolet - 6)\n",
    "h_lambda_dphi_subtracted_0_20_highest_pt.SetLineWidth(3)\n",
    "h_lambda_dphi_subtracted_0_20_highest_pt.GetYaxis().SetTitle(\"#frac{dN_{h-#Lambda^{0}}}{d#Delta#varphi}\")\n",
    "h_lambda_dphi_subtracted_0_20_highest_pt.GetXaxis().SetTitleSize(0.05)\n",
    "h_lambda_dphi_subtracted_0_20_highest_pt.GetXaxis().SetTitleOffset(0.5)"
   ]
  },
  {
   "cell_type": "code",
   "execution_count": 133,
   "id": "4b3df235",
   "metadata": {},
   "outputs": [
    {
     "data": {
      "image/png": "[encoded data removed]",
      "text/plain": [
       "<IPython.core.display.Image object>"
      ]
     },
     "metadata": {},
     "output_type": "display_data"
    }
   ],
   "source": [
    "h_lambda_dphi_subtracted_0_20.GetYaxis().SetRangeUser(h_lambda_dphi_subtracted_0_20_highest_pt.GetMinimum()*0.9, \n",
    "                                                      h_lambda_dphi_subtracted_0_20.GetMaximum()*1.10)\n",
    "h_lambda_dphi_subtracted_0_20.Draw()\n",
    "h_lambda_dphi_subtracted_0_20_highest_pt.SetLineColor(rt.kGreen + 2)\n",
    "h_lambda_dphi_subtracted_0_20_highest_pt.Draw(\"SAME\")\n",
    "c.Draw()"
   ]
  },
  {
   "cell_type": "code",
   "execution_count": 134,
   "id": "3f5f4848",
   "metadata": {},
   "outputs": [],
   "source": [
    "if USE_AVG:\n",
    "    ue_line_0_20 = rt.TF1(\"ue_line_0_20\", \"pol0\", -2, 6)\n",
    "    ue_upper_line_0_20 = rt.TF1(\"ue_upper_line_0_20\", \"pol0\", -2, 6)\n",
    "    ue_lower_line_0_20 = rt.TF1(\"ue_lower_line_0_20\", \"pol0\", -2, 6)\n",
    "    zero_line_0_20 = rt.TF1(\"zero_line_0_20\", \"pol0\", -2, 6)\n",
    "    zero_upper_line_0_20 = rt.TF1(\"zero_upper_line_0_20\", \"pol0\", -2, 6)\n",
    "    zero_lower_line_0_20 = rt.TF1(\"zero_lower_line_0_20\", \"pol0\", -2, 6)\n",
    "    ue_avg_0_20 = (h_lambda_dphi_subtracted_0_20.GetBinContent(1) \n",
    "                   + h_lambda_dphi_subtracted_0_20.GetBinContent(8)\n",
    "                   + h_lambda_dphi_subtracted_0_20.GetBinContent(9)\n",
    "                   + h_lambda_dphi_subtracted_0_20.GetBinContent(16))/4\n",
    "\n",
    "    ue_avg_error_0_20 = (1/4)*(math.sqrt(h_lambda_dphi_subtracted_0_20.GetBinError(1)**2 \n",
    "                   + h_lambda_dphi_subtracted_0_20.GetBinError(8)**2\n",
    "                   + h_lambda_dphi_subtracted_0_20.GetBinError(9)**2\n",
    "                   + h_lambda_dphi_subtracted_0_20.GetBinError(16)**2))\n",
    "\n",
    "\n",
    "    ue_line_0_20.SetParameter(0, ue_avg_0_20)\n",
    "    ue_line_0_20.SetLineColor(rt.kViolet - 6)\n",
    "    ue_line_0_20.SetLineWidth(3)\n",
    "    ue_line_0_20.SetLineStyle(rt.kSolid)\n",
    "\n",
    "    ue_upper_line_0_20.SetParameter(0, ue_avg_0_20 + ue_avg_error_0_20)\n",
    "    ue_upper_line_0_20.SetLineColor(rt.kViolet - 6)\n",
    "    ue_upper_line_0_20.SetLineStyle(rt.kDashed)\n",
    "\n",
    "    ue_lower_line_0_20.SetParameter(0, ue_avg_0_20 - ue_avg_error_0_20)\n",
    "    ue_lower_line_0_20.SetLineColor(rt.kViolet - 6)\n",
    "    ue_lower_line_0_20.SetLineStyle(rt.kDashed)\n",
    "\n",
    "    zero_line_0_20.SetParameter(0, 0)\n",
    "    zero_line_0_20.SetLineColor(rt.kViolet - 6)\n",
    "    zero_line_0_20.SetLineWidth(3)\n",
    "    zero_line_0_20.SetLineStyle(rt.kSolid)\n",
    "    zero_upper_line_0_20.SetParameter(0, ue_avg_error_0_20)\n",
    "    zero_upper_line_0_20.SetLineColor(rt.kViolet - 6)\n",
    "    zero_upper_line_0_20.SetLineStyle(rt.kDashed)\n",
    "    zero_lower_line_0_20.SetParameter(0, -ue_avg_error_0_20)\n",
    "    zero_lower_line_0_20.SetLineColor(rt.kViolet - 6)\n",
    "    zero_lower_line_0_20.SetLineStyle(rt.kDashed)\n",
    "elif USE_ZYAM:\n",
    "    ue_line_0_20 = rt.TF1(\"ue_line_0_20\", \"pol0\", -2, 6)\n",
    "    ue_upper_line_0_20 = rt.TF1(\"ue_upper_line_0_20\", \"pol0\", -2, 6)\n",
    "    ue_lower_line_0_20 = rt.TF1(\"ue_lower_line_0_20\", \"pol0\", -2, 6)\n",
    "    zero_line_0_20 = rt.TF1(\"zero_line_0_20\", \"pol0\", -2, 6)\n",
    "    zero_upper_line_0_20 = rt.TF1(\"zero_upper_line_0_20\", \"pol0\", -2, 6)\n",
    "    zero_lower_line_0_20 = rt.TF1(\"zero_lower_line_0_20\", \"pol0\", -2, 6)\n",
    "    min_bin = h_lambda_dphi_subtracted_0_20.GetMinimumBin()\n",
    "    ue_avg_0_20 = h_lambda_dphi_subtracted_0_20.GetBinContent(min_bin)\n",
    "    ue_avg_error_0_20 = h_lambda_dphi_subtracted_0_20.GetBinError(min_bin)\n",
    "\n",
    "\n",
    "    ue_line_0_20.SetParameter(0, ue_avg_0_20)\n",
    "    ue_line_0_20.SetLineColor(rt.kViolet - 6)\n",
    "    ue_line_0_20.SetLineWidth(3)\n",
    "    ue_line_0_20.SetLineStyle(rt.kSolid)\n",
    "\n",
    "    ue_upper_line_0_20.SetParameter(0, ue_avg_0_20 + ue_avg_error_0_20)\n",
    "    ue_upper_line_0_20.SetLineColor(rt.kViolet - 6)\n",
    "    ue_upper_line_0_20.SetLineStyle(rt.kDashed)\n",
    "\n",
    "    ue_lower_line_0_20.SetParameter(0, ue_avg_0_20 - ue_avg_error_0_20)\n",
    "    ue_lower_line_0_20.SetLineColor(rt.kViolet - 6)\n",
    "    ue_lower_line_0_20.SetLineStyle(rt.kDashed)\n",
    "\n",
    "    zero_line_0_20.SetParameter(0, 0)\n",
    "    zero_line_0_20.SetLineColor(rt.kViolet - 6)\n",
    "    zero_line_0_20.SetLineWidth(3)\n",
    "    zero_line_0_20.SetLineStyle(rt.kSolid)\n",
    "    zero_upper_line_0_20.SetParameter(0, ue_avg_error_0_20)\n",
    "    zero_upper_line_0_20.SetLineColor(rt.kViolet - 6)\n",
    "    zero_upper_line_0_20.SetLineStyle(rt.kDashed)\n",
    "    zero_lower_line_0_20.SetParameter(0, -ue_avg_error_0_20)\n",
    "    zero_lower_line_0_20.SetLineColor(rt.kViolet - 6)\n",
    "    zero_lower_line_0_20.SetLineStyle(rt.kDashed)\n",
    "else:\n",
    "    raise NotImplementedError(\"UE line mode not supported\")"
   ]
  },
  {
   "cell_type": "code",
   "execution_count": 135,
   "id": "8df7662d",
   "metadata": {},
   "outputs": [],
   "source": [
    "if USE_AVG:\n",
    "    ue_line_0_20_highest_pt = rt.TF1(\"ue_line_0_20_highest_pt\", \"pol0\", -2, 6)\n",
    "    ue_upper_line_0_20_highest_pt = rt.TF1(\"ue_upper_line_0_20_highest_pt\", \"pol0\", -2, 6)\n",
    "    ue_lower_line_0_20_highest_pt = rt.TF1(\"ue_lower_line_0_20_highest_pt\", \"pol0\", -2, 6)\n",
    "    zero_line_0_20_highest_pt = rt.TF1(\"zero_line_0_20_highest_pt\", \"pol0\", -2, 6)\n",
    "    zero_upper_line_0_20_highest_pt = rt.TF1(\"zero_upper_line_0_20_highest_pt\", \"pol0\", -2, 6)\n",
    "    zero_lower_line_0_20_highest_pt = rt.TF1(\"zero_lower_line_0_20_highest_pt\", \"pol0\", -2, 6)\n",
    "    ue_avg_0_20_highest_pt = (h_lambda_dphi_subtracted_0_20_highest_pt.GetBinContent(1) \n",
    "                   + h_lambda_dphi_subtracted_0_20_highest_pt.GetBinContent(8)\n",
    "                   + h_lambda_dphi_subtracted_0_20_highest_pt.GetBinContent(9)\n",
    "                   + h_lambda_dphi_subtracted_0_20_highest_pt.GetBinContent(16))/4\n",
    "\n",
    "    ue_avg_error_0_20_highest_pt = (1/4)*(math.sqrt(h_lambda_dphi_subtracted_0_20_highest_pt.GetBinError(1)**2 \n",
    "                   + h_lambda_dphi_subtracted_0_20_highest_pt.GetBinError(8)**2\n",
    "                   + h_lambda_dphi_subtracted_0_20_highest_pt.GetBinError(9)**2\n",
    "                   + h_lambda_dphi_subtracted_0_20_highest_pt.GetBinError(16)**2))\n",
    "\n",
    "\n",
    "    ue_line_0_20_highest_pt.SetParameter(0, ue_avg_0_20_highest_pt)\n",
    "    ue_line_0_20_highest_pt.SetLineColor(rt.kViolet - 6)\n",
    "    ue_line_0_20_highest_pt.SetLineWidth(3)\n",
    "    ue_line_0_20_highest_pt.SetLineStyle(rt.kSolid)\n",
    "\n",
    "    ue_upper_line_0_20_highest_pt.SetParameter(0, ue_avg_0_20_highest_pt + ue_avg_error_0_20_highest_pt)\n",
    "    ue_upper_line_0_20_highest_pt.SetLineColor(rt.kViolet - 6)\n",
    "    ue_upper_line_0_20_highest_pt.SetLineStyle(rt.kDashed)\n",
    "\n",
    "    ue_lower_line_0_20_highest_pt.SetParameter(0, ue_avg_0_20_highest_pt - ue_avg_error_0_20_highest_pt)\n",
    "    ue_lower_line_0_20_highest_pt.SetLineColor(rt.kViolet - 6)\n",
    "    ue_lower_line_0_20_highest_pt.SetLineStyle(rt.kDashed)\n",
    "\n",
    "    zero_line_0_20_highest_pt.SetParameter(0, 0)\n",
    "    zero_line_0_20_highest_pt.SetLineColor(rt.kViolet - 6)\n",
    "    zero_line_0_20_highest_pt.SetLineWidth(3)\n",
    "    zero_line_0_20_highest_pt.SetLineStyle(rt.kSolid)\n",
    "    zero_upper_line_0_20_highest_pt.SetParameter(0, ue_avg_error_0_20_highest_pt)\n",
    "    zero_upper_line_0_20_highest_pt.SetLineColor(rt.kViolet - 6)\n",
    "    zero_upper_line_0_20_highest_pt.SetLineStyle(rt.kDashed)\n",
    "    zero_lower_line_0_20_highest_pt.SetParameter(0, -ue_avg_error_0_20_highest_pt)\n",
    "    zero_lower_line_0_20_highest_pt.SetLineColor(rt.kViolet - 6)\n",
    "    zero_lower_line_0_20_highest_pt.SetLineStyle(rt.kDashed)\n",
    "elif USE_ZYAM:\n",
    "    ue_line_0_20_highest_pt = rt.TF1(\"ue_line_0_20_highest_pt\", \"pol0\", -2, 6)\n",
    "    ue_upper_line_0_20_highest_pt = rt.TF1(\"ue_upper_line_0_20_highest_pt\", \"pol0\", -2, 6)\n",
    "    ue_lower_line_0_20_highest_pt = rt.TF1(\"ue_lower_line_0_20_highest_pt\", \"pol0\", -2, 6)\n",
    "    zero_line_0_20_highest_pt = rt.TF1(\"zero_line_0_20_highest_pt\", \"pol0\", -2, 6)\n",
    "    zero_upper_line_0_20_highest_pt = rt.TF1(\"zero_upper_line_0_20_highest_pt\", \"pol0\", -2, 6)\n",
    "    zero_lower_line_0_20_highest_pt = rt.TF1(\"zero_lower_line_0_20_highest_pt\", \"pol0\", -2, 6)\n",
    "    min_bin = h_lambda_dphi_subtracted_0_20_highest_pt.GetMinimumBin()\n",
    "    ue_avg_0_20_highest_pt = h_lambda_dphi_subtracted_0_20_highest_pt.GetBinContent(min_bin)\n",
    "    ue_avg_error_0_20_highest_pt = h_lambda_dphi_subtracted_0_20_highest_pt.GetBinError(min_bin)\n",
    "\n",
    "\n",
    "    ue_line_0_20_highest_pt.SetParameter(0, ue_avg_0_20_highest_pt)\n",
    "    ue_line_0_20_highest_pt.SetLineColor(rt.kViolet - 6)\n",
    "    ue_line_0_20_highest_pt.SetLineWidth(3)\n",
    "    ue_line_0_20_highest_pt.SetLineStyle(rt.kSolid)\n",
    "\n",
    "    ue_upper_line_0_20_highest_pt.SetParameter(0, ue_avg_0_20_highest_pt + ue_avg_error_0_20_highest_pt)\n",
    "    ue_upper_line_0_20_highest_pt.SetLineColor(rt.kViolet - 6)\n",
    "    ue_upper_line_0_20_highest_pt.SetLineStyle(rt.kDashed)\n",
    "\n",
    "    ue_lower_line_0_20_highest_pt.SetParameter(0, ue_avg_0_20_highest_pt - ue_avg_error_0_20_highest_pt)\n",
    "    ue_lower_line_0_20_highest_pt.SetLineColor(rt.kViolet - 6)\n",
    "    ue_lower_line_0_20_highest_pt.SetLineStyle(rt.kDashed)\n",
    "\n",
    "    zero_line_0_20_highest_pt.SetParameter(0, 0)\n",
    "    zero_line_0_20_highest_pt.SetLineColor(rt.kViolet - 6)\n",
    "    zero_line_0_20_highest_pt.SetLineWidth(3)\n",
    "    zero_line_0_20_highest_pt.SetLineStyle(rt.kSolid)\n",
    "    zero_upper_line_0_20_highest_pt.SetParameter(0, ue_avg_error_0_20_highest_pt)\n",
    "    zero_upper_line_0_20_highest_pt.SetLineColor(rt.kViolet - 6)\n",
    "    zero_upper_line_0_20_highest_pt.SetLineStyle(rt.kDashed)\n",
    "    zero_lower_line_0_20_highest_pt.SetParameter(0, -ue_avg_error_0_20_highest_pt)\n",
    "    zero_lower_line_0_20_highest_pt.SetLineColor(rt.kViolet - 6)\n",
    "    zero_lower_line_0_20_highest_pt.SetLineStyle(rt.kDashed)\n",
    "else:\n",
    "    raise NotImplementedError(\"UE line mode not supported\")"
   ]
  },
  {
   "cell_type": "code",
   "execution_count": 136,
   "id": "7f65ad62",
   "metadata": {},
   "outputs": [
    {
     "data": {
      "image/png": "[encoded data removed]",
      "text/plain": [
       "<IPython.core.display.Image object>"
      ]
     },
     "metadata": {},
     "output_type": "display_data"
    }
   ],
   "source": [
    "min_bin = h_lambda_dphi_subtracted_0_20.GetMinimumBin()\n",
    "min_val = h_lambda_dphi_subtracted_0_20.GetBinContent(min_bin)\n",
    "max_bin = h_lambda_dphi_subtracted_0_20.GetMaximumBin()\n",
    "max_val = h_lambda_dphi_subtracted_0_20.GetBinContent(max_bin)\n",
    "\n",
    "h_lambda_dphi_subtracted_0_20.GetYaxis().SetRangeUser(0.85*min_val, 1.15*max_val)\n",
    "h_lambda_dphi_subtracted_0_20.Draw()\n",
    "ue_line_0_20.Draw(\"SAME\")\n",
    "ue_upper_line_0_20.Draw(\"SAME\")\n",
    "ue_lower_line_0_20.Draw(\"SAME\")\n",
    "c.Draw()"
   ]
  },
  {
   "cell_type": "code",
   "execution_count": null,
   "id": "9137bf72",
   "metadata": {},
   "outputs": [
    {
     "data": {
      "image/png": "[encoded data removed]",
      "text/plain": [
       "<IPython.core.display.Image object>"
      ]
     },
     "metadata": {},
     "output_type": "display_data"
    }
   ],
   "source": [
    "h_lambda_dphi_subtracted_0_20.GetYaxis().SetRangeUser(0, 1.15*max_val)\n",
    "h_lambda_dphi_subtracted_0_20.Draw()\n",
    "ue_line_0_20.Draw(\"SAME\")\n",
    "ue_upper_line_0_20.Draw(\"SAME\")\n",
    "ue_lower_line_0_20.Draw(\"SAME\")\n",
    "c.Draw()"
   ]
  },
  {
   "cell_type": "code",
   "execution_count": 68,
   "id": "246803b4",
   "metadata": {
    "scrolled": true
   },
   "outputs": [
    {
     "data": {
      "image/png": "[encoded data removed]",
      "text/plain": [
       "<IPython.core.display.Image object>"
      ]
     },
     "metadata": {},
     "output_type": "display_data"
    }
   ],
   "source": [
    "h_lambda_dphi_subtracted_0_20_zeroed = h_lambda_dphi_subtracted_0_20.Clone(\"h_lambda_dphi_subtracted_0_20_zeroed\")\n",
    "h_lambda_dphi_subtracted_0_20_zeroed.SetTitle(\"h-#Lambda^{0} #Delta#varphi distribution (UE subtracted, 0 - 20 multiplicity bin)\")\n",
    "h_lambda_dphi_subtracted_0_20_zeroed.Add(ue_line_0_20, -1)\n",
    "h_lambda_dphi_subtracted_0_20_zeroed.Draw()\n",
    "zero_line_0_20.Draw(\"SAME\")\n",
    "zero_upper_line_0_20.Draw(\"SAME\")\n",
    "zero_lower_line_0_20.Draw(\"SAME\")\n",
    "c.Draw()"
   ]
  },
  {
   "cell_type": "code",
   "execution_count": null,
   "id": "f34f8511",
   "metadata": {},
   "outputs": [],
   "source": [
    "DPHI_BINS = h_lambda_dphi_subtracted_0_20.GetNbinsX()"
   ]
  },
  {
   "cell_type": "code",
   "execution_count": null,
   "id": "a7657710",
   "metadata": {},
   "outputs": [],
   "source": [
    "h_lambda_total_integral_0_20 = 0\n",
    "h_lambda_near_integral_0_20 = 0\n",
    "h_lambda_away_integral_0_20 = 0\n",
    "h_lambda_ue_integral_0_20 = ue_avg_0_20*DPHI_BINS\n",
    "\n",
    "h_lambda_total_integral_error_0_20 = 0\n",
    "h_lambda_near_integral_error_0_20 = 0\n",
    "h_lambda_away_integral_error_0_20 = 0\n",
    "h_lambda_ue_integral_error_0_20 = ue_avg_error_0_20*DPHI_BINS\n",
    "\n",
    "for bin_num in range(1, DPHI_BINS + 1):\n",
    "    h_lambda_total_integral_0_20 += h_lambda_dphi_subtracted_0_20.GetBinContent(bin_num)\n",
    "    h_lambda_total_integral_error_0_20 += h_lambda_dphi_subtracted_0_20.GetBinError(bin_num)**2\n",
    "    part = h_lambda_dphi_subtracted_0_20.GetBinContent(bin_num) - ue_avg_0_20\n",
    "    if part < 0:\n",
    "        continue\n",
    "    if bin_num < 9:\n",
    "        h_lambda_near_integral_0_20 += part\n",
    "        h_lambda_near_integral_error_0_20 += h_lambda_dphi_subtracted_0_20.GetBinError(bin_num)**2\n",
    "        h_lambda_near_integral_error_0_20 += ue_avg_error_0_20**2\n",
    "    else:\n",
    "        h_lambda_away_integral_0_20 += part\n",
    "        h_lambda_away_integral_error_0_20 += h_lambda_dphi_subtracted_0_20.GetBinError(bin_num)**2\n",
    "        h_lambda_away_integral_error_0_20 += ue_avg_error_0_20**2\n",
    "h_lambda_total_integral_error_0_20 = math.sqrt(h_lambda_total_integral_error_0_20)\n",
    "h_lambda_near_integral_error_0_20 = math.sqrt(h_lambda_near_integral_error_0_20)\n",
    "h_lambda_away_integral_error_0_20 = math.sqrt(h_lambda_away_integral_error_0_20)"
   ]
  },
  {
   "cell_type": "code",
   "execution_count": null,
   "id": "0f16cdca",
   "metadata": {},
   "outputs": [],
   "source": [
    "h_lambda_total_integral_0_20_highest_pt = 0\n",
    "h_lambda_near_integral_0_20_highest_pt = 0\n",
    "h_lambda_away_integral_0_20_highest_pt = 0\n",
    "h_lambda_ue_integral_0_20_highest_pt = ue_avg_0_20_highest_pt*DPHI_BINS\n",
    "\n",
    "h_lambda_total_integral_error_0_20_highest_pt = 0\n",
    "h_lambda_near_integral_error_0_20_highest_pt = 0\n",
    "h_lambda_away_integral_error_0_20_highest_pt = 0\n",
    "h_lambda_ue_integral_error_0_20_highest_pt = ue_avg_error_0_20_highest_pt*DPHI_BINS\n",
    "\n",
    "for bin_num in range(1, DPHI_BINS + 1):\n",
    "    h_lambda_total_integral_0_20_highest_pt += h_lambda_dphi_subtracted_0_20_highest_pt.GetBinContent(bin_num)\n",
    "    h_lambda_total_integral_error_0_20_highest_pt += h_lambda_dphi_subtracted_0_20_highest_pt.GetBinError(bin_num)**2\n",
    "    part = h_lambda_dphi_subtracted_0_20_highest_pt.GetBinContent(bin_num) - ue_avg_0_20_highest_pt\n",
    "    if part < 0:\n",
    "        continue\n",
    "    if bin_num < 9:\n",
    "        h_lambda_near_integral_0_20_highest_pt += part \n",
    "        h_lambda_near_integral_error_0_20_highest_pt += h_lambda_dphi_subtracted_0_20_highest_pt.GetBinError(bin_num)**2\n",
    "        h_lambda_near_integral_error_0_20_highest_pt += ue_avg_error_0_20_highest_pt**2\n",
    "    else:\n",
    "        h_lambda_away_integral_0_20_highest_pt += part \n",
    "        h_lambda_away_integral_error_0_20_highest_pt += h_lambda_dphi_subtracted_0_20_highest_pt.GetBinError(bin_num)**2\n",
    "        h_lambda_away_integral_error_0_20_highest_pt += ue_avg_error_0_20_highest_pt**2\n",
    "h_lambda_total_integral_error_0_20_highest_pt = math.sqrt(h_lambda_total_integral_error_0_20_highest_pt)\n",
    "h_lambda_near_integral_error_0_20_highest_pt = math.sqrt(h_lambda_near_integral_error_0_20_highest_pt)\n",
    "h_lambda_away_integral_error_0_20_highest_pt = math.sqrt(h_lambda_away_integral_error_0_20_highest_pt)"
   ]
  },
  {
   "cell_type": "code",
   "execution_count": null,
   "id": "ff42fe85",
   "metadata": {},
   "outputs": [],
   "source": [
    "h_h_dphi_0_20 = h_h_2d_mixcor_0_20.ProjectionY(\"h_h_dphi_0_20\")\n",
    "h_h_dphi_0_20.SetTitle(\"h-h #Delta#varphi distribution (0 - 20 multiplicty bin)\")\n",
    "h_h_dphi_0_20.SetLineColor(rt.kBlue)\n",
    "h_h_dphi_0_20.SetLineWidth(3)\n",
    "h_h_dphi_0_20.GetYaxis().SetTitle(\"#frac{dN_{h-h}}{d#Delta#varphi}\")\n",
    "h_h_dphi_0_20.GetXaxis().SetTitleSize(0.05)\n",
    "h_h_dphi_0_20.GetXaxis().SetTitleOffset(0.5)"
   ]
  },
  {
   "cell_type": "code",
   "execution_count": null,
   "id": "cbec7216",
   "metadata": {},
   "outputs": [],
   "source": [
    "h_h_dphi_0_20_highest_pt = h_h_2d_mixcor_0_20_highest_pt.ProjectionY(\"h_h_dphi_0_20_highest_pt\")\n",
    "h_h_dphi_0_20_highest_pt.SetTitle(\"h-h #Delta#varphi distribution (0 - 20 multiplicty bin)\")\n",
    "h_h_dphi_0_20_highest_pt.SetLineColor(rt.kBlue)\n",
    "h_h_dphi_0_20_highest_pt.SetLineWidth(3)\n",
    "h_h_dphi_0_20_highest_pt.GetYaxis().SetTitle(\"#frac{dN_{h-h}}{d#Delta#varphi}\")\n",
    "h_h_dphi_0_20_highest_pt.GetXaxis().SetTitleSize(0.05)\n",
    "h_h_dphi_0_20_highest_pt.GetXaxis().SetTitleOffset(0.5)"
   ]
  },
  {
   "cell_type": "code",
   "execution_count": null,
   "id": "ff090331",
   "metadata": {},
   "outputs": [],
   "source": [
    "h_h_dphi_0_20.GetYaxis().SetRangeUser(h_h_dphi_0_20_highest_pt.GetMinimum()*0.9, \n",
    "                                       h_h_dphi_0_20.GetMaximum()*1.1)\n",
    "h_h_dphi_0_20_highest_pt.SetLineColor(rt.kGreen + 2)\n",
    "h_h_dphi_0_20.Draw()\n",
    "h_h_dphi_0_20_highest_pt.Draw(\"SAME\")\n",
    "c.Draw()"
   ]
  },
  {
   "cell_type": "code",
   "execution_count": null,
   "id": "f4230bfa",
   "metadata": {},
   "outputs": [],
   "source": [
    "if USE_AVG:\n",
    "    hh_ue_line_0_20 = rt.TF1(\"hh_ue_line_0_20\", \"pol0\", -2, 6)\n",
    "    hh_ue_upper_line_0_20 = rt.TF1(\"hh_ue_upper_line_0_20\", \"pol0\", -2, 6)\n",
    "    hh_ue_lower_line_0_20 = rt.TF1(\"hh_ue_lower_line_0_20\", \"pol0\", -2, 6)\n",
    "    hh_zero_line_0_20 = rt.TF1(\"hh_zero_line_0_20\", \"pol0\", -2, 6)\n",
    "    hh_zero_upper_line_0_20 = rt.TF1(\"hh_zero_upper_line_0_20\", \"pol0\", -2, 6)\n",
    "    hh_zero_lower_line_0_20 = rt.TF1(\"hh_zero_lower_line_0_20\", \"pol0\", -2, 6)\n",
    "    hh_ue_avg_0_20 = (h_h_dphi_0_20.GetBinContent(1) \n",
    "                   + h_h_dphi_0_20.GetBinContent(8)\n",
    "                   + h_h_dphi_0_20.GetBinContent(9)\n",
    "                   + h_h_dphi_0_20.GetBinContent(16))/4\n",
    "\n",
    "    hh_ue_avg_error_0_20 = (1/4)*(math.sqrt(h_h_dphi_0_20.GetBinError(1)**2 \n",
    "                   + h_h_dphi_0_20.GetBinError(8)**2\n",
    "                   + h_h_dphi_0_20.GetBinError(9)**2\n",
    "                   + h_h_dphi_0_20.GetBinError(16)**2))\n",
    "\n",
    "\n",
    "    hh_ue_line_0_20.SetParameter(0, hh_ue_avg_0_20)\n",
    "    hh_ue_line_0_20.SetLineColor(rt.kBlue)\n",
    "    hh_ue_line_0_20.SetLineWidth(3)\n",
    "    hh_ue_line_0_20.SetLineStyle(rt.kSolid)\n",
    "\n",
    "    hh_ue_upper_line_0_20.SetParameter(0, hh_ue_avg_0_20 + hh_ue_avg_error_0_20)\n",
    "    hh_ue_upper_line_0_20.SetLineColor(rt.kBlue)\n",
    "    hh_ue_upper_line_0_20.SetLineStyle(rt.kDashed)\n",
    "\n",
    "    hh_ue_lower_line_0_20.SetParameter(0, hh_ue_avg_0_20 - hh_ue_avg_error_0_20)\n",
    "    hh_ue_lower_line_0_20.SetLineColor(rt.kBlue)\n",
    "    hh_ue_lower_line_0_20.SetLineStyle(rt.kDashed)\n",
    "\n",
    "    hh_zero_line_0_20.SetParameter(0, 0)\n",
    "    hh_zero_line_0_20.SetLineColor(rt.kBlue)\n",
    "    hh_zero_line_0_20.SetLineWidth(3)\n",
    "    hh_zero_line_0_20.SetLineStyle(rt.kSolid)\n",
    "    hh_zero_upper_line_0_20.SetParameter(0, hh_ue_avg_error_0_20)\n",
    "    hh_zero_upper_line_0_20.SetLineColor(rt.kBlue)\n",
    "    hh_zero_upper_line_0_20.SetLineStyle(rt.kDashed)\n",
    "    hh_zero_lower_line_0_20.SetParameter(0, -hh_ue_avg_error_0_20)\n",
    "    hh_zero_lower_line_0_20.SetLineColor(rt.kBlue)\n",
    "    hh_zero_lower_line_0_20.SetLineStyle(rt.kDashed)\n",
    "elif USE_ZYAM:\n",
    "    hh_ue_line_0_20 = rt.TF1(\"hh_ue_line_0_20\", \"pol0\", -2, 6)\n",
    "    hh_ue_upper_line_0_20 = rt.TF1(\"hh_ue_upper_line_0_20\", \"pol0\", -2, 6)\n",
    "    hh_ue_lower_line_0_20 = rt.TF1(\"hh_ue_lower_line_0_20\", \"pol0\", -2, 6)\n",
    "    hh_zero_line_0_20 = rt.TF1(\"hh_zero_line_0_20\", \"pol0\", -2, 6)\n",
    "    hh_zero_upper_line_0_20 = rt.TF1(\"hh_zero_upper_line_0_20\", \"pol0\", -2, 6)\n",
    "    hh_zero_lower_line_0_20 = rt.TF1(\"hh_zero_lower_line_0_20\", \"pol0\", -2, 6)\n",
    "    \n",
    "    min_bin = h_h_dphi_0_20.GetMinimumBin()\n",
    "    hh_ue_avg_0_20 = h_h_dphi_0_20.GetBinContent(min_bin)\n",
    "    hh_ue_avg_error_0_20 = h_h_dphi_0_20.GetBinError(min_bin)\n",
    "\n",
    "    hh_ue_line_0_20.SetParameter(0, hh_ue_avg_0_20)\n",
    "    hh_ue_line_0_20.SetLineColor(rt.kBlue)\n",
    "    hh_ue_line_0_20.SetLineWidth(3)\n",
    "    hh_ue_line_0_20.SetLineStyle(rt.kSolid)\n",
    "\n",
    "    hh_ue_upper_line_0_20.SetParameter(0, hh_ue_avg_0_20 + hh_ue_avg_error_0_20)\n",
    "    hh_ue_upper_line_0_20.SetLineColor(rt.kBlue)\n",
    "    hh_ue_upper_line_0_20.SetLineStyle(rt.kDashed)\n",
    "\n",
    "    hh_ue_lower_line_0_20.SetParameter(0, hh_ue_avg_0_20 - hh_ue_avg_error_0_20)\n",
    "    hh_ue_lower_line_0_20.SetLineColor(rt.kBlue)\n",
    "    hh_ue_lower_line_0_20.SetLineStyle(rt.kDashed)\n",
    "\n",
    "    hh_zero_line_0_20.SetParameter(0, 0)\n",
    "    hh_zero_line_0_20.SetLineColor(rt.kBlue)\n",
    "    hh_zero_line_0_20.SetLineWidth(3)\n",
    "    hh_zero_line_0_20.SetLineStyle(rt.kSolid)\n",
    "    hh_zero_upper_line_0_20.SetParameter(0, hh_ue_avg_error_0_20)\n",
    "    hh_zero_upper_line_0_20.SetLineColor(rt.kBlue)\n",
    "    hh_zero_upper_line_0_20.SetLineStyle(rt.kDashed)\n",
    "    hh_zero_lower_line_0_20.SetParameter(0, -hh_ue_avg_error_0_20)\n",
    "    hh_zero_lower_line_0_20.SetLineColor(rt.kBlue)\n",
    "    hh_zero_lower_line_0_20.SetLineStyle(rt.kDashed)\n",
    "else:\n",
    "    raise NotImplementedError(\"UE line mode not supported\")"
   ]
  },
  {
   "cell_type": "code",
   "execution_count": null,
   "id": "28e5b07c",
   "metadata": {},
   "outputs": [],
   "source": [
    "if USE_AVG:\n",
    "    hh_ue_line_0_20_highest_pt = rt.TF1(\"hh_ue_line_0_20_highest_pt\", \"pol0\", -2, 6)\n",
    "    hh_ue_upper_line_0_20_highest_pt = rt.TF1(\"hh_ue_upper_line_0_20_highest_pt\", \"pol0\", -2, 6)\n",
    "    hh_ue_lower_line_0_20_highest_pt = rt.TF1(\"hh_ue_lower_line_0_20_highest_pt\", \"pol0\", -2, 6)\n",
    "    hh_zero_line_0_20_highest_pt = rt.TF1(\"hh_zero_line_0_20_highest_pt\", \"pol0\", -2, 6)\n",
    "    hh_zero_upper_line_0_20_highest_pt = rt.TF1(\"hh_zero_upper_line_0_20_highest_pt\", \"pol0\", -2, 6)\n",
    "    hh_zero_lower_line_0_20_highest_pt = rt.TF1(\"hh_zero_lower_line_0_20_highest_pt\", \"pol0\", -2, 6)\n",
    "    hh_ue_avg_0_20_highest_pt = (h_h_dphi_0_20_highest_pt.GetBinContent(1) \n",
    "                   + h_h_dphi_0_20_highest_pt.GetBinContent(8)\n",
    "                   + h_h_dphi_0_20_highest_pt.GetBinContent(9)\n",
    "                   + h_h_dphi_0_20_highest_pt.GetBinContent(16))/4\n",
    "\n",
    "    hh_ue_avg_error_0_20_highest_pt = (1/4)*(math.sqrt(h_h_dphi_0_20_highest_pt.GetBinError(1)**2 \n",
    "                   + h_h_dphi_0_20_highest_pt.GetBinError(8)**2\n",
    "                   + h_h_dphi_0_20_highest_pt.GetBinError(9)**2\n",
    "                   + h_h_dphi_0_20_highest_pt.GetBinError(16)**2))\n",
    "\n",
    "\n",
    "    hh_ue_line_0_20_highest_pt.SetParameter(0, hh_ue_avg_0_20_highest_pt)\n",
    "    hh_ue_line_0_20_highest_pt.SetLineColor(rt.kBlue)\n",
    "    hh_ue_line_0_20_highest_pt.SetLineWidth(3)\n",
    "    hh_ue_line_0_20_highest_pt.SetLineStyle(rt.kSolid)\n",
    "\n",
    "    hh_ue_upper_line_0_20_highest_pt.SetParameter(0, hh_ue_avg_0_20_highest_pt + hh_ue_avg_error_0_20_highest_pt)\n",
    "    hh_ue_upper_line_0_20_highest_pt.SetLineColor(rt.kBlue)\n",
    "    hh_ue_upper_line_0_20_highest_pt.SetLineStyle(rt.kDashed)\n",
    "\n",
    "    hh_ue_lower_line_0_20_highest_pt.SetParameter(0, hh_ue_avg_0_20_highest_pt - hh_ue_avg_error_0_20_highest_pt)\n",
    "    hh_ue_lower_line_0_20_highest_pt.SetLineColor(rt.kBlue)\n",
    "    hh_ue_lower_line_0_20_highest_pt.SetLineStyle(rt.kDashed)\n",
    "\n",
    "    hh_zero_line_0_20_highest_pt.SetParameter(0, 0)\n",
    "    hh_zero_line_0_20_highest_pt.SetLineColor(rt.kBlue)\n",
    "    hh_zero_line_0_20_highest_pt.SetLineWidth(3)\n",
    "    hh_zero_line_0_20_highest_pt.SetLineStyle(rt.kSolid)\n",
    "    hh_zero_upper_line_0_20_highest_pt.SetParameter(0, hh_ue_avg_error_0_20_highest_pt)\n",
    "    hh_zero_upper_line_0_20_highest_pt.SetLineColor(rt.kBlue)\n",
    "    hh_zero_upper_line_0_20_highest_pt.SetLineStyle(rt.kDashed)\n",
    "    hh_zero_lower_line_0_20_highest_pt.SetParameter(0, -hh_ue_avg_error_0_20_highest_pt)\n",
    "    hh_zero_lower_line_0_20_highest_pt.SetLineColor(rt.kBlue)\n",
    "    hh_zero_lower_line_0_20_highest_pt.SetLineStyle(rt.kDashed)\n",
    "elif USE_ZYAM:\n",
    "    hh_ue_line_0_20_highest_pt = rt.TF1(\"hh_ue_line_0_20_highest_pt\", \"pol0\", -2, 6)\n",
    "    hh_ue_upper_line_0_20_highest_pt = rt.TF1(\"hh_ue_upper_line_0_20_highest_pt\", \"pol0\", -2, 6)\n",
    "    hh_ue_lower_line_0_20_highest_pt = rt.TF1(\"hh_ue_lower_line_0_20_highest_pt\", \"pol0\", -2, 6)\n",
    "    hh_zero_line_0_20_highest_pt = rt.TF1(\"hh_zero_line_0_20_highest_pt\", \"pol0\", -2, 6)\n",
    "    hh_zero_upper_line_0_20_highest_pt = rt.TF1(\"hh_zero_upper_line_0_20_highest_pt\", \"pol0\", -2, 6)\n",
    "    hh_zero_lower_line_0_20_highest_pt = rt.TF1(\"hh_zero_lower_line_0_20_highest_pt\", \"pol0\", -2, 6)\n",
    "    \n",
    "    min_bin = h_h_dphi_0_20_highest_pt.GetMinimumBin()\n",
    "    hh_ue_avg_0_20_highest_pt = h_h_dphi_0_20_highest_pt.GetBinContent(min_bin)\n",
    "    hh_ue_avg_error_0_20_highest_pt = h_h_dphi_0_20_highest_pt.GetBinError(min_bin)\n",
    "\n",
    "    hh_ue_line_0_20_highest_pt.SetParameter(0, hh_ue_avg_0_20_highest_pt)\n",
    "    hh_ue_line_0_20_highest_pt.SetLineColor(rt.kBlue)\n",
    "    hh_ue_line_0_20_highest_pt.SetLineWidth(3)\n",
    "    hh_ue_line_0_20_highest_pt.SetLineStyle(rt.kSolid)\n",
    "\n",
    "    hh_ue_upper_line_0_20_highest_pt.SetParameter(0, hh_ue_avg_0_20_highest_pt + hh_ue_avg_error_0_20_highest_pt)\n",
    "    hh_ue_upper_line_0_20_highest_pt.SetLineColor(rt.kBlue)\n",
    "    hh_ue_upper_line_0_20_highest_pt.SetLineStyle(rt.kDashed)\n",
    "\n",
    "    hh_ue_lower_line_0_20_highest_pt.SetParameter(0, hh_ue_avg_0_20_highest_pt - hh_ue_avg_error_0_20_highest_pt)\n",
    "    hh_ue_lower_line_0_20_highest_pt.SetLineColor(rt.kBlue)\n",
    "    hh_ue_lower_line_0_20_highest_pt.SetLineStyle(rt.kDashed)\n",
    "\n",
    "    hh_zero_line_0_20_highest_pt.SetParameter(0, 0)\n",
    "    hh_zero_line_0_20_highest_pt.SetLineColor(rt.kBlue)\n",
    "    hh_zero_line_0_20_highest_pt.SetLineWidth(3)\n",
    "    hh_zero_line_0_20_highest_pt.SetLineStyle(rt.kSolid)\n",
    "    hh_zero_upper_line_0_20_highest_pt.SetParameter(0, hh_ue_avg_error_0_20_highest_pt)\n",
    "    hh_zero_upper_line_0_20_highest_pt.SetLineColor(rt.kBlue)\n",
    "    hh_zero_upper_line_0_20_highest_pt.SetLineStyle(rt.kDashed)\n",
    "    hh_zero_lower_line_0_20_highest_pt.SetParameter(0, -hh_ue_avg_error_0_20_highest_pt)\n",
    "    hh_zero_lower_line_0_20_highest_pt.SetLineColor(rt.kBlue)\n",
    "    hh_zero_lower_line_0_20_highest_pt.SetLineStyle(rt.kDashed)\n",
    "else:\n",
    "    raise NotImplementedError(\"UE line mode not supported\")"
   ]
  },
  {
   "cell_type": "code",
   "execution_count": null,
   "id": "8e4ca459",
   "metadata": {},
   "outputs": [],
   "source": [
    "min_bin = h_h_dphi_0_20.GetMinimumBin()\n",
    "min_val = h_h_dphi_0_20.GetBinContent(min_bin)\n",
    "max_bin = h_h_dphi_0_20.GetMaximumBin()\n",
    "max_val = h_h_dphi_0_20.GetBinContent(max_bin)\n",
    "\n",
    "h_h_dphi_0_20.GetYaxis().SetRangeUser(0.85*min_val, 1.15*max_val)\n",
    "\n",
    "h_h_dphi_0_20.Draw()\n",
    "hh_ue_line_0_20.Draw(\"SAME\")\n",
    "hh_ue_upper_line_0_20.Draw(\"SAME\")\n",
    "hh_ue_lower_line_0_20.Draw(\"SAME\")\n",
    "c.Draw()"
   ]
  },
  {
   "cell_type": "code",
   "execution_count": null,
   "id": "49681c12",
   "metadata": {},
   "outputs": [],
   "source": [
    "h_h_dphi_0_20.GetYaxis().SetRangeUser(0, h_h_dphi_0_20.GetMaximum()*1.1)\n",
    "h_h_dphi_0_20.Draw()\n",
    "hh_ue_line_0_20.Draw(\"SAME\")\n",
    "hh_ue_upper_line_0_20.Draw(\"SAME\")\n",
    "hh_ue_lower_line_0_20.Draw(\"SAME\")\n",
    "c.Draw()"
   ]
  },
  {
   "cell_type": "code",
   "execution_count": null,
   "id": "b73a5188",
   "metadata": {},
   "outputs": [],
   "source": [
    "h_h_dphi_0_20_zeroed = h_h_dphi_0_20.Clone(\"h_h_dphi_0_20_zeroed\")\n",
    "h_h_dphi_0_20_zeroed.SetTitle(\"h-h #Delta#varphi distribution (UE subtracted, 0 - 20 multiplicity bin)\")\n",
    "h_h_dphi_0_20_zeroed.Add(hh_ue_line_0_20, -1)\n",
    "h_h_dphi_0_20_zeroed.Draw()\n",
    "hh_zero_line_0_20.Draw(\"SAME\")\n",
    "hh_zero_upper_line_0_20.Draw(\"SAME\")\n",
    "hh_zero_lower_line_0_20.Draw(\"SAME\")\n",
    "c.Draw()"
   ]
  },
  {
   "cell_type": "code",
   "execution_count": null,
   "id": "205136a5",
   "metadata": {},
   "outputs": [],
   "source": [
    "h_h_total_integral_0_20 = 0\n",
    "h_h_near_integral_0_20 = 0\n",
    "h_h_away_integral_0_20 = 0\n",
    "h_h_ue_integral_0_20 = hh_ue_avg_0_20*DPHI_BINS\n",
    "\n",
    "h_h_total_integral_error_0_20 = 0\n",
    "h_h_near_integral_error_0_20 = 0\n",
    "h_h_away_integral_error_0_20 = 0\n",
    "h_h_ue_integral_error_0_20 = hh_ue_avg_error_0_20*DPHI_BINS\n",
    "\n",
    "for bin_num in range(1, DPHI_BINS + 1):\n",
    "    h_h_total_integral_0_20 += h_h_dphi_0_20.GetBinContent(bin_num)\n",
    "    h_h_total_integral_error_0_20 += h_h_dphi_0_20.GetBinError(bin_num)**2\n",
    "    part = h_h_dphi_0_20.GetBinContent(bin_num) - hh_ue_avg_0_20\n",
    "    if part < 0:\n",
    "        continue\n",
    "    if bin_num < 9:\n",
    "        h_h_near_integral_0_20 += part\n",
    "        h_h_near_integral_error_0_20 += h_h_dphi_0_20.GetBinError(bin_num)**2\n",
    "        h_h_near_integral_error_0_20 += hh_ue_avg_error_0_20**2\n",
    "    else:\n",
    "        h_h_away_integral_0_20 += part\n",
    "        h_h_away_integral_error_0_20 += h_h_dphi_0_20.GetBinError(bin_num)**2\n",
    "        h_h_away_integral_error_0_20 += hh_ue_avg_error_0_20**2\n",
    "h_h_total_integral_error_0_20 = math.sqrt(h_h_total_integral_error_0_20)\n",
    "h_h_near_integral_error_0_20 = math.sqrt(h_h_near_integral_error_0_20)\n",
    "h_h_away_integral_error_0_20 = math.sqrt(h_h_away_integral_error_0_20)"
   ]
  },
  {
   "cell_type": "code",
   "execution_count": null,
   "id": "4d08c464",
   "metadata": {},
   "outputs": [],
   "source": [
    "h_h_total_integral_0_20_highest_pt = 0\n",
    "h_h_near_integral_0_20_highest_pt = 0\n",
    "h_h_away_integral_0_20_highest_pt = 0\n",
    "h_h_ue_integral_0_20_highest_pt = hh_ue_avg_0_20_highest_pt*DPHI_BINS\n",
    "\n",
    "h_h_total_integral_error_0_20_highest_pt = 0\n",
    "h_h_near_integral_error_0_20_highest_pt = 0\n",
    "h_h_away_integral_error_0_20_highest_pt = 0\n",
    "h_h_ue_integral_error_0_20_highest_pt = hh_ue_avg_error_0_20_highest_pt*DPHI_BINS\n",
    "\n",
    "for bin_num in range(1, DPHI_BINS + 1):\n",
    "    h_h_total_integral_0_20_highest_pt += h_h_dphi_0_20_highest_pt.GetBinContent(bin_num)\n",
    "    h_h_total_integral_error_0_20_highest_pt += h_h_dphi_0_20_highest_pt.GetBinError(bin_num)**2\n",
    "    part = h_h_dphi_0_20_highest_pt.GetBinContent(bin_num) - hh_ue_avg_0_20_highest_pt\n",
    "    if part < 0:\n",
    "        continue\n",
    "    if bin_num < 9:\n",
    "        h_h_near_integral_0_20_highest_pt += part\n",
    "        h_h_near_integral_error_0_20_highest_pt += h_h_dphi_0_20_highest_pt.GetBinError(bin_num)**2\n",
    "        h_h_near_integral_error_0_20_highest_pt += hh_ue_avg_error_0_20_highest_pt**2\n",
    "    else:\n",
    "        h_h_away_integral_0_20_highest_pt += part\n",
    "        h_h_away_integral_error_0_20_highest_pt += h_h_dphi_0_20_highest_pt.GetBinError(bin_num)**2\n",
    "        h_h_away_integral_error_0_20_highest_pt += hh_ue_avg_error_0_20_highest_pt**2\n",
    "h_h_total_integral_error_0_20_highest_pt = math.sqrt(h_h_total_integral_error_0_20_highest_pt)\n",
    "h_h_near_integral_error_0_20_highest_pt = math.sqrt(h_h_near_integral_error_0_20_highest_pt)\n",
    "h_h_away_integral_error_0_20_highest_pt = math.sqrt(h_h_away_integral_error_0_20_highest_pt)"
   ]
  },
  {
   "cell_type": "code",
   "execution_count": null,
   "id": "8129d868",
   "metadata": {},
   "outputs": [],
   "source": [
    "near_ratio_0_20 = h_lambda_near_integral_0_20/h_h_near_integral_0_20\n",
    "away_ratio_0_20 = h_lambda_away_integral_0_20/h_h_away_integral_0_20\n",
    "ue_ratio_0_20 = h_lambda_ue_integral_0_20/h_h_ue_integral_0_20\n",
    "total_ratio_0_20 = h_lambda_total_integral_0_20/h_h_total_integral_0_20\n",
    "\n",
    "near_ratio_error_0_20 = near_ratio_0_20*math.sqrt((h_lambda_near_integral_error_0_20/h_lambda_near_integral_0_20)**2\n",
    "                                                 + (h_h_near_integral_error_0_20/h_h_near_integral_0_20)**2)\n",
    "away_ratio_error_0_20 = away_ratio_0_20*math.sqrt((h_lambda_away_integral_error_0_20/h_lambda_away_integral_0_20)**2\n",
    "                                                 + (h_h_away_integral_error_0_20/h_h_away_integral_0_20)**2)\n",
    "ue_ratio_error_0_20 = ue_ratio_0_20*math.sqrt((h_lambda_ue_integral_error_0_20/h_lambda_ue_integral_0_20)**2\n",
    "                                                 + (h_h_ue_integral_error_0_20/h_h_ue_integral_0_20)**2)\n",
    "total_ratio_error_0_20 = total_ratio_0_20*math.sqrt((h_lambda_total_integral_error_0_20/h_lambda_total_integral_0_20)**2\n",
    "                                                 + (h_h_total_integral_error_0_20/h_h_total_integral_0_20)**2)"
   ]
  },
  {
   "cell_type": "code",
   "execution_count": null,
   "id": "01e2ca74",
   "metadata": {},
   "outputs": [],
   "source": [
    "near_ratio_0_20_highest_pt = h_lambda_near_integral_0_20_highest_pt/h_h_near_integral_0_20_highest_pt\n",
    "away_ratio_0_20_highest_pt = h_lambda_away_integral_0_20_highest_pt/h_h_away_integral_0_20_highest_pt\n",
    "ue_ratio_0_20_highest_pt = h_lambda_ue_integral_0_20_highest_pt/h_h_ue_integral_0_20_highest_pt\n",
    "total_ratio_0_20_highest_pt = h_lambda_total_integral_0_20_highest_pt/h_h_total_integral_0_20_highest_pt\n",
    "\n",
    "near_ratio_error_0_20_highest_pt = near_ratio_0_20_highest_pt*math.sqrt((h_lambda_near_integral_error_0_20_highest_pt/h_lambda_near_integral_0_20_highest_pt)**2\n",
    "                                                 + (h_h_near_integral_error_0_20_highest_pt/h_h_near_integral_0_20_highest_pt)**2)\n",
    "away_ratio_error_0_20_highest_pt = away_ratio_0_20_highest_pt*math.sqrt((h_lambda_away_integral_error_0_20_highest_pt/h_lambda_away_integral_0_20_highest_pt)**2\n",
    "                                                 + (h_h_away_integral_error_0_20_highest_pt/h_h_away_integral_0_20_highest_pt)**2)\n",
    "ue_ratio_error_0_20_highest_pt = ue_ratio_0_20_highest_pt*math.sqrt((h_lambda_ue_integral_error_0_20_highest_pt/h_lambda_ue_integral_0_20_highest_pt)**2\n",
    "                                                 + (h_h_ue_integral_error_0_20_highest_pt/h_h_ue_integral_0_20_highest_pt)**2)\n",
    "total_ratio_error_0_20_highest_pt = total_ratio_0_20_highest_pt*math.sqrt((h_lambda_total_integral_error_0_20_highest_pt/h_lambda_total_integral_0_20_highest_pt)**2\n",
    "                                                 + (h_h_total_integral_error_0_20_highest_pt/h_h_total_integral_0_20_highest_pt)**2)"
   ]
  },
  {
   "cell_type": "markdown",
   "id": "dc3f804f",
   "metadata": {},
   "source": [
    "# 20 - 50 setup"
   ]
  },
  {
   "cell_type": "code",
   "execution_count": null,
   "id": "22a04b21",
   "metadata": {},
   "outputs": [],
   "source": [
    "input_file_20_50 = rt.TFile(\"~/OneDrive/Research/Output/lambda-over-hadron/data/cent_20_50_v2.root\")\n",
    "input_list_20_50 = input_file_20_50.Get(\"h-lambda\")\n",
    "input_file_20_50.Close()"
   ]
  },
  {
   "cell_type": "code",
   "execution_count": null,
   "id": "26c45d7e",
   "metadata": {},
   "outputs": [],
   "source": [
    "trig_dist_20_50 = input_list_20_50.FindObject(\"fTriggerDistEff\")\n",
    "lambda_dist_20_50 = input_list_20_50.FindObject(\"fTriggeredLambdaDist\")"
   ]
  },
  {
   "cell_type": "code",
   "execution_count": null,
   "id": "1acfecea",
   "metadata": {},
   "outputs": [],
   "source": [
    "#trig_dist_20_50_highest_pt = input_list_20_50.FindObject(\"fTriggerDistEff_highestPt\")\n",
    "trig_dist_20_50_highest_pt = input_list_20_50.FindObject(\"fTriggerDistEff\")"
   ]
  },
  {
   "cell_type": "code",
   "execution_count": null,
   "id": "0c8c1957",
   "metadata": {},
   "outputs": [],
   "source": [
    "h_h_20_50 = input_list_20_50.FindObject(\"fDphiHHEff\")\n",
    "h_h_20_50_noeff = input_list_20_50.FindObject(\"fDphiHH\")\n",
    "h_h_mixed_20_50 = input_list_20_50.FindObject(\"fDphiHHMixed\")"
   ]
  },
  {
   "cell_type": "code",
   "execution_count": null,
   "id": "3455068a",
   "metadata": {},
   "outputs": [],
   "source": [
    "#h_h_20_50_highest_pt = input_list_20_50.FindObject(\"fDphiHHEff_highestPt\")\n",
    "h_h_20_50_highest_pt = input_list_20_50.FindObject(\"fDphiHHEff\")\n",
    "#h_h_mixed_20_50_highest_pt = input_list_20_50.FindObject(\"fDphiHHMixed_highestPt\")\n",
    "h_h_mixed_20_50_highest_pt = input_list_20_50.FindObject(\"fDphiHHMixed\")"
   ]
  },
  {
   "cell_type": "code",
   "execution_count": null,
   "id": "2353dc9f",
   "metadata": {},
   "outputs": [],
   "source": [
    "h_lambda_20_50 = input_list_20_50.FindObject(\"fDphiHLambdaEff\")\n",
    "h_lambda_ls_20_50 = input_list_20_50.FindObject(\"fDphiHLambdaLS\")\n",
    "h_lambda_mixed_20_50 = input_list_20_50.FindObject(\"fDphiHLambdaMixed\")\n",
    "h_lambda_ls_mixed_20_50 = input_list_20_50.FindObject(\"fDphiHLambdaLSMixed\")"
   ]
  },
  {
   "cell_type": "code",
   "execution_count": null,
   "id": "3ccb8950",
   "metadata": {},
   "outputs": [],
   "source": [
    "h_lambda_mixed_20_50_highest_pt = input_list_20_50.FindObject(\"fDphiHLambdaMixed\")\n",
    "#h_lambda_mixed_20_50_highest_pt = input_list_20_50.FindObject(\"fDphiHLambdaMixed_highestPt\")\n",
    "h_lambda_20_50_highest_pt = input_list_20_50.FindObject(\"fDphiHLambdaEff\")\n",
    "#h_lambda_20_50_highest_pt = input_list_20_50.FindObject(\"fDphiHLambdaEff_highestPt\")"
   ]
  },
  {
   "cell_type": "code",
   "execution_count": null,
   "id": "b9a475b8",
   "metadata": {},
   "outputs": [],
   "source": [
    "# Setting the trigger Pt (this is never changed again)\n",
    "trig_dist_20_50.GetAxis(0).SetRangeUser(TRIG_PT_LOW, TRIG_PT_HIGH)\n",
    "trig_dist_20_50_highest_pt.GetAxis(0).SetRangeUser(TRIG_PT_LOW, TRIG_PT_HIGH)\n",
    "h_h_20_50.GetAxis(0).SetRangeUser(TRIG_PT_LOW, TRIG_PT_HIGH)\n",
    "h_h_20_50_highest_pt.GetAxis(0).SetRangeUser(TRIG_PT_LOW, TRIG_PT_HIGH)\n",
    "h_h_20_50_noeff.GetAxis(0).SetRangeUser(TRIG_PT_LOW, TRIG_PT_HIGH)\n",
    "h_h_mixed_20_50.GetAxis(0).SetRangeUser(TRIG_PT_LOW, TRIG_PT_HIGH)\n",
    "h_h_mixed_20_50_highest_pt.GetAxis(0).SetRangeUser(TRIG_PT_LOW, TRIG_PT_HIGH)\n",
    "h_lambda_20_50.GetAxis(0).SetRangeUser(TRIG_PT_LOW, TRIG_PT_HIGH)\n",
    "h_lambda_20_50_highest_pt.GetAxis(0).SetRangeUser(TRIG_PT_LOW, TRIG_PT_HIGH)\n",
    "h_lambda_ls_20_50.GetAxis(0).SetRangeUser(TRIG_PT_LOW, TRIG_PT_HIGH)\n",
    "h_lambda_mixed_20_50.GetAxis(0).SetRangeUser(TRIG_PT_LOW, TRIG_PT_HIGH)\n",
    "h_lambda_mixed_20_50_highest_pt.GetAxis(0).SetRangeUser(TRIG_PT_LOW, TRIG_PT_HIGH)\n",
    "h_lambda_ls_mixed_20_50.GetAxis(0).SetRangeUser(TRIG_PT_LOW, TRIG_PT_HIGH)"
   ]
  },
  {
   "cell_type": "code",
   "execution_count": null,
   "id": "ea43b438",
   "metadata": {},
   "outputs": [],
   "source": [
    "# Setting the associated Pt (this is never changed again)\n",
    "lambda_dist_20_50.GetAxis(0).SetRangeUser(ASSOC_PT_LOW, ASSOC_PT_HIGH)\n",
    "h_h_20_50.GetAxis(1).SetRangeUser(ASSOC_PT_LOW, ASSOC_PT_HIGH)\n",
    "h_h_20_50_highest_pt.GetAxis(1).SetRangeUser(ASSOC_PT_LOW, ASSOC_PT_HIGH)\n",
    "h_h_20_50_noeff.GetAxis(1).SetRangeUser(ASSOC_PT_LOW, ASSOC_PT_HIGH)\n",
    "h_h_mixed_20_50_highest_pt.GetAxis(1).SetRangeUser(ASSOC_PT_LOW, ASSOC_PT_HIGH)\n",
    "h_lambda_20_50.GetAxis(1).SetRangeUser(ASSOC_PT_LOW, ASSOC_PT_HIGH)\n",
    "h_lambda_20_50_highest_pt.GetAxis(1).SetRangeUser(ASSOC_PT_LOW, ASSOC_PT_HIGH)\n",
    "h_lambda_ls_20_50.GetAxis(1).SetRangeUser(ASSOC_PT_LOW, ASSOC_PT_HIGH)\n",
    "h_lambda_mixed_20_50.GetAxis(1).SetRangeUser(ASSOC_PT_LOW, ASSOC_PT_HIGH)\n",
    "h_lambda_mixed_20_50_highest_pt.GetAxis(1).SetRangeUser(ASSOC_PT_LOW, ASSOC_PT_HIGH)\n",
    "h_lambda_ls_mixed_20_50.GetAxis(1).SetRangeUser(ASSOC_PT_LOW, ASSOC_PT_HIGH)"
   ]
  },
  {
   "cell_type": "code",
   "execution_count": null,
   "id": "a3ad1521",
   "metadata": {},
   "outputs": [],
   "source": [
    "trig_pt_dist_20_50 = trig_dist_20_50.Projection(0).Clone(\"trig_pt_dist_20_50\")\n",
    "trig_phi_dist_20_50 = trig_dist_20_50.Projection(1).Clone(\"trig_phi_dist_20_50\")\n",
    "trig_eta_dist_20_50 = trig_dist_20_50.Projection(2).Clone(\"trig_eta_dist_20_50\")\n",
    "trig_2d_dist_20_50 = trig_dist_20_50.Projection(0, 3).Clone(\"trig_2d_dist_20_50\")\n",
    "\n",
    "trig_pt_dist_20_50.SetTitle(\"Trigger #font[12]{p}_{T} Distribution (red: all, blue: highest)\")\n",
    "trig_pt_dist_20_50.Sumw2()\n",
    "trig_pt_dist_20_50.SetLineColor(rt.kRed)\n",
    "\n",
    "trig_phi_dist_20_50.SetTitle(\"Trigger #varphi Distribution (Hybrid GCG)\")\n",
    "trig_phi_dist_20_50.Sumw2()\n",
    "trig_phi_dist_20_50.SetLineColor(rt.kRed)\n",
    "\n",
    "trig_eta_dist_20_50.SetTitle(\"Trigger #eta Distribution (Hybrid GCG)\")\n",
    "trig_eta_dist_20_50.Sumw2()\n",
    "trig_eta_dist_20_50.SetLineColor(rt.kRed)"
   ]
  },
  {
   "cell_type": "code",
   "execution_count": null,
   "id": "c25de84c",
   "metadata": {},
   "outputs": [],
   "source": [
    "trig_pt_dist_20_50_highest_pt = trig_dist_20_50_highest_pt.Projection(0).Clone(\"trig_pt_dist_20_50_highest_pt\")\n",
    "trig_phi_dist_20_50_highest_pt = trig_dist_20_50_highest_pt.Projection(1).Clone(\"trig_phi_dist_20_50_highest_pt\")\n",
    "trig_eta_dist_20_50_highest_pt = trig_dist_20_50_highest_pt.Projection(2).Clone(\"trig_eta_dist_20_50_highest_pt\")\n",
    "trig_2d_dist_20_50_highest_pt = trig_dist_20_50_highest_pt.Projection(0, 3).Clone(\"trig_2d_dist_20_50_highest_pt\")\n",
    "\n",
    "trig_pt_dist_20_50_highest_pt.SetTitle(\"Trigger #font[12]{p}_{T} Distribution (red: all, blue: highest)\")\n",
    "trig_pt_dist_20_50_highest_pt.Sumw2()\n",
    "trig_pt_dist_20_50_highest_pt.SetLineColor(rt.kRed)\n",
    "\n",
    "trig_phi_dist_20_50_highest_pt.SetTitle(\"Trigger #varphi Distribution (Hybrid GCG)\")\n",
    "trig_phi_dist_20_50_highest_pt.Sumw2()\n",
    "trig_phi_dist_20_50_highest_pt.SetLineColor(rt.kRed)\n",
    "\n",
    "trig_eta_dist_20_50_highest_pt.SetTitle(\"Trigger #eta Distribution (Hybrid GCG)\")\n",
    "trig_eta_dist_20_50_highest_pt.Sumw2()\n",
    "trig_eta_dist_20_50_highest_pt.SetLineColor(rt.kRed)"
   ]
  },
  {
   "cell_type": "code",
   "execution_count": null,
   "id": "fca13b71",
   "metadata": {},
   "outputs": [],
   "source": [
    "num_trigs_20_50 = trig_2d_dist_20_50.Integral()\n",
    "num_trigs_20_50_highest_pt = trig_2d_dist_20_50_highest_pt.Integral()"
   ]
  },
  {
   "cell_type": "code",
   "execution_count": null,
   "id": "e8269ca7",
   "metadata": {},
   "outputs": [],
   "source": [
    "trig_pt_dist_20_50.Draw()\n",
    "trig_pt_dist_20_50_highest_pt.SetLineColor(rt.kBlue)\n",
    "trig_pt_dist_20_50_highest_pt.Draw(\"SAME\")\n",
    "c.Draw()"
   ]
  },
  {
   "cell_type": "code",
   "execution_count": null,
   "id": "0ab0086c",
   "metadata": {},
   "outputs": [],
   "source": [
    "trig_pt_dist_20_50.Scale(1/num_trigs_20_50)\n",
    "trig_pt_dist_20_50_highest_pt.Scale(1/num_trigs_20_50_highest_pt)"
   ]
  },
  {
   "cell_type": "code",
   "execution_count": null,
   "id": "b05f4552",
   "metadata": {},
   "outputs": [],
   "source": [
    "trig_pt_dist_20_50.SetTitle(\"Trigger p_{T} distribution (red: all, blue:highest, normalized)\")\n",
    "trig_pt_dist_20_50.Draw()\n",
    "trig_pt_dist_20_50_highest_pt.SetLineColor(rt.kBlue)\n",
    "trig_pt_dist_20_50_highest_pt.Draw(\"SAME\")\n",
    "c.Draw()"
   ]
  },
  {
   "cell_type": "code",
   "execution_count": null,
   "id": "7514cd1f",
   "metadata": {},
   "outputs": [],
   "source": [
    "trig_eta_dist_20_50.Draw()\n",
    "c.Draw()"
   ]
  },
  {
   "cell_type": "code",
   "execution_count": null,
   "id": "3eb7facc",
   "metadata": {},
   "outputs": [],
   "source": [
    "trig_phi_dist_20_50.Draw()\n",
    "c.Draw()"
   ]
  },
  {
   "cell_type": "markdown",
   "id": "721cbac4",
   "metadata": {},
   "source": [
    "### Signal analysis section"
   ]
  },
  {
   "cell_type": "code",
   "execution_count": null,
   "id": "fdcdbd75",
   "metadata": {},
   "outputs": [],
   "source": [
    "# eta cuts first\n",
    "lambda_dist_20_50.GetAxis(2).SetRangeUser(-0.8, 0.8)\n",
    "lambda_mass_dist_20_50 = lambda_dist_20_50.Projection(3).Clone(\"lambda_mass_dist_20_50\")"
   ]
  },
  {
   "cell_type": "code",
   "execution_count": null,
   "id": "70b12e10",
   "metadata": {},
   "outputs": [],
   "source": [
    "lambda_mass_dist_20_50.SetTitle(\"#Lambda^{0} invariant mass distribution (p-#pi)\")\n",
    "lambda_mass_dist_20_50.Sumw2()\n",
    "lambda_mass_dist_20_50.SetLineWidth(2)\n",
    "lambda_mass_dist_20_50.GetXaxis().SetTitle(\"Mass (GeV/c^{2})\")\n",
    "lambda_mass_dist_20_50.GetYaxis().SetTitle(\"#frac{dN_{p-#pi}}{dM}\")"
   ]
  },
  {
   "cell_type": "code",
   "execution_count": null,
   "id": "140f3f64",
   "metadata": {},
   "outputs": [],
   "source": [
    "lambda_mass_dist_20_50.Draw()\n",
    "c.Draw()"
   ]
  },
  {
   "cell_type": "code",
   "execution_count": null,
   "id": "0c964db7",
   "metadata": {},
   "outputs": [],
   "source": [
    "bin_1 = lambda_mass_dist_20_50.FindBin(1.09)\n",
    "bin_2 = lambda_mass_dist_20_50.FindBin(1.15)\n",
    "bin_3 = lambda_mass_dist_20_50.FindBin(1.16 - EPSILON)\n",
    "point_one = [1.09, lambda_mass_dist_20_50.GetBinContent(bin_1)]\n",
    "point_two = [1.15, lambda_mass_dist_20_50.GetBinContent(bin_2)]\n",
    "point_three = [1.16, lambda_mass_dist_20_50.GetBinContent(bin_3)]\n",
    "bg_starting_params_20_50 = get_parabola(point_one, point_two, point_three)"
   ]
  },
  {
   "cell_type": "code",
   "execution_count": null,
   "id": "c22e13a3",
   "metadata": {},
   "outputs": [],
   "source": [
    "lambda_mass_fit_20_50 = rt.TF1(\"lambda_mass_fit_20_50\", \"[0]*TMath::Voigt(x - [1], [2], [3], 4) + pol2(4)\", 1.09, 1.155)\n",
    "lambda_mass_fit_20_50.SetNpx(1000)\n",
    "lambda_mass_fit_20_50.SetParameter(0, 1.36753e01)\n",
    "lambda_mass_fit_20_50.FixParameter(1, 1.11581)\n",
    "lambda_mass_fit_20_50.SetParameter(2, 1.00576e-05 )\n",
    "lambda_mass_fit_20_50.SetParameter(3, 6.04166e-03)\n",
    "lambda_mass_fit_20_50.SetParameter(4, bg_starting_params_20_50[0])\n",
    "lambda_mass_fit_20_50.SetParameter(5, bg_starting_params_20_50[1])\n",
    "lambda_mass_fit_20_50.SetParameter(6, bg_starting_params_20_50[2])"
   ]
  },
  {
   "cell_type": "code",
   "execution_count": null,
   "id": "37ec12ae",
   "metadata": {},
   "outputs": [],
   "source": [
    "lambda_mass_dist_fit_20_50 = lambda_mass_dist_20_50.Clone(\"lambda_mass_dist_fit_20_50\")\n",
    "lambda_mass_dist_fit_20_50.Fit(lambda_mass_fit_20_50, \"RS\")\n",
    "lambda_mass_dist_fit_20_50.Draw()\n",
    "c.Draw()"
   ]
  },
  {
   "cell_type": "code",
   "execution_count": null,
   "id": "f5a5277c",
   "metadata": {},
   "outputs": [],
   "source": [
    "bg_fit_20_50 = rt.TF1(\"bg_fit_20_50\", \"pol2\", 1.09, 1.15)\n",
    "bg_fit_20_50.SetParameter(0, lambda_mass_fit_20_50.GetParameter(4))\n",
    "bg_fit_20_50.SetParameter(1, lambda_mass_fit_20_50.GetParameter(5))\n",
    "bg_fit_20_50.SetParameter(2, lambda_mass_fit_20_50.GetParameter(6))\n",
    "bg_fit_20_50.SetNpx(1000)\n",
    "bg_fit_20_50.SetLineColor(rt.kMagenta)\n",
    "lambda_mass_dist_fit_20_50.Draw()\n",
    "bg_fit_20_50.Draw(\"SAME\")\n",
    "c.Draw()"
   ]
  },
  {
   "cell_type": "code",
   "execution_count": null,
   "id": "ab020566",
   "metadata": {},
   "outputs": [],
   "source": [
    "left_signal_bin_20_50 = lambda_mass_dist_fit_20_50.FindBin(SIG_MIN)\n",
    "right_signal_bin_20_50 = lambda_mass_dist_fit_20_50.FindBin(SIG_MAX)\n",
    "\n",
    "lambda_bg_20_50 = 0\n",
    "lambda_total_20_50 = 0\n",
    "for bin_num in range(left_signal_bin_20_50, right_signal_bin_20_50 + 1):\n",
    "    bin_center = lambda_mass_dist_fit_20_50.GetBinCenter(bin_num)\n",
    "    lambda_bg_20_50 += bg_fit_20_50.Eval(bin_center)\n",
    "    lambda_total_20_50 += lambda_mass_dist_fit_20_50.GetBinContent(bin_num)\n",
    "\n",
    "lambda_signal_20_50 = lambda_total_20_50 - lambda_bg_20_50\n",
    "lambda_signal_total_ratio_20_50 = lambda_signal_20_50/lambda_total_20_50\n",
    "lambda_signal_bg_ratio_20_50 = lambda_signal_20_50/lambda_bg_20_50\n",
    "print(f\"The 20-50 lambda signal is: {lambda_signal_20_50}\")\n",
    "print(f\"The 20-50 lambda background is: {lambda_bg_20_50}\")\n",
    "print(f\"The 20-50 lambda S/B is: {lambda_signal_bg_ratio_20_50}\")\n",
    "print(f\"The 20-50 lambda S/T is: {lambda_signal_total_ratio_20_50}\")\n",
    "print(f\"The 20-50 lambda significance is: {lambda_signal_20_50/math.sqrt(lambda_signal_20_50 + lambda_bg_20_50)}\")"
   ]
  },
  {
   "cell_type": "markdown",
   "id": "8e59c6a3",
   "metadata": {},
   "source": [
    "### Mixed event correction section"
   ]
  },
  {
   "cell_type": "code",
   "execution_count": null,
   "id": "6722b880",
   "metadata": {},
   "outputs": [],
   "source": [
    "axes = arr.array('i', [2, 3, 4, 5])\n",
    "h_lambda_20_50 = h_lambda_20_50.Projection(4, axes)\n",
    "h_lambda_20_50_highest_pt = h_lambda_20_50_highest_pt.Projection(4, axes)\n",
    "h_lambda_ls_20_50 = h_lambda_ls_20_50.Projection(4, axes)\n",
    "h_lambda_mixed_20_50 = h_lambda_mixed_20_50.Projection(4, axes)\n",
    "h_lambda_mixed_20_50_highest_pt = h_lambda_mixed_20_50_highest_pt.Projection(4, axes)\n",
    "h_lambda_ls_mixed_20_50 = h_lambda_ls_mixed_20_50.Projection(4, axes)"
   ]
  },
  {
   "cell_type": "code",
   "execution_count": null,
   "id": "d7ad88a6",
   "metadata": {},
   "outputs": [],
   "source": [
    "h_h_20_50 = h_h_20_50.Projection(2, 3, 4)\n",
    "h_h_20_50_highest_pt = h_h_20_50_highest_pt.Projection(2, 3, 4)\n",
    "h_h_mixed_20_50 = h_h_mixed_20_50.Projection(2, 3, 4)\n",
    "h_h_mixed_20_50_highest_pt = h_h_mixed_20_50_highest_pt.Projection(2, 3, 4)"
   ]
  },
  {
   "cell_type": "code",
   "execution_count": null,
   "id": "c81756fe",
   "metadata": {},
   "outputs": [],
   "source": [
    "# Setting up 2-d correlation plots before the mixed event correction\n",
    "h_lambda_2d_nomixcor_20_50 = h_lambda_20_50.Projection(0, 1).Clone(\"h_lambda_2d_nomixcor_20_50\")\n",
    "h_lambda_2d_nomixcor_20_50_highest_pt = h_lambda_20_50_highest_pt.Projection(0, 1).Clone(\"h_lambda_2d_nomixcor_20_50_highest_pt\")\n",
    "h_lambda_ls_2d_nomixcor_20_50 = h_lambda_ls_20_50.Projection(0, 1).Clone(\"h_lambda_ls_2d_nomixcor_20_50\")\n",
    "h_lambda_mixed_2d_20_50 = h_lambda_mixed_20_50.Projection(0, 1).Clone(\"h_lambda_mixed_2d_20_50\")\n",
    "h_lambda_mixed_2d_20_50_highest_pt = h_lambda_mixed_20_50_highest_pt.Projection(0, 1).Clone(\"h_lambda_mixed_2d_20_50_highest_pt\")"
   ]
  },
  {
   "cell_type": "code",
   "execution_count": null,
   "id": "06103306",
   "metadata": {},
   "outputs": [],
   "source": [
    "h_h_2d_nomixcor_20_50 = h_h_20_50_highest_pt.Project3D(\"xye\").Clone(\"h_h_2d_nomixcor_20_50\")\n",
    "h_h_2d_nomixcor_20_50_highest_pt = h_h_20_50_highest_pt.Project3D(\"xye\").Clone(\"h_h_2d_nomixcor_20_50_highest_pt\")\n",
    "h_h_mixed_2d_20_50 = h_h_mixed_20_50.Project3D(\"xye\").Clone(\"h_h_mixed_2d_20_50\")\n",
    "h_h_mixed_2d_20_50_highest_pt = h_h_mixed_20_50_highest_pt.Project3D(\"xye\").Clone(\"h_h_mixed_2d_20_50_highest_pt\")"
   ]
  },
  {
   "cell_type": "code",
   "execution_count": null,
   "id": "c395a5ff",
   "metadata": {},
   "outputs": [],
   "source": [
    "h_lambda_2d_nomixcor_20_50.SetTitle(\"h-#Lambda^{0} #Delta#varphi#Delta#eta (no acceptance correction)\")\n",
    "h_lambda_2d_nomixcor_20_50.GetYaxis().SetTitle(\"#Delta#varphi_{h-#Lambda^{0}}\")\n",
    "h_lambda_2d_nomixcor_20_50.GetXaxis().SetTitle(\"#Delta#eta_{h-#Lambda^{0}}\")\n",
    "h_lambda_2d_nomixcor_20_50.GetXaxis().SetTitleSize(0.05)\n",
    "h_lambda_2d_nomixcor_20_50.GetXaxis().SetTitleOffset(1.3)\n",
    "h_lambda_2d_nomixcor_20_50.GetYaxis().SetTitleSize(0.05)\n",
    "h_lambda_2d_nomixcor_20_50.GetYaxis().SetTitleOffset(1.3)\n",
    "\n",
    "h_lambda_ls_2d_nomixcor_20_50.SetTitle(\"h-#Lambda^{0} (LS) #Delta#varphi#Delta#eta (no acceptance correction)\")\n",
    "h_lambda_ls_2d_nomixcor_20_50.GetYaxis().SetTitle(\"#Delta#varphi_{h-#Lambda^{0}}\")\n",
    "h_lambda_ls_2d_nomixcor_20_50.GetXaxis().SetTitle(\"#Delta#eta_{h-#Lambda^{0}}\")\n",
    "h_lambda_ls_2d_nomixcor_20_50.GetXaxis().SetTitleSize(0.05)\n",
    "h_lambda_ls_2d_nomixcor_20_50.GetXaxis().SetTitleOffset(1.3)\n",
    "h_lambda_ls_2d_nomixcor_20_50.GetYaxis().SetTitleSize(0.05)\n",
    "h_lambda_ls_2d_nomixcor_20_50.GetYaxis().SetTitleOffset(1.3)\n",
    "\n",
    "h_lambda_mixed_2d_20_50.SetTitle(\"Mixed-event h-#Lambda^{0} #Delta#varphi#Delta#eta\")\n",
    "h_lambda_mixed_2d_20_50.GetYaxis().SetTitle(\"#Delta#varphi_{h-#Lambda^{0}}\")\n",
    "h_lambda_mixed_2d_20_50.GetXaxis().SetTitle(\"#Delta#eta_{h-#Lambda^{0}}\")\n",
    "h_lambda_mixed_2d_20_50.GetXaxis().SetTitleSize(0.05)\n",
    "h_lambda_mixed_2d_20_50.GetXaxis().SetTitleOffset(1.3)\n",
    "h_lambda_mixed_2d_20_50.GetYaxis().SetTitleSize(0.05)\n",
    "h_lambda_mixed_2d_20_50.GetYaxis().SetTitleOffset(1.3)\n",
    "\n",
    "h_lambda_2d_nomixcor_20_50_highest_pt.SetTitle(\"h-#Lambda^{0} #Delta#varphi#Delta#eta (no acceptance correction, highest p_{t} trigger)\")\n",
    "h_lambda_2d_nomixcor_20_50_highest_pt.GetYaxis().SetTitle(\"#Delta#varphi_{h-#Lambda^{0}}\")\n",
    "h_lambda_2d_nomixcor_20_50_highest_pt.GetXaxis().SetTitle(\"#Delta#eta_{h-#Lambda^{0}}\")\n",
    "h_lambda_2d_nomixcor_20_50_highest_pt.GetXaxis().SetTitleSize(0.05)\n",
    "h_lambda_2d_nomixcor_20_50_highest_pt.GetXaxis().SetTitleOffset(1.3)\n",
    "h_lambda_2d_nomixcor_20_50_highest_pt.GetYaxis().SetTitleSize(0.05)\n",
    "h_lambda_2d_nomixcor_20_50_highest_pt.GetYaxis().SetTitleOffset(1.3)\n",
    "\n",
    "h_lambda_mixed_2d_20_50_highest_pt.SetTitle(\"Mixed-event h-#Lambda^{0} #Delta#varphi#Delta#eta (highest p_{T} trigger)\")\n",
    "h_lambda_mixed_2d_20_50_highest_pt.GetYaxis().SetTitle(\"#Delta#varphi_{h-#Lambda^{0}}\")\n",
    "h_lambda_mixed_2d_20_50_highest_pt.GetXaxis().SetTitle(\"#Delta#eta_{h-#Lambda^{0}}\")\n",
    "h_lambda_mixed_2d_20_50_highest_pt.GetXaxis().SetTitleSize(0.05)\n",
    "h_lambda_mixed_2d_20_50_highest_pt.GetXaxis().SetTitleOffset(1.3)\n",
    "h_lambda_mixed_2d_20_50_highest_pt.GetYaxis().SetTitleSize(0.05)\n",
    "h_lambda_mixed_2d_20_50_highest_pt.GetYaxis().SetTitleOffset(1.3)"
   ]
  },
  {
   "cell_type": "code",
   "execution_count": null,
   "id": "d4bd0ede",
   "metadata": {},
   "outputs": [],
   "source": [
    "h_h_2d_nomixcor_20_50.SetTitle(\"h-h #Delta#varphi#Delta#eta (no acceptance correction)\")\n",
    "h_h_2d_nomixcor_20_50.GetYaxis().SetTitle(\"#Delta#varphi_{h-#Lambda^{0}}\")\n",
    "h_h_2d_nomixcor_20_50.GetXaxis().SetTitle(\"#Delta#eta_{h-#Lambda^{0}}\")\n",
    "h_h_2d_nomixcor_20_50.GetXaxis().SetTitleSize(0.05)\n",
    "h_h_2d_nomixcor_20_50.GetXaxis().SetTitleOffset(1.3)\n",
    "h_h_2d_nomixcor_20_50.GetYaxis().SetTitleSize(0.05)\n",
    "h_h_2d_nomixcor_20_50.GetYaxis().SetTitleOffset(1.3)\n",
    "\n",
    "h_h_mixed_2d_20_50.SetTitle(\"Mixed-event h-h #Delta#varphi#Delta#eta\")\n",
    "h_h_mixed_2d_20_50.GetYaxis().SetTitle(\"#Delta#varphi_{h-#Lambda^{0}}\")\n",
    "h_h_mixed_2d_20_50.GetXaxis().SetTitle(\"#Delta#eta_{h-#Lambda^{0}}\")\n",
    "h_h_mixed_2d_20_50.GetXaxis().SetTitleSize(0.05)\n",
    "h_h_mixed_2d_20_50.GetXaxis().SetTitleOffset(1.3)\n",
    "h_h_mixed_2d_20_50.GetYaxis().SetTitleSize(0.05)\n",
    "h_h_mixed_2d_20_50.GetYaxis().SetTitleOffset(1.3)\n",
    "\n",
    "h_h_2d_nomixcor_20_50_highest_pt.SetTitle(\"h-h #Delta#varphi#Delta#eta (no acceptance correction, highest p_{T} trigger)\")\n",
    "h_h_2d_nomixcor_20_50_highest_pt.GetYaxis().SetTitle(\"#Delta#varphi_{h-#Lambda^{0}}\")\n",
    "h_h_2d_nomixcor_20_50_highest_pt.GetXaxis().SetTitle(\"#Delta#eta_{h-#Lambda^{0}}\")\n",
    "h_h_2d_nomixcor_20_50_highest_pt.GetXaxis().SetTitleSize(0.05)\n",
    "h_h_2d_nomixcor_20_50_highest_pt.GetXaxis().SetTitleOffset(1.3)\n",
    "h_h_2d_nomixcor_20_50_highest_pt.GetYaxis().SetTitleSize(0.05)\n",
    "h_h_2d_nomixcor_20_50_highest_pt.GetYaxis().SetTitleOffset(1.3)\n",
    "\n",
    "h_h_mixed_2d_20_50_highest_pt.SetTitle(\"Mixed-event h-h #Delta#varphi#Delta#eta\")\n",
    "h_h_mixed_2d_20_50_highest_pt.GetYaxis().SetTitle(\"#Delta#varphi_{h-#Lambda^{0}}\")\n",
    "h_h_mixed_2d_20_50_highest_pt.GetXaxis().SetTitle(\"#Delta#eta_{h-#Lambda^{0}}\")\n",
    "h_h_mixed_2d_20_50_highest_pt.GetXaxis().SetTitleSize(0.05)\n",
    "h_h_mixed_2d_20_50_highest_pt.GetXaxis().SetTitleOffset(1.3)\n",
    "h_h_mixed_2d_20_50_highest_pt.GetYaxis().SetTitleSize(0.05)\n",
    "h_h_mixed_2d_20_50_highest_pt.GetYaxis().SetTitleOffset(1.3)"
   ]
  },
  {
   "cell_type": "code",
   "execution_count": null,
   "id": "bb250f62",
   "metadata": {},
   "outputs": [],
   "source": [
    "c.SetTheta(50)\n",
    "c.SetPhi(50)\n",
    "h_lambda_2d_nomixcor_20_50.GetXaxis().SetRangeUser(-DELTA_ETA_MAX, DELTA_ETA_MAX)\n",
    "h_lambda_2d_nomixcor_20_50.Draw(\"SURF1\")\n",
    "c.Draw()"
   ]
  },
  {
   "cell_type": "code",
   "execution_count": null,
   "id": "ba44ece7",
   "metadata": {},
   "outputs": [],
   "source": [
    "c.SetTheta(50)\n",
    "c.SetPhi(50)\n",
    "h_lambda_2d_nomixcor_20_50_highest_pt.GetXaxis().SetRangeUser(-DELTA_ETA_MAX, DELTA_ETA_MAX)\n",
    "h_lambda_2d_nomixcor_20_50_highest_pt.Draw(\"SURF1\")\n",
    "c.Draw()"
   ]
  },
  {
   "cell_type": "code",
   "execution_count": null,
   "id": "a4bcd825",
   "metadata": {},
   "outputs": [],
   "source": [
    "c.SetTheta(50)\n",
    "c.SetPhi(50)\n",
    "h_lambda_mixed_2d_20_50.GetXaxis().SetRangeUser(-DELTA_ETA_MAX, DELTA_ETA_MAX)\n",
    "h_lambda_mixed_2d_20_50.Draw(\"SURF1\")\n",
    "c.Draw()"
   ]
  },
  {
   "cell_type": "code",
   "execution_count": null,
   "id": "383c2e16",
   "metadata": {},
   "outputs": [],
   "source": [
    "c.SetTheta(50)\n",
    "c.SetPhi(50)\n",
    "h_h_2d_nomixcor_20_50.GetXaxis().SetRangeUser(-DELTA_ETA_MAX, DELTA_ETA_MAX)\n",
    "h_h_2d_nomixcor_20_50.Draw(\"SURF1\")\n",
    "c.Draw()"
   ]
  },
  {
   "cell_type": "code",
   "execution_count": null,
   "id": "92ebcaab",
   "metadata": {},
   "outputs": [],
   "source": [
    "c.SetTheta(50)\n",
    "c.SetPhi(50)\n",
    "h_h_mixed_2d_20_50.GetXaxis().SetRangeUser(-DELTA_ETA_MAX, DELTA_ETA_MAX)\n",
    "h_h_mixed_2d_20_50.Draw(\"SURF1\")\n",
    "c.Draw()"
   ]
  },
  {
   "cell_type": "code",
   "execution_count": null,
   "id": "e017b086",
   "metadata": {},
   "outputs": [],
   "source": [
    "h_lambda_2d_mixcor_lsb_20_50 = make_mixed_corrections(h_lambda_20_50, h_lambda_mixed_20_50, LSB_MIN, LSB_MAX)\n",
    "h_lambda_2d_mixcor_sig_20_50 = make_mixed_corrections(h_lambda_20_50, h_lambda_mixed_20_50, SIG_MIN, SIG_MAX)\n",
    "h_lambda_2d_mixcor_rsb_20_50 = make_mixed_corrections(h_lambda_20_50, h_lambda_mixed_20_50, RSB_MIN, RSB_MAX)\n",
    "h_lambda_ls_2d_mixcor_lsb_20_50 = make_mixed_corrections(h_lambda_ls_20_50, h_lambda_ls_mixed_20_50, LSB_MIN, LSB_MAX)\n",
    "h_lambda_ls_2d_mixcor_sig_20_50 = make_mixed_corrections(h_lambda_ls_20_50, h_lambda_ls_mixed_20_50, SIG_MIN, SIG_MAX)\n",
    "h_lambda_ls_2d_mixcor_rsb_20_50 = make_mixed_corrections(h_lambda_ls_20_50, h_lambda_ls_mixed_20_50, RSB_MIN, RSB_MAX)"
   ]
  },
  {
   "cell_type": "code",
   "execution_count": null,
   "id": "4f5bbde6",
   "metadata": {},
   "outputs": [],
   "source": [
    "h_lambda_2d_mixcor_lsb_20_50_highest_pt = make_mixed_corrections(h_lambda_20_50_highest_pt, h_lambda_mixed_20_50_highest_pt, LSB_MIN, LSB_MAX)\n",
    "h_lambda_2d_mixcor_sig_20_50_highest_pt = make_mixed_corrections(h_lambda_20_50_highest_pt, h_lambda_mixed_20_50_highest_pt, SIG_MIN, SIG_MAX)\n",
    "h_lambda_2d_mixcor_rsb_20_50_highest_pt = make_mixed_corrections(h_lambda_20_50_highest_pt, h_lambda_mixed_20_50_highest_pt, RSB_MIN, RSB_MAX)"
   ]
  },
  {
   "cell_type": "code",
   "execution_count": null,
   "id": "7e3fedae",
   "metadata": {},
   "outputs": [],
   "source": [
    "h_h_2d_mixcor_20_50 = make_mixed_corrections(h_h_20_50, h_h_mixed_20_50, LSB_MIN, LSB_MAX, is_hh=True)\n",
    "h_h_2d_mixcor_20_50_highest_pt = make_mixed_corrections(h_h_20_50_highest_pt, h_h_mixed_20_50_highest_pt, LSB_MIN, LSB_MAX, is_hh=True)"
   ]
  },
  {
   "cell_type": "code",
   "execution_count": null,
   "id": "a7369398",
   "metadata": {},
   "outputs": [],
   "source": [
    "h_lambda_2d_mixcor_lsb_20_50.SetTitle(\"h-#Lambda^{0} #Delta#varphi#Delta#eta correlation (LSB, acceptance corrected)\")\n",
    "h_lambda_2d_mixcor_lsb_20_50.GetYaxis().SetTitle(\"#Delta#varphi_{h-#Lambda^{0}}\")\n",
    "h_lambda_2d_mixcor_lsb_20_50.GetXaxis().SetTitle(\"#Delta#eta_{h-#Lambda^{0}}\")\n",
    "h_lambda_2d_mixcor_lsb_20_50.GetXaxis().SetTitleSize(0.05)\n",
    "h_lambda_2d_mixcor_lsb_20_50.GetXaxis().SetTitleOffset(1.3)\n",
    "h_lambda_2d_mixcor_lsb_20_50.GetYaxis().SetTitleSize(0.05)\n",
    "h_lambda_2d_mixcor_lsb_20_50.GetYaxis().SetTitleOffset(1.3)\n",
    "\n",
    "h_lambda_2d_mixcor_sig_20_50.SetTitle(\"h-#Lambda^{0} #Delta#varphi#Delta#eta correlation (SIG, acceptance corrected)\")\n",
    "h_lambda_2d_mixcor_sig_20_50.GetYaxis().SetTitle(\"#Delta#varphi_{h-#Lambda^{0}}\")\n",
    "h_lambda_2d_mixcor_sig_20_50.GetXaxis().SetTitle(\"#Delta#eta_{h-#Lambda^{0}}\")\n",
    "h_lambda_2d_mixcor_sig_20_50.GetXaxis().SetTitleSize(0.05)\n",
    "h_lambda_2d_mixcor_sig_20_50.GetXaxis().SetTitleOffset(1.3)\n",
    "h_lambda_2d_mixcor_sig_20_50.GetYaxis().SetTitleSize(0.05)\n",
    "h_lambda_2d_mixcor_sig_20_50.GetYaxis().SetTitleOffset(1.3)\n",
    "\n",
    "h_lambda_2d_mixcor_rsb_20_50.SetTitle(\"h-#Lambda^{0} #Delta#varphi#Delta#eta correlation (RSB, acceptance corrected)\")\n",
    "h_lambda_2d_mixcor_rsb_20_50.GetYaxis().SetTitle(\"#Delta#varphi_{h-#Lambda^{0}}\")\n",
    "h_lambda_2d_mixcor_rsb_20_50.GetXaxis().SetTitle(\"#Delta#eta_{h-#Lambda^{0}}\")\n",
    "h_lambda_2d_mixcor_rsb_20_50.GetXaxis().SetTitleSize(0.05)\n",
    "h_lambda_2d_mixcor_rsb_20_50.GetXaxis().SetTitleOffset(1.3)\n",
    "h_lambda_2d_mixcor_rsb_20_50.GetYaxis().SetTitleSize(0.05)\n",
    "h_lambda_2d_mixcor_rsb_20_50.GetYaxis().SetTitleOffset(1.3)"
   ]
  },
  {
   "cell_type": "code",
   "execution_count": null,
   "id": "97c9925b",
   "metadata": {},
   "outputs": [],
   "source": [
    "h_h_2d_mixcor_20_50.SetTitle(\"h-h #Delta#varphi#Delta#eta correlation (acceptance corrected)\")\n",
    "h_h_2d_mixcor_20_50.GetYaxis().SetTitle(\"#Delta#varphi_{h-h}\")\n",
    "h_h_2d_mixcor_20_50.GetXaxis().SetTitle(\"#Delta#eta_{h-h}\")\n",
    "h_h_2d_mixcor_20_50.GetXaxis().SetTitleSize(0.05)\n",
    "h_h_2d_mixcor_20_50.GetXaxis().SetTitleOffset(1.3)\n",
    "h_h_2d_mixcor_20_50.GetYaxis().SetTitleSize(0.05)\n",
    "h_h_2d_mixcor_20_50.GetYaxis().SetTitleOffset(1.3)"
   ]
  },
  {
   "cell_type": "code",
   "execution_count": null,
   "id": "4537c2dc",
   "metadata": {},
   "outputs": [],
   "source": [
    "c.SetTheta(50)\n",
    "c.SetPhi(50)\n",
    "h_lambda_2d_mixcor_sig_20_50.GetXaxis().SetRangeUser(-DELTA_ETA_MAX, DELTA_ETA_MAX)\n",
    "h_lambda_2d_mixcor_sig_20_50.Draw(\"SURF1\")\n",
    "c.Draw()"
   ]
  },
  {
   "cell_type": "code",
   "execution_count": null,
   "id": "174ad271",
   "metadata": {},
   "outputs": [],
   "source": [
    "c.SetTheta(50)\n",
    "c.SetPhi(50)\n",
    "h_lambda_2d_mixcor_lsb_20_50.GetXaxis().SetRangeUser(-DELTA_ETA_MAX, DELTA_ETA_MAX)\n",
    "h_lambda_2d_mixcor_lsb_20_50.Draw(\"SURF1\")\n",
    "c.Draw()"
   ]
  },
  {
   "cell_type": "code",
   "execution_count": null,
   "id": "b37dab37",
   "metadata": {},
   "outputs": [],
   "source": [
    "c.SetTheta(50)\n",
    "c.SetPhi(50)\n",
    "h_lambda_2d_mixcor_rsb_20_50.GetXaxis().SetRangeUser(-DELTA_ETA_MAX, DELTA_ETA_MAX)\n",
    "h_lambda_2d_mixcor_rsb_20_50.Draw(\"SURF1\")\n",
    "c.Draw()"
   ]
  },
  {
   "cell_type": "code",
   "execution_count": null,
   "id": "a0c41401",
   "metadata": {
    "scrolled": true
   },
   "outputs": [],
   "source": [
    "c.SetTheta(50)\n",
    "c.SetPhi(50)\n",
    "h_h_2d_mixcor_20_50.GetXaxis().SetRangeUser(-DELTA_ETA_MAX, DELTA_ETA_MAX)\n",
    "h_h_2d_mixcor_20_50.Draw(\"SURF1\")\n",
    "c.Draw()"
   ]
  },
  {
   "cell_type": "code",
   "execution_count": null,
   "id": "47735169",
   "metadata": {},
   "outputs": [],
   "source": [
    "h_lambda_2d_mixcor_lsb_20_50_highest_pt.GetXaxis().SetRangeUser(-DELTA_ETA_MAX, DELTA_ETA_MAX)\n",
    "h_lambda_2d_mixcor_sig_20_50_highest_pt.GetXaxis().SetRangeUser(-DELTA_ETA_MAX, DELTA_ETA_MAX)\n",
    "h_lambda_2d_mixcor_rsb_20_50_highest_pt.GetXaxis().SetRangeUser(-DELTA_ETA_MAX, DELTA_ETA_MAX)\n",
    "h_h_2d_mixcor_20_50_highest_pt.GetXaxis().SetRangeUser(-DELTA_ETA_MAX, DELTA_ETA_MAX)"
   ]
  },
  {
   "cell_type": "code",
   "execution_count": null,
   "id": "f6f9b547",
   "metadata": {},
   "outputs": [],
   "source": [
    "# per-trigger normalization done here\n",
    "h_lambda_2d_mixcor_lsb_20_50.Scale(1.0/num_trigs_20_50)\n",
    "h_lambda_2d_mixcor_sig_20_50.Scale(1.0/num_trigs_20_50)\n",
    "h_lambda_2d_mixcor_rsb_20_50.Scale(1.0/num_trigs_20_50)\n",
    "h_lambda_2d_mixcor_lsb_20_50_highest_pt.Scale(1.0/num_trigs_20_50_highest_pt)\n",
    "h_lambda_2d_mixcor_sig_20_50_highest_pt.Scale(1.0/num_trigs_20_50_highest_pt)\n",
    "h_lambda_2d_mixcor_rsb_20_50_highest_pt.Scale(1.0/num_trigs_20_50_highest_pt)\n",
    "h_lambda_ls_2d_mixcor_lsb_20_50.Scale(1.0/num_trigs_20_50)\n",
    "h_lambda_ls_2d_mixcor_sig_20_50.Scale(1.0/num_trigs_20_50)\n",
    "h_lambda_ls_2d_mixcor_rsb_20_50.Scale(1.0/num_trigs_20_50)\n",
    "h_h_2d_mixcor_20_50.Scale(1.0/num_trigs_20_50)\n",
    "h_h_2d_mixcor_20_50_highest_pt.Scale(1.0/num_trigs_20_50_highest_pt)"
   ]
  },
  {
   "cell_type": "markdown",
   "id": "74bcb0a8",
   "metadata": {},
   "source": [
    "### Sideband subtraction section"
   ]
  },
  {
   "cell_type": "code",
   "execution_count": null,
   "id": "8b394123",
   "metadata": {},
   "outputs": [],
   "source": [
    "# Generate sum of 2 distributions (for USE_BOTH method)\n",
    "h_lambda_2d_mixcor_rsblsb_20_50 = h_lambda_2d_mixcor_rsb_20_50.Clone(\"h_lambda_2d_mixcor_rsblsb_20_50\")\n",
    "h_lambda_2d_mixcor_rsblsb_20_50.Add(h_lambda_2d_mixcor_lsb_20_50)"
   ]
  },
  {
   "cell_type": "code",
   "execution_count": null,
   "id": "4da05029",
   "metadata": {},
   "outputs": [],
   "source": [
    "# Normalize side bands to 1\n",
    "h_lambda_2d_mixcor_rsblsb_20_50.Scale(1/h_lambda_2d_mixcor_rsblsb_20_50.Integral())\n",
    "h_lambda_2d_mixcor_rsb_20_50.Scale(1/h_lambda_2d_mixcor_rsb_20_50.Integral())\n",
    "h_lambda_2d_mixcor_lsb_20_50.Scale(1/h_lambda_2d_mixcor_lsb_20_50.Integral())"
   ]
  },
  {
   "cell_type": "code",
   "execution_count": null,
   "id": "716a8d30",
   "metadata": {},
   "outputs": [],
   "source": [
    "h_lambda_dphi_rsb_20_50 = h_lambda_2d_mixcor_rsb_20_50.ProjectionY(\"h_lambda_dphi_rsb_20_50\")\n",
    "h_lambda_dphi_lsb_20_50 = h_lambda_2d_mixcor_lsb_20_50.ProjectionY(\"h_lambda_dphi_lsb_20_50\")\n",
    "h_lambda_dphi_rsb_20_50.SetTitle(\"h-#Lambda^{0} #Delta#varphi correlation (RSB, acceptance corrected)\")\n",
    "h_lambda_dphi_rsb_20_50.SetLineColor(rt.kMagenta)\n",
    "h_lambda_dphi_lsb_20_50.SetTitle(\"h-#Lambda^{0} #Delta#varphi correlation (LSB and RSB, normalized to 1)\")\n",
    "h_lambda_dphi_lsb_20_50.SetLineColor(rt.kBlue)\n",
    "h_lambda_dphi_lsb_20_50.Draw()\n",
    "h_lambda_dphi_rsb_20_50.Draw(\"SAME\")\n",
    "c.Draw()"
   ]
  },
  {
   "cell_type": "code",
   "execution_count": null,
   "id": "b1763787",
   "metadata": {},
   "outputs": [],
   "source": [
    "if USE_RSB:\n",
    "    # using RSB for sideband subtraction\n",
    "    h_lambda_2d_subtracted_20_50 = h_lambda_2d_mixcor_sig_20_50.Clone(\"h_lambda_2d_subtracted_20_50\")\n",
    "    bg_integral_20_50 = (1 - lambda_signal_total_ratio_20_50)*h_lambda_2d_subtracted_20_50.Integral()\n",
    "    h_lambda_2d_subtracted_20_50.Add(h_lambda_2d_mixcor_rsb_20_50, -bg_integral_20_50)\n",
    "elif USE_LSB:\n",
    "    # using RSB for sideband subtraction\n",
    "    h_lambda_2d_subtracted_20_50 = h_lambda_2d_mixcor_sig_20_50.Clone(\"h_lambda_2d_subtracted_20_50\")\n",
    "    bg_integral_20_50 = (1 - lambda_signal_total_ratio_20_50)*h_lambda_2d_subtracted_20_50.Integral()\n",
    "    h_lambda_2d_subtracted_20_50.Add(h_lambda_2d_mixcor_lsb_20_50, -bg_integral_20_50)\n",
    "elif USE_BOTH:\n",
    "    # using RSB for sideband subtraction\n",
    "    h_lambda_2d_subtracted_20_50 = h_lambda_2d_mixcor_sig_20_50.Clone(\"h_lambda_2d_subtracted_20_50\")\n",
    "    bg_integral_20_50 = (1 - lambda_signal_total_ratio_20_50)*h_lambda_2d_subtracted_20_50.Integral()\n",
    "    h_lambda_2d_subtracted_20_50.Add(h_lambda_2d_mixcor_rsblsb_20_50, -bg_integral_20_50)\n",
    "else:\n",
    "    raise NotImplementedError(\"Must have USE_RSB or USE_LSB selected\")"
   ]
  },
  {
   "cell_type": "code",
   "execution_count": null,
   "id": "bc311865",
   "metadata": {},
   "outputs": [],
   "source": [
    "h_lambda_2d_subtracted_20_50.SetTitle(\"h-#Lambda^{0} #Delta#varphi#Delta#eta correlation (acceptance corrected, right sideband subtracted)\")\n",
    "h_lambda_2d_subtracted_20_50.Draw(\"SURF1\")\n",
    "c.Draw()"
   ]
  },
  {
   "cell_type": "code",
   "execution_count": null,
   "id": "ffc80ef0",
   "metadata": {},
   "outputs": [],
   "source": [
    "# Generate sum of 2 distributions (for USE_BOTH method)\n",
    "h_lambda_2d_mixcor_rsblsb_20_50_highest_pt = h_lambda_2d_mixcor_rsb_20_50_highest_pt.Clone(\"h_lambda_2d_mixcor_rsblsb_20_50_highest_pt\")\n",
    "h_lambda_2d_mixcor_rsblsb_20_50_highest_pt.Add(h_lambda_2d_mixcor_lsb_20_50_highest_pt)"
   ]
  },
  {
   "cell_type": "code",
   "execution_count": null,
   "id": "555e7c2f",
   "metadata": {},
   "outputs": [],
   "source": [
    "# Normalize side bands to 1\n",
    "h_lambda_2d_mixcor_rsb_20_50_highest_pt.Scale(1/h_lambda_2d_mixcor_rsb_20_50_highest_pt.Integral())\n",
    "h_lambda_2d_mixcor_lsb_20_50_highest_pt.Scale(1/h_lambda_2d_mixcor_lsb_20_50_highest_pt.Integral())\n",
    "h_lambda_2d_mixcor_rsblsb_20_50_highest_pt.Scale(1/h_lambda_2d_mixcor_rsblsb_20_50_highest_pt.Integral())"
   ]
  },
  {
   "cell_type": "code",
   "execution_count": null,
   "id": "7c0db2e9",
   "metadata": {},
   "outputs": [],
   "source": [
    "if USE_RSB:\n",
    "    # using RSB for sideband subtraction\n",
    "    h_lambda_2d_subtracted_20_50_highest_pt = h_lambda_2d_mixcor_sig_20_50_highest_pt.Clone(\"h_lambda_2d_subtracted_20_50_highest_pt\")\n",
    "    bg_integral_20_50_highest_pt = (1 - lambda_signal_total_ratio_20_50)*h_lambda_2d_subtracted_20_50_highest_pt.Integral()\n",
    "    h_lambda_2d_subtracted_20_50_highest_pt.Add(h_lambda_2d_mixcor_rsb_20_50_highest_pt, -bg_integral_20_50_highest_pt)\n",
    "elif USE_LSB:\n",
    "    # using RSB for sideband subtraction\n",
    "    h_lambda_2d_subtracted_20_50_highest_pt = h_lambda_2d_mixcor_sig_20_50_highest_pt.Clone(\"h_lambda_2d_subtracted_20_50_highest_pt\")\n",
    "    bg_integral_20_50_highest_pt = (1 - lambda_signal_total_ratio_20_50)*h_lambda_2d_subtracted_20_50_highest_pt.Integral()\n",
    "    h_lambda_2d_subtracted_20_50_highest_pt.Add(h_lambda_2d_mixcor_lsb_20_50_highest_pt, -bg_integral_20_50_highest_pt)\n",
    "elif USE_BOTH:\n",
    "    # using RSB for sideband subtraction\n",
    "    h_lambda_2d_subtracted_20_50_highest_pt = h_lambda_2d_mixcor_sig_20_50_highest_pt.Clone(\"h_lambda_2d_subtracted_20_50_highest_pt\")\n",
    "    bg_integral_20_50_highest_pt = (1 - lambda_signal_total_ratio_20_50)*h_lambda_2d_subtracted_20_50_highest_pt.Integral()\n",
    "    h_lambda_2d_subtracted_20_50_highest_pt.Add(h_lambda_2d_mixcor_rsblsb_20_50_highest_pt, -bg_integral_20_50_highest_pt)\n",
    "else:\n",
    "    raise NotImplementedError(\"Must have USE_RSB or USE_LSB selected\")"
   ]
  },
  {
   "cell_type": "code",
   "execution_count": null,
   "id": "8e138e9e",
   "metadata": {},
   "outputs": [],
   "source": [
    "h_lambda_2d_subtracted_20_50_highest_pt.SetTitle(\"h-#Lambda^{0} #Delta#varphi#Delta#eta correlation (acceptance corrected, right sideband subtracted)\")\n",
    "h_lambda_2d_subtracted_20_50_highest_pt.Draw(\"SURF1\")\n",
    "c.Draw()"
   ]
  },
  {
   "cell_type": "markdown",
   "id": "44419de7",
   "metadata": {},
   "source": [
    "### Integral and ratio section"
   ]
  },
  {
   "cell_type": "code",
   "execution_count": null,
   "id": "560cd3c8",
   "metadata": {},
   "outputs": [],
   "source": [
    "h_lambda_dphi_subtracted_20_50 = h_lambda_2d_subtracted_20_50.ProjectionY(\"h_lambda_dphi_subtracted_20_50\")\n",
    "h_lambda_dphi_subtracted_20_50.SetTitle(\"h-#Lambda^{0} #Delta#varphi distribution (20 - 50 multiplicty bin)\")\n",
    "h_lambda_dphi_subtracted_20_50.SetLineColor(rt.kViolet - 6)\n",
    "h_lambda_dphi_subtracted_20_50.SetLineWidth(3)\n",
    "h_lambda_dphi_subtracted_20_50.GetYaxis().SetTitle(\"#frac{dN_{h-#Lambda^{0}}}{d#Delta#varphi}\")\n",
    "h_lambda_dphi_subtracted_20_50.GetXaxis().SetTitleSize(0.05)\n",
    "h_lambda_dphi_subtracted_20_50.GetXaxis().SetTitleOffset(0.5)"
   ]
  },
  {
   "cell_type": "code",
   "execution_count": null,
   "id": "71d8a747",
   "metadata": {},
   "outputs": [],
   "source": [
    "h_lambda_dphi_subtracted_20_50_highest_pt = h_lambda_2d_subtracted_20_50_highest_pt.ProjectionY(\"h_lambda_dphi_subtracted_20_50_highest_pt\")\n",
    "h_lambda_dphi_subtracted_20_50_highest_pt.SetTitle(\"h-#Lambda^{0} #Delta#varphi distribution (20 - 50 multiplicty bin)\")\n",
    "h_lambda_dphi_subtracted_20_50_highest_pt.SetLineColor(rt.kViolet - 6)\n",
    "h_lambda_dphi_subtracted_20_50_highest_pt.SetLineWidth(3)\n",
    "h_lambda_dphi_subtracted_20_50_highest_pt.GetYaxis().SetTitle(\"#frac{dN_{h-#Lambda^{0}}}{d#Delta#varphi}\")\n",
    "h_lambda_dphi_subtracted_20_50_highest_pt.GetXaxis().SetTitleSize(0.05)\n",
    "h_lambda_dphi_subtracted_20_50_highest_pt.GetXaxis().SetTitleOffset(0.5)"
   ]
  },
  {
   "cell_type": "code",
   "execution_count": null,
   "id": "ee179e12",
   "metadata": {},
   "outputs": [],
   "source": [
    "h_lambda_dphi_subtracted_20_50.GetYaxis().SetRangeUser(h_lambda_dphi_subtracted_20_50_highest_pt.GetMinimum()*0.9, \n",
    "                                                      h_lambda_dphi_subtracted_20_50.GetMaximum()*1.10)\n",
    "h_lambda_dphi_subtracted_20_50.Draw()\n",
    "h_lambda_dphi_subtracted_20_50_highest_pt.SetLineColor(rt.kGreen + 2)\n",
    "h_lambda_dphi_subtracted_20_50_highest_pt.Draw(\"SAME\")\n",
    "c.Draw()"
   ]
  },
  {
   "cell_type": "code",
   "execution_count": null,
   "id": "a4daca18",
   "metadata": {},
   "outputs": [],
   "source": [
    "# AGAIN PLEASE GET RID OF THIS\n",
    "h_lambda_dphi_subtracted_20_50.Scale(1/scaling_factor_20_50)"
   ]
  },
  {
   "cell_type": "code",
   "execution_count": null,
   "id": "1da30a77",
   "metadata": {},
   "outputs": [],
   "source": [
    "if USE_AVG:\n",
    "    ue_line_20_50 = rt.TF1(\"ue_line_20_50\", \"pol0\", -2, 6)\n",
    "    ue_upper_line_20_50 = rt.TF1(\"ue_upper_line_20_50\", \"pol0\", -2, 6)\n",
    "    ue_lower_line_20_50 = rt.TF1(\"ue_lower_line_20_50\", \"pol0\", -2, 6)\n",
    "    zero_line_20_50 = rt.TF1(\"zero_line_20_50\", \"pol0\", -2, 6)\n",
    "    zero_upper_line_20_50 = rt.TF1(\"zero_upper_line_20_50\", \"pol0\", -2, 6)\n",
    "    zero_lower_line_20_50 = rt.TF1(\"zero_lower_line_20_50\", \"pol0\", -2, 6)\n",
    "    ue_avg_20_50 = (h_lambda_dphi_subtracted_20_50.GetBinContent(1) \n",
    "                   + h_lambda_dphi_subtracted_20_50.GetBinContent(8)\n",
    "                   + h_lambda_dphi_subtracted_20_50.GetBinContent(9)\n",
    "                   + h_lambda_dphi_subtracted_20_50.GetBinContent(16))/4\n",
    "\n",
    "    ue_avg_error_20_50 = (1/4)*(math.sqrt(h_lambda_dphi_subtracted_20_50.GetBinError(1)**2 \n",
    "                   + h_lambda_dphi_subtracted_20_50.GetBinError(8)**2\n",
    "                   + h_lambda_dphi_subtracted_20_50.GetBinError(9)**2\n",
    "                   + h_lambda_dphi_subtracted_20_50.GetBinError(16)**2))\n",
    "\n",
    "\n",
    "    ue_line_20_50.SetParameter(0, ue_avg_20_50)\n",
    "    ue_line_20_50.SetLineColor(rt.kViolet - 6)\n",
    "    ue_line_20_50.SetLineWidth(3)\n",
    "    ue_line_20_50.SetLineStyle(rt.kSolid)\n",
    "\n",
    "    ue_upper_line_20_50.SetParameter(0, ue_avg_20_50 + ue_avg_error_20_50)\n",
    "    ue_upper_line_20_50.SetLineColor(rt.kViolet - 6)\n",
    "    ue_upper_line_20_50.SetLineStyle(rt.kDashed)\n",
    "\n",
    "    ue_lower_line_20_50.SetParameter(0, ue_avg_20_50 - ue_avg_error_20_50)\n",
    "    ue_lower_line_20_50.SetLineColor(rt.kViolet - 6)\n",
    "    ue_lower_line_20_50.SetLineStyle(rt.kDashed)\n",
    "\n",
    "    zero_line_20_50.SetParameter(0, 0)\n",
    "    zero_line_20_50.SetLineColor(rt.kViolet - 6)\n",
    "    zero_line_20_50.SetLineWidth(3)\n",
    "    zero_line_20_50.SetLineStyle(rt.kSolid)\n",
    "    zero_upper_line_20_50.SetParameter(0, ue_avg_error_20_50)\n",
    "    zero_upper_line_20_50.SetLineColor(rt.kViolet - 6)\n",
    "    zero_upper_line_20_50.SetLineStyle(rt.kDashed)\n",
    "    zero_lower_line_20_50.SetParameter(0, -ue_avg_error_20_50)\n",
    "    zero_lower_line_20_50.SetLineColor(rt.kViolet - 6)\n",
    "    zero_lower_line_20_50.SetLineStyle(rt.kDashed)\n",
    "elif USE_ZYAM:\n",
    "    ue_line_20_50 = rt.TF1(\"ue_line_20_50\", \"pol0\", -2, 6)\n",
    "    ue_upper_line_20_50 = rt.TF1(\"ue_upper_line_20_50\", \"pol0\", -2, 6)\n",
    "    ue_lower_line_20_50 = rt.TF1(\"ue_lower_line_20_50\", \"pol0\", -2, 6)\n",
    "    zero_line_20_50 = rt.TF1(\"zero_line_20_50\", \"pol0\", -2, 6)\n",
    "    zero_upper_line_20_50 = rt.TF1(\"zero_upper_line_20_50\", \"pol0\", -2, 6)\n",
    "    zero_lower_line_20_50 = rt.TF1(\"zero_lower_line_20_50\", \"pol0\", -2, 6)\n",
    "    min_bin = h_lambda_dphi_subtracted_20_50.GetMinimumBin()\n",
    "    ue_avg_20_50 = h_lambda_dphi_subtracted_20_50.GetBinContent(min_bin)\n",
    "    ue_avg_error_20_50 = h_lambda_dphi_subtracted_20_50.GetBinError(min_bin)\n",
    "\n",
    "\n",
    "    ue_line_20_50.SetParameter(0, ue_avg_20_50)\n",
    "    ue_line_20_50.SetLineColor(rt.kViolet - 6)\n",
    "    ue_line_20_50.SetLineWidth(3)\n",
    "    ue_line_20_50.SetLineStyle(rt.kSolid)\n",
    "\n",
    "    ue_upper_line_20_50.SetParameter(0, ue_avg_20_50 + ue_avg_error_20_50)\n",
    "    ue_upper_line_20_50.SetLineColor(rt.kViolet - 6)\n",
    "    ue_upper_line_20_50.SetLineStyle(rt.kDashed)\n",
    "\n",
    "    ue_lower_line_20_50.SetParameter(0, ue_avg_20_50 - ue_avg_error_20_50)\n",
    "    ue_lower_line_20_50.SetLineColor(rt.kViolet - 6)\n",
    "    ue_lower_line_20_50.SetLineStyle(rt.kDashed)\n",
    "\n",
    "    zero_line_20_50.SetParameter(0, 0)\n",
    "    zero_line_20_50.SetLineColor(rt.kViolet - 6)\n",
    "    zero_line_20_50.SetLineWidth(3)\n",
    "    zero_line_20_50.SetLineStyle(rt.kSolid)\n",
    "    zero_upper_line_20_50.SetParameter(0, ue_avg_error_20_50)\n",
    "    zero_upper_line_20_50.SetLineColor(rt.kViolet - 6)\n",
    "    zero_upper_line_20_50.SetLineStyle(rt.kDashed)\n",
    "    zero_lower_line_20_50.SetParameter(0, -ue_avg_error_20_50)\n",
    "    zero_lower_line_20_50.SetLineColor(rt.kViolet - 6)\n",
    "    zero_lower_line_20_50.SetLineStyle(rt.kDashed)\n",
    "else:\n",
    "    raise NotImplementedError(\"UE line mode not supported\")"
   ]
  },
  {
   "cell_type": "code",
   "execution_count": null,
   "id": "71594fc2",
   "metadata": {},
   "outputs": [],
   "source": [
    "if USE_AVG:\n",
    "    ue_line_20_50_highest_pt = rt.TF1(\"ue_line_20_50_highest_pt\", \"pol0\", -2, 6)\n",
    "    ue_upper_line_20_50_highest_pt = rt.TF1(\"ue_upper_line_20_50_highest_pt\", \"pol0\", -2, 6)\n",
    "    ue_lower_line_20_50_highest_pt = rt.TF1(\"ue_lower_line_20_50_highest_pt\", \"pol0\", -2, 6)\n",
    "    zero_line_20_50_highest_pt = rt.TF1(\"zero_line_20_50_highest_pt\", \"pol0\", -2, 6)\n",
    "    zero_upper_line_20_50_highest_pt = rt.TF1(\"zero_upper_line_20_50_highest_pt\", \"pol0\", -2, 6)\n",
    "    zero_lower_line_20_50_highest_pt = rt.TF1(\"zero_lower_line_20_50_highest_pt\", \"pol0\", -2, 6)\n",
    "    ue_avg_20_50_highest_pt = (h_lambda_dphi_subtracted_20_50_highest_pt.GetBinContent(1) \n",
    "                   + h_lambda_dphi_subtracted_20_50_highest_pt.GetBinContent(8)\n",
    "                   + h_lambda_dphi_subtracted_20_50_highest_pt.GetBinContent(9)\n",
    "                   + h_lambda_dphi_subtracted_20_50_highest_pt.GetBinContent(16))/4\n",
    "\n",
    "    ue_avg_error_20_50_highest_pt = (1/4)*(math.sqrt(h_lambda_dphi_subtracted_20_50_highest_pt.GetBinError(1)**2 \n",
    "                   + h_lambda_dphi_subtracted_20_50_highest_pt.GetBinError(8)**2\n",
    "                   + h_lambda_dphi_subtracted_20_50_highest_pt.GetBinError(9)**2\n",
    "                   + h_lambda_dphi_subtracted_20_50_highest_pt.GetBinError(16)**2))\n",
    "\n",
    "\n",
    "    ue_line_20_50_highest_pt.SetParameter(0, ue_avg_20_50_highest_pt)\n",
    "    ue_line_20_50_highest_pt.SetLineColor(rt.kViolet - 6)\n",
    "    ue_line_20_50_highest_pt.SetLineWidth(3)\n",
    "    ue_line_20_50_highest_pt.SetLineStyle(rt.kSolid)\n",
    "\n",
    "    ue_upper_line_20_50_highest_pt.SetParameter(0, ue_avg_20_50_highest_pt + ue_avg_error_20_50_highest_pt)\n",
    "    ue_upper_line_20_50_highest_pt.SetLineColor(rt.kViolet - 6)\n",
    "    ue_upper_line_20_50_highest_pt.SetLineStyle(rt.kDashed)\n",
    "\n",
    "    ue_lower_line_20_50_highest_pt.SetParameter(0, ue_avg_20_50_highest_pt - ue_avg_error_20_50_highest_pt)\n",
    "    ue_lower_line_20_50_highest_pt.SetLineColor(rt.kViolet - 6)\n",
    "    ue_lower_line_20_50_highest_pt.SetLineStyle(rt.kDashed)\n",
    "\n",
    "    zero_line_20_50_highest_pt.SetParameter(0, 0)\n",
    "    zero_line_20_50_highest_pt.SetLineColor(rt.kViolet - 6)\n",
    "    zero_line_20_50_highest_pt.SetLineWidth(3)\n",
    "    zero_line_20_50_highest_pt.SetLineStyle(rt.kSolid)\n",
    "    zero_upper_line_20_50_highest_pt.SetParameter(0, ue_avg_error_20_50_highest_pt)\n",
    "    zero_upper_line_20_50_highest_pt.SetLineColor(rt.kViolet - 6)\n",
    "    zero_upper_line_20_50_highest_pt.SetLineStyle(rt.kDashed)\n",
    "    zero_lower_line_20_50_highest_pt.SetParameter(0, -ue_avg_error_20_50_highest_pt)\n",
    "    zero_lower_line_20_50_highest_pt.SetLineColor(rt.kViolet - 6)\n",
    "    zero_lower_line_20_50_highest_pt.SetLineStyle(rt.kDashed)\n",
    "elif USE_ZYAM:\n",
    "    ue_line_20_50_highest_pt = rt.TF1(\"ue_line_20_50_highest_pt\", \"pol0\", -2, 6)\n",
    "    ue_upper_line_20_50_highest_pt = rt.TF1(\"ue_upper_line_20_50_highest_pt\", \"pol0\", -2, 6)\n",
    "    ue_lower_line_20_50_highest_pt = rt.TF1(\"ue_lower_line_20_50_highest_pt\", \"pol0\", -2, 6)\n",
    "    zero_line_20_50_highest_pt = rt.TF1(\"zero_line_20_50_highest_pt\", \"pol0\", -2, 6)\n",
    "    zero_upper_line_20_50_highest_pt = rt.TF1(\"zero_upper_line_20_50_highest_pt\", \"pol0\", -2, 6)\n",
    "    zero_lower_line_20_50_highest_pt = rt.TF1(\"zero_lower_line_20_50_highest_pt\", \"pol0\", -2, 6)\n",
    "    min_bin = h_lambda_dphi_subtracted_20_50_highest_pt.GetMinimumBin()\n",
    "    ue_avg_20_50_highest_pt = h_lambda_dphi_subtracted_20_50_highest_pt.GetBinContent(min_bin)\n",
    "    ue_avg_error_20_50_highest_pt = h_lambda_dphi_subtracted_20_50_highest_pt.GetBinError(min_bin)\n",
    "\n",
    "\n",
    "    ue_line_20_50_highest_pt.SetParameter(0, ue_avg_20_50_highest_pt)\n",
    "    ue_line_20_50_highest_pt.SetLineColor(rt.kViolet - 6)\n",
    "    ue_line_20_50_highest_pt.SetLineWidth(3)\n",
    "    ue_line_20_50_highest_pt.SetLineStyle(rt.kSolid)\n",
    "\n",
    "    ue_upper_line_20_50_highest_pt.SetParameter(0, ue_avg_20_50_highest_pt + ue_avg_error_20_50_highest_pt)\n",
    "    ue_upper_line_20_50_highest_pt.SetLineColor(rt.kViolet - 6)\n",
    "    ue_upper_line_20_50_highest_pt.SetLineStyle(rt.kDashed)\n",
    "\n",
    "    ue_lower_line_20_50_highest_pt.SetParameter(0, ue_avg_20_50_highest_pt - ue_avg_error_20_50_highest_pt)\n",
    "    ue_lower_line_20_50_highest_pt.SetLineColor(rt.kViolet - 6)\n",
    "    ue_lower_line_20_50_highest_pt.SetLineStyle(rt.kDashed)\n",
    "\n",
    "    zero_line_20_50_highest_pt.SetParameter(0, 0)\n",
    "    zero_line_20_50_highest_pt.SetLineColor(rt.kViolet - 6)\n",
    "    zero_line_20_50_highest_pt.SetLineWidth(3)\n",
    "    zero_line_20_50_highest_pt.SetLineStyle(rt.kSolid)\n",
    "    zero_upper_line_20_50_highest_pt.SetParameter(0, ue_avg_error_20_50_highest_pt)\n",
    "    zero_upper_line_20_50_highest_pt.SetLineColor(rt.kViolet - 6)\n",
    "    zero_upper_line_20_50_highest_pt.SetLineStyle(rt.kDashed)\n",
    "    zero_lower_line_20_50_highest_pt.SetParameter(0, -ue_avg_error_20_50_highest_pt)\n",
    "    zero_lower_line_20_50_highest_pt.SetLineColor(rt.kViolet - 6)\n",
    "    zero_lower_line_20_50_highest_pt.SetLineStyle(rt.kDashed)\n",
    "else:\n",
    "    raise NotImplementedError(\"UE line mode not supported\")"
   ]
  },
  {
   "cell_type": "code",
   "execution_count": null,
   "id": "2d968f9a",
   "metadata": {},
   "outputs": [],
   "source": [
    "min_bin = h_lambda_dphi_subtracted_20_50.GetMinimumBin()\n",
    "min_val = h_lambda_dphi_subtracted_20_50.GetBinContent(min_bin)\n",
    "max_bin = h_lambda_dphi_subtracted_20_50.GetMaximumBin()\n",
    "max_val = h_lambda_dphi_subtracted_20_50.GetBinContent(max_bin)\n",
    "\n",
    "h_lambda_dphi_subtracted_20_50.GetYaxis().SetRangeUser(0.85*min_val, 1.15*max_val)\n",
    "h_lambda_dphi_subtracted_20_50.Draw()\n",
    "ue_line_20_50.Draw(\"SAME\")\n",
    "ue_upper_line_20_50.Draw(\"SAME\")\n",
    "ue_lower_line_20_50.Draw(\"SAME\")\n",
    "c.Draw()"
   ]
  },
  {
   "cell_type": "code",
   "execution_count": null,
   "id": "8051fdc2",
   "metadata": {},
   "outputs": [],
   "source": [
    "h_lambda_dphi_subtracted_20_50.GetYaxis().SetRangeUser(0, 1.15*max_val)\n",
    "h_lambda_dphi_subtracted_20_50.Draw()\n",
    "ue_line_20_50.Draw(\"SAME\")\n",
    "ue_upper_line_20_50.Draw(\"SAME\")\n",
    "ue_lower_line_20_50.Draw(\"SAME\")\n",
    "c.Draw()"
   ]
  },
  {
   "cell_type": "code",
   "execution_count": null,
   "id": "0131d959",
   "metadata": {},
   "outputs": [],
   "source": [
    "h_lambda_dphi_subtracted_20_50_zeroed = h_lambda_dphi_subtracted_20_50.Clone(\"h_lambda_dphi_subtracted_20_50_zeroed\")\n",
    "h_lambda_dphi_subtracted_20_50_zeroed.SetTitle(\"h-#Lambda^{0} #Delta#varphi distribution (UE subtracted, 20 - 50 multiplicity bin)\")\n",
    "h_lambda_dphi_subtracted_20_50_zeroed.Add(ue_line_20_50, -1)\n",
    "h_lambda_dphi_subtracted_20_50_zeroed.Draw()\n",
    "zero_line_20_50.Draw(\"SAME\")\n",
    "zero_upper_line_20_50.Draw(\"SAME\")\n",
    "zero_lower_line_20_50.Draw(\"SAME\")\n",
    "c.Draw()"
   ]
  },
  {
   "cell_type": "code",
   "execution_count": null,
   "id": "84450cb0",
   "metadata": {},
   "outputs": [],
   "source": [
    "DPHI_BINS = h_lambda_dphi_subtracted_20_50.GetNbinsX()"
   ]
  },
  {
   "cell_type": "code",
   "execution_count": null,
   "id": "c45700a7",
   "metadata": {},
   "outputs": [],
   "source": [
    "h_lambda_total_integral_20_50 = 0\n",
    "h_lambda_near_integral_20_50 = 0\n",
    "h_lambda_away_integral_20_50 = 0\n",
    "h_lambda_ue_integral_20_50 = ue_avg_20_50*DPHI_BINS\n",
    "\n",
    "h_lambda_total_integral_error_20_50 = 0\n",
    "h_lambda_near_integral_error_20_50 = 0\n",
    "h_lambda_away_integral_error_20_50 = 0\n",
    "h_lambda_ue_integral_error_20_50 = ue_avg_error_20_50*DPHI_BINS\n",
    "\n",
    "for bin_num in range(1, DPHI_BINS + 1):\n",
    "    h_lambda_total_integral_20_50 += h_lambda_dphi_subtracted_20_50.GetBinContent(bin_num)\n",
    "    h_lambda_total_integral_error_20_50 += h_lambda_dphi_subtracted_20_50.GetBinError(bin_num)**2\n",
    "    part = h_lambda_dphi_subtracted_20_50.GetBinContent(bin_num) - ue_avg_20_50\n",
    "    if part < 0:\n",
    "        continue\n",
    "    if bin_num < 9:\n",
    "        h_lambda_near_integral_20_50 += part\n",
    "        h_lambda_near_integral_error_20_50 += h_lambda_dphi_subtracted_20_50.GetBinError(bin_num)**2\n",
    "        h_lambda_near_integral_error_20_50 += ue_avg_error_20_50**2\n",
    "    else:\n",
    "        h_lambda_away_integral_20_50 += part\n",
    "        h_lambda_away_integral_error_20_50 += h_lambda_dphi_subtracted_20_50.GetBinError(bin_num)**2\n",
    "        h_lambda_away_integral_error_20_50 += ue_avg_error_20_50**2\n",
    "h_lambda_total_integral_error_20_50 = math.sqrt(h_lambda_total_integral_error_20_50)\n",
    "h_lambda_near_integral_error_20_50 = math.sqrt(h_lambda_near_integral_error_20_50)\n",
    "h_lambda_away_integral_error_20_50 = math.sqrt(h_lambda_away_integral_error_20_50)"
   ]
  },
  {
   "cell_type": "code",
   "execution_count": null,
   "id": "de8a6d6f",
   "metadata": {},
   "outputs": [],
   "source": [
    "h_lambda_total_integral_20_50_highest_pt = 0\n",
    "h_lambda_near_integral_20_50_highest_pt = 0\n",
    "h_lambda_away_integral_20_50_highest_pt = 0\n",
    "h_lambda_ue_integral_20_50_highest_pt = ue_avg_20_50_highest_pt*DPHI_BINS\n",
    "\n",
    "h_lambda_total_integral_error_20_50_highest_pt = 0\n",
    "h_lambda_near_integral_error_20_50_highest_pt = 0\n",
    "h_lambda_away_integral_error_20_50_highest_pt = 0\n",
    "h_lambda_ue_integral_error_20_50_highest_pt = ue_avg_error_20_50_highest_pt*DPHI_BINS\n",
    "\n",
    "for bin_num in range(1, DPHI_BINS + 1):\n",
    "    h_lambda_total_integral_20_50_highest_pt += h_lambda_dphi_subtracted_20_50_highest_pt.GetBinContent(bin_num)\n",
    "    h_lambda_total_integral_error_20_50_highest_pt += h_lambda_dphi_subtracted_20_50_highest_pt.GetBinError(bin_num)**2\n",
    "    part = h_lambda_dphi_subtracted_20_50_highest_pt.GetBinContent(bin_num) - ue_avg_20_50_highest_pt\n",
    "    if part < 0:\n",
    "        continue\n",
    "    if bin_num < 9:\n",
    "        h_lambda_near_integral_20_50_highest_pt += part\n",
    "        h_lambda_near_integral_error_20_50_highest_pt += h_lambda_dphi_subtracted_20_50_highest_pt.GetBinError(bin_num)**2\n",
    "        h_lambda_near_integral_error_20_50_highest_pt += ue_avg_error_20_50_highest_pt**2\n",
    "    else:\n",
    "        h_lambda_away_integral_20_50_highest_pt += part\n",
    "        h_lambda_away_integral_error_20_50_highest_pt += h_lambda_dphi_subtracted_20_50_highest_pt.GetBinError(bin_num)**2\n",
    "        h_lambda_away_integral_error_20_50_highest_pt += ue_avg_error_20_50_highest_pt**2\n",
    "h_lambda_total_integral_error_20_50_highest_pt = math.sqrt(h_lambda_total_integral_error_20_50_highest_pt)\n",
    "h_lambda_near_integral_error_20_50_highest_pt = math.sqrt(h_lambda_near_integral_error_20_50_highest_pt)\n",
    "h_lambda_away_integral_error_20_50_highest_pt = math.sqrt(h_lambda_away_integral_error_20_50_highest_pt)"
   ]
  },
  {
   "cell_type": "code",
   "execution_count": null,
   "id": "6c4931e2",
   "metadata": {},
   "outputs": [],
   "source": [
    "h_h_dphi_20_50 = h_h_2d_mixcor_20_50.ProjectionY(\"h_h_dphi_20_50\")\n",
    "h_h_dphi_20_50.SetTitle(\"h-h #Delta#varphi distribution (20 - 50 multiplicty bin)\")\n",
    "h_h_dphi_20_50.SetLineColor(rt.kBlue)\n",
    "h_h_dphi_20_50.SetLineWidth(3)\n",
    "h_h_dphi_20_50.GetYaxis().SetTitle(\"#frac{dN_{h-h}}{d#Delta#varphi}\")\n",
    "h_h_dphi_20_50.GetXaxis().SetTitleSize(0.05)\n",
    "h_h_dphi_20_50.GetXaxis().SetTitleOffset(0.5)"
   ]
  },
  {
   "cell_type": "code",
   "execution_count": null,
   "id": "50c97d8d",
   "metadata": {},
   "outputs": [],
   "source": [
    "h_h_dphi_20_50_highest_pt = h_h_2d_mixcor_20_50_highest_pt.ProjectionY(\"h_h_dphi_20_50_highest_pt\")\n",
    "h_h_dphi_20_50_highest_pt.SetTitle(\"h-h #Delta#varphi distribution (20 - 50 multiplicty bin)\")\n",
    "h_h_dphi_20_50_highest_pt.SetLineColor(rt.kBlue)\n",
    "h_h_dphi_20_50_highest_pt.SetLineWidth(3)\n",
    "h_h_dphi_20_50_highest_pt.GetYaxis().SetTitle(\"#frac{dN_{h-h}}{d#Delta#varphi}\")\n",
    "h_h_dphi_20_50_highest_pt.GetXaxis().SetTitleSize(0.05)\n",
    "h_h_dphi_20_50_highest_pt.GetXaxis().SetTitleOffset(0.5)"
   ]
  },
  {
   "cell_type": "code",
   "execution_count": null,
   "id": "d43d5de4",
   "metadata": {},
   "outputs": [],
   "source": [
    "h_h_dphi_20_50.GetYaxis().SetRangeUser(h_h_dphi_20_50_highest_pt.GetMinimum()*0.9, \n",
    "                                       h_h_dphi_20_50.GetMaximum()*1.1)\n",
    "h_h_dphi_20_50_highest_pt.SetLineColor(rt.kGreen + 2)\n",
    "h_h_dphi_20_50.Draw()\n",
    "h_h_dphi_20_50_highest_pt.Draw(\"SAME\")\n",
    "c.Draw()"
   ]
  },
  {
   "cell_type": "code",
   "execution_count": null,
   "id": "0248a2cf",
   "metadata": {},
   "outputs": [],
   "source": [
    "if USE_AVG:\n",
    "    hh_ue_line_20_50 = rt.TF1(\"hh_ue_line_20_50\", \"pol0\", -2, 6)\n",
    "    hh_ue_upper_line_20_50 = rt.TF1(\"hh_ue_upper_line_20_50\", \"pol0\", -2, 6)\n",
    "    hh_ue_lower_line_20_50 = rt.TF1(\"hh_ue_lower_line_20_50\", \"pol0\", -2, 6)\n",
    "    hh_zero_line_20_50 = rt.TF1(\"hh_zero_line_20_50\", \"pol0\", -2, 6)\n",
    "    hh_zero_upper_line_20_50 = rt.TF1(\"hh_zero_upper_line_20_50\", \"pol0\", -2, 6)\n",
    "    hh_zero_lower_line_20_50 = rt.TF1(\"hh_zero_lower_line_20_50\", \"pol0\", -2, 6)\n",
    "    hh_ue_avg_20_50 = (h_h_dphi_20_50.GetBinContent(1) \n",
    "                   + h_h_dphi_20_50.GetBinContent(8)\n",
    "                   + h_h_dphi_20_50.GetBinContent(9)\n",
    "                   + h_h_dphi_20_50.GetBinContent(16))/4\n",
    "\n",
    "    hh_ue_avg_error_20_50 = (1/4)*(math.sqrt(h_h_dphi_20_50.GetBinError(1)**2 \n",
    "                   + h_h_dphi_20_50.GetBinError(8)**2\n",
    "                   + h_h_dphi_20_50.GetBinError(9)**2\n",
    "                   + h_h_dphi_20_50.GetBinError(16)**2))\n",
    "\n",
    "\n",
    "    hh_ue_line_20_50.SetParameter(0, hh_ue_avg_20_50)\n",
    "    hh_ue_line_20_50.SetLineColor(rt.kBlue)\n",
    "    hh_ue_line_20_50.SetLineWidth(3)\n",
    "    hh_ue_line_20_50.SetLineStyle(rt.kSolid)\n",
    "\n",
    "    hh_ue_upper_line_20_50.SetParameter(0, hh_ue_avg_20_50 + hh_ue_avg_error_20_50)\n",
    "    hh_ue_upper_line_20_50.SetLineColor(rt.kBlue)\n",
    "    hh_ue_upper_line_20_50.SetLineStyle(rt.kDashed)\n",
    "\n",
    "    hh_ue_lower_line_20_50.SetParameter(0, hh_ue_avg_20_50 - hh_ue_avg_error_20_50)\n",
    "    hh_ue_lower_line_20_50.SetLineColor(rt.kBlue)\n",
    "    hh_ue_lower_line_20_50.SetLineStyle(rt.kDashed)\n",
    "\n",
    "    hh_zero_line_20_50.SetParameter(0, 0)\n",
    "    hh_zero_line_20_50.SetLineColor(rt.kBlue)\n",
    "    hh_zero_line_20_50.SetLineWidth(3)\n",
    "    hh_zero_line_20_50.SetLineStyle(rt.kSolid)\n",
    "    hh_zero_upper_line_20_50.SetParameter(0, hh_ue_avg_error_20_50)\n",
    "    hh_zero_upper_line_20_50.SetLineColor(rt.kBlue)\n",
    "    hh_zero_upper_line_20_50.SetLineStyle(rt.kDashed)\n",
    "    hh_zero_lower_line_20_50.SetParameter(0, -hh_ue_avg_error_20_50)\n",
    "    hh_zero_lower_line_20_50.SetLineColor(rt.kBlue)\n",
    "    hh_zero_lower_line_20_50.SetLineStyle(rt.kDashed)\n",
    "elif USE_ZYAM:\n",
    "    hh_ue_line_20_50 = rt.TF1(\"hh_ue_line_20_50\", \"pol0\", -2, 6)\n",
    "    hh_ue_upper_line_20_50 = rt.TF1(\"hh_ue_upper_line_20_50\", \"pol0\", -2, 6)\n",
    "    hh_ue_lower_line_20_50 = rt.TF1(\"hh_ue_lower_line_20_50\", \"pol0\", -2, 6)\n",
    "    hh_zero_line_20_50 = rt.TF1(\"hh_zero_line_20_50\", \"pol0\", -2, 6)\n",
    "    hh_zero_upper_line_20_50 = rt.TF1(\"hh_zero_upper_line_20_50\", \"pol0\", -2, 6)\n",
    "    hh_zero_lower_line_20_50 = rt.TF1(\"hh_zero_lower_line_20_50\", \"pol0\", -2, 6)\n",
    "    \n",
    "    min_bin = h_h_dphi_20_50.GetMinimumBin()\n",
    "    hh_ue_avg_20_50 = h_h_dphi_20_50.GetBinContent(min_bin)\n",
    "    hh_ue_avg_error_20_50 = h_h_dphi_20_50.GetBinError(min_bin)\n",
    "\n",
    "    hh_ue_line_20_50.SetParameter(0, hh_ue_avg_20_50)\n",
    "    hh_ue_line_20_50.SetLineColor(rt.kBlue)\n",
    "    hh_ue_line_20_50.SetLineWidth(3)\n",
    "    hh_ue_line_20_50.SetLineStyle(rt.kSolid)\n",
    "\n",
    "    hh_ue_upper_line_20_50.SetParameter(0, hh_ue_avg_20_50 + hh_ue_avg_error_20_50)\n",
    "    hh_ue_upper_line_20_50.SetLineColor(rt.kBlue)\n",
    "    hh_ue_upper_line_20_50.SetLineStyle(rt.kDashed)\n",
    "\n",
    "    hh_ue_lower_line_20_50.SetParameter(0, hh_ue_avg_20_50 - hh_ue_avg_error_20_50)\n",
    "    hh_ue_lower_line_20_50.SetLineColor(rt.kBlue)\n",
    "    hh_ue_lower_line_20_50.SetLineStyle(rt.kDashed)\n",
    "\n",
    "    hh_zero_line_20_50.SetParameter(0, 0)\n",
    "    hh_zero_line_20_50.SetLineColor(rt.kBlue)\n",
    "    hh_zero_line_20_50.SetLineWidth(3)\n",
    "    hh_zero_line_20_50.SetLineStyle(rt.kSolid)\n",
    "    hh_zero_upper_line_20_50.SetParameter(0, hh_ue_avg_error_20_50)\n",
    "    hh_zero_upper_line_20_50.SetLineColor(rt.kBlue)\n",
    "    hh_zero_upper_line_20_50.SetLineStyle(rt.kDashed)\n",
    "    hh_zero_lower_line_20_50.SetParameter(0, -hh_ue_avg_error_20_50)\n",
    "    hh_zero_lower_line_20_50.SetLineColor(rt.kBlue)\n",
    "    hh_zero_lower_line_20_50.SetLineStyle(rt.kDashed)\n",
    "else:\n",
    "    raise NotImplementedError(\"UE line mode not supported\")"
   ]
  },
  {
   "cell_type": "code",
   "execution_count": null,
   "id": "fecd23a0",
   "metadata": {},
   "outputs": [],
   "source": [
    "if USE_AVG:\n",
    "    hh_ue_line_20_50_highest_pt = rt.TF1(\"hh_ue_line_20_50_highest_pt\", \"pol0\", -2, 6)\n",
    "    hh_ue_upper_line_20_50_highest_pt = rt.TF1(\"hh_ue_upper_line_20_50_highest_pt\", \"pol0\", -2, 6)\n",
    "    hh_ue_lower_line_20_50_highest_pt = rt.TF1(\"hh_ue_lower_line_20_50_highest_pt\", \"pol0\", -2, 6)\n",
    "    hh_zero_line_20_50_highest_pt = rt.TF1(\"hh_zero_line_20_50_highest_pt\", \"pol0\", -2, 6)\n",
    "    hh_zero_upper_line_20_50_highest_pt = rt.TF1(\"hh_zero_upper_line_20_50_highest_pt\", \"pol0\", -2, 6)\n",
    "    hh_zero_lower_line_20_50_highest_pt = rt.TF1(\"hh_zero_lower_line_20_50_highest_pt\", \"pol0\", -2, 6)\n",
    "    hh_ue_avg_20_50_highest_pt = (h_h_dphi_20_50_highest_pt.GetBinContent(1) \n",
    "                   + h_h_dphi_20_50_highest_pt.GetBinContent(8)\n",
    "                   + h_h_dphi_20_50_highest_pt.GetBinContent(9)\n",
    "                   + h_h_dphi_20_50_highest_pt.GetBinContent(16))/4\n",
    "\n",
    "    hh_ue_avg_error_20_50_highest_pt = (1/4)*(math.sqrt(h_h_dphi_20_50_highest_pt.GetBinError(1)**2 \n",
    "                   + h_h_dphi_20_50_highest_pt.GetBinError(8)**2\n",
    "                   + h_h_dphi_20_50_highest_pt.GetBinError(9)**2\n",
    "                   + h_h_dphi_20_50_highest_pt.GetBinError(16)**2))\n",
    "\n",
    "\n",
    "    hh_ue_line_20_50_highest_pt.SetParameter(0, hh_ue_avg_20_50_highest_pt)\n",
    "    hh_ue_line_20_50_highest_pt.SetLineColor(rt.kBlue)\n",
    "    hh_ue_line_20_50_highest_pt.SetLineWidth(3)\n",
    "    hh_ue_line_20_50_highest_pt.SetLineStyle(rt.kSolid)\n",
    "\n",
    "    hh_ue_upper_line_20_50_highest_pt.SetParameter(0, hh_ue_avg_20_50_highest_pt + hh_ue_avg_error_20_50_highest_pt)\n",
    "    hh_ue_upper_line_20_50_highest_pt.SetLineColor(rt.kBlue)\n",
    "    hh_ue_upper_line_20_50_highest_pt.SetLineStyle(rt.kDashed)\n",
    "\n",
    "    hh_ue_lower_line_20_50_highest_pt.SetParameter(0, hh_ue_avg_20_50_highest_pt - hh_ue_avg_error_20_50_highest_pt)\n",
    "    hh_ue_lower_line_20_50_highest_pt.SetLineColor(rt.kBlue)\n",
    "    hh_ue_lower_line_20_50_highest_pt.SetLineStyle(rt.kDashed)\n",
    "\n",
    "    hh_zero_line_20_50_highest_pt.SetParameter(0, 0)\n",
    "    hh_zero_line_20_50_highest_pt.SetLineColor(rt.kBlue)\n",
    "    hh_zero_line_20_50_highest_pt.SetLineWidth(3)\n",
    "    hh_zero_line_20_50_highest_pt.SetLineStyle(rt.kSolid)\n",
    "    hh_zero_upper_line_20_50_highest_pt.SetParameter(0, hh_ue_avg_error_20_50_highest_pt)\n",
    "    hh_zero_upper_line_20_50_highest_pt.SetLineColor(rt.kBlue)\n",
    "    hh_zero_upper_line_20_50_highest_pt.SetLineStyle(rt.kDashed)\n",
    "    hh_zero_lower_line_20_50_highest_pt.SetParameter(0, -hh_ue_avg_error_20_50_highest_pt)\n",
    "    hh_zero_lower_line_20_50_highest_pt.SetLineColor(rt.kBlue)\n",
    "    hh_zero_lower_line_20_50_highest_pt.SetLineStyle(rt.kDashed)\n",
    "elif USE_ZYAM:\n",
    "    hh_ue_line_20_50_highest_pt = rt.TF1(\"hh_ue_line_20_50_highest_pt\", \"pol0\", -2, 6)\n",
    "    hh_ue_upper_line_20_50_highest_pt = rt.TF1(\"hh_ue_upper_line_20_50_highest_pt\", \"pol0\", -2, 6)\n",
    "    hh_ue_lower_line_20_50_highest_pt = rt.TF1(\"hh_ue_lower_line_20_50_highest_pt\", \"pol0\", -2, 6)\n",
    "    hh_zero_line_20_50_highest_pt = rt.TF1(\"hh_zero_line_20_50_highest_pt\", \"pol0\", -2, 6)\n",
    "    hh_zero_upper_line_20_50_highest_pt = rt.TF1(\"hh_zero_upper_line_20_50_highest_pt\", \"pol0\", -2, 6)\n",
    "    hh_zero_lower_line_20_50_highest_pt = rt.TF1(\"hh_zero_lower_line_20_50_highest_pt\", \"pol0\", -2, 6)\n",
    "    \n",
    "    min_bin = h_h_dphi_20_50_highest_pt.GetMinimumBin()\n",
    "    hh_ue_avg_20_50_highest_pt = h_h_dphi_20_50_highest_pt.GetBinContent(min_bin)\n",
    "    hh_ue_avg_error_20_50_highest_pt = h_h_dphi_20_50_highest_pt.GetBinError(min_bin)\n",
    "\n",
    "    hh_ue_line_20_50_highest_pt.SetParameter(0, hh_ue_avg_20_50_highest_pt)\n",
    "    hh_ue_line_20_50_highest_pt.SetLineColor(rt.kBlue)\n",
    "    hh_ue_line_20_50_highest_pt.SetLineWidth(3)\n",
    "    hh_ue_line_20_50_highest_pt.SetLineStyle(rt.kSolid)\n",
    "\n",
    "    hh_ue_upper_line_20_50_highest_pt.SetParameter(0, hh_ue_avg_20_50_highest_pt + hh_ue_avg_error_20_50_highest_pt)\n",
    "    hh_ue_upper_line_20_50_highest_pt.SetLineColor(rt.kBlue)\n",
    "    hh_ue_upper_line_20_50_highest_pt.SetLineStyle(rt.kDashed)\n",
    "\n",
    "    hh_ue_lower_line_20_50_highest_pt.SetParameter(0, hh_ue_avg_20_50_highest_pt - hh_ue_avg_error_20_50_highest_pt)\n",
    "    hh_ue_lower_line_20_50_highest_pt.SetLineColor(rt.kBlue)\n",
    "    hh_ue_lower_line_20_50_highest_pt.SetLineStyle(rt.kDashed)\n",
    "\n",
    "    hh_zero_line_20_50_highest_pt.SetParameter(0, 0)\n",
    "    hh_zero_line_20_50_highest_pt.SetLineColor(rt.kBlue)\n",
    "    hh_zero_line_20_50_highest_pt.SetLineWidth(3)\n",
    "    hh_zero_line_20_50_highest_pt.SetLineStyle(rt.kSolid)\n",
    "    hh_zero_upper_line_20_50_highest_pt.SetParameter(0, hh_ue_avg_error_20_50_highest_pt)\n",
    "    hh_zero_upper_line_20_50_highest_pt.SetLineColor(rt.kBlue)\n",
    "    hh_zero_upper_line_20_50_highest_pt.SetLineStyle(rt.kDashed)\n",
    "    hh_zero_lower_line_20_50_highest_pt.SetParameter(0, -hh_ue_avg_error_20_50_highest_pt)\n",
    "    hh_zero_lower_line_20_50_highest_pt.SetLineColor(rt.kBlue)\n",
    "    hh_zero_lower_line_20_50_highest_pt.SetLineStyle(rt.kDashed)\n",
    "else:\n",
    "    raise NotImplementedError(\"UE line mode not supported\")"
   ]
  },
  {
   "cell_type": "code",
   "execution_count": null,
   "id": "450be683",
   "metadata": {},
   "outputs": [],
   "source": [
    "min_bin = h_h_dphi_20_50.GetMinimumBin()\n",
    "min_val = h_h_dphi_20_50.GetBinContent(min_bin)\n",
    "max_bin = h_h_dphi_20_50.GetMaximumBin()\n",
    "max_val = h_h_dphi_20_50.GetBinContent(max_bin)\n",
    "\n",
    "h_h_dphi_20_50.GetYaxis().SetRangeUser(0.85*min_val, 1.15*max_val)\n",
    "\n",
    "h_h_dphi_20_50.Draw()\n",
    "hh_ue_line_20_50.Draw(\"SAME\")\n",
    "hh_ue_upper_line_20_50.Draw(\"SAME\")\n",
    "hh_ue_lower_line_20_50.Draw(\"SAME\")\n",
    "c.Draw()"
   ]
  },
  {
   "cell_type": "code",
   "execution_count": null,
   "id": "3477f89b",
   "metadata": {},
   "outputs": [],
   "source": [
    "h_h_dphi_20_50.GetYaxis().SetRangeUser(0, h_h_dphi_20_50.GetMaximum()*1.1)\n",
    "h_h_dphi_20_50.Draw()\n",
    "hh_ue_line_20_50.Draw(\"SAME\")\n",
    "hh_ue_upper_line_20_50.Draw(\"SAME\")\n",
    "hh_ue_lower_line_20_50.Draw(\"SAME\")\n",
    "c.Draw()"
   ]
  },
  {
   "cell_type": "code",
   "execution_count": null,
   "id": "984b62b2",
   "metadata": {},
   "outputs": [],
   "source": [
    "h_h_dphi_20_50_zeroed = h_h_dphi_20_50.Clone(\"h_h_dphi_20_50_zeroed\")\n",
    "h_h_dphi_20_50_zeroed.SetTitle(\"h-h #Delta#varphi distribution (UE subtracted, 20 - 50 multiplicity bin)\")\n",
    "h_h_dphi_20_50_zeroed.Add(hh_ue_line_20_50, -1)\n",
    "h_h_dphi_20_50_zeroed.Draw()\n",
    "hh_zero_line_20_50.Draw(\"SAME\")\n",
    "hh_zero_upper_line_20_50.Draw(\"SAME\")\n",
    "hh_zero_lower_line_20_50.Draw(\"SAME\")\n",
    "c.Draw()"
   ]
  },
  {
   "cell_type": "code",
   "execution_count": null,
   "id": "5fac5c50",
   "metadata": {},
   "outputs": [],
   "source": [
    "h_h_total_integral_20_50 = 0\n",
    "h_h_near_integral_20_50 = 0\n",
    "h_h_away_integral_20_50 = 0\n",
    "h_h_ue_integral_20_50 = hh_ue_avg_20_50*DPHI_BINS\n",
    "\n",
    "h_h_total_integral_error_20_50 = 0\n",
    "h_h_near_integral_error_20_50 = 0\n",
    "h_h_away_integral_error_20_50 = 0\n",
    "h_h_ue_integral_error_20_50 = hh_ue_avg_error_20_50*DPHI_BINS\n",
    "\n",
    "for bin_num in range(1, DPHI_BINS + 1):\n",
    "    h_h_total_integral_20_50 += h_h_dphi_20_50.GetBinContent(bin_num)\n",
    "    h_h_total_integral_error_20_50 += h_h_dphi_20_50.GetBinError(bin_num)**2\n",
    "    part = h_h_dphi_20_50.GetBinContent(bin_num) - hh_ue_avg_20_50\n",
    "    if part < 0:\n",
    "        continue\n",
    "    if bin_num < 9:\n",
    "        h_h_near_integral_20_50 += part\n",
    "        h_h_near_integral_error_20_50 += h_h_dphi_20_50.GetBinError(bin_num)**2\n",
    "        h_h_near_integral_error_20_50 += hh_ue_avg_error_20_50**2\n",
    "    else:\n",
    "        h_h_away_integral_20_50 += part\n",
    "        h_h_away_integral_error_20_50 += h_h_dphi_20_50.GetBinError(bin_num)**2\n",
    "        h_h_away_integral_error_20_50 += hh_ue_avg_error_20_50**2\n",
    "h_h_total_integral_error_20_50 = math.sqrt(h_h_total_integral_error_20_50)\n",
    "h_h_near_integral_error_20_50 = math.sqrt(h_h_near_integral_error_20_50)\n",
    "h_h_away_integral_error_20_50 = math.sqrt(h_h_away_integral_error_20_50)"
   ]
  },
  {
   "cell_type": "code",
   "execution_count": null,
   "id": "c3b80c48",
   "metadata": {},
   "outputs": [],
   "source": [
    "h_h_total_integral_20_50_highest_pt = 0\n",
    "h_h_near_integral_20_50_highest_pt = 0\n",
    "h_h_away_integral_20_50_highest_pt = 0\n",
    "h_h_ue_integral_20_50_highest_pt = hh_ue_avg_20_50_highest_pt*DPHI_BINS\n",
    "\n",
    "h_h_total_integral_error_20_50_highest_pt = 0\n",
    "h_h_near_integral_error_20_50_highest_pt = 0\n",
    "h_h_away_integral_error_20_50_highest_pt = 0\n",
    "h_h_ue_integral_error_20_50_highest_pt = hh_ue_avg_error_20_50_highest_pt*DPHI_BINS\n",
    "\n",
    "for bin_num in range(1, DPHI_BINS + 1):\n",
    "    h_h_total_integral_20_50_highest_pt += h_h_dphi_20_50_highest_pt.GetBinContent(bin_num)\n",
    "    h_h_total_integral_error_20_50_highest_pt += h_h_dphi_20_50_highest_pt.GetBinError(bin_num)**2\n",
    "    part = h_h_dphi_20_50_highest_pt.GetBinContent(bin_num) - hh_ue_avg_20_50_highest_pt\n",
    "    if part < 0:\n",
    "        continue\n",
    "    if bin_num < 9:\n",
    "        h_h_near_integral_20_50_highest_pt += part\n",
    "        h_h_near_integral_error_20_50_highest_pt += h_h_dphi_20_50_highest_pt.GetBinError(bin_num)**2\n",
    "        h_h_near_integral_error_20_50_highest_pt += hh_ue_avg_error_20_50_highest_pt**2\n",
    "    else:\n",
    "        h_h_away_integral_20_50_highest_pt += part\n",
    "        h_h_away_integral_error_20_50_highest_pt += h_h_dphi_20_50_highest_pt.GetBinError(bin_num)**2\n",
    "        h_h_away_integral_error_20_50_highest_pt += hh_ue_avg_error_20_50_highest_pt**2\n",
    "h_h_total_integral_error_20_50_highest_pt = math.sqrt(h_h_total_integral_error_20_50_highest_pt)\n",
    "h_h_near_integral_error_20_50_highest_pt = math.sqrt(h_h_near_integral_error_20_50_highest_pt)\n",
    "h_h_away_integral_error_20_50_highest_pt = math.sqrt(h_h_away_integral_error_20_50_highest_pt)"
   ]
  },
  {
   "cell_type": "code",
   "execution_count": null,
   "id": "a21c9f2d",
   "metadata": {},
   "outputs": [],
   "source": [
    "near_ratio_20_50 = h_lambda_near_integral_20_50/h_h_near_integral_20_50\n",
    "away_ratio_20_50 = h_lambda_away_integral_20_50/h_h_away_integral_20_50\n",
    "ue_ratio_20_50 = h_lambda_ue_integral_20_50/h_h_ue_integral_20_50\n",
    "total_ratio_20_50 = h_lambda_total_integral_20_50/h_h_total_integral_20_50\n",
    "\n",
    "near_ratio_error_20_50 = near_ratio_20_50*math.sqrt((h_lambda_near_integral_error_20_50/h_lambda_near_integral_20_50)**2\n",
    "                                                 + (h_h_near_integral_error_20_50/h_h_near_integral_20_50)**2)\n",
    "away_ratio_error_20_50 = away_ratio_20_50*math.sqrt((h_lambda_away_integral_error_20_50/h_lambda_away_integral_20_50)**2\n",
    "                                                 + (h_h_away_integral_error_20_50/h_h_away_integral_20_50)**2)\n",
    "ue_ratio_error_20_50 = ue_ratio_20_50*math.sqrt((h_lambda_ue_integral_error_20_50/h_lambda_ue_integral_20_50)**2\n",
    "                                                 + (h_h_ue_integral_error_20_50/h_h_ue_integral_20_50)**2)\n",
    "total_ratio_error_20_50 = total_ratio_20_50*math.sqrt((h_lambda_total_integral_error_20_50/h_lambda_total_integral_20_50)**2\n",
    "                                                 + (h_h_total_integral_error_20_50/h_h_total_integral_20_50)**2)"
   ]
  },
  {
   "cell_type": "code",
   "execution_count": null,
   "id": "8d551bcb",
   "metadata": {},
   "outputs": [],
   "source": [
    "near_ratio_20_50_highest_pt = h_lambda_near_integral_20_50_highest_pt/h_h_near_integral_20_50_highest_pt\n",
    "away_ratio_20_50_highest_pt = h_lambda_away_integral_20_50_highest_pt/h_h_away_integral_20_50_highest_pt\n",
    "ue_ratio_20_50_highest_pt = h_lambda_ue_integral_20_50_highest_pt/h_h_ue_integral_20_50_highest_pt\n",
    "total_ratio_20_50_highest_pt = h_lambda_total_integral_20_50_highest_pt/h_h_total_integral_20_50_highest_pt\n",
    "\n",
    "near_ratio_error_20_50_highest_pt = near_ratio_20_50_highest_pt*math.sqrt((h_lambda_near_integral_error_20_50_highest_pt/h_lambda_near_integral_20_50_highest_pt)**2\n",
    "                                                 + (h_h_near_integral_error_20_50_highest_pt/h_h_near_integral_20_50_highest_pt)**2)\n",
    "away_ratio_error_20_50_highest_pt = away_ratio_20_50_highest_pt*math.sqrt((h_lambda_away_integral_error_20_50_highest_pt/h_lambda_away_integral_20_50_highest_pt)**2\n",
    "                                                 + (h_h_away_integral_error_20_50_highest_pt/h_h_away_integral_20_50_highest_pt)**2)\n",
    "ue_ratio_error_20_50_highest_pt = ue_ratio_20_50_highest_pt*math.sqrt((h_lambda_ue_integral_error_20_50_highest_pt/h_lambda_ue_integral_20_50_highest_pt)**2\n",
    "                                                 + (h_h_ue_integral_error_20_50_highest_pt/h_h_ue_integral_20_50_highest_pt)**2)\n",
    "total_ratio_error_20_50_highest_pt = total_ratio_20_50_highest_pt*math.sqrt((h_lambda_total_integral_error_20_50_highest_pt/h_lambda_total_integral_20_50_highest_pt)**2\n",
    "                                                 + (h_h_total_integral_error_20_50_highest_pt/h_h_total_integral_20_50_highest_pt)**2)"
   ]
  },
  {
   "cell_type": "markdown",
   "id": "6d062c30",
   "metadata": {},
   "source": [
    "# 50 - 80 setup"
   ]
  },
  {
   "cell_type": "code",
   "execution_count": null,
   "id": "e5871500",
   "metadata": {},
   "outputs": [],
   "source": [
    "input_file_50_80 = rt.TFile(\"~/OneDrive/Research/Output/lambda-over-hadron/data/cent_50_80_v2.root\")\n",
    "input_list_50_80 = input_file_50_80.Get(\"h-lambda\")\n",
    "input_file_50_80.Close()"
   ]
  },
  {
   "cell_type": "code",
   "execution_count": null,
   "id": "dae943c3",
   "metadata": {},
   "outputs": [],
   "source": [
    "trig_dist_50_80 = input_list_50_80.FindObject(\"fTriggerDistEff\")\n",
    "lambda_dist_50_80 = input_list_50_80.FindObject(\"fTriggeredLambdaDist\")"
   ]
  },
  {
   "cell_type": "code",
   "execution_count": null,
   "id": "a9aa7c0e",
   "metadata": {},
   "outputs": [],
   "source": [
    "#trig_dist_50_80_highest_pt = input_list_50_80.FindObject(\"fTriggerDistEff_highestPt\")\n",
    "trig_dist_50_80_highest_pt = input_list_50_80.FindObject(\"fTriggerDistEff\")"
   ]
  },
  {
   "cell_type": "code",
   "execution_count": null,
   "id": "3079d9a8",
   "metadata": {},
   "outputs": [],
   "source": [
    "h_h_50_80 = input_list_50_80.FindObject(\"fDphiHHEff\")\n",
    "h_h_50_80_noeff = input_list_50_80.FindObject(\"fDphiHH\")\n",
    "h_h_mixed_50_80 = input_list_50_80.FindObject(\"fDphiHHMixed\")"
   ]
  },
  {
   "cell_type": "code",
   "execution_count": null,
   "id": "5076189d",
   "metadata": {},
   "outputs": [],
   "source": [
    "#h_h_50_80_highest_pt = input_list_50_80.FindObject(\"fDphiHHEff_highestPt\")\n",
    "h_h_50_80_highest_pt = input_list_50_80.FindObject(\"fDphiHHEff\")\n",
    "#h_h_mixed_50_80_highest_pt = input_list_50_80.FindObject(\"fDphiHHMixed_highestPt\")\n",
    "h_h_mixed_50_80_highest_pt = input_list_50_80.FindObject(\"fDphiHHMixed\")"
   ]
  },
  {
   "cell_type": "code",
   "execution_count": null,
   "id": "d1655571",
   "metadata": {},
   "outputs": [],
   "source": [
    "h_lambda_50_80 = input_list_50_80.FindObject(\"fDphiHLambdaEff\")\n",
    "h_lambda_ls_50_80 = input_list_50_80.FindObject(\"fDphiHLambdaLS\")\n",
    "h_lambda_mixed_50_80 = input_list_50_80.FindObject(\"fDphiHLambdaMixed\")\n",
    "h_lambda_ls_mixed_50_80 = input_list_50_80.FindObject(\"fDphiHLambdaLSMixed\")"
   ]
  },
  {
   "cell_type": "code",
   "execution_count": null,
   "id": "9b4e23b0",
   "metadata": {},
   "outputs": [],
   "source": [
    "h_lambda_mixed_50_80_highest_pt = input_list_50_80.FindObject(\"fDphiHLambdaMixed\")\n",
    "#h_lambda_mixed_50_80_highest_pt = input_list_50_80.FindObject(\"fDphiHLambdaMixed_highestPt\")\n",
    "h_lambda_50_80_highest_pt = input_list_50_80.FindObject(\"fDphiHLambdaEff\")\n",
    "#h_lambda_50_80_highest_pt = input_list_50_80.FindObject(\"fDphiHLambdaEff_highestPt\")"
   ]
  },
  {
   "cell_type": "code",
   "execution_count": null,
   "id": "b3c3211a",
   "metadata": {},
   "outputs": [],
   "source": [
    "# Setting the trigger Pt (this is never changed again)\n",
    "trig_dist_50_80.GetAxis(0).SetRangeUser(TRIG_PT_LOW, TRIG_PT_HIGH)\n",
    "trig_dist_50_80_highest_pt.GetAxis(0).SetRangeUser(TRIG_PT_LOW, TRIG_PT_HIGH)\n",
    "h_h_50_80.GetAxis(0).SetRangeUser(TRIG_PT_LOW, TRIG_PT_HIGH)\n",
    "h_h_50_80_highest_pt.GetAxis(0).SetRangeUser(TRIG_PT_LOW, TRIG_PT_HIGH)\n",
    "h_h_50_80_noeff.GetAxis(0).SetRangeUser(TRIG_PT_LOW, TRIG_PT_HIGH)\n",
    "h_h_mixed_50_80.GetAxis(0).SetRangeUser(TRIG_PT_LOW, TRIG_PT_HIGH)\n",
    "h_h_mixed_50_80_highest_pt.GetAxis(0).SetRangeUser(TRIG_PT_LOW, TRIG_PT_HIGH)\n",
    "h_lambda_50_80.GetAxis(0).SetRangeUser(TRIG_PT_LOW, TRIG_PT_HIGH)\n",
    "h_lambda_50_80_highest_pt.GetAxis(0).SetRangeUser(TRIG_PT_LOW, TRIG_PT_HIGH)\n",
    "h_lambda_ls_50_80.GetAxis(0).SetRangeUser(TRIG_PT_LOW, TRIG_PT_HIGH)\n",
    "h_lambda_mixed_50_80.GetAxis(0).SetRangeUser(TRIG_PT_LOW, TRIG_PT_HIGH)\n",
    "h_lambda_mixed_50_80_highest_pt.GetAxis(0).SetRangeUser(TRIG_PT_LOW, TRIG_PT_HIGH)\n",
    "h_lambda_ls_mixed_50_80.GetAxis(0).SetRangeUser(TRIG_PT_LOW, TRIG_PT_HIGH)"
   ]
  },
  {
   "cell_type": "code",
   "execution_count": null,
   "id": "a0d77709",
   "metadata": {},
   "outputs": [],
   "source": [
    "# Setting the associated Pt (this is never changed again)\n",
    "lambda_dist_50_80.GetAxis(0).SetRangeUser(ASSOC_PT_LOW, ASSOC_PT_HIGH)\n",
    "h_h_50_80.GetAxis(1).SetRangeUser(ASSOC_PT_LOW, ASSOC_PT_HIGH)\n",
    "h_h_50_80_highest_pt.GetAxis(1).SetRangeUser(ASSOC_PT_LOW, ASSOC_PT_HIGH)\n",
    "h_h_50_80_noeff.GetAxis(1).SetRangeUser(ASSOC_PT_LOW, ASSOC_PT_HIGH)\n",
    "h_h_mixed_50_80_highest_pt.GetAxis(1).SetRangeUser(ASSOC_PT_LOW, ASSOC_PT_HIGH)\n",
    "h_lambda_50_80.GetAxis(1).SetRangeUser(ASSOC_PT_LOW, ASSOC_PT_HIGH)\n",
    "h_lambda_50_80_highest_pt.GetAxis(1).SetRangeUser(ASSOC_PT_LOW, ASSOC_PT_HIGH)\n",
    "h_lambda_ls_50_80.GetAxis(1).SetRangeUser(ASSOC_PT_LOW, ASSOC_PT_HIGH)\n",
    "h_lambda_mixed_50_80.GetAxis(1).SetRangeUser(ASSOC_PT_LOW, ASSOC_PT_HIGH)\n",
    "h_lambda_mixed_50_80_highest_pt.GetAxis(1).SetRangeUser(ASSOC_PT_LOW, ASSOC_PT_HIGH)\n",
    "h_lambda_ls_mixed_50_80.GetAxis(1).SetRangeUser(ASSOC_PT_LOW, ASSOC_PT_HIGH)"
   ]
  },
  {
   "cell_type": "code",
   "execution_count": null,
   "id": "a4c762c9",
   "metadata": {},
   "outputs": [],
   "source": [
    "trig_pt_dist_50_80 = trig_dist_50_80.Projection(0).Clone(\"trig_pt_dist_50_80\")\n",
    "trig_phi_dist_50_80 = trig_dist_50_80.Projection(1).Clone(\"trig_phi_dist_50_80\")\n",
    "trig_eta_dist_50_80 = trig_dist_50_80.Projection(2).Clone(\"trig_eta_dist_50_80\")\n",
    "trig_2d_dist_50_80 = trig_dist_50_80.Projection(0, 3).Clone(\"trig_2d_dist_50_80\")\n",
    "\n",
    "trig_pt_dist_50_80.SetTitle(\"Trigger #font[12]{p}_{T} Distribution (red: all, blue: highest)\")\n",
    "trig_pt_dist_50_80.Sumw2()\n",
    "trig_pt_dist_50_80.SetLineColor(rt.kRed)\n",
    "\n",
    "trig_phi_dist_50_80.SetTitle(\"Trigger #varphi Distribution (Hybrid GCG)\")\n",
    "trig_phi_dist_50_80.Sumw2()\n",
    "trig_phi_dist_50_80.SetLineColor(rt.kRed)\n",
    "\n",
    "trig_eta_dist_50_80.SetTitle(\"Trigger #eta Distribution (Hybrid GCG)\")\n",
    "trig_eta_dist_50_80.Sumw2()\n",
    "trig_eta_dist_50_80.SetLineColor(rt.kRed)"
   ]
  },
  {
   "cell_type": "code",
   "execution_count": null,
   "id": "3e63e3d6",
   "metadata": {},
   "outputs": [],
   "source": [
    "trig_pt_dist_50_80_highest_pt = trig_dist_50_80_highest_pt.Projection(0).Clone(\"trig_pt_dist_50_80_highest_pt\")\n",
    "trig_phi_dist_50_80_highest_pt = trig_dist_50_80_highest_pt.Projection(1).Clone(\"trig_phi_dist_50_80_highest_pt\")\n",
    "trig_eta_dist_50_80_highest_pt = trig_dist_50_80_highest_pt.Projection(2).Clone(\"trig_eta_dist_50_80_highest_pt\")\n",
    "trig_2d_dist_50_80_highest_pt = trig_dist_50_80_highest_pt.Projection(0, 3).Clone(\"trig_2d_dist_50_80_highest_pt\")\n",
    "\n",
    "trig_pt_dist_50_80_highest_pt.SetTitle(\"Trigger #font[12]{p}_{T} Distribution (red: all, blue: highest)\")\n",
    "trig_pt_dist_50_80_highest_pt.Sumw2()\n",
    "trig_pt_dist_50_80_highest_pt.SetLineColor(rt.kRed)\n",
    "\n",
    "trig_phi_dist_50_80_highest_pt.SetTitle(\"Trigger #varphi Distribution (Hybrid GCG)\")\n",
    "trig_phi_dist_50_80_highest_pt.Sumw2()\n",
    "trig_phi_dist_50_80_highest_pt.SetLineColor(rt.kRed)\n",
    "\n",
    "trig_eta_dist_50_80_highest_pt.SetTitle(\"Trigger #eta Distribution (Hybrid GCG)\")\n",
    "trig_eta_dist_50_80_highest_pt.Sumw2()\n",
    "trig_eta_dist_50_80_highest_pt.SetLineColor(rt.kRed)"
   ]
  },
  {
   "cell_type": "code",
   "execution_count": null,
   "id": "a3eae132",
   "metadata": {},
   "outputs": [],
   "source": [
    "num_trigs_50_80 = trig_2d_dist_50_80.Integral()\n",
    "num_trigs_50_80_highest_pt = trig_2d_dist_50_80_highest_pt.Integral()"
   ]
  },
  {
   "cell_type": "code",
   "execution_count": null,
   "id": "97465bfe",
   "metadata": {},
   "outputs": [],
   "source": [
    "trig_pt_dist_50_80.Draw()\n",
    "trig_pt_dist_50_80_highest_pt.SetLineColor(rt.kBlue)\n",
    "trig_pt_dist_50_80_highest_pt.Draw(\"SAME\")\n",
    "c.Draw()"
   ]
  },
  {
   "cell_type": "code",
   "execution_count": null,
   "id": "5fbdd48d",
   "metadata": {},
   "outputs": [],
   "source": [
    "trig_pt_dist_50_80.Scale(1/num_trigs_50_80)\n",
    "trig_pt_dist_50_80_highest_pt.Scale(1/num_trigs_50_80_highest_pt)"
   ]
  },
  {
   "cell_type": "code",
   "execution_count": null,
   "id": "7d0f7cb3",
   "metadata": {},
   "outputs": [],
   "source": [
    "trig_pt_dist_50_80.SetTitle(\"Trigger p_{T} distribution (red: all, blue:highest, normalized)\")\n",
    "trig_pt_dist_50_80.Draw()\n",
    "trig_pt_dist_50_80_highest_pt.SetLineColor(rt.kBlue)\n",
    "trig_pt_dist_50_80_highest_pt.Draw(\"SAME\")\n",
    "c.Draw()"
   ]
  },
  {
   "cell_type": "code",
   "execution_count": null,
   "id": "927394c9",
   "metadata": {},
   "outputs": [],
   "source": [
    "trig_eta_dist_50_80.Draw()\n",
    "c.Draw()"
   ]
  },
  {
   "cell_type": "code",
   "execution_count": null,
   "id": "61eb59c5",
   "metadata": {},
   "outputs": [],
   "source": [
    "trig_phi_dist_50_80.Draw()\n",
    "c.Draw()"
   ]
  },
  {
   "cell_type": "markdown",
   "id": "d77f345d",
   "metadata": {},
   "source": [
    "### Signal analysis section"
   ]
  },
  {
   "cell_type": "code",
   "execution_count": null,
   "id": "24be6652",
   "metadata": {},
   "outputs": [],
   "source": [
    "# eta cuts first\n",
    "lambda_dist_50_80.GetAxis(2).SetRangeUser(-0.8, 0.8)\n",
    "lambda_mass_dist_50_80 = lambda_dist_50_80.Projection(3).Clone(\"lambda_mass_dist_50_80\")"
   ]
  },
  {
   "cell_type": "code",
   "execution_count": null,
   "id": "ac4c8864",
   "metadata": {},
   "outputs": [],
   "source": [
    "lambda_mass_dist_50_80.SetTitle(\"#Lambda^{0} invariant mass distribution (p-#pi)\")\n",
    "lambda_mass_dist_50_80.Sumw2()\n",
    "lambda_mass_dist_50_80.SetLineWidth(2)\n",
    "lambda_mass_dist_50_80.GetXaxis().SetTitle(\"Mass (GeV/c^{2})\")\n",
    "lambda_mass_dist_50_80.GetYaxis().SetTitle(\"#frac{dN_{p-#pi}}{dM}\")"
   ]
  },
  {
   "cell_type": "code",
   "execution_count": null,
   "id": "493457d6",
   "metadata": {},
   "outputs": [],
   "source": [
    "lambda_mass_dist_50_80.Draw()\n",
    "c.Draw()"
   ]
  },
  {
   "cell_type": "code",
   "execution_count": null,
   "id": "19984fa0",
   "metadata": {},
   "outputs": [],
   "source": [
    "bin_1 = lambda_mass_dist_50_80.FindBin(1.09)\n",
    "bin_2 = lambda_mass_dist_50_80.FindBin(1.15)\n",
    "bin_3 = lambda_mass_dist_50_80.FindBin(1.16 - EPSILON)\n",
    "point_one = [1.09, lambda_mass_dist_50_80.GetBinContent(bin_1)]\n",
    "point_two = [1.15, lambda_mass_dist_50_80.GetBinContent(bin_2)]\n",
    "point_three = [1.16, lambda_mass_dist_50_80.GetBinContent(bin_3)]\n",
    "bg_starting_params_50_80 = get_parabola(point_one, point_two, point_three)"
   ]
  },
  {
   "cell_type": "code",
   "execution_count": null,
   "id": "cf8af5da",
   "metadata": {},
   "outputs": [],
   "source": [
    "lambda_mass_fit_50_80 = rt.TF1(\"lambda_mass_fit_50_80\", \"[0]*TMath::Voigt(x - [1], [2], [3], 4) + pol2(4)\", 1.09, 1.155)\n",
    "lambda_mass_fit_50_80.SetNpx(1000)\n",
    "lambda_mass_fit_50_80.SetParameter(0, 1.36753e01)\n",
    "lambda_mass_fit_50_80.FixParameter(1, 1.11581)\n",
    "lambda_mass_fit_50_80.SetParameter(2, 1.00576e-05 )\n",
    "lambda_mass_fit_50_80.SetParameter(3, 6.04166e-03)\n",
    "lambda_mass_fit_50_80.SetParameter(4, bg_starting_params_50_80[0])\n",
    "lambda_mass_fit_50_80.SetParameter(5, bg_starting_params_50_80[1])\n",
    "lambda_mass_fit_50_80.SetParameter(6, bg_starting_params_50_80[2])"
   ]
  },
  {
   "cell_type": "code",
   "execution_count": null,
   "id": "dd3224d2",
   "metadata": {},
   "outputs": [],
   "source": [
    "lambda_mass_dist_fit_50_80 = lambda_mass_dist_50_80.Clone(\"lambda_mass_dist_fit_50_80\")\n",
    "lambda_mass_dist_fit_50_80.Fit(lambda_mass_fit_50_80, \"RS\")\n",
    "lambda_mass_dist_fit_50_80.Draw()\n",
    "c.Draw()"
   ]
  },
  {
   "cell_type": "code",
   "execution_count": null,
   "id": "9f36a122",
   "metadata": {},
   "outputs": [],
   "source": [
    "bg_fit_50_80 = rt.TF1(\"bg_fit_50_80\", \"pol2\", 1.09, 1.15)\n",
    "bg_fit_50_80.SetParameter(0, lambda_mass_fit_50_80.GetParameter(4))\n",
    "bg_fit_50_80.SetParameter(1, lambda_mass_fit_50_80.GetParameter(5))\n",
    "bg_fit_50_80.SetParameter(2, lambda_mass_fit_50_80.GetParameter(6))\n",
    "bg_fit_50_80.SetNpx(1000)\n",
    "bg_fit_50_80.SetLineColor(rt.kMagenta)\n",
    "lambda_mass_dist_fit_50_80.Draw()\n",
    "bg_fit_50_80.Draw(\"SAME\")\n",
    "c.Draw()"
   ]
  },
  {
   "cell_type": "code",
   "execution_count": null,
   "id": "3102292b",
   "metadata": {},
   "outputs": [],
   "source": [
    "left_signal_bin_50_80 = lambda_mass_dist_fit_50_80.FindBin(SIG_MIN)\n",
    "right_signal_bin_50_80 = lambda_mass_dist_fit_50_80.FindBin(SIG_MAX)\n",
    "\n",
    "lambda_bg_50_80 = 0\n",
    "lambda_total_50_80 = 0\n",
    "for bin_num in range(left_signal_bin_50_80, right_signal_bin_50_80 + 1):\n",
    "    bin_center = lambda_mass_dist_fit_50_80.GetBinCenter(bin_num)\n",
    "    lambda_bg_50_80 += bg_fit_50_80.Eval(bin_center)\n",
    "    lambda_total_50_80 += lambda_mass_dist_fit_50_80.GetBinContent(bin_num)\n",
    "\n",
    "lambda_signal_50_80 = lambda_total_50_80 - lambda_bg_50_80\n",
    "lambda_signal_total_ratio_50_80 = lambda_signal_50_80/lambda_total_50_80\n",
    "lambda_signal_bg_ratio_50_80 = lambda_signal_50_80/lambda_bg_50_80\n",
    "print(f\"The 50-80 lambda signal is: {lambda_signal_50_80}\")\n",
    "print(f\"The 50-80 lambda background is: {lambda_bg_50_80}\")\n",
    "print(f\"The 50-80 lambda S/B is: {lambda_signal_bg_ratio_50_80}\")\n",
    "print(f\"The 50-80 lambda S/T is: {lambda_signal_total_ratio_50_80}\")\n",
    "print(f\"The 50-80 lambda significance is: {lambda_signal_50_80/math.sqrt(lambda_signal_50_80 + lambda_bg_50_80)}\")"
   ]
  },
  {
   "cell_type": "markdown",
   "id": "1ca20979",
   "metadata": {},
   "source": [
    "### Mixed event correction section"
   ]
  },
  {
   "cell_type": "code",
   "execution_count": null,
   "id": "a96a53f4",
   "metadata": {},
   "outputs": [],
   "source": [
    "axes = arr.array('i', [2, 3, 4, 5])\n",
    "h_lambda_50_80 = h_lambda_50_80.Projection(4, axes)\n",
    "h_lambda_50_80_highest_pt = h_lambda_50_80_highest_pt.Projection(4, axes)\n",
    "h_lambda_ls_50_80 = h_lambda_ls_50_80.Projection(4, axes)\n",
    "h_lambda_mixed_50_80 = h_lambda_mixed_50_80.Projection(4, axes)\n",
    "h_lambda_mixed_50_80_highest_pt = h_lambda_mixed_50_80_highest_pt.Projection(4, axes)\n",
    "h_lambda_ls_mixed_50_80 = h_lambda_ls_mixed_50_80.Projection(4, axes)"
   ]
  },
  {
   "cell_type": "code",
   "execution_count": null,
   "id": "c568e23e",
   "metadata": {},
   "outputs": [],
   "source": [
    "h_h_50_80 = h_h_50_80.Projection(2, 3, 4)\n",
    "h_h_50_80_highest_pt = h_h_50_80_highest_pt.Projection(2, 3, 4)\n",
    "h_h_mixed_50_80 = h_h_mixed_50_80.Projection(2, 3, 4)\n",
    "h_h_mixed_50_80_highest_pt = h_h_mixed_50_80_highest_pt.Projection(2, 3, 4)"
   ]
  },
  {
   "cell_type": "code",
   "execution_count": null,
   "id": "0c5a8fff",
   "metadata": {},
   "outputs": [],
   "source": [
    "# Setting up 2-d correlation plots before the mixed event correction\n",
    "h_lambda_2d_nomixcor_50_80 = h_lambda_50_80.Projection(0, 1).Clone(\"h_lambda_2d_nomixcor_50_80\")\n",
    "h_lambda_2d_nomixcor_50_80_highest_pt = h_lambda_50_80_highest_pt.Projection(0, 1).Clone(\"h_lambda_2d_nomixcor_50_80_highest_pt\")\n",
    "h_lambda_ls_2d_nomixcor_50_80 = h_lambda_ls_50_80.Projection(0, 1).Clone(\"h_lambda_ls_2d_nomixcor_50_80\")\n",
    "h_lambda_mixed_2d_50_80 = h_lambda_mixed_50_80.Projection(0, 1).Clone(\"h_lambda_mixed_2d_50_80\")\n",
    "h_lambda_mixed_2d_50_80_highest_pt = h_lambda_mixed_50_80_highest_pt.Projection(0, 1).Clone(\"h_lambda_mixed_2d_50_80_highest_pt\")"
   ]
  },
  {
   "cell_type": "code",
   "execution_count": null,
   "id": "7c9cbb09",
   "metadata": {},
   "outputs": [],
   "source": [
    "h_h_2d_nomixcor_50_80 = h_h_50_80_highest_pt.Project3D(\"xye\").Clone(\"h_h_2d_nomixcor_50_80\")\n",
    "h_h_2d_nomixcor_50_80_highest_pt = h_h_50_80_highest_pt.Project3D(\"xye\").Clone(\"h_h_2d_nomixcor_50_80_highest_pt\")\n",
    "h_h_mixed_2d_50_80 = h_h_mixed_50_80.Project3D(\"xye\").Clone(\"h_h_mixed_2d_50_80\")\n",
    "h_h_mixed_2d_50_80_highest_pt = h_h_mixed_50_80_highest_pt.Project3D(\"xye\").Clone(\"h_h_mixed_2d_50_80_highest_pt\")"
   ]
  },
  {
   "cell_type": "code",
   "execution_count": null,
   "id": "98dc6317",
   "metadata": {},
   "outputs": [],
   "source": [
    "h_lambda_2d_nomixcor_50_80.SetTitle(\"h-#Lambda^{0} #Delta#varphi#Delta#eta (no acceptance correction)\")\n",
    "h_lambda_2d_nomixcor_50_80.GetYaxis().SetTitle(\"#Delta#varphi_{h-#Lambda^{0}}\")\n",
    "h_lambda_2d_nomixcor_50_80.GetXaxis().SetTitle(\"#Delta#eta_{h-#Lambda^{0}}\")\n",
    "h_lambda_2d_nomixcor_50_80.GetXaxis().SetTitleSize(0.05)\n",
    "h_lambda_2d_nomixcor_50_80.GetXaxis().SetTitleOffset(1.3)\n",
    "h_lambda_2d_nomixcor_50_80.GetYaxis().SetTitleSize(0.05)\n",
    "h_lambda_2d_nomixcor_50_80.GetYaxis().SetTitleOffset(1.3)\n",
    "\n",
    "h_lambda_ls_2d_nomixcor_50_80.SetTitle(\"h-#Lambda^{0} (LS) #Delta#varphi#Delta#eta (no acceptance correction)\")\n",
    "h_lambda_ls_2d_nomixcor_50_80.GetYaxis().SetTitle(\"#Delta#varphi_{h-#Lambda^{0}}\")\n",
    "h_lambda_ls_2d_nomixcor_50_80.GetXaxis().SetTitle(\"#Delta#eta_{h-#Lambda^{0}}\")\n",
    "h_lambda_ls_2d_nomixcor_50_80.GetXaxis().SetTitleSize(0.05)\n",
    "h_lambda_ls_2d_nomixcor_50_80.GetXaxis().SetTitleOffset(1.3)\n",
    "h_lambda_ls_2d_nomixcor_50_80.GetYaxis().SetTitleSize(0.05)\n",
    "h_lambda_ls_2d_nomixcor_50_80.GetYaxis().SetTitleOffset(1.3)\n",
    "\n",
    "h_lambda_mixed_2d_50_80.SetTitle(\"Mixed-event h-#Lambda^{0} #Delta#varphi#Delta#eta\")\n",
    "h_lambda_mixed_2d_50_80.GetYaxis().SetTitle(\"#Delta#varphi_{h-#Lambda^{0}}\")\n",
    "h_lambda_mixed_2d_50_80.GetXaxis().SetTitle(\"#Delta#eta_{h-#Lambda^{0}}\")\n",
    "h_lambda_mixed_2d_50_80.GetXaxis().SetTitleSize(0.05)\n",
    "h_lambda_mixed_2d_50_80.GetXaxis().SetTitleOffset(1.3)\n",
    "h_lambda_mixed_2d_50_80.GetYaxis().SetTitleSize(0.05)\n",
    "h_lambda_mixed_2d_50_80.GetYaxis().SetTitleOffset(1.3)\n",
    "\n",
    "h_lambda_2d_nomixcor_50_80_highest_pt.SetTitle(\"h-#Lambda^{0} #Delta#varphi#Delta#eta (no acceptance correction, highest p_{t} trigger)\")\n",
    "h_lambda_2d_nomixcor_50_80_highest_pt.GetYaxis().SetTitle(\"#Delta#varphi_{h-#Lambda^{0}}\")\n",
    "h_lambda_2d_nomixcor_50_80_highest_pt.GetXaxis().SetTitle(\"#Delta#eta_{h-#Lambda^{0}}\")\n",
    "h_lambda_2d_nomixcor_50_80_highest_pt.GetXaxis().SetTitleSize(0.05)\n",
    "h_lambda_2d_nomixcor_50_80_highest_pt.GetXaxis().SetTitleOffset(1.3)\n",
    "h_lambda_2d_nomixcor_50_80_highest_pt.GetYaxis().SetTitleSize(0.05)\n",
    "h_lambda_2d_nomixcor_50_80_highest_pt.GetYaxis().SetTitleOffset(1.3)\n",
    "\n",
    "h_lambda_mixed_2d_50_80_highest_pt.SetTitle(\"Mixed-event h-#Lambda^{0} #Delta#varphi#Delta#eta (highest p_{T} trigger)\")\n",
    "h_lambda_mixed_2d_50_80_highest_pt.GetYaxis().SetTitle(\"#Delta#varphi_{h-#Lambda^{0}}\")\n",
    "h_lambda_mixed_2d_50_80_highest_pt.GetXaxis().SetTitle(\"#Delta#eta_{h-#Lambda^{0}}\")\n",
    "h_lambda_mixed_2d_50_80_highest_pt.GetXaxis().SetTitleSize(0.05)\n",
    "h_lambda_mixed_2d_50_80_highest_pt.GetXaxis().SetTitleOffset(1.3)\n",
    "h_lambda_mixed_2d_50_80_highest_pt.GetYaxis().SetTitleSize(0.05)\n",
    "h_lambda_mixed_2d_50_80_highest_pt.GetYaxis().SetTitleOffset(1.3)"
   ]
  },
  {
   "cell_type": "code",
   "execution_count": null,
   "id": "70a1bc1a",
   "metadata": {},
   "outputs": [],
   "source": [
    "h_h_2d_nomixcor_50_80.SetTitle(\"h-h #Delta#varphi#Delta#eta (no acceptance correction)\")\n",
    "h_h_2d_nomixcor_50_80.GetYaxis().SetTitle(\"#Delta#varphi_{h-#Lambda^{0}}\")\n",
    "h_h_2d_nomixcor_50_80.GetXaxis().SetTitle(\"#Delta#eta_{h-#Lambda^{0}}\")\n",
    "h_h_2d_nomixcor_50_80.GetXaxis().SetTitleSize(0.05)\n",
    "h_h_2d_nomixcor_50_80.GetXaxis().SetTitleOffset(1.3)\n",
    "h_h_2d_nomixcor_50_80.GetYaxis().SetTitleSize(0.05)\n",
    "h_h_2d_nomixcor_50_80.GetYaxis().SetTitleOffset(1.3)\n",
    "\n",
    "h_h_mixed_2d_50_80.SetTitle(\"Mixed-event h-h #Delta#varphi#Delta#eta\")\n",
    "h_h_mixed_2d_50_80.GetYaxis().SetTitle(\"#Delta#varphi_{h-#Lambda^{0}}\")\n",
    "h_h_mixed_2d_50_80.GetXaxis().SetTitle(\"#Delta#eta_{h-#Lambda^{0}}\")\n",
    "h_h_mixed_2d_50_80.GetXaxis().SetTitleSize(0.05)\n",
    "h_h_mixed_2d_50_80.GetXaxis().SetTitleOffset(1.3)\n",
    "h_h_mixed_2d_50_80.GetYaxis().SetTitleSize(0.05)\n",
    "h_h_mixed_2d_50_80.GetYaxis().SetTitleOffset(1.3)\n",
    "\n",
    "h_h_2d_nomixcor_50_80_highest_pt.SetTitle(\"h-h #Delta#varphi#Delta#eta (no acceptance correction, highest p_{T} trigger)\")\n",
    "h_h_2d_nomixcor_50_80_highest_pt.GetYaxis().SetTitle(\"#Delta#varphi_{h-#Lambda^{0}}\")\n",
    "h_h_2d_nomixcor_50_80_highest_pt.GetXaxis().SetTitle(\"#Delta#eta_{h-#Lambda^{0}}\")\n",
    "h_h_2d_nomixcor_50_80_highest_pt.GetXaxis().SetTitleSize(0.05)\n",
    "h_h_2d_nomixcor_50_80_highest_pt.GetXaxis().SetTitleOffset(1.3)\n",
    "h_h_2d_nomixcor_50_80_highest_pt.GetYaxis().SetTitleSize(0.05)\n",
    "h_h_2d_nomixcor_50_80_highest_pt.GetYaxis().SetTitleOffset(1.3)\n",
    "\n",
    "h_h_mixed_2d_50_80_highest_pt.SetTitle(\"Mixed-event h-h #Delta#varphi#Delta#eta\")\n",
    "h_h_mixed_2d_50_80_highest_pt.GetYaxis().SetTitle(\"#Delta#varphi_{h-#Lambda^{0}}\")\n",
    "h_h_mixed_2d_50_80_highest_pt.GetXaxis().SetTitle(\"#Delta#eta_{h-#Lambda^{0}}\")\n",
    "h_h_mixed_2d_50_80_highest_pt.GetXaxis().SetTitleSize(0.05)\n",
    "h_h_mixed_2d_50_80_highest_pt.GetXaxis().SetTitleOffset(1.3)\n",
    "h_h_mixed_2d_50_80_highest_pt.GetYaxis().SetTitleSize(0.05)\n",
    "h_h_mixed_2d_50_80_highest_pt.GetYaxis().SetTitleOffset(1.3)"
   ]
  },
  {
   "cell_type": "code",
   "execution_count": null,
   "id": "3b6a31ed",
   "metadata": {},
   "outputs": [],
   "source": [
    "c.SetTheta(50)\n",
    "c.SetPhi(50)\n",
    "h_lambda_2d_nomixcor_50_80.GetXaxis().SetRangeUser(-DELTA_ETA_MAX, DELTA_ETA_MAX)\n",
    "h_lambda_2d_nomixcor_50_80.Draw(\"SURF1\")\n",
    "c.Draw()"
   ]
  },
  {
   "cell_type": "code",
   "execution_count": null,
   "id": "37d9752b",
   "metadata": {},
   "outputs": [],
   "source": [
    "c.SetTheta(50)\n",
    "c.SetPhi(50)\n",
    "h_lambda_2d_nomixcor_50_80_highest_pt.GetXaxis().SetRangeUser(-DELTA_ETA_MAX, DELTA_ETA_MAX)\n",
    "h_lambda_2d_nomixcor_50_80_highest_pt.Draw(\"SURF1\")\n",
    "c.Draw()"
   ]
  },
  {
   "cell_type": "code",
   "execution_count": null,
   "id": "e74da33c",
   "metadata": {},
   "outputs": [],
   "source": [
    "c.SetTheta(50)\n",
    "c.SetPhi(50)\n",
    "h_lambda_mixed_2d_50_80.GetXaxis().SetRangeUser(-DELTA_ETA_MAX, DELTA_ETA_MAX)\n",
    "h_lambda_mixed_2d_50_80.Draw(\"SURF1\")\n",
    "c.Draw()"
   ]
  },
  {
   "cell_type": "code",
   "execution_count": null,
   "id": "4489bd5a",
   "metadata": {},
   "outputs": [],
   "source": [
    "c.SetTheta(50)\n",
    "c.SetPhi(50)\n",
    "h_h_2d_nomixcor_50_80.GetXaxis().SetRangeUser(-DELTA_ETA_MAX, DELTA_ETA_MAX)\n",
    "h_h_2d_nomixcor_50_80.Draw(\"SURF1\")\n",
    "c.Draw()"
   ]
  },
  {
   "cell_type": "code",
   "execution_count": null,
   "id": "ef2332be",
   "metadata": {},
   "outputs": [],
   "source": [
    "c.SetTheta(50)\n",
    "c.SetPhi(50)\n",
    "h_h_mixed_2d_50_80.GetXaxis().SetRangeUser(-DELTA_ETA_MAX, DELTA_ETA_MAX)\n",
    "h_h_mixed_2d_50_80.Draw(\"SURF1\")\n",
    "c.Draw()"
   ]
  },
  {
   "cell_type": "code",
   "execution_count": null,
   "id": "89df1476",
   "metadata": {},
   "outputs": [],
   "source": [
    "h_lambda_2d_mixcor_lsb_50_80 = make_mixed_corrections(h_lambda_50_80, h_lambda_mixed_50_80, LSB_MIN, LSB_MAX)\n",
    "h_lambda_2d_mixcor_sig_50_80 = make_mixed_corrections(h_lambda_50_80, h_lambda_mixed_50_80, SIG_MIN, SIG_MAX)\n",
    "h_lambda_2d_mixcor_rsb_50_80 = make_mixed_corrections(h_lambda_50_80, h_lambda_mixed_50_80, RSB_MIN, RSB_MAX)\n",
    "h_lambda_ls_2d_mixcor_lsb_50_80 = make_mixed_corrections(h_lambda_ls_50_80, h_lambda_ls_mixed_50_80, LSB_MIN, LSB_MAX)\n",
    "h_lambda_ls_2d_mixcor_sig_50_80 = make_mixed_corrections(h_lambda_ls_50_80, h_lambda_ls_mixed_50_80, SIG_MIN, SIG_MAX)\n",
    "h_lambda_ls_2d_mixcor_rsb_50_80 = make_mixed_corrections(h_lambda_ls_50_80, h_lambda_ls_mixed_50_80, RSB_MIN, RSB_MAX)"
   ]
  },
  {
   "cell_type": "code",
   "execution_count": null,
   "id": "36c4199a",
   "metadata": {},
   "outputs": [],
   "source": [
    "h_lambda_2d_mixcor_lsb_50_80_highest_pt = make_mixed_corrections(h_lambda_50_80_highest_pt, h_lambda_mixed_50_80_highest_pt, LSB_MIN, LSB_MAX)\n",
    "h_lambda_2d_mixcor_sig_50_80_highest_pt = make_mixed_corrections(h_lambda_50_80_highest_pt, h_lambda_mixed_50_80_highest_pt, SIG_MIN, SIG_MAX)\n",
    "h_lambda_2d_mixcor_rsb_50_80_highest_pt = make_mixed_corrections(h_lambda_50_80_highest_pt, h_lambda_mixed_50_80_highest_pt, RSB_MIN, RSB_MAX)"
   ]
  },
  {
   "cell_type": "code",
   "execution_count": null,
   "id": "58a26d90",
   "metadata": {},
   "outputs": [],
   "source": [
    "h_h_2d_mixcor_50_80 = make_mixed_corrections(h_h_50_80, h_h_mixed_50_80, LSB_MIN, LSB_MAX, is_hh=True)\n",
    "h_h_2d_mixcor_50_80_highest_pt = make_mixed_corrections(h_h_50_80_highest_pt, h_h_mixed_50_80_highest_pt, LSB_MIN, LSB_MAX, is_hh=True)"
   ]
  },
  {
   "cell_type": "code",
   "execution_count": null,
   "id": "35de3d55",
   "metadata": {},
   "outputs": [],
   "source": [
    "h_lambda_2d_mixcor_lsb_50_80.SetTitle(\"h-#Lambda^{0} #Delta#varphi#Delta#eta correlation (LSB, acceptance corrected)\")\n",
    "h_lambda_2d_mixcor_lsb_50_80.GetYaxis().SetTitle(\"#Delta#varphi_{h-#Lambda^{0}}\")\n",
    "h_lambda_2d_mixcor_lsb_50_80.GetXaxis().SetTitle(\"#Delta#eta_{h-#Lambda^{0}}\")\n",
    "h_lambda_2d_mixcor_lsb_50_80.GetXaxis().SetTitleSize(0.05)\n",
    "h_lambda_2d_mixcor_lsb_50_80.GetXaxis().SetTitleOffset(1.3)\n",
    "h_lambda_2d_mixcor_lsb_50_80.GetYaxis().SetTitleSize(0.05)\n",
    "h_lambda_2d_mixcor_lsb_50_80.GetYaxis().SetTitleOffset(1.3)\n",
    "\n",
    "h_lambda_2d_mixcor_sig_50_80.SetTitle(\"h-#Lambda^{0} #Delta#varphi#Delta#eta correlation (SIG, acceptance corrected)\")\n",
    "h_lambda_2d_mixcor_sig_50_80.GetYaxis().SetTitle(\"#Delta#varphi_{h-#Lambda^{0}}\")\n",
    "h_lambda_2d_mixcor_sig_50_80.GetXaxis().SetTitle(\"#Delta#eta_{h-#Lambda^{0}}\")\n",
    "h_lambda_2d_mixcor_sig_50_80.GetXaxis().SetTitleSize(0.05)\n",
    "h_lambda_2d_mixcor_sig_50_80.GetXaxis().SetTitleOffset(1.3)\n",
    "h_lambda_2d_mixcor_sig_50_80.GetYaxis().SetTitleSize(0.05)\n",
    "h_lambda_2d_mixcor_sig_50_80.GetYaxis().SetTitleOffset(1.3)\n",
    "\n",
    "h_lambda_2d_mixcor_rsb_50_80.SetTitle(\"h-#Lambda^{0} #Delta#varphi#Delta#eta correlation (RSB, acceptance corrected)\")\n",
    "h_lambda_2d_mixcor_rsb_50_80.GetYaxis().SetTitle(\"#Delta#varphi_{h-#Lambda^{0}}\")\n",
    "h_lambda_2d_mixcor_rsb_50_80.GetXaxis().SetTitle(\"#Delta#eta_{h-#Lambda^{0}}\")\n",
    "h_lambda_2d_mixcor_rsb_50_80.GetXaxis().SetTitleSize(0.05)\n",
    "h_lambda_2d_mixcor_rsb_50_80.GetXaxis().SetTitleOffset(1.3)\n",
    "h_lambda_2d_mixcor_rsb_50_80.GetYaxis().SetTitleSize(0.05)\n",
    "h_lambda_2d_mixcor_rsb_50_80.GetYaxis().SetTitleOffset(1.3)"
   ]
  },
  {
   "cell_type": "code",
   "execution_count": null,
   "id": "09bbd61e",
   "metadata": {},
   "outputs": [],
   "source": [
    "h_h_2d_mixcor_50_80.SetTitle(\"h-h #Delta#varphi#Delta#eta correlation (acceptance corrected)\")\n",
    "h_h_2d_mixcor_50_80.GetYaxis().SetTitle(\"#Delta#varphi_{h-h}\")\n",
    "h_h_2d_mixcor_50_80.GetXaxis().SetTitle(\"#Delta#eta_{h-h}\")\n",
    "h_h_2d_mixcor_50_80.GetXaxis().SetTitleSize(0.05)\n",
    "h_h_2d_mixcor_50_80.GetXaxis().SetTitleOffset(1.3)\n",
    "h_h_2d_mixcor_50_80.GetYaxis().SetTitleSize(0.05)\n",
    "h_h_2d_mixcor_50_80.GetYaxis().SetTitleOffset(1.3)"
   ]
  },
  {
   "cell_type": "code",
   "execution_count": null,
   "id": "6399497b",
   "metadata": {},
   "outputs": [],
   "source": [
    "c.SetTheta(50)\n",
    "c.SetPhi(50)\n",
    "h_lambda_2d_mixcor_sig_50_80.GetXaxis().SetRangeUser(-DELTA_ETA_MAX, DELTA_ETA_MAX)\n",
    "h_lambda_2d_mixcor_sig_50_80.Draw(\"SURF1\")\n",
    "c.Draw()"
   ]
  },
  {
   "cell_type": "code",
   "execution_count": null,
   "id": "89da4874",
   "metadata": {},
   "outputs": [],
   "source": [
    "c.SetTheta(50)\n",
    "c.SetPhi(50)\n",
    "h_lambda_2d_mixcor_lsb_50_80.GetXaxis().SetRangeUser(-DELTA_ETA_MAX, DELTA_ETA_MAX)\n",
    "h_lambda_2d_mixcor_lsb_50_80.Draw(\"SURF1\")\n",
    "c.Draw()"
   ]
  },
  {
   "cell_type": "code",
   "execution_count": null,
   "id": "bc0b7fd3",
   "metadata": {},
   "outputs": [],
   "source": [
    "c.SetTheta(50)\n",
    "c.SetPhi(50)\n",
    "h_lambda_2d_mixcor_rsb_50_80.GetXaxis().SetRangeUser(-DELTA_ETA_MAX, DELTA_ETA_MAX)\n",
    "h_lambda_2d_mixcor_rsb_50_80.Draw(\"SURF1\")\n",
    "c.Draw()"
   ]
  },
  {
   "cell_type": "code",
   "execution_count": null,
   "id": "1057e640",
   "metadata": {
    "scrolled": true
   },
   "outputs": [],
   "source": [
    "c.SetTheta(50)\n",
    "c.SetPhi(50)\n",
    "h_h_2d_mixcor_50_80.GetXaxis().SetRangeUser(-DELTA_ETA_MAX, DELTA_ETA_MAX)\n",
    "h_h_2d_mixcor_50_80.Draw(\"SURF1\")\n",
    "c.Draw()"
   ]
  },
  {
   "cell_type": "code",
   "execution_count": null,
   "id": "849def32",
   "metadata": {},
   "outputs": [],
   "source": [
    "h_lambda_2d_mixcor_lsb_50_80_highest_pt.GetXaxis().SetRangeUser(-DELTA_ETA_MAX, DELTA_ETA_MAX)\n",
    "h_lambda_2d_mixcor_sig_50_80_highest_pt.GetXaxis().SetRangeUser(-DELTA_ETA_MAX, DELTA_ETA_MAX)\n",
    "h_lambda_2d_mixcor_rsb_50_80_highest_pt.GetXaxis().SetRangeUser(-DELTA_ETA_MAX, DELTA_ETA_MAX)\n",
    "h_h_2d_mixcor_50_80_highest_pt.GetXaxis().SetRangeUser(-DELTA_ETA_MAX, DELTA_ETA_MAX)"
   ]
  },
  {
   "cell_type": "code",
   "execution_count": null,
   "id": "970c50c1",
   "metadata": {},
   "outputs": [],
   "source": [
    "# per-trigger normalization done here\n",
    "h_lambda_2d_mixcor_lsb_50_80.Scale(1.0/num_trigs_50_80)\n",
    "h_lambda_2d_mixcor_sig_50_80.Scale(1.0/num_trigs_50_80)\n",
    "h_lambda_2d_mixcor_rsb_50_80.Scale(1.0/num_trigs_50_80)\n",
    "h_lambda_2d_mixcor_lsb_50_80_highest_pt.Scale(1.0/num_trigs_50_80_highest_pt)\n",
    "h_lambda_2d_mixcor_sig_50_80_highest_pt.Scale(1.0/num_trigs_50_80_highest_pt)\n",
    "h_lambda_2d_mixcor_rsb_50_80_highest_pt.Scale(1.0/num_trigs_50_80_highest_pt)\n",
    "h_lambda_ls_2d_mixcor_lsb_50_80.Scale(1.0/num_trigs_50_80)\n",
    "h_lambda_ls_2d_mixcor_sig_50_80.Scale(1.0/num_trigs_50_80)\n",
    "h_lambda_ls_2d_mixcor_rsb_50_80.Scale(1.0/num_trigs_50_80)\n",
    "h_h_2d_mixcor_50_80.Scale(1.0/num_trigs_50_80)\n",
    "h_h_2d_mixcor_50_80_highest_pt.Scale(1.0/num_trigs_50_80_highest_pt)"
   ]
  },
  {
   "cell_type": "markdown",
   "id": "87d80093",
   "metadata": {},
   "source": [
    "### Sideband subtraction section"
   ]
  },
  {
   "cell_type": "code",
   "execution_count": null,
   "id": "71833a2f",
   "metadata": {},
   "outputs": [],
   "source": [
    "# Generate sum of 2 distributions (for USE_BOTH method)\n",
    "h_lambda_2d_mixcor_rsblsb_50_80 = h_lambda_2d_mixcor_rsb_50_80.Clone(\"h_lambda_2d_mixcor_rsblsb_50_80\")\n",
    "h_lambda_2d_mixcor_rsblsb_50_80.Add(h_lambda_2d_mixcor_lsb_50_80)"
   ]
  },
  {
   "cell_type": "code",
   "execution_count": null,
   "id": "9cf2bfdb",
   "metadata": {},
   "outputs": [],
   "source": [
    "# Normalize side bands to 1\n",
    "h_lambda_2d_mixcor_rsblsb_50_80.Scale(1/h_lambda_2d_mixcor_rsblsb_50_80.Integral())\n",
    "h_lambda_2d_mixcor_rsb_50_80.Scale(1/h_lambda_2d_mixcor_rsb_50_80.Integral())\n",
    "h_lambda_2d_mixcor_lsb_50_80.Scale(1/h_lambda_2d_mixcor_lsb_50_80.Integral())"
   ]
  },
  {
   "cell_type": "code",
   "execution_count": null,
   "id": "252d439f",
   "metadata": {},
   "outputs": [],
   "source": [
    "h_lambda_dphi_rsb_50_80 = h_lambda_2d_mixcor_rsb_50_80.ProjectionY(\"h_lambda_dphi_rsb_50_80\")\n",
    "h_lambda_dphi_lsb_50_80 = h_lambda_2d_mixcor_lsb_50_80.ProjectionY(\"h_lambda_dphi_lsb_50_80\")\n",
    "h_lambda_dphi_rsb_50_80.SetTitle(\"h-#Lambda^{0} #Delta#varphi correlation (RSB, acceptance corrected)\")\n",
    "h_lambda_dphi_rsb_50_80.SetLineColor(rt.kMagenta)\n",
    "h_lambda_dphi_lsb_50_80.SetTitle(\"h-#Lambda^{0} #Delta#varphi correlation (LSB and RSB, normalized to 1)\")\n",
    "h_lambda_dphi_lsb_50_80.SetLineColor(rt.kBlue)\n",
    "h_lambda_dphi_lsb_50_80.Draw()\n",
    "h_lambda_dphi_rsb_50_80.Draw(\"SAME\")\n",
    "c.Draw()"
   ]
  },
  {
   "cell_type": "code",
   "execution_count": null,
   "id": "61f77297",
   "metadata": {},
   "outputs": [],
   "source": [
    "if USE_RSB:\n",
    "    # using RSB for sideband subtraction\n",
    "    h_lambda_2d_subtracted_50_80 = h_lambda_2d_mixcor_sig_50_80.Clone(\"h_lambda_2d_subtracted_50_80\")\n",
    "    bg_integral_50_80 = (1 - lambda_signal_total_ratio_50_80)*h_lambda_2d_subtracted_50_80.Integral()\n",
    "    h_lambda_2d_subtracted_50_80.Add(h_lambda_2d_mixcor_rsb_50_80, -bg_integral_50_80)\n",
    "elif USE_LSB:\n",
    "    # using RSB for sideband subtraction\n",
    "    h_lambda_2d_subtracted_50_80 = h_lambda_2d_mixcor_sig_50_80.Clone(\"h_lambda_2d_subtracted_50_80\")\n",
    "    bg_integral_50_80 = (1 - lambda_signal_total_ratio_50_80)*h_lambda_2d_subtracted_50_80.Integral()\n",
    "    h_lambda_2d_subtracted_50_80.Add(h_lambda_2d_mixcor_lsb_50_80, -bg_integral_50_80)\n",
    "elif USE_BOTH:\n",
    "    # using RSB for sideband subtraction\n",
    "    h_lambda_2d_subtracted_50_80 = h_lambda_2d_mixcor_sig_50_80.Clone(\"h_lambda_2d_subtracted_50_80\")\n",
    "    bg_integral_50_80 = (1 - lambda_signal_total_ratio_50_80)*h_lambda_2d_subtracted_50_80.Integral()\n",
    "    h_lambda_2d_subtracted_50_80.Add(h_lambda_2d_mixcor_rsblsb_50_80, -bg_integral_50_80)\n",
    "else:\n",
    "    raise NotImplementedError(\"Must have USE_RSB or USE_LSB selected\")"
   ]
  },
  {
   "cell_type": "code",
   "execution_count": null,
   "id": "4e1e08fe",
   "metadata": {},
   "outputs": [],
   "source": [
    "h_lambda_2d_subtracted_50_80.SetTitle(\"h-#Lambda^{0} #Delta#varphi#Delta#eta correlation (acceptance corrected, right sideband subtracted)\")\n",
    "h_lambda_2d_subtracted_50_80.Draw(\"SURF1\")\n",
    "c.Draw()"
   ]
  },
  {
   "cell_type": "code",
   "execution_count": null,
   "id": "f3c11251",
   "metadata": {},
   "outputs": [],
   "source": [
    "# Generate sum of 2 distributions (for USE_BOTH method)\n",
    "h_lambda_2d_mixcor_rsblsb_50_80_highest_pt = h_lambda_2d_mixcor_rsb_50_80_highest_pt.Clone(\"h_lambda_2d_mixcor_rsblsb_50_80_highest_pt\")\n",
    "h_lambda_2d_mixcor_rsblsb_50_80_highest_pt.Add(h_lambda_2d_mixcor_lsb_50_80_highest_pt)"
   ]
  },
  {
   "cell_type": "code",
   "execution_count": null,
   "id": "7742524f",
   "metadata": {},
   "outputs": [],
   "source": [
    "# Normalize side bands to 1\n",
    "h_lambda_2d_mixcor_rsb_50_80_highest_pt.Scale(1/h_lambda_2d_mixcor_rsb_50_80_highest_pt.Integral())\n",
    "h_lambda_2d_mixcor_lsb_50_80_highest_pt.Scale(1/h_lambda_2d_mixcor_lsb_50_80_highest_pt.Integral())\n",
    "h_lambda_2d_mixcor_rsblsb_50_80_highest_pt.Scale(1/h_lambda_2d_mixcor_rsblsb_50_80_highest_pt.Integral())"
   ]
  },
  {
   "cell_type": "code",
   "execution_count": null,
   "id": "efe6f96a",
   "metadata": {},
   "outputs": [],
   "source": [
    "if USE_RSB:\n",
    "    # using RSB for sideband subtraction\n",
    "    h_lambda_2d_subtracted_50_80_highest_pt = h_lambda_2d_mixcor_sig_50_80_highest_pt.Clone(\"h_lambda_2d_subtracted_50_80_highest_pt\")\n",
    "    bg_integral_50_80_highest_pt = (1 - lambda_signal_total_ratio_50_80)*h_lambda_2d_subtracted_50_80_highest_pt.Integral()\n",
    "    h_lambda_2d_subtracted_50_80_highest_pt.Add(h_lambda_2d_mixcor_rsb_50_80_highest_pt, -bg_integral_50_80_highest_pt)\n",
    "elif USE_LSB:\n",
    "    # using RSB for sideband subtraction\n",
    "    h_lambda_2d_subtracted_50_80_highest_pt = h_lambda_2d_mixcor_sig_50_80_highest_pt.Clone(\"h_lambda_2d_subtracted_50_80_highest_pt\")\n",
    "    bg_integral_50_80_highest_pt = (1 - lambda_signal_total_ratio_50_80)*h_lambda_2d_subtracted_50_80_highest_pt.Integral()\n",
    "    h_lambda_2d_subtracted_50_80_highest_pt.Add(h_lambda_2d_mixcor_lsb_50_80_highest_pt, -bg_integral_50_80_highest_pt)\n",
    "elif USE_BOTH:\n",
    "    # using RSB for sideband subtraction\n",
    "    h_lambda_2d_subtracted_50_80_highest_pt = h_lambda_2d_mixcor_sig_50_80_highest_pt.Clone(\"h_lambda_2d_subtracted_50_80_highest_pt\")\n",
    "    bg_integral_50_80_highest_pt = (1 - lambda_signal_total_ratio_50_80)*h_lambda_2d_subtracted_50_80_highest_pt.Integral()\n",
    "    h_lambda_2d_subtracted_50_80_highest_pt.Add(h_lambda_2d_mixcor_rsblsb_50_80_highest_pt, -bg_integral_50_80_highest_pt)\n",
    "else:\n",
    "    raise NotImplementedError(\"Must have USE_RSB or USE_LSB selected\")"
   ]
  },
  {
   "cell_type": "code",
   "execution_count": null,
   "id": "f3c7714f",
   "metadata": {},
   "outputs": [],
   "source": [
    "h_lambda_2d_subtracted_50_80_highest_pt.SetTitle(\"h-#Lambda^{0} #Delta#varphi#Delta#eta correlation (acceptance corrected, right sideband subtracted)\")\n",
    "h_lambda_2d_subtracted_50_80_highest_pt.Draw(\"SURF1\")\n",
    "c.Draw()"
   ]
  },
  {
   "cell_type": "markdown",
   "id": "5d79a5eb",
   "metadata": {},
   "source": [
    "### Integral and ratio section"
   ]
  },
  {
   "cell_type": "code",
   "execution_count": null,
   "id": "79c097df",
   "metadata": {},
   "outputs": [],
   "source": [
    "h_lambda_dphi_subtracted_50_80 = h_lambda_2d_subtracted_50_80.ProjectionY(\"h_lambda_dphi_subtracted_50_80\")\n",
    "h_lambda_dphi_subtracted_50_80.SetTitle(\"h-#Lambda^{0} #Delta#varphi distribution (50 - 80 multiplicty bin)\")\n",
    "h_lambda_dphi_subtracted_50_80.SetLineColor(rt.kViolet - 6)\n",
    "h_lambda_dphi_subtracted_50_80.SetLineWidth(3)\n",
    "h_lambda_dphi_subtracted_50_80.GetYaxis().SetTitle(\"#frac{dN_{h-#Lambda^{0}}}{d#Delta#varphi}\")\n",
    "h_lambda_dphi_subtracted_50_80.GetXaxis().SetTitleSize(0.05)\n",
    "h_lambda_dphi_subtracted_50_80.GetXaxis().SetTitleOffset(0.5)"
   ]
  },
  {
   "cell_type": "code",
   "execution_count": null,
   "id": "078f8eec",
   "metadata": {},
   "outputs": [],
   "source": [
    "h_lambda_dphi_subtracted_50_80_highest_pt = h_lambda_2d_subtracted_50_80_highest_pt.ProjectionY(\"h_lambda_dphi_subtracted_50_80_highest_pt\")\n",
    "h_lambda_dphi_subtracted_50_80_highest_pt.SetTitle(\"h-#Lambda^{0} #Delta#varphi distribution (50 - 80 multiplicty bin)\")\n",
    "h_lambda_dphi_subtracted_50_80_highest_pt.SetLineColor(rt.kViolet - 6)\n",
    "h_lambda_dphi_subtracted_50_80_highest_pt.SetLineWidth(3)\n",
    "h_lambda_dphi_subtracted_50_80_highest_pt.GetYaxis().SetTitle(\"#frac{dN_{h-#Lambda^{0}}}{d#Delta#varphi}\")\n",
    "h_lambda_dphi_subtracted_50_80_highest_pt.GetXaxis().SetTitleSize(0.05)\n",
    "h_lambda_dphi_subtracted_50_80_highest_pt.GetXaxis().SetTitleOffset(0.5)"
   ]
  },
  {
   "cell_type": "code",
   "execution_count": null,
   "id": "cac795e2",
   "metadata": {},
   "outputs": [],
   "source": [
    "h_lambda_dphi_subtracted_50_80.GetYaxis().SetRangeUser(h_lambda_dphi_subtracted_50_80_highest_pt.GetMinimum()*0.9, \n",
    "                                                      h_lambda_dphi_subtracted_50_80.GetMaximum()*1.10)\n",
    "h_lambda_dphi_subtracted_50_80.Draw()\n",
    "h_lambda_dphi_subtracted_50_80_highest_pt.SetLineColor(rt.kGreen + 2)\n",
    "h_lambda_dphi_subtracted_50_80_highest_pt.Draw(\"SAME\")\n",
    "c.Draw()"
   ]
  },
  {
   "cell_type": "code",
   "execution_count": null,
   "id": "aad23b76",
   "metadata": {},
   "outputs": [],
   "source": [
    "# AGAIN PLEASE GET RID OF THIS\n",
    "h_lambda_dphi_subtracted_50_80.Scale(1/scaling_factor_50_80)"
   ]
  },
  {
   "cell_type": "code",
   "execution_count": null,
   "id": "a688367b",
   "metadata": {},
   "outputs": [],
   "source": [
    "if USE_AVG:\n",
    "    ue_line_50_80 = rt.TF1(\"ue_line_50_80\", \"pol0\", -2, 6)\n",
    "    ue_upper_line_50_80 = rt.TF1(\"ue_upper_line_50_80\", \"pol0\", -2, 6)\n",
    "    ue_lower_line_50_80 = rt.TF1(\"ue_lower_line_50_80\", \"pol0\", -2, 6)\n",
    "    zero_line_50_80 = rt.TF1(\"zero_line_50_80\", \"pol0\", -2, 6)\n",
    "    zero_upper_line_50_80 = rt.TF1(\"zero_upper_line_50_80\", \"pol0\", -2, 6)\n",
    "    zero_lower_line_50_80 = rt.TF1(\"zero_lower_line_50_80\", \"pol0\", -2, 6)\n",
    "    ue_avg_50_80 = (h_lambda_dphi_subtracted_50_80.GetBinContent(1) \n",
    "                   + h_lambda_dphi_subtracted_50_80.GetBinContent(8)\n",
    "                   + h_lambda_dphi_subtracted_50_80.GetBinContent(9)\n",
    "                   + h_lambda_dphi_subtracted_50_80.GetBinContent(16))/4\n",
    "\n",
    "    ue_avg_error_50_80 = (1/4)*(math.sqrt(h_lambda_dphi_subtracted_50_80.GetBinError(1)**2 \n",
    "                   + h_lambda_dphi_subtracted_50_80.GetBinError(8)**2\n",
    "                   + h_lambda_dphi_subtracted_50_80.GetBinError(9)**2\n",
    "                   + h_lambda_dphi_subtracted_50_80.GetBinError(16)**2))\n",
    "\n",
    "\n",
    "    ue_line_50_80.SetParameter(0, ue_avg_50_80)\n",
    "    ue_line_50_80.SetLineColor(rt.kViolet - 6)\n",
    "    ue_line_50_80.SetLineWidth(3)\n",
    "    ue_line_50_80.SetLineStyle(rt.kSolid)\n",
    "\n",
    "    ue_upper_line_50_80.SetParameter(0, ue_avg_50_80 + ue_avg_error_50_80)\n",
    "    ue_upper_line_50_80.SetLineColor(rt.kViolet - 6)\n",
    "    ue_upper_line_50_80.SetLineStyle(rt.kDashed)\n",
    "\n",
    "    ue_lower_line_50_80.SetParameter(0, ue_avg_50_80 - ue_avg_error_50_80)\n",
    "    ue_lower_line_50_80.SetLineColor(rt.kViolet - 6)\n",
    "    ue_lower_line_50_80.SetLineStyle(rt.kDashed)\n",
    "\n",
    "    zero_line_50_80.SetParameter(0, 0)\n",
    "    zero_line_50_80.SetLineColor(rt.kViolet - 6)\n",
    "    zero_line_50_80.SetLineWidth(3)\n",
    "    zero_line_50_80.SetLineStyle(rt.kSolid)\n",
    "    zero_upper_line_50_80.SetParameter(0, ue_avg_error_50_80)\n",
    "    zero_upper_line_50_80.SetLineColor(rt.kViolet - 6)\n",
    "    zero_upper_line_50_80.SetLineStyle(rt.kDashed)\n",
    "    zero_lower_line_50_80.SetParameter(0, -ue_avg_error_50_80)\n",
    "    zero_lower_line_50_80.SetLineColor(rt.kViolet - 6)\n",
    "    zero_lower_line_50_80.SetLineStyle(rt.kDashed)\n",
    "elif USE_ZYAM:\n",
    "    ue_line_50_80 = rt.TF1(\"ue_line_50_80\", \"pol0\", -2, 6)\n",
    "    ue_upper_line_50_80 = rt.TF1(\"ue_upper_line_50_80\", \"pol0\", -2, 6)\n",
    "    ue_lower_line_50_80 = rt.TF1(\"ue_lower_line_50_80\", \"pol0\", -2, 6)\n",
    "    zero_line_50_80 = rt.TF1(\"zero_line_50_80\", \"pol0\", -2, 6)\n",
    "    zero_upper_line_50_80 = rt.TF1(\"zero_upper_line_50_80\", \"pol0\", -2, 6)\n",
    "    zero_lower_line_50_80 = rt.TF1(\"zero_lower_line_50_80\", \"pol0\", -2, 6)\n",
    "    min_bin = h_lambda_dphi_subtracted_50_80.GetMinimumBin()\n",
    "    ue_avg_50_80 = h_lambda_dphi_subtracted_50_80.GetBinContent(min_bin)\n",
    "    ue_avg_error_50_80 = h_lambda_dphi_subtracted_50_80.GetBinError(min_bin)\n",
    "\n",
    "\n",
    "    ue_line_50_80.SetParameter(0, ue_avg_50_80)\n",
    "    ue_line_50_80.SetLineColor(rt.kViolet - 6)\n",
    "    ue_line_50_80.SetLineWidth(3)\n",
    "    ue_line_50_80.SetLineStyle(rt.kSolid)\n",
    "\n",
    "    ue_upper_line_50_80.SetParameter(0, ue_avg_50_80 + ue_avg_error_50_80)\n",
    "    ue_upper_line_50_80.SetLineColor(rt.kViolet - 6)\n",
    "    ue_upper_line_50_80.SetLineStyle(rt.kDashed)\n",
    "\n",
    "    ue_lower_line_50_80.SetParameter(0, ue_avg_50_80 - ue_avg_error_50_80)\n",
    "    ue_lower_line_50_80.SetLineColor(rt.kViolet - 6)\n",
    "    ue_lower_line_50_80.SetLineStyle(rt.kDashed)\n",
    "\n",
    "    zero_line_50_80.SetParameter(0, 0)\n",
    "    zero_line_50_80.SetLineColor(rt.kViolet - 6)\n",
    "    zero_line_50_80.SetLineWidth(3)\n",
    "    zero_line_50_80.SetLineStyle(rt.kSolid)\n",
    "    zero_upper_line_50_80.SetParameter(0, ue_avg_error_50_80)\n",
    "    zero_upper_line_50_80.SetLineColor(rt.kViolet - 6)\n",
    "    zero_upper_line_50_80.SetLineStyle(rt.kDashed)\n",
    "    zero_lower_line_50_80.SetParameter(0, -ue_avg_error_50_80)\n",
    "    zero_lower_line_50_80.SetLineColor(rt.kViolet - 6)\n",
    "    zero_lower_line_50_80.SetLineStyle(rt.kDashed)\n",
    "else:\n",
    "    raise NotImplementedError(\"UE line mode not supported\")"
   ]
  },
  {
   "cell_type": "code",
   "execution_count": null,
   "id": "9a14519e",
   "metadata": {},
   "outputs": [],
   "source": [
    "if USE_AVG:\n",
    "    ue_line_50_80_highest_pt = rt.TF1(\"ue_line_50_80_highest_pt\", \"pol0\", -2, 6)\n",
    "    ue_upper_line_50_80_highest_pt = rt.TF1(\"ue_upper_line_50_80_highest_pt\", \"pol0\", -2, 6)\n",
    "    ue_lower_line_50_80_highest_pt = rt.TF1(\"ue_lower_line_50_80_highest_pt\", \"pol0\", -2, 6)\n",
    "    zero_line_50_80_highest_pt = rt.TF1(\"zero_line_50_80_highest_pt\", \"pol0\", -2, 6)\n",
    "    zero_upper_line_50_80_highest_pt = rt.TF1(\"zero_upper_line_50_80_highest_pt\", \"pol0\", -2, 6)\n",
    "    zero_lower_line_50_80_highest_pt = rt.TF1(\"zero_lower_line_50_80_highest_pt\", \"pol0\", -2, 6)\n",
    "    ue_avg_50_80_highest_pt = (h_lambda_dphi_subtracted_50_80_highest_pt.GetBinContent(1) \n",
    "                   + h_lambda_dphi_subtracted_50_80_highest_pt.GetBinContent(8)\n",
    "                   + h_lambda_dphi_subtracted_50_80_highest_pt.GetBinContent(9)\n",
    "                   + h_lambda_dphi_subtracted_50_80_highest_pt.GetBinContent(16))/4\n",
    "\n",
    "    ue_avg_error_50_80_highest_pt = (1/4)*(math.sqrt(h_lambda_dphi_subtracted_50_80_highest_pt.GetBinError(1)**2 \n",
    "                   + h_lambda_dphi_subtracted_50_80_highest_pt.GetBinError(8)**2\n",
    "                   + h_lambda_dphi_subtracted_50_80_highest_pt.GetBinError(9)**2\n",
    "                   + h_lambda_dphi_subtracted_50_80_highest_pt.GetBinError(16)**2))\n",
    "\n",
    "\n",
    "    ue_line_50_80_highest_pt.SetParameter(0, ue_avg_50_80_highest_pt)\n",
    "    ue_line_50_80_highest_pt.SetLineColor(rt.kViolet - 6)\n",
    "    ue_line_50_80_highest_pt.SetLineWidth(3)\n",
    "    ue_line_50_80_highest_pt.SetLineStyle(rt.kSolid)\n",
    "\n",
    "    ue_upper_line_50_80_highest_pt.SetParameter(0, ue_avg_50_80_highest_pt + ue_avg_error_50_80_highest_pt)\n",
    "    ue_upper_line_50_80_highest_pt.SetLineColor(rt.kViolet - 6)\n",
    "    ue_upper_line_50_80_highest_pt.SetLineStyle(rt.kDashed)\n",
    "\n",
    "    ue_lower_line_50_80_highest_pt.SetParameter(0, ue_avg_50_80_highest_pt - ue_avg_error_50_80_highest_pt)\n",
    "    ue_lower_line_50_80_highest_pt.SetLineColor(rt.kViolet - 6)\n",
    "    ue_lower_line_50_80_highest_pt.SetLineStyle(rt.kDashed)\n",
    "\n",
    "    zero_line_50_80_highest_pt.SetParameter(0, 0)\n",
    "    zero_line_50_80_highest_pt.SetLineColor(rt.kViolet - 6)\n",
    "    zero_line_50_80_highest_pt.SetLineWidth(3)\n",
    "    zero_line_50_80_highest_pt.SetLineStyle(rt.kSolid)\n",
    "    zero_upper_line_50_80_highest_pt.SetParameter(0, ue_avg_error_50_80_highest_pt)\n",
    "    zero_upper_line_50_80_highest_pt.SetLineColor(rt.kViolet - 6)\n",
    "    zero_upper_line_50_80_highest_pt.SetLineStyle(rt.kDashed)\n",
    "    zero_lower_line_50_80_highest_pt.SetParameter(0, -ue_avg_error_50_80_highest_pt)\n",
    "    zero_lower_line_50_80_highest_pt.SetLineColor(rt.kViolet - 6)\n",
    "    zero_lower_line_50_80_highest_pt.SetLineStyle(rt.kDashed)\n",
    "elif USE_ZYAM:\n",
    "    ue_line_50_80_highest_pt = rt.TF1(\"ue_line_50_80_highest_pt\", \"pol0\", -2, 6)\n",
    "    ue_upper_line_50_80_highest_pt = rt.TF1(\"ue_upper_line_50_80_highest_pt\", \"pol0\", -2, 6)\n",
    "    ue_lower_line_50_80_highest_pt = rt.TF1(\"ue_lower_line_50_80_highest_pt\", \"pol0\", -2, 6)\n",
    "    zero_line_50_80_highest_pt = rt.TF1(\"zero_line_50_80_highest_pt\", \"pol0\", -2, 6)\n",
    "    zero_upper_line_50_80_highest_pt = rt.TF1(\"zero_upper_line_50_80_highest_pt\", \"pol0\", -2, 6)\n",
    "    zero_lower_line_50_80_highest_pt = rt.TF1(\"zero_lower_line_50_80_highest_pt\", \"pol0\", -2, 6)\n",
    "    min_bin = h_lambda_dphi_subtracted_50_80_highest_pt.GetMinimumBin()\n",
    "    ue_avg_50_80_highest_pt = h_lambda_dphi_subtracted_50_80_highest_pt.GetBinContent(min_bin)\n",
    "    ue_avg_error_50_80_highest_pt = h_lambda_dphi_subtracted_50_80_highest_pt.GetBinError(min_bin)\n",
    "\n",
    "\n",
    "    ue_line_50_80_highest_pt.SetParameter(0, ue_avg_50_80_highest_pt)\n",
    "    ue_line_50_80_highest_pt.SetLineColor(rt.kViolet - 6)\n",
    "    ue_line_50_80_highest_pt.SetLineWidth(3)\n",
    "    ue_line_50_80_highest_pt.SetLineStyle(rt.kSolid)\n",
    "\n",
    "    ue_upper_line_50_80_highest_pt.SetParameter(0, ue_avg_50_80_highest_pt + ue_avg_error_50_80_highest_pt)\n",
    "    ue_upper_line_50_80_highest_pt.SetLineColor(rt.kViolet - 6)\n",
    "    ue_upper_line_50_80_highest_pt.SetLineStyle(rt.kDashed)\n",
    "\n",
    "    ue_lower_line_50_80_highest_pt.SetParameter(0, ue_avg_50_80_highest_pt - ue_avg_error_50_80_highest_pt)\n",
    "    ue_lower_line_50_80_highest_pt.SetLineColor(rt.kViolet - 6)\n",
    "    ue_lower_line_50_80_highest_pt.SetLineStyle(rt.kDashed)\n",
    "\n",
    "    zero_line_50_80_highest_pt.SetParameter(0, 0)\n",
    "    zero_line_50_80_highest_pt.SetLineColor(rt.kViolet - 6)\n",
    "    zero_line_50_80_highest_pt.SetLineWidth(3)\n",
    "    zero_line_50_80_highest_pt.SetLineStyle(rt.kSolid)\n",
    "    zero_upper_line_50_80_highest_pt.SetParameter(0, ue_avg_error_50_80_highest_pt)\n",
    "    zero_upper_line_50_80_highest_pt.SetLineColor(rt.kViolet - 6)\n",
    "    zero_upper_line_50_80_highest_pt.SetLineStyle(rt.kDashed)\n",
    "    zero_lower_line_50_80_highest_pt.SetParameter(0, -ue_avg_error_50_80_highest_pt)\n",
    "    zero_lower_line_50_80_highest_pt.SetLineColor(rt.kViolet - 6)\n",
    "    zero_lower_line_50_80_highest_pt.SetLineStyle(rt.kDashed)\n",
    "else:\n",
    "    raise NotImplementedError(\"UE line mode not supported\")"
   ]
  },
  {
   "cell_type": "code",
   "execution_count": null,
   "id": "4a09bc8e",
   "metadata": {},
   "outputs": [],
   "source": [
    "min_bin = h_lambda_dphi_subtracted_50_80.GetMinimumBin()\n",
    "min_val = h_lambda_dphi_subtracted_50_80.GetBinContent(min_bin)\n",
    "max_bin = h_lambda_dphi_subtracted_50_80.GetMaximumBin()\n",
    "max_val = h_lambda_dphi_subtracted_50_80.GetBinContent(max_bin)\n",
    "\n",
    "h_lambda_dphi_subtracted_50_80.GetYaxis().SetRangeUser(0.85*min_val, 1.15*max_val)\n",
    "h_lambda_dphi_subtracted_50_80.Draw()\n",
    "ue_line_50_80.Draw(\"SAME\")\n",
    "ue_upper_line_50_80.Draw(\"SAME\")\n",
    "ue_lower_line_50_80.Draw(\"SAME\")\n",
    "c.Draw()"
   ]
  },
  {
   "cell_type": "code",
   "execution_count": null,
   "id": "591d361f",
   "metadata": {},
   "outputs": [],
   "source": [
    "h_lambda_dphi_subtracted_50_80.GetYaxis().SetRangeUser(0, 1.15*max_val)\n",
    "h_lambda_dphi_subtracted_50_80.Draw()\n",
    "ue_line_50_80.Draw(\"SAME\")\n",
    "ue_upper_line_50_80.Draw(\"SAME\")\n",
    "ue_lower_line_50_80.Draw(\"SAME\")\n",
    "c.Draw()"
   ]
  },
  {
   "cell_type": "code",
   "execution_count": null,
   "id": "7a07eb8d",
   "metadata": {},
   "outputs": [],
   "source": [
    "h_lambda_dphi_subtracted_50_80_zeroed = h_lambda_dphi_subtracted_50_80.Clone(\"h_lambda_dphi_subtracted_50_80_zeroed\")\n",
    "h_lambda_dphi_subtracted_50_80_zeroed.SetTitle(\"h-#Lambda^{0} #Delta#varphi distribution (UE subtracted, 50 - 80 multiplicity bin)\")\n",
    "h_lambda_dphi_subtracted_50_80_zeroed.Add(ue_line_50_80, -1)\n",
    "h_lambda_dphi_subtracted_50_80_zeroed.Draw()\n",
    "zero_line_50_80.Draw(\"SAME\")\n",
    "zero_upper_line_50_80.Draw(\"SAME\")\n",
    "zero_lower_line_50_80.Draw(\"SAME\")\n",
    "c.Draw()"
   ]
  },
  {
   "cell_type": "code",
   "execution_count": null,
   "id": "8bae3a25",
   "metadata": {},
   "outputs": [],
   "source": [
    "DPHI_BINS = h_lambda_dphi_subtracted_50_80.GetNbinsX()"
   ]
  },
  {
   "cell_type": "code",
   "execution_count": null,
   "id": "50411fce",
   "metadata": {},
   "outputs": [],
   "source": [
    "h_lambda_total_integral_50_80 = 0\n",
    "h_lambda_near_integral_50_80 = 0\n",
    "h_lambda_away_integral_50_80 = 0\n",
    "h_lambda_ue_integral_50_80 = ue_avg_50_80*DPHI_BINS\n",
    "\n",
    "h_lambda_total_integral_error_50_80 = 0\n",
    "h_lambda_near_integral_error_50_80 = 0\n",
    "h_lambda_away_integral_error_50_80 = 0\n",
    "h_lambda_ue_integral_error_50_80 = ue_avg_error_50_80*DPHI_BINS\n",
    "\n",
    "for bin_num in range(1, DPHI_BINS + 1):\n",
    "    h_lambda_total_integral_50_80 += h_lambda_dphi_subtracted_50_80.GetBinContent(bin_num)\n",
    "    h_lambda_total_integral_error_50_80 += h_lambda_dphi_subtracted_50_80.GetBinError(bin_num)**2\n",
    "    part = h_lambda_dphi_subtracted_50_80.GetBinContent(bin_num) - ue_avg_50_80\n",
    "    if part < 0:\n",
    "        continue\n",
    "    if bin_num < 9:\n",
    "        h_lambda_near_integral_50_80 += part\n",
    "        h_lambda_near_integral_error_50_80 += h_lambda_dphi_subtracted_50_80.GetBinError(bin_num)**2\n",
    "        h_lambda_near_integral_error_50_80 += ue_avg_error_50_80**2\n",
    "    else:\n",
    "        h_lambda_away_integral_50_80 += part\n",
    "        h_lambda_away_integral_error_50_80 += h_lambda_dphi_subtracted_50_80.GetBinError(bin_num)**2\n",
    "        h_lambda_away_integral_error_50_80 += ue_avg_error_50_80**2\n",
    "h_lambda_total_integral_error_50_80 = math.sqrt(h_lambda_total_integral_error_50_80)\n",
    "h_lambda_near_integral_error_50_80 = math.sqrt(h_lambda_near_integral_error_50_80)\n",
    "h_lambda_away_integral_error_50_80 = math.sqrt(h_lambda_away_integral_error_50_80)"
   ]
  },
  {
   "cell_type": "code",
   "execution_count": null,
   "id": "2b5ea9dd",
   "metadata": {},
   "outputs": [],
   "source": [
    "h_lambda_total_integral_50_80_highest_pt = 0\n",
    "h_lambda_near_integral_50_80_highest_pt = 0\n",
    "h_lambda_away_integral_50_80_highest_pt = 0\n",
    "h_lambda_ue_integral_50_80_highest_pt = ue_avg_50_80_highest_pt*DPHI_BINS\n",
    "\n",
    "h_lambda_total_integral_error_50_80_highest_pt = 0\n",
    "h_lambda_near_integral_error_50_80_highest_pt = 0\n",
    "h_lambda_away_integral_error_50_80_highest_pt = 0\n",
    "h_lambda_ue_integral_error_50_80_highest_pt = ue_avg_error_50_80_highest_pt*DPHI_BINS\n",
    "\n",
    "for bin_num in range(1, DPHI_BINS + 1):\n",
    "    h_lambda_total_integral_50_80_highest_pt += h_lambda_dphi_subtracted_50_80_highest_pt.GetBinContent(bin_num)\n",
    "    h_lambda_total_integral_error_50_80_highest_pt += h_lambda_dphi_subtracted_50_80_highest_pt.GetBinError(bin_num)**2\n",
    "    part = h_lambda_dphi_subtracted_50_80_highest_pt.GetBinContent(bin_num) - ue_avg_50_80_highest_pt\n",
    "    if part < 0:\n",
    "        continue\n",
    "    if bin_num < 9:\n",
    "        h_lambda_near_integral_50_80_highest_pt += part\n",
    "        h_lambda_near_integral_error_50_80_highest_pt += h_lambda_dphi_subtracted_50_80_highest_pt.GetBinError(bin_num)**2\n",
    "        h_lambda_near_integral_error_50_80_highest_pt += ue_avg_error_50_80_highest_pt**2\n",
    "    else:\n",
    "        h_lambda_away_integral_50_80_highest_pt += part\n",
    "        h_lambda_away_integral_error_50_80_highest_pt += h_lambda_dphi_subtracted_50_80_highest_pt.GetBinError(bin_num)**2\n",
    "        h_lambda_away_integral_error_50_80_highest_pt += ue_avg_error_50_80_highest_pt**2\n",
    "h_lambda_total_integral_error_50_80_highest_pt = math.sqrt(h_lambda_total_integral_error_50_80_highest_pt)\n",
    "h_lambda_near_integral_error_50_80_highest_pt = math.sqrt(h_lambda_near_integral_error_50_80_highest_pt)\n",
    "h_lambda_away_integral_error_50_80_highest_pt = math.sqrt(h_lambda_away_integral_error_50_80_highest_pt)"
   ]
  },
  {
   "cell_type": "code",
   "execution_count": null,
   "id": "e781294a",
   "metadata": {},
   "outputs": [],
   "source": [
    "h_h_dphi_50_80 = h_h_2d_mixcor_50_80.ProjectionY(\"h_h_dphi_50_80\")\n",
    "h_h_dphi_50_80.SetTitle(\"h-h #Delta#varphi distribution (50 - 80 multiplicty bin)\")\n",
    "h_h_dphi_50_80.SetLineColor(rt.kBlue)\n",
    "h_h_dphi_50_80.SetLineWidth(3)\n",
    "h_h_dphi_50_80.GetYaxis().SetTitle(\"#frac{dN_{h-h}}{d#Delta#varphi}\")\n",
    "h_h_dphi_50_80.GetXaxis().SetTitleSize(0.05)\n",
    "h_h_dphi_50_80.GetXaxis().SetTitleOffset(0.5)"
   ]
  },
  {
   "cell_type": "code",
   "execution_count": null,
   "id": "de805da2",
   "metadata": {},
   "outputs": [],
   "source": [
    "h_h_dphi_50_80_highest_pt = h_h_2d_mixcor_50_80_highest_pt.ProjectionY(\"h_h_dphi_50_80_highest_pt\")\n",
    "h_h_dphi_50_80_highest_pt.SetTitle(\"h-h #Delta#varphi distribution (50 - 80 multiplicty bin)\")\n",
    "h_h_dphi_50_80_highest_pt.SetLineColor(rt.kBlue)\n",
    "h_h_dphi_50_80_highest_pt.SetLineWidth(3)\n",
    "h_h_dphi_50_80_highest_pt.GetYaxis().SetTitle(\"#frac{dN_{h-h}}{d#Delta#varphi}\")\n",
    "h_h_dphi_50_80_highest_pt.GetXaxis().SetTitleSize(0.05)\n",
    "h_h_dphi_50_80_highest_pt.GetXaxis().SetTitleOffset(0.5)"
   ]
  },
  {
   "cell_type": "code",
   "execution_count": null,
   "id": "784f5c80",
   "metadata": {},
   "outputs": [],
   "source": [
    "h_h_dphi_50_80.GetYaxis().SetRangeUser(h_h_dphi_50_80_highest_pt.GetMinimum()*0.9, \n",
    "                                       h_h_dphi_50_80.GetMaximum()*1.1)\n",
    "h_h_dphi_50_80_highest_pt.SetLineColor(rt.kGreen + 2)\n",
    "h_h_dphi_50_80.Draw()\n",
    "h_h_dphi_50_80_highest_pt.Draw(\"SAME\")\n",
    "c.Draw()"
   ]
  },
  {
   "cell_type": "code",
   "execution_count": null,
   "id": "179dfe9d",
   "metadata": {},
   "outputs": [],
   "source": [
    "if USE_AVG:\n",
    "    hh_ue_line_50_80 = rt.TF1(\"hh_ue_line_50_80\", \"pol0\", -2, 6)\n",
    "    hh_ue_upper_line_50_80 = rt.TF1(\"hh_ue_upper_line_50_80\", \"pol0\", -2, 6)\n",
    "    hh_ue_lower_line_50_80 = rt.TF1(\"hh_ue_lower_line_50_80\", \"pol0\", -2, 6)\n",
    "    hh_zero_line_50_80 = rt.TF1(\"hh_zero_line_50_80\", \"pol0\", -2, 6)\n",
    "    hh_zero_upper_line_50_80 = rt.TF1(\"hh_zero_upper_line_50_80\", \"pol0\", -2, 6)\n",
    "    hh_zero_lower_line_50_80 = rt.TF1(\"hh_zero_lower_line_50_80\", \"pol0\", -2, 6)\n",
    "    hh_ue_avg_50_80 = (h_h_dphi_50_80.GetBinContent(1) \n",
    "                   + h_h_dphi_50_80.GetBinContent(8)\n",
    "                   + h_h_dphi_50_80.GetBinContent(9)\n",
    "                   + h_h_dphi_50_80.GetBinContent(16))/4\n",
    "\n",
    "    hh_ue_avg_error_50_80 = (1/4)*(math.sqrt(h_h_dphi_50_80.GetBinError(1)**2 \n",
    "                   + h_h_dphi_50_80.GetBinError(8)**2\n",
    "                   + h_h_dphi_50_80.GetBinError(9)**2\n",
    "                   + h_h_dphi_50_80.GetBinError(16)**2))\n",
    "\n",
    "\n",
    "    hh_ue_line_50_80.SetParameter(0, hh_ue_avg_50_80)\n",
    "    hh_ue_line_50_80.SetLineColor(rt.kBlue)\n",
    "    hh_ue_line_50_80.SetLineWidth(3)\n",
    "    hh_ue_line_50_80.SetLineStyle(rt.kSolid)\n",
    "\n",
    "    hh_ue_upper_line_50_80.SetParameter(0, hh_ue_avg_50_80 + hh_ue_avg_error_50_80)\n",
    "    hh_ue_upper_line_50_80.SetLineColor(rt.kBlue)\n",
    "    hh_ue_upper_line_50_80.SetLineStyle(rt.kDashed)\n",
    "\n",
    "    hh_ue_lower_line_50_80.SetParameter(0, hh_ue_avg_50_80 - hh_ue_avg_error_50_80)\n",
    "    hh_ue_lower_line_50_80.SetLineColor(rt.kBlue)\n",
    "    hh_ue_lower_line_50_80.SetLineStyle(rt.kDashed)\n",
    "\n",
    "    hh_zero_line_50_80.SetParameter(0, 0)\n",
    "    hh_zero_line_50_80.SetLineColor(rt.kBlue)\n",
    "    hh_zero_line_50_80.SetLineWidth(3)\n",
    "    hh_zero_line_50_80.SetLineStyle(rt.kSolid)\n",
    "    hh_zero_upper_line_50_80.SetParameter(0, hh_ue_avg_error_50_80)\n",
    "    hh_zero_upper_line_50_80.SetLineColor(rt.kBlue)\n",
    "    hh_zero_upper_line_50_80.SetLineStyle(rt.kDashed)\n",
    "    hh_zero_lower_line_50_80.SetParameter(0, -hh_ue_avg_error_50_80)\n",
    "    hh_zero_lower_line_50_80.SetLineColor(rt.kBlue)\n",
    "    hh_zero_lower_line_50_80.SetLineStyle(rt.kDashed)\n",
    "elif USE_ZYAM:\n",
    "    hh_ue_line_50_80 = rt.TF1(\"hh_ue_line_50_80\", \"pol0\", -2, 6)\n",
    "    hh_ue_upper_line_50_80 = rt.TF1(\"hh_ue_upper_line_50_80\", \"pol0\", -2, 6)\n",
    "    hh_ue_lower_line_50_80 = rt.TF1(\"hh_ue_lower_line_50_80\", \"pol0\", -2, 6)\n",
    "    hh_zero_line_50_80 = rt.TF1(\"hh_zero_line_50_80\", \"pol0\", -2, 6)\n",
    "    hh_zero_upper_line_50_80 = rt.TF1(\"hh_zero_upper_line_50_80\", \"pol0\", -2, 6)\n",
    "    hh_zero_lower_line_50_80 = rt.TF1(\"hh_zero_lower_line_50_80\", \"pol0\", -2, 6)\n",
    "    \n",
    "    min_bin = h_h_dphi_50_80.GetMinimumBin()\n",
    "    hh_ue_avg_50_80 = h_h_dphi_50_80.GetBinContent(min_bin)\n",
    "    hh_ue_avg_error_50_80 = h_h_dphi_50_80.GetBinError(min_bin)\n",
    "\n",
    "    hh_ue_line_50_80.SetParameter(0, hh_ue_avg_50_80)\n",
    "    hh_ue_line_50_80.SetLineColor(rt.kBlue)\n",
    "    hh_ue_line_50_80.SetLineWidth(3)\n",
    "    hh_ue_line_50_80.SetLineStyle(rt.kSolid)\n",
    "\n",
    "    hh_ue_upper_line_50_80.SetParameter(0, hh_ue_avg_50_80 + hh_ue_avg_error_50_80)\n",
    "    hh_ue_upper_line_50_80.SetLineColor(rt.kBlue)\n",
    "    hh_ue_upper_line_50_80.SetLineStyle(rt.kDashed)\n",
    "\n",
    "    hh_ue_lower_line_50_80.SetParameter(0, hh_ue_avg_50_80 - hh_ue_avg_error_50_80)\n",
    "    hh_ue_lower_line_50_80.SetLineColor(rt.kBlue)\n",
    "    hh_ue_lower_line_50_80.SetLineStyle(rt.kDashed)\n",
    "\n",
    "    hh_zero_line_50_80.SetParameter(0, 0)\n",
    "    hh_zero_line_50_80.SetLineColor(rt.kBlue)\n",
    "    hh_zero_line_50_80.SetLineWidth(3)\n",
    "    hh_zero_line_50_80.SetLineStyle(rt.kSolid)\n",
    "    hh_zero_upper_line_50_80.SetParameter(0, hh_ue_avg_error_50_80)\n",
    "    hh_zero_upper_line_50_80.SetLineColor(rt.kBlue)\n",
    "    hh_zero_upper_line_50_80.SetLineStyle(rt.kDashed)\n",
    "    hh_zero_lower_line_50_80.SetParameter(0, -hh_ue_avg_error_50_80)\n",
    "    hh_zero_lower_line_50_80.SetLineColor(rt.kBlue)\n",
    "    hh_zero_lower_line_50_80.SetLineStyle(rt.kDashed)\n",
    "else:\n",
    "    raise NotImplementedError(\"UE line mode not supported\")"
   ]
  },
  {
   "cell_type": "code",
   "execution_count": null,
   "id": "b3229627",
   "metadata": {},
   "outputs": [],
   "source": [
    "if USE_AVG:\n",
    "    hh_ue_line_50_80_highest_pt = rt.TF1(\"hh_ue_line_50_80_highest_pt\", \"pol0\", -2, 6)\n",
    "    hh_ue_upper_line_50_80_highest_pt = rt.TF1(\"hh_ue_upper_line_50_80_highest_pt\", \"pol0\", -2, 6)\n",
    "    hh_ue_lower_line_50_80_highest_pt = rt.TF1(\"hh_ue_lower_line_50_80_highest_pt\", \"pol0\", -2, 6)\n",
    "    hh_zero_line_50_80_highest_pt = rt.TF1(\"hh_zero_line_50_80_highest_pt\", \"pol0\", -2, 6)\n",
    "    hh_zero_upper_line_50_80_highest_pt = rt.TF1(\"hh_zero_upper_line_50_80_highest_pt\", \"pol0\", -2, 6)\n",
    "    hh_zero_lower_line_50_80_highest_pt = rt.TF1(\"hh_zero_lower_line_50_80_highest_pt\", \"pol0\", -2, 6)\n",
    "    hh_ue_avg_50_80_highest_pt = (h_h_dphi_50_80_highest_pt.GetBinContent(1) \n",
    "                   + h_h_dphi_50_80_highest_pt.GetBinContent(8)\n",
    "                   + h_h_dphi_50_80_highest_pt.GetBinContent(9)\n",
    "                   + h_h_dphi_50_80_highest_pt.GetBinContent(16))/4\n",
    "\n",
    "    hh_ue_avg_error_50_80_highest_pt = (1/4)*(math.sqrt(h_h_dphi_50_80_highest_pt.GetBinError(1)**2 \n",
    "                   + h_h_dphi_50_80_highest_pt.GetBinError(8)**2\n",
    "                   + h_h_dphi_50_80_highest_pt.GetBinError(9)**2\n",
    "                   + h_h_dphi_50_80_highest_pt.GetBinError(16)**2))\n",
    "\n",
    "\n",
    "    hh_ue_line_50_80_highest_pt.SetParameter(0, hh_ue_avg_50_80_highest_pt)\n",
    "    hh_ue_line_50_80_highest_pt.SetLineColor(rt.kBlue)\n",
    "    hh_ue_line_50_80_highest_pt.SetLineWidth(3)\n",
    "    hh_ue_line_50_80_highest_pt.SetLineStyle(rt.kSolid)\n",
    "\n",
    "    hh_ue_upper_line_50_80_highest_pt.SetParameter(0, hh_ue_avg_50_80_highest_pt + hh_ue_avg_error_50_80_highest_pt)\n",
    "    hh_ue_upper_line_50_80_highest_pt.SetLineColor(rt.kBlue)\n",
    "    hh_ue_upper_line_50_80_highest_pt.SetLineStyle(rt.kDashed)\n",
    "\n",
    "    hh_ue_lower_line_50_80_highest_pt.SetParameter(0, hh_ue_avg_50_80_highest_pt - hh_ue_avg_error_50_80_highest_pt)\n",
    "    hh_ue_lower_line_50_80_highest_pt.SetLineColor(rt.kBlue)\n",
    "    hh_ue_lower_line_50_80_highest_pt.SetLineStyle(rt.kDashed)\n",
    "\n",
    "    hh_zero_line_50_80_highest_pt.SetParameter(0, 0)\n",
    "    hh_zero_line_50_80_highest_pt.SetLineColor(rt.kBlue)\n",
    "    hh_zero_line_50_80_highest_pt.SetLineWidth(3)\n",
    "    hh_zero_line_50_80_highest_pt.SetLineStyle(rt.kSolid)\n",
    "    hh_zero_upper_line_50_80_highest_pt.SetParameter(0, hh_ue_avg_error_50_80_highest_pt)\n",
    "    hh_zero_upper_line_50_80_highest_pt.SetLineColor(rt.kBlue)\n",
    "    hh_zero_upper_line_50_80_highest_pt.SetLineStyle(rt.kDashed)\n",
    "    hh_zero_lower_line_50_80_highest_pt.SetParameter(0, -hh_ue_avg_error_50_80_highest_pt)\n",
    "    hh_zero_lower_line_50_80_highest_pt.SetLineColor(rt.kBlue)\n",
    "    hh_zero_lower_line_50_80_highest_pt.SetLineStyle(rt.kDashed)\n",
    "elif USE_ZYAM:\n",
    "    hh_ue_line_50_80_highest_pt = rt.TF1(\"hh_ue_line_50_80_highest_pt\", \"pol0\", -2, 6)\n",
    "    hh_ue_upper_line_50_80_highest_pt = rt.TF1(\"hh_ue_upper_line_50_80_highest_pt\", \"pol0\", -2, 6)\n",
    "    hh_ue_lower_line_50_80_highest_pt = rt.TF1(\"hh_ue_lower_line_50_80_highest_pt\", \"pol0\", -2, 6)\n",
    "    hh_zero_line_50_80_highest_pt = rt.TF1(\"hh_zero_line_50_80_highest_pt\", \"pol0\", -2, 6)\n",
    "    hh_zero_upper_line_50_80_highest_pt = rt.TF1(\"hh_zero_upper_line_50_80_highest_pt\", \"pol0\", -2, 6)\n",
    "    hh_zero_lower_line_50_80_highest_pt = rt.TF1(\"hh_zero_lower_line_50_80_highest_pt\", \"pol0\", -2, 6)\n",
    "    \n",
    "    min_bin = h_h_dphi_50_80_highest_pt.GetMinimumBin()\n",
    "    hh_ue_avg_50_80_highest_pt = h_h_dphi_50_80_highest_pt.GetBinContent(min_bin)\n",
    "    hh_ue_avg_error_50_80_highest_pt = h_h_dphi_50_80_highest_pt.GetBinError(min_bin)\n",
    "\n",
    "    hh_ue_line_50_80_highest_pt.SetParameter(0, hh_ue_avg_50_80_highest_pt)\n",
    "    hh_ue_line_50_80_highest_pt.SetLineColor(rt.kBlue)\n",
    "    hh_ue_line_50_80_highest_pt.SetLineWidth(3)\n",
    "    hh_ue_line_50_80_highest_pt.SetLineStyle(rt.kSolid)\n",
    "\n",
    "    hh_ue_upper_line_50_80_highest_pt.SetParameter(0, hh_ue_avg_50_80_highest_pt + hh_ue_avg_error_50_80_highest_pt)\n",
    "    hh_ue_upper_line_50_80_highest_pt.SetLineColor(rt.kBlue)\n",
    "    hh_ue_upper_line_50_80_highest_pt.SetLineStyle(rt.kDashed)\n",
    "\n",
    "    hh_ue_lower_line_50_80_highest_pt.SetParameter(0, hh_ue_avg_50_80_highest_pt - hh_ue_avg_error_50_80_highest_pt)\n",
    "    hh_ue_lower_line_50_80_highest_pt.SetLineColor(rt.kBlue)\n",
    "    hh_ue_lower_line_50_80_highest_pt.SetLineStyle(rt.kDashed)\n",
    "\n",
    "    hh_zero_line_50_80_highest_pt.SetParameter(0, 0)\n",
    "    hh_zero_line_50_80_highest_pt.SetLineColor(rt.kBlue)\n",
    "    hh_zero_line_50_80_highest_pt.SetLineWidth(3)\n",
    "    hh_zero_line_50_80_highest_pt.SetLineStyle(rt.kSolid)\n",
    "    hh_zero_upper_line_50_80_highest_pt.SetParameter(0, hh_ue_avg_error_50_80_highest_pt)\n",
    "    hh_zero_upper_line_50_80_highest_pt.SetLineColor(rt.kBlue)\n",
    "    hh_zero_upper_line_50_80_highest_pt.SetLineStyle(rt.kDashed)\n",
    "    hh_zero_lower_line_50_80_highest_pt.SetParameter(0, -hh_ue_avg_error_50_80_highest_pt)\n",
    "    hh_zero_lower_line_50_80_highest_pt.SetLineColor(rt.kBlue)\n",
    "    hh_zero_lower_line_50_80_highest_pt.SetLineStyle(rt.kDashed)\n",
    "else:\n",
    "    raise NotImplementedError(\"UE line mode not supported\")"
   ]
  },
  {
   "cell_type": "code",
   "execution_count": null,
   "id": "57accfd3",
   "metadata": {},
   "outputs": [],
   "source": [
    "min_bin = h_h_dphi_50_80.GetMinimumBin()\n",
    "min_val = h_h_dphi_50_80.GetBinContent(min_bin)\n",
    "max_bin = h_h_dphi_50_80.GetMaximumBin()\n",
    "max_val = h_h_dphi_50_80.GetBinContent(max_bin)\n",
    "\n",
    "h_h_dphi_50_80.GetYaxis().SetRangeUser(0.85*min_val, 1.15*max_val)\n",
    "\n",
    "h_h_dphi_50_80.Draw()\n",
    "hh_ue_line_50_80.Draw(\"SAME\")\n",
    "hh_ue_upper_line_50_80.Draw(\"SAME\")\n",
    "hh_ue_lower_line_50_80.Draw(\"SAME\")\n",
    "c.Draw()"
   ]
  },
  {
   "cell_type": "code",
   "execution_count": null,
   "id": "052129d7",
   "metadata": {},
   "outputs": [],
   "source": [
    "h_h_dphi_50_80.GetYaxis().SetRangeUser(0, h_h_dphi_50_80.GetMaximum()*1.1)\n",
    "h_h_dphi_50_80.Draw()\n",
    "hh_ue_line_50_80.Draw(\"SAME\")\n",
    "hh_ue_upper_line_50_80.Draw(\"SAME\")\n",
    "hh_ue_lower_line_50_80.Draw(\"SAME\")\n",
    "c.Draw()"
   ]
  },
  {
   "cell_type": "code",
   "execution_count": null,
   "id": "19530af9",
   "metadata": {},
   "outputs": [],
   "source": [
    "h_h_dphi_50_80_zeroed = h_h_dphi_50_80.Clone(\"h_h_dphi_50_80_zeroed\")\n",
    "h_h_dphi_50_80_zeroed.SetTitle(\"h-h #Delta#varphi distribution (UE subtracted, 50 - 80 multiplicity bin)\")\n",
    "h_h_dphi_50_80_zeroed.Add(hh_ue_line_50_80, -1)\n",
    "h_h_dphi_50_80_zeroed.Draw()\n",
    "hh_zero_line_50_80.Draw(\"SAME\")\n",
    "hh_zero_upper_line_50_80.Draw(\"SAME\")\n",
    "hh_zero_lower_line_50_80.Draw(\"SAME\")\n",
    "c.Draw()"
   ]
  },
  {
   "cell_type": "code",
   "execution_count": null,
   "id": "e1f01357",
   "metadata": {},
   "outputs": [],
   "source": [
    "h_h_total_integral_50_80 = 0\n",
    "h_h_near_integral_50_80 = 0\n",
    "h_h_away_integral_50_80 = 0\n",
    "h_h_ue_integral_50_80 = hh_ue_avg_50_80*DPHI_BINS\n",
    "\n",
    "h_h_total_integral_error_50_80 = 0\n",
    "h_h_near_integral_error_50_80 = 0\n",
    "h_h_away_integral_error_50_80 = 0\n",
    "h_h_ue_integral_error_50_80 = hh_ue_avg_error_50_80*DPHI_BINS\n",
    "\n",
    "for bin_num in range(1, DPHI_BINS + 1):\n",
    "    h_h_total_integral_50_80 += h_h_dphi_50_80.GetBinContent(bin_num)\n",
    "    h_h_total_integral_error_50_80 += h_h_dphi_50_80.GetBinError(bin_num)**2\n",
    "    part = h_h_dphi_50_80.GetBinContent(bin_num) - hh_ue_avg_50_80\n",
    "    if part < 0:\n",
    "        continue\n",
    "    if bin_num < 9:\n",
    "        h_h_near_integral_50_80 += part\n",
    "        h_h_near_integral_error_50_80 += h_h_dphi_50_80.GetBinError(bin_num)**2\n",
    "        h_h_near_integral_error_50_80 += hh_ue_avg_error_50_80**2\n",
    "    else:\n",
    "        h_h_away_integral_50_80 += part\n",
    "        h_h_away_integral_error_50_80 += h_h_dphi_50_80.GetBinError(bin_num)**2\n",
    "        h_h_away_integral_error_50_80 += hh_ue_avg_error_50_80**2\n",
    "h_h_total_integral_error_50_80 = math.sqrt(h_h_total_integral_error_50_80)\n",
    "h_h_near_integral_error_50_80 = math.sqrt(h_h_near_integral_error_50_80)\n",
    "h_h_away_integral_error_50_80 = math.sqrt(h_h_away_integral_error_50_80)"
   ]
  },
  {
   "cell_type": "code",
   "execution_count": null,
   "id": "12f2c387",
   "metadata": {},
   "outputs": [],
   "source": [
    "h_h_total_integral_50_80_highest_pt = 0\n",
    "h_h_near_integral_50_80_highest_pt = 0\n",
    "h_h_away_integral_50_80_highest_pt = 0\n",
    "h_h_ue_integral_50_80_highest_pt = hh_ue_avg_50_80_highest_pt*DPHI_BINS\n",
    "\n",
    "h_h_total_integral_error_50_80_highest_pt = 0\n",
    "h_h_near_integral_error_50_80_highest_pt = 0\n",
    "h_h_away_integral_error_50_80_highest_pt = 0\n",
    "h_h_ue_integral_error_50_80_highest_pt = hh_ue_avg_error_50_80_highest_pt*DPHI_BINS\n",
    "\n",
    "for bin_num in range(1, DPHI_BINS + 1):\n",
    "    h_h_total_integral_50_80_highest_pt += h_h_dphi_50_80_highest_pt.GetBinContent(bin_num)\n",
    "    h_h_total_integral_error_50_80_highest_pt += h_h_dphi_50_80_highest_pt.GetBinError(bin_num)**2\n",
    "    part = h_h_dphi_50_80_highest_pt.GetBinContent(bin_num) - hh_ue_avg_50_80_highest_pt\n",
    "    if part < 0:\n",
    "        continue\n",
    "    if bin_num < 9:\n",
    "        h_h_near_integral_50_80_highest_pt += part\n",
    "        h_h_near_integral_error_50_80_highest_pt += h_h_dphi_50_80_highest_pt.GetBinError(bin_num)**2\n",
    "        h_h_near_integral_error_50_80_highest_pt += hh_ue_avg_error_50_80_highest_pt**2\n",
    "    else:\n",
    "        h_h_away_integral_50_80_highest_pt += part\n",
    "        h_h_away_integral_error_50_80_highest_pt += h_h_dphi_50_80_highest_pt.GetBinError(bin_num)**2\n",
    "        h_h_away_integral_error_50_80_highest_pt += hh_ue_avg_error_50_80_highest_pt**2\n",
    "h_h_total_integral_error_50_80_highest_pt = math.sqrt(h_h_total_integral_error_50_80_highest_pt)\n",
    "h_h_near_integral_error_50_80_highest_pt = math.sqrt(h_h_near_integral_error_50_80_highest_pt)\n",
    "h_h_away_integral_error_50_80_highest_pt = math.sqrt(h_h_away_integral_error_50_80_highest_pt)"
   ]
  },
  {
   "cell_type": "code",
   "execution_count": null,
   "id": "e80ba460",
   "metadata": {},
   "outputs": [],
   "source": [
    "near_ratio_50_80 = h_lambda_near_integral_50_80/h_h_near_integral_50_80\n",
    "away_ratio_50_80 = h_lambda_away_integral_50_80/h_h_away_integral_50_80\n",
    "ue_ratio_50_80 = h_lambda_ue_integral_50_80/h_h_ue_integral_50_80\n",
    "total_ratio_50_80 = h_lambda_total_integral_50_80/h_h_total_integral_50_80\n",
    "\n",
    "near_ratio_error_50_80 = near_ratio_50_80*math.sqrt((h_lambda_near_integral_error_50_80/h_lambda_near_integral_50_80)**2\n",
    "                                                 + (h_h_near_integral_error_50_80/h_h_near_integral_50_80)**2)\n",
    "away_ratio_error_50_80 = away_ratio_50_80*math.sqrt((h_lambda_away_integral_error_50_80/h_lambda_away_integral_50_80)**2\n",
    "                                                 + (h_h_away_integral_error_50_80/h_h_away_integral_50_80)**2)\n",
    "ue_ratio_error_50_80 = ue_ratio_50_80*math.sqrt((h_lambda_ue_integral_error_50_80/h_lambda_ue_integral_50_80)**2\n",
    "                                                 + (h_h_ue_integral_error_50_80/h_h_ue_integral_50_80)**2)\n",
    "total_ratio_error_50_80 = total_ratio_50_80*math.sqrt((h_lambda_total_integral_error_50_80/h_lambda_total_integral_50_80)**2\n",
    "                                                 + (h_h_total_integral_error_50_80/h_h_total_integral_50_80)**2)"
   ]
  },
  {
   "cell_type": "code",
   "execution_count": null,
   "id": "12ff1e7d",
   "metadata": {},
   "outputs": [],
   "source": [
    "near_ratio_50_80_highest_pt = h_lambda_near_integral_50_80_highest_pt/h_h_near_integral_50_80_highest_pt\n",
    "away_ratio_50_80_highest_pt = h_lambda_away_integral_50_80_highest_pt/h_h_away_integral_50_80_highest_pt\n",
    "ue_ratio_50_80_highest_pt = h_lambda_ue_integral_50_80_highest_pt/h_h_ue_integral_50_80_highest_pt\n",
    "total_ratio_50_80_highest_pt = h_lambda_total_integral_50_80_highest_pt/h_h_total_integral_50_80_highest_pt\n",
    "\n",
    "near_ratio_error_50_80_highest_pt = near_ratio_50_80_highest_pt*math.sqrt((h_lambda_near_integral_error_50_80_highest_pt/h_lambda_near_integral_50_80_highest_pt)**2\n",
    "                                                 + (h_h_near_integral_error_50_80_highest_pt/h_h_near_integral_50_80_highest_pt)**2)\n",
    "away_ratio_error_50_80_highest_pt = away_ratio_50_80_highest_pt*math.sqrt((h_lambda_away_integral_error_50_80_highest_pt/h_lambda_away_integral_50_80_highest_pt)**2\n",
    "                                                 + (h_h_away_integral_error_50_80_highest_pt/h_h_away_integral_50_80_highest_pt)**2)\n",
    "ue_ratio_error_50_80_highest_pt = ue_ratio_50_80_highest_pt*math.sqrt((h_lambda_ue_integral_error_50_80_highest_pt/h_lambda_ue_integral_50_80_highest_pt)**2\n",
    "                                                 + (h_h_ue_integral_error_50_80_highest_pt/h_h_ue_integral_50_80_highest_pt)**2)\n",
    "total_ratio_error_50_80_highest_pt = total_ratio_50_80_highest_pt*math.sqrt((h_lambda_total_integral_error_50_80_highest_pt/h_lambda_total_integral_50_80_highest_pt)**2\n",
    "                                                 + (h_h_total_integral_error_50_80_highest_pt/h_h_total_integral_50_80_highest_pt)**2)"
   ]
  },
  {
   "cell_type": "markdown",
   "id": "1df19b38",
   "metadata": {},
   "source": [
    "# Final ratio vs multiplicity "
   ]
  },
  {
   "cell_type": "markdown",
   "id": "81e3bfdf",
   "metadata": {},
   "source": [
    "### ALL TRIGGER SECTION"
   ]
  },
  {
   "cell_type": "code",
   "execution_count": null,
   "id": "163e26f5",
   "metadata": {},
   "outputs": [],
   "source": [
    "mult_list = arr.array('d', [35, 65, 90])\n",
    "mult_error_list = arr.array('d', [15, 15, 10])\n",
    "\n",
    "near_ratio_list = arr.array('d', [near_ratio_50_80, near_ratio_20_50, near_ratio_0_20])\n",
    "near_ratio_error_list = arr.array('d', [near_ratio_error_0_20, near_ratio_error_20_50, near_ratio_error_50_80])\n",
    "\n",
    "away_ratio_list = arr.array('d', [away_ratio_50_80, away_ratio_20_50, away_ratio_0_20])\n",
    "away_ratio_error_list = arr.array('d', [away_ratio_error_50_80, away_ratio_error_20_50, away_ratio_error_0_20])\n",
    "\n",
    "ue_ratio_list = arr.array('d', [ue_ratio_50_80, ue_ratio_20_50, ue_ratio_0_20])\n",
    "ue_ratio_error_list = arr.array('d', [ue_ratio_error_50_80, ue_ratio_error_20_50, ue_ratio_error_0_20])\n",
    "\n",
    "total_ratio_list = arr.array('d', [total_ratio_50_80, total_ratio_20_50, total_ratio_0_20])\n",
    "total_ratio_error_list = arr.array('d', [total_ratio_error_50_80, total_ratio_error_20_50, total_ratio_error_0_20])"
   ]
  },
  {
   "cell_type": "code",
   "execution_count": null,
   "id": "61994366",
   "metadata": {},
   "outputs": [],
   "source": [
    "near_ratio_graph = rt.TGraphErrors(3, mult_list, near_ratio_list, mult_error_list, near_ratio_error_list)\n",
    "near_ratio_graph.SetMarkerStyle(20)\n",
    "near_ratio_graph.SetMarkerSize(2)\n",
    "near_ratio_graph.SetMarkerColor(rt.kRed+1)\n",
    "near_ratio_graph.SetLineColor(rt.kRed+2)\n",
    "near_ratio_graph.SetLineWidth(2)\n",
    "near_ratio_graph.GetXaxis().SetTitle(\"Multiplicity Percentile\")\n",
    "near_ratio_graph.GetXaxis().SetTitleSize(0.05)\n",
    "near_ratio_graph.GetXaxis().SetLabelSize(0.04)\n",
    "near_ratio_graph.GetXaxis().SetTitleOffset(0.9)\n",
    "near_ratio_graph.GetXaxis().SetRangeUser(0.0, 100.0)\n",
    "near_ratio_graph.GetYaxis().SetTitle(\"Yield Ratio #left(#frac{h-#Lambda}{h-h}#right)\")\n",
    "near_ratio_graph.GetYaxis().SetTitleSize(0.04)\n",
    "near_ratio_graph.GetYaxis().SetTitleOffset(1.5)\n",
    "near_ratio_graph.GetYaxis().SetRangeUser(0.0002, 0.0035)"
   ]
  },
  {
   "cell_type": "code",
   "execution_count": null,
   "id": "48868639",
   "metadata": {},
   "outputs": [],
   "source": [
    "away_ratio_graph = rt.TGraphErrors(3, mult_list, away_ratio_list, mult_error_list, away_ratio_error_list)\n",
    "away_ratio_graph.SetMarkerStyle(21)\n",
    "away_ratio_graph.SetMarkerSize(2)\n",
    "away_ratio_graph.SetMarkerColor(rt.kBlue+1)\n",
    "away_ratio_graph.SetLineColor(rt.kBlue+2)\n",
    "away_ratio_graph.SetLineWidth(2)"
   ]
  },
  {
   "cell_type": "code",
   "execution_count": null,
   "id": "67c463f8",
   "metadata": {},
   "outputs": [],
   "source": [
    "ue_ratio_graph = rt.TGraphErrors(3, mult_list, ue_ratio_list, mult_error_list, ue_ratio_error_list)\n",
    "ue_ratio_graph.SetMarkerStyle(22)\n",
    "ue_ratio_graph.SetMarkerSize(2)\n",
    "ue_ratio_graph.SetMarkerColor(rt.kGreen+2)\n",
    "ue_ratio_graph.SetLineColor(rt.kGreen+3)\n",
    "ue_ratio_graph.SetLineWidth(2)"
   ]
  },
  {
   "cell_type": "code",
   "execution_count": null,
   "id": "a8f729d7",
   "metadata": {},
   "outputs": [],
   "source": [
    "total_ratio_graph = rt.TGraphErrors(3, mult_list, total_ratio_list, mult_error_list, total_ratio_error_list)\n",
    "total_ratio_graph.SetMarkerStyle(29)\n",
    "total_ratio_graph.SetMarkerSize(2)\n",
    "total_ratio_graph.SetMarkerColor(rt.kMagenta+2)\n",
    "total_ratio_graph.SetLineColor(rt.kMagenta+3)\n",
    "total_ratio_graph.SetLineWidth(2)\n",
    "total_ratio_graph.SetFillColor(rt.kMagenta+1)\n",
    "total_ratio_graph.SetFillStyle(3144)"
   ]
  },
  {
   "cell_type": "code",
   "execution_count": null,
   "id": "a993134b",
   "metadata": {},
   "outputs": [],
   "source": [
    "ratios_legend = rt.TLegend(0.183, 0.686, 0.461, 0.928)\n",
    "ratios_legend.SetMargin(0.35)\n",
    "ratios_legend.AddEntry(ue_ratio_graph, \"Underlying Event\", \"pl\")\n",
    "ratios_legend.AddEntry(away_ratio_graph, \"Away-side (Jet)\", \"pl\")\n",
    "ratios_legend.AddEntry(near_ratio_graph, \"Near-side (Jet)\", \"pl\")\n",
    "ratios_legend.AddEntry(total_ratio_graph, \"Total (Jet + UE)\", \"f\")\n",
    "ratios_legend.SetLineWidth(0)"
   ]
  },
  {
   "cell_type": "code",
   "execution_count": null,
   "id": "6f91dc2e",
   "metadata": {},
   "outputs": [],
   "source": [
    "pt_range_label = rt.TPaveText(0.6687, 0.6585, 0.9282, 0.7979, \"NDC\")\n",
    "pt_range_label.AddText(\"trigger: 4.0 < p_{T}^{h} < 8.0 GeV/c\")\n",
    "pt_range_label.AddText(\"assoc: 2.0 < p_{T}^{#Lambda} < 4.0 GeV/c\")\n",
    "pt_range_label.SetTextSizePixels(18)\n",
    "pt_range_label.SetFillColor(rt.kWhite)\n",
    "pt_range_label.SetBorderSize(0)"
   ]
  },
  {
   "cell_type": "code",
   "execution_count": null,
   "id": "aa615efb",
   "metadata": {},
   "outputs": [],
   "source": [
    "alice_data_label = rt.TPaveText(0.6982, 0.8258, 0.8987, 0.9251, \"NDC\")\n",
    "alice_data_label.AddText(\"ALICE\")\n",
    "alice_data_label.AddText(\"p-Pb #sqrt{s_{NN}} = 5.02 TeV\")\n",
    "alice_data_label.GetLine(0).SetTextSizePixels(32)\n",
    "alice_data_label.GetLine(1).SetTextSizePixels(24)\n",
    "alice_data_label.SetBorderSize(0)\n",
    "alice_data_label.SetFillColor(rt.kWhite)"
   ]
  },
  {
   "cell_type": "code",
   "execution_count": null,
   "id": "a09857c1",
   "metadata": {},
   "outputs": [],
   "source": [
    "mult_bin_widths = arr.array('d', [0.0, 20.0, 50.0, 80.0, 100.0])\n",
    "near_ratio_hist = rt.TH1D(\"near_ratio_hist\", \"\", 4, mult_bin_widths)\n",
    "for i in range(3):\n",
    "    near_ratio_hist.SetBinContent(i+2, near_ratio_list[i])\n",
    "    near_ratio_hist.SetBinError(i+2, near_ratio_error_list[i])\n",
    "near_ratio_hist.SetMarkerStyle(20)\n",
    "near_ratio_hist.SetMarkerSize(1)\n",
    "near_ratio_hist.SetMarkerColor(rt.kRed+1)\n",
    "near_ratio_hist.SetLineColor(rt.kRed+2)\n",
    "near_ratio_hist.SetLineWidth(2)\n",
    "near_ratio_hist.GetXaxis().SetTitle(\"Multiplicity Percentile\")\n",
    "near_ratio_hist.GetXaxis().SetTitleSize(0.05)\n",
    "near_ratio_hist.GetXaxis().SetLabelSize(0.04)\n",
    "near_ratio_hist.GetXaxis().SetTitleOffset(1.2)\n",
    "near_ratio_hist.GetXaxis().SetRangeUser(0.0, 100.0)\n",
    "near_ratio_hist.GetYaxis().SetTitle(\"Yield Ratio #left(#frac{h-#Lambda}{h-h}#right)\")\n",
    "near_ratio_hist.GetYaxis().SetTitleSize(0.04)\n",
    "near_ratio_hist.GetYaxis().SetTitleOffset(1.5)\n",
    "near_ratio_hist.GetYaxis().SetRangeUser(0.0, 0.025)\n",
    "near_ratio_hist.SetStats(0)"
   ]
  },
  {
   "cell_type": "code",
   "execution_count": null,
   "id": "00ecdbad",
   "metadata": {},
   "outputs": [],
   "source": [
    "c.SetMargin(0.126, 0.05, 0.125, 0.05)\n",
    "near_ratio_hist.Draw(\"PE\")\n",
    "near_ratio_hist.GetXaxis().SetLabelOffset(999)\n",
    "near_ratio_hist.GetXaxis().SetTickSize(0)\n",
    "rt.gPad.Update()\n",
    "new_axis = rt.TGaxis(rt.gPad.GetUxmax(),\n",
    "        rt.gPad.GetUymin(),\n",
    "        rt.gPad.GetUxmin(),\n",
    "        rt.gPad.GetUymin(),\n",
    "        near_ratio_hist.GetXaxis().GetXmin(),\n",
    "        near_ratio_hist.GetXaxis().GetXmax(),\n",
    "        510,\"-\")\n",
    "new_axis.SetLabelOffset(-0.03)\n",
    "new_axis.Draw()\n",
    "near_ratio_graph.Draw(\"P\")\n",
    "away_ratio_graph.Draw(\"P\")\n",
    "ue_ratio_graph.Draw(\"P\")\n",
    "total_ratio_graph.Draw(\"P\")\n",
    "ratios_legend.Draw()\n",
    "pt_range_label.Draw()\n",
    "alice_data_label.Draw()\n",
    "c.Draw()"
   ]
  },
  {
   "cell_type": "markdown",
   "id": "8c381259",
   "metadata": {},
   "source": [
    "### HIGHEST PT TRIGGER SECTION"
   ]
  },
  {
   "cell_type": "code",
   "execution_count": null,
   "id": "a67505db",
   "metadata": {},
   "outputs": [],
   "source": [
    "mult_list = arr.array('d', [35, 65, 90])\n",
    "mult_error_list = arr.array('d', [15, 15, 10])\n",
    "\n",
    "near_ratio_list = arr.array('d', [near_ratio_50_80_highest_pt, near_ratio_20_50_highest_pt, near_ratio_0_20_highest_pt])\n",
    "near_ratio_error_list = arr.array('d', [near_ratio_error_0_20_highest_pt, near_ratio_error_20_50_highest_pt, near_ratio_error_50_80_highest_pt])\n",
    "\n",
    "away_ratio_list = arr.array('d', [away_ratio_50_80_highest_pt, away_ratio_20_50_highest_pt, away_ratio_0_20_highest_pt])\n",
    "away_ratio_error_list = arr.array('d', [away_ratio_error_50_80_highest_pt, away_ratio_error_20_50_highest_pt, away_ratio_error_0_20_highest_pt])\n",
    "\n",
    "ue_ratio_list = arr.array('d', [ue_ratio_50_80_highest_pt, ue_ratio_20_50_highest_pt, ue_ratio_0_20_highest_pt])\n",
    "ue_ratio_error_list = arr.array('d', [ue_ratio_error_50_80_highest_pt, ue_ratio_error_20_50_highest_pt, ue_ratio_error_0_20_highest_pt])\n",
    "\n",
    "total_ratio_list = arr.array('d', [total_ratio_50_80_highest_pt, total_ratio_20_50_highest_pt, total_ratio_0_20_highest_pt])\n",
    "total_ratio_error_list = arr.array('d', [total_ratio_error_50_80_highest_pt, total_ratio_error_20_50_highest_pt, total_ratio_error_0_20_highest_pt])"
   ]
  },
  {
   "cell_type": "code",
   "execution_count": null,
   "id": "21e945af",
   "metadata": {},
   "outputs": [],
   "source": [
    "near_ratio_graph = rt.TGraphErrors(3, mult_list, near_ratio_list, mult_error_list, near_ratio_error_list)\n",
    "near_ratio_graph.SetMarkerStyle(20)\n",
    "near_ratio_graph.SetMarkerSize(2)\n",
    "near_ratio_graph.SetMarkerColor(rt.kRed+1)\n",
    "near_ratio_graph.SetLineColor(rt.kRed+2)\n",
    "near_ratio_graph.SetLineWidth(2)\n",
    "near_ratio_graph.GetXaxis().SetTitle(\"Multiplicity Percentile\")\n",
    "near_ratio_graph.GetXaxis().SetTitleSize(0.05)\n",
    "near_ratio_graph.GetXaxis().SetLabelSize(0.04)\n",
    "near_ratio_graph.GetXaxis().SetTitleOffset(0.9)\n",
    "near_ratio_graph.GetXaxis().SetRangeUser(0.0, 100.0)\n",
    "near_ratio_graph.GetYaxis().SetTitle(\"Yield Ratio #left(#frac{h-#Lambda}{h-h}#right)\")\n",
    "near_ratio_graph.GetYaxis().SetTitleSize(0.04)\n",
    "near_ratio_graph.GetYaxis().SetTitleOffset(1.5)\n",
    "near_ratio_graph.GetYaxis().SetRangeUser(0.0002, 0.0035)"
   ]
  },
  {
   "cell_type": "code",
   "execution_count": null,
   "id": "208c7257",
   "metadata": {},
   "outputs": [],
   "source": [
    "away_ratio_graph = rt.TGraphErrors(3, mult_list, away_ratio_list, mult_error_list, away_ratio_error_list)\n",
    "away_ratio_graph.SetMarkerStyle(21)\n",
    "away_ratio_graph.SetMarkerSize(2)\n",
    "away_ratio_graph.SetMarkerColor(rt.kBlue+1)\n",
    "away_ratio_graph.SetLineColor(rt.kBlue+2)\n",
    "away_ratio_graph.SetLineWidth(2)"
   ]
  },
  {
   "cell_type": "code",
   "execution_count": null,
   "id": "3f00cae0",
   "metadata": {},
   "outputs": [],
   "source": [
    "ue_ratio_graph = rt.TGraphErrors(3, mult_list, ue_ratio_list, mult_error_list, ue_ratio_error_list)\n",
    "ue_ratio_graph.SetMarkerStyle(22)\n",
    "ue_ratio_graph.SetMarkerSize(2)\n",
    "ue_ratio_graph.SetMarkerColor(rt.kGreen+2)\n",
    "ue_ratio_graph.SetLineColor(rt.kGreen+3)\n",
    "ue_ratio_graph.SetLineWidth(2)"
   ]
  },
  {
   "cell_type": "code",
   "execution_count": null,
   "id": "598014e5",
   "metadata": {},
   "outputs": [],
   "source": [
    "total_ratio_graph = rt.TGraphErrors(3, mult_list, total_ratio_list, mult_error_list, total_ratio_error_list)\n",
    "total_ratio_graph.SetMarkerStyle(29)\n",
    "total_ratio_graph.SetMarkerSize(2)\n",
    "total_ratio_graph.SetMarkerColor(rt.kMagenta+2)\n",
    "total_ratio_graph.SetLineColor(rt.kMagenta+3)\n",
    "total_ratio_graph.SetLineWidth(2)\n",
    "total_ratio_graph.SetFillColor(rt.kMagenta+1)\n",
    "total_ratio_graph.SetFillStyle(3144)"
   ]
  },
  {
   "cell_type": "code",
   "execution_count": null,
   "id": "e7544e7a",
   "metadata": {},
   "outputs": [],
   "source": [
    "ratios_legend = rt.TLegend(0.183, 0.686, 0.461, 0.928)\n",
    "ratios_legend.SetMargin(0.35)\n",
    "ratios_legend.AddEntry(ue_ratio_graph, \"Underlying Event\", \"pl\")\n",
    "ratios_legend.AddEntry(away_ratio_graph, \"Away-side (Jet)\", \"pl\")\n",
    "ratios_legend.AddEntry(near_ratio_graph, \"Near-side (Jet)\", \"pl\")\n",
    "ratios_legend.AddEntry(total_ratio_graph, \"Total (Jet + UE)\", \"f\")\n",
    "ratios_legend.SetLineWidth(0)"
   ]
  },
  {
   "cell_type": "code",
   "execution_count": null,
   "id": "c11a9e3f",
   "metadata": {},
   "outputs": [],
   "source": [
    "pt_range_label = rt.TPaveText(0.6687, 0.6585, 0.9282, 0.7979, \"NDC\")\n",
    "pt_range_label.AddText(\"trigger: 4.0 < p_{T}^{h} < 8.0 GeV/c\")\n",
    "pt_range_label.AddText(\"assoc: 2.0 < p_{T}^{#Lambda} < 4.0 GeV/c\")\n",
    "pt_range_label.SetTextSizePixels(18)\n",
    "pt_range_label.SetFillColor(rt.kWhite)\n",
    "pt_range_label.SetBorderSize(0)"
   ]
  },
  {
   "cell_type": "code",
   "execution_count": null,
   "id": "bf1ebe0a",
   "metadata": {},
   "outputs": [],
   "source": [
    "alice_data_label = rt.TPaveText(0.6982, 0.8258, 0.8987, 0.9251, \"NDC\")\n",
    "alice_data_label.AddText(\"ALICE\")\n",
    "alice_data_label.AddText(\"p-Pb #sqrt{s_{NN}} = 5.02 TeV\")\n",
    "alice_data_label.GetLine(0).SetTextSizePixels(32)\n",
    "alice_data_label.GetLine(1).SetTextSizePixels(24)\n",
    "alice_data_label.SetBorderSize(0)\n",
    "alice_data_label.SetFillColor(rt.kWhite)"
   ]
  },
  {
   "cell_type": "code",
   "execution_count": null,
   "id": "50672419",
   "metadata": {},
   "outputs": [],
   "source": [
    "mult_bin_widths = arr.array('d', [0.0, 20.0, 50.0, 80.0, 100.0])\n",
    "near_ratio_hist = rt.TH1D(\"near_ratio_hist\", \"\", 4, mult_bin_widths)\n",
    "for i in range(3):\n",
    "    near_ratio_hist.SetBinContent(i+2, near_ratio_list[i])\n",
    "    near_ratio_hist.SetBinError(i+2, near_ratio_error_list[i])\n",
    "near_ratio_hist.SetMarkerStyle(20)\n",
    "near_ratio_hist.SetMarkerSize(1)\n",
    "near_ratio_hist.SetMarkerColor(rt.kRed+1)\n",
    "near_ratio_hist.SetLineColor(rt.kRed+2)\n",
    "near_ratio_hist.SetLineWidth(2)\n",
    "near_ratio_hist.GetXaxis().SetTitle(\"Multiplicity Percentile\")\n",
    "near_ratio_hist.GetXaxis().SetTitleSize(0.05)\n",
    "near_ratio_hist.GetXaxis().SetLabelSize(0.04)\n",
    "near_ratio_hist.GetXaxis().SetTitleOffset(1.2)\n",
    "near_ratio_hist.GetXaxis().SetRangeUser(0.0, 100.0)\n",
    "near_ratio_hist.GetYaxis().SetTitle(\"Yield Ratio #left(#frac{h-#Lambda}{h-h}#right)\")\n",
    "near_ratio_hist.GetYaxis().SetTitleSize(0.04)\n",
    "near_ratio_hist.GetYaxis().SetTitleOffset(1.5)\n",
    "near_ratio_hist.GetYaxis().SetRangeUser(0.0, 0.05)\n",
    "near_ratio_hist.SetStats(0)"
   ]
  },
  {
   "cell_type": "code",
   "execution_count": null,
   "id": "1d03cc62",
   "metadata": {
    "scrolled": true
   },
   "outputs": [],
   "source": [
    "c.SetMargin(0.126, 0.05, 0.125, 0.05)\n",
    "near_ratio_hist.Draw(\"PE\")\n",
    "near_ratio_hist.GetXaxis().SetLabelOffset(999)\n",
    "near_ratio_hist.GetXaxis().SetTickSize(0)\n",
    "rt.gPad.Update()\n",
    "new_axis = rt.TGaxis(rt.gPad.GetUxmax(),\n",
    "        rt.gPad.GetUymin(),\n",
    "        rt.gPad.GetUxmin(),\n",
    "        rt.gPad.GetUymin(),\n",
    "        near_ratio_hist.GetXaxis().GetXmin(),\n",
    "        near_ratio_hist.GetXaxis().GetXmax(),\n",
    "        510,\"-\")\n",
    "new_axis.SetLabelOffset(-0.03)\n",
    "new_axis.Draw()\n",
    "near_ratio_graph.Draw(\"P\")\n",
    "away_ratio_graph.Draw(\"P\")\n",
    "ue_ratio_graph.Draw(\"P\")\n",
    "total_ratio_graph.Draw(\"P\")\n",
    "ratios_legend.Draw()\n",
    "pt_range_label.Draw()\n",
    "alice_data_label.Draw()\n",
    "c.Draw()"
   ]
  },
  {
   "cell_type": "code",
   "execution_count": null,
   "id": "b01b1749",
   "metadata": {},
   "outputs": [],
   "source": []
  },
  {
   "cell_type": "code",
   "execution_count": null,
   "id": "b9fba8cf",
   "metadata": {},
   "outputs": [],
   "source": [
    "outfile = rt.TFile(\"resonance_output.root\", \"RECREATE\")\n",
    "h_lambda_dphi_subtracted_0_20.Write()\n",
    "h_lambda_dphi_subtracted_20_50.Write()\n",
    "h_lambda_dphi_subtracted_50_80.Write()\n",
    "h_h_dphi_0_20.Write()\n",
    "h_h_dphi_20_50.Write()\n",
    "h_h_dphi_50_80.Write()"
   ]
  },
  {
   "cell_type": "code",
   "execution_count": null,
   "id": "ad32ef88",
   "metadata": {},
   "outputs": [],
   "source": []
  }
 ],
 "metadata": {
  "kernelspec": {
   "display_name": "Python 3.6.9 64-bit",
   "language": "python",
   "name": "python3"
  },
  "language_info": {
   "codemirror_mode": {
    "name": "ipython",
    "version": 3
   },
   "file_extension": ".py",
   "mimetype": "text/x-python",
   "name": "python",
   "nbconvert_exporter": "python",
   "pygments_lexer": "ipython3",
   "version": "3.6.9"
  },
  "vscode": {
   "interpreter": {
    "hash": "31f2aee4e71d21fbe5cf8b01ff0e069b9275f58929596ceb00d14d90e3e16cd6"
   }
  }
 },
 "nbformat": 4,
 "nbformat_minor": 5
}
