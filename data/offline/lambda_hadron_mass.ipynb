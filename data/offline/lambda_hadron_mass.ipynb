{
 "cells": [
  {
   "cell_type": "code",
   "execution_count": 21,
   "metadata": {},
   "outputs": [],
   "source": [
    "import ROOT as rt\n",
    "import math"
   ]
  },
  {
   "cell_type": "markdown",
   "metadata": {},
   "source": [
    "## Setup section"
   ]
  },
  {
   "cell_type": "code",
   "execution_count": 22,
   "metadata": {},
   "outputs": [
    {
     "name": "stderr",
     "output_type": "stream",
     "text": [
      "Warning in <TCanvas::Constructor>: Deleting canvas with same name: main_canvas\n"
     ]
    }
   ],
   "source": [
    "main_canvas = rt.TCanvas(\"main_canvas\")\n",
    "rt.gStyle.SetOptStat(0)\n",
    "rt.gStyle.SetOptFit(1)\n",
    "\n",
    "# Change the canvas margins so you can see all of the axis titles...\n",
    "main_canvas.SetRightMargin(0.09);\n",
    "main_canvas.SetLeftMargin(0.15);\n",
    "main_canvas.SetBottomMargin(0.15);"
   ]
  },
  {
   "cell_type": "code",
   "execution_count": 23,
   "metadata": {},
   "outputs": [],
   "source": [
    "# Getting all of the input files\n",
    "input_file_0_20 = rt.TFile('../online/tmp/cent_0_20.root')\n",
    "input_file_20_50 = rt.TFile('../online/output/fixed_filter_20_50.root')\n",
    "input_file_50_100 = rt.TFile('../online/output/fixed_filter_50_100.root')\n",
    "\n",
    "object_list_0_20 = input_file_0_20.Get(\"h-lambda\")\n",
    "object_list_20_50 = input_file_20_50.Get(\"h-lambda\")\n",
    "object_list_50_100 = input_file_50_100.Get(\"h-lambda\")"
   ]
  },
  {
   "cell_type": "code",
   "execution_count": 4,
   "metadata": {},
   "outputs": [
    {
     "data": {
      "image/png": "[encoded data removed]",
      "text/plain": [
       "<IPython.core.display.Image object>"
      ]
     },
     "metadata": {},
     "output_type": "display_data"
    }
   ],
   "source": [
    "pt_dist = object_list_0_20.FindObject(\"fTriggerDist\").Projection(2)\n",
    "pt_dist.SetLineColor(rt.kGreen+2)\n",
    "pt_dist.GetYaxis().SetRangeUser(0, 1200e3)\n",
    "pt_dist.SetTitle(\"Trigger Hadron #eta Distribution (4 GeV < p_{T} < 8 GeV)\")\n",
    "pt_dist.Sumw2()\n",
    "pt_dist.Draw()\n",
    "main_canvas.Draw()"
   ]
  },
  {
   "cell_type": "code",
   "execution_count": 24,
   "metadata": {},
   "outputs": [],
   "source": [
    "object_list_0_20.FindObject(\"fDphiHLambda\").GetAxis(0).SetRangeUser(4, 8)\n",
    "object_list_20_50.FindObject(\"fDphiHLambda\").GetAxis(0).SetRangeUser(4, 8)\n",
    "object_list_50_100.FindObject(\"fDphiHLambda\").GetAxis(0).SetRangeUser(4, 8)\n",
    "object_list_0_20.FindObject(\"fDphiHLambdaLS\").GetAxis(0).SetRangeUser(4, 8)\n",
    "object_list_20_50.FindObject(\"fDphiHLambdaLS\").GetAxis(0).SetRangeUser(4, 8)\n",
    "object_list_50_100.FindObject(\"fDphiHLambdaLS\").GetAxis(0).SetRangeUser(4, 8)\n",
    "object_list_0_20.FindObject(\"fDphiHLambdaRotated\").GetAxis(0).SetRangeUser(4, 8)\n",
    "object_list_20_50.FindObject(\"fDphiHLambdaRotated\").GetAxis(0).SetRangeUser(4, 8)\n",
    "object_list_50_100.FindObject(\"fDphiHLambdaRotated\").GetAxis(0).SetRangeUser(4, 8)\n",
    "object_list_0_20.FindObject(\"fDphiHLambdaFlipped\").GetAxis(0).SetRangeUser(4, 8)\n",
    "object_list_20_50.FindObject(\"fDphiHLambdaFlipped\").GetAxis(0).SetRangeUser(4, 8)\n",
    "object_list_50_100.FindObject(\"fDphiHLambdaFlipped\").GetAxis(0).SetRangeUser(4, 8)\n",
    "\n",
    "object_list_0_20.FindObject(\"fDphiHLambda\").GetAxis(1).SetRangeUser(2, 4)\n",
    "object_list_20_50.FindObject(\"fDphiHLambda\").GetAxis(1).SetRangeUser(2, 4)\n",
    "object_list_50_100.FindObject(\"fDphiHLambda\").GetAxis(1).SetRangeUser(2, 4)\n",
    "object_list_0_20.FindObject(\"fDphiHLambdaLS\").GetAxis(1).SetRangeUser(2, 4)\n",
    "object_list_20_50.FindObject(\"fDphiHLambdaLS\").GetAxis(1).SetRangeUser(2, 4)\n",
    "object_list_50_100.FindObject(\"fDphiHLambdaLS\").GetAxis(1).SetRangeUser(2, 4)\n",
    "object_list_0_20.FindObject(\"fDphiHLambdaRotated\").GetAxis(1).SetRangeUser(2, 4)\n",
    "object_list_20_50.FindObject(\"fDphiHLambdaRotated\").GetAxis(1).SetRangeUser(2, 4)\n",
    "object_list_50_100.FindObject(\"fDphiHLambdaRotated\").GetAxis(1).SetRangeUser(2, 4)\n",
    "object_list_0_20.FindObject(\"fDphiHLambdaFlipped\").GetAxis(1).SetRangeUser(2, 4)\n",
    "object_list_20_50.FindObject(\"fDphiHLambdaFlipped\").GetAxis(1).SetRangeUser(2, 4)\n",
    "object_list_50_100.FindObject(\"fDphiHLambdaFlipped\").GetAxis(1).SetRangeUser(2, 4)"
   ]
  },
  {
   "cell_type": "code",
   "execution_count": 25,
   "metadata": {},
   "outputs": [],
   "source": [
    "rsb_left = 1.135\n",
    "rsb_right = 1.155\n",
    "\n",
    "lsb_left = 1.08\n",
    "lsb_right = 1.1\n",
    "\n",
    "rsb_0_20 = object_list_0_20.FindObject(\"fDphiHLambda\").Projection(2, 4)\n",
    "rsb_0_20.SetName(\"rsb_0_20\")\n",
    "rsb_20_50 = object_list_20_50.FindObject(\"fDphiHLambda\").Projection(2, 4)\n",
    "rsb_20_50.SetName(\"rsb_20_50\")\n",
    "rsb_50_100 = object_list_50_100.FindObject(\"fDphiHLambda\").Projection(2, 4)\n",
    "rsb_50_100.SetName(\"rsb_50_100\")\n",
    "\n",
    "lsb_0_20 = object_list_0_20.FindObject(\"fDphiHLambda\").Projection(2, 4)\n",
    "lsb_0_20.SetName(\"lsb_0_20\")\n",
    "lsb_20_50 = object_list_20_50.FindObject(\"fDphiHLambda\").Projection(2, 4)\n",
    "lsb_20_50.SetName(\"lsb_20_50\")\n",
    "lsb_50_100 = object_list_50_100.FindObject(\"fDphiHLambda\").Projection(2, 4)\n",
    "lsb_50_100.SetName(\"lsb_50_100\")\n",
    "\n",
    "rsb_0_20.GetXaxis().SetRangeUser(rsb_left, rsb_right)\n",
    "rsb_20_50.GetXaxis().SetRangeUser(rsb_left, rsb_right)\n",
    "rsb_50_100.GetXaxis().SetRangeUser(rsb_left, rsb_right)\n",
    "\n",
    "lsb_0_20.GetXaxis().SetRangeUser(lsb_left, lsb_right)\n",
    "lsb_20_50.GetXaxis().SetRangeUser(lsb_left, lsb_right)\n",
    "lsb_50_100.GetXaxis().SetRangeUser(lsb_left, lsb_right)"
   ]
  },
  {
   "cell_type": "code",
   "execution_count": 26,
   "metadata": {},
   "outputs": [],
   "source": [
    "rsb_dphi_0_20 = rsb_0_20.ProjectionY()\n",
    "rsb_dphi_0_20.Sumw2()\n",
    "\n",
    "rsb_dphi_20_50 = rsb_20_50.ProjectionY()\n",
    "rsb_dphi_20_50.Sumw2()\n",
    "\n",
    "rsb_dphi_50_100 = rsb_50_100.ProjectionY()\n",
    "rsb_dphi_50_100.Sumw2()"
   ]
  },
  {
   "cell_type": "code",
   "execution_count": 27,
   "metadata": {},
   "outputs": [],
   "source": [
    "lsb_dphi_0_20 = lsb_0_20.ProjectionY()\n",
    "lsb_dphi_0_20.Sumw2()\n",
    "\n",
    "lsb_dphi_20_50 = lsb_20_50.ProjectionY()\n",
    "lsb_dphi_20_50.Sumw2()\n",
    "\n",
    "lsb_dphi_50_100 = lsb_50_100.ProjectionY()\n",
    "lsb_dphi_50_100.Sumw2()"
   ]
  },
  {
   "cell_type": "code",
   "execution_count": 28,
   "metadata": {},
   "outputs": [
    {
     "name": "stdout",
     "output_type": "stream",
     "text": [
      "-1.3744467859455345\n",
      "1.3744467859455345\n",
      "1.7671458676442586\n",
      "4.516039439535327\n"
     ]
    },
    {
     "data": {
      "image/png": "[encoded data removed]",
      "text/plain": [
       "<IPython.core.display.Image object>"
      ]
     },
     "metadata": {},
     "output_type": "display_data"
    }
   ],
   "source": [
    "rsb_dphi_0_20.Scale(lsb_dphi_0_20.Integral()/rsb_dphi_0_20.Integral())\n",
    "rsb_dphi_0_20.SetLineColor(rt.kBlue)\n",
    "rsb_dphi_0_20.SetTitle(\"RSB (blue) normalized to LSB (pink) #Delta#varphi\")\n",
    "lsb_dphi_0_20.SetLineColor(rt.kMagenta)\n",
    "print(lsb_dphi_0_20.GetXaxis().GetBinCenter(1))\n",
    "print(lsb_dphi_0_20.GetXaxis().GetBinCenter(8))\n",
    "print(lsb_dphi_0_20.GetXaxis().GetBinCenter(9))\n",
    "print(lsb_dphi_0_20.GetXaxis().GetBinCenter(16))\n",
    "rsb_dphi_0_20.Draw()\n",
    "lsb_dphi_0_20.Draw(\"SAME\")\n",
    "main_canvas.Draw()"
   ]
  },
  {
   "cell_type": "code",
   "execution_count": null,
   "metadata": {},
   "outputs": [],
   "source": [
    "rsb_dphi_20_50.Scale(lsb_dphi_20_50.Integral()/rsb_dphi_20_50.Integral())\n",
    "rsb_dphi_20_50.SetLineColor(rt.kBlue)\n",
    "rsb_dphi_20_50.SetTitle(\"RSB (blue) normalized to LSB (pink) #Delta#varphi\")\n",
    "lsb_dphi_20_50.SetLineColor(rt.kMagenta)\n",
    "rsb_dphi_20_50.Draw()\n",
    "lsb_dphi_20_50.Draw(\"SAME\")\n",
    "main_canvas.Draw()"
   ]
  },
  {
   "cell_type": "code",
   "execution_count": null,
   "metadata": {},
   "outputs": [],
   "source": [
    "rsb_dphi_50_100.Scale(lsb_dphi_50_100.Integral()/rsb_dphi_50_100.Integral())\n",
    "rsb_dphi_50_100.SetLineColor(rt.kBlue)\n",
    "rsb_dphi_50_100.SetTitle(\"RSB (blue) normalized to LSB (pink) #Delta#varphi\")\n",
    "lsb_dphi_50_100.SetLineColor(rt.kMagenta)\n",
    "rsb_dphi_50_100.Draw()\n",
    "lsb_dphi_50_100.Draw(\"SAME\")\n",
    "main_canvas.Draw()"
   ]
  },
  {
   "cell_type": "code",
   "execution_count": 6,
   "metadata": {},
   "outputs": [
    {
     "name": "stderr",
     "output_type": "stream",
     "text": [
      "Warning in <TFile::Append>: Replacing existing TH1: fDphiHLambda_proj_4 (Potential memory leak).\n",
      "Warning in <TFile::Append>: Replacing existing TH1: fDphiHLambda_proj_4 (Potential memory leak).\n",
      "Warning in <TFile::Append>: Replacing existing TH1: fDphiHLambdaLS_proj_4 (Potential memory leak).\n",
      "Warning in <TFile::Append>: Replacing existing TH1: fDphiHLambdaLS_proj_4 (Potential memory leak).\n",
      "Warning in <TFile::Append>: Replacing existing TH1: fDphiHLambdaRotated_proj_4 (Potential memory leak).\n",
      "Warning in <TFile::Append>: Replacing existing TH1: fDphiHLambdaRotated_proj_4 (Potential memory leak).\n",
      "Warning in <TFile::Append>: Replacing existing TH1: fDphiHLambdaFlipped_proj_4 (Potential memory leak).\n",
      "Warning in <TFile::Append>: Replacing existing TH1: fDphiHLambdaFlipped_proj_4 (Potential memory leak).\n"
     ]
    }
   ],
   "source": [
    "lambda_mass_0_20 = object_list_0_20.FindObject(\"fDphiHLambda\").Projection(4)\n",
    "lambda_mass_20_50 = object_list_20_50.FindObject(\"fDphiHLambda\").Projection(4)\n",
    "lambda_mass_50_100 = object_list_50_100.FindObject(\"fDphiHLambda\").Projection(4)\n",
    "ls_lambda_mass_0_20 = object_list_0_20.FindObject(\"fDphiHLambdaLS\").Projection(4)\n",
    "ls_lambda_mass_20_50 = object_list_20_50.FindObject(\"fDphiHLambdaLS\").Projection(4)\n",
    "ls_lambda_mass_50_100 = object_list_50_100.FindObject(\"fDphiHLambdaLS\").Projection(4)\n",
    "\n",
    "rotated_lambda_mass_0_20 = object_list_0_20.FindObject(\"fDphiHLambdaRotated\").Projection(4)\n",
    "rotated_lambda_mass_20_50 = object_list_20_50.FindObject(\"fDphiHLambdaRotated\").Projection(4)\n",
    "rotated_lambda_mass_50_100 = object_list_50_100.FindObject(\"fDphiHLambdaRotated\").Projection(4)\n",
    "\n",
    "flipped_lambda_mass_0_20 = object_list_0_20.FindObject(\"fDphiHLambdaFlipped\").Projection(4)\n",
    "flipped_lambda_mass_20_50 = object_list_20_50.FindObject(\"fDphiHLambdaFlipped\").Projection(4)\n",
    "flipped_lambda_mass_50_100 = object_list_50_100.FindObject(\"fDphiHLambdaFlipped\").Projection(4)\n",
    "\n",
    "\n",
    "\n",
    "\n",
    "lambda_mass_0_20.Rebin(2)\n",
    "lambda_mass_20_50.Rebin(2)\n",
    "lambda_mass_50_100.Rebin(2)\n",
    "ls_lambda_mass_0_20.Rebin(2)\n",
    "ls_lambda_mass_20_50.Rebin(2)\n",
    "ls_lambda_mass_50_100.Rebin(2)\n",
    "rotated_lambda_mass_0_20.Rebin(2)\n",
    "rotated_lambda_mass_20_50.Rebin(2)\n",
    "rotated_lambda_mass_50_100.Rebin(2)\n",
    "flipped_lambda_mass_0_20.Rebin(2)\n",
    "flipped_lambda_mass_20_50.Rebin(2)\n",
    "flipped_lambda_mass_50_100.Rebin(2)\n",
    "\n",
    "\n",
    "lambda_mass_0_20.Sumw2()\n",
    "lambda_mass_20_50.Sumw2()\n",
    "lambda_mass_50_100.Sumw2()\n",
    "ls_lambda_mass_0_20.Sumw2()\n",
    "ls_lambda_mass_20_50.Sumw2()\n",
    "ls_lambda_mass_50_100.Sumw2()\n",
    "rotated_lambda_mass_0_20.Sumw2()\n",
    "rotated_lambda_mass_20_50.Sumw2()\n",
    "rotated_lambda_mass_50_100.Sumw2()\n",
    "flipped_lambda_mass_0_20.Sumw2()\n",
    "flipped_lambda_mass_20_50.Sumw2()\n",
    "flipped_lambda_mass_50_100.Sumw2()"
   ]
  },
  {
   "cell_type": "markdown",
   "metadata": {},
   "source": [
    "## 0 to 20 section"
   ]
  },
  {
   "cell_type": "markdown",
   "metadata": {},
   "source": [
    "Raw histograms (US and LS) with no scaling"
   ]
  },
  {
   "cell_type": "code",
   "execution_count": 7,
   "metadata": {},
   "outputs": [],
   "source": [
    "rotated_lambda_mass_0_20.SetTitle(\"p-#pi^{-} invariant mass (rotated pion)\")\n",
    "rotated_lambda_mass_0_20.GetXaxis().SetTitle(\"Mass (GeV/c^{2})\")\n",
    "rotated_lambda_mass_0_20.GetYaxis().SetTitle(\"dN_{p-#pi^{-}}/dM\")\n",
    "rotated_lambda_mass_0_20.SetLineColor(rt.kMagenta)"
   ]
  },
  {
   "cell_type": "code",
   "execution_count": 8,
   "metadata": {},
   "outputs": [],
   "source": [
    "flipped_lambda_mass_0_20.SetTitle(\"p-#pi^{-} invariant mass (flipped pion)\")\n",
    "flipped_lambda_mass_0_20.GetXaxis().SetTitle(\"Mass (GeV/c^{2})\")\n",
    "flipped_lambda_mass_0_20.GetYaxis().SetTitle(\"dN_{p-#pi^{-}}/dM\")\n",
    "flipped_lambda_mass_0_20.SetLineColor(rt.kGreen+3)"
   ]
  },
  {
   "cell_type": "code",
   "execution_count": 9,
   "metadata": {},
   "outputs": [],
   "source": [
    "ls_lambda_mass_0_20.SetTitle(\"p-#pi^{-} Invariant Mass\")\n",
    "ls_lambda_mass_0_20.GetXaxis().SetTitle(\"Mass (GeV/c^{2})\")\n",
    "ls_lambda_mass_0_20.GetYaxis().SetTitle(\"dN_{p-#pi^{-}}/dM\")\n",
    "ls_lambda_mass_0_20.SetLineColor(rt.kRed)"
   ]
  },
  {
   "cell_type": "code",
   "execution_count": 10,
   "metadata": {},
   "outputs": [],
   "source": [
    "lambda_mass_0_20.SetTitle(\"p-#pi^{-} Invariant Mass \")\n",
    "lambda_mass_0_20.GetXaxis().SetTitle(\"Mass (GeV/c^{2})\")\n",
    "lambda_mass_0_20.GetYaxis().SetTitle(\"dN_{p-#pi^{-}}/dM\")\n",
    "lambda_mass_0_20.SetLineColor(rt.kBlue)"
   ]
  },
  {
   "cell_type": "code",
   "execution_count": 11,
   "metadata": {},
   "outputs": [],
   "source": [
    "left_bin = lambda_mass_0_20.FindBin(1.135)\n",
    "right_bin = lambda_mass_0_20.FindBin(1.155)\n",
    "\n",
    "rot_scale = lambda_mass_0_20.Integral(left_bin, right_bin)/rotated_lambda_mass_0_20.Integral(left_bin, right_bin)\n",
    "flip_scale = lambda_mass_0_20.Integral(left_bin, right_bin)/flipped_lambda_mass_0_20.Integral(left_bin, right_bin)\n",
    "ls_scale = lambda_mass_0_20.Integral(left_bin, right_bin)/ls_lambda_mass_0_20.Integral(left_bin, right_bin)\n",
    "rotated_lambda_mass_0_20.Scale(rot_scale)\n",
    "flipped_lambda_mass_0_20.Scale(flip_scale)\n",
    "ls_lambda_mass_0_20.Scale(ls_scale)"
   ]
  },
  {
   "cell_type": "code",
   "execution_count": 12,
   "metadata": {},
   "outputs": [
    {
     "data": {
      "text/plain": [
       "<ROOT.TFitResultPtr object at 0x7fbb9d9d7fd0>"
      ]
     },
     "execution_count": 12,
     "metadata": {},
     "output_type": "execute_result"
    },
    {
     "name": "stdout",
     "output_type": "stream",
     "text": [
      "\n",
      "****************************************\n",
      "Minimizer is Linear\n",
      "Chi2                      =      5285.82\n",
      "NDf                       =           37\n",
      "p0                        = -5.59673e+06   +/-   19511.3     \n",
      "p1                        =  9.64419e+06   +/-   34995.1     \n",
      "p2                        = -4.12609e+06   +/-   15685.4     \n"
     ]
    }
   ],
   "source": [
    "pol_fit = rt.TF1(\"polfit\",\"pol2(0)\", 1.08, 1.16)\n",
    "rotated_lambda_mass_0_20.Fit(pol_fit, \"RS\")"
   ]
  },
  {
   "cell_type": "code",
   "execution_count": 13,
   "metadata": {},
   "outputs": [
    {
     "data": {
      "text/plain": [
       "<ROOT.TFitResultPtr object at 0x7fbb9ce3f320>"
      ]
     },
     "execution_count": 13,
     "metadata": {},
     "output_type": "execute_result"
    },
    {
     "name": "stdout",
     "output_type": "stream",
     "text": [
      " FCN=541.448 FROM HESSE     STATUS=NOT POSDEF     50 CALLS         591 TOTAL\n",
      "                     EDM=1.67352e-08    STRATEGY= 1      ERR MATRIX NOT POS-DEF\n",
      "  EXT PARAMETER                APPROXIMATE        STEP         FIRST   \n",
      "  NO.   NAME      VALUE            ERROR          SIZE      DERIVATIVE \n",
      "   1  p0           2.04197e+02   2.07716e+00   2.33768e-03  -1.11492e-04\n",
      "   2  p1           1.11587e+00   1.52712e-05   2.66045e-07  -4.20002e+00\n",
      "   3  p2           1.75946e-03   4.82663e-05   3.69298e-08   5.81625e+00\n",
      "   4  p3           1.80939e-03   1.26829e-04   7.44816e-08   4.50415e+00\n",
      "   5  p4          -5.34509e+06   3.16665e+02   1.27437e+00   1.57023e-06\n",
      "   6  p5           9.19283e+06   3.13967e+02   2.19174e+00   1.71965e-06\n",
      "   7  p6          -3.92394e+06   2.57551e+02   9.35540e-01   1.88356e-06\n"
     ]
    }
   ],
   "source": [
    "voigt_fit = rt.TF1(\"voigt_fit\", \"[0]*TMath::Voigt(x - [1], [2], [3], 4) + pol2(4)\", 1.08, 1.16)\n",
    "\n",
    "voigt_fit.SetParameter(0, 1.36753e02)\n",
    "voigt_fit.SetParameter(1, 1.11581)\n",
    "voigt_fit.SetParameter(2, 1.00576e-05 )\n",
    "voigt_fit.SetParameter(3, 6.04166e-03)\n",
    "voigt_fit.SetParameter(4, pol_fit.GetParameter(0))\n",
    "voigt_fit.SetParameter(5, pol_fit.GetParameter(1))\n",
    "voigt_fit.SetParameter(6, pol_fit.GetParameter(2))\n",
    "\n",
    "voigt_fit.SetNpx(1000)\n",
    "voigt_fit.SetLineColor(rt.kGreen+3)\n",
    "\n",
    "lambda_mass_0_20.Fit(voigt_fit, \"RS\")"
   ]
  },
  {
   "cell_type": "code",
   "execution_count": 14,
   "metadata": {},
   "outputs": [],
   "source": [
    "bg_fit = rt.TF1(\"bg_fit\", \"pol2(0)\", 1.09, 1.15)\n",
    "\n",
    "bg_fit.SetParameter(0, voigt_fit.GetParameter(4))\n",
    "bg_fit.SetParameter(1, voigt_fit.GetParameter(5))\n",
    "bg_fit.SetParameter(2, voigt_fit.GetParameter(6))\n",
    "\n",
    "bg_fit.SetLineColor(rt.kRed)"
   ]
  },
  {
   "cell_type": "code",
   "execution_count": 15,
   "metadata": {},
   "outputs": [
    {
     "data": {
      "image/png": "[encoded data removed]",
      "text/plain": [
       "<IPython.core.display.Image object>"
      ]
     },
     "metadata": {},
     "output_type": "display_data"
    }
   ],
   "source": [
    "main_canvas.cd()\n",
    "lambda_mass_0_20.Draw()\n",
    "rotated_lambda_mass_0_20.Draw(\"SAME\")\n",
    "#bg_fit.Draw(\"SAME\")\n",
    "#ls_lambda_mass_0_20.Draw(\"SAME\")\n",
    "main_canvas.Draw()"
   ]
  },
  {
   "cell_type": "code",
   "execution_count": 20,
   "metadata": {},
   "outputs": [
    {
     "name": "stdout",
     "output_type": "stream",
     "text": [
      "LSB scale factor (fit): 1.0574375564192866\n",
      "RSB scale factor (fit): 0.40622231153118876\n",
      "LSB scale factor (rotated): 1.0611780210242123\n",
      "RSB scale factor (rotated): 0.40765923815516714\n",
      "Signal/Total: 0.3607722232053831\n",
      "Signal/BG: 182.02722648122517\n"
     ]
    }
   ],
   "source": [
    "left_lsb = lambda_mass_0_20.FindBin(1.08)\n",
    "right_lsb = lambda_mass_0_20.FindBin(1.10)\n",
    "\n",
    "left_signal = lambda_mass_0_20.FindBin(1.11)\n",
    "right_signal = lambda_mass_0_20.FindBin(1.12)\n",
    "\n",
    "left_rsb = lambda_mass_0_20.FindBin(1.135)\n",
    "right_rsb = lambda_mass_0_20.FindBin(1.155)\n",
    "\n",
    "lsb_integral = lambda_mass_0_20.Integral(left_lsb, right_lsb)\n",
    "rsb_integral = lambda_mass_0_20.Integral(left_rsb, right_rsb)\n",
    "\n",
    "bg_fit_integral = 0\n",
    "for bin_num in range(left_signal, right_signal+1):\n",
    "    bin_center = lambda_mass_0_20.GetBinCenter(bin_num)\n",
    "    bg_fit_integral += bg_fit.Eval(bin_center)\n",
    "    \n",
    "bg_rotated_integral = rotated_lambda_mass_0_20.Integral(left_signal, right_signal)\n",
    "peak_integral = lambda_mass_0_20.Integral(left_signal, right_signal)\n",
    "signal = peak_integral - bg_rotated_integral\n",
    "\n",
    "st = signal/peak_integral\n",
    "sb = signal/math.sqrt(signal + bg_fit_integral)\n",
    "\n",
    "\n",
    "print(f\"LSB scale factor (fit): {bg_fit_integral/lsb_integral}\\nRSB scale factor (fit): {bg_fit_integral/rsb_integral}\")\n",
    "print(f\"LSB scale factor (rotated): {bg_rotated_integral/lsb_integral}\\nRSB scale factor (rotated): {bg_rotated_integral/rsb_integral}\")\n",
    "print(f\"Signal/Total: {st}\")\n",
    "print(f\"Signal/BG: {sb}\")"
   ]
  },
  {
   "cell_type": "markdown",
   "metadata": {},
   "source": [
    "## 20 to 50 section"
   ]
  },
  {
   "cell_type": "code",
   "execution_count": null,
   "metadata": {},
   "outputs": [],
   "source": [
    "rotated_lambda_mass_20_50.SetTitle(\"p-#pi^{-} invariant mass (rotated pion)\")\n",
    "rotated_lambda_mass_20_50.GetXaxis().SetTitle(\"Mass (GeV/c^{2})\")\n",
    "rotated_lambda_mass_20_50.GetYaxis().SetTitle(\"dN_{p-#pi^{-}}/dM\")\n",
    "rotated_lambda_mass_20_50.SetLineColor(rt.kMagenta)"
   ]
  },
  {
   "cell_type": "code",
   "execution_count": null,
   "metadata": {},
   "outputs": [],
   "source": [
    "flipped_lambda_mass_20_50.SetTitle(\"p-#pi^{-} invariant mass (flipped pion)\")\n",
    "flipped_lambda_mass_20_50.GetXaxis().SetTitle(\"Mass (GeV/c^{2})\")\n",
    "flipped_lambda_mass_20_50.GetYaxis().SetTitle(\"dN_{p-#pi^{-}}/dM\")\n",
    "flipped_lambda_mass_20_50.SetLineColor(rt.kGreen+3)"
   ]
  },
  {
   "cell_type": "code",
   "execution_count": null,
   "metadata": {},
   "outputs": [],
   "source": [
    "ls_lambda_mass_20_50.SetTitle(\"LS p-#pi^{-} Invariant Mass\")\n",
    "ls_lambda_mass_20_50.GetXaxis().SetTitle(\"Mass (GeV/c^{2})\")\n",
    "ls_lambda_mass_20_50.GetYaxis().SetTitle(\"dN_{p-#pi^{-}}/dM\")\n",
    "ls_lambda_mass_20_50.SetLineColor(rt.kRed)"
   ]
  },
  {
   "cell_type": "code",
   "execution_count": null,
   "metadata": {},
   "outputs": [],
   "source": [
    "lambda_mass_20_50.SetTitle(\"p-#pi^{-} Invariant Mass, 20-50 mult\")\n",
    "lambda_mass_20_50.GetXaxis().SetTitle(\"Mass (GeV/c^{2})\")\n",
    "lambda_mass_20_50.GetYaxis().SetTitle(\"dN_{p-#pi^{-}}/dM\")\n",
    "lambda_mass_20_50.SetLineColor(rt.kBlue)"
   ]
  },
  {
   "cell_type": "code",
   "execution_count": null,
   "metadata": {},
   "outputs": [],
   "source": [
    "left_bin = lambda_mass_20_50.FindBin(1.08)\n",
    "right_bin = lambda_mass_20_50.FindBin(1.095)\n",
    "\n",
    "rot_scale = lambda_mass_20_50.Integral(left_bin, right_bin)/rotated_lambda_mass_20_50.Integral(left_bin, right_bin)\n",
    "flip_scale = lambda_mass_20_50.Integral(left_bin, right_bin)/flipped_lambda_mass_20_50.Integral(left_bin, right_bin)\n",
    "ls_scale = lambda_mass_20_50.Integral(left_bin, right_bin)/ls_lambda_mass_20_50.Integral(left_bin, right_bin)\n",
    "rotated_lambda_mass_20_50.Scale(rot_scale)\n",
    "flipped_lambda_mass_20_50.Scale(flip_scale)\n",
    "ls_lambda_mass_20_50.Scale(ls_scale)"
   ]
  },
  {
   "cell_type": "code",
   "execution_count": null,
   "metadata": {},
   "outputs": [],
   "source": [
    "pol_fit = rt.TF1(\"polfit\",\"pol2(0)\", 1.09, 1.15)\n",
    "rotated_lambda_mass_20_50.Fit(pol_fit, \"RS\")"
   ]
  },
  {
   "cell_type": "code",
   "execution_count": null,
   "metadata": {},
   "outputs": [],
   "source": [
    "voigt_fit = rt.TF1(\"voigt_fit\", \"[0]*TMath::Voigt(x - [1], [2], [3], 4) + pol2(4)\", 1.09, 1.15)\n",
    "\n",
    "voigt_fit.SetParameter(0, 1.36753e01)\n",
    "voigt_fit.SetParameter(1, 1.11581)\n",
    "voigt_fit.SetParameter(2, 1.00576e-05 )\n",
    "voigt_fit.SetParameter(3, 6.04166e-03)\n",
    "voigt_fit.SetParameter(4, pol_fit.GetParameter(0))\n",
    "voigt_fit.SetParameter(5, pol_fit.GetParameter(1))\n",
    "voigt_fit.SetParameter(6, pol_fit.GetParameter(2))\n",
    "\n",
    "voigt_fit.SetNpx(1000)\n",
    "voigt_fit.SetLineColor(rt.kGreen+3)\n",
    "\n",
    "lambda_mass_20_50.Fit(voigt_fit, \"RS\")"
   ]
  },
  {
   "cell_type": "code",
   "execution_count": null,
   "metadata": {},
   "outputs": [],
   "source": [
    "bg_fit = rt.TF1(\"bg_fit\", \"pol2(0)\", 1.09, 1.15)\n",
    "\n",
    "bg_fit.SetParameter(0, voigt_fit.GetParameter(4))\n",
    "bg_fit.SetParameter(1, voigt_fit.GetParameter(5))\n",
    "bg_fit.SetParameter(2, voigt_fit.GetParameter(6))\n",
    "\n",
    "bg_fit.SetLineColor(rt.kRed)"
   ]
  },
  {
   "cell_type": "code",
   "execution_count": null,
   "metadata": {},
   "outputs": [],
   "source": [
    "main_canvas.cd()\n",
    "lambda_mass_20_50.GetYaxis().SetRangeUser(0, 6000)\n",
    "lambda_mass_20_50.Draw()\n",
    "rotated_lambda_mass_20_50.Draw(\"SAME\")\n",
    "#bg_fit.Draw(\"SAME\")\n",
    "main_canvas.Draw()"
   ]
  },
  {
   "cell_type": "code",
   "execution_count": null,
   "metadata": {},
   "outputs": [],
   "source": [
    "left_lsb = lambda_mass_20_50.FindBin(1.08)\n",
    "right_lsb = lambda_mass_20_50.FindBin(1.10)\n",
    "\n",
    "left_signal = lambda_mass_20_50.FindBin(1.11)\n",
    "right_signal = lambda_mass_20_50.FindBin(1.12)\n",
    "\n",
    "left_rsb = lambda_mass_20_50.FindBin(1.135)\n",
    "right_rsb = lambda_mass_20_50.FindBin(1.155)\n",
    "\n",
    "lsb_integral = lambda_mass_20_50.Integral(left_lsb, right_lsb)\n",
    "rsb_integral = lambda_mass_20_50.Integral(left_rsb, right_rsb)\n",
    "\n",
    "bg_fit_integral = 0\n",
    "for bin_num in range(left_signal, right_signal+1):\n",
    "    bin_center = lambda_mass_20_50.GetBinCenter(bin_num)\n",
    "    bg_fit_integral += bg_fit.Eval(bin_center)\n",
    "    \n",
    "bg_rotated_integral = rotated_lambda_mass_20_50.Integral(left_signal, right_signal)\n",
    "peak_integral = lambda_mass_20_50.Integral(left_signal, right_signal)\n",
    "signal = peak_integral - bg_rotated_integral\n",
    "\n",
    "st = signal/peak_integral\n",
    "sb = signal/bg_rotated_integral\n",
    "\n",
    "print(f\"LSB scale factor (fit): {bg_fit_integral/lsb_integral}\\nRSB scale factor (fit): {bg_fit_integral/rsb_integral}\")\n",
    "print(f\"LSB scale factor (rotated): {bg_rotated_integral/lsb_integral}\\nRSB scale factor (rotated): {bg_rotated_integral/rsb_integral}\")\n",
    "print(f\"Signal/Total: {st}\")\n",
    "print(f\"Signal/BG: {sb}\")"
   ]
  },
  {
   "cell_type": "markdown",
   "metadata": {},
   "source": [
    "## 50 to 100 section"
   ]
  },
  {
   "cell_type": "code",
   "execution_count": null,
   "metadata": {},
   "outputs": [],
   "source": [
    "rotated_lambda_mass_50_100.SetTitle(\"p-#pi^{-} invariant mass (rotated pion)\")\n",
    "rotated_lambda_mass_50_100.GetXaxis().SetTitle(\"Mass (GeV/c^{2})\")\n",
    "rotated_lambda_mass_50_100.GetYaxis().SetTitle(\"dN_{p-#pi^{-}}/dM\")\n",
    "rotated_lambda_mass_50_100.SetLineColor(rt.kMagenta)"
   ]
  },
  {
   "cell_type": "code",
   "execution_count": null,
   "metadata": {},
   "outputs": [],
   "source": [
    "flipped_lambda_mass_50_100.SetTitle(\"p-#pi^{-} invariant mass (flipped pion)\")\n",
    "flipped_lambda_mass_50_100.GetXaxis().SetTitle(\"Mass (GeV/c^{2})\")\n",
    "flipped_lambda_mass_50_100.GetYaxis().SetTitle(\"dN_{p-#pi^{-}}/dM\")\n",
    "flipped_lambda_mass_50_100.SetLineColor(rt.kGreen+3)"
   ]
  },
  {
   "cell_type": "code",
   "execution_count": null,
   "metadata": {},
   "outputs": [],
   "source": [
    "ls_lambda_mass_50_100.SetTitle(\"LS p-#pi^{-} Invariant Mass\")\n",
    "ls_lambda_mass_50_100.GetXaxis().SetTitle(\"Mass (GeV/c^{2})\")\n",
    "ls_lambda_mass_50_100.GetYaxis().SetTitle(\"dN_{p-#pi^{-}}/dM\")\n",
    "ls_lambda_mass_50_100.SetLineColor(rt.kRed)"
   ]
  },
  {
   "cell_type": "code",
   "execution_count": null,
   "metadata": {},
   "outputs": [],
   "source": [
    "lambda_mass_50_100.SetTitle(\"p-#pi^{-} Invariant Mass, 50-80 mult\")\n",
    "lambda_mass_50_100.GetXaxis().SetTitle(\"Mass (GeV/c^{2})\")\n",
    "lambda_mass_50_100.GetYaxis().SetTitle(\"dN_{p-#pi^{-}}/dM\")\n",
    "lambda_mass_50_100.SetLineColor(rt.kBlue)"
   ]
  },
  {
   "cell_type": "code",
   "execution_count": null,
   "metadata": {},
   "outputs": [],
   "source": [
    "left_bin = lambda_mass_50_100.FindBin(1.145)\n",
    "right_bin = lambda_mass_50_100.FindBin(1.16-0.001)\n",
    "\n",
    "rot_scale = lambda_mass_50_100.Integral(left_bin, right_bin)/rotated_lambda_mass_50_100.Integral(left_bin, right_bin)\n",
    "flip_scale = lambda_mass_50_100.Integral(left_bin, right_bin)/flipped_lambda_mass_50_100.Integral(left_bin, right_bin)\n",
    "ls_scale = lambda_mass_50_100.Integral(left_bin, right_bin)/ls_lambda_mass_50_100.Integral(left_bin, right_bin)\n",
    "rotated_lambda_mass_50_100.Scale(rot_scale)\n",
    "flipped_lambda_mass_50_100.Scale(flip_scale)\n",
    "ls_lambda_mass_50_100.Scale(ls_scale)"
   ]
  },
  {
   "cell_type": "code",
   "execution_count": null,
   "metadata": {},
   "outputs": [],
   "source": [
    "pol_fit = rt.TF1(\"polfit\",\"pol2(0)\", 1.09, 1.15)\n",
    "rotated_lambda_mass_50_100.Fit(pol_fit, \"RS\")"
   ]
  },
  {
   "cell_type": "code",
   "execution_count": null,
   "metadata": {},
   "outputs": [],
   "source": [
    "voigt_fit = rt.TF1(\"voigt_fit\", \"[0]*TMath::Voigt(x - [1], [2], [3], 4) + pol2(4)\", 1.09, 1.15)\n",
    "\n",
    "voigt_fit.SetParameter(0, 1.36753e01)\n",
    "voigt_fit.SetParameter(1, 1.11581)\n",
    "voigt_fit.SetParameter(2, 1.00576e-05 )\n",
    "voigt_fit.SetParameter(3, 6.04166e-03)\n",
    "voigt_fit.SetParameter(4, pol_fit.GetParameter(0))\n",
    "voigt_fit.SetParameter(5, pol_fit.GetParameter(1))\n",
    "voigt_fit.SetParameter(6, pol_fit.GetParameter(2))\n",
    "\n",
    "voigt_fit.SetNpx(1000)\n",
    "voigt_fit.SetLineColor(rt.kGreen+3)\n",
    "\n",
    "lambda_mass_50_100.Fit(voigt_fit, \"RS\")"
   ]
  },
  {
   "cell_type": "code",
   "execution_count": null,
   "metadata": {},
   "outputs": [],
   "source": [
    "bg_fit = rt.TF1(\"bg_fit\", \"pol2(0)\", 1.09, 1.15)\n",
    "\n",
    "bg_fit.SetParameter(0, voigt_fit.GetParameter(4))\n",
    "bg_fit.SetParameter(1, voigt_fit.GetParameter(5))\n",
    "bg_fit.SetParameter(2, voigt_fit.GetParameter(6))\n",
    "\n",
    "bg_fit.SetLineColor(rt.kRed)"
   ]
  },
  {
   "cell_type": "code",
   "execution_count": null,
   "metadata": {
    "scrolled": true
   },
   "outputs": [],
   "source": [
    "main_canvas.cd()\n",
    "m = lambda_mass_50_100.GetMaximum()\n",
    "lambda_mass_50_100.GetYaxis().SetRangeUser(0, 1600)\n",
    "lambda_mass_50_100.Draw()\n",
    "rotated_lambda_mass_50_100.Draw(\"SAME\")\n",
    "#bg_fit.Draw(\"SAME\")\n",
    "main_canvas.Draw()"
   ]
  },
  {
   "cell_type": "code",
   "execution_count": null,
   "metadata": {},
   "outputs": [],
   "source": [
    "left_lsb = lambda_mass_50_100.FindBin(1.08)\n",
    "right_lsb = lambda_mass_50_100.FindBin(1.10)\n",
    "\n",
    "left_signal = lambda_mass_50_100.FindBin(1.11)\n",
    "right_signal = lambda_mass_50_100.FindBin(1.12)\n",
    "\n",
    "left_rsb = lambda_mass_50_100.FindBin(1.135)\n",
    "right_rsb = lambda_mass_50_100.FindBin(1.155)\n",
    "\n",
    "lsb_integral = lambda_mass_50_100.Integral(left_lsb, right_lsb)\n",
    "rsb_integral = lambda_mass_50_100.Integral(left_rsb, right_rsb)\n",
    "\n",
    "bg_fit_integral = 0\n",
    "for bin_num in range(left_signal, right_signal+1):\n",
    "    bin_center = lambda_mass_50_100.GetBinCenter(bin_num)\n",
    "    bg_fit_integral += bg_fit.Eval(bin_center)\n",
    "\n",
    "bg_rotated_integral = rotated_lambda_mass_50_100.Integral(left_signal, right_signal)\n",
    "peak_integral = lambda_mass_50_100.Integral(left_signal, right_signal)\n",
    "signal = peak_integral - bg_rotated_integral\n",
    "\n",
    "st = signal/peak_integral\n",
    "sb = signal/bg_rotated_integral\n",
    "\n",
    "print(f\"LSB scale factor (fit): {bg_fit_integral/lsb_integral}\\nRSB scale factor (fit): {bg_fit_integral/rsb_integral}\")\n",
    "print(f\"LSB scale factor (rotated): {bg_rotated_integral/lsb_integral}\\nRSB scale factor (rotated): {bg_rotated_integral/rsb_integral}\")\n",
    "print(f\"Signal/Total: {st}\")    \n",
    "print(f\"Signal/BG: {sb}\")    "
   ]
  },
  {
   "cell_type": "code",
   "execution_count": null,
   "metadata": {},
   "outputs": [],
   "source": []
  },
  {
   "cell_type": "code",
   "execution_count": null,
   "metadata": {},
   "outputs": [],
   "source": []
  }
 ],
 "metadata": {
  "kernelspec": {
   "display_name": "Python 3",
   "language": "python",
   "name": "python3"
  },
  "language_info": {
   "codemirror_mode": {
    "name": "ipython",
    "version": 3
   },
   "file_extension": ".py",
   "mimetype": "text/x-python",
   "name": "python",
   "nbconvert_exporter": "python",
   "pygments_lexer": "ipython3",
   "version": "3.7.6"
  }
 },
 "nbformat": 4,
 "nbformat_minor": 4
}
