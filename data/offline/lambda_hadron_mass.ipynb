{
 "cells": [
  {
   "cell_type": "code",
   "execution_count": 1,
   "metadata": {},
   "outputs": [
    {
     "name": "stdout",
     "output_type": "stream",
     "text": [
      "Welcome to JupyROOT 6.18/04\n"
     ]
    }
   ],
   "source": [
    "import ROOT as rt"
   ]
  },
  {
   "cell_type": "markdown",
   "metadata": {},
   "source": [
    "## Setup section"
   ]
  },
  {
   "cell_type": "code",
   "execution_count": 2,
   "metadata": {},
   "outputs": [],
   "source": [
    "main_canvas = rt.TCanvas(\"main_canvas\")\n",
    "rt.gStyle.SetOptStat(0)\n",
    "rt.gStyle.SetOptFit(0)\n",
    "\n",
    "# Change the canvas margins so you can see all of the axis titles...\n",
    "main_canvas.SetRightMargin(0.09);\n",
    "main_canvas.SetLeftMargin(0.15);\n",
    "main_canvas.SetBottomMargin(0.15);"
   ]
  },
  {
   "cell_type": "code",
   "execution_count": 3,
   "metadata": {},
   "outputs": [],
   "source": [
    "# Getting all of the input files\n",
    "input_file_0_20 = rt.TFile('../online/output/fixed_filter_0_20.root')\n",
    "input_file_20_50 = rt.TFile('../online/output/fixed_filter_20_50.root')\n",
    "input_file_50_100 = rt.TFile('../online/output/fixed_filter_50_100.root')\n",
    "\n",
    "object_list_0_20 = input_file_0_20.Get(\"h-lambda\")\n",
    "object_list_20_50 = input_file_20_50.Get(\"h-lambda\")\n",
    "object_list_50_100 = input_file_50_100.Get(\"h-lambda\")"
   ]
  },
  {
   "cell_type": "code",
   "execution_count": 4,
   "metadata": {},
   "outputs": [],
   "source": [
    "object_list_0_20.FindObject(\"fDphiHLambda\").GetAxis(0).SetRangeUser(4, 8)\n",
    "object_list_20_50.FindObject(\"fDphiHLambda\").GetAxis(0).SetRangeUser(4, 8)\n",
    "object_list_50_100.FindObject(\"fDphiHLambda\").GetAxis(0).SetRangeUser(4, 8)\n",
    "object_list_0_20.FindObject(\"fDphiHLambdaLS\").GetAxis(0).SetRangeUser(4, 8)\n",
    "object_list_20_50.FindObject(\"fDphiHLambdaLS\").GetAxis(0).SetRangeUser(4, 8)\n",
    "object_list_50_100.FindObject(\"fDphiHLambdaLS\").GetAxis(0).SetRangeUser(4, 8)\n",
    "object_list_0_20.FindObject(\"fDphiHLambdaRotated\").GetAxis(0).SetRangeUser(4, 8)\n",
    "object_list_20_50.FindObject(\"fDphiHLambdaRotated\").GetAxis(0).SetRangeUser(4, 8)\n",
    "object_list_50_100.FindObject(\"fDphiHLambdaRotated\").GetAxis(0).SetRangeUser(4, 8)\n",
    "object_list_0_20.FindObject(\"fDphiHLambdaFlipped\").GetAxis(0).SetRangeUser(4, 8)\n",
    "object_list_20_50.FindObject(\"fDphiHLambdaFlipped\").GetAxis(0).SetRangeUser(4, 8)\n",
    "object_list_50_100.FindObject(\"fDphiHLambdaFlipped\").GetAxis(0).SetRangeUser(4, 8)\n",
    "\n",
    "object_list_0_20.FindObject(\"fDphiHLambda\").GetAxis(1).SetRangeUser(2, 4)\n",
    "object_list_20_50.FindObject(\"fDphiHLambda\").GetAxis(1).SetRangeUser(2, 4)\n",
    "object_list_50_100.FindObject(\"fDphiHLambda\").GetAxis(1).SetRangeUser(2, 4)\n",
    "object_list_0_20.FindObject(\"fDphiHLambdaLS\").GetAxis(1).SetRangeUser(2, 4)\n",
    "object_list_20_50.FindObject(\"fDphiHLambdaLS\").GetAxis(1).SetRangeUser(2, 4)\n",
    "object_list_50_100.FindObject(\"fDphiHLambdaLS\").GetAxis(1).SetRangeUser(2, 4)\n",
    "object_list_0_20.FindObject(\"fDphiHLambdaRotated\").GetAxis(1).SetRangeUser(2, 4)\n",
    "object_list_20_50.FindObject(\"fDphiHLambdaRotated\").GetAxis(1).SetRangeUser(2, 4)\n",
    "object_list_50_100.FindObject(\"fDphiHLambdaRotated\").GetAxis(1).SetRangeUser(2, 4)\n",
    "object_list_0_20.FindObject(\"fDphiHLambdaFlipped\").GetAxis(1).SetRangeUser(2, 4)\n",
    "object_list_20_50.FindObject(\"fDphiHLambdaFlipped\").GetAxis(1).SetRangeUser(2, 4)\n",
    "object_list_50_100.FindObject(\"fDphiHLambdaFlipped\").GetAxis(1).SetRangeUser(2, 4)"
   ]
  },
  {
   "cell_type": "code",
   "execution_count": null,
   "metadata": {},
   "outputs": [],
   "source": [
    "rsb_left = 1.135\n",
    "rsb_right = 1.155\n",
    "\n",
    "lsb_left = 1.08\n",
    "lsb_right = 1.1\n",
    "\n",
    "rsb_0_20 = object_list_0_20.FindObject(\"fDphiHLambda\").Projection(2, 4)\n",
    "rsb_0_20.SetName(\"rsb_0_20\")\n",
    "rsb_20_50 = object_list_20_50.FindObject(\"fDphiHLambda\").Projection(2, 4)\n",
    "rsb_20_50.SetName(\"rsb_20_50\")\n",
    "rsb_50_100 = object_list_50_100.FindObject(\"fDphiHLambda\").Projection(2, 4)\n",
    "rsb_50_100.SetName(\"rsb_50_100\")\n",
    "\n",
    "lsb_0_20 = object_list_0_20.FindObject(\"fDphiHLambda\").Projection(2, 4)\n",
    "lsb_0_20.SetName(\"lsb_0_20\")\n",
    "lsb_20_50 = object_list_20_50.FindObject(\"fDphiHLambda\").Projection(2, 4)\n",
    "lsb_20_50.SetName(\"lsb_20_50\")\n",
    "lsb_50_100 = object_list_50_100.FindObject(\"fDphiHLambda\").Projection(2, 4)\n",
    "lsb_50_100.SetName(\"lsb_50_100\")\n",
    "\n",
    "rsb_0_20.GetXaxis().SetRangeUser(rsb_left, rsb_right)\n",
    "rsb_20_50.GetXaxis().SetRangeUser(rsb_left, rsb_right)\n",
    "rsb_50_100.GetXaxis().SetRangeUser(rsb_left, rsb_right)\n",
    "\n",
    "lsb_0_20.GetXaxis().SetRangeUser(lsb_left, lsb_right)\n",
    "lsb_20_50.GetXaxis().SetRangeUser(lsb_left, lsb_right)\n",
    "lsb_50_100.GetXaxis().SetRangeUser(lsb_left, lsb_right)"
   ]
  },
  {
   "cell_type": "code",
   "execution_count": null,
   "metadata": {},
   "outputs": [],
   "source": [
    "rsb_dphi_0_20 = rsb_0_20.ProjectionY()\n",
    "rsb_dphi_0_20.Sumw2()\n",
    "\n",
    "rsb_dphi_20_50 = rsb_20_50.ProjectionY()\n",
    "rsb_dphi_20_50.Sumw2()\n",
    "\n",
    "rsb_dphi_50_100 = rsb_50_100.ProjectionY()\n",
    "rsb_dphi_50_100.Sumw2()"
   ]
  },
  {
   "cell_type": "code",
   "execution_count": null,
   "metadata": {},
   "outputs": [],
   "source": [
    "lsb_dphi_0_20 = lsb_0_20.ProjectionY()\n",
    "lsb_dphi_0_20.Sumw2()\n",
    "\n",
    "lsb_dphi_20_50 = lsb_20_50.ProjectionY()\n",
    "lsb_dphi_20_50.Sumw2()\n",
    "\n",
    "lsb_dphi_50_100 = lsb_50_100.ProjectionY()\n",
    "lsb_dphi_50_100.Sumw2()"
   ]
  },
  {
   "cell_type": "code",
   "execution_count": null,
   "metadata": {},
   "outputs": [],
   "source": [
    "rsb_dphi_0_20.Scale(lsb_dphi_0_20.Integral()/rsb_dphi_0_20.Integral())\n",
    "rsb_dphi_0_20.SetLineColor(rt.kBlue)\n",
    "rsb_dphi_0_20.SetTitle(\"RSB (blue) normalized to LSB (pink) #Delta#varphi\")\n",
    "lsb_dphi_0_20.SetLineColor(rt.kMagenta)\n",
    "rsb_dphi_0_20.Draw()\n",
    "lsb_dphi_0_20.Draw(\"SAME\")\n",
    "main_canvas.Draw()"
   ]
  },
  {
   "cell_type": "code",
   "execution_count": null,
   "metadata": {},
   "outputs": [],
   "source": [
    "rsb_dphi_20_50.Scale(lsb_dphi_20_50.Integral()/rsb_dphi_20_50.Integral())\n",
    "rsb_dphi_20_50.SetLineColor(rt.kBlue)\n",
    "rsb_dphi_20_50.SetTitle(\"RSB (blue) normalized to LSB (pink) #Delta#varphi\")\n",
    "lsb_dphi_20_50.SetLineColor(rt.kMagenta)\n",
    "rsb_dphi_20_50.Draw()\n",
    "lsb_dphi_20_50.Draw(\"SAME\")\n",
    "main_canvas.Draw()"
   ]
  },
  {
   "cell_type": "code",
   "execution_count": null,
   "metadata": {},
   "outputs": [],
   "source": [
    "rsb_dphi_50_100.Scale(lsb_dphi_50_100.Integral()/rsb_dphi_50_100.Integral())\n",
    "rsb_dphi_50_100.SetLineColor(rt.kBlue)\n",
    "rsb_dphi_50_100.SetTitle(\"RSB (blue) normalized to LSB (pink) #Delta#varphi\")\n",
    "lsb_dphi_50_100.SetLineColor(rt.kMagenta)\n",
    "rsb_dphi_50_100.Draw()\n",
    "lsb_dphi_50_100.Draw(\"SAME\")\n",
    "main_canvas.Draw()"
   ]
  },
  {
   "cell_type": "code",
   "execution_count": 5,
   "metadata": {},
   "outputs": [
    {
     "name": "stderr",
     "output_type": "stream",
     "text": [
      "Warning in <TFile::Append>: Replacing existing TH1: fDphiHLambda_proj_4 (Potential memory leak).\n",
      "Warning in <TFile::Append>: Replacing existing TH1: fDphiHLambda_proj_4 (Potential memory leak).\n",
      "Warning in <TFile::Append>: Replacing existing TH1: fDphiHLambdaLS_proj_4 (Potential memory leak).\n",
      "Warning in <TFile::Append>: Replacing existing TH1: fDphiHLambdaLS_proj_4 (Potential memory leak).\n",
      "Warning in <TFile::Append>: Replacing existing TH1: fDphiHLambdaRotated_proj_4 (Potential memory leak).\n",
      "Warning in <TFile::Append>: Replacing existing TH1: fDphiHLambdaRotated_proj_4 (Potential memory leak).\n",
      "Warning in <TFile::Append>: Replacing existing TH1: fDphiHLambdaFlipped_proj_4 (Potential memory leak).\n",
      "Warning in <TFile::Append>: Replacing existing TH1: fDphiHLambdaFlipped_proj_4 (Potential memory leak).\n"
     ]
    }
   ],
   "source": [
    "lambda_mass_0_20 = object_list_0_20.FindObject(\"fDphiHLambda\").Projection(4)\n",
    "lambda_mass_20_50 = object_list_20_50.FindObject(\"fDphiHLambda\").Projection(4)\n",
    "lambda_mass_50_100 = object_list_50_100.FindObject(\"fDphiHLambda\").Projection(4)\n",
    "ls_lambda_mass_0_20 = object_list_0_20.FindObject(\"fDphiHLambdaLS\").Projection(4)\n",
    "ls_lambda_mass_20_50 = object_list_20_50.FindObject(\"fDphiHLambdaLS\").Projection(4)\n",
    "ls_lambda_mass_50_100 = object_list_50_100.FindObject(\"fDphiHLambdaLS\").Projection(4)\n",
    "\n",
    "rotated_lambda_mass_0_20 = object_list_0_20.FindObject(\"fDphiHLambdaRotated\").Projection(4)\n",
    "rotated_lambda_mass_20_50 = object_list_20_50.FindObject(\"fDphiHLambdaRotated\").Projection(4)\n",
    "rotated_lambda_mass_50_100 = object_list_50_100.FindObject(\"fDphiHLambdaRotated\").Projection(4)\n",
    "\n",
    "flipped_lambda_mass_0_20 = object_list_0_20.FindObject(\"fDphiHLambdaFlipped\").Projection(4)\n",
    "flipped_lambda_mass_20_50 = object_list_20_50.FindObject(\"fDphiHLambdaFlipped\").Projection(4)\n",
    "flipped_lambda_mass_50_100 = object_list_50_100.FindObject(\"fDphiHLambdaFlipped\").Projection(4)\n",
    "\n",
    "\n",
    "\n",
    "\n",
    "lambda_mass_0_20.Rebin(2)\n",
    "lambda_mass_20_50.Rebin(2)\n",
    "lambda_mass_50_100.Rebin(2)\n",
    "ls_lambda_mass_0_20.Rebin(2)\n",
    "ls_lambda_mass_20_50.Rebin(2)\n",
    "ls_lambda_mass_50_100.Rebin(2)\n",
    "rotated_lambda_mass_0_20.Rebin(2)\n",
    "rotated_lambda_mass_20_50.Rebin(2)\n",
    "rotated_lambda_mass_50_100.Rebin(2)\n",
    "flipped_lambda_mass_0_20.Rebin(2)\n",
    "flipped_lambda_mass_20_50.Rebin(2)\n",
    "flipped_lambda_mass_50_100.Rebin(2)\n",
    "\n",
    "\n",
    "lambda_mass_0_20.Sumw2()\n",
    "lambda_mass_20_50.Sumw2()\n",
    "lambda_mass_50_100.Sumw2()\n",
    "ls_lambda_mass_0_20.Sumw2()\n",
    "ls_lambda_mass_20_50.Sumw2()\n",
    "ls_lambda_mass_50_100.Sumw2()\n",
    "rotated_lambda_mass_0_20.Sumw2()\n",
    "rotated_lambda_mass_20_50.Sumw2()\n",
    "rotated_lambda_mass_50_100.Sumw2()\n",
    "flipped_lambda_mass_0_20.Sumw2()\n",
    "flipped_lambda_mass_20_50.Sumw2()\n",
    "flipped_lambda_mass_50_100.Sumw2()"
   ]
  },
  {
   "cell_type": "markdown",
   "metadata": {},
   "source": [
    "## 0 to 20 section"
   ]
  },
  {
   "cell_type": "markdown",
   "metadata": {},
   "source": [
    "Raw histograms (US and LS) with no scaling"
   ]
  },
  {
   "cell_type": "code",
   "execution_count": 6,
   "metadata": {},
   "outputs": [],
   "source": [
    "rotated_lambda_mass_0_20.SetTitle(\"p-#pi^{-} invariant mass (rotated pion)\")\n",
    "rotated_lambda_mass_0_20.GetXaxis().SetTitle(\"Mass (GeV/c^{2})\")\n",
    "rotated_lambda_mass_0_20.GetYaxis().SetTitle(\"dN_{p-#pi^{-}}/dM\")\n",
    "rotated_lambda_mass_0_20.SetLineColor(rt.kMagenta)"
   ]
  },
  {
   "cell_type": "code",
   "execution_count": 7,
   "metadata": {},
   "outputs": [],
   "source": [
    "flipped_lambda_mass_0_20.SetTitle(\"p-#pi^{-} invariant mass (flipped pion)\")\n",
    "flipped_lambda_mass_0_20.GetXaxis().SetTitle(\"Mass (GeV/c^{2})\")\n",
    "flipped_lambda_mass_0_20.GetYaxis().SetTitle(\"dN_{p-#pi^{-}}/dM\")\n",
    "flipped_lambda_mass_0_20.SetLineColor(rt.kGreen+3)"
   ]
  },
  {
   "cell_type": "code",
   "execution_count": 8,
   "metadata": {},
   "outputs": [],
   "source": [
    "ls_lambda_mass_0_20.SetTitle(\"p-#pi^{-} Invariant Mass\")\n",
    "ls_lambda_mass_0_20.GetXaxis().SetTitle(\"Mass (GeV/c^{2})\")\n",
    "ls_lambda_mass_0_20.GetYaxis().SetTitle(\"dN_{p-#pi^{-}}/dM\")\n",
    "ls_lambda_mass_0_20.SetLineColor(rt.kRed)"
   ]
  },
  {
   "cell_type": "code",
   "execution_count": 9,
   "metadata": {},
   "outputs": [],
   "source": [
    "lambda_mass_0_20.SetTitle(\"p-#pi^{-} Invariant Mass \")\n",
    "lambda_mass_0_20.GetXaxis().SetTitle(\"Mass (GeV/c^{2})\")\n",
    "lambda_mass_0_20.GetYaxis().SetTitle(\"dN_{p-#pi^{-}}/dM\")\n",
    "lambda_mass_0_20.SetLineColor(rt.kBlue)"
   ]
  },
  {
   "cell_type": "code",
   "execution_count": 10,
   "metadata": {},
   "outputs": [],
   "source": [
    "left_bin = lambda_mass_0_20.FindBin(1.135)\n",
    "right_bin = lambda_mass_0_20.FindBin(1.155)\n",
    "\n",
    "rot_scale = lambda_mass_0_20.Integral(left_bin, right_bin)/rotated_lambda_mass_0_20.Integral(left_bin, right_bin)\n",
    "flip_scale = lambda_mass_0_20.Integral(left_bin, right_bin)/flipped_lambda_mass_0_20.Integral(left_bin, right_bin)\n",
    "ls_scale = lambda_mass_0_20.Integral(left_bin, right_bin)/ls_lambda_mass_0_20.Integral(left_bin, right_bin)\n",
    "rotated_lambda_mass_0_20.Scale(rot_scale)\n",
    "flipped_lambda_mass_0_20.Scale(flip_scale)\n",
    "ls_lambda_mass_0_20.Scale(ls_scale)"
   ]
  },
  {
   "cell_type": "code",
   "execution_count": 11,
   "metadata": {},
   "outputs": [
    {
     "data": {
      "text/plain": [
       "<ROOT.TFitResultPtr object at 0x7fb953dc6e40>"
      ]
     },
     "execution_count": 11,
     "metadata": {},
     "output_type": "execute_result"
    },
    {
     "name": "stdout",
     "output_type": "stream",
     "text": [
      "\n",
      "****************************************\n",
      "Minimizer is Linear\n",
      "Chi2                      =      1250.22\n",
      "NDf                       =           37\n",
      "p0                        = -1.34252e+06   +/-   9584.13     \n",
      "p1                        =  2.31309e+06   +/-   17189.7     \n",
      "p2                        =      -989445   +/-   7704.64     \n"
     ]
    }
   ],
   "source": [
    "pol_fit = rt.TF1(\"polfit\",\"pol2(0)\", 1.08, 1.16)\n",
    "rotated_lambda_mass_0_20.Fit(pol_fit, \"RS\")"
   ]
  },
  {
   "cell_type": "code",
   "execution_count": 12,
   "metadata": {},
   "outputs": [
    {
     "data": {
      "text/plain": [
       "<ROOT.TFitResultPtr object at 0x7fb959807fd0>"
      ]
     },
     "execution_count": 12,
     "metadata": {},
     "output_type": "execute_result"
    },
    {
     "name": "stdout",
     "output_type": "stream",
     "text": [
      " FCN=242.126 FROM MIGRAD    STATUS=FAILED        874 CALLS         875 TOTAL\n",
      "                     EDM=1692.63    STRATEGY= 1      ERR MATRIX NOT POS-DEF\n",
      "  EXT PARAMETER                APPROXIMATE        STEP         FIRST   \n",
      "  NO.   NAME      VALUE            ERROR          SIZE      DERIVATIVE \n",
      "   1  p0           5.84092e+01   9.81557e-01   0.00000e+00   5.27041e-02\n",
      "   2  p1           1.11588e+00   2.99129e-05   0.00000e+00  -3.76275e+03\n",
      "   3  p2           7.50229e-06   5.29874e-09   0.00000e+00  -3.85619e+08\n",
      "   4  p3           4.26055e-03   1.00765e-04  -0.00000e+00  -1.25640e+03\n",
      "   5  p4          -1.15312e+06   3.85411e+04   0.00000e+00  -7.90971e-03\n",
      "   6  p5           1.97378e+06   6.90979e+04  -0.00000e+00  -8.71670e-03\n",
      "   7  p6          -8.37651e+05   3.09512e+04   0.00000e+00  -9.60948e-03\n"
     ]
    },
    {
     "name": "stderr",
     "output_type": "stream",
     "text": [
      "Warning in <Fit>: Abnormal termination of minimization.\n"
     ]
    }
   ],
   "source": [
    "voigt_fit = rt.TF1(\"voigt_fit\", \"[0]*TMath::Voigt(x - [1], [2], [3], 4) + pol2(4)\", 1.08, 1.16)\n",
    "\n",
    "voigt_fit.SetParameter(0, 1.36753e02)\n",
    "voigt_fit.SetParameter(1, 1.11581)\n",
    "voigt_fit.SetParameter(2, 1.00576e-05 )\n",
    "voigt_fit.SetParameter(3, 6.04166e-03)\n",
    "voigt_fit.SetParameter(4, pol_fit.GetParameter(0))\n",
    "voigt_fit.SetParameter(5, pol_fit.GetParameter(1))\n",
    "voigt_fit.SetParameter(6, pol_fit.GetParameter(2))\n",
    "\n",
    "voigt_fit.SetNpx(1000)\n",
    "voigt_fit.SetLineColor(rt.kGreen+3)\n",
    "\n",
    "lambda_mass_0_20.Fit(voigt_fit, \"RS\")"
   ]
  },
  {
   "cell_type": "code",
   "execution_count": 13,
   "metadata": {},
   "outputs": [],
   "source": [
    "bg_fit = rt.TF1(\"bg_fit\", \"pol2(0)\", 1.09, 1.15)\n",
    "\n",
    "bg_fit.SetParameter(0, voigt_fit.GetParameter(4))\n",
    "bg_fit.SetParameter(1, voigt_fit.GetParameter(5))\n",
    "bg_fit.SetParameter(2, voigt_fit.GetParameter(6))\n",
    "\n",
    "bg_fit.SetLineColor(rt.kRed)"
   ]
  },
  {
   "cell_type": "code",
   "execution_count": 14,
   "metadata": {},
   "outputs": [
    {
     "data": {
      "image/png": "[encoded data removed]",
      "text/plain": [
       "<IPython.core.display.Image object>"
      ]
     },
     "metadata": {},
     "output_type": "display_data"
    }
   ],
   "source": [
    "main_canvas.cd()\n",
    "lambda_mass_0_20.GetYaxis().SetRangeUser(0, 16000)\n",
    "lambda_mass_0_20.Draw()\n",
    "rotated_lambda_mass_0_20.Draw(\"SAME\")\n",
    "#bg_fit.Draw(\"SAME\")\n",
    "#ls_lambda_mass_0_20.Draw(\"SAME\")\n",
    "main_canvas.Draw()"
   ]
  },
  {
   "cell_type": "code",
   "execution_count": 37,
   "metadata": {},
   "outputs": [
    {
     "name": "stdout",
     "output_type": "stream",
     "text": [
      "LSB scale factor (fit): 0.0602845467075586\n",
      "RSB scale factor (fit): 0.023274759369141168\n",
      "LSB scale factor (rotated): 1.0528521447493102\n",
      "RSB scale factor (rotated): 0.40648693004524006\n",
      "Signal/Total: 0.36203036268153505\n"
     ]
    }
   ],
   "source": [
    "left_lsb = lambda_mass_0_20.FindBin(1.08)\n",
    "right_lsb = lambda_mass_0_20.FindBin(1.10)\n",
    "\n",
    "left_signal = lambda_mass_0_20.FindBin(1.11)\n",
    "right_signal = lambda_mass_0_20.FindBin(1.12)\n",
    "\n",
    "left_rsb = lambda_mass_0_20.FindBin(1.135)\n",
    "right_rsb = lambda_mass_0_20.FindBin(1.155)\n",
    "\n",
    "lsb_integral = lambda_mass_0_20.Integral(left_lsb, right_lsb)\n",
    "rsb_integral = lambda_mass_0_20.Integral(left_rsb, right_rsb)\n",
    "\n",
    "bg_fit_integral = 0\n",
    "for bin_num in range(left_signal, right_signal+1):\n",
    "    bin_center = lambda_mass_0_20.GetBinCenter(bin_num)\n",
    "    bg_fit_integral += bg_fit.Eval(bin_center)\n",
    "    \n",
    "bg_rotated_integral = rotated_lambda_mass_0_20.Integral(left_signal, right_signal)\n",
    "peak_integral = lambda_mass_0_20.Integral(left_signal, right_signal)\n",
    "signal = peak_integral - bg_rotated_integral\n",
    "\n",
    "st = signal/peak_integral\n",
    "\n",
    "\n",
    "print(f\"LSB scale factor (fit): {bg_fit_integral/lsb_integral}\\nRSB scale factor (fit): {bg_fit_integral/rsb_integral}\")\n",
    "print(f\"LSB scale factor (rotated): {bg_rotated_integral/lsb_integral}\\nRSB scale factor (rotated): {bg_rotated_integral/rsb_integral}\")\n",
    "print(f\"Signal/Total: {st}\")"
   ]
  },
  {
   "cell_type": "markdown",
   "metadata": {},
   "source": [
    "## 20 to 50 section"
   ]
  },
  {
   "cell_type": "code",
   "execution_count": 17,
   "metadata": {},
   "outputs": [],
   "source": [
    "rotated_lambda_mass_20_50.SetTitle(\"p-#pi^{-} invariant mass (rotated pion)\")\n",
    "rotated_lambda_mass_20_50.GetXaxis().SetTitle(\"Mass (GeV/c^{2})\")\n",
    "rotated_lambda_mass_20_50.GetYaxis().SetTitle(\"dN_{p-#pi^{-}}/dM\")\n",
    "rotated_lambda_mass_20_50.SetLineColor(rt.kMagenta)"
   ]
  },
  {
   "cell_type": "code",
   "execution_count": 18,
   "metadata": {},
   "outputs": [],
   "source": [
    "flipped_lambda_mass_20_50.SetTitle(\"p-#pi^{-} invariant mass (flipped pion)\")\n",
    "flipped_lambda_mass_20_50.GetXaxis().SetTitle(\"Mass (GeV/c^{2})\")\n",
    "flipped_lambda_mass_20_50.GetYaxis().SetTitle(\"dN_{p-#pi^{-}}/dM\")\n",
    "flipped_lambda_mass_20_50.SetLineColor(rt.kGreen+3)"
   ]
  },
  {
   "cell_type": "code",
   "execution_count": 19,
   "metadata": {},
   "outputs": [],
   "source": [
    "ls_lambda_mass_20_50.SetTitle(\"LS p-#pi^{-} Invariant Mass\")\n",
    "ls_lambda_mass_20_50.GetXaxis().SetTitle(\"Mass (GeV/c^{2})\")\n",
    "ls_lambda_mass_20_50.GetYaxis().SetTitle(\"dN_{p-#pi^{-}}/dM\")\n",
    "ls_lambda_mass_20_50.SetLineColor(rt.kRed)"
   ]
  },
  {
   "cell_type": "code",
   "execution_count": 20,
   "metadata": {},
   "outputs": [],
   "source": [
    "lambda_mass_20_50.SetTitle(\"p-#pi^{-} Invariant Mass, 20-50 mult\")\n",
    "lambda_mass_20_50.GetXaxis().SetTitle(\"Mass (GeV/c^{2})\")\n",
    "lambda_mass_20_50.GetYaxis().SetTitle(\"dN_{p-#pi^{-}}/dM\")\n",
    "lambda_mass_20_50.SetLineColor(rt.kBlue)"
   ]
  },
  {
   "cell_type": "code",
   "execution_count": 21,
   "metadata": {},
   "outputs": [],
   "source": [
    "left_bin = lambda_mass_20_50.FindBin(1.08)\n",
    "right_bin = lambda_mass_20_50.FindBin(1.095)\n",
    "\n",
    "rot_scale = lambda_mass_20_50.Integral(left_bin, right_bin)/rotated_lambda_mass_20_50.Integral(left_bin, right_bin)\n",
    "flip_scale = lambda_mass_20_50.Integral(left_bin, right_bin)/flipped_lambda_mass_20_50.Integral(left_bin, right_bin)\n",
    "ls_scale = lambda_mass_20_50.Integral(left_bin, right_bin)/ls_lambda_mass_20_50.Integral(left_bin, right_bin)\n",
    "rotated_lambda_mass_20_50.Scale(rot_scale)\n",
    "flipped_lambda_mass_20_50.Scale(flip_scale)\n",
    "ls_lambda_mass_20_50.Scale(ls_scale)"
   ]
  },
  {
   "cell_type": "code",
   "execution_count": 22,
   "metadata": {},
   "outputs": [
    {
     "data": {
      "text/plain": [
       "<ROOT.TFitResultPtr object at 0x7fb95a41e450>"
      ]
     },
     "execution_count": 22,
     "metadata": {},
     "output_type": "execute_result"
    },
    {
     "name": "stdout",
     "output_type": "stream",
     "text": [
      "\n",
      "****************************************\n",
      "Minimizer is Linear\n",
      "Chi2                      =      29.9803\n",
      "NDf                       =           27\n",
      "p0                        =      -285917   +/-   11361.4     \n",
      "p1                        =       488890   +/-   20325.8     \n",
      "p2                        =      -207094   +/-   9089.01     \n"
     ]
    }
   ],
   "source": [
    "pol_fit = rt.TF1(\"polfit\",\"pol2(0)\", 1.09, 1.15)\n",
    "rotated_lambda_mass_20_50.Fit(pol_fit, \"RS\")"
   ]
  },
  {
   "cell_type": "code",
   "execution_count": 23,
   "metadata": {},
   "outputs": [
    {
     "data": {
      "text/plain": [
       "<ROOT.TFitResultPtr object at 0x7fb955b128e0>"
      ]
     },
     "execution_count": 23,
     "metadata": {},
     "output_type": "execute_result"
    },
    {
     "name": "stdout",
     "output_type": "stream",
     "text": [
      " FCN=41.8704 FROM HESSE     STATUS=NOT POSDEF     50 CALLS         424 TOTAL\n",
      "                     EDM=3.28925e-06    STRATEGY= 1      ERR MATRIX NOT POS-DEF\n",
      "  EXT PARAMETER                APPROXIMATE        STEP         FIRST   \n",
      "  NO.   NAME      VALUE            ERROR          SIZE      DERIVATIVE \n",
      "   1  p0           1.94153e+01   6.39168e-01   1.85462e-04  -2.02565e-04\n",
      "   2  p1           1.11588e+00   4.65654e-05   2.66047e-07   6.81524e-01\n",
      "   3  p2           1.90018e-03   1.47521e-04   3.09229e-08  -8.41583e-01\n",
      "   4  p3           1.70854e-03   4.09677e-04   6.43464e-08  -1.53973e-01\n",
      "   5  p4          -2.87142e+05   1.07869e+02   6.84599e-02  -1.85363e-05\n",
      "   6  p5           4.88893e+05   1.02277e+02   1.16561e-01   4.42005e-06\n",
      "   7  p6          -2.06099e+05   8.65978e+01   4.91378e-02  -2.30081e-05\n"
     ]
    }
   ],
   "source": [
    "voigt_fit = rt.TF1(\"voigt_fit\", \"[0]*TMath::Voigt(x - [1], [2], [3], 4) + pol2(4)\", 1.09, 1.15)\n",
    "\n",
    "voigt_fit.SetParameter(0, 1.36753e01)\n",
    "voigt_fit.SetParameter(1, 1.11581)\n",
    "voigt_fit.SetParameter(2, 1.00576e-05 )\n",
    "voigt_fit.SetParameter(3, 6.04166e-03)\n",
    "voigt_fit.SetParameter(4, pol_fit.GetParameter(0))\n",
    "voigt_fit.SetParameter(5, pol_fit.GetParameter(1))\n",
    "voigt_fit.SetParameter(6, pol_fit.GetParameter(2))\n",
    "\n",
    "voigt_fit.SetNpx(1000)\n",
    "voigt_fit.SetLineColor(rt.kGreen+3)\n",
    "\n",
    "lambda_mass_20_50.Fit(voigt_fit, \"RS\")"
   ]
  },
  {
   "cell_type": "code",
   "execution_count": 24,
   "metadata": {},
   "outputs": [],
   "source": [
    "bg_fit = rt.TF1(\"bg_fit\", \"pol2(0)\", 1.09, 1.15)\n",
    "\n",
    "bg_fit.SetParameter(0, voigt_fit.GetParameter(4))\n",
    "bg_fit.SetParameter(1, voigt_fit.GetParameter(5))\n",
    "bg_fit.SetParameter(2, voigt_fit.GetParameter(6))\n",
    "\n",
    "bg_fit.SetLineColor(rt.kRed)"
   ]
  },
  {
   "cell_type": "code",
   "execution_count": 25,
   "metadata": {},
   "outputs": [
    {
     "data": {
      "image/png": "[encoded data removed]",
      "text/plain": [
       "<IPython.core.display.Image object>"
      ]
     },
     "metadata": {},
     "output_type": "display_data"
    }
   ],
   "source": [
    "main_canvas.cd()\n",
    "lambda_mass_20_50.GetYaxis().SetRangeUser(0, 5000)\n",
    "lambda_mass_20_50.Draw()\n",
    "rotated_lambda_mass_20_50.Draw(\"SAME\")\n",
    "#bg_fit.Draw(\"SAME\")\n",
    "main_canvas.Draw()"
   ]
  },
  {
   "cell_type": "code",
   "execution_count": 38,
   "metadata": {},
   "outputs": [
    {
     "name": "stdout",
     "output_type": "stream",
     "text": [
      "LSB scale factor (fit): 0.22351172588933277\n",
      "RSB scale factor (fit): 0.08330649182445976\n",
      "LSB scale factor (rotated): 1.0514415462938376\n",
      "RSB scale factor (rotated): 0.39188953613822586\n",
      "Signal/Total: 0.45840575338522804\n"
     ]
    }
   ],
   "source": [
    "left_lsb = lambda_mass_20_50.FindBin(1.08)\n",
    "right_lsb = lambda_mass_20_50.FindBin(1.10)\n",
    "\n",
    "left_signal = lambda_mass_20_50.FindBin(1.11)\n",
    "right_signal = lambda_mass_20_50.FindBin(1.12)\n",
    "\n",
    "left_rsb = lambda_mass_20_50.FindBin(1.135)\n",
    "right_rsb = lambda_mass_20_50.FindBin(1.155)\n",
    "\n",
    "lsb_integral = lambda_mass_20_50.Integral(left_lsb, right_lsb)\n",
    "rsb_integral = lambda_mass_20_50.Integral(left_rsb, right_rsb)\n",
    "\n",
    "bg_fit_integral = 0\n",
    "for bin_num in range(left_signal, right_signal+1):\n",
    "    bin_center = lambda_mass_20_50.GetBinCenter(bin_num)\n",
    "    bg_fit_integral += bg_fit.Eval(bin_center)\n",
    "    \n",
    "bg_rotated_integral = rotated_lambda_mass_20_50.Integral(left_signal, right_signal)\n",
    "peak_integral = lambda_mass_20_50.Integral(left_signal, right_signal)\n",
    "signal = peak_integral - bg_rotated_integral\n",
    "\n",
    "st = signal/peak_integral\n",
    "\n",
    "print(f\"LSB scale factor (fit): {bg_fit_integral/lsb_integral}\\nRSB scale factor (fit): {bg_fit_integral/rsb_integral}\")\n",
    "print(f\"LSB scale factor (rotated): {bg_rotated_integral/lsb_integral}\\nRSB scale factor (rotated): {bg_rotated_integral/rsb_integral}\")\n",
    "print(f\"Signal/Total: {st}\")"
   ]
  },
  {
   "cell_type": "markdown",
   "metadata": {},
   "source": [
    "## 50 to 100 section"
   ]
  },
  {
   "cell_type": "code",
   "execution_count": 27,
   "metadata": {},
   "outputs": [],
   "source": [
    "rotated_lambda_mass_50_100.SetTitle(\"p-#pi^{-} invariant mass (rotated pion)\")\n",
    "rotated_lambda_mass_50_100.GetXaxis().SetTitle(\"Mass (GeV/c^{2})\")\n",
    "rotated_lambda_mass_50_100.GetYaxis().SetTitle(\"dN_{p-#pi^{-}}/dM\")\n",
    "rotated_lambda_mass_50_100.SetLineColor(rt.kMagenta)"
   ]
  },
  {
   "cell_type": "code",
   "execution_count": 28,
   "metadata": {},
   "outputs": [],
   "source": [
    "flipped_lambda_mass_50_100.SetTitle(\"p-#pi^{-} invariant mass (flipped pion)\")\n",
    "flipped_lambda_mass_50_100.GetXaxis().SetTitle(\"Mass (GeV/c^{2})\")\n",
    "flipped_lambda_mass_50_100.GetYaxis().SetTitle(\"dN_{p-#pi^{-}}/dM\")\n",
    "flipped_lambda_mass_50_100.SetLineColor(rt.kGreen+3)"
   ]
  },
  {
   "cell_type": "code",
   "execution_count": 29,
   "metadata": {},
   "outputs": [],
   "source": [
    "ls_lambda_mass_50_100.SetTitle(\"LS p-#pi^{-} Invariant Mass\")\n",
    "ls_lambda_mass_50_100.GetXaxis().SetTitle(\"Mass (GeV/c^{2})\")\n",
    "ls_lambda_mass_50_100.GetYaxis().SetTitle(\"dN_{p-#pi^{-}}/dM\")\n",
    "ls_lambda_mass_50_100.SetLineColor(rt.kRed)"
   ]
  },
  {
   "cell_type": "code",
   "execution_count": 30,
   "metadata": {},
   "outputs": [],
   "source": [
    "lambda_mass_50_100.SetTitle(\"p-#pi^{-} Invariant Mass, 50-100 mult\")\n",
    "lambda_mass_50_100.GetXaxis().SetTitle(\"Mass (GeV/c^{2})\")\n",
    "lambda_mass_50_100.GetYaxis().SetTitle(\"dN_{p-#pi^{-}}/dM\")\n",
    "lambda_mass_50_100.SetLineColor(rt.kBlue)"
   ]
  },
  {
   "cell_type": "code",
   "execution_count": 31,
   "metadata": {},
   "outputs": [],
   "source": [
    "left_bin = lambda_mass_50_100.FindBin(1.145)\n",
    "right_bin = lambda_mass_50_100.FindBin(1.16-0.001)\n",
    "\n",
    "rot_scale = lambda_mass_50_100.Integral(left_bin, right_bin)/rotated_lambda_mass_50_100.Integral(left_bin, right_bin)\n",
    "flip_scale = lambda_mass_50_100.Integral(left_bin, right_bin)/flipped_lambda_mass_50_100.Integral(left_bin, right_bin)\n",
    "ls_scale = lambda_mass_50_100.Integral(left_bin, right_bin)/ls_lambda_mass_50_100.Integral(left_bin, right_bin)\n",
    "rotated_lambda_mass_50_100.Scale(rot_scale)\n",
    "flipped_lambda_mass_50_100.Scale(flip_scale)\n",
    "ls_lambda_mass_50_100.Scale(ls_scale)"
   ]
  },
  {
   "cell_type": "code",
   "execution_count": 32,
   "metadata": {},
   "outputs": [
    {
     "data": {
      "text/plain": [
       "<ROOT.TFitResultPtr object at 0x7fb95a463f40>"
      ]
     },
     "execution_count": 32,
     "metadata": {},
     "output_type": "execute_result"
    },
    {
     "name": "stdout",
     "output_type": "stream",
     "text": [
      "\n",
      "****************************************\n",
      "Minimizer is Linear\n",
      "Chi2                      =      19.8769\n",
      "NDf                       =           27\n",
      "p0                        =     -72960.5   +/-   5848.48     \n",
      "p1                        =       125290   +/-   10462.8     \n",
      "p2                        =     -53352.3   +/-   4678.52     \n"
     ]
    }
   ],
   "source": [
    "pol_fit = rt.TF1(\"polfit\",\"pol2(0)\", 1.09, 1.15)\n",
    "rotated_lambda_mass_50_100.Fit(pol_fit, \"RS\")"
   ]
  },
  {
   "cell_type": "code",
   "execution_count": 33,
   "metadata": {},
   "outputs": [
    {
     "data": {
      "text/plain": [
       "<ROOT.TFitResultPtr object at 0x7fb95b204fd0>"
      ]
     },
     "execution_count": 33,
     "metadata": {},
     "output_type": "execute_result"
    },
    {
     "name": "stdout",
     "output_type": "stream",
     "text": [
      " FCN=42.9134 FROM MIGRAD    STATUS=CONVERGED     502 CALLS         503 TOTAL\n",
      "                     EDM=1.31211e-09    STRATEGY= 1      ERROR MATRIX ACCURATE \n",
      "  EXT PARAMETER                                   STEP         FIRST   \n",
      "  NO.   NAME      VALUE            ERROR          SIZE      DERIVATIVE \n",
      "   1  p0           7.51000e+00   2.09207e-01   5.61076e-04   3.23551e-05\n",
      "   2  p1           1.11588e+00   6.26581e-05   5.32093e-07  -6.72949e-01\n",
      "   3  p2           9.64828e-06   1.41421e+00   1.64862e-06   6.46488e-09\n",
      "   4  p3           4.22875e-03   1.85134e-04   5.04347e-07   5.22397e-03\n",
      "   5  p4          -1.04706e+04   1.36269e+00   1.22900e-02  -1.10363e-05\n",
      "   6  p5           1.31537e+04   1.35074e+00   1.10196e-02  -1.22432e-05\n",
      "   7  p6          -3.08041e+03   1.33558e+00   9.87511e-03  -1.35935e-05\n"
     ]
    }
   ],
   "source": [
    "voigt_fit = rt.TF1(\"voigt_fit\", \"[0]*TMath::Voigt(x - [1], [2], [3], 4) + pol2(4)\", 1.09, 1.15)\n",
    "\n",
    "voigt_fit.SetParameter(0, 1.36753e01)\n",
    "voigt_fit.SetParameter(1, 1.11581)\n",
    "voigt_fit.SetParameter(2, 1.00576e-05 )\n",
    "voigt_fit.SetParameter(3, 6.04166e-03)\n",
    "voigt_fit.SetParameter(4, pol_fit.GetParameter(0))\n",
    "voigt_fit.SetParameter(5, pol_fit.GetParameter(1))\n",
    "voigt_fit.SetParameter(6, pol_fit.GetParameter(2))\n",
    "\n",
    "voigt_fit.SetNpx(1000)\n",
    "voigt_fit.SetLineColor(rt.kGreen+3)\n",
    "\n",
    "lambda_mass_50_100.Fit(voigt_fit, \"RS\")"
   ]
  },
  {
   "cell_type": "code",
   "execution_count": 34,
   "metadata": {},
   "outputs": [],
   "source": [
    "bg_fit = rt.TF1(\"bg_fit\", \"pol2(0)\", 1.09, 1.15)\n",
    "\n",
    "bg_fit.SetParameter(0, voigt_fit.GetParameter(4))\n",
    "bg_fit.SetParameter(1, voigt_fit.GetParameter(5))\n",
    "bg_fit.SetParameter(2, voigt_fit.GetParameter(6))\n",
    "\n",
    "bg_fit.SetLineColor(rt.kRed)"
   ]
  },
  {
   "cell_type": "code",
   "execution_count": 35,
   "metadata": {
    "scrolled": true
   },
   "outputs": [
    {
     "data": {
      "image/png": "[encoded data removed]",
      "text/plain": [
       "<IPython.core.display.Image object>"
      ]
     },
     "metadata": {},
     "output_type": "display_data"
    }
   ],
   "source": [
    "main_canvas.cd()\n",
    "m = lambda_mass_50_100.GetMaximum()\n",
    "lambda_mass_50_100.GetYaxis().SetRangeUser(0, 1700)\n",
    "lambda_mass_50_100.Draw()\n",
    "rotated_lambda_mass_50_100.Draw(\"SAME\")\n",
    "#bg_fit.Draw(\"SAME\")\n",
    "main_canvas.Draw()"
   ]
  },
  {
   "cell_type": "code",
   "execution_count": 39,
   "metadata": {},
   "outputs": [
    {
     "name": "stdout",
     "output_type": "stream",
     "text": [
      "LSB scale factor (fit): 0.968131162788414\n",
      "RSB scale factor (fit): 0.36660323604850853\n",
      "LSB scale factor (rotated): 1.0791767214071255\n",
      "RSB scale factor (rotated): 0.40865297342209117\n",
      "Signal/Total: 0.5213797323198222\n"
     ]
    }
   ],
   "source": [
    "left_lsb = lambda_mass_50_100.FindBin(1.08)\n",
    "right_lsb = lambda_mass_50_100.FindBin(1.10)\n",
    "\n",
    "left_signal = lambda_mass_50_100.FindBin(1.11)\n",
    "right_signal = lambda_mass_50_100.FindBin(1.12)\n",
    "\n",
    "left_rsb = lambda_mass_50_100.FindBin(1.135)\n",
    "right_rsb = lambda_mass_50_100.FindBin(1.155)\n",
    "\n",
    "lsb_integral = lambda_mass_50_100.Integral(left_lsb, right_lsb)\n",
    "rsb_integral = lambda_mass_50_100.Integral(left_rsb, right_rsb)\n",
    "\n",
    "bg_fit_integral = 0\n",
    "for bin_num in range(left_signal, right_signal+1):\n",
    "    bin_center = lambda_mass_50_100.GetBinCenter(bin_num)\n",
    "    bg_fit_integral += bg_fit.Eval(bin_center)\n",
    "\n",
    "bg_rotated_integral = rotated_lambda_mass_50_100.Integral(left_signal, right_signal)\n",
    "peak_integral = lambda_mass_50_100.Integral(left_signal, right_signal)\n",
    "signal = peak_integral - bg_rotated_integral\n",
    "\n",
    "st = signal/peak_integral\n",
    "\n",
    "print(f\"LSB scale factor (fit): {bg_fit_integral/lsb_integral}\\nRSB scale factor (fit): {bg_fit_integral/rsb_integral}\")\n",
    "print(f\"LSB scale factor (rotated): {bg_rotated_integral/lsb_integral}\\nRSB scale factor (rotated): {bg_rotated_integral/rsb_integral}\")\n",
    "print(f\"Signal/Total: {st}\")    "
   ]
  },
  {
   "cell_type": "code",
   "execution_count": null,
   "metadata": {},
   "outputs": [],
   "source": []
  }
 ],
 "metadata": {
  "kernelspec": {
   "display_name": "Python 3",
   "language": "python",
   "name": "python3"
  },
  "language_info": {
   "codemirror_mode": {
    "name": "ipython",
    "version": 3
   },
   "file_extension": ".py",
   "mimetype": "text/x-python",
   "name": "python",
   "nbconvert_exporter": "python",
   "pygments_lexer": "ipython3",
   "version": "3.7.6"
  }
 },
 "nbformat": 4,
 "nbformat_minor": 4
}
