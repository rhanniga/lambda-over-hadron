{
 "cells": [
  {
   "cell_type": "code",
   "execution_count": null,
   "metadata": {},
   "outputs": [],
   "source": [
    "import ROOT as rt\n",
    "\n",
    "rt.gStyle.SetOptStat(0)"
   ]
  },
  {
   "cell_type": "code",
   "execution_count": null,
   "metadata": {},
   "outputs": [],
   "source": [
    "hh_near_ratio_graph = hh_near_graph_final_syst\n",
    "hh_away_ratio_graph = hh_away_graph_final_syst\n",
    "hh_ue_ratio_graph = hh_ue_graph_final_syst\n",
    "hh_total_ratio_graph = hh_total_graph_final_syst\n",
    "\n",
    "hl_near_ratio_graph = near_graph_final_syst\n",
    "hl_away_ratio_graph = away_graph_final_syst\n",
    "hl_ue_ratio_graph = ue_graph_final_syst\n",
    "hl_total_ratio_graph = total_graph_final_syst\n"
   ]
  },
  {
   "cell_type": "code",
   "execution_count": null,
   "metadata": {},
   "outputs": [],
   "source": [
    "hh_near_ratio_graph.SetMarkerSize(0)\n",
    "hh_near_ratio_graph.SetLineColor(rt.kRed + 3)\n",
    "hh_near_ratio_graph.SetFillColor(rt.kRed + 3)\n",
    "hh_near_ratio_graph.SetFillStyle(0)\n",
    "hh_near_ratio_graph.SetLineWidth(2)\n",
    "hh_near_ratio_graph.GetXaxis().SetTitle(\"Multiplicity Percentile\")\n",
    "hh_near_ratio_graph.GetXaxis().SetTitleSize(0.05)\n",
    "hh_near_ratio_graph.GetXaxis().SetLabelSize(0.04)\n",
    "hh_near_ratio_graph.GetXaxis().SetTitleOffset(0.9)\n",
    "hh_near_ratio_graph.GetXaxis().SetRangeUser(0.0, 100.0)\n",
    "hh_near_ratio_graph.GetYaxis().SetTitle(\"Per-trigger pairwise yield)\")\n",
    "hh_near_ratio_graph.GetYaxis().SetTitleSize(0.04)\n",
    "hh_near_ratio_graph.GetYaxis().SetTitleOffset(1.5)\n",
    "hh_near_ratio_graph.GetYaxis().SetRangeUser(0.0002, 0.0035)"
   ]
  },
  {
   "cell_type": "code",
   "execution_count": null,
   "metadata": {},
   "outputs": [],
   "source": [
    "hh_near_graph.SetMarkerStyle(20)\n",
    "hh_near_graph.SetMarkerSize(1)\n",
    "hh_near_graph.SetMarkerColor(rt.kRed + 3)\n",
    "hh_near_graph.SetLineColor(rt.kRed + 3)\n",
    "hh_near_graph.SetFillColor(rt.kRed + 3)\n",
    "hh_near_graph.SetFillStyle(3001)\n",
    "hh_near_graph.SetLineWidth(2)\n",
    "hh_near_graph.GetXaxis().SetTitle(\"Multiplicity Percentile\")\n",
    "hh_near_graph.GetXaxis().SetTitleSize(0.05)\n",
    "hh_near_graph.GetXaxis().SetLabelSize(0.04)\n",
    "hh_near_graph.GetXaxis().SetTitleOffset(0.9)\n",
    "hh_near_graph.GetXaxis().SetRangeUser(0.0, 100.0)\n",
    "hh_near_graph.GetYaxis().SetTitle(\"Per-trigger pairwise yield)\")\n",
    "hh_near_graph.GetYaxis().SetTitleSize(0.04)\n",
    "hh_near_graph.GetYaxis().SetTitleOffset(1.5)\n",
    "hh_near_graph.GetYaxis().SetRangeUser(0.0002, 0.0035)"
   ]
  },
  {
   "cell_type": "code",
   "execution_count": null,
   "metadata": {},
   "outputs": [],
   "source": [
    "hl_near_ratio_graph.SetMarkerSize(0)\n",
    "hl_near_ratio_graph.SetFillColor(rt.kPink-1)\n",
    "hl_near_ratio_graph.SetLineColor(rt.kPink-1)\n",
    "hl_near_ratio_graph.SetFillStyle(0)\n",
    "hl_near_ratio_graph.SetLineWidth(2)\n",
    "hl_near_ratio_graph.GetXaxis().SetTitle(\"Multiplicity Percentile\")\n",
    "hl_near_ratio_graph.GetXaxis().SetTitleSize(0.05)\n",
    "hl_near_ratio_graph.GetXaxis().SetLabelSize(0.04)\n",
    "hl_near_ratio_graph.GetXaxis().SetTitleOffset(0.9)\n",
    "hl_near_ratio_graph.GetXaxis().SetRangeUser(0.0, 100.0)\n",
    "hl_near_ratio_graph.GetYaxis().SetTitle(\"Per-trigger pairwise yield)\")\n",
    "hl_near_ratio_graph.GetYaxis().SetTitleSize(0.04)\n",
    "hl_near_ratio_graph.GetYaxis().SetTitleOffset(1.5)\n",
    "hl_near_ratio_graph.GetYaxis().SetRangeUser(0.0002, 0.0035)"
   ]
  },
  {
   "cell_type": "code",
   "execution_count": null,
   "metadata": {},
   "outputs": [],
   "source": [
    "near_graph.SetMarkerStyle(21)\n",
    "near_graph.SetMarkerSize(1)\n",
    "near_graph.SetMarkerColor(rt.kPink-1)\n",
    "near_graph.SetLineColor(rt.kPink-1)\n",
    "near_graph.SetFillColor(rt.kPink-1)\n",
    "near_graph.SetFillStyle(3001)\n",
    "near_graph.SetLineWidth(2)\n",
    "near_graph.GetXaxis().SetTitle(\"Multiplicity Percentile\")\n",
    "near_graph.GetXaxis().SetTitleSize(0.05)\n",
    "near_graph.GetXaxis().SetLabelSize(0.04)\n",
    "near_graph.GetXaxis().SetTitleOffset(0.9)\n",
    "near_graph.GetXaxis().SetRangeUser(0.0, 100.0)\n",
    "near_graph.GetYaxis().SetTitle(\"Per-trigger pairwise yield)\")\n",
    "near_graph.GetYaxis().SetTitleSize(0.04)\n",
    "near_graph.GetYaxis().SetTitleOffset(1.5)\n",
    "near_graph.GetYaxis().SetRangeUser(0.0002, 0.0035)"
   ]
  },
  {
   "cell_type": "code",
   "execution_count": null,
   "metadata": {},
   "outputs": [],
   "source": [
    "hh_away_ratio_graph.SetMarkerSize(0)\n",
    "hh_away_ratio_graph.SetLineWidth(2)\n",
    "hh_away_ratio_graph.SetLineColor(rt.kViolet - 6)\n",
    "hh_away_ratio_graph.SetFillColor(rt.kViolet - 6)\n",
    "hh_away_ratio_graph.SetFillStyle(0)"
   ]
  },
  {
   "cell_type": "code",
   "execution_count": null,
   "metadata": {},
   "outputs": [],
   "source": [
    "hh_away_graph.SetMarkerStyle(20)\n",
    "hh_away_graph.SetMarkerSize(1)\n",
    "hh_away_graph.SetMarkerColor(rt.kViolet - 6)\n",
    "hh_away_graph.SetLineColor(rt.kViolet - 6)\n",
    "hh_away_graph.SetLineWidth(2)\n",
    "hh_away_graph.SetFillColor(rt.kViolet - 6)\n",
    "hh_away_graph.SetFillStyle(3001)"
   ]
  },
  {
   "cell_type": "code",
   "execution_count": null,
   "metadata": {},
   "outputs": [],
   "source": [
    "hl_away_ratio_graph.SetMarkerSize(0)\n",
    "hl_away_ratio_graph.SetLineWidth(2)\n",
    "hl_away_ratio_graph.SetLineColor(rt.kBlue-2)\n",
    "hl_away_ratio_graph.SetFillColor(rt.kBlue - 2)\n",
    "hl_away_ratio_graph.SetFillStyle(0)"
   ]
  },
  {
   "cell_type": "code",
   "execution_count": null,
   "metadata": {},
   "outputs": [],
   "source": [
    "away_graph.SetMarkerStyle(21)\n",
    "away_graph.SetMarkerSize(1)\n",
    "away_graph.SetMarkerColor(rt.kBlue-2)\n",
    "away_graph.SetLineColor(rt.kBlue-2)\n",
    "away_graph.SetLineWidth(2)\n",
    "away_graph.SetFillColor(rt.kBlue - 2)\n",
    "away_graph.SetFillStyle(3001)"
   ]
  },
  {
   "cell_type": "code",
   "execution_count": null,
   "metadata": {},
   "outputs": [],
   "source": [
    "ratios_legend = rt.TLegend(0.183, 0.686, 0.461, 0.928)\n",
    "ratios_legend.SetMargin(0.35)\n",
    "ratios_legend.AddEntry(hh_near_graph, \"h-h near-side yield\", \"pl\")\n",
    "ratios_legend.AddEntry(hh_away_graph, \"h-h away-side yield\" , \"pl\")\n",
    "\n",
    "ratios_legend.AddEntry(near_graph, \"h-#Lambda near-side yield (x30)\", \"pl\")\n",
    "ratios_legend.AddEntry(away_graph, \"h-#Lambda away-side yield (x30)\" , \"pl\")\n",
    "\n",
    "ratios_legend.SetLineWidth(0)"
   ]
  },
  {
   "cell_type": "code",
   "execution_count": null,
   "metadata": {},
   "outputs": [],
   "source": [
    "pt_range_label = rt.TPaveText(0.6687, 0.6585, 0.9282, 0.7979, \"NDC\")\n",
    "pt_range_label.AddText(\"trigger: 4.0 < p_{T}^{h} < 8.0 GeV/c\")\n",
    "pt_range_label.AddText(\"assoc: 2.5 < p_{T}^{h,#Lambda} < 4.0 GeV/c\")\n",
    "pt_range_label.SetTextSizePixels(18)\n",
    "pt_range_label.SetFillColor(rt.kWhite)\n",
    "pt_range_label.SetBorderSize(0)"
   ]
  },
  {
   "cell_type": "code",
   "execution_count": null,
   "metadata": {},
   "outputs": [],
   "source": [
    "alice_data_label = rt.TPaveText(0.6982, 0.8258, 0.8987, 0.9251, \"NDC\")\n",
    "alice_data_label.AddText(\"ALICE\")\n",
    "alice_data_label.AddText(\"p-Pb #sqrt{s_{NN}} = 5.02 TeV\")\n",
    "alice_data_label.GetLine(0).SetTextSizePixels(32)\n",
    "alice_data_label.GetLine(1).SetTextSizePixels(24)\n",
    "alice_data_label.SetBorderSize(0)\n",
    "alice_data_label.SetFillColor(rt.kWhite)"
   ]
  },
  {
   "cell_type": "code",
   "execution_count": null,
   "metadata": {},
   "outputs": [],
   "source": [
    "mult_bin_widths = arr.array('d', [0.0, 20.0, 50.0, 80.0, 100.0])\n",
    "near_ratio_hist = rt.TH1D(\"near_ratio_hist\", \"\", 4, mult_bin_widths)\n",
    "# for i in range(3):\n",
    "#     near_ratio_hist.SetBinContent(i+2, near_ratio_list[i])\n",
    "#     near_ratio_hist.SetBinError(i+2, near_ratio_error_list[i])\n",
    "near_ratio_hist.SetMarkerStyle(20)\n",
    "near_ratio_hist.SetMarkerSize(1)\n",
    "near_ratio_hist.SetMarkerColor(rt.kRed+1)\n",
    "near_ratio_hist.SetLineColor(rt.kRed+2)\n",
    "near_ratio_hist.SetLineWidth(2)\n",
    "near_ratio_hist.GetXaxis().SetTitle(\"Multiplicity Percentile\")\n",
    "near_ratio_hist.GetXaxis().SetTitleSize(0.05)\n",
    "near_ratio_hist.GetXaxis().SetLabelSize(0.04)\n",
    "near_ratio_hist.GetXaxis().SetTitleOffset(1.0)\n",
    "near_ratio_hist.GetXaxis().SetRangeUser(0.0, 100.0)\n",
    "near_ratio_hist.GetYaxis().SetTitle(\"Per-trigger pairwise yield\")\n",
    "near_ratio_hist.GetYaxis().SetTitleSize(0.04)\n",
    "near_ratio_hist.GetYaxis().SetTitleOffset(1.2)\n",
    "near_ratio_hist.GetYaxis().SetRangeUser(0.0, 0.8)\n",
    "near_ratio_hist.SetStats(0)"
   ]
  },
  {
   "cell_type": "code",
   "execution_count": null,
   "metadata": {},
   "outputs": [],
   "source": [
    "# scale the h-lambda graph points\n",
    "SCALE_FACTOR = 30\n",
    "for i in range(3):\n",
    "        hl_near_ratio_graph.SetPoint(i, hl_near_ratio_graph.GetX()[i], hl_near_ratio_graph.GetY()[i] * SCALE_FACTOR)\n",
    "        near_graph.SetPoint(i, near_graph.GetX()[i], near_graph.GetY()[i] * SCALE_FACTOR)\n",
    "        hl_near_ratio_graph.SetPointError(i, hl_near_ratio_graph.GetEXlow()[i], hl_near_ratio_graph.GetEXhigh()[i], hl_near_ratio_graph.GetEYlow()[i] * SCALE_FACTOR, hl_near_ratio_graph.GetEYhigh()[i] * SCALE_FACTOR)\n",
    "        near_graph.SetPointError(i, near_graph.GetErrorX(i), near_graph.GetErrorY(i) * SCALE_FACTOR)\n",
    "\n",
    "        hl_away_ratio_graph.SetPoint(i, hl_away_ratio_graph.GetX()[i], hl_away_ratio_graph.GetY()[i] * SCALE_FACTOR)\n",
    "        away_graph.SetPoint(i, away_graph.GetX()[i], away_graph.GetY()[i] * SCALE_FACTOR)\n",
    "        hl_away_ratio_graph.SetPointError(i, hl_away_ratio_graph.GetEXlow()[i], hl_away_ratio_graph.GetEXhigh()[i], hl_away_ratio_graph.GetEYlow()[i] * SCALE_FACTOR, hl_away_ratio_graph.GetEYhigh()[i] * SCALE_FACTOR)\n",
    "        away_graph.SetPointError(i, away_graph.GetErrorX(i), away_graph.GetErrorY(i) * SCALE_FACTOR)\n"
   ]
  },
  {
   "cell_type": "code",
   "execution_count": null,
   "metadata": {},
   "outputs": [],
   "source": [
    "c = rt.TCanvas(\"c\", \"c\", 800, 600)\n",
    "c.SetMargin(0.126, 0.05, 0.125, 0.05)\n",
    "near_ratio_hist.Draw(\"PE\")\n",
    "near_ratio_hist.GetXaxis().SetLabelOffset(999)\n",
    "near_ratio_hist.GetXaxis().SetTickSize(0)\n",
    "rt.gPad.Update()\n",
    "new_axis = rt.TGaxis(rt.gPad.GetUxmax(),\n",
    "        rt.gPad.GetUymin(),\n",
    "        rt.gPad.GetUxmin(),\n",
    "        rt.gPad.GetUymin(),\n",
    "        near_ratio_hist.GetXaxis().GetXmin(),\n",
    "        near_ratio_hist.GetXaxis().GetXmax(),\n",
    "        510,\"-\")\n",
    "new_axis.SetLabelOffset(-0.03)\n",
    "new_axis.Draw()\n",
    "hh_near_ratio_graph.Draw(\"E2\")\n",
    "hh_near_graph.Draw(\"PE SAME\")\n",
    "hh_away_ratio_graph.Draw(\"E2\")\n",
    "hh_away_graph.Draw(\"PE SAME\")\n",
    "\n",
    "\n",
    "hl_near_ratio_graph.Draw(\"E2 SAME\")\n",
    "near_graph.Draw(\"PE SAME\")\n",
    "hl_away_ratio_graph.Draw(\"E2 SAME\")\n",
    "away_graph.Draw(\"PE SAME\")\n",
    "ratios_legend.Draw()\n",
    "pt_range_label.Draw()\n",
    "alice_data_label.Draw()\n",
    "c.Draw()\n",
    "c.SaveAs(\"figures/pairwise_plot_highpt.pdf\")"
   ]
  }
 ],
 "metadata": {
  "kernelspec": {
   "display_name": "Python 3",
   "language": "python",
   "name": "python3"
  },
  "language_info": {
   "name": "python",
   "version": "3.6.9 (default, Jun 29 2022, 11:45:57) \n[GCC 8.4.0]"
  },
  "orig_nbformat": 4,
  "vscode": {
   "interpreter": {
    "hash": "31f2aee4e71d21fbe5cf8b01ff0e069b9275f58929596ceb00d14d90e3e16cd6"
   }
  }
 },
 "nbformat": 4,
 "nbformat_minor": 2
}
