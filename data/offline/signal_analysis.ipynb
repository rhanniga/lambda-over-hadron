{
 "cells": [
  {
   "cell_type": "code",
   "execution_count": 1,
   "metadata": {},
   "outputs": [
    {
     "name": "stdout",
     "output_type": "stream",
     "text": [
      "Welcome to JupyROOT 6.18/04\n"
     ]
    }
   ],
   "source": [
    "import ROOT as rt\n",
    "import time\n",
    "\n",
    "from ipywidgets import interact, FloatSlider"
   ]
  },
  {
   "cell_type": "code",
   "execution_count": 2,
   "metadata": {},
   "outputs": [],
   "source": [
    "canvas = rt.TCanvas(\"pid\")"
   ]
  },
  {
   "cell_type": "code",
   "execution_count": 3,
   "metadata": {},
   "outputs": [],
   "source": [
    "input_file = rt.TFile(\"../online/AnalysisResults.root\")\n",
    "object_list = input_file.Get(\"h-lambda\")\n",
    "\n",
    "signal_hist = object_list.FindObject(\"fSignalAnalysis\")"
   ]
  },
  {
   "cell_type": "code",
   "execution_count": 4,
   "metadata": {},
   "outputs": [],
   "source": [
    "def set_sigma(TpcNSigmaPion, TofNSigmaPion, TpcNSigmaProton, TofNSigmaProton):\n",
    "    \n",
    "    signal_hist.GetAxis(0).SetRangeUser(-TpcNSigmaPion, TpcNSigmaPion)\n",
    "    signal_hist.GetAxis(1).SetRangeUser(-TofNSigmaPion, TofNSigmaPion)\n",
    "    signal_hist.GetAxis(2).SetRangeUser(-TpcNSigmaProton, TpcNSigmaProton)\n",
    "    signal_hist.GetAxis(3).SetRangeUser(-TofNSigmaProton, TofNSigmaProton)\n",
    "    \n",
    "    signal_hist.SetName(f\"{time.time()}\")"
   ]
  },
  {
   "cell_type": "code",
   "execution_count": 23,
   "metadata": {},
   "outputs": [
    {
     "data": {
      "application/vnd.jupyter.widget-view+json": {
       "model_id": "3ee8d92a9946494d8326c19e56a8db22",
       "version_major": 2,
       "version_minor": 0
      },
      "text/plain": [
       "interactive(children=(FloatSlider(value=0.0, description='TpcNSigmaPion', max=10.0, step=0.25), FloatSlider(va…"
      ]
     },
     "metadata": {},
     "output_type": "display_data"
    },
    {
     "data": {
      "text/plain": [
       "<function __main__.set_sigma(TpcNSigmaPion, TofNSigmaPion, TpcNSigmaProton, TofNSigmaProton)>"
      ]
     },
     "execution_count": 23,
     "metadata": {},
     "output_type": "execute_result"
    }
   ],
   "source": [
    "interact(set_sigma, \n",
    "         TpcNSigmaPion=FloatSlider(min=0, max=10, step=0.25, value=0), \n",
    "         TofNSigmaPion=FloatSlider(min=0, max=10, step=0.25, value=0), \n",
    "         TpcNSigmaProton=FloatSlider(min=0, max=10, step=0.25\n",
    "                                     , value=0),\n",
    "         TofNSigmaProton=FloatSlider(min=0, max=10, step=0.25, value=0))"
   ]
  },
  {
   "cell_type": "code",
   "execution_count": 24,
   "metadata": {},
   "outputs": [],
   "source": [
    "signal_hist.GetAxis(5).SetRangeUser(2, 4)"
   ]
  },
  {
   "cell_type": "code",
   "execution_count": 29,
   "metadata": {},
   "outputs": [
    {
     "name": "stderr",
     "output_type": "stream",
     "text": [
      "Warning in <TFile::Append>: Replacing existing TH1: 1586285397.6885571_proj_4 (Potential memory leak).\n"
     ]
    },
    {
     "data": {
      "image/png": "[encoded data removed]",
      "text/plain": [
       "<IPython.core.display.Image object>"
      ]
     },
     "metadata": {},
     "output_type": "display_data"
    }
   ],
   "source": [
    "mass_hist = signal_hist.Projection(4)\n",
    "mass_hist.Sumw2()\n",
    "mass_hist.SetTitle(\"Invariant Mass, 0.5 #sigma_{TPC} cut on p, 2 GeV < p_{T} < 4 GeV\")\n",
    "mass_hist.Draw()\n",
    "canvas.Draw()"
   ]
  },
  {
   "cell_type": "code",
   "execution_count": null,
   "metadata": {},
   "outputs": [],
   "source": []
  },
  {
   "cell_type": "code",
   "execution_count": null,
   "metadata": {},
   "outputs": [],
   "source": []
  }
 ],
 "metadata": {
  "kernelspec": {
   "display_name": "Python 3",
   "language": "python",
   "name": "python3"
  },
  "language_info": {
   "codemirror_mode": {
    "name": "ipython",
    "version": 3
   },
   "file_extension": ".py",
   "mimetype": "text/x-python",
   "name": "python",
   "nbconvert_exporter": "python",
   "pygments_lexer": "ipython3",
   "version": "3.7.6"
  }
 },
 "nbformat": 4,
 "nbformat_minor": 4
}
