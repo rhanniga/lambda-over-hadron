{
 "cells": [
  {
   "cell_type": "code",
   "execution_count": 1,
   "metadata": {},
   "outputs": [
    {
     "name": "stdout",
     "output_type": "stream",
     "text": [
      "Welcome to JupyROOT 6.24/06\n"
     ]
    }
   ],
   "source": [
    "import ROOT as rt\n",
    "rt.gStyle.SetOptStat(0)"
   ]
  },
  {
   "cell_type": "code",
   "execution_count": 2,
   "metadata": {},
   "outputs": [],
   "source": [
    "c = rt.TCanvas('c','c', 800, 600)"
   ]
  },
  {
   "cell_type": "code",
   "execution_count": 5,
   "metadata": {},
   "outputs": [],
   "source": [
    "# cur_file = rt.TFile((\"eff_out_current.root\"))\n",
    "# new_file = rt.TFile((\"eff_out_FINAL.root\"))\n",
    "\n",
    "cur_file = rt.TFile((\"eff_out_not_triggered.root\"))\n",
    "new_file = rt.TFile((\"eff_out_triggered.root\"))\n",
    "\n",
    "# cur_trigger_eff = cur_file.Get(\"fLambdaV0Eff\")\n",
    "# new_trigger_eff = new_file.Get(\"fLambdaV0Eff\")\n",
    "\n",
    "cur_trigger_eff = cur_file.Get(\"fAssociatedEff\")\n",
    "new_trigger_eff = new_file.Get(\"fAssociatedEff\")\n",
    "\n",
    "# cur_trigger_eff = cur_file.Get(\"fTriggerEff\")\n",
    "# new_trigger_eff = new_file.Get(\"fTriggerEff\")\n",
    "\n",
    "# cur_trigger_eff.Rebin(5)\n",
    "# new_trigger_eff.Rebin(5)\n",
    "\n",
    "# norm_dist = new_file.Get(\"realTrigger_PT_normalized\")\n",
    "# reco_dist = cur_file.Get(\"reco_trigger\")\n",
    "# real_dist = cur_file.Get(\"real_trigger\")\n",
    "# # norm_dist.Rebin(2)\n",
    "\n",
    "# cur_dihadron = cur_file.Get(\"h_h_dphi_old_eff\")\n",
    "# new_dihadron = new_file.Get(\"h_h_dphi_new_eff\")"
   ]
  },
  {
   "cell_type": "code",
   "execution_count": 6,
   "metadata": {},
   "outputs": [],
   "source": [
    "cur_trigger_eff.SetLineColor(rt.kRed)\n",
    "new_trigger_eff.SetLineColor(rt.kBlue)\n",
    "cur_trigger_eff.SetLineWidth(2)\n",
    "new_trigger_eff.SetLineWidth(2)\n",
    "cur_trigger_eff.SetMarkerColor(rt.kRed)\n",
    "new_trigger_eff.SetMarkerColor(rt.kBlue)\n",
    "cur_trigger_eff.SetMarkerStyle(47)\n",
    "new_trigger_eff.SetMarkerStyle(34)\n",
    "cur_trigger_eff.SetMarkerSize(1.5)\n",
    "new_trigger_eff.SetMarkerSize(1.5)\n",
    "\n",
    "\n",
    "# cur_dihadron.SetLineColor(rt.kRed)\n",
    "# new_dihadron.SetLineColor(rt.kBlue)\n",
    "# cur_dihadron.SetLineWidth(2)\n",
    "# new_dihadron.SetLineWidth(2)\n",
    "# cur_dihadron.SetMarkerColor(rt.kRed)\n",
    "# new_dihadron.SetMarkerColor(rt.kBlue)\n",
    "# cur_dihadron.SetMarkerStyle(47)\n",
    "# new_dihadron.SetMarkerStyle(34)\n",
    "# cur_dihadron.SetMarkerSize(2)\n",
    "# new_dihadron.SetMarkerSize(2)"
   ]
  },
  {
   "cell_type": "code",
   "execution_count": 12,
   "metadata": {},
   "outputs": [],
   "source": [
    "cur_trigger_eff.GetYaxis().SetRangeUser(0.6, 1.1)\n",
    "cur_trigger_eff.GetXaxis().SetRangeUser(0, 0)\n",
    "cur_trigger_eff.GetXaxis().SetTitle(\"p_{T}^{assoc. h} (GeV/c)\")\n",
    "new_trigger_eff.GetXaxis().SetTitle(\"p_{T}^{assoc. h} (GeV/c)\")\n",
    "cur_trigger_eff.GetYaxis().SetTitle(\"Efficiency\")\n",
    "cur_trigger_eff.SetTitle(\"\")"
   ]
  },
  {
   "cell_type": "code",
   "execution_count": 13,
   "metadata": {},
   "outputs": [
    {
     "name": "stderr",
     "output_type": "stream",
     "text": [
      "Info in <TCanvas::Print>: pdf file lambda_eff_comp_require_trigger.pdf has been created\n"
     ]
    },
    {
     "data": {
      "image/png": "[encoded data removed]",
      "text/plain": [
       "<IPython.core.display.Image object>"
      ]
     },
     "metadata": {},
     "output_type": "display_data"
    }
   ],
   "source": [
    "cur_trigger_eff.GetXaxis().SetRangeUser(1, 4)\n",
    "cur_trigger_eff.Draw()\n",
    "new_trigger_eff.Draw(\"same\")\n",
    "leg = rt.TLegend(0.6, 0.25, 0.85, 0.35)\n",
    "leg.SetBorderSize(0)\n",
    "leg.AddEntry(cur_trigger_eff, \"No requirement\", \"lep\")\n",
    "leg.AddEntry(new_trigger_eff, \"Require reco trigger\", \"lep\")\n",
    "leg.Draw()\n",
    "\n",
    "c.Draw()\n",
    "c.SaveAs(\"lambda_eff_comp_require_trigger.pdf\")"
   ]
  },
  {
   "cell_type": "code",
   "execution_count": 14,
   "metadata": {},
   "outputs": [
    {
     "name": "stderr",
     "output_type": "stream",
     "text": [
      "Info in <TCanvas::Print>: pdf file trigger_eff_comp_dihadron_ratio.pdf has been created\n"
     ]
    },
    {
     "data": {
      "image/png": "[encoded data removed]",
      "text/plain": [
       "<IPython.core.display.Image object>"
      ]
     },
     "metadata": {},
     "output_type": "display_data"
    }
   ],
   "source": [
    "\n",
    "eff_ratio = new_trigger_eff.Clone(\"eff_ratio\")\n",
    "eff_ratio.GetXaxis().SetRangeUser(1, 4)\n",
    "eff_ratio.Divide(cur_trigger_eff)\n",
    "eff_ratio.SetTitle(\"\")\n",
    "eff_ratio.GetYaxis().SetRangeUser(0.5, 1.5)\n",
    "eff_ratio.GetYaxis().SetTitle(\"(After/Before) Ratio\")\n",
    "\n",
    "eff_ratio.Draw()\n",
    "c.Draw()\n",
    "c.SaveAs(\"trigger_eff_comp_dihadron_ratio.pdf\")"
   ]
  },
  {
   "cell_type": "code",
   "execution_count": null,
   "metadata": {},
   "outputs": [],
   "source": []
  }
 ],
 "metadata": {
  "kernelspec": {
   "display_name": "python-modules",
   "language": "python",
   "name": "python3"
  },
  "language_info": {
   "codemirror_mode": {
    "name": "ipython",
    "version": 3
   },
   "file_extension": ".py",
   "mimetype": "text/x-python",
   "name": "python",
   "nbconvert_exporter": "python",
   "pygments_lexer": "ipython3",
   "version": "3.6.10"
  },
  "orig_nbformat": 4,
  "vscode": {
   "interpreter": {
    "hash": "dc3bd6f5b32e4f93a64df3e5a2860866c10127abb21699bbbf8f13d24d4fcd18"
   }
  }
 },
 "nbformat": 4,
 "nbformat_minor": 2
}
