{
 "cells": [
  {
   "cell_type": "code",
   "execution_count": null,
   "id": "f478ea54",
   "metadata": {},
   "outputs": [
    {
     "name": "stdout",
     "output_type": "stream",
     "text": [
      "Welcome to JupyROOT 6.24/06\n"
     ]
    }
   ],
   "source": [
    "import ROOT as rt\n",
    "import array as arr\n",
    "import math\n",
    "\n",
    "from strangehelper import get_parabola, make_mixed_corrections"
   ]
  },
  {
   "cell_type": "code",
   "execution_count": null,
   "id": "1f067d30",
   "metadata": {},
   "outputs": [],
   "source": [
    "# epsilon used to avoid bin edge nightmares (if you pick a value that lies on bin edge, it defaults to right bin)\n",
    "EPSILON = 0.00001"
   ]
  },
  {
   "cell_type": "code",
   "execution_count": null,
   "id": "5d567387",
   "metadata": {},
   "outputs": [],
   "source": [
    "# UE line method\n",
    "USE_AVG = 1\n",
    "USE_ZYAM = 0\n",
    "USE_NONEG = 0\n",
    "assert sum([USE_AVG, USE_ZYAM, USE_NONEG]) == 1, \"Only select 1 method for UE line please\""
   ]
  },
  {
   "cell_type": "code",
   "execution_count": null,
   "id": "df4c3ce8",
   "metadata": {},
   "outputs": [],
   "source": [
    "DELTA_ETA_MAX = 1.4 - EPSILON"
   ]
  },
  {
   "cell_type": "code",
   "execution_count": null,
   "id": "cacd7605",
   "metadata": {},
   "outputs": [],
   "source": [
    "TRIG_PT_LOW = 4\n",
    "TRIG_PT_HIGH = 8 - EPSILON\n",
    "ASSOC_PT_LOW = 2 \n",
    "ASSOC_PT_HIGH = 4 - EPSILON"
   ]
  },
  {
   "cell_type": "code",
   "execution_count": null,
   "id": "8c428e80",
   "metadata": {},
   "outputs": [],
   "source": [
    "SIG_MIN = 1.108 \n",
    "SIG_MAX = 1.124 - EPSILON"
   ]
  },
  {
   "cell_type": "code",
   "execution_count": null,
   "id": "bb249123",
   "metadata": {},
   "outputs": [],
   "source": [
    "c = rt.TCanvas(\"main_canvas\", \"Main Canvas\", 55, 55, 800, 700)"
   ]
  },
  {
   "cell_type": "code",
   "execution_count": null,
   "metadata": {},
   "outputs": [],
   "source": [
    "input_file_0_20 = rt.TFile(\"~/OneDrive/Research/Output/lambda-over-hadron/mc/v0_closure_0_20.root\")\n",
    "input_list_0_20 = input_file_0_20.Get(\"h-lambda\")"
   ]
  },
  {
   "cell_type": "code",
   "execution_count": null,
   "id": "2a3f31a9",
   "metadata": {},
   "outputs": [],
   "source": [
    "trig_dist_0_20 = input_list_0_20.FindObject(\"fTriggerDistEff\")\n",
    "lambda_dist_0_20 = input_list_0_20.FindObject(\"fTriggeredLambdaDist\")\n",
    "trig_dist_0_20_mc = input_list_0_20.FindObject(\"fTriggerDist_MC\")\n",
    "lambda_dist_0_20_mc = input_list_0_20.FindObject(\"fLambdaDist_MC\")"
   ]
  },
  {
   "cell_type": "code",
   "execution_count": null,
   "id": "353c3dfb",
   "metadata": {},
   "outputs": [],
   "source": [
    "h_h_0_20 = input_list_0_20.FindObject(\"fDphiHHEff\")\n",
    "h_h_mixed_0_20 = input_list_0_20.FindObject(\"fDphiHHMixed\")\n",
    "h_h_0_20_mc = input_list_0_20.FindObject(\"fDphiHH_MC\")\n",
    "h_h_mixed_0_20_mc = input_list_0_20.FindObject(\"fDphiHHMixed_MC\")"
   ]
  },
  {
   "cell_type": "code",
   "execution_count": null,
   "id": "d22dccdc",
   "metadata": {},
   "outputs": [],
   "source": [
    "h_lambda_0_20 = input_list_0_20.FindObject(\"fDphiHLambdaEff\")\n",
    "h_lambda_mixed_0_20 = input_list_0_20.FindObject(\"fDphiHLambdaMixed\")\n",
    "h_lambda_0_20_mc = input_list_0_20.FindObject(\"fDphiHLambda_MC\")\n",
    "h_lambda_mixed_0_20_mc = input_list_0_20.FindObject(\"fDphiHLambdaMixed_MC\")"
   ]
  },
  {
   "cell_type": "code",
   "execution_count": null,
   "id": "70a13902",
   "metadata": {},
   "outputs": [],
   "source": [
    "# Setting the trigger Pt (this is never changed again)\n",
    "trig_dist_0_20.GetAxis(0).SetRangeUser(TRIG_PT_LOW, TRIG_PT_HIGH)\n",
    "h_h_0_20.GetAxis(0).SetRangeUser(TRIG_PT_LOW, TRIG_PT_HIGH)\n",
    "h_h_mixed_0_20.GetAxis(0).SetRangeUser(TRIG_PT_LOW, TRIG_PT_HIGH)\n",
    "h_lambda_0_20.GetAxis(0).SetRangeUser(TRIG_PT_LOW, TRIG_PT_HIGH)\n",
    "h_lambda_mixed_0_20.GetAxis(0).SetRangeUser(TRIG_PT_LOW, TRIG_PT_HIGH)\n",
    "trig_dist_0_20_mc.GetAxis(0).SetRangeUser(TRIG_PT_LOW, TRIG_PT_HIGH)\n",
    "h_h_0_20_mc.GetAxis(0).SetRangeUser(TRIG_PT_LOW, TRIG_PT_HIGH)\n",
    "h_h_mixed_0_20_mc.GetAxis(0).SetRangeUser(TRIG_PT_LOW, TRIG_PT_HIGH)\n",
    "h_lambda_0_20_mc.GetAxis(0).SetRangeUser(TRIG_PT_LOW, TRIG_PT_HIGH)\n",
    "h_lambda_mixed_0_20_mc.GetAxis(0).SetRangeUser(TRIG_PT_LOW, TRIG_PT_HIGH)"
   ]
  },
  {
   "cell_type": "code",
   "execution_count": null,
   "id": "c58f0866",
   "metadata": {},
   "outputs": [],
   "source": [
    "# Setting the associated Pt (this is never changed again)\n",
    "lambda_dist_0_20.GetAxis(0).SetRangeUser(ASSOC_PT_LOW, ASSOC_PT_HIGH)\n",
    "h_h_0_20.GetAxis(1).SetRangeUser(ASSOC_PT_LOW, ASSOC_PT_HIGH)\n",
    "h_h_mixed_0_20.GetAxis(1).SetRangeUser(ASSOC_PT_LOW, ASSOC_PT_HIGH)\n",
    "h_lambda_0_20.GetAxis(1).SetRangeUser(ASSOC_PT_LOW, ASSOC_PT_HIGH)\n",
    "h_lambda_mixed_0_20.GetAxis(1).SetRangeUser(ASSOC_PT_LOW, ASSOC_PT_HIGH)\n",
    "lambda_dist_0_20_mc.GetAxis(0).SetRangeUser(ASSOC_PT_LOW, ASSOC_PT_HIGH)\n",
    "h_h_0_20_mc.GetAxis(1).SetRangeUser(ASSOC_PT_LOW, ASSOC_PT_HIGH)\n",
    "h_h_mixed_0_20_mc.GetAxis(1).SetRangeUser(ASSOC_PT_LOW, ASSOC_PT_HIGH)\n",
    "h_lambda_0_20_mc.GetAxis(1).SetRangeUser(ASSOC_PT_LOW, ASSOC_PT_HIGH)\n",
    "h_lambda_mixed_0_20_mc.GetAxis(1).SetRangeUser(ASSOC_PT_LOW, ASSOC_PT_HIGH)"
   ]
  },
  {
   "cell_type": "code",
   "execution_count": null,
   "id": "c0512b57",
   "metadata": {},
   "outputs": [],
   "source": [
    "trig_pt_dist_0_20 = trig_dist_0_20.Projection(0).Clone(\"trig_pt_dist_0_20\")\n",
    "trig_phi_dist_0_20 = trig_dist_0_20.Projection(1).Clone(\"trig_phi_dist_0_20\")\n",
    "trig_eta_dist_0_20 = trig_dist_0_20.Projection(2).Clone(\"trig_eta_dist_0_20\")\n",
    "trig_2d_dist_0_20 = trig_dist_0_20.Projection(0, 3).Clone(\"trig_2d_dist_0_20\")\n",
    "\n",
    "trig_pt_dist_0_20.SetTitle(\"Trigger #font[12]{p}_{T} Distribution (red: reconstruced, blue: MC truth)\")\n",
    "trig_pt_dist_0_20.Sumw2()\n",
    "trig_pt_dist_0_20.SetLineColor(rt.kRed)\n",
    "\n",
    "trig_phi_dist_0_20.SetTitle(\"Trigger #varphi Distribution (red: reconstructed, blue: MC truth\")\n",
    "trig_phi_dist_0_20.Sumw2()\n",
    "trig_phi_dist_0_20.SetLineColor(rt.kRed)\n",
    "\n",
    "trig_eta_dist_0_20.SetTitle(\"Trigger #eta Distribution (red: reconstructed, blue: MC truth\")\n",
    "trig_eta_dist_0_20.Sumw2()\n",
    "trig_eta_dist_0_20.SetLineColor(rt.kRed)"
   ]
  },
  {
   "cell_type": "code",
   "execution_count": null,
   "metadata": {},
   "outputs": [],
   "source": [
    "trig_pt_dist_0_20_mc = trig_dist_0_20_mc.Projection(0).Clone(\"trig_pt_dist_0_20_mc\")\n",
    "trig_phi_dist_0_20_mc = trig_dist_0_20_mc.Projection(1).Clone(\"trig_phi_dist_0_20_mc\")\n",
    "trig_eta_dist_0_20_mc = trig_dist_0_20_mc.Projection(2).Clone(\"trig_eta_dist_0_20_mc\")\n",
    "trig_2d_dist_0_20_mc = trig_dist_0_20_mc.Projection(0, 3).Clone(\"trig_2d_dist_0_20_mc\")\n",
    "\n",
    "trig_pt_dist_0_20_mc.SetTitle(\"Trigger #font[12]{p}_{T} Distribution (red: reconstruced, blue: MC truth)\")\n",
    "trig_pt_dist_0_20_mc.Sumw2()\n",
    "trig_pt_dist_0_20_mc.SetLineColor(rt.kBlue)\n",
    "\n",
    "trig_phi_dist_0_20_mc.SetTitle(\"Trigger #varphi Distribution (red: reconstructed, blue: MC truth\")\n",
    "trig_phi_dist_0_20_mc.Sumw2()\n",
    "trig_phi_dist_0_20_mc.SetLineColor(rt.kBlue)\n",
    "\n",
    "trig_eta_dist_0_20_mc.SetTitle(\"Trigger #eta Distribution (red: reconstructed, blue: MC truth\")\n",
    "trig_eta_dist_0_20_mc.Sumw2()\n",
    "trig_eta_dist_0_20_mc.SetLineColor(rt.kBlue)"
   ]
  },
  {
   "cell_type": "code",
   "execution_count": null,
   "id": "8cf83d2e",
   "metadata": {},
   "outputs": [],
   "source": [
    "num_trigs_0_20 = trig_2d_dist_0_20.Integral()\n",
    "num_trigs_0_20_highest_pt = trig_2d_dist_0_20_highest_pt.Integral()"
   ]
  },
  {
   "cell_type": "code",
   "execution_count": null,
   "id": "669342b8",
   "metadata": {},
   "outputs": [],
   "source": [
    "trig_pt_dist_0_20.Draw()\n",
    "trig_pt_dist_0_20_highest_pt.SetLineColor(rt.kBlue)\n",
    "trig_pt_dist_0_20_highest_pt.Draw(\"SAME\")\n",
    "c.Draw()"
   ]
  },
  {
   "cell_type": "code",
   "execution_count": null,
   "id": "2620b0a0",
   "metadata": {},
   "outputs": [],
   "source": [
    "trig_pt_dist_0_20.Scale(1/num_trigs_0_20)\n",
    "trig_pt_dist_0_20_highest_pt.Scale(1/num_trigs_0_20_highest_pt)"
   ]
  },
  {
   "cell_type": "code",
   "execution_count": null,
   "id": "ba466ce2",
   "metadata": {},
   "outputs": [],
   "source": [
    "trig_pt_dist_0_20.SetTitle(\"Trigger p_{T} distribution (red: all, blue:highest, normalized)\")\n",
    "trig_pt_dist_0_20.Draw()\n",
    "trig_pt_dist_0_20_highest_pt.SetLineColor(rt.kBlue)\n",
    "trig_pt_dist_0_20_highest_pt.Draw(\"SAME\")\n",
    "c.Draw()"
   ]
  },
  {
   "cell_type": "code",
   "execution_count": null,
   "id": "99695098",
   "metadata": {},
   "outputs": [],
   "source": [
    "trig_eta_dist_0_20.Draw()\n",
    "c.Draw()"
   ]
  },
  {
   "cell_type": "code",
   "execution_count": null,
   "id": "0c1f5c26",
   "metadata": {},
   "outputs": [],
   "source": [
    "trig_phi_dist_0_20.Draw()\n",
    "c.Draw()"
   ]
  },
  {
   "cell_type": "markdown",
   "id": "21f48125",
   "metadata": {},
   "source": [
    "### Signal analysis section"
   ]
  },
  {
   "cell_type": "code",
   "execution_count": null,
   "id": "342393a3",
   "metadata": {},
   "outputs": [],
   "source": [
    "# eta cuts first\n",
    "lambda_dist_0_20.GetAxis(2).SetRangeUser(-0.8, 0.8)\n",
    "lambda_mass_dist_0_20 = lambda_dist_0_20.Projection(3).Clone(\"lambda_mass_dist_0_20\")"
   ]
  },
  {
   "cell_type": "code",
   "execution_count": null,
   "id": "576987ed",
   "metadata": {},
   "outputs": [],
   "source": [
    "lambda_mass_dist_0_20.SetTitle(\"#Lambda^{0} invariant mass distribution (p-#pi)\")\n",
    "lambda_mass_dist_0_20.Sumw2()\n",
    "lambda_mass_dist_0_20.SetLineWidth(2)\n",
    "lambda_mass_dist_0_20.GetXaxis().SetTitle(\"Mass (GeV/c^{2})\")\n",
    "lambda_mass_dist_0_20.GetYaxis().SetTitle(\"#frac{dN_{p-#pi}}{dM}\")"
   ]
  },
  {
   "cell_type": "code",
   "execution_count": null,
   "id": "cb197a41",
   "metadata": {},
   "outputs": [],
   "source": [
    "lambda_mass_dist_0_20.Draw()\n",
    "c.Draw()"
   ]
  },
  {
   "cell_type": "code",
   "execution_count": null,
   "id": "fc91ad90",
   "metadata": {},
   "outputs": [],
   "source": [
    "bin_1 = lambda_mass_dist_0_20.FindBin(1.09)\n",
    "bin_2 = lambda_mass_dist_0_20.FindBin(1.15)\n",
    "bin_3 = lambda_mass_dist_0_20.FindBin(1.16 - EPSILON)\n",
    "point_one = [1.09, lambda_mass_dist_0_20.GetBinContent(bin_1)]\n",
    "point_two = [1.15, lambda_mass_dist_0_20.GetBinContent(bin_2)]\n",
    "point_three = [1.16, lambda_mass_dist_0_20.GetBinContent(bin_3)]\n",
    "bg_starting_params_0_20 = get_parabola(point_one, point_two, point_three)"
   ]
  },
  {
   "cell_type": "code",
   "execution_count": null,
   "id": "fe2e0d03",
   "metadata": {},
   "outputs": [],
   "source": [
    "lambda_mass_fit_0_20 = rt.TF1(\"lambda_mass_fit_0_20\", \"[0]*TMath::Voigt(x - [1], [2], [3], 4) + pol2(4)\", 1.09, 1.155)\n",
    "lambda_mass_fit_0_20.SetNpx(1000)\n",
    "lambda_mass_fit_0_20.SetParameter(0, 1.36753e01)\n",
    "lambda_mass_fit_0_20.FixParameter(1, 1.1162)\n",
    "lambda_mass_fit_0_20.SetParameter(2, 1.00576e-05 )\n",
    "lambda_mass_fit_0_20.SetParameter(3, 6.04166e-03)\n",
    "lambda_mass_fit_0_20.SetParameter(4, bg_starting_params_0_20[0])\n",
    "lambda_mass_fit_0_20.SetParameter(5, bg_starting_params_0_20[1])\n",
    "lambda_mass_fit_0_20.SetParameter(6, bg_starting_params_0_20[2])"
   ]
  },
  {
   "cell_type": "code",
   "execution_count": null,
   "id": "fc4e9f54",
   "metadata": {},
   "outputs": [],
   "source": [
    "lambda_mass_dist_fit_0_20 = lambda_mass_dist_0_20.Clone(\"lambda_mass_dist_fit_0_20\")\n",
    "lambda_mass_dist_fit_0_20.Fit(lambda_mass_fit_0_20, \"RS\")\n",
    "lambda_mass_dist_fit_0_20.Draw()\n",
    "c.Draw()"
   ]
  },
  {
   "cell_type": "code",
   "execution_count": null,
   "id": "222a3ddc",
   "metadata": {},
   "outputs": [],
   "source": [
    "bg_fit_0_20 = rt.TF1(\"bg_fit_0_20\", \"pol2\", 1.09, 1.15)\n",
    "bg_fit_0_20.SetParameter(0, lambda_mass_fit_0_20.GetParameter(4))\n",
    "bg_fit_0_20.SetParameter(1, lambda_mass_fit_0_20.GetParameter(5))\n",
    "bg_fit_0_20.SetParameter(2, lambda_mass_fit_0_20.GetParameter(6))\n",
    "bg_fit_0_20.SetNpx(1000)\n",
    "bg_fit_0_20.SetLineColor(rt.kMagenta)\n",
    "lambda_mass_dist_fit_0_20.Draw()\n",
    "bg_fit_0_20.Draw(\"SAME\")\n",
    "c.Draw()"
   ]
  },
  {
   "cell_type": "code",
   "execution_count": null,
   "id": "dff53a19",
   "metadata": {},
   "outputs": [],
   "source": [
    "left_signal_bin_0_20 = lambda_mass_dist_fit_0_20.FindBin(SIG_MIN)\n",
    "right_signal_bin_0_20 = lambda_mass_dist_fit_0_20.FindBin(SIG_MAX)\n",
    "\n",
    "lambda_bg_0_20 = 0\n",
    "lambda_total_0_20 = 0\n",
    "for bin_num in range(left_signal_bin_0_20, right_signal_bin_0_20 + 1):\n",
    "    bin_center = lambda_mass_dist_fit_0_20.GetBinCenter(bin_num)\n",
    "    lambda_bg_0_20 += bg_fit_0_20.Eval(bin_center)\n",
    "    lambda_total_0_20 += lambda_mass_dist_fit_0_20.GetBinContent(bin_num)\n",
    "\n",
    "lambda_signal_0_20 = lambda_total_0_20 - lambda_bg_0_20\n",
    "lambda_signal_total_ratio_0_20 = lambda_signal_0_20/lambda_total_0_20\n",
    "lambda_signal_bg_ratio_0_20 = lambda_signal_0_20/lambda_bg_0_20\n",
    "print(f\"The 0-20 lambda signal is: {lambda_signal_0_20}\")\n",
    "print(f\"The 0-20 lambda background is: {lambda_bg_0_20}\")\n",
    "print(f\"The 0-20 lambda S/B is: {lambda_signal_bg_ratio_0_20}\")\n",
    "print(f\"The 0-20 lambda S/T is: {lambda_signal_total_ratio_0_20}\")\n",
    "print(f\"The 0-20 lambda significance is: {lambda_signal_0_20/math.sqrt(lambda_signal_0_20 + lambda_bg_0_20)}\")"
   ]
  },
  {
   "cell_type": "markdown",
   "id": "8b7a0da4",
   "metadata": {},
   "source": [
    "### Mixed event correction section"
   ]
  },
  {
   "cell_type": "code",
   "execution_count": null,
   "id": "857cf95a",
   "metadata": {},
   "outputs": [],
   "source": [
    "axes = arr.array('i', [2, 3, 4, 5])\n",
    "h_lambda_0_20 = h_lambda_0_20.Projection(4, axes)\n",
    "h_lambda_0_20_highest_pt = h_lambda_0_20_highest_pt.Projection(4, axes)\n",
    "h_lambda_mixed_0_20 = h_lambda_mixed_0_20.Projection(4, axes)\n",
    "h_lambda_mixed_0_20_highest_pt = h_lambda_mixed_0_20_highest_pt.Projection(4, axes)"
   ]
  },
  {
   "cell_type": "code",
   "execution_count": null,
   "id": "eb145904",
   "metadata": {},
   "outputs": [],
   "source": [
    "h_h_0_20 = h_h_0_20.Projection(2, 3, 4)\n",
    "h_h_0_20_highest_pt = h_h_0_20_highest_pt.Projection(2, 3, 4)\n",
    "h_h_mixed_0_20 = h_h_mixed_0_20.Projection(2, 3, 4)\n",
    "h_h_mixed_0_20_highest_pt = h_h_mixed_0_20_highest_pt.Projection(2, 3, 4)"
   ]
  },
  {
   "cell_type": "code",
   "execution_count": null,
   "id": "92a7cb5c",
   "metadata": {},
   "outputs": [],
   "source": [
    "# Setting up 2-d correlation plots before the mixed event correction\n",
    "h_lambda_2d_nomixcor_0_20 = h_lambda_0_20.Projection(0, 1).Clone(\"h_lambda_2d_nomixcor_0_20\")\n",
    "h_lambda_2d_nomixcor_0_20_highest_pt = h_lambda_0_20_highest_pt.Projection(0, 1).Clone(\"h_lambda_2d_nomixcor_0_20_highest_pt\")\n",
    "h_lambda_mixed_2d_0_20 = h_lambda_mixed_0_20.Projection(0, 1).Clone(\"h_lambda_mixed_2d_0_20\")\n",
    "h_lambda_mixed_2d_0_20_highest_pt = h_lambda_mixed_0_20_highest_pt.Projection(0, 1).Clone(\"h_lambda_mixed_2d_0_20_highest_pt\")"
   ]
  },
  {
   "cell_type": "code",
   "execution_count": null,
   "id": "cef04ccc",
   "metadata": {},
   "outputs": [],
   "source": [
    "h_h_2d_nomixcor_0_20 = h_h_0_20_highest_pt.Project3D(\"xye\").Clone(\"h_h_2d_nomixcor_0_20\")\n",
    "h_h_2d_nomixcor_0_20_highest_pt = h_h_0_20_highest_pt.Project3D(\"xye\").Clone(\"h_h_2d_nomixcor_0_20_highest_pt\")\n",
    "h_h_mixed_2d_0_20 = h_h_mixed_0_20.Project3D(\"xye\").Clone(\"h_h_mixed_2d_0_20\")\n",
    "h_h_mixed_2d_0_20_highest_pt = h_h_mixed_0_20_highest_pt.Project3D(\"xye\").Clone(\"h_h_mixed_2d_0_20_highest_pt\")"
   ]
  },
  {
   "cell_type": "code",
   "execution_count": null,
   "id": "9d4af50f",
   "metadata": {},
   "outputs": [],
   "source": [
    "h_lambda_2d_nomixcor_0_20.SetTitle(\"h-#Lambda^{0} #Delta#varphi#Delta#eta (no acceptance correction)\")\n",
    "h_lambda_2d_nomixcor_0_20.GetYaxis().SetTitle(\"#Delta#varphi_{h-#Lambda^{0}}\")\n",
    "h_lambda_2d_nomixcor_0_20.GetXaxis().SetTitle(\"#Delta#eta_{h-#Lambda^{0}}\")\n",
    "h_lambda_2d_nomixcor_0_20.GetXaxis().SetTitleSize(0.05)\n",
    "h_lambda_2d_nomixcor_0_20.GetXaxis().SetTitleOffset(1.3)\n",
    "h_lambda_2d_nomixcor_0_20.GetYaxis().SetTitleSize(0.05)\n",
    "h_lambda_2d_nomixcor_0_20.GetYaxis().SetTitleOffset(1.3)\n",
    "\n",
    "h_lambda_mixed_2d_0_20.SetTitle(\"Mixed-event h-#Lambda^{0} #Delta#varphi#Delta#eta\")\n",
    "h_lambda_mixed_2d_0_20.GetYaxis().SetTitle(\"#Delta#varphi_{h-#Lambda^{0}}\")\n",
    "h_lambda_mixed_2d_0_20.GetXaxis().SetTitle(\"#Delta#eta_{h-#Lambda^{0}}\")\n",
    "h_lambda_mixed_2d_0_20.GetXaxis().SetTitleSize(0.05)\n",
    "h_lambda_mixed_2d_0_20.GetXaxis().SetTitleOffset(1.3)\n",
    "h_lambda_mixed_2d_0_20.GetYaxis().SetTitleSize(0.05)\n",
    "h_lambda_mixed_2d_0_20.GetYaxis().SetTitleOffset(1.3)\n",
    "\n",
    "h_lambda_2d_nomixcor_0_20_highest_pt.SetTitle(\"h-#Lambda^{0} #Delta#varphi#Delta#eta (no acceptance correction, highest p_{t} trigger)\")\n",
    "h_lambda_2d_nomixcor_0_20_highest_pt.GetYaxis().SetTitle(\"#Delta#varphi_{h-#Lambda^{0}}\")\n",
    "h_lambda_2d_nomixcor_0_20_highest_pt.GetXaxis().SetTitle(\"#Delta#eta_{h-#Lambda^{0}}\")\n",
    "h_lambda_2d_nomixcor_0_20_highest_pt.GetXaxis().SetTitleSize(0.05)\n",
    "h_lambda_2d_nomixcor_0_20_highest_pt.GetXaxis().SetTitleOffset(1.3)\n",
    "h_lambda_2d_nomixcor_0_20_highest_pt.GetYaxis().SetTitleSize(0.05)\n",
    "h_lambda_2d_nomixcor_0_20_highest_pt.GetYaxis().SetTitleOffset(1.3)\n",
    "\n",
    "h_lambda_mixed_2d_0_20_highest_pt.SetTitle(\"Mixed-event h-#Lambda^{0} #Delta#varphi#Delta#eta (highest p_{T} trigger)\")\n",
    "h_lambda_mixed_2d_0_20_highest_pt.GetYaxis().SetTitle(\"#Delta#varphi_{h-#Lambda^{0}}\")\n",
    "h_lambda_mixed_2d_0_20_highest_pt.GetXaxis().SetTitle(\"#Delta#eta_{h-#Lambda^{0}}\")\n",
    "h_lambda_mixed_2d_0_20_highest_pt.GetXaxis().SetTitleSize(0.05)\n",
    "h_lambda_mixed_2d_0_20_highest_pt.GetXaxis().SetTitleOffset(1.3)\n",
    "h_lambda_mixed_2d_0_20_highest_pt.GetYaxis().SetTitleSize(0.05)\n",
    "h_lambda_mixed_2d_0_20_highest_pt.GetYaxis().SetTitleOffset(1.3)"
   ]
  },
  {
   "cell_type": "code",
   "execution_count": null,
   "id": "b8018f67",
   "metadata": {},
   "outputs": [],
   "source": [
    "h_h_2d_nomixcor_0_20.SetTitle(\"h-h #Delta#varphi#Delta#eta (no acceptance correction)\")\n",
    "h_h_2d_nomixcor_0_20.GetYaxis().SetTitle(\"#Delta#varphi_{h-#Lambda^{0}}\")\n",
    "h_h_2d_nomixcor_0_20.GetXaxis().SetTitle(\"#Delta#eta_{h-#Lambda^{0}}\")\n",
    "h_h_2d_nomixcor_0_20.GetXaxis().SetTitleSize(0.05)\n",
    "h_h_2d_nomixcor_0_20.GetXaxis().SetTitleOffset(1.3)\n",
    "h_h_2d_nomixcor_0_20.GetYaxis().SetTitleSize(0.05)\n",
    "h_h_2d_nomixcor_0_20.GetYaxis().SetTitleOffset(1.3)\n",
    "\n",
    "h_h_mixed_2d_0_20.SetTitle(\"Mixed-event h-h #Delta#varphi#Delta#eta\")\n",
    "h_h_mixed_2d_0_20.GetYaxis().SetTitle(\"#Delta#varphi_{h-#Lambda^{0}}\")\n",
    "h_h_mixed_2d_0_20.GetXaxis().SetTitle(\"#Delta#eta_{h-#Lambda^{0}}\")\n",
    "h_h_mixed_2d_0_20.GetXaxis().SetTitleSize(0.05)\n",
    "h_h_mixed_2d_0_20.GetXaxis().SetTitleOffset(1.3)\n",
    "h_h_mixed_2d_0_20.GetYaxis().SetTitleSize(0.05)\n",
    "h_h_mixed_2d_0_20.GetYaxis().SetTitleOffset(1.3)\n",
    "\n",
    "h_h_2d_nomixcor_0_20_highest_pt.SetTitle(\"h-h #Delta#varphi#Delta#eta (no acceptance correction, highest p_{T} trigger)\")\n",
    "h_h_2d_nomixcor_0_20_highest_pt.GetYaxis().SetTitle(\"#Delta#varphi_{h-#Lambda^{0}}\")\n",
    "h_h_2d_nomixcor_0_20_highest_pt.GetXaxis().SetTitle(\"#Delta#eta_{h-#Lambda^{0}}\")\n",
    "h_h_2d_nomixcor_0_20_highest_pt.GetXaxis().SetTitleSize(0.05)\n",
    "h_h_2d_nomixcor_0_20_highest_pt.GetXaxis().SetTitleOffset(1.3)\n",
    "h_h_2d_nomixcor_0_20_highest_pt.GetYaxis().SetTitleSize(0.05)\n",
    "h_h_2d_nomixcor_0_20_highest_pt.GetYaxis().SetTitleOffset(1.3)\n",
    "\n",
    "h_h_mixed_2d_0_20_highest_pt.SetTitle(\"Mixed-event h-h #Delta#varphi#Delta#eta\")\n",
    "h_h_mixed_2d_0_20_highest_pt.GetYaxis().SetTitle(\"#Delta#varphi_{h-#Lambda^{0}}\")\n",
    "h_h_mixed_2d_0_20_highest_pt.GetXaxis().SetTitle(\"#Delta#eta_{h-#Lambda^{0}}\")\n",
    "h_h_mixed_2d_0_20_highest_pt.GetXaxis().SetTitleSize(0.05)\n",
    "h_h_mixed_2d_0_20_highest_pt.GetXaxis().SetTitleOffset(1.3)\n",
    "h_h_mixed_2d_0_20_highest_pt.GetYaxis().SetTitleSize(0.05)\n",
    "h_h_mixed_2d_0_20_highest_pt.GetYaxis().SetTitleOffset(1.3)"
   ]
  },
  {
   "cell_type": "code",
   "execution_count": null,
   "id": "edb0e3b0",
   "metadata": {},
   "outputs": [],
   "source": [
    "c.SetTheta(50)\n",
    "c.SetPhi(50)\n",
    "h_lambda_2d_nomixcor_0_20.GetXaxis().SetRangeUser(-DELTA_ETA_MAX, DELTA_ETA_MAX)\n",
    "h_lambda_2d_nomixcor_0_20.Draw(\"SURF1\")\n",
    "c.Draw()"
   ]
  },
  {
   "cell_type": "code",
   "execution_count": null,
   "id": "2c6a818c",
   "metadata": {},
   "outputs": [],
   "source": [
    "c.SetTheta(50)\n",
    "c.SetPhi(50)\n",
    "h_lambda_2d_nomixcor_0_20_highest_pt.GetXaxis().SetRangeUser(-DELTA_ETA_MAX, DELTA_ETA_MAX)\n",
    "h_lambda_2d_nomixcor_0_20_highest_pt.Draw(\"SURF1\")\n",
    "c.Draw()"
   ]
  },
  {
   "cell_type": "code",
   "execution_count": null,
   "id": "b1c09e99",
   "metadata": {},
   "outputs": [],
   "source": [
    "c.SetTheta(50)\n",
    "c.SetPhi(50)\n",
    "h_lambda_mixed_2d_0_20.GetXaxis().SetRangeUser(-DELTA_ETA_MAX, DELTA_ETA_MAX)\n",
    "h_lambda_mixed_2d_0_20.Draw(\"SURF1\")\n",
    "c.Draw()"
   ]
  },
  {
   "cell_type": "code",
   "execution_count": null,
   "id": "d435ca36",
   "metadata": {},
   "outputs": [],
   "source": [
    "c.SetTheta(50)\n",
    "c.SetPhi(50)\n",
    "h_h_2d_nomixcor_0_20.GetXaxis().SetRangeUser(-DELTA_ETA_MAX, DELTA_ETA_MAX)\n",
    "h_h_2d_nomixcor_0_20.Draw(\"SURF1\")\n",
    "c.Draw()"
   ]
  },
  {
   "cell_type": "code",
   "execution_count": null,
   "id": "e8d85c14",
   "metadata": {},
   "outputs": [],
   "source": [
    "c.SetTheta(50)\n",
    "c.SetPhi(50)\n",
    "h_h_mixed_2d_0_20.GetXaxis().SetRangeUser(-DELTA_ETA_MAX, DELTA_ETA_MAX)\n",
    "h_h_mixed_2d_0_20.Draw(\"SURF1\")\n",
    "c.Draw()"
   ]
  },
  {
   "cell_type": "code",
   "execution_count": null,
   "id": "63999ee2",
   "metadata": {},
   "outputs": [],
   "source": [
    "h_lambda_2d_mixcor_sig_0_20 = make_mixed_corrections(h_lambda_0_20, h_lambda_mixed_0_20, SIG_MIN, SIG_MAX)"
   ]
  },
  {
   "cell_type": "code",
   "execution_count": null,
   "id": "59a4cb8f",
   "metadata": {},
   "outputs": [],
   "source": [
    "h_lambda_2d_mixcor_sig_0_20_highest_pt = make_mixed_corrections(h_lambda_0_20_highest_pt, h_lambda_mixed_0_20_highest_pt, SIG_MIN, SIG_MAX)"
   ]
  },
  {
   "cell_type": "code",
   "execution_count": null,
   "id": "a2a7cf8a",
   "metadata": {},
   "outputs": [],
   "source": [
    "h_h_2d_mixcor_0_20 = make_mixed_corrections(h_h_0_20, h_h_mixed_0_20, SIG_MIN, SIG_MAX, is_hh=True)\n",
    "h_h_2d_mixcor_0_20_highest_pt = make_mixed_corrections(h_h_0_20_highest_pt, h_h_mixed_0_20_highest_pt, SIG_MIN, SIG_MAX, is_hh=True)"
   ]
  },
  {
   "cell_type": "code",
   "execution_count": null,
   "id": "4038291d",
   "metadata": {},
   "outputs": [],
   "source": [
    "h_lambda_2d_mixcor_sig_0_20.SetTitle(\"h-#Lambda^{0} #Delta#varphi#Delta#eta correlation (SIG, acceptance corrected)\")\n",
    "h_lambda_2d_mixcor_sig_0_20.GetYaxis().SetTitle(\"#Delta#varphi_{h-#Lambda^{0}}\")\n",
    "h_lambda_2d_mixcor_sig_0_20.GetXaxis().SetTitle(\"#Delta#eta_{h-#Lambda^{0}}\")\n",
    "h_lambda_2d_mixcor_sig_0_20.GetXaxis().SetTitleSize(0.05)\n",
    "h_lambda_2d_mixcor_sig_0_20.GetXaxis().SetTitleOffset(1.3)\n",
    "h_lambda_2d_mixcor_sig_0_20.GetYaxis().SetTitleSize(0.05)\n",
    "h_lambda_2d_mixcor_sig_0_20.GetYaxis().SetTitleOffset(1.3)"
   ]
  },
  {
   "cell_type": "code",
   "execution_count": null,
   "id": "4b1c4bcf",
   "metadata": {},
   "outputs": [],
   "source": [
    "h_h_2d_mixcor_0_20.SetTitle(\"h-h #Delta#varphi#Delta#eta correlation (acceptance corrected)\")\n",
    "h_h_2d_mixcor_0_20.GetYaxis().SetTitle(\"#Delta#varphi_{h-h}\")\n",
    "h_h_2d_mixcor_0_20.GetXaxis().SetTitle(\"#Delta#eta_{h-h}\")\n",
    "h_h_2d_mixcor_0_20.GetXaxis().SetTitleSize(0.05)\n",
    "h_h_2d_mixcor_0_20.GetXaxis().SetTitleOffset(1.3)\n",
    "h_h_2d_mixcor_0_20.GetYaxis().SetTitleSize(0.05)\n",
    "h_h_2d_mixcor_0_20.GetYaxis().SetTitleOffset(1.3)"
   ]
  },
  {
   "cell_type": "code",
   "execution_count": null,
   "id": "d06fc490",
   "metadata": {},
   "outputs": [],
   "source": [
    "c.SetTheta(50)\n",
    "c.SetPhi(50)\n",
    "h_lambda_2d_mixcor_sig_0_20.GetXaxis().SetRangeUser(-DELTA_ETA_MAX, DELTA_ETA_MAX)\n",
    "h_lambda_2d_mixcor_sig_0_20.Draw(\"SURF1\")\n",
    "c.Draw()"
   ]
  },
  {
   "cell_type": "code",
   "execution_count": null,
   "id": "edafda00",
   "metadata": {
    "scrolled": true
   },
   "outputs": [],
   "source": [
    "c.SetTheta(50)\n",
    "c.SetPhi(50)\n",
    "h_h_2d_mixcor_0_20.GetXaxis().SetRangeUser(-DELTA_ETA_MAX, DELTA_ETA_MAX)\n",
    "h_h_2d_mixcor_0_20.Draw(\"SURF1\")\n",
    "c.Draw()"
   ]
  },
  {
   "cell_type": "code",
   "execution_count": null,
   "id": "5078bf5e",
   "metadata": {},
   "outputs": [],
   "source": [
    "h_lambda_2d_mixcor_sig_0_20_highest_pt.GetXaxis().SetRangeUser(-DELTA_ETA_MAX, DELTA_ETA_MAX)\n",
    "h_h_2d_mixcor_0_20_highest_pt.GetXaxis().SetRangeUser(-DELTA_ETA_MAX, DELTA_ETA_MAX)"
   ]
  },
  {
   "cell_type": "code",
   "execution_count": null,
   "id": "0d1d8ba3",
   "metadata": {},
   "outputs": [],
   "source": [
    "# per-trigger normalization done here\n",
    "h_lambda_2d_mixcor_sig_0_20.Scale(1.0/num_trigs_0_20)\n",
    "h_lambda_2d_mixcor_sig_0_20_highest_pt.Scale(1.0/num_trigs_0_20_highest_pt)\n",
    "h_h_2d_mixcor_0_20.Scale(1.0/num_trigs_0_20)\n",
    "h_h_2d_mixcor_0_20_highest_pt.Scale(1.0/num_trigs_0_20_highest_pt)"
   ]
  },
  {
   "cell_type": "code",
   "execution_count": null,
   "id": "7416adeb",
   "metadata": {},
   "outputs": [],
   "source": [
    "h_lambda_2d_subtracted_0_20 = h_lambda_2d_mixcor_sig_0_20\n",
    "h_lambda_2d_subtracted_0_20_highest_pt = h_lambda_2d_mixcor_sig_0_20_highest_pt"
   ]
  },
  {
   "cell_type": "markdown",
   "id": "3d7af60f",
   "metadata": {},
   "source": [
    "### Integral and ratio section"
   ]
  },
  {
   "cell_type": "code",
   "execution_count": null,
   "id": "c620f87c",
   "metadata": {},
   "outputs": [],
   "source": [
    "h_lambda_dphi_subtracted_0_20 = h_lambda_2d_subtracted_0_20.ProjectionY(\"h_lambda_dphi_subtracted_0_20\")\n",
    "h_lambda_dphi_subtracted_0_20.SetTitle(\"h-#Lambda^{0} #Delta#varphi distribution (0 - 20 multiplicty bin)\")\n",
    "h_lambda_dphi_subtracted_0_20.SetLineColor(rt.kViolet - 6)\n",
    "h_lambda_dphi_subtracted_0_20.SetLineWidth(3)\n",
    "h_lambda_dphi_subtracted_0_20.GetYaxis().SetTitle(\"#frac{dN_{h-#Lambda^{0}}}{d#Delta#varphi}\")\n",
    "h_lambda_dphi_subtracted_0_20.GetXaxis().SetTitleSize(0.05)\n",
    "h_lambda_dphi_subtracted_0_20.GetXaxis().SetTitleOffset(0.5)"
   ]
  },
  {
   "cell_type": "code",
   "execution_count": null,
   "id": "c0bfd217",
   "metadata": {},
   "outputs": [],
   "source": [
    "h_lambda_dphi_subtracted_0_20_highest_pt = h_lambda_2d_subtracted_0_20_highest_pt.ProjectionY(\"h_lambda_dphi_subtracted_0_20_highest_pt\")\n",
    "h_lambda_dphi_subtracted_0_20_highest_pt.SetTitle(\"h-#Lambda^{0} #Delta#varphi distribution (0 - 20 multiplicty bin)\")\n",
    "h_lambda_dphi_subtracted_0_20_highest_pt.SetLineColor(rt.kViolet - 6)\n",
    "h_lambda_dphi_subtracted_0_20_highest_pt.SetLineWidth(3)\n",
    "h_lambda_dphi_subtracted_0_20_highest_pt.GetYaxis().SetTitle(\"#frac{dN_{h-#Lambda^{0}}}{d#Delta#varphi}\")\n",
    "h_lambda_dphi_subtracted_0_20_highest_pt.GetXaxis().SetTitleSize(0.05)\n",
    "h_lambda_dphi_subtracted_0_20_highest_pt.GetXaxis().SetTitleOffset(0.5)"
   ]
  },
  {
   "cell_type": "code",
   "execution_count": null,
   "id": "4b3df235",
   "metadata": {},
   "outputs": [],
   "source": [
    "h_lambda_dphi_subtracted_0_20.GetYaxis().SetRangeUser(h_lambda_dphi_subtracted_0_20_highest_pt.GetMinimum()*0.9, \n",
    "                                                      h_lambda_dphi_subtracted_0_20.GetMaximum()*1.10)\n",
    "h_lambda_dphi_subtracted_0_20.Draw()\n",
    "h_lambda_dphi_subtracted_0_20_highest_pt.SetLineColor(rt.kGreen + 2)\n",
    "h_lambda_dphi_subtracted_0_20_highest_pt.Draw(\"SAME\")\n",
    "c.Draw()"
   ]
  },
  {
   "cell_type": "code",
   "execution_count": null,
   "id": "3f5f4848",
   "metadata": {},
   "outputs": [],
   "source": [
    "if USE_AVG:\n",
    "    ue_line_0_20 = rt.TF1(\"ue_line_0_20\", \"pol0\", -2, 6)\n",
    "    ue_upper_line_0_20 = rt.TF1(\"ue_upper_line_0_20\", \"pol0\", -2, 6)\n",
    "    ue_lower_line_0_20 = rt.TF1(\"ue_lower_line_0_20\", \"pol0\", -2, 6)\n",
    "    zero_line_0_20 = rt.TF1(\"zero_line_0_20\", \"pol0\", -2, 6)\n",
    "    zero_upper_line_0_20 = rt.TF1(\"zero_upper_line_0_20\", \"pol0\", -2, 6)\n",
    "    zero_lower_line_0_20 = rt.TF1(\"zero_lower_line_0_20\", \"pol0\", -2, 6)\n",
    "    ue_avg_0_20 = (h_lambda_dphi_subtracted_0_20.GetBinContent(1) \n",
    "                   + h_lambda_dphi_subtracted_0_20.GetBinContent(8)\n",
    "                   + h_lambda_dphi_subtracted_0_20.GetBinContent(9)\n",
    "                   + h_lambda_dphi_subtracted_0_20.GetBinContent(16))/4\n",
    "\n",
    "    ue_avg_error_0_20 = (1/4)*(math.sqrt(h_lambda_dphi_subtracted_0_20.GetBinError(1)**2 \n",
    "                   + h_lambda_dphi_subtracted_0_20.GetBinError(8)**2\n",
    "                   + h_lambda_dphi_subtracted_0_20.GetBinError(9)**2\n",
    "                   + h_lambda_dphi_subtracted_0_20.GetBinError(16)**2))\n",
    "\n",
    "\n",
    "    ue_line_0_20.SetParameter(0, ue_avg_0_20)\n",
    "    ue_line_0_20.SetLineColor(rt.kViolet - 6)\n",
    "    ue_line_0_20.SetLineWidth(3)\n",
    "    ue_line_0_20.SetLineStyle(rt.kSolid)\n",
    "\n",
    "    ue_upper_line_0_20.SetParameter(0, ue_avg_0_20 + ue_avg_error_0_20)\n",
    "    ue_upper_line_0_20.SetLineColor(rt.kViolet - 6)\n",
    "    ue_upper_line_0_20.SetLineStyle(rt.kDashed)\n",
    "\n",
    "    ue_lower_line_0_20.SetParameter(0, ue_avg_0_20 - ue_avg_error_0_20)\n",
    "    ue_lower_line_0_20.SetLineColor(rt.kViolet - 6)\n",
    "    ue_lower_line_0_20.SetLineStyle(rt.kDashed)\n",
    "\n",
    "    zero_line_0_20.SetParameter(0, 0)\n",
    "    zero_line_0_20.SetLineColor(rt.kViolet - 6)\n",
    "    zero_line_0_20.SetLineWidth(3)\n",
    "    zero_line_0_20.SetLineStyle(rt.kSolid)\n",
    "    zero_upper_line_0_20.SetParameter(0, ue_avg_error_0_20)\n",
    "    zero_upper_line_0_20.SetLineColor(rt.kViolet - 6)\n",
    "    zero_upper_line_0_20.SetLineStyle(rt.kDashed)\n",
    "    zero_lower_line_0_20.SetParameter(0, -ue_avg_error_0_20)\n",
    "    zero_lower_line_0_20.SetLineColor(rt.kViolet - 6)\n",
    "    zero_lower_line_0_20.SetLineStyle(rt.kDashed)\n",
    "elif USE_ZYAM:\n",
    "    ue_line_0_20 = rt.TF1(\"ue_line_0_20\", \"pol0\", -2, 6)\n",
    "    ue_upper_line_0_20 = rt.TF1(\"ue_upper_line_0_20\", \"pol0\", -2, 6)\n",
    "    ue_lower_line_0_20 = rt.TF1(\"ue_lower_line_0_20\", \"pol0\", -2, 6)\n",
    "    zero_line_0_20 = rt.TF1(\"zero_line_0_20\", \"pol0\", -2, 6)\n",
    "    zero_upper_line_0_20 = rt.TF1(\"zero_upper_line_0_20\", \"pol0\", -2, 6)\n",
    "    zero_lower_line_0_20 = rt.TF1(\"zero_lower_line_0_20\", \"pol0\", -2, 6)\n",
    "    min_bin = h_lambda_dphi_subtracted_0_20.GetMinimumBin()\n",
    "    ue_avg_0_20 = h_lambda_dphi_subtracted_0_20.GetBinContent(min_bin)\n",
    "    ue_avg_error_0_20 = h_lambda_dphi_subtracted_0_20.GetBinError(min_bin)\n",
    "\n",
    "\n",
    "    ue_line_0_20.SetParameter(0, ue_avg_0_20)\n",
    "    ue_line_0_20.SetLineColor(rt.kViolet - 6)\n",
    "    ue_line_0_20.SetLineWidth(3)\n",
    "    ue_line_0_20.SetLineStyle(rt.kSolid)\n",
    "\n",
    "    ue_upper_line_0_20.SetParameter(0, ue_avg_0_20 + ue_avg_error_0_20)\n",
    "    ue_upper_line_0_20.SetLineColor(rt.kViolet - 6)\n",
    "    ue_upper_line_0_20.SetLineStyle(rt.kDashed)\n",
    "\n",
    "    ue_lower_line_0_20.SetParameter(0, ue_avg_0_20 - ue_avg_error_0_20)\n",
    "    ue_lower_line_0_20.SetLineColor(rt.kViolet - 6)\n",
    "    ue_lower_line_0_20.SetLineStyle(rt.kDashed)\n",
    "\n",
    "    zero_line_0_20.SetParameter(0, 0)\n",
    "    zero_line_0_20.SetLineColor(rt.kViolet - 6)\n",
    "    zero_line_0_20.SetLineWidth(3)\n",
    "    zero_line_0_20.SetLineStyle(rt.kSolid)\n",
    "    zero_upper_line_0_20.SetParameter(0, ue_avg_error_0_20)\n",
    "    zero_upper_line_0_20.SetLineColor(rt.kViolet - 6)\n",
    "    zero_upper_line_0_20.SetLineStyle(rt.kDashed)\n",
    "    zero_lower_line_0_20.SetParameter(0, -ue_avg_error_0_20)\n",
    "    zero_lower_line_0_20.SetLineColor(rt.kViolet - 6)\n",
    "    zero_lower_line_0_20.SetLineStyle(rt.kDashed)\n",
    "else:\n",
    "    raise NotImplementedError(\"UE line mode not supported\")"
   ]
  },
  {
   "cell_type": "code",
   "execution_count": null,
   "id": "8df7662d",
   "metadata": {},
   "outputs": [],
   "source": [
    "if USE_AVG:\n",
    "    ue_line_0_20_highest_pt = rt.TF1(\"ue_line_0_20_highest_pt\", \"pol0\", -2, 6)\n",
    "    ue_upper_line_0_20_highest_pt = rt.TF1(\"ue_upper_line_0_20_highest_pt\", \"pol0\", -2, 6)\n",
    "    ue_lower_line_0_20_highest_pt = rt.TF1(\"ue_lower_line_0_20_highest_pt\", \"pol0\", -2, 6)\n",
    "    zero_line_0_20_highest_pt = rt.TF1(\"zero_line_0_20_highest_pt\", \"pol0\", -2, 6)\n",
    "    zero_upper_line_0_20_highest_pt = rt.TF1(\"zero_upper_line_0_20_highest_pt\", \"pol0\", -2, 6)\n",
    "    zero_lower_line_0_20_highest_pt = rt.TF1(\"zero_lower_line_0_20_highest_pt\", \"pol0\", -2, 6)\n",
    "    ue_avg_0_20_highest_pt = (h_lambda_dphi_subtracted_0_20_highest_pt.GetBinContent(1) \n",
    "                   + h_lambda_dphi_subtracted_0_20_highest_pt.GetBinContent(8)\n",
    "                   + h_lambda_dphi_subtracted_0_20_highest_pt.GetBinContent(9)\n",
    "                   + h_lambda_dphi_subtracted_0_20_highest_pt.GetBinContent(16))/4\n",
    "\n",
    "    ue_avg_error_0_20_highest_pt = (1/4)*(math.sqrt(h_lambda_dphi_subtracted_0_20_highest_pt.GetBinError(1)**2 \n",
    "                   + h_lambda_dphi_subtracted_0_20_highest_pt.GetBinError(8)**2\n",
    "                   + h_lambda_dphi_subtracted_0_20_highest_pt.GetBinError(9)**2\n",
    "                   + h_lambda_dphi_subtracted_0_20_highest_pt.GetBinError(16)**2))\n",
    "\n",
    "\n",
    "    ue_line_0_20_highest_pt.SetParameter(0, ue_avg_0_20_highest_pt)\n",
    "    ue_line_0_20_highest_pt.SetLineColor(rt.kViolet - 6)\n",
    "    ue_line_0_20_highest_pt.SetLineWidth(3)\n",
    "    ue_line_0_20_highest_pt.SetLineStyle(rt.kSolid)\n",
    "\n",
    "    ue_upper_line_0_20_highest_pt.SetParameter(0, ue_avg_0_20_highest_pt + ue_avg_error_0_20_highest_pt)\n",
    "    ue_upper_line_0_20_highest_pt.SetLineColor(rt.kViolet - 6)\n",
    "    ue_upper_line_0_20_highest_pt.SetLineStyle(rt.kDashed)\n",
    "\n",
    "    ue_lower_line_0_20_highest_pt.SetParameter(0, ue_avg_0_20_highest_pt - ue_avg_error_0_20_highest_pt)\n",
    "    ue_lower_line_0_20_highest_pt.SetLineColor(rt.kViolet - 6)\n",
    "    ue_lower_line_0_20_highest_pt.SetLineStyle(rt.kDashed)\n",
    "\n",
    "    zero_line_0_20_highest_pt.SetParameter(0, 0)\n",
    "    zero_line_0_20_highest_pt.SetLineColor(rt.kViolet - 6)\n",
    "    zero_line_0_20_highest_pt.SetLineWidth(3)\n",
    "    zero_line_0_20_highest_pt.SetLineStyle(rt.kSolid)\n",
    "    zero_upper_line_0_20_highest_pt.SetParameter(0, ue_avg_error_0_20_highest_pt)\n",
    "    zero_upper_line_0_20_highest_pt.SetLineColor(rt.kViolet - 6)\n",
    "    zero_upper_line_0_20_highest_pt.SetLineStyle(rt.kDashed)\n",
    "    zero_lower_line_0_20_highest_pt.SetParameter(0, -ue_avg_error_0_20_highest_pt)\n",
    "    zero_lower_line_0_20_highest_pt.SetLineColor(rt.kViolet - 6)\n",
    "    zero_lower_line_0_20_highest_pt.SetLineStyle(rt.kDashed)\n",
    "elif USE_ZYAM:\n",
    "    ue_line_0_20_highest_pt = rt.TF1(\"ue_line_0_20_highest_pt\", \"pol0\", -2, 6)\n",
    "    ue_upper_line_0_20_highest_pt = rt.TF1(\"ue_upper_line_0_20_highest_pt\", \"pol0\", -2, 6)\n",
    "    ue_lower_line_0_20_highest_pt = rt.TF1(\"ue_lower_line_0_20_highest_pt\", \"pol0\", -2, 6)\n",
    "    zero_line_0_20_highest_pt = rt.TF1(\"zero_line_0_20_highest_pt\", \"pol0\", -2, 6)\n",
    "    zero_upper_line_0_20_highest_pt = rt.TF1(\"zero_upper_line_0_20_highest_pt\", \"pol0\", -2, 6)\n",
    "    zero_lower_line_0_20_highest_pt = rt.TF1(\"zero_lower_line_0_20_highest_pt\", \"pol0\", -2, 6)\n",
    "    min_bin = h_lambda_dphi_subtracted_0_20_highest_pt.GetMinimumBin()\n",
    "    ue_avg_0_20_highest_pt = h_lambda_dphi_subtracted_0_20_highest_pt.GetBinContent(min_bin)\n",
    "    ue_avg_error_0_20_highest_pt = h_lambda_dphi_subtracted_0_20_highest_pt.GetBinError(min_bin)\n",
    "\n",
    "\n",
    "    ue_line_0_20_highest_pt.SetParameter(0, ue_avg_0_20_highest_pt)\n",
    "    ue_line_0_20_highest_pt.SetLineColor(rt.kViolet - 6)\n",
    "    ue_line_0_20_highest_pt.SetLineWidth(3)\n",
    "    ue_line_0_20_highest_pt.SetLineStyle(rt.kSolid)\n",
    "\n",
    "    ue_upper_line_0_20_highest_pt.SetParameter(0, ue_avg_0_20_highest_pt + ue_avg_error_0_20_highest_pt)\n",
    "    ue_upper_line_0_20_highest_pt.SetLineColor(rt.kViolet - 6)\n",
    "    ue_upper_line_0_20_highest_pt.SetLineStyle(rt.kDashed)\n",
    "\n",
    "    ue_lower_line_0_20_highest_pt.SetParameter(0, ue_avg_0_20_highest_pt - ue_avg_error_0_20_highest_pt)\n",
    "    ue_lower_line_0_20_highest_pt.SetLineColor(rt.kViolet - 6)\n",
    "    ue_lower_line_0_20_highest_pt.SetLineStyle(rt.kDashed)\n",
    "\n",
    "    zero_line_0_20_highest_pt.SetParameter(0, 0)\n",
    "    zero_line_0_20_highest_pt.SetLineColor(rt.kViolet - 6)\n",
    "    zero_line_0_20_highest_pt.SetLineWidth(3)\n",
    "    zero_line_0_20_highest_pt.SetLineStyle(rt.kSolid)\n",
    "    zero_upper_line_0_20_highest_pt.SetParameter(0, ue_avg_error_0_20_highest_pt)\n",
    "    zero_upper_line_0_20_highest_pt.SetLineColor(rt.kViolet - 6)\n",
    "    zero_upper_line_0_20_highest_pt.SetLineStyle(rt.kDashed)\n",
    "    zero_lower_line_0_20_highest_pt.SetParameter(0, -ue_avg_error_0_20_highest_pt)\n",
    "    zero_lower_line_0_20_highest_pt.SetLineColor(rt.kViolet - 6)\n",
    "    zero_lower_line_0_20_highest_pt.SetLineStyle(rt.kDashed)\n",
    "else:\n",
    "    raise NotImplementedError(\"UE line mode not supported\")"
   ]
  },
  {
   "cell_type": "code",
   "execution_count": null,
   "id": "7f65ad62",
   "metadata": {},
   "outputs": [],
   "source": [
    "min_bin = h_lambda_dphi_subtracted_0_20.GetMinimumBin()\n",
    "min_val = h_lambda_dphi_subtracted_0_20.GetBinContent(min_bin)\n",
    "max_bin = h_lambda_dphi_subtracted_0_20.GetMaximumBin()\n",
    "max_val = h_lambda_dphi_subtracted_0_20.GetBinContent(max_bin)\n",
    "\n",
    "h_lambda_dphi_subtracted_0_20.GetYaxis().SetRangeUser(0.85*min_val, 1.15*max_val)\n",
    "h_lambda_dphi_subtracted_0_20.Draw()\n",
    "ue_line_0_20.Draw(\"SAME\")\n",
    "ue_upper_line_0_20.Draw(\"SAME\")\n",
    "ue_lower_line_0_20.Draw(\"SAME\")\n",
    "c.Draw()"
   ]
  },
  {
   "cell_type": "code",
   "execution_count": null,
   "id": "9137bf72",
   "metadata": {},
   "outputs": [],
   "source": [
    "h_lambda_dphi_subtracted_0_20.GetYaxis().SetRangeUser(0, 1.15*max_val)\n",
    "h_lambda_dphi_subtracted_0_20.Draw()\n",
    "ue_line_0_20.Draw(\"SAME\")\n",
    "ue_upper_line_0_20.Draw(\"SAME\")\n",
    "ue_lower_line_0_20.Draw(\"SAME\")\n",
    "c.Draw()"
   ]
  },
  {
   "cell_type": "code",
   "execution_count": null,
   "id": "246803b4",
   "metadata": {
    "scrolled": true
   },
   "outputs": [],
   "source": [
    "h_lambda_dphi_subtracted_0_20_zeroed = h_lambda_dphi_subtracted_0_20.Clone(\"h_lambda_dphi_subtracted_0_20_zeroed\")\n",
    "h_lambda_dphi_subtracted_0_20_zeroed.SetTitle(\"h-#Lambda^{0} #Delta#varphi distribution (UE subtracted, 0 - 20 multiplicity bin)\")\n",
    "h_lambda_dphi_subtracted_0_20_zeroed.Add(ue_line_0_20, -1)\n",
    "h_lambda_dphi_subtracted_0_20_zeroed.Draw()\n",
    "zero_line_0_20.Draw(\"SAME\")\n",
    "zero_upper_line_0_20.Draw(\"SAME\")\n",
    "zero_lower_line_0_20.Draw(\"SAME\")\n",
    "c.Draw()"
   ]
  },
  {
   "cell_type": "code",
   "execution_count": null,
   "id": "f34f8511",
   "metadata": {},
   "outputs": [],
   "source": [
    "DPHI_BINS = h_lambda_dphi_subtracted_0_20.GetNbinsX()"
   ]
  },
  {
   "cell_type": "code",
   "execution_count": null,
   "id": "a7657710",
   "metadata": {},
   "outputs": [],
   "source": [
    "h_lambda_total_integral_0_20 = 0\n",
    "h_lambda_near_integral_0_20 = 0\n",
    "h_lambda_away_integral_0_20 = 0\n",
    "h_lambda_ue_integral_0_20 = ue_avg_0_20*DPHI_BINS\n",
    "\n",
    "h_lambda_total_integral_error_0_20 = 0\n",
    "h_lambda_near_integral_error_0_20 = 0\n",
    "h_lambda_away_integral_error_0_20 = 0\n",
    "h_lambda_ue_integral_error_0_20 = ue_avg_error_0_20*DPHI_BINS\n",
    "\n",
    "for bin_num in range(1, DPHI_BINS + 1):\n",
    "    h_lambda_total_integral_0_20 += h_lambda_dphi_subtracted_0_20.GetBinContent(bin_num)\n",
    "    h_lambda_total_integral_error_0_20 += h_lambda_dphi_subtracted_0_20.GetBinError(bin_num)**2\n",
    "    part = h_lambda_dphi_subtracted_0_20.GetBinContent(bin_num) - ue_avg_0_20\n",
    "    if part < 0:\n",
    "        continue\n",
    "    if bin_num < 9:\n",
    "        h_lambda_near_integral_0_20 += part\n",
    "        h_lambda_near_integral_error_0_20 += h_lambda_dphi_subtracted_0_20.GetBinError(bin_num)**2\n",
    "        h_lambda_near_integral_error_0_20 += ue_avg_error_0_20**2\n",
    "    else:\n",
    "        h_lambda_away_integral_0_20 += part\n",
    "        h_lambda_away_integral_error_0_20 += h_lambda_dphi_subtracted_0_20.GetBinError(bin_num)**2\n",
    "        h_lambda_away_integral_error_0_20 += ue_avg_error_0_20**2\n",
    "h_lambda_total_integral_error_0_20 = math.sqrt(h_lambda_total_integral_error_0_20)\n",
    "h_lambda_near_integral_error_0_20 = math.sqrt(h_lambda_near_integral_error_0_20)\n",
    "h_lambda_away_integral_error_0_20 = math.sqrt(h_lambda_away_integral_error_0_20)"
   ]
  },
  {
   "cell_type": "code",
   "execution_count": null,
   "id": "0f16cdca",
   "metadata": {},
   "outputs": [],
   "source": [
    "h_lambda_total_integral_0_20_highest_pt = 0\n",
    "h_lambda_near_integral_0_20_highest_pt = 0\n",
    "h_lambda_away_integral_0_20_highest_pt = 0\n",
    "h_lambda_ue_integral_0_20_highest_pt = ue_avg_0_20_highest_pt*DPHI_BINS\n",
    "\n",
    "h_lambda_total_integral_error_0_20_highest_pt = 0\n",
    "h_lambda_near_integral_error_0_20_highest_pt = 0\n",
    "h_lambda_away_integral_error_0_20_highest_pt = 0\n",
    "h_lambda_ue_integral_error_0_20_highest_pt = ue_avg_error_0_20_highest_pt*DPHI_BINS\n",
    "\n",
    "for bin_num in range(1, DPHI_BINS + 1):\n",
    "    h_lambda_total_integral_0_20_highest_pt += h_lambda_dphi_subtracted_0_20_highest_pt.GetBinContent(bin_num)\n",
    "    h_lambda_total_integral_error_0_20_highest_pt += h_lambda_dphi_subtracted_0_20_highest_pt.GetBinError(bin_num)**2\n",
    "    part = h_lambda_dphi_subtracted_0_20_highest_pt.GetBinContent(bin_num) - ue_avg_0_20_highest_pt\n",
    "    if part < 0:\n",
    "        continue\n",
    "    if bin_num < 9:\n",
    "        h_lambda_near_integral_0_20_highest_pt += part \n",
    "        h_lambda_near_integral_error_0_20_highest_pt += h_lambda_dphi_subtracted_0_20_highest_pt.GetBinError(bin_num)**2\n",
    "        h_lambda_near_integral_error_0_20_highest_pt += ue_avg_error_0_20_highest_pt**2\n",
    "    else:\n",
    "        h_lambda_away_integral_0_20_highest_pt += part \n",
    "        h_lambda_away_integral_error_0_20_highest_pt += h_lambda_dphi_subtracted_0_20_highest_pt.GetBinError(bin_num)**2\n",
    "        h_lambda_away_integral_error_0_20_highest_pt += ue_avg_error_0_20_highest_pt**2\n",
    "h_lambda_total_integral_error_0_20_highest_pt = math.sqrt(h_lambda_total_integral_error_0_20_highest_pt)\n",
    "h_lambda_near_integral_error_0_20_highest_pt = math.sqrt(h_lambda_near_integral_error_0_20_highest_pt)\n",
    "h_lambda_away_integral_error_0_20_highest_pt = math.sqrt(h_lambda_away_integral_error_0_20_highest_pt)"
   ]
  },
  {
   "cell_type": "code",
   "execution_count": null,
   "id": "ff42fe85",
   "metadata": {},
   "outputs": [],
   "source": [
    "h_h_dphi_0_20 = h_h_2d_mixcor_0_20.ProjectionY(\"h_h_dphi_0_20\")\n",
    "h_h_dphi_0_20.SetTitle(\"h-h #Delta#varphi distribution (0 - 20 multiplicty bin)\")\n",
    "h_h_dphi_0_20.SetLineColor(rt.kBlue)\n",
    "h_h_dphi_0_20.SetLineWidth(3)\n",
    "h_h_dphi_0_20.GetYaxis().SetTitle(\"#frac{dN_{h-h}}{d#Delta#varphi}\")\n",
    "h_h_dphi_0_20.GetXaxis().SetTitleSize(0.05)\n",
    "h_h_dphi_0_20.GetXaxis().SetTitleOffset(0.5)"
   ]
  },
  {
   "cell_type": "code",
   "execution_count": null,
   "id": "cbec7216",
   "metadata": {},
   "outputs": [],
   "source": [
    "h_h_dphi_0_20_highest_pt = h_h_2d_mixcor_0_20_highest_pt.ProjectionY(\"h_h_dphi_0_20_highest_pt\")\n",
    "h_h_dphi_0_20_highest_pt.SetTitle(\"h-h #Delta#varphi distribution (0 - 20 multiplicty bin)\")\n",
    "h_h_dphi_0_20_highest_pt.SetLineColor(rt.kBlue)\n",
    "h_h_dphi_0_20_highest_pt.SetLineWidth(3)\n",
    "h_h_dphi_0_20_highest_pt.GetYaxis().SetTitle(\"#frac{dN_{h-h}}{d#Delta#varphi}\")\n",
    "h_h_dphi_0_20_highest_pt.GetXaxis().SetTitleSize(0.05)\n",
    "h_h_dphi_0_20_highest_pt.GetXaxis().SetTitleOffset(0.5)"
   ]
  },
  {
   "cell_type": "code",
   "execution_count": null,
   "id": "ff090331",
   "metadata": {},
   "outputs": [],
   "source": [
    "h_h_dphi_0_20.GetYaxis().SetRangeUser(h_h_dphi_0_20_highest_pt.GetMinimum()*0.9, \n",
    "                                       h_h_dphi_0_20.GetMaximum()*1.1)\n",
    "h_h_dphi_0_20_highest_pt.SetLineColor(rt.kGreen + 2)\n",
    "h_h_dphi_0_20.Draw()\n",
    "h_h_dphi_0_20_highest_pt.Draw(\"SAME\")\n",
    "c.Draw()"
   ]
  },
  {
   "cell_type": "code",
   "execution_count": null,
   "id": "f4230bfa",
   "metadata": {},
   "outputs": [],
   "source": [
    "if USE_AVG:\n",
    "    hh_ue_line_0_20 = rt.TF1(\"hh_ue_line_0_20\", \"pol0\", -2, 6)\n",
    "    hh_ue_upper_line_0_20 = rt.TF1(\"hh_ue_upper_line_0_20\", \"pol0\", -2, 6)\n",
    "    hh_ue_lower_line_0_20 = rt.TF1(\"hh_ue_lower_line_0_20\", \"pol0\", -2, 6)\n",
    "    hh_zero_line_0_20 = rt.TF1(\"hh_zero_line_0_20\", \"pol0\", -2, 6)\n",
    "    hh_zero_upper_line_0_20 = rt.TF1(\"hh_zero_upper_line_0_20\", \"pol0\", -2, 6)\n",
    "    hh_zero_lower_line_0_20 = rt.TF1(\"hh_zero_lower_line_0_20\", \"pol0\", -2, 6)\n",
    "    hh_ue_avg_0_20 = (h_h_dphi_0_20.GetBinContent(1) \n",
    "                   + h_h_dphi_0_20.GetBinContent(8)\n",
    "                   + h_h_dphi_0_20.GetBinContent(9)\n",
    "                   + h_h_dphi_0_20.GetBinContent(16))/4\n",
    "\n",
    "    hh_ue_avg_error_0_20 = (1/4)*(math.sqrt(h_h_dphi_0_20.GetBinError(1)**2 \n",
    "                   + h_h_dphi_0_20.GetBinError(8)**2\n",
    "                   + h_h_dphi_0_20.GetBinError(9)**2\n",
    "                   + h_h_dphi_0_20.GetBinError(16)**2))\n",
    "\n",
    "\n",
    "    hh_ue_line_0_20.SetParameter(0, hh_ue_avg_0_20)\n",
    "    hh_ue_line_0_20.SetLineColor(rt.kBlue)\n",
    "    hh_ue_line_0_20.SetLineWidth(3)\n",
    "    hh_ue_line_0_20.SetLineStyle(rt.kSolid)\n",
    "\n",
    "    hh_ue_upper_line_0_20.SetParameter(0, hh_ue_avg_0_20 + hh_ue_avg_error_0_20)\n",
    "    hh_ue_upper_line_0_20.SetLineColor(rt.kBlue)\n",
    "    hh_ue_upper_line_0_20.SetLineStyle(rt.kDashed)\n",
    "\n",
    "    hh_ue_lower_line_0_20.SetParameter(0, hh_ue_avg_0_20 - hh_ue_avg_error_0_20)\n",
    "    hh_ue_lower_line_0_20.SetLineColor(rt.kBlue)\n",
    "    hh_ue_lower_line_0_20.SetLineStyle(rt.kDashed)\n",
    "\n",
    "    hh_zero_line_0_20.SetParameter(0, 0)\n",
    "    hh_zero_line_0_20.SetLineColor(rt.kBlue)\n",
    "    hh_zero_line_0_20.SetLineWidth(3)\n",
    "    hh_zero_line_0_20.SetLineStyle(rt.kSolid)\n",
    "    hh_zero_upper_line_0_20.SetParameter(0, hh_ue_avg_error_0_20)\n",
    "    hh_zero_upper_line_0_20.SetLineColor(rt.kBlue)\n",
    "    hh_zero_upper_line_0_20.SetLineStyle(rt.kDashed)\n",
    "    hh_zero_lower_line_0_20.SetParameter(0, -hh_ue_avg_error_0_20)\n",
    "    hh_zero_lower_line_0_20.SetLineColor(rt.kBlue)\n",
    "    hh_zero_lower_line_0_20.SetLineStyle(rt.kDashed)\n",
    "elif USE_ZYAM:\n",
    "    hh_ue_line_0_20 = rt.TF1(\"hh_ue_line_0_20\", \"pol0\", -2, 6)\n",
    "    hh_ue_upper_line_0_20 = rt.TF1(\"hh_ue_upper_line_0_20\", \"pol0\", -2, 6)\n",
    "    hh_ue_lower_line_0_20 = rt.TF1(\"hh_ue_lower_line_0_20\", \"pol0\", -2, 6)\n",
    "    hh_zero_line_0_20 = rt.TF1(\"hh_zero_line_0_20\", \"pol0\", -2, 6)\n",
    "    hh_zero_upper_line_0_20 = rt.TF1(\"hh_zero_upper_line_0_20\", \"pol0\", -2, 6)\n",
    "    hh_zero_lower_line_0_20 = rt.TF1(\"hh_zero_lower_line_0_20\", \"pol0\", -2, 6)\n",
    "    \n",
    "    min_bin = h_h_dphi_0_20.GetMinimumBin()\n",
    "    hh_ue_avg_0_20 = h_h_dphi_0_20.GetBinContent(min_bin)\n",
    "    hh_ue_avg_error_0_20 = h_h_dphi_0_20.GetBinError(min_bin)\n",
    "\n",
    "    hh_ue_line_0_20.SetParameter(0, hh_ue_avg_0_20)\n",
    "    hh_ue_line_0_20.SetLineColor(rt.kBlue)\n",
    "    hh_ue_line_0_20.SetLineWidth(3)\n",
    "    hh_ue_line_0_20.SetLineStyle(rt.kSolid)\n",
    "\n",
    "    hh_ue_upper_line_0_20.SetParameter(0, hh_ue_avg_0_20 + hh_ue_avg_error_0_20)\n",
    "    hh_ue_upper_line_0_20.SetLineColor(rt.kBlue)\n",
    "    hh_ue_upper_line_0_20.SetLineStyle(rt.kDashed)\n",
    "\n",
    "    hh_ue_lower_line_0_20.SetParameter(0, hh_ue_avg_0_20 - hh_ue_avg_error_0_20)\n",
    "    hh_ue_lower_line_0_20.SetLineColor(rt.kBlue)\n",
    "    hh_ue_lower_line_0_20.SetLineStyle(rt.kDashed)\n",
    "\n",
    "    hh_zero_line_0_20.SetParameter(0, 0)\n",
    "    hh_zero_line_0_20.SetLineColor(rt.kBlue)\n",
    "    hh_zero_line_0_20.SetLineWidth(3)\n",
    "    hh_zero_line_0_20.SetLineStyle(rt.kSolid)\n",
    "    hh_zero_upper_line_0_20.SetParameter(0, hh_ue_avg_error_0_20)\n",
    "    hh_zero_upper_line_0_20.SetLineColor(rt.kBlue)\n",
    "    hh_zero_upper_line_0_20.SetLineStyle(rt.kDashed)\n",
    "    hh_zero_lower_line_0_20.SetParameter(0, -hh_ue_avg_error_0_20)\n",
    "    hh_zero_lower_line_0_20.SetLineColor(rt.kBlue)\n",
    "    hh_zero_lower_line_0_20.SetLineStyle(rt.kDashed)\n",
    "else:\n",
    "    raise NotImplementedError(\"UE line mode not supported\")"
   ]
  },
  {
   "cell_type": "code",
   "execution_count": null,
   "id": "28e5b07c",
   "metadata": {},
   "outputs": [],
   "source": [
    "if USE_AVG:\n",
    "    hh_ue_line_0_20_highest_pt = rt.TF1(\"hh_ue_line_0_20_highest_pt\", \"pol0\", -2, 6)\n",
    "    hh_ue_upper_line_0_20_highest_pt = rt.TF1(\"hh_ue_upper_line_0_20_highest_pt\", \"pol0\", -2, 6)\n",
    "    hh_ue_lower_line_0_20_highest_pt = rt.TF1(\"hh_ue_lower_line_0_20_highest_pt\", \"pol0\", -2, 6)\n",
    "    hh_zero_line_0_20_highest_pt = rt.TF1(\"hh_zero_line_0_20_highest_pt\", \"pol0\", -2, 6)\n",
    "    hh_zero_upper_line_0_20_highest_pt = rt.TF1(\"hh_zero_upper_line_0_20_highest_pt\", \"pol0\", -2, 6)\n",
    "    hh_zero_lower_line_0_20_highest_pt = rt.TF1(\"hh_zero_lower_line_0_20_highest_pt\", \"pol0\", -2, 6)\n",
    "    hh_ue_avg_0_20_highest_pt = (h_h_dphi_0_20_highest_pt.GetBinContent(1) \n",
    "                   + h_h_dphi_0_20_highest_pt.GetBinContent(8)\n",
    "                   + h_h_dphi_0_20_highest_pt.GetBinContent(9)\n",
    "                   + h_h_dphi_0_20_highest_pt.GetBinContent(16))/4\n",
    "\n",
    "    hh_ue_avg_error_0_20_highest_pt = (1/4)*(math.sqrt(h_h_dphi_0_20_highest_pt.GetBinError(1)**2 \n",
    "                   + h_h_dphi_0_20_highest_pt.GetBinError(8)**2\n",
    "                   + h_h_dphi_0_20_highest_pt.GetBinError(9)**2\n",
    "                   + h_h_dphi_0_20_highest_pt.GetBinError(16)**2))\n",
    "\n",
    "\n",
    "    hh_ue_line_0_20_highest_pt.SetParameter(0, hh_ue_avg_0_20_highest_pt)\n",
    "    hh_ue_line_0_20_highest_pt.SetLineColor(rt.kBlue)\n",
    "    hh_ue_line_0_20_highest_pt.SetLineWidth(3)\n",
    "    hh_ue_line_0_20_highest_pt.SetLineStyle(rt.kSolid)\n",
    "\n",
    "    hh_ue_upper_line_0_20_highest_pt.SetParameter(0, hh_ue_avg_0_20_highest_pt + hh_ue_avg_error_0_20_highest_pt)\n",
    "    hh_ue_upper_line_0_20_highest_pt.SetLineColor(rt.kBlue)\n",
    "    hh_ue_upper_line_0_20_highest_pt.SetLineStyle(rt.kDashed)\n",
    "\n",
    "    hh_ue_lower_line_0_20_highest_pt.SetParameter(0, hh_ue_avg_0_20_highest_pt - hh_ue_avg_error_0_20_highest_pt)\n",
    "    hh_ue_lower_line_0_20_highest_pt.SetLineColor(rt.kBlue)\n",
    "    hh_ue_lower_line_0_20_highest_pt.SetLineStyle(rt.kDashed)\n",
    "\n",
    "    hh_zero_line_0_20_highest_pt.SetParameter(0, 0)\n",
    "    hh_zero_line_0_20_highest_pt.SetLineColor(rt.kBlue)\n",
    "    hh_zero_line_0_20_highest_pt.SetLineWidth(3)\n",
    "    hh_zero_line_0_20_highest_pt.SetLineStyle(rt.kSolid)\n",
    "    hh_zero_upper_line_0_20_highest_pt.SetParameter(0, hh_ue_avg_error_0_20_highest_pt)\n",
    "    hh_zero_upper_line_0_20_highest_pt.SetLineColor(rt.kBlue)\n",
    "    hh_zero_upper_line_0_20_highest_pt.SetLineStyle(rt.kDashed)\n",
    "    hh_zero_lower_line_0_20_highest_pt.SetParameter(0, -hh_ue_avg_error_0_20_highest_pt)\n",
    "    hh_zero_lower_line_0_20_highest_pt.SetLineColor(rt.kBlue)\n",
    "    hh_zero_lower_line_0_20_highest_pt.SetLineStyle(rt.kDashed)\n",
    "elif USE_ZYAM:\n",
    "    hh_ue_line_0_20_highest_pt = rt.TF1(\"hh_ue_line_0_20_highest_pt\", \"pol0\", -2, 6)\n",
    "    hh_ue_upper_line_0_20_highest_pt = rt.TF1(\"hh_ue_upper_line_0_20_highest_pt\", \"pol0\", -2, 6)\n",
    "    hh_ue_lower_line_0_20_highest_pt = rt.TF1(\"hh_ue_lower_line_0_20_highest_pt\", \"pol0\", -2, 6)\n",
    "    hh_zero_line_0_20_highest_pt = rt.TF1(\"hh_zero_line_0_20_highest_pt\", \"pol0\", -2, 6)\n",
    "    hh_zero_upper_line_0_20_highest_pt = rt.TF1(\"hh_zero_upper_line_0_20_highest_pt\", \"pol0\", -2, 6)\n",
    "    hh_zero_lower_line_0_20_highest_pt = rt.TF1(\"hh_zero_lower_line_0_20_highest_pt\", \"pol0\", -2, 6)\n",
    "    \n",
    "    min_bin = h_h_dphi_0_20_highest_pt.GetMinimumBin()\n",
    "    hh_ue_avg_0_20_highest_pt = h_h_dphi_0_20_highest_pt.GetBinContent(min_bin)\n",
    "    hh_ue_avg_error_0_20_highest_pt = h_h_dphi_0_20_highest_pt.GetBinError(min_bin)\n",
    "\n",
    "    hh_ue_line_0_20_highest_pt.SetParameter(0, hh_ue_avg_0_20_highest_pt)\n",
    "    hh_ue_line_0_20_highest_pt.SetLineColor(rt.kBlue)\n",
    "    hh_ue_line_0_20_highest_pt.SetLineWidth(3)\n",
    "    hh_ue_line_0_20_highest_pt.SetLineStyle(rt.kSolid)\n",
    "\n",
    "    hh_ue_upper_line_0_20_highest_pt.SetParameter(0, hh_ue_avg_0_20_highest_pt + hh_ue_avg_error_0_20_highest_pt)\n",
    "    hh_ue_upper_line_0_20_highest_pt.SetLineColor(rt.kBlue)\n",
    "    hh_ue_upper_line_0_20_highest_pt.SetLineStyle(rt.kDashed)\n",
    "\n",
    "    hh_ue_lower_line_0_20_highest_pt.SetParameter(0, hh_ue_avg_0_20_highest_pt - hh_ue_avg_error_0_20_highest_pt)\n",
    "    hh_ue_lower_line_0_20_highest_pt.SetLineColor(rt.kBlue)\n",
    "    hh_ue_lower_line_0_20_highest_pt.SetLineStyle(rt.kDashed)\n",
    "\n",
    "    hh_zero_line_0_20_highest_pt.SetParameter(0, 0)\n",
    "    hh_zero_line_0_20_highest_pt.SetLineColor(rt.kBlue)\n",
    "    hh_zero_line_0_20_highest_pt.SetLineWidth(3)\n",
    "    hh_zero_line_0_20_highest_pt.SetLineStyle(rt.kSolid)\n",
    "    hh_zero_upper_line_0_20_highest_pt.SetParameter(0, hh_ue_avg_error_0_20_highest_pt)\n",
    "    hh_zero_upper_line_0_20_highest_pt.SetLineColor(rt.kBlue)\n",
    "    hh_zero_upper_line_0_20_highest_pt.SetLineStyle(rt.kDashed)\n",
    "    hh_zero_lower_line_0_20_highest_pt.SetParameter(0, -hh_ue_avg_error_0_20_highest_pt)\n",
    "    hh_zero_lower_line_0_20_highest_pt.SetLineColor(rt.kBlue)\n",
    "    hh_zero_lower_line_0_20_highest_pt.SetLineStyle(rt.kDashed)\n",
    "else:\n",
    "    raise NotImplementedError(\"UE line mode not supported\")"
   ]
  },
  {
   "cell_type": "code",
   "execution_count": null,
   "id": "8e4ca459",
   "metadata": {},
   "outputs": [],
   "source": [
    "min_bin = h_h_dphi_0_20.GetMinimumBin()\n",
    "min_val = h_h_dphi_0_20.GetBinContent(min_bin)\n",
    "max_bin = h_h_dphi_0_20.GetMaximumBin()\n",
    "max_val = h_h_dphi_0_20.GetBinContent(max_bin)\n",
    "\n",
    "h_h_dphi_0_20.GetYaxis().SetRangeUser(0.85*min_val, 1.15*max_val)\n",
    "\n",
    "h_h_dphi_0_20.Draw()\n",
    "hh_ue_line_0_20.Draw(\"SAME\")\n",
    "hh_ue_upper_line_0_20.Draw(\"SAME\")\n",
    "hh_ue_lower_line_0_20.Draw(\"SAME\")\n",
    "c.Draw()"
   ]
  },
  {
   "cell_type": "code",
   "execution_count": null,
   "id": "49681c12",
   "metadata": {},
   "outputs": [],
   "source": [
    "h_h_dphi_0_20.GetYaxis().SetRangeUser(0, h_h_dphi_0_20.GetMaximum()*1.1)\n",
    "h_h_dphi_0_20.Draw()\n",
    "hh_ue_line_0_20.Draw(\"SAME\")\n",
    "hh_ue_upper_line_0_20.Draw(\"SAME\")\n",
    "hh_ue_lower_line_0_20.Draw(\"SAME\")\n",
    "c.Draw()"
   ]
  },
  {
   "cell_type": "code",
   "execution_count": null,
   "id": "b73a5188",
   "metadata": {},
   "outputs": [],
   "source": [
    "h_h_dphi_0_20_zeroed = h_h_dphi_0_20.Clone(\"h_h_dphi_0_20_zeroed\")\n",
    "h_h_dphi_0_20_zeroed.SetTitle(\"h-h #Delta#varphi distribution (UE subtracted, 0 - 20 multiplicity bin)\")\n",
    "h_h_dphi_0_20_zeroed.Add(hh_ue_line_0_20, -1)\n",
    "h_h_dphi_0_20_zeroed.Draw()\n",
    "hh_zero_line_0_20.Draw(\"SAME\")\n",
    "hh_zero_upper_line_0_20.Draw(\"SAME\")\n",
    "hh_zero_lower_line_0_20.Draw(\"SAME\")\n",
    "c.Draw()"
   ]
  },
  {
   "cell_type": "code",
   "execution_count": null,
   "id": "205136a5",
   "metadata": {},
   "outputs": [],
   "source": [
    "h_h_total_integral_0_20 = 0\n",
    "h_h_near_integral_0_20 = 0\n",
    "h_h_away_integral_0_20 = 0\n",
    "h_h_ue_integral_0_20 = hh_ue_avg_0_20*DPHI_BINS\n",
    "\n",
    "h_h_total_integral_error_0_20 = 0\n",
    "h_h_near_integral_error_0_20 = 0\n",
    "h_h_away_integral_error_0_20 = 0\n",
    "h_h_ue_integral_error_0_20 = hh_ue_avg_error_0_20*DPHI_BINS\n",
    "\n",
    "for bin_num in range(1, DPHI_BINS + 1):\n",
    "    h_h_total_integral_0_20 += h_h_dphi_0_20.GetBinContent(bin_num)\n",
    "    h_h_total_integral_error_0_20 += h_h_dphi_0_20.GetBinError(bin_num)**2\n",
    "    part = h_h_dphi_0_20.GetBinContent(bin_num) - hh_ue_avg_0_20\n",
    "    if part < 0:\n",
    "        continue\n",
    "    if bin_num < 9:\n",
    "        h_h_near_integral_0_20 += part\n",
    "        h_h_near_integral_error_0_20 += h_h_dphi_0_20.GetBinError(bin_num)**2\n",
    "        h_h_near_integral_error_0_20 += hh_ue_avg_error_0_20**2\n",
    "    else:\n",
    "        h_h_away_integral_0_20 += part\n",
    "        h_h_away_integral_error_0_20 += h_h_dphi_0_20.GetBinError(bin_num)**2\n",
    "        h_h_away_integral_error_0_20 += hh_ue_avg_error_0_20**2\n",
    "h_h_total_integral_error_0_20 = math.sqrt(h_h_total_integral_error_0_20)\n",
    "h_h_near_integral_error_0_20 = math.sqrt(h_h_near_integral_error_0_20)\n",
    "h_h_away_integral_error_0_20 = math.sqrt(h_h_away_integral_error_0_20)"
   ]
  },
  {
   "cell_type": "code",
   "execution_count": null,
   "id": "4d08c464",
   "metadata": {},
   "outputs": [],
   "source": [
    "h_h_total_integral_0_20_highest_pt = 0\n",
    "h_h_near_integral_0_20_highest_pt = 0\n",
    "h_h_away_integral_0_20_highest_pt = 0\n",
    "h_h_ue_integral_0_20_highest_pt = hh_ue_avg_0_20_highest_pt*DPHI_BINS\n",
    "\n",
    "h_h_total_integral_error_0_20_highest_pt = 0\n",
    "h_h_near_integral_error_0_20_highest_pt = 0\n",
    "h_h_away_integral_error_0_20_highest_pt = 0\n",
    "h_h_ue_integral_error_0_20_highest_pt = hh_ue_avg_error_0_20_highest_pt*DPHI_BINS\n",
    "\n",
    "for bin_num in range(1, DPHI_BINS + 1):\n",
    "    h_h_total_integral_0_20_highest_pt += h_h_dphi_0_20_highest_pt.GetBinContent(bin_num)\n",
    "    h_h_total_integral_error_0_20_highest_pt += h_h_dphi_0_20_highest_pt.GetBinError(bin_num)**2\n",
    "    part = h_h_dphi_0_20_highest_pt.GetBinContent(bin_num) - hh_ue_avg_0_20_highest_pt\n",
    "    if part < 0:\n",
    "        continue\n",
    "    if bin_num < 9:\n",
    "        h_h_near_integral_0_20_highest_pt += part\n",
    "        h_h_near_integral_error_0_20_highest_pt += h_h_dphi_0_20_highest_pt.GetBinError(bin_num)**2\n",
    "        h_h_near_integral_error_0_20_highest_pt += hh_ue_avg_error_0_20_highest_pt**2\n",
    "    else:\n",
    "        h_h_away_integral_0_20_highest_pt += part\n",
    "        h_h_away_integral_error_0_20_highest_pt += h_h_dphi_0_20_highest_pt.GetBinError(bin_num)**2\n",
    "        h_h_away_integral_error_0_20_highest_pt += hh_ue_avg_error_0_20_highest_pt**2\n",
    "h_h_total_integral_error_0_20_highest_pt = math.sqrt(h_h_total_integral_error_0_20_highest_pt)\n",
    "h_h_near_integral_error_0_20_highest_pt = math.sqrt(h_h_near_integral_error_0_20_highest_pt)\n",
    "h_h_away_integral_error_0_20_highest_pt = math.sqrt(h_h_away_integral_error_0_20_highest_pt)"
   ]
  },
  {
   "cell_type": "code",
   "execution_count": null,
   "id": "8129d868",
   "metadata": {},
   "outputs": [],
   "source": [
    "near_ratio_0_20 = h_lambda_near_integral_0_20/h_h_near_integral_0_20\n",
    "away_ratio_0_20 = h_lambda_away_integral_0_20/h_h_away_integral_0_20\n",
    "ue_ratio_0_20 = h_lambda_ue_integral_0_20/h_h_ue_integral_0_20\n",
    "total_ratio_0_20 = h_lambda_total_integral_0_20/h_h_total_integral_0_20\n",
    "\n",
    "near_ratio_error_0_20 = near_ratio_0_20*math.sqrt((h_lambda_near_integral_error_0_20/h_lambda_near_integral_0_20)**2\n",
    "                                                 + (h_h_near_integral_error_0_20/h_h_near_integral_0_20)**2)\n",
    "away_ratio_error_0_20 = away_ratio_0_20*math.sqrt((h_lambda_away_integral_error_0_20/h_lambda_away_integral_0_20)**2\n",
    "                                                 + (h_h_away_integral_error_0_20/h_h_away_integral_0_20)**2)\n",
    "ue_ratio_error_0_20 = ue_ratio_0_20*math.sqrt((h_lambda_ue_integral_error_0_20/h_lambda_ue_integral_0_20)**2\n",
    "                                                 + (h_h_ue_integral_error_0_20/h_h_ue_integral_0_20)**2)\n",
    "total_ratio_error_0_20 = total_ratio_0_20*math.sqrt((h_lambda_total_integral_error_0_20/h_lambda_total_integral_0_20)**2\n",
    "                                                 + (h_h_total_integral_error_0_20/h_h_total_integral_0_20)**2)"
   ]
  },
  {
   "cell_type": "code",
   "execution_count": null,
   "id": "01e2ca74",
   "metadata": {},
   "outputs": [],
   "source": [
    "near_ratio_0_20_highest_pt = h_lambda_near_integral_0_20_highest_pt/h_h_near_integral_0_20_highest_pt\n",
    "away_ratio_0_20_highest_pt = h_lambda_away_integral_0_20_highest_pt/h_h_away_integral_0_20_highest_pt\n",
    "ue_ratio_0_20_highest_pt = h_lambda_ue_integral_0_20_highest_pt/h_h_ue_integral_0_20_highest_pt\n",
    "total_ratio_0_20_highest_pt = h_lambda_total_integral_0_20_highest_pt/h_h_total_integral_0_20_highest_pt\n",
    "\n",
    "near_ratio_error_0_20_highest_pt = near_ratio_0_20_highest_pt*math.sqrt((h_lambda_near_integral_error_0_20_highest_pt/h_lambda_near_integral_0_20_highest_pt)**2\n",
    "                                                 + (h_h_near_integral_error_0_20_highest_pt/h_h_near_integral_0_20_highest_pt)**2)\n",
    "away_ratio_error_0_20_highest_pt = away_ratio_0_20_highest_pt*math.sqrt((h_lambda_away_integral_error_0_20_highest_pt/h_lambda_away_integral_0_20_highest_pt)**2\n",
    "                                                 + (h_h_away_integral_error_0_20_highest_pt/h_h_away_integral_0_20_highest_pt)**2)\n",
    "ue_ratio_error_0_20_highest_pt = ue_ratio_0_20_highest_pt*math.sqrt((h_lambda_ue_integral_error_0_20_highest_pt/h_lambda_ue_integral_0_20_highest_pt)**2\n",
    "                                                 + (h_h_ue_integral_error_0_20_highest_pt/h_h_ue_integral_0_20_highest_pt)**2)\n",
    "total_ratio_error_0_20_highest_pt = total_ratio_0_20_highest_pt*math.sqrt((h_lambda_total_integral_error_0_20_highest_pt/h_lambda_total_integral_0_20_highest_pt)**2\n",
    "                                                 + (h_h_total_integral_error_0_20_highest_pt/h_h_total_integral_0_20_highest_pt)**2)"
   ]
  }
 ],
 "metadata": {
  "interpreter": {
   "hash": "dc3bd6f5b32e4f93a64df3e5a2860866c10127abb21699bbbf8f13d24d4fcd18"
  },
  "kernelspec": {
   "display_name": "Python 3.6.9 ('python-modules')",
   "language": "python",
   "name": "python3"
  },
  "language_info": {
   "codemirror_mode": {
    "name": "ipython",
    "version": 3
   },
   "file_extension": ".py",
   "mimetype": "text/x-python",
   "name": "python",
   "nbconvert_exporter": "python",
   "pygments_lexer": "ipython3",
   "version": "3.6.9"
  },
  "orig_nbformat": 4
 },
 "nbformat": 4,
 "nbformat_minor": 2
}
