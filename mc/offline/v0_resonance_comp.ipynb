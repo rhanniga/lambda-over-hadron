{
 "cells": [
  {
   "cell_type": "code",
   "execution_count": 1,
   "metadata": {},
   "outputs": [
    {
     "name": "stdout",
     "output_type": "stream",
     "text": [
      "Welcome to JupyROOT 6.24/02\n"
     ]
    }
   ],
   "source": [
    "import ROOT as rt"
   ]
  },
  {
   "cell_type": "code",
   "execution_count": null,
   "metadata": {},
   "outputs": [],
   "source": []
  },
  {
   "cell_type": "code",
   "execution_count": null,
   "metadata": {},
   "outputs": [],
   "source": [
    "input_file = rt.TFile(\"../online/v0_resonance_comp.root\")\n",
    "input_list = input_file.Get(\"h-lambda_eff\")\n",
    "input_file.Close()"
   ]
  },
  {
   "cell_type": "code",
   "execution_count": 1,
   "metadata": {},
   "outputs": [
    {
     "ename": "NameError",
     "evalue": "name 'input_list' is not defined",
     "output_type": "error",
     "traceback": [
      "\u001b[0;31m---------------------------------------------------------------------------\u001b[0m",
      "\u001b[0;31mNameError\u001b[0m                                 Traceback (most recent call last)",
      "\u001b[0;32m<ipython-input-1-6198ade3f40f>\u001b[0m in \u001b[0;36m<module>\u001b[0;34m\u001b[0m\n\u001b[0;32m----> 1\u001b[0;31m \u001b[0mmass_lambda_v0\u001b[0m \u001b[0;34m=\u001b[0m \u001b[0minput_list\u001b[0m\u001b[0;34m.\u001b[0m\u001b[0mFindObject\u001b[0m\u001b[0;34m(\u001b[0m\u001b[0;34m\"fInvMassLambdaV0\"\u001b[0m\u001b[0;34m)\u001b[0m\u001b[0;34m\u001b[0m\u001b[0;34m\u001b[0m\u001b[0m\n\u001b[0m\u001b[1;32m      2\u001b[0m \u001b[0mmass_antilambda_v0\u001b[0m \u001b[0;34m=\u001b[0m \u001b[0minput_list\u001b[0m\u001b[0;34m.\u001b[0m\u001b[0mFindObject\u001b[0m\u001b[0;34m(\u001b[0m\u001b[0;34m\"fInvMassAntiLambdaV0\"\u001b[0m\u001b[0;34m)\u001b[0m\u001b[0;34m\u001b[0m\u001b[0;34m\u001b[0m\u001b[0m\n\u001b[1;32m      3\u001b[0m \u001b[0;34m\u001b[0m\u001b[0m\n\u001b[1;32m      4\u001b[0m \u001b[0mmass_lambda_resonance\u001b[0m \u001b[0;34m=\u001b[0m \u001b[0minput_list\u001b[0m\u001b[0;34m.\u001b[0m\u001b[0mFindObject\u001b[0m\u001b[0;34m(\u001b[0m\u001b[0;34m\"fInvMassLambdaResonance\"\u001b[0m\u001b[0;34m)\u001b[0m\u001b[0;34m\u001b[0m\u001b[0;34m\u001b[0m\u001b[0m\n\u001b[1;32m      5\u001b[0m \u001b[0mmass_antilambda_resonance\u001b[0m \u001b[0;34m=\u001b[0m \u001b[0minput_list\u001b[0m\u001b[0;34m.\u001b[0m\u001b[0mFindObject\u001b[0m\u001b[0;34m(\u001b[0m\u001b[0;34m\"fInvMassAntiLambdaResonance\"\u001b[0m\u001b[0;34m)\u001b[0m\u001b[0;34m\u001b[0m\u001b[0;34m\u001b[0m\u001b[0m\n",
      "\u001b[0;31mNameError\u001b[0m: name 'input_list' is not defined"
     ]
    }
   ],
   "source": [
    "mass_lambda_v0 = input_list.FindObject(\"fInvMassLambdaV0\")\n",
    "mass_antilambda_v0 = input_list.FindObject(\"fInvMassAntiLambdaV0\")\n",
    "\n",
    "mass_lambda_resonance = input_list.FindObject(\"fInvMassLambdaResonance\")\n",
    "mass_antilambda_resonance = input_list.FindObject(\"fInvMassAntiLambdaResonance\")\n",
    "\n",
    "mass_lambda_real = input_list.FindObject(\"fInvMassLambdaReal\")\n",
    "mass_antilambda_real = input_list.FindObject(\"fInvMassAntiLambdaReal\")\n",
    "\n",
    "mass_lambda_difference = input_list.FindObject(\"fInvMassLambdaDifference\")"
   ]
  },
  {
   "cell_type": "code",
   "execution_count": 2,
   "metadata": {},
   "outputs": [
    {
     "ename": "NameError",
     "evalue": "name 'mass_lambda_v0' is not defined",
     "output_type": "error",
     "traceback": [
      "\u001b[0;31m---------------------------------------------------------------------------\u001b[0m",
      "\u001b[0;31mNameError\u001b[0m                                 Traceback (most recent call last)",
      "\u001b[0;32m<ipython-input-2-78783142107b>\u001b[0m in \u001b[0;36m<module>\u001b[0;34m\u001b[0m\n\u001b[0;32m----> 1\u001b[0;31m \u001b[0mmass_lambda_v0\u001b[0m\u001b[0;34m.\u001b[0m\u001b[0mSetTitle\u001b[0m\u001b[0;34m(\u001b[0m\u001b[0;34m\"#Lambda^{0} mass using offline V0 finder;#Lambda^{0} mass [GeV/c^{2}];Entries\"\u001b[0m\u001b[0;34m)\u001b[0m\u001b[0;34m\u001b[0m\u001b[0;34m\u001b[0m\u001b[0m\n\u001b[0m\u001b[1;32m      2\u001b[0m \u001b[0mmass_antilambda_v0\u001b[0m\u001b[0;34m.\u001b[0m\u001b[0mSetTitle\u001b[0m\u001b[0;34m(\u001b[0m\u001b[0;34m\"#bar{#Lambda^{0}} mass using offline V0 finder;#bar{#Lambda^{0}} mass [GeV/c^{2}];Entries\"\u001b[0m\u001b[0;34m)\u001b[0m\u001b[0;34m\u001b[0m\u001b[0;34m\u001b[0m\u001b[0m\n\u001b[1;32m      3\u001b[0m \u001b[0;34m\u001b[0m\u001b[0m\n\u001b[1;32m      4\u001b[0m \u001b[0mmass_lambda_resonance\u001b[0m\u001b[0;34m.\u001b[0m\u001b[0mSetTitle\u001b[0m\u001b[0;34m(\u001b[0m\u001b[0;34m\"#Lambda^{0} mass using resonance technique;#Lambda^{0} mass [GeV/c^{2}];Entries\"\u001b[0m\u001b[0;34m)\u001b[0m\u001b[0;34m\u001b[0m\u001b[0;34m\u001b[0m\u001b[0m\n\u001b[1;32m      5\u001b[0m \u001b[0mmass_antilambda_resonance\u001b[0m\u001b[0;34m.\u001b[0m\u001b[0mSetTitle\u001b[0m\u001b[0;34m(\u001b[0m\u001b[0;34m\"#bar{#Lambda^{0}} mass using resonance technique;#bar{#Lambda^{0}} mass [GeV/c^{2}];Entries\"\u001b[0m\u001b[0;34m)\u001b[0m\u001b[0;34m\u001b[0m\u001b[0;34m\u001b[0m\u001b[0m\n",
      "\u001b[0;31mNameError\u001b[0m: name 'mass_lambda_v0' is not defined"
     ]
    }
   ],
   "source": [
    "mass_lambda_v0.SetTitle(\"#Lambda^{0} (blue) + #bar{#Lambda^{0}} (purple) mass using offline V0 finder;#Lambda^{0} mass [GeV/c^{2}];Entries\")\n",
    "\n",
    "mass_lambda_resonance.SetTitle(\"#Lambda^{0} (blue) + #bar{#Lambda^{0}} (purple) mass using resonance technique;#Lambda^{0} mass [GeV/c^{2}];Entries\")\n",
    "\n",
    "mass_lambda_real.SetTitle(\"#Lambda^{0} mass (real)} mass [GeV/c^{2}];Entries\")\n",
    "mass_antilambda_real.SetTitle(\"#bar{#Lambda^{0}} mass (real);#bar{#Lambda^{0}} mass [GeV/c^{2}];Entries\")\n",
    "\n",
    "mass_lambda_difference.SetTitle(\"#Lambda^{0} mass difference (V0 - resonance);#Lambda^{0} mass [GeV/c^{2}];Entries\")"
   ]
  },
  {
   "cell_type": "code",
   "execution_count": 3,
   "metadata": {},
   "outputs": [
    {
     "ename": "NameError",
     "evalue": "name 'mass_lambda_v0' is not defined",
     "output_type": "error",
     "traceback": [
      "\u001b[0;31m---------------------------------------------------------------------------\u001b[0m",
      "\u001b[0;31mNameError\u001b[0m                                 Traceback (most recent call last)",
      "\u001b[0;32m<ipython-input-3-6a55d7955460>\u001b[0m in \u001b[0;36m<module>\u001b[0;34m\u001b[0m\n\u001b[0;32m----> 1\u001b[0;31m \u001b[0mmass_lambda_v0\u001b[0m\u001b[0;34m.\u001b[0m\u001b[0mSumw2\u001b[0m\u001b[0;34m(\u001b[0m\u001b[0;34m)\u001b[0m\u001b[0;34m\u001b[0m\u001b[0;34m\u001b[0m\u001b[0m\n\u001b[0m\u001b[1;32m      2\u001b[0m \u001b[0mmass_antilambda_v0\u001b[0m\u001b[0;34m.\u001b[0m\u001b[0mSumw2\u001b[0m\u001b[0;34m(\u001b[0m\u001b[0;34m)\u001b[0m\u001b[0;34m\u001b[0m\u001b[0;34m\u001b[0m\u001b[0m\n\u001b[1;32m      3\u001b[0m \u001b[0mmass_lambda_resonance\u001b[0m\u001b[0;34m.\u001b[0m\u001b[0mSumw2\u001b[0m\u001b[0;34m(\u001b[0m\u001b[0;34m)\u001b[0m\u001b[0;34m\u001b[0m\u001b[0;34m\u001b[0m\u001b[0m\n\u001b[1;32m      4\u001b[0m \u001b[0mmass_antilambda_resonance\u001b[0m\u001b[0;34m.\u001b[0m\u001b[0mSumw2\u001b[0m\u001b[0;34m(\u001b[0m\u001b[0;34m)\u001b[0m\u001b[0;34m\u001b[0m\u001b[0;34m\u001b[0m\u001b[0m\n\u001b[1;32m      5\u001b[0m \u001b[0mmass_lambda_real\u001b[0m\u001b[0;34m.\u001b[0m\u001b[0mSumw2\u001b[0m\u001b[0;34m(\u001b[0m\u001b[0;34m)\u001b[0m\u001b[0;34m\u001b[0m\u001b[0;34m\u001b[0m\u001b[0m\n",
      "\u001b[0;31mNameError\u001b[0m: name 'mass_lambda_v0' is not defined"
     ]
    }
   ],
   "source": [
    "mass_lambda_v0.Sumw2()\n",
    "mass_antilambda_v0.Sumw2()\n",
    "mass_lambda_resonance.Sumw2()\n",
    "mass_antilambda_resonance.Sumw2()\n",
    "mass_lambda_real.Sumw2()\n",
    "mass_antilambda_real.Sumw2()\n",
    "mass_lambda_difference.Sumw2()"
   ]
  }
 ],
 "metadata": {
  "interpreter": {
   "hash": "dc3bd6f5b32e4f93a64df3e5a2860866c10127abb21699bbbf8f13d24d4fcd18"
  },
  "kernelspec": {
   "display_name": "Python 3.6.9 64-bit ('python-modules': venv)",
   "language": "python",
   "name": "python3"
  },
  "language_info": {
   "codemirror_mode": {
    "name": "ipython",
    "version": 3
   },
   "file_extension": ".py",
   "mimetype": "text/x-python",
   "name": "python",
   "nbconvert_exporter": "python",
   "pygments_lexer": "ipython3",
   "version": "3.6.9"
  },
  "orig_nbformat": 4
 },
 "nbformat": 4,
 "nbformat_minor": 2
}
