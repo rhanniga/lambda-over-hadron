{
 "cells": [
  {
   "cell_type": "code",
   "execution_count": 2,
   "metadata": {},
   "outputs": [
    {
     "name": "stdout",
     "output_type": "stream",
     "text": [
      "Welcome to JupyROOT 6.26/04\n"
     ]
    }
   ],
   "source": [
    "import ROOT as rt"
   ]
  },
  {
   "cell_type": "code",
   "execution_count": 7,
   "metadata": {},
   "outputs": [
    {
     "name": "stderr",
     "output_type": "stream",
     "text": [
      "Warning in <TCanvas::Constructor>: Deleting canvas with same name: main_canvas\n"
     ]
    }
   ],
   "source": [
    "c = rt.TCanvas(\"main_canvas\", \"Main Canvas\", 0, 10, 800, 600)"
   ]
  },
  {
   "cell_type": "code",
   "execution_count": 8,
   "metadata": {},
   "outputs": [],
   "source": [
    "ifile = rt.TFile(\"~/Wonderland/native/research/lambda-over-hadron/mc/online/closetrack/AnalysisResults.root\")\n",
    "ilist = ifile.Get(\"h-lambda\")"
   ]
  },
  {
   "cell_type": "code",
   "execution_count": 13,
   "metadata": {},
   "outputs": [],
   "source": [
    "hproton_reco = ilist.FindObject(\"fRecoHProton\")\n",
    "hproton_real = ilist.FindObject(\"fRealHProton\")\n",
    "hproton_recomixed = ilist.FindObject(\"fRecoHProtonMixed\")\n",
    "hproton_realmixed = ilist.FindObject(\"fRealHProtonMixed\")"
   ]
  },
  {
   "cell_type": "code",
   "execution_count": 43,
   "metadata": {},
   "outputs": [],
   "source": [
    "hproton_reco.GetAxis(0).SetRangeUser(0, 0)\n",
    "hproton_real.GetAxis(0).SetRangeUser(0, 0)\n",
    "hproton_recomixed.GetAxis(0).SetRangeUser(0, 0)\n",
    "hproton_realmixed.GetAxis(0).SetRangeUser(0, 0)"
   ]
  },
  {
   "cell_type": "code",
   "execution_count": 44,
   "metadata": {},
   "outputs": [
    {
     "name": "stderr",
     "output_type": "stream",
     "text": [
      "Warning in <TFile::Append>: Replacing existing TH1: fRecoHProton_proj_1 (Potential memory leak).\n",
      "Warning in <TFile::Append>: Replacing existing TH1: fRealHProton_proj_1 (Potential memory leak).\n",
      "Warning in <TFile::Append>: Replacing existing TH1: fRecoHProtonMixed_proj_1 (Potential memory leak).\n",
      "Warning in <TFile::Append>: Replacing existing TH1: fRealHProtonMixed_proj_1 (Potential memory leak).\n"
     ]
    }
   ],
   "source": [
    "hproton_reco_mindist = hproton_reco.Projection(1).Clone(\"hproton_reco_mindist\")\n",
    "hproton_real_mindist = hproton_real.Projection(1).Clone(\"hproton_real_mindist\")\n",
    "hproton_recomixed_mindist = hproton_recomixed.Projection(1).Clone(\"hproton_recomixed_mindist\")\n",
    "hproton_realmixed_mindist = hproton_realmixed.Projection(1).Clone(\"hproton_realmixed_mindist\")\n",
    "# hproton_reco_mindist.Rebin(10)\n",
    "# hproton_real_mindist.Rebin(10)\n",
    "# hproton_recomixed_mindist.Rebin(10)\n",
    "# hproton_realmixed_mindist.Rebin(10)"
   ]
  },
  {
   "cell_type": "code",
   "execution_count": null,
   "metadata": {},
   "outputs": [],
   "source": []
  },
  {
   "cell_type": "code",
   "execution_count": 45,
   "metadata": {},
   "outputs": [],
   "source": [
    "hproton_reco_mindist.Scale(1/hproton_reco_mindist.Integral())\n",
    "hproton_real_mindist.Scale(1/hproton_real_mindist.Integral())\n",
    "hproton_recomixed_mindist.Scale(1/hproton_recomixed_mindist.Integral())\n",
    "hproton_realmixed_mindist.Scale(1/hproton_realmixed_mindist.Integral())"
   ]
  },
  {
   "cell_type": "code",
   "execution_count": 47,
   "metadata": {},
   "outputs": [
    {
     "data": {
      "image/png": "[encoded data removed]",
      "text/plain": [
       "<IPython.core.display.Image object>"
      ]
     },
     "metadata": {},
     "output_type": "display_data"
    }
   ],
   "source": [
    "hproton_reco_mindist.SetLineColor(rt.kBlue)\n",
    "hproton_real_mindist.SetLineColor(rt.kRed)\n",
    "hproton_reco_mindist.Scale(hproton_real_mindist.Integral(4, 4)/hproton_reco_mindist.Integral(4, 4))\n",
    "hproton_real_mindist.Draw()\n",
    "hproton_reco_mindist.Draw(\"SAME\")\n",
    "c.Draw()"
   ]
  },
  {
   "cell_type": "code",
   "execution_count": null,
   "metadata": {},
   "outputs": [],
   "source": []
  }
 ],
 "metadata": {
  "interpreter": {
   "hash": "7834ffce9bc33b3f62fd1a13131d3644d4e4981812c242eb91cf9932f9ae5741"
  },
  "kernelspec": {
   "display_name": "Python 3.9.12 64-bit",
   "language": "python",
   "name": "python3"
  },
  "language_info": {
   "codemirror_mode": {
    "name": "ipython",
    "version": 3
   },
   "file_extension": ".py",
   "mimetype": "text/x-python",
   "name": "python",
   "nbconvert_exporter": "python",
   "pygments_lexer": "ipython3",
   "version": "3.9.12"
  },
  "orig_nbformat": 4
 },
 "nbformat": 4,
 "nbformat_minor": 2
}
