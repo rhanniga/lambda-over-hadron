{
 "cells": [
  {
   "cell_type": "code",
   "execution_count": 11,
   "metadata": {},
   "outputs": [],
   "source": [
    "import ROOT as rt"
   ]
  },
  {
   "cell_type": "code",
   "execution_count": 9,
   "metadata": {},
   "outputs": [
    {
     "name": "stderr",
     "output_type": "stream",
     "text": [
      "Warning in <TCanvas::Constructor>: Deleting canvas with same name: main_canvas\n"
     ]
    }
   ],
   "source": [
    "canvas = rt.TCanvas(\"main_canvas\", \"Main Canvas\", 0, 10, 800, 600)"
   ]
  },
  {
   "cell_type": "code",
   "execution_count": 10,
   "metadata": {},
   "outputs": [],
   "source": [
    "ifile = rt.TFile(\"~/Wonderland/native/research/lambda-over-hadron/mc/online/closetrack/AnalysisResults.root\")\n",
    "ilist = ifile.Get(\"h-lambda\")"
   ]
  },
  {
   "cell_type": "code",
   "execution_count": null,
   "metadata": {},
   "outputs": [],
   "source": [
    "hproton_reco = ilist.FindObject(\"fRecoHProton\")\n",
    "hproton_real = ilist.FindObject(\"fRealHProton\")\n",
    "hproton_recomixed = ilist.FindObject(\"fRecoHProton_mixed\")\n",
    "hproton_realmixed = ilist.FindObject(\"fRealHProton_mixed\")"
   ]
  }
 ],
 "metadata": {
  "interpreter": {
   "hash": "7834ffce9bc33b3f62fd1a13131d3644d4e4981812c242eb91cf9932f9ae5741"
  },
  "kernelspec": {
   "display_name": "Python 3.9.12 64-bit",
   "language": "python",
   "name": "python3"
  },
  "language_info": {
   "codemirror_mode": {
    "name": "ipython",
    "version": 3
   },
   "file_extension": ".py",
   "mimetype": "text/x-python",
   "name": "python",
   "nbconvert_exporter": "python",
   "pygments_lexer": "ipython3",
   "version": "3.9.12"
  },
  "orig_nbformat": 4
 },
 "nbformat": 4,
 "nbformat_minor": 2
}
