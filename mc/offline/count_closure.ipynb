{
 "cells": [
  {
   "cell_type": "code",
   "execution_count": 1,
   "metadata": {},
   "outputs": [
    {
     "name": "stdout",
     "output_type": "stream",
     "text": [
      "Welcome to JupyROOT 6.24/06\n"
     ]
    }
   ],
   "source": [
    "import ROOT as rt\n",
    "import array as arr\n",
    "import math\n",
    "\n",
    "from strangehelper import get_parabola, make_mixed_corrections"
   ]
  },
  {
   "cell_type": "code",
   "execution_count": 2,
   "metadata": {},
   "outputs": [],
   "source": [
    "rt.gStyle.SetOptStat(0)"
   ]
  },
  {
   "cell_type": "code",
   "execution_count": 3,
   "metadata": {},
   "outputs": [],
   "source": [
    "# epsilon used to avoid bin edge nightmares (if you pick a value that lies on bin edge, it defaults to right bin)\n",
    "EPSILON = 0.00001"
   ]
  },
  {
   "cell_type": "code",
   "execution_count": 4,
   "metadata": {},
   "outputs": [],
   "source": [
    "LAMBDA_PT_LOW = 2 \n",
    "LAMBDA_PT_HIGH = 4 - EPSILON"
   ]
  },
  {
   "cell_type": "code",
   "execution_count": 5,
   "metadata": {},
   "outputs": [],
   "source": [
    "SIG_MIN = 1.08 \n",
    "SIG_MAX = 1.16 - EPSILON"
   ]
  },
  {
   "cell_type": "code",
   "execution_count": 6,
   "metadata": {},
   "outputs": [],
   "source": [
    "c = rt.TCanvas(\"main_canvas\", \"Main Canvas\", 55, 55, 800, 600)\n",
    "c.SetRightMargin(0.05)\n",
    "c.SetLeftMargin(0.15)\n",
    "c.SetTopMargin(0.05)\n"
   ]
  },
  {
   "cell_type": "code",
   "execution_count": 7,
   "metadata": {},
   "outputs": [],
   "source": [
    "input_file = rt.TFile(\"../online/two/bg_comparisons.root\")\n",
    "input_list = input_file.Get(\"h-lambda\")"
   ]
  },
  {
   "cell_type": "code",
   "execution_count": 8,
   "metadata": {},
   "outputs": [],
   "source": [
    "lambda_dist = input_list.FindObject(\"fLambdaDist\")\n",
    "lambda_dist_bg = input_list.FindObject(\"fLambdaBGDist\")\n",
    "lambda_dist_rotated = input_list.FindObject(\"fLambdaRotatedDaughtersDist\")\n",
    "lambda_dist_ls = input_list.FindObject(\"fLambdaLSDaughtersDist\")\n",
    "lambda_dist_no_bg = input_list.FindObject(\"fLambdaDist_checkMC\")\n",
    "lambda_dist_mc = input_list.FindObject(\"fLambdaDist_MC\")"
   ]
  },
  {
   "cell_type": "code",
   "execution_count": 9,
   "metadata": {},
   "outputs": [],
   "source": [
    "# Setting the associated Pt (this is never changed again)\n",
    "lambda_dist.GetAxis(0).SetRangeUser(LAMBDA_PT_LOW, LAMBDA_PT_HIGH)\n",
    "lambda_dist_rotated.GetAxis(0).SetRangeUser(LAMBDA_PT_LOW, LAMBDA_PT_HIGH)\n",
    "lambda_dist_ls.GetAxis(0).SetRangeUser(LAMBDA_PT_LOW, LAMBDA_PT_HIGH)\n",
    "lambda_dist_no_bg.GetAxis(0).SetRangeUser(LAMBDA_PT_LOW, LAMBDA_PT_HIGH)\n",
    "lambda_dist_bg.GetAxis(0).SetRangeUser(LAMBDA_PT_LOW, LAMBDA_PT_HIGH)\n",
    "lambda_dist_mc.GetAxis(0).SetRangeUser(LAMBDA_PT_LOW, LAMBDA_PT_HIGH)"
   ]
  },
  {
   "cell_type": "markdown",
   "metadata": {},
   "source": [
    "### Signal analysis section"
   ]
  },
  {
   "cell_type": "code",
   "execution_count": 10,
   "metadata": {},
   "outputs": [],
   "source": [
    "# eta cuts first\n",
    "lambda_dist.GetAxis(2).SetRangeUser(-0.8, 0.8 - EPSILON)\n",
    "lambda_dist_rotated.GetAxis(2).SetRangeUser(-0.8, 0.8 - EPSILON)\n",
    "lambda_dist_ls.GetAxis(2).SetRangeUser(-0.8, 0.8 - EPSILON)\n",
    "lambda_dist_no_bg.GetAxis(2).SetRangeUser(-0.8, 0.8 - EPSILON)\n",
    "lambda_dist_bg.GetAxis(2).SetRangeUser(-0.8, 0.8 - EPSILON)\n",
    "lambda_dist_mc.GetAxis(2).SetRangeUser(-0.8, 0.8 - EPSILON)"
   ]
  },
  {
   "cell_type": "code",
   "execution_count": 11,
   "metadata": {},
   "outputs": [
    {
     "name": "stderr",
     "output_type": "stream",
     "text": [
      "Warning in <TFile::Append>: Replacing existing TH1: fLambdaDist_proj_3 (Potential memory leak).\n"
     ]
    }
   ],
   "source": [
    "lambda_mass_dist = lambda_dist.Projection(3).Clone(\"lambda_mass_dist\")\n",
    "lambda_mass_dist_rotated = lambda_dist_rotated.Projection(3).Clone(\"lambda_mass_dist_rotated\")\n",
    "lambda_mass_dist_ls = lambda_dist_ls.Projection(3).Clone(\"lambda_mass_dist_ls\")\n",
    "lambda_mass_dist_subtractedbg = lambda_dist.Projection(3).Clone(\"lambda_mass_dist_subtractedbg\")\n",
    "lambda_mass_dist_nobg = lambda_dist_no_bg.Projection(3).Clone(\"lambda_mass_dist_no_bg\")\n",
    "lambda_mass_dist_bg = lambda_dist_bg.Projection(3).Clone(\"lambda_mass_dist_bg\")\n",
    "lambda_mass_dist_mc = lambda_dist_mc.Projection(3).Clone(\"lambda_mass_mc\")"
   ]
  },
  {
   "cell_type": "code",
   "execution_count": 12,
   "metadata": {},
   "outputs": [],
   "source": [
    "RSB_LOW = 1.22\n",
    "RSB_HIGH = 1.26 - EPSILON\n",
    "\n",
    "rsb_lowbin = lambda_mass_dist.FindBin(RSB_LOW)\n",
    "rsb_highbin = lambda_mass_dist.FindBin(RSB_HIGH)\n",
    "\n",
    "lambda_mass_dist_rotated.Scale(lambda_mass_dist_bg.Integral(rsb_lowbin, rsb_highbin) / lambda_mass_dist_rotated.Integral(rsb_lowbin, rsb_highbin))\n",
    "lambda_mass_dist_ls.Scale(lambda_mass_dist_bg.Integral(rsb_lowbin, rsb_highbin) / lambda_mass_dist_ls.Integral(rsb_lowbin, rsb_highbin))"
   ]
  },
  {
   "cell_type": "code",
   "execution_count": 13,
   "metadata": {},
   "outputs": [
    {
     "data": {
      "text/plain": [
       "True"
      ]
     },
     "execution_count": 13,
     "metadata": {},
     "output_type": "execute_result"
    }
   ],
   "source": [
    "lambda_mass_dist_subtractedbg.Add(lambda_mass_dist_ls, -1)"
   ]
  },
  {
   "cell_type": "code",
   "execution_count": 28,
   "metadata": {},
   "outputs": [],
   "source": [
    "lambda_mass_dist.SetTitle(\"\")\n",
    "lambda_mass_dist.SetLineWidth(2)\n",
    "lambda_mass_dist.SetLineColor(rt.kBlack)\n",
    "lambda_mass_dist.SetMarkerStyle(20)\n",
    "lambda_mass_dist.SetMarkerSize(0.5)\n",
    "lambda_mass_dist.SetMarkerColor(rt.kBlack)\n",
    "lambda_mass_dist.GetXaxis().SetTitle(\"M_{p#pi} (GeV/c^{2})\")\n",
    "lambda_mass_dist.GetYaxis().SetTitleOffset(0)\n",
    "lambda_mass_dist.GetYaxis().SetLabelSize(0.03)\n",
    "lambda_mass_dist.GetYaxis().SetTitleSize(0.04)\n",
    "lambda_mass_dist.GetXaxis().SetTitleSize(0.04)\n",
    "lambda_mass_dist.GetYaxis().SetTitle(\"Counts (per 10 MeV)\")"
   ]
  },
  {
   "cell_type": "code",
   "execution_count": 15,
   "metadata": {},
   "outputs": [],
   "source": [
    "lambda_mass_dist_bg.SetLineWidth(2)\n",
    "lambda_mass_dist_bg.SetLineColor(rt.kRed)\n",
    "lambda_mass_dist_bg.SetMarkerStyle(20)\n",
    "lambda_mass_dist_bg.SetMarkerSize(0.5)\n",
    "lambda_mass_dist_bg.SetMarkerColor(rt.kRed)"
   ]
  },
  {
   "cell_type": "code",
   "execution_count": 16,
   "metadata": {},
   "outputs": [],
   "source": [
    "lambda_mass_dist_rotated.SetLineWidth(2)\n",
    "lambda_mass_dist_rotated.SetLineColor(rt.kOrange)\n",
    "lambda_mass_dist_rotated.SetMarkerStyle(20)\n",
    "lambda_mass_dist_rotated.SetMarkerSize(0.5)\n",
    "lambda_mass_dist_rotated.SetMarkerColor(rt.kOrange)"
   ]
  },
  {
   "cell_type": "code",
   "execution_count": 17,
   "metadata": {},
   "outputs": [],
   "source": [
    "lambda_mass_dist_ls.SetLineWidth(2)\n",
    "lambda_mass_dist_ls.SetLineColor(rt.kViolet - 6)\n",
    "lambda_mass_dist_ls.SetMarkerStyle(20)\n",
    "lambda_mass_dist_ls.SetMarkerSize(0.5)\n",
    "lambda_mass_dist_ls.SetMarkerColor(rt.kViolet - 6)"
   ]
  },
  {
   "cell_type": "code",
   "execution_count": 18,
   "metadata": {},
   "outputs": [],
   "source": [
    "lambda_mass_dist_nobg.SetLineWidth(2)\n",
    "lambda_mass_dist_nobg.SetLineColor(rt.kMagenta)\n",
    "lambda_mass_dist_nobg.SetMarkerStyle(20)\n",
    "lambda_mass_dist_nobg.SetMarkerSize(0.5)\n",
    "lambda_mass_dist_nobg.SetMarkerColor(rt.kMagenta)"
   ]
  },
  {
   "cell_type": "code",
   "execution_count": 27,
   "metadata": {},
   "outputs": [],
   "source": [
    "lambda_mass_dist_subtractedbg.SetLineWidth(2)\n",
    "lambda_mass_dist_subtractedbg.SetLineColor(rt.kGreen + 2)\n",
    "lambda_mass_dist_subtractedbg.SetMarkerStyle(20)\n",
    "lambda_mass_dist_subtractedbg.SetMarkerSize(0.5)\n",
    "lambda_mass_dist_subtractedbg.SetMarkerColor(rt.kGreen + 2)\n",
    "lambda_mass_dist_subtractedbg.SetTitle(\"\")\n",
    "lambda_mass_dist_subtractedbg.GetXaxis().SetTitle(\"M_{p#pi} (GeV/c^{2})\")\n",
    "lambda_mass_dist_subtractedbg.GetYaxis().SetTitleOffset(0)\n",
    "lambda_mass_dist_subtractedbg.GetYaxis().SetLabelSize(0.03)\n",
    "lambda_mass_dist_subtractedbg.GetYaxis().SetTitleSize(0.04)\n",
    "lambda_mass_dist_subtractedbg.GetXaxis().SetTitleSize(0.04)\n",
    "lambda_mass_dist_subtractedbg.GetYaxis().SetTitle(\"Counts (per 10 MeV)\")"
   ]
  },
  {
   "cell_type": "code",
   "execution_count": 29,
   "metadata": {},
   "outputs": [
    {
     "data": {
      "text/plain": [
       "<cppyy.gbl.TLegendEntry object at 0x1d96c730>"
      ]
     },
     "execution_count": 29,
     "metadata": {},
     "output_type": "execute_result"
    }
   ],
   "source": [
    "mass_legend = rt.TLegend(0.5, 0.3, 0.8, 0.5)\n",
    "mass_legend.SetBorderSize(0)\n",
    "mass_legend.SetFillStyle(0)\n",
    "mass_legend.AddEntry(lambda_mass_dist, \"Total (sig. + comb. BG)\", \"lp\")\n",
    "mass_legend.AddEntry(lambda_mass_dist_bg, \"p-#pi comb. BG\", \"lp\")\n",
    "# # mass_legend.AddEntry(lambda_mass_dist_rotated, \"Rotated p-#pi BG\", \"lp\")\n",
    "# # mass_legend.AddEntry(lambda_mass_dist_ls, \"Like-sign p-#pi BG\", \"lp\")\n",
    "# mass_legend.AddEntry(lambda_mass_dist_nobg, \"Raw signal (p-#pi from same #Lambda)\", \"lp\")\n",
    "# mass_legend.AddEntry(lambda_mass_dist_subtractedbg, \"Extracted signal (Total - LS daughter BG)\", \"lp\")"
   ]
  },
  {
   "cell_type": "code",
   "execution_count": 30,
   "metadata": {},
   "outputs": [
    {
     "name": "stderr",
     "output_type": "stream",
     "text": [
      "Info in <TCanvas::Print>: pdf file lambda_mass_mc_real_bg.pdf has been created\n"
     ]
    },
    {
     "data": {
      "image/png": "[encoded data removed]",
      "text/plain": [
       "<IPython.core.display.Image object>"
      ]
     },
     "metadata": {},
     "output_type": "display_data"
    }
   ],
   "source": [
    "lambda_mass_dist.GetXaxis().SetRangeUser(1.06, 1.2)\n",
    "lambda_mass_dist.Draw()\n",
    "lambda_mass_dist_bg.Draw(\"same\")\n",
    "# lambda_mass_dist_subtractedbg.Draw()\n",
    "# lambda_mass_dist_nobg.Draw(\"same\")\n",
    "# lambda_mass_dist_rotated.Draw(\"same\")\n",
    "# lambda_mass_dist_ls.Draw(\"same\")\n",
    "mass_legend.Draw(\"same\")\n",
    "\n",
    "alice_data_label = rt.TLatex()\n",
    "alice_data_label.SetNDC()\n",
    "# alice_data_label.SetTextSize(0.03)\n",
    "# alice_data_label.SetTextAlign(13)\n",
    "# alice_data_label.DrawLatex(0.45, 0.93, \"ALICE MonteCarlo Sample\")\n",
    "# alice_data_label.DrawLatex(0.45, 0.90, \"#bf{p-Pb #sqrt{s_{NN}} = 5.02 TeV}\")\n",
    "# alice_data_label.DrawLatex(0.45, 0.86, \"#bf{20-50% centrality}\")\n",
    "# alice_data_label.DrawLatex(0.45, 0.835, \"#bf{#Lambda #rightarrow p#pi^{-} (#bar{#Lambda} #rightarrow #bar{p}#pi^{+})}\")\n",
    "# alice_data_label.DrawLatex(0.45, 0.79, \"#bf{2.0 < #it{p}_{T} < 4.0 GeV/c}\")\n",
    "\n",
    "\n",
    "\n",
    "c.Draw()\n",
    "c.SaveAs(\"lambda_mass_mc_real_bg.pdf\")"
   ]
  },
  {
   "cell_type": "code",
   "execution_count": null,
   "metadata": {},
   "outputs": [],
   "source": [
    "mc_template_outfile = rt.TFile(\"mc_templates.root\", \"RECREATE\")\n",
    "mc_template_outfile.cd()\n",
    "lambda_mass_dist.Write(\"lambda_mass_dist\")\n",
    "lambda_mass_dist_nobg.Write(\"lambda_mass_dist_nobg\")"
   ]
  },
  {
   "cell_type": "code",
   "execution_count": 28,
   "metadata": {},
   "outputs": [],
   "source": [
    "lambda_mass_dist_nobg.SetLineWidth(2)"
   ]
  },
  {
   "cell_type": "code",
   "execution_count": 81,
   "metadata": {},
   "outputs": [],
   "source": [
    "lambda_mass_dist_mc.SetLineWidth(2)"
   ]
  },
  {
   "cell_type": "code",
   "execution_count": 76,
   "metadata": {
    "scrolled": false
   },
   "outputs": [
    {
     "name": "stdout",
     "output_type": "stream",
     "text": [
      "243707.57878375053\n",
      "243201.0\n"
     ]
    }
   ],
   "source": [
    "print(lambda_mass_dist_nobg.Integral())\n",
    "print(lambda_mass_dist_mc.Integral())"
   ]
  },
  {
   "cell_type": "code",
   "execution_count": 77,
   "metadata": {},
   "outputs": [
    {
     "name": "stderr",
     "output_type": "stream",
     "text": [
      "Error in <TH1D::Add>: Attempt to add histograms with different number of bins : nbins h1 = 100 , nbins h2 =  200\n"
     ]
    },
    {
     "data": {
      "image/png": "[encoded data removed]",
      "text/plain": [
       "<IPython.core.display.Image object>"
      ]
     },
     "metadata": {},
     "output_type": "display_data"
    }
   ],
   "source": [
    "\n",
    "lambda_mass_dist.GetXaxis().SetRangeUser(1.06, 1.26)\n",
    "lambda_mass_dist.Add(lambda_mass_dist_bg, -1)\n",
    "lambda_mass_dist_bg.SetLineColor(rt.kRed)\n",
    "lambda_mass_dist_bg.Draw(\"SAME\")\n",
    "c.Draw()"
   ]
  },
  {
   "cell_type": "code",
   "execution_count": 87,
   "metadata": {},
   "outputs": [
    {
     "name": "stdout",
     "output_type": "stream",
     "text": [
      "0.8199415575936458\n"
     ]
    }
   ],
   "source": [
    "left_bin = lambda_mass_dist_nobg.FindBin(SIG_MIN)\n",
    "right_bin = lambda_mass_dist_nobg.FindBin(SIG_MAX)\n",
    "range_integral = lambda_mass_dist_nobg.Integral(left_bin, right_bin)\n",
    "print(range_integral/lambda_mass_dist_nobg.Integral())\n"
   ]
  },
  {
   "cell_type": "code",
   "execution_count": 84,
   "metadata": {},
   "outputs": [],
   "source": [
    "bin_1 = lambda_mass_dist_0_20.FindBin(1.09)\n",
    "bin_2 = lambda_mass_dist_0_20.FindBin(1.15)\n",
    "bin_3 = lambda_mass_dist_0_20.FindBin(1.16 - EPSILON)\n",
    "point_one = [1.09, lambda_mass_dist_0_20.GetBinContent(bin_1)]\n",
    "point_two = [1.15, lambda_mass_dist_0_20.GetBinContent(bin_2)]\n",
    "point_three = [1.16, lambda_mass_dist_0_20.GetBinContent(bin_3)]\n",
    "bg_starting_params_0_20 = get_parabola(point_one, point_two, point_three)"
   ]
  },
  {
   "cell_type": "code",
   "execution_count": 85,
   "metadata": {},
   "outputs": [],
   "source": [
    "lambda_mass_fit_0_20 = rt.TF1(\"lambda_mass_fit_0_20\", \"[0]*TMath::Voigt(x - [1], [2], [3], 4) + pol2(4)\", 1.09, 1.155)\n",
    "lambda_mass_fit_0_20.SetNpx(1000)\n",
    "lambda_mass_fit_0_20.SetParameter(0, 1.36753e00)\n",
    "lambda_mass_fit_0_20.SetParameter(1, 1.116)\n",
    "lambda_mass_fit_0_20.SetParameter(2, 1.00576e-03)\n",
    "lambda_mass_fit_0_20.SetParameter(3, 6.04166e-03)\n",
    "lambda_mass_fit_0_20.SetParameter(4, bg_starting_params_0_20[0])\n",
    "lambda_mass_fit_0_20.SetParameter(5, bg_starting_params_0_20[1])\n",
    "lambda_mass_fit_0_20.SetParameter(6, bg_starting_params_0_20[2])"
   ]
  },
  {
   "cell_type": "code",
   "execution_count": 110,
   "metadata": {
    "scrolled": true
   },
   "outputs": [
    {
     "name": "stdout",
     "output_type": "stream",
     "text": [
      " FCN=270.975 FROM HESSE     STATUS=NOT POSDEF     50 CALLS         940 TOTAL\n",
      "                     EDM=3.15295e-08    STRATEGY= 1      ERR MATRIX NOT POS-DEF\n",
      "  EXT PARAMETER                APPROXIMATE        STEP         FIRST   \n",
      "  NO.   NAME      VALUE            ERROR          SIZE      DERIVATIVE \n",
      "   1  p0           4.82089e+02   1.72575e+00   2.41911e-03  -3.41850e-06\n",
      "   2  p1           1.11597e+00   6.53078e-06   2.66069e-07  -7.32412e+00\n",
      "   3  p2           1.35724e-03   1.36129e-05   1.15033e-08   6.11700e+00\n",
      "   4  p3           1.45538e-03   2.72875e-05   2.03759e-08  -6.57835e+00\n",
      "   5  p4           1.22903e+05   1.71943e+02   2.93024e-02  -1.65521e-05\n",
      "   6  p5          -2.44105e+05   1.64761e+02   5.81992e-02  -1.84079e-05\n",
      "   7  p6           1.21283e+05   1.36703e+02   2.89162e-02  -2.04761e-05\n"
     ]
    },
    {
     "data": {
      "image/png": "[encoded data removed]",
      "text/plain": [
       "<IPython.core.display.Image object>"
      ]
     },
     "metadata": {},
     "output_type": "display_data"
    }
   ],
   "source": [
    "lambda_mass_dist_fit_0_20 = lambda_mass_dist_0_20.Clone(\"lambda_mass_dist_fit_0_20\")\n",
    "lambda_mass_dist_fit_0_20.Fit(lambda_mass_fit_0_20, \"RS\")\n",
    "lambda_mass_dist_fit_0_20.Draw()\n",
    "c.Draw()"
   ]
  },
  {
   "cell_type": "code",
   "execution_count": 111,
   "metadata": {
    "scrolled": true
   },
   "outputs": [
    {
     "data": {
      "image/png": "[encoded data removed]",
      "text/plain": [
       "<IPython.core.display.Image object>"
      ]
     },
     "metadata": {},
     "output_type": "display_data"
    }
   ],
   "source": [
    "bg_fit_0_20 = rt.TF1(\"bg_fit_0_20\", \"pol2\", 1.09, 1.15)\n",
    "bg_fit_0_20.SetParameter(0, lambda_mass_fit_0_20.GetParameter(4))\n",
    "bg_fit_0_20.SetParameter(1, lambda_mass_fit_0_20.GetParameter(5))\n",
    "bg_fit_0_20.SetParameter(2, lambda_mass_fit_0_20.GetParameter(6))\n",
    "bg_fit_0_20.SetNpx(1000)\n",
    "bg_fit_0_20.SetLineColor(rt.kMagenta)\n",
    "bg_fit_0_20.Draw(\"SAME\")\n",
    "c.Draw()"
   ]
  },
  {
   "cell_type": "code",
   "execution_count": 112,
   "metadata": {},
   "outputs": [
    {
     "name": "stdout",
     "output_type": "stream",
     "text": [
      "The 0-20 lambda signal is: 231909.84014286828\n",
      "The 0-20 lambda background is: 20389.95894143748\n",
      "The 0-20 lambda S/B is: 11.373727667080765\n",
      "The 0-20 lambda S/T is: 0.9191836100724591\n",
      "The 0-20 lambda significance is: 461.7009032629767\n"
     ]
    }
   ],
   "source": [
    "left_signal_bin_0_20 = lambda_mass_dist_fit_0_20.FindBin(SIG_MIN)\n",
    "right_signal_bin_0_20 = lambda_mass_dist_fit_0_20.FindBin(SIG_MAX)\n",
    "\n",
    "lambda_bg_0_20 = 0\n",
    "lambda_total_0_20 = 0\n",
    "for bin_num in range(left_signal_bin_0_20, right_signal_bin_0_20 + 1):\n",
    "    bin_center = lambda_mass_dist_fit_0_20.GetBinCenter(bin_num)\n",
    "    lambda_bg_0_20 += bg_fit_0_20.Eval(bin_center)\n",
    "    lambda_total_0_20 += lambda_mass_dist_fit_0_20.GetBinContent(bin_num)\n",
    "\n",
    "lambda_signal_0_20 = lambda_total_0_20 - lambda_bg_0_20\n",
    "lambda_signal_total_ratio_0_20 = lambda_signal_0_20/lambda_total_0_20\n",
    "lambda_signal_bg_ratio_0_20 = lambda_signal_0_20/lambda_bg_0_20\n",
    "print(f\"The 0-20 lambda signal is: {lambda_signal_0_20}\")\n",
    "print(f\"The 0-20 lambda background is: {lambda_bg_0_20}\")\n",
    "print(f\"The 0-20 lambda S/B is: {lambda_signal_bg_ratio_0_20}\")\n",
    "print(f\"The 0-20 lambda S/T is: {lambda_signal_total_ratio_0_20}\")\n",
    "print(f\"The 0-20 lambda significance is: {lambda_signal_0_20/math.sqrt(lambda_signal_0_20 + lambda_bg_0_20)}\")"
   ]
  },
  {
   "cell_type": "code",
   "execution_count": null,
   "metadata": {},
   "outputs": [],
   "source": []
  }
 ],
 "metadata": {
  "kernelspec": {
   "display_name": "Python 3.6.9 64-bit",
   "language": "python",
   "name": "python3"
  },
  "language_info": {
   "codemirror_mode": {
    "name": "ipython",
    "version": 3
   },
   "file_extension": ".py",
   "mimetype": "text/x-python",
   "name": "python",
   "nbconvert_exporter": "python",
   "pygments_lexer": "ipython3",
   "version": "3.6.9"
  },
  "vscode": {
   "interpreter": {
    "hash": "31f2aee4e71d21fbe5cf8b01ff0e069b9275f58929596ceb00d14d90e3e16cd6"
   }
  }
 },
 "nbformat": 4,
 "nbformat_minor": 2
}
